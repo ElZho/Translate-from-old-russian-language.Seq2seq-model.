{
  "cells": [
    {
      "cell_type": "markdown",
      "metadata": {
        "id": "view-in-github",
        "colab_type": "text"
      },
      "source": [
        "<a href=\"https://colab.research.google.com/github/ElZho/Translate-from-old-russian-language.Seq2seq-model./blob/main/Seq2Seq_translation_final_scheduler.ipynb\" target=\"_parent\"><img src=\"https://colab.research.google.com/assets/colab-badge.svg\" alt=\"Open In Colab\"/></a>"
      ]
    },
    {
      "cell_type": "markdown",
      "metadata": {
        "id": "zYeqq_GlcIrN"
      },
      "source": [
        "**Sources:**\n",
        "\n",
        "Baseline - [Pytorch tutorial](https://pytorch.org/tutorials/intermediate/seq2seq_translation_tutorial)\n",
        "\n",
        "Embeddings -https://medium.com/@martinpella/how-to-use-pre-trained-word-embeddings-in-pytorch-71ca59249f76\n",
        "\n",
        "https://python-school.ru/blog/word2vec-with-examples-in-gensim/\n",
        "\n",
        "Dataloader https://pytorch.org/docs/stable/data.html#torch.utils.data.DataLoader\n",
        "\n",
        "Self attention and pad_packed_sequence https://discuss.pytorch.org/t/self-attention-on-words-and-masking/5671\n",
        "\n",
        "https://pytorch.org/docs/stable/generated/torch.nn.utils.rnn.pack_padded_sequence.html\n",
        "\n",
        "scheduler https://pytorch.org/docs/stable/generated/torch.optim.lr_scheduler.ReduceLROnPlateau.html"
      ]
    },
    {
      "cell_type": "markdown",
      "source": [
        "In this notebook I try to use scheduler:\n",
        "1. **I choose scheduler**, which can change learning rate due to loss result. It check loss changes during the training and make step if loss stop to improve.\n",
        "\n",
        "*torch.optim.lr_scheduler.ReduceLROnPlateau(optimizer, mode='min', factor=0.1, patience=10, threshold=0.0001, threshold_mode='rel', cooldown=0, min_lr=0, eps=1e-08, verbose=False)*\n",
        "\n",
        "It has lots of configurable parametrs.\n"
      ],
      "metadata": {
        "id": "URoJgTp88Nv8"
      }
    },
    {
      "cell_type": "code",
      "execution_count": 1,
      "metadata": {
        "id": "0ThiWY2o0k5y"
      },
      "outputs": [],
      "source": [
        "import pandas as pd\n",
        "import numpy as np\n",
        "#from sklearn.model_selection import train_test_split\n"
      ]
    },
    {
      "cell_type": "code",
      "execution_count": 2,
      "metadata": {
        "id": "cl7BtUEv2XaW"
      },
      "outputs": [],
      "source": [
        "import torch\n",
        "import torch.nn as nn\n",
        "import torch.nn.functional as F\n",
        "from torch import optim\n",
        "import tqdm\n",
        "from tqdm import tqdm"
      ]
    },
    {
      "cell_type": "code",
      "execution_count": 3,
      "metadata": {
        "id": "zsWNWcfyEWeQ"
      },
      "outputs": [],
      "source": [
        "import unicodedata\n",
        "import string\n",
        "import re\n",
        "import random\n",
        "import itertools"
      ]
    },
    {
      "cell_type": "code",
      "execution_count": 4,
      "metadata": {
        "id": "Q0lwO5gfRM3y"
      },
      "outputs": [],
      "source": [
        "import time\n",
        "import math\n",
        "from collections import defaultdict"
      ]
    },
    {
      "cell_type": "code",
      "execution_count": 5,
      "metadata": {
        "id": "MAq23M1-RU7B"
      },
      "outputs": [],
      "source": [
        "import matplotlib.pyplot as plt\n",
        "import matplotlib.ticker as ticker\n",
        "import seaborn as sns"
      ]
    },
    {
      "cell_type": "code",
      "execution_count": 6,
      "metadata": {
        "id": "qXrbdmpyvfC8"
      },
      "outputs": [],
      "source": [
        "import os\n",
        "from pathlib import Path\n",
        "import sys"
      ]
    },
    {
      "cell_type": "code",
      "execution_count": 7,
      "metadata": {
        "colab": {
          "base_uri": "https://localhost:8080/"
        },
        "id": "hQjYrEzxTocU",
        "outputId": "b328e555-2d18-4636-9305-487bdc7e1171"
      },
      "outputs": [
        {
          "output_type": "stream",
          "name": "stdout",
          "text": [
            "Mounted at /content/drive\n"
          ]
        }
      ],
      "source": [
        "from google.colab import drive\n",
        "drive.mount('/content/drive')\n",
        "!cp -r ./drive/My\\ Drive/NLP_translation/* . "
      ]
    },
    {
      "cell_type": "code",
      "execution_count": 8,
      "metadata": {
        "id": "dEX_XE03u2n9"
      },
      "outputs": [],
      "source": [
        "from preprocessing import prepareData, readLangs, tensorsFromPair, tensorFromSentence"
      ]
    },
    {
      "cell_type": "code",
      "execution_count": null,
      "metadata": {
        "id": "lVDwtCEjOo1X"
      },
      "outputs": [],
      "source": [
        "SOS_token = 1\n",
        "EOS_token = 0"
      ]
    },
    {
      "cell_type": "code",
      "execution_count": 9,
      "metadata": {
        "id": "xrN7tCq8S5z4"
      },
      "outputs": [],
      "source": [
        "config = {  \n",
        "    'path'  :'/content/drive/MyDrive/NLP_translation/old_slav.txt', #old slavenic - rus\n",
        "    #'path':'/content/rus.txt', #rus-eng\n",
        "    'MAX_LENGTH':20,\n",
        "    'reverse':True,\n",
        "    'pad_index':[0,1],\n",
        "    \n",
        "    'batch_size':8, # for short datasets use batch_size - 8, for big dataset - 256\n",
        "\n",
        "    'teacher_forcing_ratio': 0.5,\n",
        "    'hidden_size':256,\n",
        "    'num_epochs':100,\n",
        "    \n",
        "    'lr': 0.001\n",
        "}"
      ]
    },
    {
      "cell_type": "code",
      "execution_count": 10,
      "metadata": {
        "id": "C766angNLtAr"
      },
      "outputs": [],
      "source": [
        "from model import EncoderRNN, AttnDecoderRNN, TONModel"
      ]
    },
    {
      "cell_type": "code",
      "execution_count": 11,
      "metadata": {
        "id": "Xmq0wDMDQa6d"
      },
      "outputs": [],
      "source": [
        "device = torch.device(\"cuda\" if torch.cuda.is_available() else \"cpu\")"
      ]
    },
    {
      "cell_type": "code",
      "execution_count": 12,
      "metadata": {
        "colab": {
          "base_uri": "https://localhost:8080/"
        },
        "id": "8cDNNUxySMEU",
        "outputId": "a967f7b5-df8b-4a4c-e3df-9aef1fc84527"
      },
      "outputs": [
        {
          "output_type": "stream",
          "name": "stdout",
          "text": [
            "Reading lines...\n"
          ]
        },
        {
          "output_type": "stream",
          "name": "stderr",
          "text": [
            "100%|██████████| 229/229 [00:00<00:00, 15244.27it/s]\n",
            "100%|██████████| 229/229 [00:00<00:00, 596951.91it/s]"
          ]
        },
        {
          "output_type": "stream",
          "name": "stdout",
          "text": [
            "Read 159 sentence pairs train\n",
            "Read 69 sentence pairs test\n",
            "Trimmed to 159 sentence train pairs\n",
            "Trimmed to 69 sentence test pairs\n",
            "Counting words...\n",
            "Counted words train:\n",
            "old_rus 776\n",
            "new_rus 744\n",
            "Counted words test:\n",
            "old_rus 359\n",
            "new_rus 341\n",
            "['аще не можете даромъ', 'если не можете (почтить) подарком ']\n"
          ]
        },
        {
          "output_type": "stream",
          "name": "stderr",
          "text": [
            "\n"
          ]
        }
      ],
      "source": [
        "train_input_lang, train_output_lang, train_pairs, test_input_lang,\\\n",
        "           test_output_lang, test_pairs = prepareData('old_rus', 'new_rus', config['path'], config['MAX_LENGTH'], config['reverse'])\n",
        "print(random.choice(train_pairs))"
      ]
    },
    {
      "cell_type": "markdown",
      "source": [
        "Check lengths of sentences"
      ],
      "metadata": {
        "id": "A4rlwnapTMH3"
      }
    },
    {
      "cell_type": "code",
      "execution_count": 13,
      "metadata": {
        "colab": {
          "base_uri": "https://localhost:8080/"
        },
        "id": "yPwxTZ7NMMUp",
        "outputId": "6ac3b83c-e92b-4aa5-a05e-a0c2710f501c"
      },
      "outputs": [
        {
          "output_type": "execute_result",
          "data": {
            "text/plain": [
              "[24, 25]"
            ]
          },
          "metadata": {},
          "execution_count": 13
        }
      ],
      "source": [
        "#max length of train sentence\n",
        "len_train=([len(pair[0].split(' ')), len(pair[1].split(' '))] for pair in train_pairs)\n",
        "max(len_train)"
      ]
    },
    {
      "cell_type": "code",
      "execution_count": null,
      "metadata": {
        "colab": {
          "base_uri": "https://localhost:8080/"
        },
        "id": "XARHM0bfYq4v",
        "outputId": "da156c88-f744-4593-f403-229c31539357"
      },
      "outputs": [
        {
          "output_type": "execute_result",
          "data": {
            "text/plain": [
              "[20, 24]"
            ]
          },
          "metadata": {},
          "execution_count": 42
        }
      ],
      "source": [
        "#max length of test sentence\n",
        "max([len(pair[0].split(' ')), len(pair[1].split(' '))] for pair in test_pairs)"
      ]
    },
    {
      "cell_type": "code",
      "execution_count": null,
      "metadata": {
        "id": "zNx-I_xxt_qr"
      },
      "outputs": [],
      "source": [
        "def len_pair(pair):\n",
        "  len_0=len(pair[0].split(' '))\n",
        "  len_1=len(pair[1].split(' '))\n",
        "  return len_0, len_1\n",
        "len_train_old=[] \n",
        "len_train_new=[] \n",
        "for pair in train_pairs:  \n",
        "  old, new=len_pair(pair)\n",
        "  len_train_old.append(old)\n",
        "  len_train_new.append(new)"
      ]
    },
    {
      "cell_type": "markdown",
      "source": [
        "Plot histogramm for length of source sentence"
      ],
      "metadata": {
        "id": "9VlDFeX5UVOb"
      }
    },
    {
      "cell_type": "code",
      "execution_count": null,
      "metadata": {
        "colab": {
          "base_uri": "https://localhost:8080/",
          "height": 281
        },
        "id": "Rt6cPjG9s9gX",
        "outputId": "57794397-1511-403d-9e5a-3c624814f265"
      },
      "outputs": [
        {
          "output_type": "display_data",
          "data": {
            "text/plain": [
              "<Figure size 432x288 with 1 Axes>"
            ],
            "image/png": "[encoded data removed]"
          },
          "metadata": {
            "needs_background": "light"
          }
        }
      ],
      "source": [
        "fig, ax = plt.subplots()\n",
        "ax.hist(len_train_old, bins=[5, 10, 15, 20, 25], linewidth=0.5, edgecolor=\"white\")\n",
        "plt.title('Length of source sentence.');\n",
        "\n"
      ]
    },
    {
      "cell_type": "markdown",
      "source": [
        "Plot histogramm for length of target sentence"
      ],
      "metadata": {
        "id": "BFpVpwVdUfl7"
      }
    },
    {
      "cell_type": "code",
      "execution_count": null,
      "metadata": {
        "colab": {
          "base_uri": "https://localhost:8080/",
          "height": 281
        },
        "id": "qZjhiS500POb",
        "outputId": "bbb88775-2b19-4e54-e61c-0f255e7d7880"
      },
      "outputs": [
        {
          "output_type": "display_data",
          "data": {
            "text/plain": [
              "<Figure size 432x288 with 1 Axes>"
            ],
            "image/png": "[encoded data removed]"
          },
          "metadata": {
            "needs_background": "light"
          }
        }
      ],
      "source": [
        "fig, ax = plt.subplots()\n",
        "ax.hist(len_train_new, bins=[5, 10, 15, 20, 25], linewidth=0.5, edgecolor=\"white\")\n",
        "plt.title('Length of target sentence.');"
      ]
    },
    {
      "cell_type": "markdown",
      "source": [
        "Make DataLoaders for train and test sentences.\n",
        "\n",
        "For use dataloader I add padding sentences to max length in tensorFromSentence. \n",
        "To use pad_packed_sentence I add get_len function to get true length of sentence."
      ],
      "metadata": {
        "id": "2mw1R8QOU8rY"
      }
    },
    {
      "cell_type": "code",
      "execution_count": 14,
      "metadata": {
        "colab": {
          "base_uri": "https://localhost:8080/"
        },
        "id": "5tmRdZ9ykKb-",
        "outputId": "c9f8230f-df8c-415b-ad42-e56c5c26a52f"
      },
      "outputs": [
        {
          "output_type": "stream",
          "name": "stderr",
          "text": [
            "100%|██████████| 159/159 [00:00<00:00, 11768.03it/s]\n",
            "100%|██████████| 69/69 [00:00<00:00, 14695.93it/s]\n"
          ]
        }
      ],
      "source": [
        "training_pairs = [tensorsFromPair(train_pair, train_input_lang, train_output_lang, MAX_LENGTH=config['MAX_LENGTH'])\n",
        "                      for train_pair in tqdm(train_pairs)]\n",
        "testing_pairs = [tensorsFromPair(test_pair, test_input_lang, test_output_lang, MAX_LENGTH=config['MAX_LENGTH'])\n",
        "                      for test_pair in tqdm(test_pairs)]\n",
        "train_loader = torch.utils.data.DataLoader(training_pairs, batch_size=config['batch_size'], shuffle=True)\n",
        "test_loader = torch.utils.data.DataLoader(testing_pairs, batch_size=config['batch_size'], shuffle=False)   #Test dataloader without shuffling pairs to have comparable results for validation loop                                         "
      ]
    },
    {
      "cell_type": "markdown",
      "source": [
        "Make helper functions."
      ],
      "metadata": {
        "id": "xSusTlQ-U1p_"
      }
    },
    {
      "cell_type": "code",
      "execution_count": 15,
      "metadata": {
        "id": "Ln5eJ8TX929w"
      },
      "outputs": [],
      "source": [
        "#function to check time\n",
        "def asMinutes(s):\n",
        "    m = math.floor(s / 60)\n",
        "    s -= m * 60\n",
        "    return '%dm %ds' % (m, s)\n",
        "\n",
        "\n",
        "def timeSince(since, percent):\n",
        "    now = time.time()\n",
        "    s = now - since\n",
        "    es = s / (percent)\n",
        "    rs = es - s\n",
        "    return '%s (- %s)' % (asMinutes(s), asMinutes(rs))"
      ]
    },
    {
      "cell_type": "code",
      "execution_count": 16,
      "metadata": {
        "id": "NhFn9U_GJd2K"
      },
      "outputs": [],
      "source": [
        "#function to plot loss curves\n",
        "def plot_learning_curves(history):\n",
        "    sns.set_style(style='whitegrid')\n",
        "    fig = plt.figure(figsize=(10,5))\n",
        "\n",
        "    # plt.subplot(1,3,1)\n",
        "    plt.title('Loss', fontsize=15)\n",
        "    plt.plot(history['loss']['train'], label='train')\n",
        "    plt.plot(history['loss']['val'], label='val')\n",
        "    plt.xlabel('epoch', fontsize=15)\n",
        "    plt.legend()\n",
        "    plt.show()"
      ]
    },
    {
      "cell_type": "markdown",
      "source": [
        "Create a traning model using dataloader.\n",
        "Made changes: \n",
        "1. epoch iteration. Each epoch is train on all train dataset and validate on test dataset.\n",
        "2. Encoder and decoder comunication is in model. In training model function I just pass input tensor, output tensor and input sentence length into model and get decoder output out.\n",
        "3. I use batches to load data, so outputs and target have to be transformed to pass to loss function.\n",
        "4. I collect train and validation loss for each epoch into defaultdict.\n",
        "5. I plot train and validation loss after the training.\n",
        "6. I save best model during the training."
      ],
      "metadata": {
        "id": "Eh5CzXSq79r8"
      }
    },
    {
      "cell_type": "code",
      "execution_count": 23,
      "metadata": {
        "id": "z71gRnS-ll7D"
      },
      "outputs": [],
      "source": [
        "#model with data loader\n",
        "def train_modelIters(model, optimizer, loader, test_loader, criterion, num_epochs=6, scheduler=None):\n",
        "    start = time.time() #start time\n",
        "    itog_losses = []\n",
        "    best_loss=np.inf #initiate best loss to check and save model with best loss.\n",
        "\n",
        "    history = defaultdict(lambda: defaultdict(list))  #dictionry to collect losses  \n",
        "      \n",
        "    for epoch in tqdm(range(num_epochs), desc='epochs'):\n",
        "      model.train(True)      \n",
        "\n",
        "      plot_losses = []\n",
        "      #print_loss_total = 0  \n",
        "      plot_loss_total = 0\n",
        "\n",
        "      val_losses = []\n",
        "      val_loss_total = 0  \n",
        "      \n",
        "      #train loop\n",
        "      for batch in tqdm(loader, desc='train sample batches'):\n",
        "          \n",
        "          input_tensor = batch[0].to(device)\n",
        "          input_len=batch[1]          #true length  of sentences in batches withput padding\n",
        "          target_tensor = batch[2].to(device)                           \n",
        "         \n",
        "          decoder_outputs, _ = model(input_tensor[:,:,0], input_len, target_tensor[:,:,0])\n",
        "          \n",
        "          target_tensor = target_tensor.view(-1) #change dimantion in one size\n",
        "          output_dim = decoder_outputs.shape[-1]  #change dimantion in one size\n",
        "          decoder_outputs=decoder_outputs.view(-1, output_dim)  #change dimantion in one size\n",
        "          \n",
        "          loss = criterion(decoder_outputs, target_tensor)      #calculate loss\n",
        "          \n",
        "          loss.backward(retain_graph=True)    \n",
        "          optimizer.step()\n",
        "          optimizer.zero_grad()                   \n",
        "          \n",
        "          plot_loss_total += loss.item() #collect losses\n",
        "          \n",
        "      plot_loss_avg = plot_loss_total /  len(loader)\n",
        "      history['loss']['train'].append(plot_loss_avg)\n",
        "      \n",
        "      model.train(False)\n",
        "      #validation loop\n",
        "      for batch in tqdm(test_loader, desc='validation sample batches'):\n",
        "        \n",
        "        input_tensor = batch[0].to(device)\n",
        "        input_len=batch[1]\n",
        "        target_tensor = batch[2].to(device)\n",
        "               \n",
        "        with torch.no_grad():\n",
        "          decoder_outputs, _ = model(input_tensor[:,:,0], input_len, target_tensor[:,:,0],\n",
        "                                  evalute=True)\n",
        "          \n",
        "          target_tensor = target_tensor.view(-1)\n",
        "          output_dim = decoder_outputs.shape[-1]            \n",
        "          decoder_outputs=decoder_outputs.view(-1, output_dim)    \n",
        "          \n",
        "          val_loss = criterion(decoder_outputs, target_tensor) # calculate validation loss          \n",
        "          val_loss_total+= loss.item() #collect loss item\n",
        "          if scheduler!=None:\n",
        "            scheduler.step(val_loss)\n",
        "\n",
        "      val_loss_avg = val_loss_total / len(test_loader)    \n",
        "      history['loss']['val'].append(val_loss_avg)\n",
        "      print('Epoch train loss', plot_loss_avg, end='\\n')\n",
        "      print('Epoch val_loss', val_loss_avg, end='\\n')\n",
        "\n",
        "      if val_loss_avg<best_loss: #save best model\n",
        "        best_loss=val_loss\n",
        "        torch.save(model, 'best_model.pt')\n",
        "\n",
        "    plot_learning_curves(history) #plot loss curves\n",
        "    return "
      ]
    },
    {
      "cell_type": "markdown",
      "source": [
        "Train model using Adam optimizer, NLLLos and scheduler"
      ],
      "metadata": {
        "id": "pNffO8uTYKVQ"
      }
    },
    {
      "cell_type": "code",
      "source": [
        "#model with batches rus-eng\n",
        "\n",
        "encoder1 = EncoderRNN(train_input_lang.n_words, config['hidden_size'])\n",
        "attn_decoder1 = AttnDecoderRNN(config['hidden_size'], train_output_lang.n_words, config['MAX_LENGTH'], dropout_p=0.1)\n",
        "model=TONModel(encoder1, attn_decoder1, config['teacher_forcing_ratio']).to(device)\n",
        "\n",
        "optimizer = optim.Adam(model.parameters(), lr=config['lr'])\n",
        "criterion = nn.NLLLoss(ignore_index=0)\n",
        "scheduler = torch.optim.lr_scheduler.ReduceLROnPlateau(optimizer, mode='min',\\\n",
        "                            factor=0.95, threshold=0.1, min_lr=2e-5, verbose=True)\n",
        "train_modelIters(model, optimizer, train_loader, test_loader, criterion, config['num_epochs'], scheduler)"
      ],
      "metadata": {
        "colab": {
          "base_uri": "https://localhost:8080/",
          "height": 1000
        },
        "id": "QYDdwfI9gXEq",
        "outputId": "cb27fc71-9048-41e1-9810-4c5e58a33952"
      },
      "execution_count": 24,
      "outputs": [
        {
          "output_type": "stream",
          "name": "stderr",
          "text": [
            "epochs:   0%|          | 0/100 [00:00<?, ?it/s]\n",
            "train sample batches:   0%|          | 0/20 [00:00<?, ?it/s]\u001b[A\n",
            "train sample batches:   5%|▌         | 1/20 [00:00<00:04,  4.35it/s]\u001b[A\n",
            "train sample batches:  10%|█         | 2/20 [00:00<00:03,  4.55it/s]\u001b[A\n",
            "train sample batches:  15%|█▌        | 3/20 [00:00<00:03,  4.67it/s]\u001b[A\n",
            "train sample batches:  20%|██        | 4/20 [00:00<00:03,  4.84it/s]\u001b[A\n",
            "train sample batches:  25%|██▌       | 5/20 [00:01<00:03,  4.92it/s]\u001b[A\n",
            "train sample batches:  30%|███       | 6/20 [00:01<00:02,  4.85it/s]\u001b[A\n",
            "train sample batches:  35%|███▌      | 7/20 [00:01<00:02,  4.97it/s]\u001b[A\n",
            "train sample batches:  40%|████      | 8/20 [00:01<00:02,  5.00it/s]\u001b[A\n",
            "train sample batches:  45%|████▌     | 9/20 [00:01<00:02,  5.01it/s]\u001b[A\n",
            "train sample batches:  50%|█████     | 10/20 [00:02<00:01,  5.08it/s]\u001b[A\n",
            "train sample batches:  55%|█████▌    | 11/20 [00:02<00:01,  5.09it/s]\u001b[A\n",
            "train sample batches:  60%|██████    | 12/20 [00:02<00:01,  5.16it/s]\u001b[A\n",
            "train sample batches:  65%|██████▌   | 13/20 [00:02<00:01,  5.16it/s]\u001b[A\n",
            "train sample batches:  70%|███████   | 14/20 [00:02<00:01,  5.08it/s]\u001b[A\n",
            "train sample batches:  75%|███████▌  | 15/20 [00:03<00:00,  5.15it/s]\u001b[A\n",
            "train sample batches:  80%|████████  | 16/20 [00:03<00:00,  5.23it/s]\u001b[A\n",
            "train sample batches:  85%|████████▌ | 17/20 [00:03<00:00,  5.27it/s]\u001b[A\n",
            "train sample batches:  90%|█████████ | 18/20 [00:03<00:00,  5.25it/s]\u001b[A\n",
            "train sample batches:  95%|█████████▌| 19/20 [00:03<00:00,  5.22it/s]\u001b[A\n",
            "train sample batches: 100%|██████████| 20/20 [00:03<00:00,  5.06it/s]\n",
            "\n",
            "validation sample batches:   0%|          | 0/9 [00:00<?, ?it/s]\u001b[A\n",
            "validation sample batches:  33%|███▎      | 3/9 [00:00<00:00, 29.22it/s]\u001b[A\n",
            "validation sample batches:  67%|██████▋   | 6/9 [00:00<00:00, 24.92it/s]\u001b[A\n",
            "validation sample batches: 100%|██████████| 9/9 [00:00<00:00, 23.97it/s]\n",
            "epochs:   1%|          | 1/100 [00:04<07:13,  4.38s/it]"
          ]
        },
        {
          "output_type": "stream",
          "name": "stdout",
          "text": [
            "Epoch train loss 6.088782000541687\n",
            "Epoch val_loss 6.203424453735352\n"
          ]
        },
        {
          "output_type": "stream",
          "name": "stderr",
          "text": [
            "\n",
            "train sample batches:   0%|          | 0/20 [00:00<?, ?it/s]\u001b[A\n",
            "train sample batches:   5%|▌         | 1/20 [00:00<00:03,  5.30it/s]\u001b[A\n",
            "train sample batches:  10%|█         | 2/20 [00:00<00:03,  5.21it/s]\u001b[A\n",
            "train sample batches:  15%|█▌        | 3/20 [00:00<00:03,  5.16it/s]\u001b[A\n",
            "train sample batches:  20%|██        | 4/20 [00:00<00:03,  5.22it/s]\u001b[A\n",
            "train sample batches:  25%|██▌       | 5/20 [00:00<00:02,  5.20it/s]\u001b[A\n",
            "train sample batches:  30%|███       | 6/20 [00:01<00:02,  5.13it/s]\u001b[A\n",
            "train sample batches:  35%|███▌      | 7/20 [00:01<00:02,  5.09it/s]\u001b[A\n",
            "train sample batches:  40%|████      | 8/20 [00:01<00:02,  5.14it/s]\u001b[A\n",
            "train sample batches:  45%|████▌     | 9/20 [00:01<00:02,  5.17it/s]\u001b[A\n",
            "train sample batches:  50%|█████     | 10/20 [00:01<00:01,  5.19it/s]\u001b[A\n",
            "train sample batches:  55%|█████▌    | 11/20 [00:02<00:01,  5.13it/s]\u001b[A\n",
            "train sample batches:  60%|██████    | 12/20 [00:02<00:01,  5.04it/s]\u001b[A\n",
            "train sample batches:  65%|██████▌   | 13/20 [00:02<00:01,  5.05it/s]\u001b[A\n",
            "train sample batches:  70%|███████   | 14/20 [00:02<00:01,  5.12it/s]\u001b[A\n",
            "train sample batches:  75%|███████▌  | 15/20 [00:02<00:00,  5.18it/s]\u001b[A\n",
            "train sample batches:  80%|████████  | 16/20 [00:03<00:00,  5.14it/s]\u001b[A\n",
            "train sample batches:  85%|████████▌ | 17/20 [00:03<00:00,  5.19it/s]\u001b[A\n",
            "train sample batches:  90%|█████████ | 18/20 [00:03<00:00,  5.24it/s]\u001b[A\n",
            "train sample batches:  95%|█████████▌| 19/20 [00:03<00:00,  5.26it/s]\u001b[A\n",
            "train sample batches: 100%|██████████| 20/20 [00:03<00:00,  5.17it/s]\n",
            "\n",
            "validation sample batches:   0%|          | 0/9 [00:00<?, ?it/s]\u001b[A\n",
            "validation sample batches:  33%|███▎      | 3/9 [00:00<00:00, 24.72it/s]\u001b[A\n",
            "validation sample batches:  67%|██████▋   | 6/9 [00:00<00:00, 22.56it/s]\u001b[A"
          ]
        },
        {
          "output_type": "stream",
          "name": "stdout",
          "text": [
            "Epoch 00012: reducing learning rate of group 0 to 9.5000e-04.\n"
          ]
        },
        {
          "output_type": "stream",
          "name": "stderr",
          "text": [
            "\n",
            "validation sample batches: 100%|██████████| 9/9 [00:00<00:00, 23.34it/s]\n",
            "epochs:   2%|▏         | 2/100 [00:08<07:04,  4.34s/it]"
          ]
        },
        {
          "output_type": "stream",
          "name": "stdout",
          "text": [
            "Epoch train loss 5.468024754524231\n",
            "Epoch val_loss 5.326562404632568\n"
          ]
        },
        {
          "output_type": "stream",
          "name": "stderr",
          "text": [
            "\n",
            "train sample batches:   0%|          | 0/20 [00:00<?, ?it/s]\u001b[A\n",
            "train sample batches:   5%|▌         | 1/20 [00:00<00:03,  5.40it/s]\u001b[A\n",
            "train sample batches:  10%|█         | 2/20 [00:00<00:03,  5.24it/s]\u001b[A\n",
            "train sample batches:  15%|█▌        | 3/20 [00:00<00:03,  5.23it/s]\u001b[A\n",
            "train sample batches:  20%|██        | 4/20 [00:00<00:03,  5.31it/s]\u001b[A\n",
            "train sample batches:  25%|██▌       | 5/20 [00:00<00:02,  5.28it/s]\u001b[A\n",
            "train sample batches:  30%|███       | 6/20 [00:01<00:02,  5.22it/s]\u001b[A\n",
            "train sample batches:  35%|███▌      | 7/20 [00:01<00:02,  5.29it/s]\u001b[A\n",
            "train sample batches:  40%|████      | 8/20 [00:01<00:02,  5.32it/s]\u001b[A\n",
            "train sample batches:  45%|████▌     | 9/20 [00:01<00:02,  5.24it/s]\u001b[A\n",
            "train sample batches:  50%|█████     | 10/20 [00:01<00:01,  5.21it/s]\u001b[A\n",
            "train sample batches:  55%|█████▌    | 11/20 [00:02<00:01,  5.15it/s]\u001b[A\n",
            "train sample batches:  60%|██████    | 12/20 [00:02<00:01,  5.03it/s]\u001b[A\n",
            "train sample batches:  65%|██████▌   | 13/20 [00:02<00:01,  5.08it/s]\u001b[A\n",
            "train sample batches:  70%|███████   | 14/20 [00:02<00:01,  4.98it/s]\u001b[A\n",
            "train sample batches:  75%|███████▌  | 15/20 [00:02<00:00,  5.04it/s]\u001b[A\n",
            "train sample batches:  80%|████████  | 16/20 [00:03<00:00,  5.06it/s]\u001b[A\n",
            "train sample batches:  85%|████████▌ | 17/20 [00:03<00:00,  5.04it/s]\u001b[A\n",
            "train sample batches:  90%|█████████ | 18/20 [00:03<00:00,  5.08it/s]\u001b[A\n",
            "train sample batches:  95%|█████████▌| 19/20 [00:03<00:00,  5.11it/s]\u001b[A\n",
            "train sample batches: 100%|██████████| 20/20 [00:03<00:00,  5.15it/s]\n",
            "\n",
            "validation sample batches:   0%|          | 0/9 [00:00<?, ?it/s]\u001b[A\n",
            "validation sample batches:  33%|███▎      | 3/9 [00:00<00:00, 27.35it/s]\u001b[A\n",
            "validation sample batches:  67%|██████▋   | 6/9 [00:00<00:00, 25.21it/s]\u001b[A\n",
            "validation sample batches: 100%|██████████| 9/9 [00:00<00:00, 24.06it/s]"
          ]
        },
        {
          "output_type": "stream",
          "name": "stdout",
          "text": [
            "Epoch 00023: reducing learning rate of group 0 to 9.0250e-04.\n",
            "Epoch train loss 5.101733994483948\n",
            "Epoch val_loss 5.233353137969971\n"
          ]
        },
        {
          "output_type": "stream",
          "name": "stderr",
          "text": [
            "\n",
            "epochs:   3%|▎         | 3/100 [00:12<06:59,  4.32s/it]\n",
            "train sample batches:   0%|          | 0/20 [00:00<?, ?it/s]\u001b[A\n",
            "train sample batches:   5%|▌         | 1/20 [00:00<00:03,  5.30it/s]\u001b[A\n",
            "train sample batches:  10%|█         | 2/20 [00:00<00:03,  5.01it/s]\u001b[A\n",
            "train sample batches:  15%|█▌        | 3/20 [00:00<00:03,  5.08it/s]\u001b[A\n",
            "train sample batches:  20%|██        | 4/20 [00:00<00:03,  4.93it/s]\u001b[A\n",
            "train sample batches:  25%|██▌       | 5/20 [00:01<00:03,  4.95it/s]\u001b[A\n",
            "train sample batches:  30%|███       | 6/20 [00:01<00:02,  5.00it/s]\u001b[A\n",
            "train sample batches:  35%|███▌      | 7/20 [00:01<00:02,  5.05it/s]\u001b[A\n",
            "train sample batches:  40%|████      | 8/20 [00:01<00:02,  5.06it/s]\u001b[A\n",
            "train sample batches:  45%|████▌     | 9/20 [00:01<00:02,  5.08it/s]\u001b[A\n",
            "train sample batches:  50%|█████     | 10/20 [00:01<00:01,  5.01it/s]\u001b[A\n",
            "train sample batches:  55%|█████▌    | 11/20 [00:02<00:01,  5.08it/s]\u001b[A\n",
            "train sample batches:  60%|██████    | 12/20 [00:02<00:01,  5.08it/s]\u001b[A\n",
            "train sample batches:  65%|██████▌   | 13/20 [00:02<00:01,  5.11it/s]\u001b[A\n",
            "train sample batches:  70%|███████   | 14/20 [00:02<00:01,  5.19it/s]\u001b[A\n",
            "train sample batches:  75%|███████▌  | 15/20 [00:02<00:00,  5.21it/s]\u001b[A\n",
            "train sample batches:  80%|████████  | 16/20 [00:03<00:00,  5.12it/s]\u001b[A\n",
            "train sample batches:  85%|████████▌ | 17/20 [00:03<00:00,  5.11it/s]\u001b[A\n",
            "train sample batches:  90%|█████████ | 18/20 [00:03<00:00,  5.09it/s]\u001b[A\n",
            "train sample batches:  95%|█████████▌| 19/20 [00:03<00:00,  5.07it/s]\u001b[A\n",
            "train sample batches: 100%|██████████| 20/20 [00:03<00:00,  5.08it/s]\n",
            "\n",
            "validation sample batches:   0%|          | 0/9 [00:00<?, ?it/s]\u001b[A\n",
            "validation sample batches:  33%|███▎      | 3/9 [00:00<00:00, 22.46it/s]\u001b[A\n",
            "validation sample batches:  67%|██████▋   | 6/9 [00:00<00:00, 21.68it/s]\u001b[A\n",
            "validation sample batches: 100%|██████████| 9/9 [00:00<00:00, 22.09it/s]\n",
            "epochs:   4%|▍         | 4/100 [00:17<06:57,  4.35s/it]"
          ]
        },
        {
          "output_type": "stream",
          "name": "stdout",
          "text": [
            "Epoch 00034: reducing learning rate of group 0 to 8.5737e-04.\n",
            "Epoch train loss 4.75150351524353\n",
            "Epoch val_loss 4.980801105499268\n"
          ]
        },
        {
          "output_type": "stream",
          "name": "stderr",
          "text": [
            "\n",
            "train sample batches:   0%|          | 0/20 [00:00<?, ?it/s]\u001b[A\n",
            "train sample batches:   5%|▌         | 1/20 [00:00<00:03,  5.34it/s]\u001b[A\n",
            "train sample batches:  10%|█         | 2/20 [00:00<00:03,  5.24it/s]\u001b[A\n",
            "train sample batches:  15%|█▌        | 3/20 [00:00<00:03,  5.24it/s]\u001b[A\n",
            "train sample batches:  20%|██        | 4/20 [00:00<00:03,  5.09it/s]\u001b[A\n",
            "train sample batches:  25%|██▌       | 5/20 [00:00<00:02,  5.14it/s]\u001b[A\n",
            "train sample batches:  30%|███       | 6/20 [00:01<00:02,  5.28it/s]\u001b[A\n",
            "train sample batches:  35%|███▌      | 7/20 [00:01<00:02,  5.26it/s]\u001b[A\n",
            "train sample batches:  40%|████      | 8/20 [00:01<00:02,  5.23it/s]\u001b[A\n",
            "train sample batches:  45%|████▌     | 9/20 [00:01<00:02,  5.16it/s]\u001b[A\n",
            "train sample batches:  50%|█████     | 10/20 [00:01<00:01,  5.16it/s]\u001b[A\n",
            "train sample batches:  55%|█████▌    | 11/20 [00:02<00:01,  5.21it/s]\u001b[A\n",
            "train sample batches:  60%|██████    | 12/20 [00:02<00:01,  5.26it/s]\u001b[A\n",
            "train sample batches:  65%|██████▌   | 13/20 [00:02<00:01,  5.28it/s]\u001b[A\n",
            "train sample batches:  70%|███████   | 14/20 [00:02<00:01,  5.30it/s]\u001b[A\n",
            "train sample batches:  75%|███████▌  | 15/20 [00:02<00:00,  5.26it/s]\u001b[A\n",
            "train sample batches:  80%|████████  | 16/20 [00:03<00:00,  5.37it/s]\u001b[A\n",
            "train sample batches:  85%|████████▌ | 17/20 [00:03<00:00,  5.26it/s]\u001b[A\n",
            "train sample batches:  90%|█████████ | 18/20 [00:03<00:00,  5.19it/s]\u001b[A\n",
            "train sample batches:  95%|█████████▌| 19/20 [00:03<00:00,  5.19it/s]\u001b[A\n",
            "train sample batches: 100%|██████████| 20/20 [00:03<00:00,  5.22it/s]\n",
            "\n",
            "validation sample batches:   0%|          | 0/9 [00:00<?, ?it/s]\u001b[A\n",
            "validation sample batches:  33%|███▎      | 3/9 [00:00<00:00, 27.33it/s]\u001b[A\n",
            "validation sample batches:  67%|██████▋   | 6/9 [00:00<00:00, 25.58it/s]\u001b[A\n",
            "validation sample batches: 100%|██████████| 9/9 [00:00<00:00, 24.56it/s]\n",
            "epochs:   5%|▌         | 5/100 [00:21<06:49,  4.31s/it]"
          ]
        },
        {
          "output_type": "stream",
          "name": "stdout",
          "text": [
            "Epoch 00045: reducing learning rate of group 0 to 8.1451e-04.\n",
            "Epoch train loss 4.417008376121521\n",
            "Epoch val_loss 4.585211753845215\n"
          ]
        },
        {
          "output_type": "stream",
          "name": "stderr",
          "text": [
            "\n",
            "train sample batches:   0%|          | 0/20 [00:00<?, ?it/s]\u001b[A\n",
            "train sample batches:   5%|▌         | 1/20 [00:00<00:03,  5.08it/s]\u001b[A\n",
            "train sample batches:  10%|█         | 2/20 [00:00<00:03,  5.16it/s]\u001b[A\n",
            "train sample batches:  15%|█▌        | 3/20 [00:00<00:03,  5.09it/s]\u001b[A\n",
            "train sample batches:  20%|██        | 4/20 [00:00<00:03,  5.22it/s]\u001b[A\n",
            "train sample batches:  25%|██▌       | 5/20 [00:00<00:02,  5.07it/s]\u001b[A\n",
            "train sample batches:  30%|███       | 6/20 [00:01<00:02,  5.06it/s]\u001b[A\n",
            "train sample batches:  35%|███▌      | 7/20 [00:01<00:02,  5.08it/s]\u001b[A\n",
            "train sample batches:  40%|████      | 8/20 [00:01<00:02,  5.01it/s]\u001b[A\n",
            "train sample batches:  45%|████▌     | 9/20 [00:01<00:02,  5.03it/s]\u001b[A\n",
            "train sample batches:  50%|█████     | 10/20 [00:01<00:01,  5.01it/s]\u001b[A\n",
            "train sample batches:  55%|█████▌    | 11/20 [00:02<00:01,  5.02it/s]\u001b[A\n",
            "train sample batches:  60%|██████    | 12/20 [00:02<00:01,  5.03it/s]\u001b[A\n",
            "train sample batches:  65%|██████▌   | 13/20 [00:02<00:01,  5.01it/s]\u001b[A\n",
            "train sample batches:  70%|███████   | 14/20 [00:02<00:01,  5.02it/s]\u001b[A\n",
            "train sample batches:  75%|███████▌  | 15/20 [00:02<00:00,  5.11it/s]\u001b[A\n",
            "train sample batches:  80%|████████  | 16/20 [00:03<00:00,  5.08it/s]\u001b[A\n",
            "train sample batches:  85%|████████▌ | 17/20 [00:03<00:00,  5.05it/s]\u001b[A\n",
            "train sample batches:  90%|█████████ | 18/20 [00:03<00:00,  5.09it/s]\u001b[A\n",
            "train sample batches:  95%|█████████▌| 19/20 [00:03<00:00,  5.01it/s]\u001b[A\n",
            "train sample batches: 100%|██████████| 20/20 [00:03<00:00,  5.06it/s]\n",
            "\n",
            "validation sample batches:   0%|          | 0/9 [00:00<?, ?it/s]\u001b[A\n",
            "validation sample batches:  33%|███▎      | 3/9 [00:00<00:00, 21.43it/s]\u001b[A\n",
            "validation sample batches:  67%|██████▋   | 6/9 [00:00<00:00, 21.93it/s]\u001b[A\n",
            "validation sample batches: 100%|██████████| 9/9 [00:00<00:00, 21.80it/s]\n",
            "epochs:   6%|▌         | 6/100 [00:26<06:48,  4.35s/it]"
          ]
        },
        {
          "output_type": "stream",
          "name": "stdout",
          "text": [
            "Epoch train loss 3.9968854069709776\n",
            "Epoch val_loss 3.630803346633911\n"
          ]
        },
        {
          "output_type": "stream",
          "name": "stderr",
          "text": [
            "\n",
            "train sample batches:   0%|          | 0/20 [00:00<?, ?it/s]\u001b[A\n",
            "train sample batches:   5%|▌         | 1/20 [00:00<00:03,  4.88it/s]\u001b[A\n",
            "train sample batches:  10%|█         | 2/20 [00:00<00:03,  5.02it/s]\u001b[A\n",
            "train sample batches:  15%|█▌        | 3/20 [00:00<00:03,  5.06it/s]\u001b[A\n",
            "train sample batches:  20%|██        | 4/20 [00:00<00:03,  5.01it/s]\u001b[A\n",
            "train sample batches:  25%|██▌       | 5/20 [00:00<00:02,  5.02it/s]\u001b[A\n",
            "train sample batches:  30%|███       | 6/20 [00:01<00:02,  4.93it/s]\u001b[A\n",
            "train sample batches:  35%|███▌      | 7/20 [00:01<00:02,  4.86it/s]\u001b[A\n",
            "train sample batches:  40%|████      | 8/20 [00:01<00:02,  4.92it/s]\u001b[A\n",
            "train sample batches:  45%|████▌     | 9/20 [00:01<00:02,  4.97it/s]\u001b[A\n",
            "train sample batches:  50%|█████     | 10/20 [00:02<00:01,  5.02it/s]\u001b[A\n",
            "train sample batches:  55%|█████▌    | 11/20 [00:02<00:01,  5.10it/s]\u001b[A\n",
            "train sample batches:  60%|██████    | 12/20 [00:02<00:01,  5.07it/s]\u001b[A\n",
            "train sample batches:  65%|██████▌   | 13/20 [00:02<00:01,  5.07it/s]\u001b[A\n",
            "train sample batches:  70%|███████   | 14/20 [00:02<00:01,  5.08it/s]\u001b[A\n",
            "train sample batches:  75%|███████▌  | 15/20 [00:02<00:00,  5.13it/s]\u001b[A\n",
            "train sample batches:  80%|████████  | 16/20 [00:03<00:00,  5.12it/s]\u001b[A\n",
            "train sample batches:  85%|████████▌ | 17/20 [00:03<00:00,  5.09it/s]\u001b[A\n",
            "train sample batches:  90%|█████████ | 18/20 [00:03<00:00,  5.07it/s]\u001b[A\n",
            "train sample batches:  95%|█████████▌| 19/20 [00:03<00:00,  5.05it/s]\u001b[A\n",
            "train sample batches: 100%|██████████| 20/20 [00:03<00:00,  5.04it/s]\n",
            "\n",
            "validation sample batches:   0%|          | 0/9 [00:00<?, ?it/s]\u001b[A\n",
            "validation sample batches:  33%|███▎      | 3/9 [00:00<00:00, 29.10it/s]\u001b[A\n",
            "validation sample batches:  67%|██████▋   | 6/9 [00:00<00:00, 24.50it/s]\u001b[A"
          ]
        },
        {
          "output_type": "stream",
          "name": "stdout",
          "text": [
            "Epoch 00056: reducing learning rate of group 0 to 7.7378e-04.\n"
          ]
        },
        {
          "output_type": "stream",
          "name": "stderr",
          "text": [
            "\n",
            "validation sample batches: 100%|██████████| 9/9 [00:00<00:00, 24.25it/s]\n",
            "epochs:   7%|▋         | 7/100 [00:30<06:45,  4.36s/it]"
          ]
        },
        {
          "output_type": "stream",
          "name": "stdout",
          "text": [
            "Epoch train loss 3.605723762512207\n",
            "Epoch val_loss 3.4967567920684814\n"
          ]
        },
        {
          "output_type": "stream",
          "name": "stderr",
          "text": [
            "\n",
            "train sample batches:   0%|          | 0/20 [00:00<?, ?it/s]\u001b[A\n",
            "train sample batches:   5%|▌         | 1/20 [00:00<00:03,  5.09it/s]\u001b[A\n",
            "train sample batches:  10%|█         | 2/20 [00:00<00:03,  5.08it/s]\u001b[A\n",
            "train sample batches:  15%|█▌        | 3/20 [00:00<00:03,  5.05it/s]\u001b[A\n",
            "train sample batches:  20%|██        | 4/20 [00:00<00:03,  4.97it/s]\u001b[A\n",
            "train sample batches:  25%|██▌       | 5/20 [00:01<00:03,  4.98it/s]\u001b[A\n",
            "train sample batches:  30%|███       | 6/20 [00:01<00:02,  5.02it/s]\u001b[A\n",
            "train sample batches:  35%|███▌      | 7/20 [00:01<00:02,  5.03it/s]\u001b[A\n",
            "train sample batches:  40%|████      | 8/20 [00:01<00:02,  5.10it/s]\u001b[A\n",
            "train sample batches:  45%|████▌     | 9/20 [00:01<00:02,  4.94it/s]\u001b[A\n",
            "train sample batches:  50%|█████     | 10/20 [00:02<00:02,  4.96it/s]\u001b[A\n",
            "train sample batches:  55%|█████▌    | 11/20 [00:02<00:01,  4.97it/s]\u001b[A\n",
            "train sample batches:  60%|██████    | 12/20 [00:02<00:01,  5.02it/s]\u001b[A\n",
            "train sample batches:  65%|██████▌   | 13/20 [00:02<00:01,  5.01it/s]\u001b[A\n",
            "train sample batches:  70%|███████   | 14/20 [00:02<00:01,  5.05it/s]\u001b[A\n",
            "train sample batches:  75%|███████▌  | 15/20 [00:02<00:00,  5.00it/s]\u001b[A\n",
            "train sample batches:  80%|████████  | 16/20 [00:03<00:00,  5.01it/s]\u001b[A\n",
            "train sample batches:  85%|████████▌ | 17/20 [00:03<00:00,  5.02it/s]\u001b[A\n",
            "train sample batches:  90%|█████████ | 18/20 [00:03<00:00,  5.08it/s]\u001b[A\n",
            "train sample batches:  95%|█████████▌| 19/20 [00:03<00:00,  5.13it/s]\u001b[A\n",
            "train sample batches: 100%|██████████| 20/20 [00:03<00:00,  5.03it/s]\n",
            "\n",
            "validation sample batches:   0%|          | 0/9 [00:00<?, ?it/s]\u001b[A\n",
            "validation sample batches:  22%|██▏       | 2/9 [00:00<00:00, 17.23it/s]\u001b[A\n",
            "validation sample batches:  56%|█████▌    | 5/9 [00:00<00:00, 21.24it/s]\u001b[A\n",
            "validation sample batches:  89%|████████▉ | 8/9 [00:00<00:00, 22.11it/s]\u001b[A"
          ]
        },
        {
          "output_type": "stream",
          "name": "stdout",
          "text": [
            "Epoch 00067: reducing learning rate of group 0 to 7.3509e-04.\n"
          ]
        },
        {
          "output_type": "stream",
          "name": "stderr",
          "text": [
            "validation sample batches: 100%|██████████| 9/9 [00:00<00:00, 21.37it/s]\n",
            "epochs:   8%|▊         | 8/100 [00:34<06:43,  4.38s/it]"
          ]
        },
        {
          "output_type": "stream",
          "name": "stdout",
          "text": [
            "Epoch train loss 3.271369743347168\n",
            "Epoch val_loss 3.571030855178833\n"
          ]
        },
        {
          "output_type": "stream",
          "name": "stderr",
          "text": [
            "\n",
            "train sample batches:   0%|          | 0/20 [00:00<?, ?it/s]\u001b[A\n",
            "train sample batches:   5%|▌         | 1/20 [00:00<00:03,  5.29it/s]\u001b[A\n",
            "train sample batches:  10%|█         | 2/20 [00:00<00:03,  5.05it/s]\u001b[A\n",
            "train sample batches:  15%|█▌        | 3/20 [00:00<00:03,  5.11it/s]\u001b[A\n",
            "train sample batches:  20%|██        | 4/20 [00:00<00:03,  4.90it/s]\u001b[A\n",
            "train sample batches:  25%|██▌       | 5/20 [00:00<00:02,  5.03it/s]\u001b[A\n",
            "train sample batches:  30%|███       | 6/20 [00:01<00:02,  5.08it/s]\u001b[A\n",
            "train sample batches:  35%|███▌      | 7/20 [00:01<00:02,  5.08it/s]\u001b[A\n",
            "train sample batches:  40%|████      | 8/20 [00:01<00:02,  5.07it/s]\u001b[A\n",
            "train sample batches:  45%|████▌     | 9/20 [00:01<00:02,  5.02it/s]\u001b[A\n",
            "train sample batches:  50%|█████     | 10/20 [00:01<00:01,  5.09it/s]\u001b[A\n",
            "train sample batches:  55%|█████▌    | 11/20 [00:02<00:01,  5.13it/s]\u001b[A\n",
            "train sample batches:  60%|██████    | 12/20 [00:02<00:01,  5.18it/s]\u001b[A\n",
            "train sample batches:  65%|██████▌   | 13/20 [00:02<00:01,  5.13it/s]\u001b[A\n",
            "train sample batches:  70%|███████   | 14/20 [00:02<00:01,  5.08it/s]\u001b[A\n",
            "train sample batches:  75%|███████▌  | 15/20 [00:02<00:00,  5.13it/s]\u001b[A\n",
            "train sample batches:  80%|████████  | 16/20 [00:03<00:00,  5.18it/s]\u001b[A\n",
            "train sample batches:  85%|████████▌ | 17/20 [00:03<00:00,  5.26it/s]\u001b[A\n",
            "train sample batches:  90%|█████████ | 18/20 [00:03<00:00,  5.16it/s]\u001b[A\n",
            "train sample batches:  95%|█████████▌| 19/20 [00:03<00:00,  5.04it/s]\u001b[A\n",
            "train sample batches: 100%|██████████| 20/20 [00:03<00:00,  5.10it/s]\n",
            "\n",
            "validation sample batches:   0%|          | 0/9 [00:00<?, ?it/s]\u001b[A\n",
            "validation sample batches:  33%|███▎      | 3/9 [00:00<00:00, 25.98it/s]\u001b[A\n",
            "validation sample batches:  67%|██████▋   | 6/9 [00:00<00:00, 23.76it/s]\u001b[A\n",
            "validation sample batches: 100%|██████████| 9/9 [00:00<00:00, 23.85it/s]\n",
            "epochs:   9%|▉         | 9/100 [00:39<06:37,  4.37s/it]"
          ]
        },
        {
          "output_type": "stream",
          "name": "stdout",
          "text": [
            "Epoch 00078: reducing learning rate of group 0 to 6.9834e-04.\n",
            "Epoch train loss 2.9358998417854307\n",
            "Epoch val_loss 2.9917938709259033\n"
          ]
        },
        {
          "output_type": "stream",
          "name": "stderr",
          "text": [
            "\n",
            "train sample batches:   0%|          | 0/20 [00:00<?, ?it/s]\u001b[A\n",
            "train sample batches:   5%|▌         | 1/20 [00:00<00:03,  5.19it/s]\u001b[A\n",
            "train sample batches:  10%|█         | 2/20 [00:00<00:03,  4.77it/s]\u001b[A\n",
            "train sample batches:  15%|█▌        | 3/20 [00:00<00:03,  4.89it/s]\u001b[A\n",
            "train sample batches:  20%|██        | 4/20 [00:00<00:03,  4.97it/s]\u001b[A\n",
            "train sample batches:  25%|██▌       | 5/20 [00:01<00:03,  4.96it/s]\u001b[A\n",
            "train sample batches:  30%|███       | 6/20 [00:01<00:02,  5.03it/s]\u001b[A\n",
            "train sample batches:  35%|███▌      | 7/20 [00:01<00:02,  5.04it/s]\u001b[A\n",
            "train sample batches:  40%|████      | 8/20 [00:01<00:02,  4.99it/s]\u001b[A\n",
            "train sample batches:  45%|████▌     | 9/20 [00:01<00:02,  5.07it/s]\u001b[A\n",
            "train sample batches:  50%|█████     | 10/20 [00:01<00:01,  5.06it/s]\u001b[A\n",
            "train sample batches:  55%|█████▌    | 11/20 [00:02<00:01,  5.00it/s]\u001b[A\n",
            "train sample batches:  60%|██████    | 12/20 [00:02<00:01,  5.03it/s]\u001b[A\n",
            "train sample batches:  65%|██████▌   | 13/20 [00:02<00:01,  4.99it/s]\u001b[A\n",
            "train sample batches:  70%|███████   | 14/20 [00:02<00:01,  4.96it/s]\u001b[A\n",
            "train sample batches:  75%|███████▌  | 15/20 [00:03<00:01,  4.97it/s]\u001b[A\n",
            "train sample batches:  80%|████████  | 16/20 [00:03<00:00,  4.97it/s]\u001b[A\n",
            "train sample batches:  85%|████████▌ | 17/20 [00:03<00:00,  4.91it/s]\u001b[A\n",
            "train sample batches:  90%|█████████ | 18/20 [00:03<00:00,  4.89it/s]\u001b[A\n",
            "train sample batches:  95%|█████████▌| 19/20 [00:03<00:00,  4.93it/s]\u001b[A\n",
            "train sample batches: 100%|██████████| 20/20 [00:04<00:00,  4.97it/s]\n",
            "\n",
            "validation sample batches:   0%|          | 0/9 [00:00<?, ?it/s]\u001b[A\n",
            "validation sample batches:  33%|███▎      | 3/9 [00:00<00:00, 27.76it/s]\u001b[A\n",
            "validation sample batches:  67%|██████▋   | 6/9 [00:00<00:00, 24.68it/s]\u001b[A\n",
            "validation sample batches: 100%|██████████| 9/9 [00:00<00:00, 23.56it/s]\n",
            "epochs:  10%|█         | 10/100 [00:43<06:35,  4.39s/it]"
          ]
        },
        {
          "output_type": "stream",
          "name": "stdout",
          "text": [
            "Epoch 00089: reducing learning rate of group 0 to 6.6342e-04.\n",
            "Epoch train loss 2.674825572967529\n",
            "Epoch val_loss 2.7365729808807373\n"
          ]
        },
        {
          "output_type": "stream",
          "name": "stderr",
          "text": [
            "\n",
            "train sample batches:   0%|          | 0/20 [00:00<?, ?it/s]\u001b[A\n",
            "train sample batches:   5%|▌         | 1/20 [00:00<00:03,  5.15it/s]\u001b[A\n",
            "train sample batches:  10%|█         | 2/20 [00:00<00:03,  5.06it/s]\u001b[A\n",
            "train sample batches:  15%|█▌        | 3/20 [00:00<00:03,  5.11it/s]\u001b[A\n",
            "train sample batches:  20%|██        | 4/20 [00:00<00:03,  5.04it/s]\u001b[A\n",
            "train sample batches:  25%|██▌       | 5/20 [00:00<00:02,  5.03it/s]\u001b[A\n",
            "train sample batches:  30%|███       | 6/20 [00:01<00:02,  5.02it/s]\u001b[A\n",
            "train sample batches:  35%|███▌      | 7/20 [00:01<00:02,  5.00it/s]\u001b[A\n",
            "train sample batches:  40%|████      | 8/20 [00:01<00:02,  4.93it/s]\u001b[A\n",
            "train sample batches:  45%|████▌     | 9/20 [00:01<00:02,  4.96it/s]\u001b[A\n",
            "train sample batches:  50%|█████     | 10/20 [00:02<00:02,  4.93it/s]\u001b[A\n",
            "train sample batches:  55%|█████▌    | 11/20 [00:02<00:01,  4.93it/s]\u001b[A\n",
            "train sample batches:  60%|██████    | 12/20 [00:02<00:01,  5.01it/s]\u001b[A\n",
            "train sample batches:  65%|██████▌   | 13/20 [00:02<00:01,  5.10it/s]\u001b[A\n",
            "train sample batches:  70%|███████   | 14/20 [00:02<00:01,  5.13it/s]\u001b[A\n",
            "train sample batches:  75%|███████▌  | 15/20 [00:02<00:00,  5.12it/s]\u001b[A\n",
            "train sample batches:  80%|████████  | 16/20 [00:03<00:00,  5.13it/s]\u001b[A\n",
            "train sample batches:  85%|████████▌ | 17/20 [00:03<00:00,  5.12it/s]\u001b[A\n",
            "train sample batches:  90%|█████████ | 18/20 [00:03<00:00,  5.20it/s]\u001b[A\n",
            "train sample batches:  95%|█████████▌| 19/20 [00:03<00:00,  5.13it/s]\u001b[A\n",
            "train sample batches: 100%|██████████| 20/20 [00:03<00:00,  5.07it/s]\n",
            "\n",
            "validation sample batches:   0%|          | 0/9 [00:00<?, ?it/s]\u001b[A\n",
            "validation sample batches:  33%|███▎      | 3/9 [00:00<00:00, 24.00it/s]\u001b[A\n",
            "validation sample batches:  67%|██████▋   | 6/9 [00:00<00:00, 23.67it/s]\u001b[A\n",
            "validation sample batches: 100%|██████████| 9/9 [00:00<00:00, 23.54it/s]\n",
            "epochs:  11%|█         | 11/100 [00:48<06:30,  4.39s/it]"
          ]
        },
        {
          "output_type": "stream",
          "name": "stdout",
          "text": [
            "Epoch train loss 2.482600510120392\n",
            "Epoch val_loss 2.316967487335205\n"
          ]
        },
        {
          "output_type": "stream",
          "name": "stderr",
          "text": [
            "\n",
            "train sample batches:   0%|          | 0/20 [00:00<?, ?it/s]\u001b[A\n",
            "train sample batches:   5%|▌         | 1/20 [00:00<00:03,  5.04it/s]\u001b[A\n",
            "train sample batches:  10%|█         | 2/20 [00:00<00:03,  5.22it/s]\u001b[A\n",
            "train sample batches:  15%|█▌        | 3/20 [00:00<00:03,  5.13it/s]\u001b[A\n",
            "train sample batches:  20%|██        | 4/20 [00:00<00:03,  5.10it/s]\u001b[A\n",
            "train sample batches:  25%|██▌       | 5/20 [00:00<00:02,  5.09it/s]\u001b[A\n",
            "train sample batches:  30%|███       | 6/20 [00:01<00:02,  5.09it/s]\u001b[A\n",
            "train sample batches:  35%|███▌      | 7/20 [00:01<00:02,  5.14it/s]\u001b[A\n",
            "train sample batches:  40%|████      | 8/20 [00:01<00:02,  5.13it/s]\u001b[A\n",
            "train sample batches:  45%|████▌     | 9/20 [00:01<00:02,  5.10it/s]\u001b[A\n",
            "train sample batches:  50%|█████     | 10/20 [00:01<00:01,  5.03it/s]\u001b[A\n",
            "train sample batches:  55%|█████▌    | 11/20 [00:02<00:01,  5.13it/s]\u001b[A\n",
            "train sample batches:  60%|██████    | 12/20 [00:02<00:01,  5.17it/s]\u001b[A\n",
            "train sample batches:  65%|██████▌   | 13/20 [00:02<00:01,  5.17it/s]\u001b[A\n",
            "train sample batches:  70%|███████   | 14/20 [00:02<00:01,  5.23it/s]\u001b[A\n",
            "train sample batches:  75%|███████▌  | 15/20 [00:02<00:00,  5.18it/s]\u001b[A\n",
            "train sample batches:  80%|████████  | 16/20 [00:03<00:00,  5.20it/s]\u001b[A\n",
            "train sample batches:  85%|████████▌ | 17/20 [00:03<00:00,  5.17it/s]\u001b[A\n",
            "train sample batches:  90%|█████████ | 18/20 [00:03<00:00,  5.15it/s]\u001b[A\n",
            "train sample batches:  95%|█████████▌| 19/20 [00:03<00:00,  5.21it/s]\u001b[A\n",
            "train sample batches: 100%|██████████| 20/20 [00:03<00:00,  5.14it/s]\n",
            "\n",
            "validation sample batches:   0%|          | 0/9 [00:00<?, ?it/s]\u001b[A\n",
            "validation sample batches:  44%|████▍     | 4/9 [00:00<00:00, 29.08it/s]\u001b[A"
          ]
        },
        {
          "output_type": "stream",
          "name": "stdout",
          "text": [
            "Epoch 00100: reducing learning rate of group 0 to 6.3025e-04.\n"
          ]
        },
        {
          "output_type": "stream",
          "name": "stderr",
          "text": [
            "\n",
            "validation sample batches: 100%|██████████| 9/9 [00:00<00:00, 25.35it/s]\n",
            "epochs:  12%|█▏        | 12/100 [00:52<06:23,  4.36s/it]"
          ]
        },
        {
          "output_type": "stream",
          "name": "stdout",
          "text": [
            "Epoch train loss 2.3240412414073943\n",
            "Epoch val_loss 2.454646348953247\n"
          ]
        },
        {
          "output_type": "stream",
          "name": "stderr",
          "text": [
            "\n",
            "train sample batches:   0%|          | 0/20 [00:00<?, ?it/s]\u001b[A\n",
            "train sample batches:   5%|▌         | 1/20 [00:00<00:03,  5.07it/s]\u001b[A\n",
            "train sample batches:  10%|█         | 2/20 [00:00<00:03,  5.05it/s]\u001b[A\n",
            "train sample batches:  15%|█▌        | 3/20 [00:00<00:03,  4.91it/s]\u001b[A\n",
            "train sample batches:  20%|██        | 4/20 [00:00<00:03,  4.88it/s]\u001b[A\n",
            "train sample batches:  25%|██▌       | 5/20 [00:01<00:03,  4.94it/s]\u001b[A\n",
            "train sample batches:  30%|███       | 6/20 [00:01<00:02,  4.91it/s]\u001b[A\n",
            "train sample batches:  35%|███▌      | 7/20 [00:01<00:02,  4.97it/s]\u001b[A\n",
            "train sample batches:  40%|████      | 8/20 [00:01<00:02,  5.01it/s]\u001b[A\n",
            "train sample batches:  45%|████▌     | 9/20 [00:01<00:02,  5.00it/s]\u001b[A\n",
            "train sample batches:  50%|█████     | 10/20 [00:02<00:02,  4.99it/s]\u001b[A\n",
            "train sample batches:  55%|█████▌    | 11/20 [00:02<00:01,  4.94it/s]\u001b[A\n",
            "train sample batches:  60%|██████    | 12/20 [00:02<00:01,  4.97it/s]\u001b[A\n",
            "train sample batches:  65%|██████▌   | 13/20 [00:02<00:01,  4.99it/s]\u001b[A\n",
            "train sample batches:  70%|███████   | 14/20 [00:02<00:01,  5.00it/s]\u001b[A\n",
            "train sample batches:  75%|███████▌  | 15/20 [00:03<00:00,  5.09it/s]\u001b[A\n",
            "train sample batches:  80%|████████  | 16/20 [00:03<00:00,  5.06it/s]\u001b[A\n",
            "train sample batches:  85%|████████▌ | 17/20 [00:03<00:00,  4.99it/s]\u001b[A\n",
            "train sample batches:  90%|█████████ | 18/20 [00:03<00:00,  5.08it/s]\u001b[A\n",
            "train sample batches:  95%|█████████▌| 19/20 [00:03<00:00,  5.10it/s]\u001b[A\n",
            "train sample batches: 100%|██████████| 20/20 [00:03<00:00,  5.01it/s]\n",
            "\n",
            "validation sample batches:   0%|          | 0/9 [00:00<?, ?it/s]\u001b[A\n",
            "validation sample batches:  33%|███▎      | 3/9 [00:00<00:00, 24.52it/s]\u001b[A\n",
            "validation sample batches:  67%|██████▋   | 6/9 [00:00<00:00, 22.88it/s]\u001b[A"
          ]
        },
        {
          "output_type": "stream",
          "name": "stdout",
          "text": [
            "Epoch 00111: reducing learning rate of group 0 to 5.9874e-04.\n"
          ]
        },
        {
          "output_type": "stream",
          "name": "stderr",
          "text": [
            "\n",
            "validation sample batches: 100%|██████████| 9/9 [00:00<00:00, 23.05it/s]\n",
            "epochs:  13%|█▎        | 13/100 [00:56<06:21,  4.38s/it]"
          ]
        },
        {
          "output_type": "stream",
          "name": "stdout",
          "text": [
            "Epoch train loss 2.166200202703476\n",
            "Epoch val_loss 2.4113762378692627\n"
          ]
        },
        {
          "output_type": "stream",
          "name": "stderr",
          "text": [
            "\n",
            "train sample batches:   0%|          | 0/20 [00:00<?, ?it/s]\u001b[A\n",
            "train sample batches:   5%|▌         | 1/20 [00:00<00:03,  5.34it/s]\u001b[A\n",
            "train sample batches:  10%|█         | 2/20 [00:00<00:03,  5.21it/s]\u001b[A\n",
            "train sample batches:  15%|█▌        | 3/20 [00:00<00:03,  5.22it/s]\u001b[A\n",
            "train sample batches:  20%|██        | 4/20 [00:00<00:03,  5.03it/s]\u001b[A\n",
            "train sample batches:  25%|██▌       | 5/20 [00:00<00:02,  5.06it/s]\u001b[A\n",
            "train sample batches:  30%|███       | 6/20 [00:01<00:02,  5.16it/s]\u001b[A\n",
            "train sample batches:  35%|███▌      | 7/20 [00:01<00:02,  5.05it/s]\u001b[A\n",
            "train sample batches:  40%|████      | 8/20 [00:01<00:02,  5.08it/s]\u001b[A\n",
            "train sample batches:  45%|████▌     | 9/20 [00:01<00:02,  5.13it/s]\u001b[A\n",
            "train sample batches:  50%|█████     | 10/20 [00:01<00:01,  5.19it/s]\u001b[A\n",
            "train sample batches:  55%|█████▌    | 11/20 [00:02<00:01,  5.20it/s]\u001b[A\n",
            "train sample batches:  60%|██████    | 12/20 [00:02<00:01,  5.20it/s]\u001b[A\n",
            "train sample batches:  65%|██████▌   | 13/20 [00:02<00:01,  5.16it/s]\u001b[A\n",
            "train sample batches:  70%|███████   | 14/20 [00:02<00:01,  5.16it/s]\u001b[A\n",
            "train sample batches:  75%|███████▌  | 15/20 [00:02<00:00,  5.05it/s]\u001b[A\n",
            "train sample batches:  80%|████████  | 16/20 [00:03<00:00,  5.12it/s]\u001b[A\n",
            "train sample batches:  85%|████████▌ | 17/20 [00:03<00:00,  5.13it/s]\u001b[A\n",
            "train sample batches:  90%|█████████ | 18/20 [00:03<00:00,  5.16it/s]\u001b[A\n",
            "train sample batches:  95%|█████████▌| 19/20 [00:03<00:00,  5.22it/s]\u001b[A\n",
            "train sample batches: 100%|██████████| 20/20 [00:03<00:00,  5.14it/s]\n",
            "\n",
            "validation sample batches:   0%|          | 0/9 [00:00<?, ?it/s]\u001b[A\n",
            "validation sample batches:  33%|███▎      | 3/9 [00:00<00:00, 25.81it/s]\u001b[A\n",
            "validation sample batches:  67%|██████▋   | 6/9 [00:00<00:00, 24.12it/s]\u001b[A\n",
            "validation sample batches: 100%|██████████| 9/9 [00:00<00:00, 23.80it/s]\n",
            "epochs:  14%|█▍        | 14/100 [01:01<06:14,  4.36s/it]"
          ]
        },
        {
          "output_type": "stream",
          "name": "stdout",
          "text": [
            "Epoch 00122: reducing learning rate of group 0 to 5.6880e-04.\n",
            "Epoch train loss 2.0272664368152618\n",
            "Epoch val_loss 2.227379560470581\n"
          ]
        },
        {
          "output_type": "stream",
          "name": "stderr",
          "text": [
            "\n",
            "train sample batches:   0%|          | 0/20 [00:00<?, ?it/s]\u001b[A\n",
            "train sample batches:   5%|▌         | 1/20 [00:00<00:03,  4.91it/s]\u001b[A\n",
            "train sample batches:  10%|█         | 2/20 [00:00<00:03,  5.26it/s]\u001b[A\n",
            "train sample batches:  15%|█▌        | 3/20 [00:00<00:03,  5.13it/s]\u001b[A\n",
            "train sample batches:  20%|██        | 4/20 [00:00<00:03,  5.14it/s]\u001b[A\n",
            "train sample batches:  25%|██▌       | 5/20 [00:00<00:02,  5.11it/s]\u001b[A\n",
            "train sample batches:  30%|███       | 6/20 [00:01<00:02,  5.10it/s]\u001b[A\n",
            "train sample batches:  35%|███▌      | 7/20 [00:01<00:02,  5.21it/s]\u001b[A\n",
            "train sample batches:  40%|████      | 8/20 [00:01<00:02,  5.16it/s]\u001b[A\n",
            "train sample batches:  45%|████▌     | 9/20 [00:01<00:02,  5.18it/s]\u001b[A\n",
            "train sample batches:  50%|█████     | 10/20 [00:01<00:01,  5.21it/s]\u001b[A\n",
            "train sample batches:  55%|█████▌    | 11/20 [00:02<00:01,  5.16it/s]\u001b[A\n",
            "train sample batches:  60%|██████    | 12/20 [00:02<00:01,  5.01it/s]\u001b[A\n",
            "train sample batches:  65%|██████▌   | 13/20 [00:02<00:01,  5.06it/s]\u001b[A\n",
            "train sample batches:  70%|███████   | 14/20 [00:02<00:01,  5.06it/s]\u001b[A\n",
            "train sample batches:  75%|███████▌  | 15/20 [00:02<00:00,  5.02it/s]\u001b[A\n",
            "train sample batches:  80%|████████  | 16/20 [00:03<00:00,  5.11it/s]\u001b[A\n",
            "train sample batches:  85%|████████▌ | 17/20 [00:03<00:00,  5.01it/s]\u001b[A\n",
            "train sample batches:  90%|█████████ | 18/20 [00:03<00:00,  5.05it/s]\u001b[A\n",
            "train sample batches:  95%|█████████▌| 19/20 [00:03<00:00,  5.08it/s]\u001b[A\n",
            "train sample batches: 100%|██████████| 20/20 [00:03<00:00,  5.10it/s]\n",
            "\n",
            "validation sample batches:   0%|          | 0/9 [00:00<?, ?it/s]\u001b[A\n",
            "validation sample batches:  44%|████▍     | 4/9 [00:00<00:00, 30.23it/s]\u001b[A\n",
            "validation sample batches: 100%|██████████| 9/9 [00:00<00:00, 26.10it/s]\n",
            "epochs:  15%|█▌        | 15/100 [01:05<06:09,  4.34s/it]"
          ]
        },
        {
          "output_type": "stream",
          "name": "stdout",
          "text": [
            "Epoch 00133: reducing learning rate of group 0 to 5.4036e-04.\n",
            "Epoch train loss 2.0131288886070253\n",
            "Epoch val_loss 2.0568079948425293\n"
          ]
        },
        {
          "output_type": "stream",
          "name": "stderr",
          "text": [
            "\n",
            "train sample batches:   0%|          | 0/20 [00:00<?, ?it/s]\u001b[A\n",
            "train sample batches:   5%|▌         | 1/20 [00:00<00:03,  5.44it/s]\u001b[A\n",
            "train sample batches:  10%|█         | 2/20 [00:00<00:03,  5.17it/s]\u001b[A\n",
            "train sample batches:  15%|█▌        | 3/20 [00:00<00:03,  5.24it/s]\u001b[A\n",
            "train sample batches:  20%|██        | 4/20 [00:00<00:03,  5.16it/s]\u001b[A\n",
            "train sample batches:  25%|██▌       | 5/20 [00:00<00:03,  4.99it/s]\u001b[A\n",
            "train sample batches:  30%|███       | 6/20 [00:01<00:02,  4.93it/s]\u001b[A\n",
            "train sample batches:  35%|███▌      | 7/20 [00:01<00:02,  5.03it/s]\u001b[A\n",
            "train sample batches:  40%|████      | 8/20 [00:01<00:02,  5.09it/s]\u001b[A\n",
            "train sample batches:  45%|████▌     | 9/20 [00:01<00:02,  5.05it/s]\u001b[A\n",
            "train sample batches:  50%|█████     | 10/20 [00:01<00:01,  5.09it/s]\u001b[A\n",
            "train sample batches:  55%|█████▌    | 11/20 [00:02<00:01,  5.04it/s]\u001b[A\n",
            "train sample batches:  60%|██████    | 12/20 [00:02<00:01,  5.04it/s]\u001b[A\n",
            "train sample batches:  65%|██████▌   | 13/20 [00:02<00:01,  5.12it/s]\u001b[A\n",
            "train sample batches:  70%|███████   | 14/20 [00:02<00:01,  5.07it/s]\u001b[A\n",
            "train sample batches:  75%|███████▌  | 15/20 [00:02<00:00,  5.10it/s]\u001b[A\n",
            "train sample batches:  80%|████████  | 16/20 [00:03<00:00,  4.99it/s]\u001b[A\n",
            "train sample batches:  85%|████████▌ | 17/20 [00:03<00:00,  5.00it/s]\u001b[A\n",
            "train sample batches:  90%|█████████ | 18/20 [00:03<00:00,  5.02it/s]\u001b[A\n",
            "train sample batches:  95%|█████████▌| 19/20 [00:03<00:00,  5.01it/s]\u001b[A\n",
            "train sample batches: 100%|██████████| 20/20 [00:03<00:00,  5.05it/s]\n",
            "\n",
            "validation sample batches:   0%|          | 0/9 [00:00<?, ?it/s]\u001b[A\n",
            "validation sample batches:  33%|███▎      | 3/9 [00:00<00:00, 22.10it/s]\u001b[A\n",
            "validation sample batches:  67%|██████▋   | 6/9 [00:00<00:00, 22.88it/s]\u001b[A\n",
            "validation sample batches: 100%|██████████| 9/9 [00:00<00:00, 23.14it/s]\n",
            "epochs:  16%|█▌        | 16/100 [01:09<06:06,  4.36s/it]"
          ]
        },
        {
          "output_type": "stream",
          "name": "stdout",
          "text": [
            "Epoch 00144: reducing learning rate of group 0 to 5.1334e-04.\n",
            "Epoch train loss 1.9519098281860352\n",
            "Epoch val_loss 2.0643372535705566\n"
          ]
        },
        {
          "output_type": "stream",
          "name": "stderr",
          "text": [
            "\n",
            "train sample batches:   0%|          | 0/20 [00:00<?, ?it/s]\u001b[A\n",
            "train sample batches:   5%|▌         | 1/20 [00:00<00:03,  5.20it/s]\u001b[A\n",
            "train sample batches:  10%|█         | 2/20 [00:00<00:03,  5.08it/s]\u001b[A\n",
            "train sample batches:  15%|█▌        | 3/20 [00:00<00:03,  4.97it/s]\u001b[A\n",
            "train sample batches:  20%|██        | 4/20 [00:00<00:03,  4.93it/s]\u001b[A\n",
            "train sample batches:  25%|██▌       | 5/20 [00:00<00:02,  5.05it/s]\u001b[A\n",
            "train sample batches:  30%|███       | 6/20 [00:01<00:02,  5.03it/s]\u001b[A\n",
            "train sample batches:  35%|███▌      | 7/20 [00:01<00:02,  4.98it/s]\u001b[A\n",
            "train sample batches:  40%|████      | 8/20 [00:01<00:02,  5.00it/s]\u001b[A\n",
            "train sample batches:  45%|████▌     | 9/20 [00:01<00:02,  4.90it/s]\u001b[A\n",
            "train sample batches:  50%|█████     | 10/20 [00:02<00:02,  4.82it/s]\u001b[A\n",
            "train sample batches:  55%|█████▌    | 11/20 [00:02<00:01,  4.96it/s]\u001b[A\n",
            "train sample batches:  60%|██████    | 12/20 [00:02<00:01,  5.01it/s]\u001b[A\n",
            "train sample batches:  65%|██████▌   | 13/20 [00:02<00:01,  4.98it/s]\u001b[A\n",
            "train sample batches:  70%|███████   | 14/20 [00:02<00:01,  4.86it/s]\u001b[A\n",
            "train sample batches:  75%|███████▌  | 15/20 [00:03<00:01,  4.93it/s]\u001b[A\n",
            "train sample batches:  80%|████████  | 16/20 [00:03<00:00,  4.96it/s]\u001b[A\n",
            "train sample batches:  85%|████████▌ | 17/20 [00:03<00:00,  4.98it/s]\u001b[A\n",
            "train sample batches:  90%|█████████ | 18/20 [00:03<00:00,  5.05it/s]\u001b[A\n",
            "train sample batches:  95%|█████████▌| 19/20 [00:03<00:00,  4.93it/s]\u001b[A\n",
            "train sample batches: 100%|██████████| 20/20 [00:04<00:00,  4.97it/s]\n",
            "\n",
            "validation sample batches:   0%|          | 0/9 [00:00<?, ?it/s]\u001b[A\n",
            "validation sample batches:  33%|███▎      | 3/9 [00:00<00:00, 22.82it/s]\u001b[A\n",
            "validation sample batches:  67%|██████▋   | 6/9 [00:00<00:00, 22.60it/s]\u001b[A\n",
            "validation sample batches: 100%|██████████| 9/9 [00:00<00:00, 22.97it/s]\n",
            "epochs:  17%|█▋        | 17/100 [01:14<06:04,  4.39s/it]"
          ]
        },
        {
          "output_type": "stream",
          "name": "stdout",
          "text": [
            "Epoch train loss 1.8438119113445282\n",
            "Epoch val_loss 2.0126073360443115\n"
          ]
        },
        {
          "output_type": "stream",
          "name": "stderr",
          "text": [
            "\n",
            "train sample batches:   0%|          | 0/20 [00:00<?, ?it/s]\u001b[A\n",
            "train sample batches:   5%|▌         | 1/20 [00:00<00:03,  4.96it/s]\u001b[A\n",
            "train sample batches:  10%|█         | 2/20 [00:00<00:03,  4.91it/s]\u001b[A\n",
            "train sample batches:  15%|█▌        | 3/20 [00:00<00:03,  4.96it/s]\u001b[A\n",
            "train sample batches:  20%|██        | 4/20 [00:00<00:03,  5.01it/s]\u001b[A\n",
            "train sample batches:  25%|██▌       | 5/20 [00:00<00:02,  5.06it/s]\u001b[A\n",
            "train sample batches:  30%|███       | 6/20 [00:01<00:02,  5.00it/s]\u001b[A\n",
            "train sample batches:  35%|███▌      | 7/20 [00:01<00:02,  4.98it/s]\u001b[A\n",
            "train sample batches:  40%|████      | 8/20 [00:01<00:02,  4.94it/s]\u001b[A\n",
            "train sample batches:  45%|████▌     | 9/20 [00:01<00:02,  5.00it/s]\u001b[A\n",
            "train sample batches:  50%|█████     | 10/20 [00:01<00:01,  5.07it/s]\u001b[A\n",
            "train sample batches:  55%|█████▌    | 11/20 [00:02<00:01,  5.04it/s]\u001b[A\n",
            "train sample batches:  60%|██████    | 12/20 [00:02<00:01,  4.95it/s]\u001b[A\n",
            "train sample batches:  65%|██████▌   | 13/20 [00:02<00:01,  4.97it/s]\u001b[A\n",
            "train sample batches:  70%|███████   | 14/20 [00:02<00:01,  4.94it/s]\u001b[A\n",
            "train sample batches:  75%|███████▌  | 15/20 [00:03<00:01,  4.89it/s]\u001b[A\n",
            "train sample batches:  80%|████████  | 16/20 [00:03<00:00,  4.89it/s]\u001b[A\n",
            "train sample batches:  85%|████████▌ | 17/20 [00:03<00:00,  4.79it/s]\u001b[A\n",
            "train sample batches:  90%|█████████ | 18/20 [00:03<00:00,  4.81it/s]\u001b[A\n",
            "train sample batches:  95%|█████████▌| 19/20 [00:03<00:00,  4.86it/s]\u001b[A\n",
            "train sample batches: 100%|██████████| 20/20 [00:04<00:00,  4.93it/s]\n",
            "\n",
            "validation sample batches:   0%|          | 0/9 [00:00<?, ?it/s]\u001b[A\n",
            "validation sample batches:  33%|███▎      | 3/9 [00:00<00:00, 25.28it/s]\u001b[A\n",
            "validation sample batches:  67%|██████▋   | 6/9 [00:00<00:00, 21.86it/s]\u001b[A"
          ]
        },
        {
          "output_type": "stream",
          "name": "stdout",
          "text": [
            "Epoch 00155: reducing learning rate of group 0 to 4.8767e-04.\n"
          ]
        },
        {
          "output_type": "stream",
          "name": "stderr",
          "text": [
            "\n",
            "validation sample batches: 100%|██████████| 9/9 [00:00<00:00, 22.40it/s]\n",
            "epochs:  18%|█▊        | 18/100 [01:18<06:02,  4.42s/it]"
          ]
        },
        {
          "output_type": "stream",
          "name": "stdout",
          "text": [
            "Epoch train loss 1.8408357799053192\n",
            "Epoch val_loss 1.9949675798416138\n"
          ]
        },
        {
          "output_type": "stream",
          "name": "stderr",
          "text": [
            "\n",
            "train sample batches:   0%|          | 0/20 [00:00<?, ?it/s]\u001b[A\n",
            "train sample batches:   5%|▌         | 1/20 [00:00<00:03,  5.11it/s]\u001b[A\n",
            "train sample batches:  10%|█         | 2/20 [00:00<00:03,  4.80it/s]\u001b[A\n",
            "train sample batches:  15%|█▌        | 3/20 [00:00<00:03,  4.84it/s]\u001b[A\n",
            "train sample batches:  20%|██        | 4/20 [00:00<00:03,  4.88it/s]\u001b[A\n",
            "train sample batches:  25%|██▌       | 5/20 [00:01<00:03,  4.94it/s]\u001b[A\n",
            "train sample batches:  30%|███       | 6/20 [00:01<00:02,  4.95it/s]\u001b[A\n",
            "train sample batches:  35%|███▌      | 7/20 [00:01<00:02,  4.96it/s]\u001b[A\n",
            "train sample batches:  40%|████      | 8/20 [00:01<00:02,  5.00it/s]\u001b[A\n",
            "train sample batches:  45%|████▌     | 9/20 [00:01<00:02,  5.02it/s]\u001b[A\n",
            "train sample batches:  50%|█████     | 10/20 [00:02<00:02,  4.93it/s]\u001b[A\n",
            "train sample batches:  55%|█████▌    | 11/20 [00:02<00:01,  5.02it/s]\u001b[A\n",
            "train sample batches:  60%|██████    | 12/20 [00:02<00:01,  5.07it/s]\u001b[A\n",
            "train sample batches:  65%|██████▌   | 13/20 [00:02<00:01,  5.14it/s]\u001b[A\n",
            "train sample batches:  70%|███████   | 14/20 [00:02<00:01,  5.16it/s]\u001b[A\n",
            "train sample batches:  75%|███████▌  | 15/20 [00:03<00:00,  5.02it/s]\u001b[A\n",
            "train sample batches:  80%|████████  | 16/20 [00:03<00:00,  5.03it/s]\u001b[A\n",
            "train sample batches:  85%|████████▌ | 17/20 [00:03<00:00,  5.02it/s]\u001b[A\n",
            "train sample batches:  90%|█████████ | 18/20 [00:03<00:00,  5.05it/s]\u001b[A\n",
            "train sample batches:  95%|█████████▌| 19/20 [00:03<00:00,  4.94it/s]\u001b[A\n",
            "train sample batches: 100%|██████████| 20/20 [00:04<00:00,  4.98it/s]\n",
            "\n",
            "validation sample batches:   0%|          | 0/9 [00:00<?, ?it/s]\u001b[A\n",
            "validation sample batches:  33%|███▎      | 3/9 [00:00<00:00, 25.77it/s]\u001b[A\n",
            "validation sample batches:  67%|██████▋   | 6/9 [00:00<00:00, 24.34it/s]\u001b[A"
          ]
        },
        {
          "output_type": "stream",
          "name": "stdout",
          "text": [
            "Epoch 00166: reducing learning rate of group 0 to 4.6329e-04.\n"
          ]
        },
        {
          "output_type": "stream",
          "name": "stderr",
          "text": [
            "\n",
            "validation sample batches: 100%|██████████| 9/9 [00:00<00:00, 23.03it/s]\n",
            "epochs:  19%|█▉        | 19/100 [01:23<05:58,  4.43s/it]"
          ]
        },
        {
          "output_type": "stream",
          "name": "stdout",
          "text": [
            "Epoch train loss 1.784613448381424\n",
            "Epoch val_loss 1.9173561334609985\n"
          ]
        },
        {
          "output_type": "stream",
          "name": "stderr",
          "text": [
            "\n",
            "train sample batches:   0%|          | 0/20 [00:00<?, ?it/s]\u001b[A\n",
            "train sample batches:   5%|▌         | 1/20 [00:00<00:03,  5.29it/s]\u001b[A\n",
            "train sample batches:  10%|█         | 2/20 [00:00<00:03,  5.07it/s]\u001b[A\n",
            "train sample batches:  15%|█▌        | 3/20 [00:00<00:03,  4.96it/s]\u001b[A\n",
            "train sample batches:  20%|██        | 4/20 [00:00<00:03,  5.00it/s]\u001b[A\n",
            "train sample batches:  25%|██▌       | 5/20 [00:01<00:03,  4.79it/s]\u001b[A\n",
            "train sample batches:  30%|███       | 6/20 [00:01<00:02,  4.88it/s]\u001b[A\n",
            "train sample batches:  35%|███▌      | 7/20 [00:01<00:02,  4.86it/s]\u001b[A\n",
            "train sample batches:  40%|████      | 8/20 [00:01<00:02,  4.80it/s]\u001b[A\n",
            "train sample batches:  45%|████▌     | 9/20 [00:01<00:02,  4.89it/s]\u001b[A\n",
            "train sample batches:  50%|█████     | 10/20 [00:02<00:02,  4.88it/s]\u001b[A\n",
            "train sample batches:  55%|█████▌    | 11/20 [00:02<00:01,  4.90it/s]\u001b[A\n",
            "train sample batches:  60%|██████    | 12/20 [00:02<00:01,  4.94it/s]\u001b[A\n",
            "train sample batches:  65%|██████▌   | 13/20 [00:02<00:01,  4.86it/s]\u001b[A\n",
            "train sample batches:  70%|███████   | 14/20 [00:02<00:01,  4.92it/s]\u001b[A\n",
            "train sample batches:  75%|███████▌  | 15/20 [00:03<00:01,  4.96it/s]\u001b[A\n",
            "train sample batches:  80%|████████  | 16/20 [00:03<00:00,  5.03it/s]\u001b[A\n",
            "train sample batches:  85%|████████▌ | 17/20 [00:03<00:00,  4.92it/s]\u001b[A\n",
            "train sample batches:  90%|█████████ | 18/20 [00:03<00:00,  4.89it/s]\u001b[A\n",
            "train sample batches:  95%|█████████▌| 19/20 [00:03<00:00,  4.86it/s]\u001b[A\n",
            "train sample batches: 100%|██████████| 20/20 [00:04<00:00,  4.91it/s]\n",
            "\n",
            "validation sample batches:   0%|          | 0/9 [00:00<?, ?it/s]\u001b[A\n",
            "validation sample batches:  33%|███▎      | 3/9 [00:00<00:00, 26.14it/s]\u001b[A\n",
            "validation sample batches:  67%|██████▋   | 6/9 [00:00<00:00, 22.13it/s]\u001b[A\n",
            "validation sample batches: 100%|██████████| 9/9 [00:00<00:00, 22.49it/s]\n",
            "epochs:  20%|██        | 20/100 [01:27<05:56,  4.46s/it]"
          ]
        },
        {
          "output_type": "stream",
          "name": "stdout",
          "text": [
            "Epoch 00177: reducing learning rate of group 0 to 4.4013e-04.\n",
            "Epoch train loss 1.8000834047794343\n",
            "Epoch val_loss 2.014313220977783\n"
          ]
        },
        {
          "output_type": "stream",
          "name": "stderr",
          "text": [
            "\n",
            "train sample batches:   0%|          | 0/20 [00:00<?, ?it/s]\u001b[A\n",
            "train sample batches:   5%|▌         | 1/20 [00:00<00:03,  4.91it/s]\u001b[A\n",
            "train sample batches:  10%|█         | 2/20 [00:00<00:03,  4.99it/s]\u001b[A\n",
            "train sample batches:  15%|█▌        | 3/20 [00:00<00:03,  5.08it/s]\u001b[A\n",
            "train sample batches:  20%|██        | 4/20 [00:00<00:03,  5.02it/s]\u001b[A\n",
            "train sample batches:  25%|██▌       | 5/20 [00:01<00:03,  4.99it/s]\u001b[A\n",
            "train sample batches:  30%|███       | 6/20 [00:01<00:02,  4.96it/s]\u001b[A\n",
            "train sample batches:  35%|███▌      | 7/20 [00:01<00:02,  4.93it/s]\u001b[A\n",
            "train sample batches:  40%|████      | 8/20 [00:01<00:02,  5.02it/s]\u001b[A\n",
            "train sample batches:  45%|████▌     | 9/20 [00:01<00:02,  5.04it/s]\u001b[A\n",
            "train sample batches:  50%|█████     | 10/20 [00:01<00:01,  5.05it/s]\u001b[A\n",
            "train sample batches:  55%|█████▌    | 11/20 [00:02<00:01,  5.01it/s]\u001b[A\n",
            "train sample batches:  60%|██████    | 12/20 [00:02<00:01,  5.01it/s]\u001b[A\n",
            "train sample batches:  65%|██████▌   | 13/20 [00:02<00:01,  5.04it/s]\u001b[A\n",
            "train sample batches:  70%|███████   | 14/20 [00:02<00:01,  5.03it/s]\u001b[A\n",
            "train sample batches:  75%|███████▌  | 15/20 [00:03<00:01,  4.92it/s]\u001b[A\n",
            "train sample batches:  80%|████████  | 16/20 [00:03<00:00,  4.93it/s]\u001b[A\n",
            "train sample batches:  85%|████████▌ | 17/20 [00:03<00:00,  4.92it/s]\u001b[A\n",
            "train sample batches:  90%|█████████ | 18/20 [00:03<00:00,  4.93it/s]\u001b[A\n",
            "train sample batches:  95%|█████████▌| 19/20 [00:03<00:00,  4.94it/s]\u001b[A\n",
            "train sample batches: 100%|██████████| 20/20 [00:04<00:00,  4.99it/s]\n",
            "\n",
            "validation sample batches:   0%|          | 0/9 [00:00<?, ?it/s]\u001b[A\n",
            "validation sample batches:  33%|███▎      | 3/9 [00:00<00:00, 25.82it/s]\u001b[A\n",
            "validation sample batches:  67%|██████▋   | 6/9 [00:00<00:00, 22.63it/s]\u001b[A\n",
            "validation sample batches: 100%|██████████| 9/9 [00:00<00:00, 22.54it/s]\n",
            "epochs:  21%|██        | 21/100 [01:32<05:52,  4.46s/it]"
          ]
        },
        {
          "output_type": "stream",
          "name": "stdout",
          "text": [
            "Epoch 00188: reducing learning rate of group 0 to 4.1812e-04.\n",
            "Epoch train loss 1.738484251499176\n",
            "Epoch val_loss 1.5401901006698608\n"
          ]
        },
        {
          "output_type": "stream",
          "name": "stderr",
          "text": [
            "\n",
            "train sample batches:   0%|          | 0/20 [00:00<?, ?it/s]\u001b[A\n",
            "train sample batches:   5%|▌         | 1/20 [00:00<00:03,  5.29it/s]\u001b[A\n",
            "train sample batches:  10%|█         | 2/20 [00:00<00:03,  5.22it/s]\u001b[A\n",
            "train sample batches:  15%|█▌        | 3/20 [00:00<00:03,  5.10it/s]\u001b[A\n",
            "train sample batches:  20%|██        | 4/20 [00:00<00:03,  5.10it/s]\u001b[A\n",
            "train sample batches:  25%|██▌       | 5/20 [00:00<00:02,  5.13it/s]\u001b[A\n",
            "train sample batches:  30%|███       | 6/20 [00:01<00:02,  5.10it/s]\u001b[A\n",
            "train sample batches:  35%|███▌      | 7/20 [00:01<00:02,  5.09it/s]\u001b[A\n",
            "train sample batches:  40%|████      | 8/20 [00:01<00:02,  5.03it/s]\u001b[A\n",
            "train sample batches:  45%|████▌     | 9/20 [00:01<00:02,  5.00it/s]\u001b[A\n",
            "train sample batches:  50%|█████     | 10/20 [00:01<00:02,  4.91it/s]\u001b[A\n",
            "train sample batches:  55%|█████▌    | 11/20 [00:02<00:01,  4.83it/s]\u001b[A\n",
            "train sample batches:  60%|██████    | 12/20 [00:02<00:01,  4.89it/s]\u001b[A\n",
            "train sample batches:  65%|██████▌   | 13/20 [00:02<00:01,  4.92it/s]\u001b[A\n",
            "train sample batches:  70%|███████   | 14/20 [00:02<00:01,  5.07it/s]\u001b[A\n",
            "train sample batches:  75%|███████▌  | 15/20 [00:02<00:01,  4.98it/s]\u001b[A\n",
            "train sample batches:  80%|████████  | 16/20 [00:03<00:00,  4.99it/s]\u001b[A\n",
            "train sample batches:  85%|████████▌ | 17/20 [00:03<00:00,  4.99it/s]\u001b[A\n",
            "train sample batches:  90%|█████████ | 18/20 [00:03<00:00,  4.98it/s]\u001b[A\n",
            "train sample batches:  95%|█████████▌| 19/20 [00:03<00:00,  5.05it/s]\u001b[A\n",
            "train sample batches: 100%|██████████| 20/20 [00:03<00:00,  5.02it/s]\n",
            "\n",
            "validation sample batches:   0%|          | 0/9 [00:00<?, ?it/s]\u001b[A\n",
            "validation sample batches:  33%|███▎      | 3/9 [00:00<00:00, 24.89it/s]\u001b[A\n",
            "validation sample batches:  67%|██████▋   | 6/9 [00:00<00:00, 23.02it/s]\u001b[A\n",
            "validation sample batches: 100%|██████████| 9/9 [00:00<00:00, 22.83it/s]\n",
            "epochs:  22%|██▏       | 22/100 [01:36<05:47,  4.45s/it]"
          ]
        },
        {
          "output_type": "stream",
          "name": "stdout",
          "text": [
            "Epoch train loss 1.6575214207172393\n",
            "Epoch val_loss 1.1515346765518188\n"
          ]
        },
        {
          "output_type": "stream",
          "name": "stderr",
          "text": [
            "\n",
            "train sample batches:   0%|          | 0/20 [00:00<?, ?it/s]\u001b[A\n",
            "train sample batches:   5%|▌         | 1/20 [00:00<00:03,  5.12it/s]\u001b[A\n",
            "train sample batches:  10%|█         | 2/20 [00:00<00:03,  4.90it/s]\u001b[A\n",
            "train sample batches:  15%|█▌        | 3/20 [00:00<00:03,  4.80it/s]\u001b[A\n",
            "train sample batches:  20%|██        | 4/20 [00:00<00:03,  4.82it/s]\u001b[A\n",
            "train sample batches:  25%|██▌       | 5/20 [00:01<00:03,  4.93it/s]\u001b[A\n",
            "train sample batches:  30%|███       | 6/20 [00:01<00:02,  4.94it/s]\u001b[A\n",
            "train sample batches:  35%|███▌      | 7/20 [00:01<00:02,  4.93it/s]\u001b[A\n",
            "train sample batches:  40%|████      | 8/20 [00:01<00:02,  4.95it/s]\u001b[A\n",
            "train sample batches:  45%|████▌     | 9/20 [00:01<00:02,  4.90it/s]\u001b[A\n",
            "train sample batches:  50%|█████     | 10/20 [00:02<00:02,  4.88it/s]\u001b[A\n",
            "train sample batches:  55%|█████▌    | 11/20 [00:02<00:01,  4.84it/s]\u001b[A\n",
            "train sample batches:  60%|██████    | 12/20 [00:02<00:01,  4.89it/s]\u001b[A\n",
            "train sample batches:  65%|██████▌   | 13/20 [00:02<00:01,  4.86it/s]\u001b[A\n",
            "train sample batches:  70%|███████   | 14/20 [00:02<00:01,  4.90it/s]\u001b[A\n",
            "train sample batches:  75%|███████▌  | 15/20 [00:03<00:01,  4.90it/s]\u001b[A\n",
            "train sample batches:  80%|████████  | 16/20 [00:03<00:00,  4.86it/s]\u001b[A\n",
            "train sample batches:  85%|████████▌ | 17/20 [00:03<00:00,  4.91it/s]\u001b[A\n",
            "train sample batches:  90%|█████████ | 18/20 [00:03<00:00,  4.88it/s]\u001b[A\n",
            "train sample batches:  95%|█████████▌| 19/20 [00:03<00:00,  4.88it/s]\u001b[A\n",
            "train sample batches: 100%|██████████| 20/20 [00:04<00:00,  4.90it/s]\n",
            "\n",
            "validation sample batches:   0%|          | 0/9 [00:00<?, ?it/s]\u001b[A\n",
            "validation sample batches:  33%|███▎      | 3/9 [00:00<00:00, 24.43it/s]\u001b[A"
          ]
        },
        {
          "output_type": "stream",
          "name": "stdout",
          "text": [
            "Epoch 00199: reducing learning rate of group 0 to 3.9721e-04.\n"
          ]
        },
        {
          "output_type": "stream",
          "name": "stderr",
          "text": [
            "\n",
            "validation sample batches:  67%|██████▋   | 6/9 [00:00<00:00, 21.88it/s]\u001b[A\n",
            "validation sample batches: 100%|██████████| 9/9 [00:00<00:00, 22.11it/s]\n",
            "epochs:  23%|██▎       | 23/100 [01:41<05:45,  4.49s/it]"
          ]
        },
        {
          "output_type": "stream",
          "name": "stdout",
          "text": [
            "Epoch train loss 1.678874397277832\n",
            "Epoch val_loss 1.5861824750900269\n"
          ]
        },
        {
          "output_type": "stream",
          "name": "stderr",
          "text": [
            "\n",
            "train sample batches:   0%|          | 0/20 [00:00<?, ?it/s]\u001b[A\n",
            "train sample batches:   5%|▌         | 1/20 [00:00<00:04,  4.68it/s]\u001b[A\n",
            "train sample batches:  10%|█         | 2/20 [00:00<00:03,  4.82it/s]\u001b[A\n",
            "train sample batches:  15%|█▌        | 3/20 [00:00<00:03,  5.00it/s]\u001b[A\n",
            "train sample batches:  20%|██        | 4/20 [00:00<00:03,  5.01it/s]\u001b[A\n",
            "train sample batches:  25%|██▌       | 5/20 [00:01<00:03,  4.82it/s]\u001b[A\n",
            "train sample batches:  30%|███       | 6/20 [00:01<00:02,  4.85it/s]\u001b[A\n",
            "train sample batches:  35%|███▌      | 7/20 [00:01<00:02,  4.80it/s]\u001b[A\n",
            "train sample batches:  40%|████      | 8/20 [00:01<00:02,  4.85it/s]\u001b[A\n",
            "train sample batches:  45%|████▌     | 9/20 [00:01<00:02,  4.90it/s]\u001b[A\n",
            "train sample batches:  50%|█████     | 10/20 [00:02<00:02,  4.88it/s]\u001b[A\n",
            "train sample batches:  55%|█████▌    | 11/20 [00:02<00:01,  4.83it/s]\u001b[A\n",
            "train sample batches:  60%|██████    | 12/20 [00:02<00:01,  4.80it/s]\u001b[A\n",
            "train sample batches:  65%|██████▌   | 13/20 [00:02<00:01,  4.86it/s]\u001b[A\n",
            "train sample batches:  70%|███████   | 14/20 [00:02<00:01,  4.90it/s]\u001b[A\n",
            "train sample batches:  75%|███████▌  | 15/20 [00:03<00:01,  4.81it/s]\u001b[A\n",
            "train sample batches:  80%|████████  | 16/20 [00:03<00:00,  4.85it/s]\u001b[A\n",
            "train sample batches:  85%|████████▌ | 17/20 [00:03<00:00,  4.78it/s]\u001b[A\n",
            "train sample batches:  90%|█████████ | 18/20 [00:03<00:00,  4.82it/s]\u001b[A\n",
            "train sample batches:  95%|█████████▌| 19/20 [00:03<00:00,  4.81it/s]\u001b[A\n",
            "train sample batches: 100%|██████████| 20/20 [00:04<00:00,  4.84it/s]\n",
            "\n",
            "validation sample batches:   0%|          | 0/9 [00:00<?, ?it/s]\u001b[A\n",
            "validation sample batches:  33%|███▎      | 3/9 [00:00<00:00, 22.11it/s]\u001b[A\n",
            "validation sample batches:  67%|██████▋   | 6/9 [00:00<00:00, 22.39it/s]\u001b[A"
          ]
        },
        {
          "output_type": "stream",
          "name": "stdout",
          "text": [
            "Epoch 00210: reducing learning rate of group 0 to 3.7735e-04.\n"
          ]
        },
        {
          "output_type": "stream",
          "name": "stderr",
          "text": [
            "\n",
            "validation sample batches: 100%|██████████| 9/9 [00:00<00:00, 22.13it/s]\n",
            "epochs:  24%|██▍       | 24/100 [01:45<05:43,  4.52s/it]"
          ]
        },
        {
          "output_type": "stream",
          "name": "stdout",
          "text": [
            "Epoch train loss 1.6490447640419006\n",
            "Epoch val_loss 1.9726279973983765\n"
          ]
        },
        {
          "output_type": "stream",
          "name": "stderr",
          "text": [
            "\n",
            "train sample batches:   0%|          | 0/20 [00:00<?, ?it/s]\u001b[A\n",
            "train sample batches:   5%|▌         | 1/20 [00:00<00:03,  5.01it/s]\u001b[A\n",
            "train sample batches:  10%|█         | 2/20 [00:00<00:03,  4.98it/s]\u001b[A\n",
            "train sample batches:  15%|█▌        | 3/20 [00:00<00:03,  4.96it/s]\u001b[A\n",
            "train sample batches:  20%|██        | 4/20 [00:00<00:03,  4.99it/s]\u001b[A\n",
            "train sample batches:  25%|██▌       | 5/20 [00:01<00:03,  5.00it/s]\u001b[A\n",
            "train sample batches:  30%|███       | 6/20 [00:01<00:02,  4.98it/s]\u001b[A\n",
            "train sample batches:  35%|███▌      | 7/20 [00:01<00:02,  5.08it/s]\u001b[A\n",
            "train sample batches:  40%|████      | 8/20 [00:01<00:02,  5.04it/s]\u001b[A\n",
            "train sample batches:  45%|████▌     | 9/20 [00:01<00:02,  5.07it/s]\u001b[A\n",
            "train sample batches:  50%|█████     | 10/20 [00:01<00:01,  5.02it/s]\u001b[A\n",
            "train sample batches:  55%|█████▌    | 11/20 [00:02<00:01,  4.99it/s]\u001b[A\n",
            "train sample batches:  60%|██████    | 12/20 [00:02<00:01,  5.06it/s]\u001b[A\n",
            "train sample batches:  65%|██████▌   | 13/20 [00:02<00:01,  5.05it/s]\u001b[A\n",
            "train sample batches:  70%|███████   | 14/20 [00:02<00:01,  5.00it/s]\u001b[A\n",
            "train sample batches:  75%|███████▌  | 15/20 [00:02<00:00,  5.03it/s]\u001b[A\n",
            "train sample batches:  80%|████████  | 16/20 [00:03<00:00,  5.07it/s]\u001b[A\n",
            "train sample batches:  85%|████████▌ | 17/20 [00:03<00:00,  5.02it/s]\u001b[A\n",
            "train sample batches:  90%|█████████ | 18/20 [00:03<00:00,  5.01it/s]\u001b[A\n",
            "train sample batches:  95%|█████████▌| 19/20 [00:03<00:00,  4.94it/s]\u001b[A\n",
            "train sample batches: 100%|██████████| 20/20 [00:03<00:00,  5.01it/s]\n",
            "\n",
            "validation sample batches:   0%|          | 0/9 [00:00<?, ?it/s]\u001b[A\n",
            "validation sample batches:  33%|███▎      | 3/9 [00:00<00:00, 26.13it/s]\u001b[A\n",
            "validation sample batches:  67%|██████▋   | 6/9 [00:00<00:00, 23.78it/s]\u001b[A\n",
            "validation sample batches: 100%|██████████| 9/9 [00:00<00:00, 24.26it/s]\n",
            "epochs:  25%|██▌       | 25/100 [01:50<05:36,  4.48s/it]"
          ]
        },
        {
          "output_type": "stream",
          "name": "stdout",
          "text": [
            "Epoch 00221: reducing learning rate of group 0 to 3.5849e-04.\n",
            "Epoch train loss 1.612871092557907\n",
            "Epoch val_loss 1.330633521080017\n"
          ]
        },
        {
          "output_type": "stream",
          "name": "stderr",
          "text": [
            "\n",
            "train sample batches:   0%|          | 0/20 [00:00<?, ?it/s]\u001b[A\n",
            "train sample batches:   5%|▌         | 1/20 [00:00<00:03,  4.96it/s]\u001b[A\n",
            "train sample batches:  10%|█         | 2/20 [00:00<00:03,  4.86it/s]\u001b[A\n",
            "train sample batches:  15%|█▌        | 3/20 [00:00<00:03,  4.86it/s]\u001b[A\n",
            "train sample batches:  20%|██        | 4/20 [00:00<00:03,  4.92it/s]\u001b[A\n",
            "train sample batches:  25%|██▌       | 5/20 [00:01<00:03,  4.96it/s]\u001b[A\n",
            "train sample batches:  30%|███       | 6/20 [00:01<00:02,  4.98it/s]\u001b[A\n",
            "train sample batches:  35%|███▌      | 7/20 [00:01<00:02,  4.87it/s]\u001b[A\n",
            "train sample batches:  40%|████      | 8/20 [00:01<00:02,  4.91it/s]\u001b[A\n",
            "train sample batches:  45%|████▌     | 9/20 [00:01<00:02,  4.95it/s]\u001b[A\n",
            "train sample batches:  50%|█████     | 10/20 [00:02<00:02,  4.96it/s]\u001b[A\n",
            "train sample batches:  55%|█████▌    | 11/20 [00:02<00:01,  4.92it/s]\u001b[A\n",
            "train sample batches:  60%|██████    | 12/20 [00:02<00:01,  4.82it/s]\u001b[A\n",
            "train sample batches:  65%|██████▌   | 13/20 [00:02<00:01,  4.80it/s]\u001b[A\n",
            "train sample batches:  70%|███████   | 14/20 [00:02<00:01,  4.86it/s]\u001b[A\n",
            "train sample batches:  75%|███████▌  | 15/20 [00:03<00:01,  4.82it/s]\u001b[A\n",
            "train sample batches:  80%|████████  | 16/20 [00:03<00:00,  4.87it/s]\u001b[A\n",
            "train sample batches:  85%|████████▌ | 17/20 [00:03<00:00,  4.81it/s]\u001b[A\n",
            "train sample batches:  90%|█████████ | 18/20 [00:03<00:00,  4.91it/s]\u001b[A\n",
            "train sample batches:  95%|█████████▌| 19/20 [00:03<00:00,  4.96it/s]\u001b[A\n",
            "train sample batches: 100%|██████████| 20/20 [00:04<00:00,  4.89it/s]\n",
            "\n",
            "validation sample batches:   0%|          | 0/9 [00:00<?, ?it/s]\u001b[A\n",
            "validation sample batches:  33%|███▎      | 3/9 [00:00<00:00, 24.64it/s]\u001b[A\n",
            "validation sample batches:  67%|██████▋   | 6/9 [00:00<00:00, 22.24it/s]\u001b[A\n",
            "validation sample batches: 100%|██████████| 9/9 [00:00<00:00, 23.02it/s]\n",
            "epochs:  26%|██▌       | 26/100 [01:54<05:32,  4.49s/it]"
          ]
        },
        {
          "output_type": "stream",
          "name": "stdout",
          "text": [
            "Epoch 00232: reducing learning rate of group 0 to 3.4056e-04.\n",
            "Epoch train loss 1.5874841898679732\n",
            "Epoch val_loss 1.8765085935592651\n"
          ]
        },
        {
          "output_type": "stream",
          "name": "stderr",
          "text": [
            "\n",
            "train sample batches:   0%|          | 0/20 [00:00<?, ?it/s]\u001b[A\n",
            "train sample batches:   5%|▌         | 1/20 [00:00<00:03,  4.83it/s]\u001b[A\n",
            "train sample batches:  10%|█         | 2/20 [00:00<00:03,  4.91it/s]\u001b[A\n",
            "train sample batches:  15%|█▌        | 3/20 [00:00<00:03,  4.86it/s]\u001b[A\n",
            "train sample batches:  20%|██        | 4/20 [00:00<00:03,  4.88it/s]\u001b[A\n",
            "train sample batches:  25%|██▌       | 5/20 [00:01<00:03,  4.94it/s]\u001b[A\n",
            "train sample batches:  30%|███       | 6/20 [00:01<00:02,  4.92it/s]\u001b[A\n",
            "train sample batches:  35%|███▌      | 7/20 [00:01<00:02,  4.95it/s]\u001b[A\n",
            "train sample batches:  40%|████      | 8/20 [00:01<00:02,  4.92it/s]\u001b[A\n",
            "train sample batches:  45%|████▌     | 9/20 [00:01<00:02,  4.91it/s]\u001b[A\n",
            "train sample batches:  50%|█████     | 10/20 [00:02<00:02,  4.87it/s]\u001b[A\n",
            "train sample batches:  55%|█████▌    | 11/20 [00:02<00:01,  4.88it/s]\u001b[A\n",
            "train sample batches:  60%|██████    | 12/20 [00:02<00:01,  4.89it/s]\u001b[A\n",
            "train sample batches:  65%|██████▌   | 13/20 [00:02<00:01,  4.93it/s]\u001b[A\n",
            "train sample batches:  70%|███████   | 14/20 [00:02<00:01,  4.96it/s]\u001b[A\n",
            "train sample batches:  75%|███████▌  | 15/20 [00:03<00:01,  4.92it/s]\u001b[A\n",
            "train sample batches:  80%|████████  | 16/20 [00:03<00:00,  4.93it/s]\u001b[A\n",
            "train sample batches:  85%|████████▌ | 17/20 [00:03<00:00,  4.92it/s]\u001b[A\n",
            "train sample batches:  90%|█████████ | 18/20 [00:03<00:00,  5.01it/s]\u001b[A\n",
            "train sample batches:  95%|█████████▌| 19/20 [00:03<00:00,  5.03it/s]\u001b[A\n",
            "train sample batches: 100%|██████████| 20/20 [00:04<00:00,  4.92it/s]\n",
            "\n",
            "validation sample batches:   0%|          | 0/9 [00:00<?, ?it/s]\u001b[A\n",
            "validation sample batches:  33%|███▎      | 3/9 [00:00<00:00, 26.15it/s]\u001b[A\n",
            "validation sample batches:  67%|██████▋   | 6/9 [00:00<00:00, 22.45it/s]\u001b[A\n",
            "validation sample batches: 100%|██████████| 9/9 [00:00<00:00, 22.34it/s]\n",
            "epochs:  27%|██▋       | 27/100 [01:59<05:28,  4.50s/it]"
          ]
        },
        {
          "output_type": "stream",
          "name": "stdout",
          "text": [
            "Epoch 00243: reducing learning rate of group 0 to 3.2353e-04.\n",
            "Epoch train loss 1.5572781980037689\n",
            "Epoch val_loss 1.5539761781692505\n"
          ]
        },
        {
          "output_type": "stream",
          "name": "stderr",
          "text": [
            "\n",
            "train sample batches:   0%|          | 0/20 [00:00<?, ?it/s]\u001b[A\n",
            "train sample batches:   5%|▌         | 1/20 [00:00<00:03,  5.09it/s]\u001b[A\n",
            "train sample batches:  10%|█         | 2/20 [00:00<00:03,  4.74it/s]\u001b[A\n",
            "train sample batches:  15%|█▌        | 3/20 [00:00<00:03,  4.76it/s]\u001b[A\n",
            "train sample batches:  20%|██        | 4/20 [00:00<00:03,  4.78it/s]\u001b[A\n",
            "train sample batches:  25%|██▌       | 5/20 [00:01<00:03,  4.80it/s]\u001b[A\n",
            "train sample batches:  30%|███       | 6/20 [00:01<00:02,  4.92it/s]\u001b[A\n",
            "train sample batches:  35%|███▌      | 7/20 [00:01<00:02,  4.89it/s]\u001b[A\n",
            "train sample batches:  40%|████      | 8/20 [00:01<00:02,  4.87it/s]\u001b[A\n",
            "train sample batches:  45%|████▌     | 9/20 [00:01<00:02,  4.91it/s]\u001b[A\n",
            "train sample batches:  50%|█████     | 10/20 [00:02<00:02,  4.95it/s]\u001b[A\n",
            "train sample batches:  55%|█████▌    | 11/20 [00:02<00:01,  4.96it/s]\u001b[A\n",
            "train sample batches:  60%|██████    | 12/20 [00:02<00:01,  4.92it/s]\u001b[A\n",
            "train sample batches:  65%|██████▌   | 13/20 [00:02<00:01,  4.88it/s]\u001b[A\n",
            "train sample batches:  70%|███████   | 14/20 [00:02<00:01,  4.97it/s]\u001b[A\n",
            "train sample batches:  75%|███████▌  | 15/20 [00:03<00:00,  5.00it/s]\u001b[A\n",
            "train sample batches:  80%|████████  | 16/20 [00:03<00:00,  5.05it/s]\u001b[A\n",
            "train sample batches:  85%|████████▌ | 17/20 [00:03<00:00,  4.96it/s]\u001b[A\n",
            "train sample batches:  90%|█████████ | 18/20 [00:03<00:00,  4.94it/s]\u001b[A\n",
            "train sample batches:  95%|█████████▌| 19/20 [00:03<00:00,  5.00it/s]\u001b[A\n",
            "train sample batches: 100%|██████████| 20/20 [00:04<00:00,  4.94it/s]\n",
            "\n",
            "validation sample batches:   0%|          | 0/9 [00:00<?, ?it/s]\u001b[A\n",
            "validation sample batches:  33%|███▎      | 3/9 [00:00<00:00, 25.40it/s]\u001b[A\n",
            "validation sample batches:  67%|██████▋   | 6/9 [00:00<00:00, 23.19it/s]\u001b[A\n",
            "validation sample batches: 100%|██████████| 9/9 [00:00<00:00, 22.47it/s]\n",
            "epochs:  28%|██▊       | 28/100 [02:03<05:24,  4.50s/it]"
          ]
        },
        {
          "output_type": "stream",
          "name": "stdout",
          "text": [
            "Epoch train loss 1.5790346443653107\n",
            "Epoch val_loss 1.6681625843048096\n"
          ]
        },
        {
          "output_type": "stream",
          "name": "stderr",
          "text": [
            "\n",
            "train sample batches:   0%|          | 0/20 [00:00<?, ?it/s]\u001b[A\n",
            "train sample batches:   5%|▌         | 1/20 [00:00<00:03,  4.77it/s]\u001b[A\n",
            "train sample batches:  10%|█         | 2/20 [00:00<00:03,  4.94it/s]\u001b[A\n",
            "train sample batches:  15%|█▌        | 3/20 [00:00<00:03,  4.99it/s]\u001b[A\n",
            "train sample batches:  20%|██        | 4/20 [00:00<00:03,  5.06it/s]\u001b[A\n",
            "train sample batches:  25%|██▌       | 5/20 [00:01<00:03,  4.98it/s]\u001b[A\n",
            "train sample batches:  30%|███       | 6/20 [00:01<00:02,  5.02it/s]\u001b[A\n",
            "train sample batches:  35%|███▌      | 7/20 [00:01<00:02,  4.90it/s]\u001b[A\n",
            "train sample batches:  40%|████      | 8/20 [00:01<00:02,  4.87it/s]\u001b[A\n",
            "train sample batches:  45%|████▌     | 9/20 [00:01<00:02,  4.87it/s]\u001b[A\n",
            "train sample batches:  50%|█████     | 10/20 [00:02<00:02,  4.97it/s]\u001b[A\n",
            "train sample batches:  55%|█████▌    | 11/20 [00:02<00:01,  4.99it/s]\u001b[A\n",
            "train sample batches:  60%|██████    | 12/20 [00:02<00:01,  4.96it/s]\u001b[A\n",
            "train sample batches:  65%|██████▌   | 13/20 [00:02<00:01,  4.93it/s]\u001b[A\n",
            "train sample batches:  70%|███████   | 14/20 [00:02<00:01,  4.94it/s]\u001b[A\n",
            "train sample batches:  75%|███████▌  | 15/20 [00:03<00:01,  4.99it/s]\u001b[A\n",
            "train sample batches:  80%|████████  | 16/20 [00:03<00:00,  4.92it/s]\u001b[A\n",
            "train sample batches:  85%|████████▌ | 17/20 [00:03<00:00,  4.97it/s]\u001b[A\n",
            "train sample batches:  90%|█████████ | 18/20 [00:03<00:00,  4.95it/s]\u001b[A\n",
            "train sample batches:  95%|█████████▌| 19/20 [00:03<00:00,  5.00it/s]\u001b[A\n",
            "train sample batches: 100%|██████████| 20/20 [00:04<00:00,  4.97it/s]\n",
            "\n",
            "validation sample batches:   0%|          | 0/9 [00:00<?, ?it/s]\u001b[A\n",
            "validation sample batches:  33%|███▎      | 3/9 [00:00<00:00, 22.29it/s]\u001b[A\n",
            "validation sample batches:  67%|██████▋   | 6/9 [00:00<00:00, 21.62it/s]\u001b[A"
          ]
        },
        {
          "output_type": "stream",
          "name": "stdout",
          "text": [
            "Epoch 00254: reducing learning rate of group 0 to 3.0736e-04.\n"
          ]
        },
        {
          "output_type": "stream",
          "name": "stderr",
          "text": [
            "\n",
            "validation sample batches: 100%|██████████| 9/9 [00:00<00:00, 22.38it/s]\n",
            "epochs:  29%|██▉       | 29/100 [02:08<05:19,  4.50s/it]"
          ]
        },
        {
          "output_type": "stream",
          "name": "stdout",
          "text": [
            "Epoch train loss 1.5194382041692733\n",
            "Epoch val_loss 1.319608449935913\n"
          ]
        },
        {
          "output_type": "stream",
          "name": "stderr",
          "text": [
            "\n",
            "train sample batches:   0%|          | 0/20 [00:00<?, ?it/s]\u001b[A\n",
            "train sample batches:   5%|▌         | 1/20 [00:00<00:03,  5.08it/s]\u001b[A\n",
            "train sample batches:  10%|█         | 2/20 [00:00<00:03,  5.07it/s]\u001b[A\n",
            "train sample batches:  15%|█▌        | 3/20 [00:00<00:03,  5.09it/s]\u001b[A\n",
            "train sample batches:  20%|██        | 4/20 [00:00<00:03,  5.04it/s]\u001b[A\n",
            "train sample batches:  25%|██▌       | 5/20 [00:01<00:03,  4.93it/s]\u001b[A\n",
            "train sample batches:  30%|███       | 6/20 [00:01<00:02,  4.99it/s]\u001b[A\n",
            "train sample batches:  35%|███▌      | 7/20 [00:01<00:02,  4.98it/s]\u001b[A\n",
            "train sample batches:  40%|████      | 8/20 [00:01<00:02,  5.02it/s]\u001b[A\n",
            "train sample batches:  45%|████▌     | 9/20 [00:01<00:02,  4.93it/s]\u001b[A\n",
            "train sample batches:  50%|█████     | 10/20 [00:02<00:02,  4.95it/s]\u001b[A\n",
            "train sample batches:  55%|█████▌    | 11/20 [00:02<00:01,  4.93it/s]\u001b[A\n",
            "train sample batches:  60%|██████    | 12/20 [00:02<00:01,  5.03it/s]\u001b[A\n",
            "train sample batches:  65%|██████▌   | 13/20 [00:02<00:01,  4.99it/s]\u001b[A\n",
            "train sample batches:  70%|███████   | 14/20 [00:02<00:01,  4.87it/s]\u001b[A\n",
            "train sample batches:  75%|███████▌  | 15/20 [00:03<00:01,  4.86it/s]\u001b[A\n",
            "train sample batches:  80%|████████  | 16/20 [00:03<00:00,  4.87it/s]\u001b[A\n",
            "train sample batches:  85%|████████▌ | 17/20 [00:03<00:00,  4.82it/s]\u001b[A\n",
            "train sample batches:  90%|█████████ | 18/20 [00:03<00:00,  4.83it/s]\u001b[A\n",
            "train sample batches:  95%|█████████▌| 19/20 [00:03<00:00,  4.85it/s]\u001b[A\n",
            "train sample batches: 100%|██████████| 20/20 [00:04<00:00,  4.94it/s]\n",
            "\n",
            "validation sample batches:   0%|          | 0/9 [00:00<?, ?it/s]\u001b[A\n",
            "validation sample batches:  33%|███▎      | 3/9 [00:00<00:00, 22.97it/s]\u001b[A\n",
            "validation sample batches:  67%|██████▋   | 6/9 [00:00<00:00, 22.88it/s]\u001b[A"
          ]
        },
        {
          "output_type": "stream",
          "name": "stdout",
          "text": [
            "Epoch 00265: reducing learning rate of group 0 to 2.9199e-04.\n"
          ]
        },
        {
          "output_type": "stream",
          "name": "stderr",
          "text": [
            "\n",
            "validation sample batches: 100%|██████████| 9/9 [00:00<00:00, 22.36it/s]\n",
            "epochs:  30%|███       | 30/100 [02:12<05:15,  4.50s/it]"
          ]
        },
        {
          "output_type": "stream",
          "name": "stdout",
          "text": [
            "Epoch train loss 1.51661496758461\n",
            "Epoch val_loss 1.5032434463500977\n"
          ]
        },
        {
          "output_type": "stream",
          "name": "stderr",
          "text": [
            "\n",
            "train sample batches:   0%|          | 0/20 [00:00<?, ?it/s]\u001b[A\n",
            "train sample batches:   5%|▌         | 1/20 [00:00<00:03,  5.02it/s]\u001b[A\n",
            "train sample batches:  10%|█         | 2/20 [00:00<00:03,  4.86it/s]\u001b[A\n",
            "train sample batches:  15%|█▌        | 3/20 [00:00<00:03,  4.93it/s]\u001b[A\n",
            "train sample batches:  20%|██        | 4/20 [00:00<00:03,  4.96it/s]\u001b[A\n",
            "train sample batches:  25%|██▌       | 5/20 [00:01<00:03,  4.93it/s]\u001b[A\n",
            "train sample batches:  30%|███       | 6/20 [00:01<00:02,  5.03it/s]\u001b[A\n",
            "train sample batches:  35%|███▌      | 7/20 [00:01<00:02,  4.97it/s]\u001b[A\n",
            "train sample batches:  40%|████      | 8/20 [00:01<00:02,  4.99it/s]\u001b[A\n",
            "train sample batches:  45%|████▌     | 9/20 [00:01<00:02,  5.00it/s]\u001b[A\n",
            "train sample batches:  50%|█████     | 10/20 [00:02<00:02,  4.98it/s]\u001b[A\n",
            "train sample batches:  55%|█████▌    | 11/20 [00:02<00:01,  5.03it/s]\u001b[A\n",
            "train sample batches:  60%|██████    | 12/20 [00:02<00:01,  4.96it/s]\u001b[A\n",
            "train sample batches:  65%|██████▌   | 13/20 [00:02<00:01,  4.97it/s]\u001b[A\n",
            "train sample batches:  70%|███████   | 14/20 [00:02<00:01,  4.84it/s]\u001b[A\n",
            "train sample batches:  75%|███████▌  | 15/20 [00:03<00:01,  4.88it/s]\u001b[A\n",
            "train sample batches:  80%|████████  | 16/20 [00:03<00:00,  4.92it/s]\u001b[A\n",
            "train sample batches:  85%|████████▌ | 17/20 [00:03<00:00,  4.93it/s]\u001b[A\n",
            "train sample batches:  90%|█████████ | 18/20 [00:03<00:00,  4.97it/s]\u001b[A\n",
            "train sample batches:  95%|█████████▌| 19/20 [00:03<00:00,  5.00it/s]\u001b[A\n",
            "train sample batches: 100%|██████████| 20/20 [00:04<00:00,  4.96it/s]\n",
            "\n",
            "validation sample batches:   0%|          | 0/9 [00:00<?, ?it/s]\u001b[A\n",
            "validation sample batches:  33%|███▎      | 3/9 [00:00<00:00, 24.42it/s]\u001b[A\n",
            "validation sample batches:  67%|██████▋   | 6/9 [00:00<00:00, 23.02it/s]\u001b[A\n",
            "validation sample batches: 100%|██████████| 9/9 [00:00<00:00, 22.11it/s]\n",
            "epochs:  31%|███       | 31/100 [02:17<05:10,  4.50s/it]"
          ]
        },
        {
          "output_type": "stream",
          "name": "stdout",
          "text": [
            "Epoch 00276: reducing learning rate of group 0 to 2.7739e-04.\n",
            "Epoch train loss 1.5204432159662247\n",
            "Epoch val_loss 1.5316396951675415\n"
          ]
        },
        {
          "output_type": "stream",
          "name": "stderr",
          "text": [
            "\n",
            "train sample batches:   0%|          | 0/20 [00:00<?, ?it/s]\u001b[A\n",
            "train sample batches:   5%|▌         | 1/20 [00:00<00:04,  4.65it/s]\u001b[A\n",
            "train sample batches:  10%|█         | 2/20 [00:00<00:03,  4.73it/s]\u001b[A\n",
            "train sample batches:  15%|█▌        | 3/20 [00:00<00:03,  4.77it/s]\u001b[A\n",
            "train sample batches:  20%|██        | 4/20 [00:00<00:03,  4.85it/s]\u001b[A\n",
            "train sample batches:  25%|██▌       | 5/20 [00:01<00:03,  4.75it/s]\u001b[A\n",
            "train sample batches:  30%|███       | 6/20 [00:01<00:02,  4.82it/s]\u001b[A\n",
            "train sample batches:  35%|███▌      | 7/20 [00:01<00:02,  4.82it/s]\u001b[A\n",
            "train sample batches:  40%|████      | 8/20 [00:01<00:02,  4.80it/s]\u001b[A\n",
            "train sample batches:  45%|████▌     | 9/20 [00:01<00:02,  4.79it/s]\u001b[A\n",
            "train sample batches:  50%|█████     | 10/20 [00:02<00:02,  4.77it/s]\u001b[A\n",
            "train sample batches:  55%|█████▌    | 11/20 [00:02<00:01,  4.84it/s]\u001b[A\n",
            "train sample batches:  60%|██████    | 12/20 [00:02<00:01,  4.92it/s]\u001b[A\n",
            "train sample batches:  65%|██████▌   | 13/20 [00:02<00:01,  5.01it/s]\u001b[A\n",
            "train sample batches:  70%|███████   | 14/20 [00:02<00:01,  5.00it/s]\u001b[A\n",
            "train sample batches:  75%|███████▌  | 15/20 [00:03<00:01,  4.86it/s]\u001b[A\n",
            "train sample batches:  80%|████████  | 16/20 [00:03<00:00,  4.84it/s]\u001b[A\n",
            "train sample batches:  85%|████████▌ | 17/20 [00:03<00:00,  4.85it/s]\u001b[A\n",
            "train sample batches:  90%|█████████ | 18/20 [00:03<00:00,  4.93it/s]\u001b[A\n",
            "train sample batches:  95%|█████████▌| 19/20 [00:03<00:00,  4.97it/s]\u001b[A\n",
            "train sample batches: 100%|██████████| 20/20 [00:04<00:00,  4.88it/s]\n",
            "\n",
            "validation sample batches:   0%|          | 0/9 [00:00<?, ?it/s]\u001b[A\n",
            "validation sample batches:  33%|███▎      | 3/9 [00:00<00:00, 29.43it/s]\u001b[A\n",
            "validation sample batches:  67%|██████▋   | 6/9 [00:00<00:00, 25.04it/s]\u001b[A\n",
            "validation sample batches: 100%|██████████| 9/9 [00:00<00:00, 25.20it/s]\n",
            "epochs:  32%|███▏      | 32/100 [02:21<05:05,  4.50s/it]"
          ]
        },
        {
          "output_type": "stream",
          "name": "stdout",
          "text": [
            "Epoch 00287: reducing learning rate of group 0 to 2.6352e-04.\n",
            "Epoch train loss 1.447160828113556\n",
            "Epoch val_loss 0.9057782888412476\n"
          ]
        },
        {
          "output_type": "stream",
          "name": "stderr",
          "text": [
            "\n",
            "train sample batches:   0%|          | 0/20 [00:00<?, ?it/s]\u001b[A\n",
            "train sample batches:   5%|▌         | 1/20 [00:00<00:03,  4.98it/s]\u001b[A\n",
            "train sample batches:  10%|█         | 2/20 [00:00<00:03,  5.00it/s]\u001b[A\n",
            "train sample batches:  15%|█▌        | 3/20 [00:00<00:03,  5.05it/s]\u001b[A\n",
            "train sample batches:  20%|██        | 4/20 [00:00<00:03,  5.04it/s]\u001b[A\n",
            "train sample batches:  25%|██▌       | 5/20 [00:00<00:02,  5.13it/s]\u001b[A\n",
            "train sample batches:  30%|███       | 6/20 [00:01<00:02,  5.10it/s]\u001b[A\n",
            "train sample batches:  35%|███▌      | 7/20 [00:01<00:02,  5.10it/s]\u001b[A\n",
            "train sample batches:  40%|████      | 8/20 [00:01<00:02,  4.94it/s]\u001b[A\n",
            "train sample batches:  45%|████▌     | 9/20 [00:01<00:02,  5.02it/s]\u001b[A\n",
            "train sample batches:  50%|█████     | 10/20 [00:01<00:01,  5.01it/s]\u001b[A\n",
            "train sample batches:  55%|█████▌    | 11/20 [00:02<00:01,  5.03it/s]\u001b[A\n",
            "train sample batches:  60%|██████    | 12/20 [00:02<00:01,  5.05it/s]\u001b[A\n",
            "train sample batches:  65%|██████▌   | 13/20 [00:02<00:01,  4.95it/s]\u001b[A\n",
            "train sample batches:  70%|███████   | 14/20 [00:02<00:01,  4.97it/s]\u001b[A\n",
            "train sample batches:  75%|███████▌  | 15/20 [00:02<00:00,  5.03it/s]\u001b[A\n",
            "train sample batches:  80%|████████  | 16/20 [00:03<00:00,  5.01it/s]\u001b[A\n",
            "train sample batches:  85%|████████▌ | 17/20 [00:03<00:00,  5.06it/s]\u001b[A\n",
            "train sample batches:  90%|█████████ | 18/20 [00:03<00:00,  4.97it/s]\u001b[A\n",
            "train sample batches:  95%|█████████▌| 19/20 [00:03<00:00,  4.89it/s]\u001b[A\n",
            "train sample batches: 100%|██████████| 20/20 [00:04<00:00,  4.98it/s]\n",
            "\n",
            "validation sample batches:   0%|          | 0/9 [00:00<?, ?it/s]\u001b[A\n",
            "validation sample batches:  22%|██▏       | 2/9 [00:00<00:00, 18.80it/s]\u001b[A\n",
            "validation sample batches:  56%|█████▌    | 5/9 [00:00<00:00, 21.79it/s]\u001b[A\n",
            "validation sample batches: 100%|██████████| 9/9 [00:00<00:00, 21.97it/s]\n",
            "epochs:  33%|███▎      | 33/100 [02:26<05:00,  4.49s/it]"
          ]
        },
        {
          "output_type": "stream",
          "name": "stdout",
          "text": [
            "Epoch train loss 1.4508481979370118\n",
            "Epoch val_loss 1.5747185945510864\n"
          ]
        },
        {
          "output_type": "stream",
          "name": "stderr",
          "text": [
            "\n",
            "train sample batches:   0%|          | 0/20 [00:00<?, ?it/s]\u001b[A\n",
            "train sample batches:   5%|▌         | 1/20 [00:00<00:04,  4.62it/s]\u001b[A\n",
            "train sample batches:  10%|█         | 2/20 [00:00<00:03,  4.79it/s]\u001b[A\n",
            "train sample batches:  15%|█▌        | 3/20 [00:00<00:03,  4.86it/s]\u001b[A\n",
            "train sample batches:  20%|██        | 4/20 [00:00<00:03,  4.94it/s]\u001b[A\n",
            "train sample batches:  25%|██▌       | 5/20 [00:01<00:03,  4.90it/s]\u001b[A\n",
            "train sample batches:  30%|███       | 6/20 [00:01<00:02,  4.88it/s]\u001b[A\n",
            "train sample batches:  35%|███▌      | 7/20 [00:01<00:02,  4.84it/s]\u001b[A\n",
            "train sample batches:  40%|████      | 8/20 [00:01<00:02,  4.85it/s]\u001b[A\n",
            "train sample batches:  45%|████▌     | 9/20 [00:01<00:02,  4.87it/s]\u001b[A\n",
            "train sample batches:  50%|█████     | 10/20 [00:02<00:02,  4.96it/s]\u001b[A\n",
            "train sample batches:  55%|█████▌    | 11/20 [00:02<00:01,  4.93it/s]\u001b[A\n",
            "train sample batches:  60%|██████    | 12/20 [00:02<00:01,  4.96it/s]\u001b[A\n",
            "train sample batches:  65%|██████▌   | 13/20 [00:02<00:01,  4.93it/s]\u001b[A\n",
            "train sample batches:  70%|███████   | 14/20 [00:02<00:01,  5.00it/s]\u001b[A\n",
            "train sample batches:  75%|███████▌  | 15/20 [00:03<00:01,  4.98it/s]\u001b[A\n",
            "train sample batches:  80%|████████  | 16/20 [00:03<00:00,  4.99it/s]\u001b[A\n",
            "train sample batches:  85%|████████▌ | 17/20 [00:03<00:00,  4.97it/s]\u001b[A\n",
            "train sample batches:  90%|█████████ | 18/20 [00:03<00:00,  4.92it/s]\u001b[A\n",
            "train sample batches:  95%|█████████▌| 19/20 [00:03<00:00,  4.96it/s]\u001b[A\n",
            "train sample batches: 100%|██████████| 20/20 [00:04<00:00,  4.93it/s]\n",
            "\n",
            "validation sample batches:   0%|          | 0/9 [00:00<?, ?it/s]\u001b[A\n",
            "validation sample batches:  22%|██▏       | 2/9 [00:00<00:00, 18.34it/s]\u001b[A\n",
            "validation sample batches:  44%|████▍     | 4/9 [00:00<00:00, 19.22it/s]\u001b[A"
          ]
        },
        {
          "output_type": "stream",
          "name": "stdout",
          "text": [
            "Epoch 00298: reducing learning rate of group 0 to 2.5034e-04.\n"
          ]
        },
        {
          "output_type": "stream",
          "name": "stderr",
          "text": [
            "\n",
            "validation sample batches: 100%|██████████| 9/9 [00:00<00:00, 20.29it/s]\n",
            "epochs:  34%|███▍      | 34/100 [02:30<04:57,  4.50s/it]"
          ]
        },
        {
          "output_type": "stream",
          "name": "stdout",
          "text": [
            "Epoch train loss 1.3702180057764053\n",
            "Epoch val_loss 0.8405460715293884\n"
          ]
        },
        {
          "output_type": "stream",
          "name": "stderr",
          "text": [
            "\n",
            "train sample batches:   0%|          | 0/20 [00:00<?, ?it/s]\u001b[A\n",
            "train sample batches:   5%|▌         | 1/20 [00:00<00:03,  4.91it/s]\u001b[A\n",
            "train sample batches:  10%|█         | 2/20 [00:00<00:03,  4.84it/s]\u001b[A\n",
            "train sample batches:  15%|█▌        | 3/20 [00:00<00:03,  4.88it/s]\u001b[A\n",
            "train sample batches:  20%|██        | 4/20 [00:00<00:03,  4.78it/s]\u001b[A\n",
            "train sample batches:  25%|██▌       | 5/20 [00:01<00:03,  4.87it/s]\u001b[A\n",
            "train sample batches:  30%|███       | 6/20 [00:01<00:02,  4.96it/s]\u001b[A\n",
            "train sample batches:  35%|███▌      | 7/20 [00:01<00:02,  5.00it/s]\u001b[A\n",
            "train sample batches:  40%|████      | 8/20 [00:01<00:02,  5.02it/s]\u001b[A\n",
            "train sample batches:  45%|████▌     | 9/20 [00:01<00:02,  4.85it/s]\u001b[A\n",
            "train sample batches:  50%|█████     | 10/20 [00:02<00:02,  4.91it/s]\u001b[A\n",
            "train sample batches:  55%|█████▌    | 11/20 [00:02<00:01,  5.00it/s]\u001b[A\n",
            "train sample batches:  60%|██████    | 12/20 [00:02<00:01,  4.96it/s]\u001b[A\n",
            "train sample batches:  65%|██████▌   | 13/20 [00:02<00:01,  4.97it/s]\u001b[A\n",
            "train sample batches:  70%|███████   | 14/20 [00:02<00:01,  4.91it/s]\u001b[A\n",
            "train sample batches:  75%|███████▌  | 15/20 [00:03<00:01,  4.93it/s]\u001b[A\n",
            "train sample batches:  80%|████████  | 16/20 [00:03<00:00,  4.99it/s]\u001b[A\n",
            "train sample batches:  85%|████████▌ | 17/20 [00:03<00:00,  4.99it/s]\u001b[A\n",
            "train sample batches:  90%|█████████ | 18/20 [00:03<00:00,  5.01it/s]\u001b[A\n",
            "train sample batches:  95%|█████████▌| 19/20 [00:03<00:00,  5.00it/s]\u001b[A\n",
            "train sample batches: 100%|██████████| 20/20 [00:04<00:00,  4.95it/s]\n",
            "\n",
            "validation sample batches:   0%|          | 0/9 [00:00<?, ?it/s]\u001b[A\n",
            "validation sample batches:  33%|███▎      | 3/9 [00:00<00:00, 22.16it/s]\u001b[A\n",
            "validation sample batches:  67%|██████▋   | 6/9 [00:00<00:00, 22.22it/s]\u001b[A"
          ]
        },
        {
          "output_type": "stream",
          "name": "stdout",
          "text": [
            "Epoch 00309: reducing learning rate of group 0 to 2.3783e-04.\n"
          ]
        },
        {
          "output_type": "stream",
          "name": "stderr",
          "text": [
            "\n",
            "validation sample batches: 100%|██████████| 9/9 [00:00<00:00, 21.66it/s]\n",
            "epochs:  35%|███▌      | 35/100 [02:35<04:52,  4.50s/it]"
          ]
        },
        {
          "output_type": "stream",
          "name": "stdout",
          "text": [
            "Epoch train loss 1.4709894776344299\n",
            "Epoch val_loss 1.3548095226287842\n"
          ]
        },
        {
          "output_type": "stream",
          "name": "stderr",
          "text": [
            "\n",
            "train sample batches:   0%|          | 0/20 [00:00<?, ?it/s]\u001b[A\n",
            "train sample batches:   5%|▌         | 1/20 [00:00<00:03,  5.15it/s]\u001b[A\n",
            "train sample batches:  10%|█         | 2/20 [00:00<00:03,  5.01it/s]\u001b[A\n",
            "train sample batches:  15%|█▌        | 3/20 [00:00<00:03,  5.03it/s]\u001b[A\n",
            "train sample batches:  20%|██        | 4/20 [00:00<00:03,  5.06it/s]\u001b[A\n",
            "train sample batches:  25%|██▌       | 5/20 [00:01<00:03,  4.90it/s]\u001b[A\n",
            "train sample batches:  30%|███       | 6/20 [00:01<00:02,  4.88it/s]\u001b[A\n",
            "train sample batches:  35%|███▌      | 7/20 [00:01<00:02,  4.77it/s]\u001b[A\n",
            "train sample batches:  40%|████      | 8/20 [00:01<00:02,  4.82it/s]\u001b[A\n",
            "train sample batches:  45%|████▌     | 9/20 [00:01<00:02,  4.88it/s]\u001b[A\n",
            "train sample batches:  50%|█████     | 10/20 [00:02<00:02,  4.98it/s]\u001b[A\n",
            "train sample batches:  55%|█████▌    | 11/20 [00:02<00:01,  4.91it/s]\u001b[A\n",
            "train sample batches:  60%|██████    | 12/20 [00:02<00:01,  4.86it/s]\u001b[A\n",
            "train sample batches:  65%|██████▌   | 13/20 [00:02<00:01,  4.87it/s]\u001b[A\n",
            "train sample batches:  70%|███████   | 14/20 [00:02<00:01,  4.83it/s]\u001b[A\n",
            "train sample batches:  75%|███████▌  | 15/20 [00:03<00:01,  4.82it/s]\u001b[A\n",
            "train sample batches:  80%|████████  | 16/20 [00:03<00:00,  4.85it/s]\u001b[A\n",
            "train sample batches:  85%|████████▌ | 17/20 [00:03<00:00,  4.89it/s]\u001b[A\n",
            "train sample batches:  90%|█████████ | 18/20 [00:03<00:00,  4.92it/s]\u001b[A\n",
            "train sample batches:  95%|█████████▌| 19/20 [00:03<00:00,  4.93it/s]\u001b[A\n",
            "train sample batches: 100%|██████████| 20/20 [00:04<00:00,  4.91it/s]\n",
            "\n",
            "validation sample batches:   0%|          | 0/9 [00:00<?, ?it/s]\u001b[A\n",
            "validation sample batches:  33%|███▎      | 3/9 [00:00<00:00, 25.72it/s]\u001b[A\n",
            "validation sample batches:  67%|██████▋   | 6/9 [00:00<00:00, 22.24it/s]\u001b[A\n",
            "validation sample batches: 100%|██████████| 9/9 [00:00<00:00, 22.32it/s]"
          ]
        },
        {
          "output_type": "stream",
          "name": "stdout",
          "text": [
            "Epoch 00320: reducing learning rate of group 0 to 2.2594e-04.\n",
            "Epoch train loss 1.42483246922493\n",
            "Epoch val_loss 1.6655935049057007\n"
          ]
        },
        {
          "output_type": "stream",
          "name": "stderr",
          "text": [
            "\n",
            "epochs:  36%|███▌      | 36/100 [02:39<04:49,  4.52s/it]\n",
            "train sample batches:   0%|          | 0/20 [00:00<?, ?it/s]\u001b[A\n",
            "train sample batches:   5%|▌         | 1/20 [00:00<00:03,  5.14it/s]\u001b[A\n",
            "train sample batches:  10%|█         | 2/20 [00:00<00:03,  4.93it/s]\u001b[A\n",
            "train sample batches:  15%|█▌        | 3/20 [00:00<00:03,  4.80it/s]\u001b[A\n",
            "train sample batches:  20%|██        | 4/20 [00:00<00:03,  4.90it/s]\u001b[A\n",
            "train sample batches:  25%|██▌       | 5/20 [00:01<00:03,  4.86it/s]\u001b[A\n",
            "train sample batches:  30%|███       | 6/20 [00:01<00:02,  4.92it/s]\u001b[A\n",
            "train sample batches:  35%|███▌      | 7/20 [00:01<00:02,  4.97it/s]\u001b[A\n",
            "train sample batches:  40%|████      | 8/20 [00:01<00:02,  5.04it/s]\u001b[A\n",
            "train sample batches:  45%|████▌     | 9/20 [00:01<00:02,  4.98it/s]\u001b[A\n",
            "train sample batches:  50%|█████     | 10/20 [00:02<00:02,  4.98it/s]\u001b[A\n",
            "train sample batches:  55%|█████▌    | 11/20 [00:02<00:01,  4.97it/s]\u001b[A\n",
            "train sample batches:  60%|██████    | 12/20 [00:02<00:01,  5.05it/s]\u001b[A\n",
            "train sample batches:  65%|██████▌   | 13/20 [00:02<00:01,  5.04it/s]\u001b[A\n",
            "train sample batches:  70%|███████   | 14/20 [00:02<00:01,  5.00it/s]\u001b[A\n",
            "train sample batches:  75%|███████▌  | 15/20 [00:03<00:01,  4.91it/s]\u001b[A\n",
            "train sample batches:  80%|████████  | 16/20 [00:03<00:00,  4.94it/s]\u001b[A\n",
            "train sample batches:  85%|████████▌ | 17/20 [00:03<00:00,  4.93it/s]\u001b[A\n",
            "train sample batches:  90%|█████████ | 18/20 [00:03<00:00,  4.94it/s]\u001b[A\n",
            "train sample batches:  95%|█████████▌| 19/20 [00:03<00:00,  4.88it/s]\u001b[A\n",
            "train sample batches: 100%|██████████| 20/20 [00:04<00:00,  4.94it/s]\n",
            "\n",
            "validation sample batches:   0%|          | 0/9 [00:00<?, ?it/s]\u001b[A\n",
            "validation sample batches:  33%|███▎      | 3/9 [00:00<00:00, 21.91it/s]\u001b[A\n",
            "validation sample batches:  67%|██████▋   | 6/9 [00:00<00:00, 21.97it/s]\u001b[A\n",
            "validation sample batches: 100%|██████████| 9/9 [00:00<00:00, 22.26it/s]\n",
            "epochs:  37%|███▋      | 37/100 [02:44<04:44,  4.51s/it]"
          ]
        },
        {
          "output_type": "stream",
          "name": "stdout",
          "text": [
            "Epoch 00331: reducing learning rate of group 0 to 2.1464e-04.\n",
            "Epoch train loss 1.3852400839328767\n",
            "Epoch val_loss 1.7203577756881714\n"
          ]
        },
        {
          "output_type": "stream",
          "name": "stderr",
          "text": [
            "\n",
            "train sample batches:   0%|          | 0/20 [00:00<?, ?it/s]\u001b[A\n",
            "train sample batches:   5%|▌         | 1/20 [00:00<00:03,  4.93it/s]\u001b[A\n",
            "train sample batches:  10%|█         | 2/20 [00:00<00:03,  5.05it/s]\u001b[A\n",
            "train sample batches:  15%|█▌        | 3/20 [00:00<00:03,  4.97it/s]\u001b[A\n",
            "train sample batches:  20%|██        | 4/20 [00:00<00:03,  5.02it/s]\u001b[A\n",
            "train sample batches:  25%|██▌       | 5/20 [00:00<00:02,  5.09it/s]\u001b[A\n",
            "train sample batches:  30%|███       | 6/20 [00:01<00:02,  5.06it/s]\u001b[A\n",
            "train sample batches:  35%|███▌      | 7/20 [00:01<00:02,  5.04it/s]\u001b[A\n",
            "train sample batches:  40%|████      | 8/20 [00:01<00:02,  5.04it/s]\u001b[A\n",
            "train sample batches:  45%|████▌     | 9/20 [00:01<00:02,  5.01it/s]\u001b[A\n",
            "train sample batches:  50%|█████     | 10/20 [00:01<00:02,  5.00it/s]\u001b[A\n",
            "train sample batches:  55%|█████▌    | 11/20 [00:02<00:01,  4.91it/s]\u001b[A\n",
            "train sample batches:  60%|██████    | 12/20 [00:02<00:01,  4.93it/s]\u001b[A\n",
            "train sample batches:  65%|██████▌   | 13/20 [00:02<00:01,  4.88it/s]\u001b[A\n",
            "train sample batches:  70%|███████   | 14/20 [00:02<00:01,  5.01it/s]\u001b[A\n",
            "train sample batches:  75%|███████▌  | 15/20 [00:02<00:00,  5.11it/s]\u001b[A\n",
            "train sample batches:  80%|████████  | 16/20 [00:03<00:00,  5.08it/s]\u001b[A\n",
            "train sample batches:  85%|████████▌ | 17/20 [00:03<00:00,  4.99it/s]\u001b[A\n",
            "train sample batches:  90%|█████████ | 18/20 [00:03<00:00,  5.03it/s]\u001b[A\n",
            "train sample batches:  95%|█████████▌| 19/20 [00:03<00:00,  5.12it/s]\u001b[A\n",
            "train sample batches: 100%|██████████| 20/20 [00:03<00:00,  5.03it/s]\n",
            "\n",
            "validation sample batches:   0%|          | 0/9 [00:00<?, ?it/s]\u001b[A\n",
            "validation sample batches:  33%|███▎      | 3/9 [00:00<00:00, 24.95it/s]\u001b[A\n",
            "validation sample batches:  67%|██████▋   | 6/9 [00:00<00:00, 23.35it/s]\u001b[A\n",
            "validation sample batches: 100%|██████████| 9/9 [00:00<00:00, 23.35it/s]\n",
            "epochs:  38%|███▊      | 38/100 [02:48<04:37,  4.48s/it]"
          ]
        },
        {
          "output_type": "stream",
          "name": "stdout",
          "text": [
            "Epoch 00342: reducing learning rate of group 0 to 2.0391e-04.\n",
            "Epoch train loss 1.379784521460533\n",
            "Epoch val_loss 1.09144127368927\n"
          ]
        },
        {
          "output_type": "stream",
          "name": "stderr",
          "text": [
            "\n",
            "train sample batches:   0%|          | 0/20 [00:00<?, ?it/s]\u001b[A\n",
            "train sample batches:   5%|▌         | 1/20 [00:00<00:03,  4.75it/s]\u001b[A\n",
            "train sample batches:  10%|█         | 2/20 [00:00<00:03,  4.92it/s]\u001b[A\n",
            "train sample batches:  15%|█▌        | 3/20 [00:00<00:03,  4.82it/s]\u001b[A\n",
            "train sample batches:  20%|██        | 4/20 [00:00<00:03,  4.89it/s]\u001b[A\n",
            "train sample batches:  25%|██▌       | 5/20 [00:01<00:03,  4.96it/s]\u001b[A\n",
            "train sample batches:  30%|███       | 6/20 [00:01<00:02,  5.04it/s]\u001b[A\n",
            "train sample batches:  35%|███▌      | 7/20 [00:01<00:02,  4.96it/s]\u001b[A\n",
            "train sample batches:  40%|████      | 8/20 [00:01<00:02,  4.97it/s]\u001b[A\n",
            "train sample batches:  45%|████▌     | 9/20 [00:01<00:02,  4.99it/s]\u001b[A\n",
            "train sample batches:  50%|█████     | 10/20 [00:02<00:01,  5.05it/s]\u001b[A\n",
            "train sample batches:  55%|█████▌    | 11/20 [00:02<00:01,  5.00it/s]\u001b[A\n",
            "train sample batches:  60%|██████    | 12/20 [00:02<00:01,  4.93it/s]\u001b[A\n",
            "train sample batches:  65%|██████▌   | 13/20 [00:02<00:01,  4.93it/s]\u001b[A\n",
            "train sample batches:  70%|███████   | 14/20 [00:02<00:01,  5.07it/s]\u001b[A\n",
            "train sample batches:  75%|███████▌  | 15/20 [00:03<00:01,  4.98it/s]\u001b[A\n",
            "train sample batches:  80%|████████  | 16/20 [00:03<00:00,  4.95it/s]\u001b[A\n",
            "train sample batches:  85%|████████▌ | 17/20 [00:03<00:00,  4.86it/s]\u001b[A\n",
            "train sample batches:  90%|█████████ | 18/20 [00:03<00:00,  4.86it/s]\u001b[A\n",
            "train sample batches:  95%|█████████▌| 19/20 [00:03<00:00,  4.93it/s]\u001b[A\n",
            "train sample batches: 100%|██████████| 20/20 [00:04<00:00,  4.95it/s]\n",
            "\n",
            "validation sample batches:   0%|          | 0/9 [00:00<?, ?it/s]\u001b[A\n",
            "validation sample batches:  33%|███▎      | 3/9 [00:00<00:00, 25.12it/s]\u001b[A\n",
            "validation sample batches:  67%|██████▋   | 6/9 [00:00<00:00, 23.08it/s]\u001b[A\n",
            "validation sample batches: 100%|██████████| 9/9 [00:00<00:00, 23.14it/s]\n",
            "epochs:  39%|███▉      | 39/100 [02:53<04:33,  4.48s/it]"
          ]
        },
        {
          "output_type": "stream",
          "name": "stdout",
          "text": [
            "Epoch train loss 1.3378916800022125\n",
            "Epoch val_loss 1.229786992073059\n"
          ]
        },
        {
          "output_type": "stream",
          "name": "stderr",
          "text": [
            "\n",
            "train sample batches:   0%|          | 0/20 [00:00<?, ?it/s]\u001b[A\n",
            "train sample batches:   5%|▌         | 1/20 [00:00<00:03,  5.03it/s]\u001b[A\n",
            "train sample batches:  10%|█         | 2/20 [00:00<00:03,  4.97it/s]\u001b[A\n",
            "train sample batches:  15%|█▌        | 3/20 [00:00<00:03,  5.04it/s]\u001b[A\n",
            "train sample batches:  20%|██        | 4/20 [00:00<00:03,  5.06it/s]\u001b[A\n",
            "train sample batches:  25%|██▌       | 5/20 [00:00<00:02,  5.02it/s]\u001b[A\n",
            "train sample batches:  30%|███       | 6/20 [00:01<00:02,  4.99it/s]\u001b[A\n",
            "train sample batches:  35%|███▌      | 7/20 [00:01<00:02,  5.06it/s]\u001b[A\n",
            "train sample batches:  40%|████      | 8/20 [00:01<00:02,  5.05it/s]\u001b[A\n",
            "train sample batches:  45%|████▌     | 9/20 [00:01<00:02,  4.94it/s]\u001b[A\n",
            "train sample batches:  50%|█████     | 10/20 [00:02<00:02,  4.89it/s]\u001b[A\n",
            "train sample batches:  55%|█████▌    | 11/20 [00:02<00:01,  4.87it/s]\u001b[A\n",
            "train sample batches:  60%|██████    | 12/20 [00:02<00:01,  4.92it/s]\u001b[A\n",
            "train sample batches:  65%|██████▌   | 13/20 [00:02<00:01,  4.91it/s]\u001b[A\n",
            "train sample batches:  70%|███████   | 14/20 [00:02<00:01,  5.00it/s]\u001b[A\n",
            "train sample batches:  75%|███████▌  | 15/20 [00:03<00:01,  4.95it/s]\u001b[A\n",
            "train sample batches:  80%|████████  | 16/20 [00:03<00:00,  4.94it/s]\u001b[A\n",
            "train sample batches:  85%|████████▌ | 17/20 [00:03<00:00,  4.92it/s]\u001b[A\n",
            "train sample batches:  90%|█████████ | 18/20 [00:03<00:00,  4.77it/s]\u001b[A\n",
            "train sample batches:  95%|█████████▌| 19/20 [00:03<00:00,  4.79it/s]\u001b[A\n",
            "train sample batches: 100%|██████████| 20/20 [00:04<00:00,  4.91it/s]\n",
            "\n",
            "validation sample batches:   0%|          | 0/9 [00:00<?, ?it/s]\u001b[A\n",
            "validation sample batches:  22%|██▏       | 2/9 [00:00<00:00, 19.59it/s]\u001b[A\n",
            "validation sample batches:  44%|████▍     | 4/9 [00:00<00:00, 19.20it/s]\u001b[A"
          ]
        },
        {
          "output_type": "stream",
          "name": "stdout",
          "text": [
            "Epoch 00353: reducing learning rate of group 0 to 1.9371e-04.\n"
          ]
        },
        {
          "output_type": "stream",
          "name": "stderr",
          "text": [
            "\n",
            "validation sample batches:  67%|██████▋   | 6/9 [00:00<00:00, 18.84it/s]\u001b[A\n",
            "validation sample batches: 100%|██████████| 9/9 [00:00<00:00, 20.18it/s]\n",
            "epochs:  40%|████      | 40/100 [02:57<04:30,  4.51s/it]"
          ]
        },
        {
          "output_type": "stream",
          "name": "stdout",
          "text": [
            "Epoch train loss 1.3201277881860733\n",
            "Epoch val_loss 1.1804383993148804\n"
          ]
        },
        {
          "output_type": "stream",
          "name": "stderr",
          "text": [
            "\n",
            "train sample batches:   0%|          | 0/20 [00:00<?, ?it/s]\u001b[A\n",
            "train sample batches:   5%|▌         | 1/20 [00:00<00:03,  4.77it/s]\u001b[A\n",
            "train sample batches:  10%|█         | 2/20 [00:00<00:03,  4.88it/s]\u001b[A\n",
            "train sample batches:  15%|█▌        | 3/20 [00:00<00:03,  4.84it/s]\u001b[A\n",
            "train sample batches:  20%|██        | 4/20 [00:00<00:03,  4.87it/s]\u001b[A\n",
            "train sample batches:  25%|██▌       | 5/20 [00:01<00:03,  4.93it/s]\u001b[A\n",
            "train sample batches:  30%|███       | 6/20 [00:01<00:02,  4.97it/s]\u001b[A\n",
            "train sample batches:  35%|███▌      | 7/20 [00:01<00:02,  4.90it/s]\u001b[A\n",
            "train sample batches:  40%|████      | 8/20 [00:01<00:02,  4.91it/s]\u001b[A\n",
            "train sample batches:  45%|████▌     | 9/20 [00:01<00:02,  4.94it/s]\u001b[A\n",
            "train sample batches:  50%|█████     | 10/20 [00:02<00:02,  4.90it/s]\u001b[A\n",
            "train sample batches:  55%|█████▌    | 11/20 [00:02<00:01,  4.98it/s]\u001b[A\n",
            "train sample batches:  60%|██████    | 12/20 [00:02<00:01,  5.05it/s]\u001b[A\n",
            "train sample batches:  65%|██████▌   | 13/20 [00:02<00:01,  5.00it/s]\u001b[A\n",
            "train sample batches:  70%|███████   | 14/20 [00:02<00:01,  5.01it/s]\u001b[A\n",
            "train sample batches:  75%|███████▌  | 15/20 [00:03<00:01,  4.95it/s]\u001b[A\n",
            "train sample batches:  80%|████████  | 16/20 [00:03<00:00,  4.93it/s]\u001b[A\n",
            "train sample batches:  85%|████████▌ | 17/20 [00:03<00:00,  4.95it/s]\u001b[A\n",
            "train sample batches:  90%|█████████ | 18/20 [00:03<00:00,  4.83it/s]\u001b[A\n",
            "train sample batches:  95%|█████████▌| 19/20 [00:03<00:00,  4.87it/s]\u001b[A\n",
            "train sample batches: 100%|██████████| 20/20 [00:04<00:00,  4.93it/s]\n",
            "\n",
            "validation sample batches:   0%|          | 0/9 [00:00<?, ?it/s]\u001b[A\n",
            "validation sample batches:  33%|███▎      | 3/9 [00:00<00:00, 22.02it/s]\u001b[A\n",
            "validation sample batches:  67%|██████▋   | 6/9 [00:00<00:00, 21.08it/s]\u001b[A"
          ]
        },
        {
          "output_type": "stream",
          "name": "stdout",
          "text": [
            "Epoch 00364: reducing learning rate of group 0 to 1.8403e-04.\n"
          ]
        },
        {
          "output_type": "stream",
          "name": "stderr",
          "text": [
            "\n",
            "validation sample batches: 100%|██████████| 9/9 [00:00<00:00, 21.92it/s]\n",
            "epochs:  41%|████      | 41/100 [03:02<04:26,  4.51s/it]"
          ]
        },
        {
          "output_type": "stream",
          "name": "stdout",
          "text": [
            "Epoch train loss 1.3344673842191697\n",
            "Epoch val_loss 1.2405285835266113\n"
          ]
        },
        {
          "output_type": "stream",
          "name": "stderr",
          "text": [
            "\n",
            "train sample batches:   0%|          | 0/20 [00:00<?, ?it/s]\u001b[A\n",
            "train sample batches:   5%|▌         | 1/20 [00:00<00:03,  4.98it/s]\u001b[A\n",
            "train sample batches:  10%|█         | 2/20 [00:00<00:03,  4.93it/s]\u001b[A\n",
            "train sample batches:  15%|█▌        | 3/20 [00:00<00:03,  5.00it/s]\u001b[A\n",
            "train sample batches:  20%|██        | 4/20 [00:00<00:03,  5.04it/s]\u001b[A\n",
            "train sample batches:  25%|██▌       | 5/20 [00:01<00:02,  5.02it/s]\u001b[A\n",
            "train sample batches:  30%|███       | 6/20 [00:01<00:02,  4.92it/s]\u001b[A\n",
            "train sample batches:  35%|███▌      | 7/20 [00:01<00:02,  4.90it/s]\u001b[A\n",
            "train sample batches:  40%|████      | 8/20 [00:01<00:02,  4.90it/s]\u001b[A\n",
            "train sample batches:  45%|████▌     | 9/20 [00:01<00:02,  4.98it/s]\u001b[A\n",
            "train sample batches:  50%|█████     | 10/20 [00:02<00:02,  4.97it/s]\u001b[A\n",
            "train sample batches:  55%|█████▌    | 11/20 [00:02<00:01,  4.87it/s]\u001b[A\n",
            "train sample batches:  60%|██████    | 12/20 [00:02<00:01,  4.86it/s]\u001b[A\n",
            "train sample batches:  65%|██████▌   | 13/20 [00:02<00:01,  4.90it/s]\u001b[A\n",
            "train sample batches:  70%|███████   | 14/20 [00:02<00:01,  5.02it/s]\u001b[A\n",
            "train sample batches:  75%|███████▌  | 15/20 [00:03<00:00,  5.04it/s]\u001b[A\n",
            "train sample batches:  80%|████████  | 16/20 [00:03<00:00,  4.97it/s]\u001b[A\n",
            "train sample batches:  85%|████████▌ | 17/20 [00:03<00:00,  5.00it/s]\u001b[A\n",
            "train sample batches:  90%|█████████ | 18/20 [00:03<00:00,  4.98it/s]\u001b[A\n",
            "train sample batches:  95%|█████████▌| 19/20 [00:03<00:00,  4.96it/s]\u001b[A\n",
            "train sample batches: 100%|██████████| 20/20 [00:04<00:00,  4.96it/s]\n",
            "\n",
            "validation sample batches:   0%|          | 0/9 [00:00<?, ?it/s]\u001b[A\n",
            "validation sample batches:  22%|██▏       | 2/9 [00:00<00:00, 18.84it/s]\u001b[A\n",
            "validation sample batches:  44%|████▍     | 4/9 [00:00<00:00, 18.19it/s]\u001b[A\n",
            "validation sample batches:  67%|██████▋   | 6/9 [00:00<00:00, 17.84it/s]\u001b[A\n",
            "validation sample batches: 100%|██████████| 9/9 [00:00<00:00, 18.51it/s]\n",
            "epochs:  42%|████▏     | 42/100 [03:06<04:22,  4.53s/it]"
          ]
        },
        {
          "output_type": "stream",
          "name": "stdout",
          "text": [
            "Epoch 00375: reducing learning rate of group 0 to 1.7482e-04.\n",
            "Epoch train loss 1.3204029887914657\n",
            "Epoch val_loss 1.3631243705749512\n"
          ]
        },
        {
          "output_type": "stream",
          "name": "stderr",
          "text": [
            "\n",
            "train sample batches:   0%|          | 0/20 [00:00<?, ?it/s]\u001b[A\n",
            "train sample batches:   5%|▌         | 1/20 [00:00<00:04,  4.51it/s]\u001b[A\n",
            "train sample batches:  10%|█         | 2/20 [00:00<00:03,  4.68it/s]\u001b[A\n",
            "train sample batches:  15%|█▌        | 3/20 [00:00<00:03,  4.72it/s]\u001b[A\n",
            "train sample batches:  20%|██        | 4/20 [00:00<00:03,  4.79it/s]\u001b[A\n",
            "train sample batches:  25%|██▌       | 5/20 [00:01<00:03,  4.85it/s]\u001b[A\n",
            "train sample batches:  30%|███       | 6/20 [00:01<00:02,  4.82it/s]\u001b[A\n",
            "train sample batches:  35%|███▌      | 7/20 [00:01<00:02,  4.80it/s]\u001b[A\n",
            "train sample batches:  40%|████      | 8/20 [00:01<00:02,  4.75it/s]\u001b[A\n",
            "train sample batches:  45%|████▌     | 9/20 [00:01<00:02,  4.81it/s]\u001b[A\n",
            "train sample batches:  50%|█████     | 10/20 [00:02<00:02,  4.88it/s]\u001b[A\n",
            "train sample batches:  55%|█████▌    | 11/20 [00:02<00:01,  4.83it/s]\u001b[A\n",
            "train sample batches:  60%|██████    | 12/20 [00:02<00:01,  4.84it/s]\u001b[A\n",
            "train sample batches:  65%|██████▌   | 13/20 [00:02<00:01,  4.89it/s]\u001b[A\n",
            "train sample batches:  70%|███████   | 14/20 [00:02<00:01,  4.86it/s]\u001b[A\n",
            "train sample batches:  75%|███████▌  | 15/20 [00:03<00:01,  4.92it/s]\u001b[A\n",
            "train sample batches:  80%|████████  | 16/20 [00:03<00:00,  4.89it/s]\u001b[A\n",
            "train sample batches:  85%|████████▌ | 17/20 [00:03<00:00,  4.88it/s]\u001b[A\n",
            "train sample batches:  90%|█████████ | 18/20 [00:03<00:00,  4.84it/s]\u001b[A\n",
            "train sample batches:  95%|█████████▌| 19/20 [00:03<00:00,  4.81it/s]\u001b[A\n",
            "train sample batches: 100%|██████████| 20/20 [00:04<00:00,  4.84it/s]\n",
            "\n",
            "validation sample batches:   0%|          | 0/9 [00:00<?, ?it/s]\u001b[A\n",
            "validation sample batches:  33%|███▎      | 3/9 [00:00<00:00, 25.13it/s]\u001b[A\n",
            "validation sample batches:  67%|██████▋   | 6/9 [00:00<00:00, 21.39it/s]\u001b[A\n",
            "validation sample batches: 100%|██████████| 9/9 [00:00<00:00, 21.92it/s]\n",
            "epochs:  43%|████▎     | 43/100 [03:11<04:19,  4.55s/it]"
          ]
        },
        {
          "output_type": "stream",
          "name": "stdout",
          "text": [
            "Epoch 00386: reducing learning rate of group 0 to 1.6608e-04.\n",
            "Epoch train loss 1.3005092233419417\n",
            "Epoch val_loss 0.9055343270301819\n"
          ]
        },
        {
          "output_type": "stream",
          "name": "stderr",
          "text": [
            "\n",
            "train sample batches:   0%|          | 0/20 [00:00<?, ?it/s]\u001b[A\n",
            "train sample batches:   5%|▌         | 1/20 [00:00<00:04,  4.67it/s]\u001b[A\n",
            "train sample batches:  10%|█         | 2/20 [00:00<00:03,  4.82it/s]\u001b[A\n",
            "train sample batches:  15%|█▌        | 3/20 [00:00<00:03,  4.88it/s]\u001b[A\n",
            "train sample batches:  20%|██        | 4/20 [00:00<00:03,  4.84it/s]\u001b[A\n",
            "train sample batches:  25%|██▌       | 5/20 [00:01<00:03,  4.91it/s]\u001b[A\n",
            "train sample batches:  30%|███       | 6/20 [00:01<00:02,  4.86it/s]\u001b[A\n",
            "train sample batches:  35%|███▌      | 7/20 [00:01<00:02,  4.84it/s]\u001b[A\n",
            "train sample batches:  40%|████      | 8/20 [00:01<00:02,  4.82it/s]\u001b[A\n",
            "train sample batches:  45%|████▌     | 9/20 [00:01<00:02,  4.75it/s]\u001b[A\n",
            "train sample batches:  50%|█████     | 10/20 [00:02<00:02,  4.77it/s]\u001b[A\n",
            "train sample batches:  55%|█████▌    | 11/20 [00:02<00:01,  4.71it/s]\u001b[A\n",
            "train sample batches:  60%|██████    | 12/20 [00:02<00:01,  4.81it/s]\u001b[A\n",
            "train sample batches:  65%|██████▌   | 13/20 [00:02<00:01,  4.89it/s]\u001b[A\n",
            "train sample batches:  70%|███████   | 14/20 [00:02<00:01,  4.87it/s]\u001b[A\n",
            "train sample batches:  75%|███████▌  | 15/20 [00:03<00:01,  4.91it/s]\u001b[A\n",
            "train sample batches:  80%|████████  | 16/20 [00:03<00:00,  4.91it/s]\u001b[A\n",
            "train sample batches:  85%|████████▌ | 17/20 [00:03<00:00,  4.94it/s]\u001b[A\n",
            "train sample batches:  90%|█████████ | 18/20 [00:03<00:00,  4.95it/s]\u001b[A\n",
            "train sample batches:  95%|█████████▌| 19/20 [00:03<00:00,  4.96it/s]\u001b[A\n",
            "train sample batches: 100%|██████████| 20/20 [00:04<00:00,  4.88it/s]\n",
            "\n",
            "validation sample batches:   0%|          | 0/9 [00:00<?, ?it/s]\u001b[A\n",
            "validation sample batches:  22%|██▏       | 2/9 [00:00<00:00, 19.13it/s]\u001b[A\n",
            "validation sample batches:  56%|█████▌    | 5/9 [00:00<00:00, 21.32it/s]\u001b[A\n",
            "validation sample batches: 100%|██████████| 9/9 [00:00<00:00, 21.30it/s]\n",
            "epochs:  44%|████▍     | 44/100 [03:15<04:15,  4.55s/it]"
          ]
        },
        {
          "output_type": "stream",
          "name": "stdout",
          "text": [
            "Epoch train loss 1.3066557586193084\n",
            "Epoch val_loss 1.3182361125946045\n"
          ]
        },
        {
          "output_type": "stream",
          "name": "stderr",
          "text": [
            "\n",
            "train sample batches:   0%|          | 0/20 [00:00<?, ?it/s]\u001b[A\n",
            "train sample batches:   5%|▌         | 1/20 [00:00<00:03,  5.05it/s]\u001b[A\n",
            "train sample batches:  10%|█         | 2/20 [00:00<00:03,  5.15it/s]\u001b[A\n",
            "train sample batches:  15%|█▌        | 3/20 [00:00<00:03,  4.93it/s]\u001b[A\n",
            "train sample batches:  20%|██        | 4/20 [00:00<00:03,  4.79it/s]\u001b[A\n",
            "train sample batches:  25%|██▌       | 5/20 [00:01<00:03,  4.87it/s]\u001b[A\n",
            "train sample batches:  30%|███       | 6/20 [00:01<00:02,  4.82it/s]\u001b[A\n",
            "train sample batches:  35%|███▌      | 7/20 [00:01<00:02,  4.67it/s]\u001b[A\n",
            "train sample batches:  40%|████      | 8/20 [00:01<00:02,  4.61it/s]\u001b[A\n",
            "train sample batches:  45%|████▌     | 9/20 [00:01<00:02,  4.76it/s]\u001b[A\n",
            "train sample batches:  50%|█████     | 10/20 [00:02<00:02,  4.75it/s]\u001b[A\n",
            "train sample batches:  55%|█████▌    | 11/20 [00:02<00:01,  4.78it/s]\u001b[A\n",
            "train sample batches:  60%|██████    | 12/20 [00:02<00:01,  4.87it/s]\u001b[A\n",
            "train sample batches:  65%|██████▌   | 13/20 [00:02<00:01,  4.95it/s]\u001b[A\n",
            "train sample batches:  70%|███████   | 14/20 [00:02<00:01,  4.93it/s]\u001b[A\n",
            "train sample batches:  75%|███████▌  | 15/20 [00:03<00:01,  4.91it/s]\u001b[A\n",
            "train sample batches:  80%|████████  | 16/20 [00:03<00:00,  4.96it/s]\u001b[A\n",
            "train sample batches:  85%|████████▌ | 17/20 [00:03<00:00,  5.02it/s]\u001b[A\n",
            "train sample batches:  90%|█████████ | 18/20 [00:03<00:00,  5.01it/s]\u001b[A\n",
            "train sample batches:  95%|█████████▌| 19/20 [00:03<00:00,  4.95it/s]\u001b[A\n",
            "train sample batches: 100%|██████████| 20/20 [00:04<00:00,  4.89it/s]\n",
            "\n",
            "validation sample batches:   0%|          | 0/9 [00:00<?, ?it/s]\u001b[A\n",
            "validation sample batches:  33%|███▎      | 3/9 [00:00<00:00, 28.45it/s]\u001b[A\n"
          ]
        },
        {
          "output_type": "stream",
          "name": "stdout",
          "text": [
            "Epoch 00397: reducing learning rate of group 0 to 1.5778e-04.\n"
          ]
        },
        {
          "output_type": "stream",
          "name": "stderr",
          "text": [
            "validation sample batches:  67%|██████▋   | 6/9 [00:00<00:00, 24.71it/s]\u001b[A\n",
            "validation sample batches: 100%|██████████| 9/9 [00:00<00:00, 23.26it/s]\n",
            "epochs:  45%|████▌     | 45/100 [03:20<04:10,  4.55s/it]"
          ]
        },
        {
          "output_type": "stream",
          "name": "stdout",
          "text": [
            "Epoch train loss 1.2851877063512802\n",
            "Epoch val_loss 1.6313608884811401\n"
          ]
        },
        {
          "output_type": "stream",
          "name": "stderr",
          "text": [
            "\n",
            "train sample batches:   0%|          | 0/20 [00:00<?, ?it/s]\u001b[A\n",
            "train sample batches:   5%|▌         | 1/20 [00:00<00:03,  4.88it/s]\u001b[A\n",
            "train sample batches:  10%|█         | 2/20 [00:00<00:03,  4.97it/s]\u001b[A\n",
            "train sample batches:  15%|█▌        | 3/20 [00:00<00:03,  5.04it/s]\u001b[A\n",
            "train sample batches:  20%|██        | 4/20 [00:00<00:03,  5.13it/s]\u001b[A\n",
            "train sample batches:  25%|██▌       | 5/20 [00:00<00:02,  5.07it/s]\u001b[A\n",
            "train sample batches:  30%|███       | 6/20 [00:01<00:02,  5.08it/s]\u001b[A\n",
            "train sample batches:  35%|███▌      | 7/20 [00:01<00:02,  5.01it/s]\u001b[A\n",
            "train sample batches:  40%|████      | 8/20 [00:01<00:02,  5.01it/s]\u001b[A\n",
            "train sample batches:  45%|████▌     | 9/20 [00:01<00:02,  5.04it/s]\u001b[A\n",
            "train sample batches:  50%|█████     | 10/20 [00:01<00:01,  5.09it/s]\u001b[A\n",
            "train sample batches:  55%|█████▌    | 11/20 [00:02<00:01,  5.13it/s]\u001b[A\n",
            "train sample batches:  60%|██████    | 12/20 [00:02<00:01,  5.01it/s]\u001b[A\n",
            "train sample batches:  65%|██████▌   | 13/20 [00:02<00:01,  4.96it/s]\u001b[A\n",
            "train sample batches:  70%|███████   | 14/20 [00:02<00:01,  4.98it/s]\u001b[A\n",
            "train sample batches:  75%|███████▌  | 15/20 [00:02<00:01,  4.98it/s]\u001b[A\n",
            "train sample batches:  80%|████████  | 16/20 [00:03<00:00,  4.95it/s]\u001b[A\n",
            "train sample batches:  85%|████████▌ | 17/20 [00:03<00:00,  4.91it/s]\u001b[A\n",
            "train sample batches:  90%|█████████ | 18/20 [00:03<00:00,  4.96it/s]\u001b[A\n",
            "train sample batches:  95%|█████████▌| 19/20 [00:03<00:00,  4.92it/s]\u001b[A\n",
            "train sample batches: 100%|██████████| 20/20 [00:04<00:00,  4.99it/s]\n",
            "\n",
            "validation sample batches:   0%|          | 0/9 [00:00<?, ?it/s]\u001b[A\n",
            "validation sample batches:  22%|██▏       | 2/9 [00:00<00:00, 19.66it/s]\u001b[A\n",
            "validation sample batches:  56%|█████▌    | 5/9 [00:00<00:00, 21.94it/s]\u001b[A"
          ]
        },
        {
          "output_type": "stream",
          "name": "stdout",
          "text": [
            "Epoch 00408: reducing learning rate of group 0 to 1.4989e-04.\n"
          ]
        },
        {
          "output_type": "stream",
          "name": "stderr",
          "text": [
            "\n",
            "validation sample batches: 100%|██████████| 9/9 [00:00<00:00, 20.40it/s]\n",
            "epochs:  46%|████▌     | 46/100 [03:24<04:04,  4.53s/it]"
          ]
        },
        {
          "output_type": "stream",
          "name": "stdout",
          "text": [
            "Epoch train loss 1.272222851216793\n",
            "Epoch val_loss 0.9186487197875977\n"
          ]
        },
        {
          "output_type": "stream",
          "name": "stderr",
          "text": [
            "\n",
            "train sample batches:   0%|          | 0/20 [00:00<?, ?it/s]\u001b[A\n",
            "train sample batches:   5%|▌         | 1/20 [00:00<00:03,  5.08it/s]\u001b[A\n",
            "train sample batches:  10%|█         | 2/20 [00:00<00:03,  5.10it/s]\u001b[A\n",
            "train sample batches:  15%|█▌        | 3/20 [00:00<00:03,  5.06it/s]\u001b[A\n",
            "train sample batches:  20%|██        | 4/20 [00:00<00:03,  5.05it/s]\u001b[A\n",
            "train sample batches:  25%|██▌       | 5/20 [00:01<00:03,  4.96it/s]\u001b[A\n",
            "train sample batches:  30%|███       | 6/20 [00:01<00:02,  4.99it/s]\u001b[A\n",
            "train sample batches:  35%|███▌      | 7/20 [00:01<00:02,  4.98it/s]\u001b[A\n",
            "train sample batches:  40%|████      | 8/20 [00:01<00:02,  4.93it/s]\u001b[A\n",
            "train sample batches:  45%|████▌     | 9/20 [00:01<00:02,  4.94it/s]\u001b[A\n",
            "train sample batches:  50%|█████     | 10/20 [00:02<00:02,  4.94it/s]\u001b[A\n",
            "train sample batches:  55%|█████▌    | 11/20 [00:02<00:01,  4.86it/s]\u001b[A\n",
            "train sample batches:  60%|██████    | 12/20 [00:02<00:01,  4.87it/s]\u001b[A\n",
            "train sample batches:  65%|██████▌   | 13/20 [00:02<00:01,  4.74it/s]\u001b[A\n",
            "train sample batches:  70%|███████   | 14/20 [00:02<00:01,  4.77it/s]\u001b[A\n",
            "train sample batches:  75%|███████▌  | 15/20 [00:03<00:01,  4.76it/s]\u001b[A\n",
            "train sample batches:  80%|████████  | 16/20 [00:03<00:00,  4.78it/s]\u001b[A\n",
            "train sample batches:  85%|████████▌ | 17/20 [00:03<00:00,  4.85it/s]\u001b[A\n",
            "train sample batches:  90%|█████████ | 18/20 [00:03<00:00,  4.93it/s]\u001b[A\n",
            "train sample batches:  95%|█████████▌| 19/20 [00:03<00:00,  4.94it/s]\u001b[A\n",
            "train sample batches: 100%|██████████| 20/20 [00:04<00:00,  4.90it/s]\n",
            "\n",
            "validation sample batches:   0%|          | 0/9 [00:00<?, ?it/s]\u001b[A\n",
            "validation sample batches:  33%|███▎      | 3/9 [00:00<00:00, 24.46it/s]\u001b[A\n",
            "validation sample batches:  67%|██████▋   | 6/9 [00:00<00:00, 22.03it/s]\u001b[A\n",
            "validation sample batches: 100%|██████████| 9/9 [00:00<00:00, 23.00it/s]\n",
            "epochs:  47%|████▋     | 47/100 [03:29<04:00,  4.53s/it]"
          ]
        },
        {
          "output_type": "stream",
          "name": "stdout",
          "text": [
            "Epoch 00419: reducing learning rate of group 0 to 1.4240e-04.\n",
            "Epoch train loss 1.2629576683044434\n",
            "Epoch val_loss 1.132985234260559\n"
          ]
        },
        {
          "output_type": "stream",
          "name": "stderr",
          "text": [
            "\n",
            "train sample batches:   0%|          | 0/20 [00:00<?, ?it/s]\u001b[A\n",
            "train sample batches:   5%|▌         | 1/20 [00:00<00:03,  5.14it/s]\u001b[A\n",
            "train sample batches:  10%|█         | 2/20 [00:00<00:03,  5.02it/s]\u001b[A\n",
            "train sample batches:  15%|█▌        | 3/20 [00:00<00:03,  4.90it/s]\u001b[A\n",
            "train sample batches:  20%|██        | 4/20 [00:00<00:03,  4.89it/s]\u001b[A\n",
            "train sample batches:  25%|██▌       | 5/20 [00:01<00:03,  4.90it/s]\u001b[A\n",
            "train sample batches:  30%|███       | 6/20 [00:01<00:02,  4.91it/s]\u001b[A\n",
            "train sample batches:  35%|███▌      | 7/20 [00:01<00:02,  4.91it/s]\u001b[A\n",
            "train sample batches:  40%|████      | 8/20 [00:01<00:02,  4.78it/s]\u001b[A\n",
            "train sample batches:  45%|████▌     | 9/20 [00:01<00:02,  4.80it/s]\u001b[A\n",
            "train sample batches:  50%|█████     | 10/20 [00:02<00:02,  4.85it/s]\u001b[A\n",
            "train sample batches:  55%|█████▌    | 11/20 [00:02<00:01,  4.90it/s]\u001b[A\n",
            "train sample batches:  60%|██████    | 12/20 [00:02<00:01,  4.94it/s]\u001b[A\n",
            "train sample batches:  65%|██████▌   | 13/20 [00:02<00:01,  4.88it/s]\u001b[A\n",
            "train sample batches:  70%|███████   | 14/20 [00:02<00:01,  4.93it/s]\u001b[A\n",
            "train sample batches:  75%|███████▌  | 15/20 [00:03<00:01,  4.91it/s]\u001b[A\n",
            "train sample batches:  80%|████████  | 16/20 [00:03<00:00,  4.89it/s]\u001b[A\n",
            "train sample batches:  85%|████████▌ | 17/20 [00:03<00:00,  4.86it/s]\u001b[A\n",
            "train sample batches:  90%|█████████ | 18/20 [00:03<00:00,  4.78it/s]\u001b[A\n",
            "train sample batches:  95%|█████████▌| 19/20 [00:03<00:00,  4.83it/s]\u001b[A\n",
            "train sample batches: 100%|██████████| 20/20 [00:04<00:00,  4.89it/s]\n",
            "\n",
            "validation sample batches:   0%|          | 0/9 [00:00<?, ?it/s]\u001b[A\n",
            "validation sample batches:  33%|███▎      | 3/9 [00:00<00:00, 25.31it/s]\u001b[A\n",
            "validation sample batches:  67%|██████▋   | 6/9 [00:00<00:00, 22.25it/s]\u001b[A\n",
            "validation sample batches: 100%|██████████| 9/9 [00:00<00:00, 22.87it/s]\n",
            "epochs:  48%|████▊     | 48/100 [03:34<03:56,  4.54s/it]"
          ]
        },
        {
          "output_type": "stream",
          "name": "stdout",
          "text": [
            "Epoch 00430: reducing learning rate of group 0 to 1.3528e-04.\n",
            "Epoch train loss 1.280152052640915\n",
            "Epoch val_loss 1.0819567441940308\n"
          ]
        },
        {
          "output_type": "stream",
          "name": "stderr",
          "text": [
            "\n",
            "train sample batches:   0%|          | 0/20 [00:00<?, ?it/s]\u001b[A\n",
            "train sample batches:   5%|▌         | 1/20 [00:00<00:04,  4.59it/s]\u001b[A\n",
            "train sample batches:  10%|█         | 2/20 [00:00<00:03,  4.60it/s]\u001b[A\n",
            "train sample batches:  15%|█▌        | 3/20 [00:00<00:03,  4.70it/s]\u001b[A\n",
            "train sample batches:  20%|██        | 4/20 [00:00<00:03,  4.74it/s]\u001b[A\n",
            "train sample batches:  25%|██▌       | 5/20 [00:01<00:03,  4.80it/s]\u001b[A\n",
            "train sample batches:  30%|███       | 6/20 [00:01<00:02,  4.85it/s]\u001b[A\n",
            "train sample batches:  35%|███▌      | 7/20 [00:01<00:02,  4.91it/s]\u001b[A\n",
            "train sample batches:  40%|████      | 8/20 [00:01<00:02,  4.94it/s]\u001b[A\n",
            "train sample batches:  45%|████▌     | 9/20 [00:01<00:02,  5.00it/s]\u001b[A\n",
            "train sample batches:  50%|█████     | 10/20 [00:02<00:01,  5.07it/s]\u001b[A\n",
            "train sample batches:  55%|█████▌    | 11/20 [00:02<00:01,  4.99it/s]\u001b[A\n",
            "train sample batches:  60%|██████    | 12/20 [00:02<00:01,  4.92it/s]\u001b[A\n",
            "train sample batches:  65%|██████▌   | 13/20 [00:02<00:01,  4.90it/s]\u001b[A\n",
            "train sample batches:  70%|███████   | 14/20 [00:02<00:01,  4.92it/s]\u001b[A\n",
            "train sample batches:  75%|███████▌  | 15/20 [00:03<00:01,  4.96it/s]\u001b[A\n",
            "train sample batches:  80%|████████  | 16/20 [00:03<00:00,  4.91it/s]\u001b[A\n",
            "train sample batches:  85%|████████▌ | 17/20 [00:03<00:00,  4.90it/s]\u001b[A\n",
            "train sample batches:  90%|█████████ | 18/20 [00:03<00:00,  4.89it/s]\u001b[A\n",
            "train sample batches:  95%|█████████▌| 19/20 [00:03<00:00,  4.69it/s]\u001b[A\n",
            "train sample batches: 100%|██████████| 20/20 [00:04<00:00,  4.83it/s]\n",
            "\n",
            "validation sample batches:   0%|          | 0/9 [00:00<?, ?it/s]\u001b[A\n",
            "validation sample batches:  22%|██▏       | 2/9 [00:00<00:00, 19.84it/s]\u001b[A\n",
            "validation sample batches:  56%|█████▌    | 5/9 [00:00<00:00, 22.85it/s]\u001b[A\n",
            "validation sample batches: 100%|██████████| 9/9 [00:00<00:00, 21.82it/s]\n",
            "epochs:  49%|████▉     | 49/100 [03:38<03:52,  4.56s/it]"
          ]
        },
        {
          "output_type": "stream",
          "name": "stdout",
          "text": [
            "Epoch 00441: reducing learning rate of group 0 to 1.2851e-04.\n",
            "Epoch train loss 1.2442536607384682\n",
            "Epoch val_loss 1.4739012718200684\n"
          ]
        },
        {
          "output_type": "stream",
          "name": "stderr",
          "text": [
            "\n",
            "train sample batches:   0%|          | 0/20 [00:00<?, ?it/s]\u001b[A\n",
            "train sample batches:   5%|▌         | 1/20 [00:00<00:03,  5.07it/s]\u001b[A\n",
            "train sample batches:  10%|█         | 2/20 [00:00<00:03,  5.05it/s]\u001b[A\n",
            "train sample batches:  15%|█▌        | 3/20 [00:00<00:03,  4.98it/s]\u001b[A\n",
            "train sample batches:  20%|██        | 4/20 [00:00<00:03,  4.85it/s]\u001b[A\n",
            "train sample batches:  25%|██▌       | 5/20 [00:01<00:03,  4.78it/s]\u001b[A\n",
            "train sample batches:  30%|███       | 6/20 [00:01<00:02,  4.89it/s]\u001b[A\n",
            "train sample batches:  35%|███▌      | 7/20 [00:01<00:02,  4.93it/s]\u001b[A\n",
            "train sample batches:  40%|████      | 8/20 [00:01<00:02,  4.98it/s]\u001b[A\n",
            "train sample batches:  45%|████▌     | 9/20 [00:01<00:02,  4.86it/s]\u001b[A\n",
            "train sample batches:  50%|█████     | 10/20 [00:02<00:02,  4.88it/s]\u001b[A\n",
            "train sample batches:  55%|█████▌    | 11/20 [00:02<00:01,  4.92it/s]\u001b[A\n",
            "train sample batches:  60%|██████    | 12/20 [00:02<00:01,  4.96it/s]\u001b[A\n",
            "train sample batches:  65%|██████▌   | 13/20 [00:02<00:01,  4.92it/s]\u001b[A\n",
            "train sample batches:  70%|███████   | 14/20 [00:02<00:01,  4.80it/s]\u001b[A\n",
            "train sample batches:  75%|███████▌  | 15/20 [00:03<00:01,  4.84it/s]\u001b[A\n",
            "train sample batches:  80%|████████  | 16/20 [00:03<00:00,  4.95it/s]\u001b[A\n",
            "train sample batches:  85%|████████▌ | 17/20 [00:03<00:00,  5.00it/s]\u001b[A\n",
            "train sample batches:  90%|█████████ | 18/20 [00:03<00:00,  4.95it/s]\u001b[A\n",
            "train sample batches:  95%|█████████▌| 19/20 [00:03<00:00,  4.88it/s]\u001b[A\n",
            "train sample batches: 100%|██████████| 20/20 [00:04<00:00,  4.91it/s]\n",
            "\n",
            "validation sample batches:   0%|          | 0/9 [00:00<?, ?it/s]\u001b[A\n",
            "validation sample batches:  22%|██▏       | 2/9 [00:00<00:00, 17.43it/s]\u001b[A\n",
            "validation sample batches:  56%|█████▌    | 5/9 [00:00<00:00, 21.79it/s]\u001b[A\n",
            "validation sample batches: 100%|██████████| 9/9 [00:00<00:00, 21.86it/s]\n",
            "epochs:  50%|█████     | 50/100 [03:43<03:47,  4.55s/it]"
          ]
        },
        {
          "output_type": "stream",
          "name": "stdout",
          "text": [
            "Epoch train loss 1.23867427110672\n",
            "Epoch val_loss 1.0339210033416748\n"
          ]
        },
        {
          "output_type": "stream",
          "name": "stderr",
          "text": [
            "\n",
            "train sample batches:   0%|          | 0/20 [00:00<?, ?it/s]\u001b[A\n",
            "train sample batches:   5%|▌         | 1/20 [00:00<00:03,  4.75it/s]\u001b[A\n",
            "train sample batches:  10%|█         | 2/20 [00:00<00:03,  4.75it/s]\u001b[A\n",
            "train sample batches:  15%|█▌        | 3/20 [00:00<00:03,  4.93it/s]\u001b[A\n",
            "train sample batches:  20%|██        | 4/20 [00:00<00:03,  4.94it/s]\u001b[A\n",
            "train sample batches:  25%|██▌       | 5/20 [00:01<00:03,  4.93it/s]\u001b[A\n",
            "train sample batches:  30%|███       | 6/20 [00:01<00:02,  4.90it/s]\u001b[A\n",
            "train sample batches:  35%|███▌      | 7/20 [00:01<00:02,  4.80it/s]\u001b[A\n",
            "train sample batches:  40%|████      | 8/20 [00:01<00:02,  4.86it/s]\u001b[A\n",
            "train sample batches:  45%|████▌     | 9/20 [00:01<00:02,  4.95it/s]\u001b[A\n",
            "train sample batches:  50%|█████     | 10/20 [00:02<00:02,  4.99it/s]\u001b[A\n",
            "train sample batches:  55%|█████▌    | 11/20 [00:02<00:01,  5.03it/s]\u001b[A\n",
            "train sample batches:  60%|██████    | 12/20 [00:02<00:01,  4.90it/s]\u001b[A\n",
            "train sample batches:  65%|██████▌   | 13/20 [00:02<00:01,  4.93it/s]\u001b[A\n",
            "train sample batches:  70%|███████   | 14/20 [00:02<00:01,  4.94it/s]\u001b[A\n",
            "train sample batches:  75%|███████▌  | 15/20 [00:03<00:01,  4.94it/s]\u001b[A\n",
            "train sample batches:  80%|████████  | 16/20 [00:03<00:00,  4.96it/s]\u001b[A\n",
            "train sample batches:  85%|████████▌ | 17/20 [00:03<00:00,  4.96it/s]\u001b[A\n",
            "train sample batches:  90%|█████████ | 18/20 [00:03<00:00,  4.93it/s]\u001b[A\n",
            "train sample batches:  95%|█████████▌| 19/20 [00:03<00:00,  4.97it/s]\u001b[A\n",
            "train sample batches: 100%|██████████| 20/20 [00:04<00:00,  4.93it/s]\n",
            "\n",
            "validation sample batches:   0%|          | 0/9 [00:00<?, ?it/s]\u001b[A\n",
            "validation sample batches:  33%|███▎      | 3/9 [00:00<00:00, 26.71it/s]\u001b[A\n",
            "validation sample batches:  67%|██████▋   | 6/9 [00:00<00:00, 21.98it/s]\u001b[A"
          ]
        },
        {
          "output_type": "stream",
          "name": "stdout",
          "text": [
            "Epoch 00452: reducing learning rate of group 0 to 1.2209e-04.\n"
          ]
        },
        {
          "output_type": "stream",
          "name": "stderr",
          "text": [
            "\n",
            "validation sample batches: 100%|██████████| 9/9 [00:00<00:00, 21.98it/s]\n",
            "epochs:  51%|█████     | 51/100 [03:47<03:42,  4.54s/it]"
          ]
        },
        {
          "output_type": "stream",
          "name": "stdout",
          "text": [
            "Epoch train loss 1.2283249378204346\n",
            "Epoch val_loss 1.5523109436035156\n"
          ]
        },
        {
          "output_type": "stream",
          "name": "stderr",
          "text": [
            "\n",
            "train sample batches:   0%|          | 0/20 [00:00<?, ?it/s]\u001b[A\n",
            "train sample batches:   5%|▌         | 1/20 [00:00<00:03,  5.12it/s]\u001b[A\n",
            "train sample batches:  10%|█         | 2/20 [00:00<00:03,  5.05it/s]\u001b[A\n",
            "train sample batches:  15%|█▌        | 3/20 [00:00<00:03,  4.84it/s]\u001b[A\n",
            "train sample batches:  20%|██        | 4/20 [00:00<00:03,  4.91it/s]\u001b[A\n",
            "train sample batches:  25%|██▌       | 5/20 [00:01<00:03,  4.85it/s]\u001b[A\n",
            "train sample batches:  30%|███       | 6/20 [00:01<00:02,  4.96it/s]\u001b[A\n",
            "train sample batches:  35%|███▌      | 7/20 [00:01<00:02,  4.98it/s]\u001b[A\n",
            "train sample batches:  40%|████      | 8/20 [00:01<00:02,  5.07it/s]\u001b[A\n",
            "train sample batches:  45%|████▌     | 9/20 [00:01<00:02,  5.09it/s]\u001b[A\n",
            "train sample batches:  50%|█████     | 10/20 [00:02<00:01,  5.04it/s]\u001b[A\n",
            "train sample batches:  55%|█████▌    | 11/20 [00:02<00:01,  5.04it/s]\u001b[A\n",
            "train sample batches:  60%|██████    | 12/20 [00:02<00:01,  5.03it/s]\u001b[A\n",
            "train sample batches:  65%|██████▌   | 13/20 [00:02<00:01,  4.97it/s]\u001b[A\n",
            "train sample batches:  70%|███████   | 14/20 [00:02<00:01,  5.00it/s]\u001b[A\n",
            "train sample batches:  75%|███████▌  | 15/20 [00:03<00:01,  4.96it/s]\u001b[A\n",
            "train sample batches:  80%|████████  | 16/20 [00:03<00:00,  5.01it/s]\u001b[A\n",
            "train sample batches:  85%|████████▌ | 17/20 [00:03<00:00,  4.99it/s]\u001b[A\n",
            "train sample batches:  90%|█████████ | 18/20 [00:03<00:00,  5.12it/s]\u001b[A\n",
            "train sample batches:  95%|█████████▌| 19/20 [00:03<00:00,  5.12it/s]\u001b[A\n",
            "train sample batches: 100%|██████████| 20/20 [00:03<00:00,  5.02it/s]\n",
            "\n",
            "validation sample batches:   0%|          | 0/9 [00:00<?, ?it/s]\u001b[A\n",
            "validation sample batches:  22%|██▏       | 2/9 [00:00<00:00, 18.20it/s]\u001b[A\n",
            "validation sample batches:  56%|█████▌    | 5/9 [00:00<00:00, 20.22it/s]\u001b[A\n",
            "validation sample batches:  89%|████████▉ | 8/9 [00:00<00:00, 20.04it/s]\u001b[A"
          ]
        },
        {
          "output_type": "stream",
          "name": "stdout",
          "text": [
            "Epoch 00463: reducing learning rate of group 0 to 1.1598e-04.\n"
          ]
        },
        {
          "output_type": "stream",
          "name": "stderr",
          "text": [
            "validation sample batches: 100%|██████████| 9/9 [00:00<00:00, 19.92it/s]\n",
            "epochs:  52%|█████▏    | 52/100 [03:52<03:37,  4.53s/it]"
          ]
        },
        {
          "output_type": "stream",
          "name": "stdout",
          "text": [
            "Epoch train loss 1.2303923964500427\n",
            "Epoch val_loss 1.4299437999725342\n"
          ]
        },
        {
          "output_type": "stream",
          "name": "stderr",
          "text": [
            "\n",
            "train sample batches:   0%|          | 0/20 [00:00<?, ?it/s]\u001b[A\n",
            "train sample batches:   5%|▌         | 1/20 [00:00<00:03,  5.10it/s]\u001b[A\n",
            "train sample batches:  10%|█         | 2/20 [00:00<00:03,  5.11it/s]\u001b[A\n",
            "train sample batches:  15%|█▌        | 3/20 [00:00<00:03,  4.95it/s]\u001b[A\n",
            "train sample batches:  20%|██        | 4/20 [00:00<00:03,  5.02it/s]\u001b[A\n",
            "train sample batches:  25%|██▌       | 5/20 [00:01<00:03,  4.99it/s]\u001b[A\n",
            "train sample batches:  30%|███       | 6/20 [00:01<00:02,  4.99it/s]\u001b[A\n",
            "train sample batches:  35%|███▌      | 7/20 [00:01<00:02,  5.01it/s]\u001b[A\n",
            "train sample batches:  40%|████      | 8/20 [00:01<00:02,  4.92it/s]\u001b[A\n",
            "train sample batches:  45%|████▌     | 9/20 [00:01<00:02,  4.96it/s]\u001b[A\n",
            "train sample batches:  50%|█████     | 10/20 [00:02<00:02,  4.99it/s]\u001b[A\n",
            "train sample batches:  55%|█████▌    | 11/20 [00:02<00:01,  5.03it/s]\u001b[A\n",
            "train sample batches:  60%|██████    | 12/20 [00:02<00:01,  5.05it/s]\u001b[A\n",
            "train sample batches:  65%|██████▌   | 13/20 [00:02<00:01,  4.97it/s]\u001b[A\n",
            "train sample batches:  70%|███████   | 14/20 [00:02<00:01,  4.99it/s]\u001b[A\n",
            "train sample batches:  75%|███████▌  | 15/20 [00:02<00:00,  5.04it/s]\u001b[A\n",
            "train sample batches:  80%|████████  | 16/20 [00:03<00:00,  5.09it/s]\u001b[A\n",
            "train sample batches:  85%|████████▌ | 17/20 [00:03<00:00,  5.10it/s]\u001b[A\n",
            "train sample batches:  90%|█████████ | 18/20 [00:03<00:00,  5.01it/s]\u001b[A\n",
            "train sample batches:  95%|█████████▌| 19/20 [00:03<00:00,  4.99it/s]\u001b[A\n",
            "train sample batches: 100%|██████████| 20/20 [00:03<00:00,  5.02it/s]\n",
            "\n",
            "validation sample batches:   0%|          | 0/9 [00:00<?, ?it/s]\u001b[A\n",
            "validation sample batches:  33%|███▎      | 3/9 [00:00<00:00, 22.39it/s]\u001b[A\n",
            "validation sample batches:  67%|██████▋   | 6/9 [00:00<00:00, 23.13it/s]\u001b[A\n",
            "validation sample batches: 100%|██████████| 9/9 [00:00<00:00, 22.94it/s]\n",
            "epochs:  53%|█████▎    | 53/100 [03:56<03:31,  4.50s/it]"
          ]
        },
        {
          "output_type": "stream",
          "name": "stdout",
          "text": [
            "Epoch 00474: reducing learning rate of group 0 to 1.1018e-04.\n",
            "Epoch train loss 1.2080669224262237\n",
            "Epoch val_loss 1.1387485265731812\n"
          ]
        },
        {
          "output_type": "stream",
          "name": "stderr",
          "text": [
            "\n",
            "train sample batches:   0%|          | 0/20 [00:00<?, ?it/s]\u001b[A\n",
            "train sample batches:   5%|▌         | 1/20 [00:00<00:03,  4.80it/s]\u001b[A\n",
            "train sample batches:  10%|█         | 2/20 [00:00<00:03,  4.94it/s]\u001b[A\n",
            "train sample batches:  15%|█▌        | 3/20 [00:00<00:03,  4.87it/s]\u001b[A\n",
            "train sample batches:  20%|██        | 4/20 [00:00<00:03,  4.91it/s]\u001b[A\n",
            "train sample batches:  25%|██▌       | 5/20 [00:01<00:03,  4.88it/s]\u001b[A\n",
            "train sample batches:  30%|███       | 6/20 [00:01<00:02,  4.81it/s]\u001b[A\n",
            "train sample batches:  35%|███▌      | 7/20 [00:01<00:02,  4.88it/s]\u001b[A\n",
            "train sample batches:  40%|████      | 8/20 [00:01<00:02,  4.90it/s]\u001b[A\n",
            "train sample batches:  45%|████▌     | 9/20 [00:01<00:02,  4.79it/s]\u001b[A\n",
            "train sample batches:  50%|█████     | 10/20 [00:02<00:02,  4.86it/s]\u001b[A\n",
            "train sample batches:  55%|█████▌    | 11/20 [00:02<00:01,  4.84it/s]\u001b[A\n",
            "train sample batches:  60%|██████    | 12/20 [00:02<00:01,  4.91it/s]\u001b[A\n",
            "train sample batches:  65%|██████▌   | 13/20 [00:02<00:01,  4.99it/s]\u001b[A\n",
            "train sample batches:  70%|███████   | 14/20 [00:02<00:01,  4.99it/s]\u001b[A\n",
            "train sample batches:  75%|███████▌  | 15/20 [00:03<00:01,  4.98it/s]\u001b[A\n",
            "train sample batches:  80%|████████  | 16/20 [00:03<00:00,  5.01it/s]\u001b[A\n",
            "train sample batches:  85%|████████▌ | 17/20 [00:03<00:00,  5.05it/s]\u001b[A\n",
            "train sample batches:  90%|█████████ | 18/20 [00:03<00:00,  5.07it/s]\u001b[A\n",
            "train sample batches:  95%|█████████▌| 19/20 [00:03<00:00,  5.10it/s]\u001b[A\n",
            "train sample batches: 100%|██████████| 20/20 [00:04<00:00,  4.96it/s]\n",
            "\n",
            "validation sample batches:   0%|          | 0/9 [00:00<?, ?it/s]\u001b[A\n",
            "validation sample batches:  22%|██▏       | 2/9 [00:00<00:00, 17.50it/s]\u001b[A\n",
            "validation sample batches:  44%|████▍     | 4/9 [00:00<00:00, 18.82it/s]\u001b[A\n",
            "validation sample batches: 100%|██████████| 9/9 [00:00<00:00, 20.02it/s]\n",
            "epochs:  54%|█████▍    | 54/100 [04:01<03:27,  4.51s/it]"
          ]
        },
        {
          "output_type": "stream",
          "name": "stdout",
          "text": [
            "Epoch 00485: reducing learning rate of group 0 to 1.0467e-04.\n",
            "Epoch train loss 1.1934967637062073\n",
            "Epoch val_loss 1.4315590858459473\n"
          ]
        },
        {
          "output_type": "stream",
          "name": "stderr",
          "text": [
            "\n",
            "train sample batches:   0%|          | 0/20 [00:00<?, ?it/s]\u001b[A\n",
            "train sample batches:   5%|▌         | 1/20 [00:00<00:03,  5.36it/s]\u001b[A\n",
            "train sample batches:  10%|█         | 2/20 [00:00<00:03,  5.29it/s]\u001b[A\n",
            "train sample batches:  15%|█▌        | 3/20 [00:00<00:03,  5.13it/s]\u001b[A\n",
            "train sample batches:  20%|██        | 4/20 [00:00<00:03,  4.96it/s]\u001b[A\n",
            "train sample batches:  25%|██▌       | 5/20 [00:00<00:03,  4.93it/s]\u001b[A\n",
            "train sample batches:  30%|███       | 6/20 [00:01<00:02,  4.95it/s]\u001b[A\n",
            "train sample batches:  35%|███▌      | 7/20 [00:01<00:02,  4.95it/s]\u001b[A\n",
            "train sample batches:  40%|████      | 8/20 [00:01<00:02,  4.90it/s]\u001b[A\n",
            "train sample batches:  45%|████▌     | 9/20 [00:01<00:02,  4.83it/s]\u001b[A\n",
            "train sample batches:  50%|█████     | 10/20 [00:02<00:02,  4.92it/s]\u001b[A\n",
            "train sample batches:  55%|█████▌    | 11/20 [00:02<00:01,  4.92it/s]\u001b[A\n",
            "train sample batches:  60%|██████    | 12/20 [00:02<00:01,  4.88it/s]\u001b[A\n",
            "train sample batches:  65%|██████▌   | 13/20 [00:02<00:01,  4.92it/s]\u001b[A\n",
            "train sample batches:  70%|███████   | 14/20 [00:02<00:01,  4.94it/s]\u001b[A\n",
            "train sample batches:  75%|███████▌  | 15/20 [00:03<00:01,  4.98it/s]\u001b[A\n",
            "train sample batches:  80%|████████  | 16/20 [00:03<00:00,  5.02it/s]\u001b[A\n",
            "train sample batches:  85%|████████▌ | 17/20 [00:03<00:00,  5.04it/s]\u001b[A\n",
            "train sample batches:  90%|█████████ | 18/20 [00:03<00:00,  4.99it/s]\u001b[A\n",
            "train sample batches:  95%|█████████▌| 19/20 [00:03<00:00,  5.00it/s]\u001b[A\n",
            "train sample batches: 100%|██████████| 20/20 [00:04<00:00,  4.98it/s]\n",
            "\n",
            "validation sample batches:   0%|          | 0/9 [00:00<?, ?it/s]\u001b[A\n",
            "validation sample batches:  33%|███▎      | 3/9 [00:00<00:00, 22.15it/s]\u001b[A\n",
            "validation sample batches:  67%|██████▋   | 6/9 [00:00<00:00, 22.41it/s]\u001b[A\n",
            "validation sample batches: 100%|██████████| 9/9 [00:00<00:00, 22.52it/s]\n",
            "epochs:  55%|█████▌    | 55/100 [04:05<03:22,  4.50s/it]"
          ]
        },
        {
          "output_type": "stream",
          "name": "stdout",
          "text": [
            "Epoch train loss 1.1836790025234223\n",
            "Epoch val_loss 0.8358376622200012\n"
          ]
        },
        {
          "output_type": "stream",
          "name": "stderr",
          "text": [
            "\n",
            "train sample batches:   0%|          | 0/20 [00:00<?, ?it/s]\u001b[A\n",
            "train sample batches:   5%|▌         | 1/20 [00:00<00:03,  4.77it/s]\u001b[A\n",
            "train sample batches:  10%|█         | 2/20 [00:00<00:03,  4.74it/s]\u001b[A\n",
            "train sample batches:  15%|█▌        | 3/20 [00:00<00:03,  4.86it/s]\u001b[A\n",
            "train sample batches:  20%|██        | 4/20 [00:00<00:03,  4.88it/s]\u001b[A\n",
            "train sample batches:  25%|██▌       | 5/20 [00:01<00:03,  4.88it/s]\u001b[A\n",
            "train sample batches:  30%|███       | 6/20 [00:01<00:02,  4.98it/s]\u001b[A\n",
            "train sample batches:  35%|███▌      | 7/20 [00:01<00:02,  4.95it/s]\u001b[A\n",
            "train sample batches:  40%|████      | 8/20 [00:01<00:02,  4.98it/s]\u001b[A\n",
            "train sample batches:  45%|████▌     | 9/20 [00:01<00:02,  5.01it/s]\u001b[A\n",
            "train sample batches:  50%|█████     | 10/20 [00:02<00:01,  5.09it/s]\u001b[A\n",
            "train sample batches:  55%|█████▌    | 11/20 [00:02<00:01,  5.12it/s]\u001b[A\n",
            "train sample batches:  60%|██████    | 12/20 [00:02<00:01,  5.10it/s]\u001b[A\n",
            "train sample batches:  65%|██████▌   | 13/20 [00:02<00:01,  5.01it/s]\u001b[A\n",
            "train sample batches:  70%|███████   | 14/20 [00:02<00:01,  4.94it/s]\u001b[A\n",
            "train sample batches:  75%|███████▌  | 15/20 [00:03<00:01,  4.88it/s]\u001b[A\n",
            "train sample batches:  80%|████████  | 16/20 [00:03<00:00,  4.81it/s]\u001b[A\n",
            "train sample batches:  85%|████████▌ | 17/20 [00:03<00:00,  4.84it/s]\u001b[A\n",
            "train sample batches:  90%|█████████ | 18/20 [00:03<00:00,  4.85it/s]\u001b[A\n",
            "train sample batches:  95%|█████████▌| 19/20 [00:03<00:00,  4.87it/s]\u001b[A\n",
            "train sample batches: 100%|██████████| 20/20 [00:04<00:00,  4.93it/s]\n",
            "\n",
            "validation sample batches:   0%|          | 0/9 [00:00<?, ?it/s]\u001b[A\n",
            "validation sample batches:  33%|███▎      | 3/9 [00:00<00:00, 26.15it/s]\u001b[A\n",
            "validation sample batches:  67%|██████▋   | 6/9 [00:00<00:00, 24.64it/s]\u001b[A"
          ]
        },
        {
          "output_type": "stream",
          "name": "stdout",
          "text": [
            "Epoch 00496: reducing learning rate of group 0 to 9.9440e-05.\n"
          ]
        },
        {
          "output_type": "stream",
          "name": "stderr",
          "text": [
            "\n",
            "validation sample batches: 100%|██████████| 9/9 [00:00<00:00, 23.79it/s]\n",
            "epochs:  56%|█████▌    | 56/100 [04:10<03:17,  4.50s/it]"
          ]
        },
        {
          "output_type": "stream",
          "name": "stdout",
          "text": [
            "Epoch train loss 1.183452233672142\n",
            "Epoch val_loss 0.7772251963615417\n"
          ]
        },
        {
          "output_type": "stream",
          "name": "stderr",
          "text": [
            "\n",
            "train sample batches:   0%|          | 0/20 [00:00<?, ?it/s]\u001b[A\n",
            "train sample batches:   5%|▌         | 1/20 [00:00<00:03,  4.84it/s]\u001b[A\n",
            "train sample batches:  10%|█         | 2/20 [00:00<00:03,  4.93it/s]\u001b[A\n",
            "train sample batches:  15%|█▌        | 3/20 [00:00<00:03,  4.93it/s]\u001b[A\n",
            "train sample batches:  20%|██        | 4/20 [00:00<00:03,  4.92it/s]\u001b[A\n",
            "train sample batches:  25%|██▌       | 5/20 [00:01<00:03,  4.93it/s]\u001b[A\n",
            "train sample batches:  30%|███       | 6/20 [00:01<00:02,  4.86it/s]\u001b[A\n",
            "train sample batches:  35%|███▌      | 7/20 [00:01<00:02,  4.87it/s]\u001b[A\n",
            "train sample batches:  40%|████      | 8/20 [00:01<00:02,  4.89it/s]\u001b[A\n",
            "train sample batches:  45%|████▌     | 9/20 [00:01<00:02,  4.97it/s]\u001b[A\n",
            "train sample batches:  50%|█████     | 10/20 [00:02<00:01,  5.08it/s]\u001b[A\n",
            "train sample batches:  55%|█████▌    | 11/20 [00:02<00:01,  5.05it/s]\u001b[A\n",
            "train sample batches:  60%|██████    | 12/20 [00:02<00:01,  4.97it/s]\u001b[A\n",
            "train sample batches:  65%|██████▌   | 13/20 [00:02<00:01,  5.02it/s]\u001b[A\n",
            "train sample batches:  70%|███████   | 14/20 [00:02<00:01,  5.08it/s]\u001b[A\n",
            "train sample batches:  75%|███████▌  | 15/20 [00:03<00:00,  5.05it/s]\u001b[A\n",
            "train sample batches:  80%|████████  | 16/20 [00:03<00:00,  5.10it/s]\u001b[A\n",
            "train sample batches:  85%|████████▌ | 17/20 [00:03<00:00,  5.03it/s]\u001b[A\n",
            "train sample batches:  90%|█████████ | 18/20 [00:03<00:00,  5.05it/s]\u001b[A\n",
            "train sample batches:  95%|█████████▌| 19/20 [00:03<00:00,  5.09it/s]\u001b[A\n",
            "train sample batches: 100%|██████████| 20/20 [00:03<00:00,  5.00it/s]\n",
            "\n",
            "validation sample batches:   0%|          | 0/9 [00:00<?, ?it/s]\u001b[A\n",
            "validation sample batches:  22%|██▏       | 2/9 [00:00<00:00, 16.50it/s]\u001b[A\n",
            "validation sample batches:  44%|████▍     | 4/9 [00:00<00:00, 18.01it/s]\u001b[A\n",
            "validation sample batches:  67%|██████▋   | 6/9 [00:00<00:00, 18.82it/s]\u001b[A"
          ]
        },
        {
          "output_type": "stream",
          "name": "stdout",
          "text": [
            "Epoch 00507: reducing learning rate of group 0 to 9.4468e-05.\n"
          ]
        },
        {
          "output_type": "stream",
          "name": "stderr",
          "text": [
            "\n",
            "validation sample batches: 100%|██████████| 9/9 [00:00<00:00, 18.57it/s]\n",
            "epochs:  57%|█████▋    | 57/100 [04:14<03:13,  4.51s/it]"
          ]
        },
        {
          "output_type": "stream",
          "name": "stdout",
          "text": [
            "Epoch train loss 1.1457524359226228\n",
            "Epoch val_loss 1.4154092073440552\n"
          ]
        },
        {
          "output_type": "stream",
          "name": "stderr",
          "text": [
            "\n",
            "train sample batches:   0%|          | 0/20 [00:00<?, ?it/s]\u001b[A\n",
            "train sample batches:   5%|▌         | 1/20 [00:00<00:04,  4.74it/s]\u001b[A\n",
            "train sample batches:  10%|█         | 2/20 [00:00<00:03,  4.75it/s]\u001b[A\n",
            "train sample batches:  15%|█▌        | 3/20 [00:00<00:03,  4.60it/s]\u001b[A\n",
            "train sample batches:  20%|██        | 4/20 [00:00<00:03,  4.60it/s]\u001b[A\n",
            "train sample batches:  25%|██▌       | 5/20 [00:01<00:03,  4.61it/s]\u001b[A\n",
            "train sample batches:  30%|███       | 6/20 [00:01<00:02,  4.75it/s]\u001b[A\n",
            "train sample batches:  35%|███▌      | 7/20 [00:01<00:02,  4.73it/s]\u001b[A\n",
            "train sample batches:  40%|████      | 8/20 [00:01<00:02,  4.77it/s]\u001b[A\n",
            "train sample batches:  45%|████▌     | 9/20 [00:01<00:02,  4.77it/s]\u001b[A\n",
            "train sample batches:  50%|█████     | 10/20 [00:02<00:02,  4.79it/s]\u001b[A\n",
            "train sample batches:  55%|█████▌    | 11/20 [00:02<00:01,  4.77it/s]\u001b[A\n",
            "train sample batches:  60%|██████    | 12/20 [00:02<00:01,  4.82it/s]\u001b[A\n",
            "train sample batches:  65%|██████▌   | 13/20 [00:02<00:01,  4.79it/s]\u001b[A\n",
            "train sample batches:  70%|███████   | 14/20 [00:02<00:01,  4.82it/s]\u001b[A\n",
            "train sample batches:  75%|███████▌  | 15/20 [00:03<00:01,  4.84it/s]\u001b[A\n",
            "train sample batches:  80%|████████  | 16/20 [00:03<00:00,  4.89it/s]\u001b[A\n",
            "train sample batches:  85%|████████▌ | 17/20 [00:03<00:00,  4.85it/s]\u001b[A\n",
            "train sample batches:  90%|█████████ | 18/20 [00:03<00:00,  4.90it/s]\u001b[A\n",
            "train sample batches:  95%|█████████▌| 19/20 [00:03<00:00,  4.93it/s]\u001b[A\n",
            "train sample batches: 100%|██████████| 20/20 [00:04<00:00,  4.81it/s]\n",
            "\n",
            "validation sample batches:   0%|          | 0/9 [00:00<?, ?it/s]\u001b[A\n",
            "validation sample batches:  33%|███▎      | 3/9 [00:00<00:00, 21.93it/s]\u001b[A\n",
            "validation sample batches:  67%|██████▋   | 6/9 [00:00<00:00, 20.24it/s]\u001b[A\n",
            "validation sample batches: 100%|██████████| 9/9 [00:00<00:00, 21.44it/s]"
          ]
        },
        {
          "output_type": "stream",
          "name": "stdout",
          "text": [
            "Epoch 00518: reducing learning rate of group 0 to 8.9745e-05.\n",
            "Epoch train loss 1.1953432440757752\n",
            "Epoch val_loss 1.0062936544418335\n"
          ]
        },
        {
          "output_type": "stream",
          "name": "stderr",
          "text": [
            "\n",
            "epochs:  58%|█████▊    | 58/100 [04:19<03:10,  4.54s/it]\n",
            "train sample batches:   0%|          | 0/20 [00:00<?, ?it/s]\u001b[A\n",
            "train sample batches:   5%|▌         | 1/20 [00:00<00:04,  4.54it/s]\u001b[A\n",
            "train sample batches:  10%|█         | 2/20 [00:00<00:03,  4.84it/s]\u001b[A\n",
            "train sample batches:  15%|█▌        | 3/20 [00:00<00:03,  4.89it/s]\u001b[A\n",
            "train sample batches:  20%|██        | 4/20 [00:00<00:03,  4.95it/s]\u001b[A\n",
            "train sample batches:  25%|██▌       | 5/20 [00:01<00:03,  4.93it/s]\u001b[A\n",
            "train sample batches:  30%|███       | 6/20 [00:01<00:02,  4.89it/s]\u001b[A\n",
            "train sample batches:  35%|███▌      | 7/20 [00:01<00:02,  4.85it/s]\u001b[A\n",
            "train sample batches:  40%|████      | 8/20 [00:01<00:02,  4.88it/s]\u001b[A\n",
            "train sample batches:  45%|████▌     | 9/20 [00:01<00:02,  4.86it/s]\u001b[A\n",
            "train sample batches:  50%|█████     | 10/20 [00:02<00:02,  4.90it/s]\u001b[A\n",
            "train sample batches:  55%|█████▌    | 11/20 [00:02<00:01,  4.84it/s]\u001b[A\n",
            "train sample batches:  60%|██████    | 12/20 [00:02<00:01,  4.88it/s]\u001b[A\n",
            "train sample batches:  65%|██████▌   | 13/20 [00:02<00:01,  4.90it/s]\u001b[A\n",
            "train sample batches:  70%|███████   | 14/20 [00:02<00:01,  4.93it/s]\u001b[A\n",
            "train sample batches:  75%|███████▌  | 15/20 [00:03<00:01,  4.99it/s]\u001b[A\n",
            "train sample batches:  80%|████████  | 16/20 [00:03<00:00,  4.92it/s]\u001b[A\n",
            "train sample batches:  85%|████████▌ | 17/20 [00:03<00:00,  4.90it/s]\u001b[A\n",
            "train sample batches:  90%|█████████ | 18/20 [00:03<00:00,  4.94it/s]\u001b[A\n",
            "train sample batches:  95%|█████████▌| 19/20 [00:03<00:00,  4.93it/s]\u001b[A\n",
            "train sample batches: 100%|██████████| 20/20 [00:04<00:00,  4.91it/s]\n",
            "\n",
            "validation sample batches:   0%|          | 0/9 [00:00<?, ?it/s]\u001b[A\n",
            "validation sample batches:  22%|██▏       | 2/9 [00:00<00:00, 17.16it/s]\u001b[A\n",
            "validation sample batches:  56%|█████▌    | 5/9 [00:00<00:00, 21.22it/s]\u001b[A\n",
            "validation sample batches: 100%|██████████| 9/9 [00:00<00:00, 20.96it/s]\n",
            "epochs:  59%|█████▉    | 59/100 [04:23<03:06,  4.54s/it]"
          ]
        },
        {
          "output_type": "stream",
          "name": "stdout",
          "text": [
            "Epoch 00529: reducing learning rate of group 0 to 8.5258e-05.\n",
            "Epoch train loss 1.1724164724349975\n",
            "Epoch val_loss 0.9317373633384705\n"
          ]
        },
        {
          "output_type": "stream",
          "name": "stderr",
          "text": [
            "\n",
            "train sample batches:   0%|          | 0/20 [00:00<?, ?it/s]\u001b[A\n",
            "train sample batches:   5%|▌         | 1/20 [00:00<00:03,  5.19it/s]\u001b[A\n",
            "train sample batches:  10%|█         | 2/20 [00:00<00:03,  5.08it/s]\u001b[A\n",
            "train sample batches:  15%|█▌        | 3/20 [00:00<00:03,  4.93it/s]\u001b[A\n",
            "train sample batches:  20%|██        | 4/20 [00:00<00:03,  4.84it/s]\u001b[A\n",
            "train sample batches:  25%|██▌       | 5/20 [00:01<00:03,  4.84it/s]\u001b[A\n",
            "train sample batches:  30%|███       | 6/20 [00:01<00:02,  4.87it/s]\u001b[A\n",
            "train sample batches:  35%|███▌      | 7/20 [00:01<00:02,  4.86it/s]\u001b[A\n",
            "train sample batches:  40%|████      | 8/20 [00:01<00:02,  4.87it/s]\u001b[A\n",
            "train sample batches:  45%|████▌     | 9/20 [00:01<00:02,  4.81it/s]\u001b[A\n",
            "train sample batches:  50%|█████     | 10/20 [00:02<00:02,  4.83it/s]\u001b[A\n",
            "train sample batches:  55%|█████▌    | 11/20 [00:02<00:01,  4.93it/s]\u001b[A\n",
            "train sample batches:  60%|██████    | 12/20 [00:02<00:01,  4.90it/s]\u001b[A\n",
            "train sample batches:  65%|██████▌   | 13/20 [00:02<00:01,  4.79it/s]\u001b[A\n",
            "train sample batches:  70%|███████   | 14/20 [00:02<00:01,  4.75it/s]\u001b[A\n",
            "train sample batches:  75%|███████▌  | 15/20 [00:03<00:01,  4.79it/s]\u001b[A\n",
            "train sample batches:  80%|████████  | 16/20 [00:03<00:00,  4.78it/s]\u001b[A\n",
            "train sample batches:  85%|████████▌ | 17/20 [00:03<00:00,  4.82it/s]\u001b[A\n",
            "train sample batches:  90%|█████████ | 18/20 [00:03<00:00,  4.82it/s]\u001b[A\n",
            "train sample batches:  95%|█████████▌| 19/20 [00:03<00:00,  4.78it/s]\u001b[A\n",
            "train sample batches: 100%|██████████| 20/20 [00:04<00:00,  4.84it/s]\n",
            "\n",
            "validation sample batches:   0%|          | 0/9 [00:00<?, ?it/s]\u001b[A\n",
            "validation sample batches:  22%|██▏       | 2/9 [00:00<00:00, 19.37it/s]\u001b[A\n",
            "validation sample batches:  56%|█████▌    | 5/9 [00:00<00:00, 20.64it/s]\u001b[A\n",
            "validation sample batches: 100%|██████████| 9/9 [00:00<00:00, 21.15it/s]\n",
            "epochs:  60%|██████    | 60/100 [04:28<03:02,  4.56s/it]"
          ]
        },
        {
          "output_type": "stream",
          "name": "stdout",
          "text": [
            "Epoch 00540: reducing learning rate of group 0 to 8.0995e-05.\n",
            "Epoch train loss 1.1676108092069626\n",
            "Epoch val_loss 1.3337699174880981\n"
          ]
        },
        {
          "output_type": "stream",
          "name": "stderr",
          "text": [
            "\n",
            "train sample batches:   0%|          | 0/20 [00:00<?, ?it/s]\u001b[A\n",
            "train sample batches:   5%|▌         | 1/20 [00:00<00:04,  4.63it/s]\u001b[A\n",
            "train sample batches:  10%|█         | 2/20 [00:00<00:03,  4.82it/s]\u001b[A\n",
            "train sample batches:  15%|█▌        | 3/20 [00:00<00:03,  4.80it/s]\u001b[A\n",
            "train sample batches:  20%|██        | 4/20 [00:00<00:03,  4.76it/s]\u001b[A\n",
            "train sample batches:  25%|██▌       | 5/20 [00:01<00:03,  4.66it/s]\u001b[A\n",
            "train sample batches:  30%|███       | 6/20 [00:01<00:03,  4.63it/s]\u001b[A\n",
            "train sample batches:  35%|███▌      | 7/20 [00:01<00:02,  4.74it/s]\u001b[A\n",
            "train sample batches:  40%|████      | 8/20 [00:01<00:02,  4.84it/s]\u001b[A\n",
            "train sample batches:  45%|████▌     | 9/20 [00:01<00:02,  4.92it/s]\u001b[A\n",
            "train sample batches:  50%|█████     | 10/20 [00:02<00:01,  5.00it/s]\u001b[A\n",
            "train sample batches:  55%|█████▌    | 11/20 [00:02<00:01,  4.97it/s]\u001b[A\n",
            "train sample batches:  60%|██████    | 12/20 [00:02<00:01,  5.05it/s]\u001b[A\n",
            "train sample batches:  65%|██████▌   | 13/20 [00:02<00:01,  5.02it/s]\u001b[A\n",
            "train sample batches:  70%|███████   | 14/20 [00:02<00:01,  4.95it/s]\u001b[A\n",
            "train sample batches:  75%|███████▌  | 15/20 [00:03<00:01,  4.96it/s]\u001b[A\n",
            "train sample batches:  80%|████████  | 16/20 [00:03<00:00,  4.95it/s]\u001b[A\n",
            "train sample batches:  85%|████████▌ | 17/20 [00:03<00:00,  4.98it/s]\u001b[A\n",
            "train sample batches:  90%|█████████ | 18/20 [00:03<00:00,  4.99it/s]\u001b[A\n",
            "train sample batches:  95%|█████████▌| 19/20 [00:03<00:00,  5.06it/s]\u001b[A\n",
            "train sample batches: 100%|██████████| 20/20 [00:04<00:00,  4.91it/s]\n",
            "\n",
            "validation sample batches:   0%|          | 0/9 [00:00<?, ?it/s]\u001b[A\n",
            "validation sample batches:  33%|███▎      | 3/9 [00:00<00:00, 21.91it/s]\u001b[A\n",
            "validation sample batches:  67%|██████▋   | 6/9 [00:00<00:00, 21.44it/s]\u001b[A\n",
            "validation sample batches: 100%|██████████| 9/9 [00:00<00:00, 21.87it/s]\n",
            "epochs:  61%|██████    | 61/100 [04:32<02:57,  4.56s/it]"
          ]
        },
        {
          "output_type": "stream",
          "name": "stdout",
          "text": [
            "Epoch train loss 1.1624931991100311\n",
            "Epoch val_loss 1.2849782705307007\n"
          ]
        },
        {
          "output_type": "stream",
          "name": "stderr",
          "text": [
            "\n",
            "train sample batches:   0%|          | 0/20 [00:00<?, ?it/s]\u001b[A\n",
            "train sample batches:   5%|▌         | 1/20 [00:00<00:03,  4.97it/s]\u001b[A\n",
            "train sample batches:  10%|█         | 2/20 [00:00<00:03,  4.92it/s]\u001b[A\n",
            "train sample batches:  15%|█▌        | 3/20 [00:00<00:03,  4.79it/s]\u001b[A\n",
            "train sample batches:  20%|██        | 4/20 [00:00<00:03,  4.79it/s]\u001b[A\n",
            "train sample batches:  25%|██▌       | 5/20 [00:01<00:03,  4.83it/s]\u001b[A\n",
            "train sample batches:  30%|███       | 6/20 [00:01<00:02,  4.86it/s]\u001b[A\n",
            "train sample batches:  35%|███▌      | 7/20 [00:01<00:02,  4.84it/s]\u001b[A\n",
            "train sample batches:  40%|████      | 8/20 [00:01<00:02,  4.84it/s]\u001b[A\n",
            "train sample batches:  45%|████▌     | 9/20 [00:01<00:02,  4.76it/s]\u001b[A\n",
            "train sample batches:  50%|█████     | 10/20 [00:02<00:02,  4.77it/s]\u001b[A\n",
            "train sample batches:  55%|█████▌    | 11/20 [00:02<00:01,  4.75it/s]\u001b[A\n",
            "train sample batches:  60%|██████    | 12/20 [00:02<00:01,  4.85it/s]\u001b[A\n",
            "train sample batches:  65%|██████▌   | 13/20 [00:02<00:01,  4.85it/s]\u001b[A\n",
            "train sample batches:  70%|███████   | 14/20 [00:02<00:01,  4.81it/s]\u001b[A\n",
            "train sample batches:  75%|███████▌  | 15/20 [00:03<00:01,  4.84it/s]\u001b[A\n",
            "train sample batches:  80%|████████  | 16/20 [00:03<00:00,  4.86it/s]\u001b[A\n",
            "train sample batches:  85%|████████▌ | 17/20 [00:03<00:00,  4.78it/s]\u001b[A\n",
            "train sample batches:  90%|█████████ | 18/20 [00:03<00:00,  4.85it/s]\u001b[A\n",
            "train sample batches:  95%|█████████▌| 19/20 [00:03<00:00,  4.77it/s]\u001b[A\n",
            "train sample batches: 100%|██████████| 20/20 [00:04<00:00,  4.82it/s]\n",
            "\n",
            "validation sample batches:   0%|          | 0/9 [00:00<?, ?it/s]\u001b[A\n",
            "validation sample batches:  33%|███▎      | 3/9 [00:00<00:00, 22.36it/s]\u001b[A\n",
            "validation sample batches:  67%|██████▋   | 6/9 [00:00<00:00, 20.35it/s]\u001b[A"
          ]
        },
        {
          "output_type": "stream",
          "name": "stdout",
          "text": [
            "Epoch 00551: reducing learning rate of group 0 to 7.6945e-05.\n"
          ]
        },
        {
          "output_type": "stream",
          "name": "stderr",
          "text": [
            "\n",
            "validation sample batches: 100%|██████████| 9/9 [00:00<00:00, 20.59it/s]\n",
            "epochs:  62%|██████▏   | 62/100 [04:37<02:54,  4.58s/it]"
          ]
        },
        {
          "output_type": "stream",
          "name": "stdout",
          "text": [
            "Epoch train loss 1.1146800935268402\n",
            "Epoch val_loss 0.759585440158844\n"
          ]
        },
        {
          "output_type": "stream",
          "name": "stderr",
          "text": [
            "\n",
            "train sample batches:   0%|          | 0/20 [00:00<?, ?it/s]\u001b[A\n",
            "train sample batches:   5%|▌         | 1/20 [00:00<00:04,  4.49it/s]\u001b[A\n",
            "train sample batches:  10%|█         | 2/20 [00:00<00:03,  4.63it/s]\u001b[A\n",
            "train sample batches:  15%|█▌        | 3/20 [00:00<00:03,  4.70it/s]\u001b[A\n",
            "train sample batches:  20%|██        | 4/20 [00:00<00:03,  4.75it/s]\u001b[A\n",
            "train sample batches:  25%|██▌       | 5/20 [00:01<00:03,  4.78it/s]\u001b[A\n",
            "train sample batches:  30%|███       | 6/20 [00:01<00:02,  4.77it/s]\u001b[A\n",
            "train sample batches:  35%|███▌      | 7/20 [00:01<00:02,  4.74it/s]\u001b[A\n",
            "train sample batches:  40%|████      | 8/20 [00:01<00:02,  4.73it/s]\u001b[A\n",
            "train sample batches:  45%|████▌     | 9/20 [00:01<00:02,  4.70it/s]\u001b[A\n",
            "train sample batches:  50%|█████     | 10/20 [00:02<00:02,  4.63it/s]\u001b[A\n",
            "train sample batches:  55%|█████▌    | 11/20 [00:02<00:01,  4.63it/s]\u001b[A\n",
            "train sample batches:  60%|██████    | 12/20 [00:02<00:01,  4.68it/s]\u001b[A\n",
            "train sample batches:  65%|██████▌   | 13/20 [00:02<00:01,  4.81it/s]\u001b[A\n",
            "train sample batches:  70%|███████   | 14/20 [00:02<00:01,  4.82it/s]\u001b[A\n",
            "train sample batches:  75%|███████▌  | 15/20 [00:03<00:01,  4.67it/s]\u001b[A\n",
            "train sample batches:  80%|████████  | 16/20 [00:03<00:00,  4.75it/s]\u001b[A\n",
            "train sample batches:  85%|████████▌ | 17/20 [00:03<00:00,  4.79it/s]\u001b[A\n",
            "train sample batches:  90%|█████████ | 18/20 [00:03<00:00,  4.77it/s]\u001b[A\n",
            "train sample batches:  95%|█████████▌| 19/20 [00:04<00:00,  4.77it/s]\u001b[A\n",
            "train sample batches: 100%|██████████| 20/20 [00:04<00:00,  4.74it/s]\n",
            "\n",
            "validation sample batches:   0%|          | 0/9 [00:00<?, ?it/s]\u001b[A\n",
            "validation sample batches:  22%|██▏       | 2/9 [00:00<00:00, 16.00it/s]\u001b[A\n",
            "validation sample batches:  56%|█████▌    | 5/9 [00:00<00:00, 19.10it/s]\u001b[A\n",
            "validation sample batches:  78%|███████▊  | 7/9 [00:00<00:00, 19.07it/s]\u001b[A"
          ]
        },
        {
          "output_type": "stream",
          "name": "stdout",
          "text": [
            "Epoch 00562: reducing learning rate of group 0 to 7.3098e-05.\n"
          ]
        },
        {
          "output_type": "stream",
          "name": "stderr",
          "text": [
            "validation sample batches: 100%|██████████| 9/9 [00:00<00:00, 19.03it/s]\n",
            "epochs:  63%|██████▎   | 63/100 [04:42<02:51,  4.63s/it]"
          ]
        },
        {
          "output_type": "stream",
          "name": "stdout",
          "text": [
            "Epoch train loss 1.128534586727619\n",
            "Epoch val_loss 0.5745920538902283\n"
          ]
        },
        {
          "output_type": "stream",
          "name": "stderr",
          "text": [
            "\n",
            "train sample batches:   0%|          | 0/20 [00:00<?, ?it/s]\u001b[A\n",
            "train sample batches:   5%|▌         | 1/20 [00:00<00:03,  4.95it/s]\u001b[A\n",
            "train sample batches:  10%|█         | 2/20 [00:00<00:03,  4.94it/s]\u001b[A\n",
            "train sample batches:  15%|█▌        | 3/20 [00:00<00:03,  4.84it/s]\u001b[A\n",
            "train sample batches:  20%|██        | 4/20 [00:00<00:03,  4.87it/s]\u001b[A\n",
            "train sample batches:  25%|██▌       | 5/20 [00:01<00:03,  4.87it/s]\u001b[A\n",
            "train sample batches:  30%|███       | 6/20 [00:01<00:02,  4.80it/s]\u001b[A\n",
            "train sample batches:  35%|███▌      | 7/20 [00:01<00:02,  4.82it/s]\u001b[A\n",
            "train sample batches:  40%|████      | 8/20 [00:01<00:02,  4.81it/s]\u001b[A\n",
            "train sample batches:  45%|████▌     | 9/20 [00:01<00:02,  4.78it/s]\u001b[A\n",
            "train sample batches:  50%|█████     | 10/20 [00:02<00:02,  4.82it/s]\u001b[A\n",
            "train sample batches:  55%|█████▌    | 11/20 [00:02<00:01,  4.82it/s]\u001b[A\n",
            "train sample batches:  60%|██████    | 12/20 [00:02<00:01,  4.92it/s]\u001b[A\n",
            "train sample batches:  65%|██████▌   | 13/20 [00:02<00:01,  4.87it/s]\u001b[A\n",
            "train sample batches:  70%|███████   | 14/20 [00:02<00:01,  4.89it/s]\u001b[A\n",
            "train sample batches:  75%|███████▌  | 15/20 [00:03<00:01,  4.90it/s]\u001b[A\n",
            "train sample batches:  80%|████████  | 16/20 [00:03<00:00,  4.90it/s]\u001b[A\n",
            "train sample batches:  85%|████████▌ | 17/20 [00:03<00:00,  4.87it/s]\u001b[A\n",
            "train sample batches:  90%|█████████ | 18/20 [00:03<00:00,  4.89it/s]\u001b[A\n",
            "train sample batches:  95%|█████████▌| 19/20 [00:03<00:00,  4.85it/s]\u001b[A\n",
            "train sample batches: 100%|██████████| 20/20 [00:04<00:00,  4.86it/s]\n",
            "\n",
            "validation sample batches:   0%|          | 0/9 [00:00<?, ?it/s]\u001b[A\n",
            "validation sample batches:  22%|██▏       | 2/9 [00:00<00:00, 19.37it/s]\u001b[A\n",
            "validation sample batches:  44%|████▍     | 4/9 [00:00<00:00, 19.66it/s]\u001b[A\n",
            "validation sample batches: 100%|██████████| 9/9 [00:00<00:00, 21.39it/s]\n",
            "epochs:  64%|██████▍   | 64/100 [04:46<02:46,  4.61s/it]"
          ]
        },
        {
          "output_type": "stream",
          "name": "stdout",
          "text": [
            "Epoch 00573: reducing learning rate of group 0 to 6.9443e-05.\n",
            "Epoch train loss 1.1266272991895676\n",
            "Epoch val_loss 1.1552525758743286\n"
          ]
        },
        {
          "output_type": "stream",
          "name": "stderr",
          "text": [
            "\n",
            "train sample batches:   0%|          | 0/20 [00:00<?, ?it/s]\u001b[A\n",
            "train sample batches:   5%|▌         | 1/20 [00:00<00:04,  4.67it/s]\u001b[A\n",
            "train sample batches:  10%|█         | 2/20 [00:00<00:03,  4.80it/s]\u001b[A\n",
            "train sample batches:  15%|█▌        | 3/20 [00:00<00:03,  4.82it/s]\u001b[A\n",
            "train sample batches:  20%|██        | 4/20 [00:00<00:03,  4.87it/s]\u001b[A\n",
            "train sample batches:  25%|██▌       | 5/20 [00:01<00:03,  4.92it/s]\u001b[A\n",
            "train sample batches:  30%|███       | 6/20 [00:01<00:02,  4.86it/s]\u001b[A\n",
            "train sample batches:  35%|███▌      | 7/20 [00:01<00:02,  4.88it/s]\u001b[A\n",
            "train sample batches:  40%|████      | 8/20 [00:01<00:02,  4.82it/s]\u001b[A\n",
            "train sample batches:  45%|████▌     | 9/20 [00:01<00:02,  4.85it/s]\u001b[A\n",
            "train sample batches:  50%|█████     | 10/20 [00:02<00:02,  4.89it/s]\u001b[A\n",
            "train sample batches:  55%|█████▌    | 11/20 [00:02<00:01,  4.92it/s]\u001b[A\n",
            "train sample batches:  60%|██████    | 12/20 [00:02<00:01,  4.91it/s]\u001b[A\n",
            "train sample batches:  65%|██████▌   | 13/20 [00:02<00:01,  4.89it/s]\u001b[A\n",
            "train sample batches:  70%|███████   | 14/20 [00:02<00:01,  4.94it/s]\u001b[A\n",
            "train sample batches:  75%|███████▌  | 15/20 [00:03<00:01,  4.88it/s]\u001b[A\n",
            "train sample batches:  80%|████████  | 16/20 [00:03<00:00,  4.80it/s]\u001b[A\n",
            "train sample batches:  85%|████████▌ | 17/20 [00:03<00:00,  4.84it/s]\u001b[A\n",
            "train sample batches:  90%|█████████ | 18/20 [00:03<00:00,  4.86it/s]\u001b[A\n",
            "train sample batches:  95%|█████████▌| 19/20 [00:03<00:00,  4.93it/s]\u001b[A\n",
            "train sample batches: 100%|██████████| 20/20 [00:04<00:00,  4.87it/s]\n",
            "\n",
            "validation sample batches:   0%|          | 0/9 [00:00<?, ?it/s]\u001b[A\n",
            "validation sample batches:  22%|██▏       | 2/9 [00:00<00:00, 18.30it/s]\u001b[A\n",
            "validation sample batches:  56%|█████▌    | 5/9 [00:00<00:00, 21.51it/s]\u001b[A\n",
            "validation sample batches: 100%|██████████| 9/9 [00:00<00:00, 21.06it/s]\n",
            "epochs:  65%|██████▌   | 65/100 [04:51<02:41,  4.61s/it]"
          ]
        },
        {
          "output_type": "stream",
          "name": "stdout",
          "text": [
            "Epoch 00584: reducing learning rate of group 0 to 6.5971e-05.\n",
            "Epoch train loss 1.1214176714420319\n",
            "Epoch val_loss 1.606217861175537\n"
          ]
        },
        {
          "output_type": "stream",
          "name": "stderr",
          "text": [
            "\n",
            "train sample batches:   0%|          | 0/20 [00:00<?, ?it/s]\u001b[A\n",
            "train sample batches:   5%|▌         | 1/20 [00:00<00:03,  4.78it/s]\u001b[A\n",
            "train sample batches:  10%|█         | 2/20 [00:00<00:03,  4.91it/s]\u001b[A\n",
            "train sample batches:  15%|█▌        | 3/20 [00:00<00:03,  4.85it/s]\u001b[A\n",
            "train sample batches:  20%|██        | 4/20 [00:00<00:03,  4.76it/s]\u001b[A\n",
            "train sample batches:  25%|██▌       | 5/20 [00:01<00:03,  4.82it/s]\u001b[A\n",
            "train sample batches:  30%|███       | 6/20 [00:01<00:02,  4.87it/s]\u001b[A\n",
            "train sample batches:  35%|███▌      | 7/20 [00:01<00:02,  4.92it/s]\u001b[A\n",
            "train sample batches:  40%|████      | 8/20 [00:01<00:02,  4.93it/s]\u001b[A\n",
            "train sample batches:  45%|████▌     | 9/20 [00:01<00:02,  4.86it/s]\u001b[A\n",
            "train sample batches:  50%|█████     | 10/20 [00:02<00:02,  4.81it/s]\u001b[A\n",
            "train sample batches:  55%|█████▌    | 11/20 [00:02<00:01,  4.77it/s]\u001b[A\n",
            "train sample batches:  60%|██████    | 12/20 [00:02<00:01,  4.79it/s]\u001b[A\n",
            "train sample batches:  65%|██████▌   | 13/20 [00:02<00:01,  4.79it/s]\u001b[A\n",
            "train sample batches:  70%|███████   | 14/20 [00:02<00:01,  4.74it/s]\u001b[A\n",
            "train sample batches:  75%|███████▌  | 15/20 [00:03<00:01,  4.77it/s]\u001b[A\n",
            "train sample batches:  80%|████████  | 16/20 [00:03<00:00,  4.77it/s]\u001b[A\n",
            "train sample batches:  85%|████████▌ | 17/20 [00:03<00:00,  4.88it/s]\u001b[A\n",
            "train sample batches:  90%|█████████ | 18/20 [00:03<00:00,  4.91it/s]\u001b[A\n",
            "train sample batches:  95%|█████████▌| 19/20 [00:03<00:00,  4.85it/s]\u001b[A\n",
            "train sample batches: 100%|██████████| 20/20 [00:04<00:00,  4.84it/s]\n",
            "\n",
            "validation sample batches:   0%|          | 0/9 [00:00<?, ?it/s]\u001b[A\n",
            "validation sample batches:  33%|███▎      | 3/9 [00:00<00:00, 25.33it/s]\u001b[A\n",
            "validation sample batches:  67%|██████▋   | 6/9 [00:00<00:00, 23.44it/s]\u001b[A\n",
            "validation sample batches: 100%|██████████| 9/9 [00:00<00:00, 23.27it/s]\n",
            "epochs:  66%|██████▌   | 66/100 [04:56<02:36,  4.60s/it]"
          ]
        },
        {
          "output_type": "stream",
          "name": "stdout",
          "text": [
            "Epoch train loss 1.1151812970638275\n",
            "Epoch val_loss 0.5982593297958374\n"
          ]
        },
        {
          "output_type": "stream",
          "name": "stderr",
          "text": [
            "\n",
            "train sample batches:   0%|          | 0/20 [00:00<?, ?it/s]\u001b[A\n",
            "train sample batches:   5%|▌         | 1/20 [00:00<00:04,  4.71it/s]\u001b[A\n",
            "train sample batches:  10%|█         | 2/20 [00:00<00:03,  4.81it/s]\u001b[A\n",
            "train sample batches:  15%|█▌        | 3/20 [00:00<00:03,  4.76it/s]\u001b[A\n",
            "train sample batches:  20%|██        | 4/20 [00:00<00:03,  4.92it/s]\u001b[A\n",
            "train sample batches:  25%|██▌       | 5/20 [00:01<00:03,  4.91it/s]\u001b[A\n",
            "train sample batches:  30%|███       | 6/20 [00:01<00:02,  4.87it/s]\u001b[A\n",
            "train sample batches:  35%|███▌      | 7/20 [00:01<00:02,  4.73it/s]\u001b[A\n",
            "train sample batches:  40%|████      | 8/20 [00:01<00:02,  4.78it/s]\u001b[A\n",
            "train sample batches:  45%|████▌     | 9/20 [00:01<00:02,  4.82it/s]\u001b[A\n",
            "train sample batches:  50%|█████     | 10/20 [00:02<00:02,  4.85it/s]\u001b[A\n",
            "train sample batches:  55%|█████▌    | 11/20 [00:02<00:01,  4.89it/s]\u001b[A\n",
            "train sample batches:  60%|██████    | 12/20 [00:02<00:01,  4.85it/s]\u001b[A\n",
            "train sample batches:  65%|██████▌   | 13/20 [00:02<00:01,  4.93it/s]\u001b[A\n",
            "train sample batches:  70%|███████   | 14/20 [00:02<00:01,  4.99it/s]\u001b[A\n",
            "train sample batches:  75%|███████▌  | 15/20 [00:03<00:01,  4.94it/s]\u001b[A\n",
            "train sample batches:  80%|████████  | 16/20 [00:03<00:00,  4.93it/s]\u001b[A\n",
            "train sample batches:  85%|████████▌ | 17/20 [00:03<00:00,  4.78it/s]\u001b[A\n",
            "train sample batches:  90%|█████████ | 18/20 [00:03<00:00,  4.87it/s]\u001b[A\n",
            "train sample batches:  95%|█████████▌| 19/20 [00:03<00:00,  4.89it/s]\u001b[A\n",
            "train sample batches: 100%|██████████| 20/20 [00:04<00:00,  4.87it/s]\n",
            "\n",
            "validation sample batches:   0%|          | 0/9 [00:00<?, ?it/s]\u001b[A\n",
            "validation sample batches:  22%|██▏       | 2/9 [00:00<00:00, 17.12it/s]\u001b[A\n",
            "validation sample batches:  44%|████▍     | 4/9 [00:00<00:00, 18.51it/s]\u001b[A"
          ]
        },
        {
          "output_type": "stream",
          "name": "stdout",
          "text": [
            "Epoch 00595: reducing learning rate of group 0 to 6.2672e-05.\n"
          ]
        },
        {
          "output_type": "stream",
          "name": "stderr",
          "text": [
            "\n",
            "validation sample batches:  67%|██████▋   | 6/9 [00:00<00:00, 18.25it/s]\u001b[A\n",
            "validation sample batches: 100%|██████████| 9/9 [00:00<00:00, 19.77it/s]\n",
            "epochs:  67%|██████▋   | 67/100 [05:00<02:31,  4.60s/it]"
          ]
        },
        {
          "output_type": "stream",
          "name": "stdout",
          "text": [
            "Epoch train loss 1.128294402360916\n",
            "Epoch val_loss 1.512330412864685\n"
          ]
        },
        {
          "output_type": "stream",
          "name": "stderr",
          "text": [
            "\n",
            "train sample batches:   0%|          | 0/20 [00:00<?, ?it/s]\u001b[A\n",
            "train sample batches:   5%|▌         | 1/20 [00:00<00:04,  4.66it/s]\u001b[A\n",
            "train sample batches:  10%|█         | 2/20 [00:00<00:03,  4.67it/s]\u001b[A\n",
            "train sample batches:  15%|█▌        | 3/20 [00:00<00:03,  4.70it/s]\u001b[A\n",
            "train sample batches:  20%|██        | 4/20 [00:00<00:03,  4.70it/s]\u001b[A\n",
            "train sample batches:  25%|██▌       | 5/20 [00:01<00:03,  4.81it/s]\u001b[A\n",
            "train sample batches:  30%|███       | 6/20 [00:01<00:02,  4.84it/s]\u001b[A\n",
            "train sample batches:  35%|███▌      | 7/20 [00:01<00:02,  4.82it/s]\u001b[A\n",
            "train sample batches:  40%|████      | 8/20 [00:01<00:02,  4.85it/s]\u001b[A\n",
            "train sample batches:  45%|████▌     | 9/20 [00:01<00:02,  4.87it/s]\u001b[A\n",
            "train sample batches:  50%|█████     | 10/20 [00:02<00:02,  4.89it/s]\u001b[A\n",
            "train sample batches:  55%|█████▌    | 11/20 [00:02<00:01,  4.91it/s]\u001b[A\n",
            "train sample batches:  60%|██████    | 12/20 [00:02<00:01,  4.96it/s]\u001b[A\n",
            "train sample batches:  65%|██████▌   | 13/20 [00:02<00:01,  4.97it/s]\u001b[A\n",
            "train sample batches:  70%|███████   | 14/20 [00:02<00:01,  4.90it/s]\u001b[A\n",
            "train sample batches:  75%|███████▌  | 15/20 [00:03<00:01,  4.89it/s]\u001b[A\n",
            "train sample batches:  80%|████████  | 16/20 [00:03<00:00,  4.90it/s]\u001b[A\n",
            "train sample batches:  85%|████████▌ | 17/20 [00:03<00:00,  4.98it/s]\u001b[A\n",
            "train sample batches:  90%|█████████ | 18/20 [00:03<00:00,  4.97it/s]\u001b[A\n",
            "train sample batches:  95%|█████████▌| 19/20 [00:03<00:00,  4.84it/s]\u001b[A\n",
            "train sample batches: 100%|██████████| 20/20 [00:04<00:00,  4.87it/s]\n",
            "\n",
            "validation sample batches:   0%|          | 0/9 [00:00<?, ?it/s]\u001b[A\n",
            "validation sample batches:  22%|██▏       | 2/9 [00:00<00:00, 17.89it/s]\u001b[A\n",
            "validation sample batches:  44%|████▍     | 4/9 [00:00<00:00, 18.48it/s]\u001b[A\n",
            "validation sample batches:  78%|███████▊  | 7/9 [00:00<00:00, 20.77it/s]\u001b[A"
          ]
        },
        {
          "output_type": "stream",
          "name": "stdout",
          "text": [
            "Epoch 00606: reducing learning rate of group 0 to 5.9539e-05.\n"
          ]
        },
        {
          "output_type": "stream",
          "name": "stderr",
          "text": [
            "validation sample batches: 100%|██████████| 9/9 [00:00<00:00, 20.19it/s]\n",
            "epochs:  68%|██████▊   | 68/100 [05:05<02:27,  4.60s/it]"
          ]
        },
        {
          "output_type": "stream",
          "name": "stdout",
          "text": [
            "Epoch train loss 1.1387875467538833\n",
            "Epoch val_loss 0.7414763569831848\n"
          ]
        },
        {
          "output_type": "stream",
          "name": "stderr",
          "text": [
            "\n",
            "train sample batches:   0%|          | 0/20 [00:00<?, ?it/s]\u001b[A\n",
            "train sample batches:   5%|▌         | 1/20 [00:00<00:03,  4.83it/s]\u001b[A\n",
            "train sample batches:  10%|█         | 2/20 [00:00<00:03,  4.90it/s]\u001b[A\n",
            "train sample batches:  15%|█▌        | 3/20 [00:00<00:03,  4.96it/s]\u001b[A\n",
            "train sample batches:  20%|██        | 4/20 [00:00<00:03,  5.07it/s]\u001b[A\n",
            "train sample batches:  25%|██▌       | 5/20 [00:00<00:02,  5.05it/s]\u001b[A\n",
            "train sample batches:  30%|███       | 6/20 [00:01<00:02,  4.93it/s]\u001b[A\n",
            "train sample batches:  35%|███▌      | 7/20 [00:01<00:02,  4.90it/s]\u001b[A\n",
            "train sample batches:  40%|████      | 8/20 [00:01<00:02,  4.91it/s]\u001b[A\n",
            "train sample batches:  45%|████▌     | 9/20 [00:01<00:02,  4.92it/s]\u001b[A\n",
            "train sample batches:  50%|█████     | 10/20 [00:02<00:02,  4.96it/s]\u001b[A\n",
            "train sample batches:  55%|█████▌    | 11/20 [00:02<00:01,  4.90it/s]\u001b[A\n",
            "train sample batches:  60%|██████    | 12/20 [00:02<00:01,  4.84it/s]\u001b[A\n",
            "train sample batches:  65%|██████▌   | 13/20 [00:02<00:01,  4.90it/s]\u001b[A\n",
            "train sample batches:  70%|███████   | 14/20 [00:02<00:01,  4.96it/s]\u001b[A\n",
            "train sample batches:  75%|███████▌  | 15/20 [00:03<00:01,  5.00it/s]\u001b[A\n",
            "train sample batches:  80%|████████  | 16/20 [00:03<00:00,  5.06it/s]\u001b[A\n",
            "train sample batches:  85%|████████▌ | 17/20 [00:03<00:00,  5.01it/s]\u001b[A\n",
            "train sample batches:  90%|█████████ | 18/20 [00:03<00:00,  4.98it/s]\u001b[A\n",
            "train sample batches:  95%|█████████▌| 19/20 [00:03<00:00,  4.93it/s]\u001b[A\n",
            "train sample batches: 100%|██████████| 20/20 [00:04<00:00,  4.96it/s]\n",
            "\n",
            "validation sample batches:   0%|          | 0/9 [00:00<?, ?it/s]\u001b[A\n",
            "validation sample batches:  22%|██▏       | 2/9 [00:00<00:00, 17.43it/s]\u001b[A\n",
            "validation sample batches:  56%|█████▌    | 5/9 [00:00<00:00, 20.26it/s]\u001b[A\n",
            "validation sample batches: 100%|██████████| 9/9 [00:00<00:00, 20.23it/s]"
          ]
        },
        {
          "output_type": "stream",
          "name": "stdout",
          "text": [
            "Epoch 00617: reducing learning rate of group 0 to 5.6562e-05.\n",
            "Epoch train loss 1.1240162193775176\n",
            "Epoch val_loss 0.8021420240402222\n"
          ]
        },
        {
          "output_type": "stream",
          "name": "stderr",
          "text": [
            "\n",
            "epochs:  69%|██████▉   | 69/100 [05:09<02:21,  4.58s/it]\n",
            "train sample batches:   0%|          | 0/20 [00:00<?, ?it/s]\u001b[A\n",
            "train sample batches:   5%|▌         | 1/20 [00:00<00:04,  4.71it/s]\u001b[A\n",
            "train sample batches:  10%|█         | 2/20 [00:00<00:03,  4.80it/s]\u001b[A\n",
            "train sample batches:  15%|█▌        | 3/20 [00:00<00:03,  4.95it/s]\u001b[A\n",
            "train sample batches:  20%|██        | 4/20 [00:00<00:03,  4.81it/s]\u001b[A\n",
            "train sample batches:  25%|██▌       | 5/20 [00:01<00:03,  4.81it/s]\u001b[A\n",
            "train sample batches:  30%|███       | 6/20 [00:01<00:02,  4.83it/s]\u001b[A\n",
            "train sample batches:  35%|███▌      | 7/20 [00:01<00:02,  4.87it/s]\u001b[A\n",
            "train sample batches:  40%|████      | 8/20 [00:01<00:02,  4.86it/s]\u001b[A\n",
            "train sample batches:  45%|████▌     | 9/20 [00:01<00:02,  4.86it/s]\u001b[A\n",
            "train sample batches:  50%|█████     | 10/20 [00:02<00:02,  4.90it/s]\u001b[A\n",
            "train sample batches:  55%|█████▌    | 11/20 [00:02<00:01,  5.02it/s]\u001b[A\n",
            "train sample batches:  60%|██████    | 12/20 [00:02<00:01,  5.01it/s]\u001b[A\n",
            "train sample batches:  65%|██████▌   | 13/20 [00:02<00:01,  4.97it/s]\u001b[A\n",
            "train sample batches:  70%|███████   | 14/20 [00:02<00:01,  4.96it/s]\u001b[A\n",
            "train sample batches:  75%|███████▌  | 15/20 [00:03<00:00,  5.02it/s]\u001b[A\n",
            "train sample batches:  80%|████████  | 16/20 [00:03<00:00,  4.94it/s]\u001b[A\n",
            "train sample batches:  85%|████████▌ | 17/20 [00:03<00:00,  4.97it/s]\u001b[A\n",
            "train sample batches:  90%|█████████ | 18/20 [00:03<00:00,  5.03it/s]\u001b[A\n",
            "train sample batches:  95%|█████████▌| 19/20 [00:03<00:00,  5.02it/s]\u001b[A\n",
            "train sample batches: 100%|██████████| 20/20 [00:04<00:00,  4.94it/s]\n",
            "\n",
            "validation sample batches:   0%|          | 0/9 [00:00<?, ?it/s]\u001b[A\n",
            "validation sample batches:  33%|███▎      | 3/9 [00:00<00:00, 21.72it/s]\u001b[A\n",
            "validation sample batches:  67%|██████▋   | 6/9 [00:00<00:00, 22.93it/s]\u001b[A\n",
            "validation sample batches: 100%|██████████| 9/9 [00:00<00:00, 23.10it/s]\n",
            "epochs:  70%|███████   | 70/100 [05:14<02:16,  4.55s/it]"
          ]
        },
        {
          "output_type": "stream",
          "name": "stdout",
          "text": [
            "Epoch 00628: reducing learning rate of group 0 to 5.3734e-05.\n",
            "Epoch train loss 1.1092333614826202\n",
            "Epoch val_loss 0.6968730092048645\n"
          ]
        },
        {
          "output_type": "stream",
          "name": "stderr",
          "text": [
            "\n",
            "train sample batches:   0%|          | 0/20 [00:00<?, ?it/s]\u001b[A\n",
            "train sample batches:   5%|▌         | 1/20 [00:00<00:03,  5.02it/s]\u001b[A\n",
            "train sample batches:  10%|█         | 2/20 [00:00<00:03,  5.03it/s]\u001b[A\n",
            "train sample batches:  15%|█▌        | 3/20 [00:00<00:03,  5.02it/s]\u001b[A\n",
            "train sample batches:  20%|██        | 4/20 [00:00<00:03,  4.97it/s]\u001b[A\n",
            "train sample batches:  25%|██▌       | 5/20 [00:01<00:03,  4.98it/s]\u001b[A\n",
            "train sample batches:  30%|███       | 6/20 [00:01<00:02,  4.96it/s]\u001b[A\n",
            "train sample batches:  35%|███▌      | 7/20 [00:01<00:02,  4.88it/s]\u001b[A\n",
            "train sample batches:  40%|████      | 8/20 [00:01<00:02,  4.94it/s]\u001b[A\n",
            "train sample batches:  45%|████▌     | 9/20 [00:01<00:02,  4.97it/s]\u001b[A\n",
            "train sample batches:  50%|█████     | 10/20 [00:02<00:01,  5.03it/s]\u001b[A\n",
            "train sample batches:  55%|█████▌    | 11/20 [00:02<00:01,  5.04it/s]\u001b[A\n",
            "train sample batches:  60%|██████    | 12/20 [00:02<00:01,  5.02it/s]\u001b[A\n",
            "train sample batches:  65%|██████▌   | 13/20 [00:02<00:01,  4.91it/s]\u001b[A\n",
            "train sample batches:  70%|███████   | 14/20 [00:02<00:01,  4.93it/s]\u001b[A\n",
            "train sample batches:  75%|███████▌  | 15/20 [00:03<00:01,  4.94it/s]\u001b[A\n",
            "train sample batches:  80%|████████  | 16/20 [00:03<00:00,  4.90it/s]\u001b[A\n",
            "train sample batches:  85%|████████▌ | 17/20 [00:03<00:00,  4.88it/s]\u001b[A\n",
            "train sample batches:  90%|█████████ | 18/20 [00:03<00:00,  4.88it/s]\u001b[A\n",
            "train sample batches:  95%|█████████▌| 19/20 [00:03<00:00,  4.94it/s]\u001b[A\n",
            "train sample batches: 100%|██████████| 20/20 [00:04<00:00,  4.95it/s]\n",
            "\n",
            "validation sample batches:   0%|          | 0/9 [00:00<?, ?it/s]\u001b[A\n",
            "validation sample batches:  33%|███▎      | 3/9 [00:00<00:00, 22.03it/s]\u001b[A\n",
            "validation sample batches:  67%|██████▋   | 6/9 [00:00<00:00, 21.46it/s]\u001b[A\n",
            "validation sample batches: 100%|██████████| 9/9 [00:00<00:00, 22.15it/s]\n",
            "epochs:  71%|███████   | 71/100 [05:18<02:11,  4.54s/it]"
          ]
        },
        {
          "output_type": "stream",
          "name": "stdout",
          "text": [
            "Epoch 00639: reducing learning rate of group 0 to 5.1047e-05.\n",
            "Epoch train loss 1.0741832628846169\n",
            "Epoch val_loss 1.1425929069519043\n"
          ]
        },
        {
          "output_type": "stream",
          "name": "stderr",
          "text": [
            "\n",
            "train sample batches:   0%|          | 0/20 [00:00<?, ?it/s]\u001b[A\n",
            "train sample batches:   5%|▌         | 1/20 [00:00<00:03,  4.81it/s]\u001b[A\n",
            "train sample batches:  10%|█         | 2/20 [00:00<00:03,  4.86it/s]\u001b[A\n",
            "train sample batches:  15%|█▌        | 3/20 [00:00<00:03,  5.05it/s]\u001b[A\n",
            "train sample batches:  20%|██        | 4/20 [00:00<00:03,  5.07it/s]\u001b[A\n",
            "train sample batches:  25%|██▌       | 5/20 [00:00<00:02,  5.05it/s]\u001b[A\n",
            "train sample batches:  30%|███       | 6/20 [00:01<00:02,  5.13it/s]\u001b[A\n",
            "train sample batches:  35%|███▌      | 7/20 [00:01<00:02,  5.11it/s]\u001b[A\n",
            "train sample batches:  40%|████      | 8/20 [00:01<00:02,  5.10it/s]\u001b[A\n",
            "train sample batches:  45%|████▌     | 9/20 [00:01<00:02,  5.05it/s]\u001b[A\n",
            "train sample batches:  50%|█████     | 10/20 [00:01<00:01,  5.10it/s]\u001b[A\n",
            "train sample batches:  55%|█████▌    | 11/20 [00:02<00:01,  4.96it/s]\u001b[A\n",
            "train sample batches:  60%|██████    | 12/20 [00:02<00:01,  5.00it/s]\u001b[A\n",
            "train sample batches:  65%|██████▌   | 13/20 [00:02<00:01,  5.01it/s]\u001b[A\n",
            "train sample batches:  70%|███████   | 14/20 [00:02<00:01,  5.01it/s]\u001b[A\n",
            "train sample batches:  75%|███████▌  | 15/20 [00:02<00:00,  5.05it/s]\u001b[A\n",
            "train sample batches:  80%|████████  | 16/20 [00:03<00:00,  4.94it/s]\u001b[A\n",
            "train sample batches:  85%|████████▌ | 17/20 [00:03<00:00,  4.95it/s]\u001b[A\n",
            "train sample batches:  90%|█████████ | 18/20 [00:03<00:00,  4.98it/s]\u001b[A\n",
            "train sample batches:  95%|█████████▌| 19/20 [00:03<00:00,  4.99it/s]\u001b[A\n",
            "train sample batches: 100%|██████████| 20/20 [00:03<00:00,  5.03it/s]\n",
            "\n",
            "validation sample batches:   0%|          | 0/9 [00:00<?, ?it/s]\u001b[A\n",
            "validation sample batches:  22%|██▏       | 2/9 [00:00<00:00, 18.54it/s]\u001b[A\n",
            "validation sample batches:  44%|████▍     | 4/9 [00:00<00:00, 18.64it/s]\u001b[A\n",
            "validation sample batches: 100%|██████████| 9/9 [00:00<00:00, 20.79it/s]\n",
            "epochs:  72%|███████▏  | 72/100 [05:23<02:06,  4.51s/it]"
          ]
        },
        {
          "output_type": "stream",
          "name": "stdout",
          "text": [
            "Epoch train loss 1.1024822294712067\n",
            "Epoch val_loss 1.2888529300689697\n"
          ]
        },
        {
          "output_type": "stream",
          "name": "stderr",
          "text": [
            "\n",
            "train sample batches:   0%|          | 0/20 [00:00<?, ?it/s]\u001b[A\n",
            "train sample batches:   5%|▌         | 1/20 [00:00<00:03,  5.07it/s]\u001b[A\n",
            "train sample batches:  10%|█         | 2/20 [00:00<00:03,  4.94it/s]\u001b[A\n",
            "train sample batches:  15%|█▌        | 3/20 [00:00<00:03,  5.02it/s]\u001b[A\n",
            "train sample batches:  20%|██        | 4/20 [00:00<00:03,  5.06it/s]\u001b[A\n",
            "train sample batches:  25%|██▌       | 5/20 [00:00<00:02,  5.07it/s]\u001b[A\n",
            "train sample batches:  30%|███       | 6/20 [00:01<00:02,  5.07it/s]\u001b[A\n",
            "train sample batches:  35%|███▌      | 7/20 [00:01<00:02,  5.02it/s]\u001b[A\n",
            "train sample batches:  40%|████      | 8/20 [00:01<00:02,  5.03it/s]\u001b[A\n",
            "train sample batches:  45%|████▌     | 9/20 [00:01<00:02,  4.97it/s]\u001b[A\n",
            "train sample batches:  50%|█████     | 10/20 [00:01<00:01,  5.01it/s]\u001b[A\n",
            "train sample batches:  55%|█████▌    | 11/20 [00:02<00:01,  4.93it/s]\u001b[A\n",
            "train sample batches:  60%|██████    | 12/20 [00:02<00:01,  4.98it/s]\u001b[A\n",
            "train sample batches:  65%|██████▌   | 13/20 [00:02<00:01,  4.99it/s]\u001b[A\n",
            "train sample batches:  70%|███████   | 14/20 [00:02<00:01,  5.04it/s]\u001b[A\n",
            "train sample batches:  75%|███████▌  | 15/20 [00:03<00:01,  4.97it/s]\u001b[A\n",
            "train sample batches:  80%|████████  | 16/20 [00:03<00:00,  4.97it/s]\u001b[A\n",
            "train sample batches:  85%|████████▌ | 17/20 [00:03<00:00,  4.97it/s]\u001b[A\n",
            "train sample batches:  90%|█████████ | 18/20 [00:03<00:00,  4.98it/s]\u001b[A\n",
            "train sample batches:  95%|█████████▌| 19/20 [00:03<00:00,  5.04it/s]\u001b[A\n",
            "train sample batches: 100%|██████████| 20/20 [00:04<00:00,  4.98it/s]\n",
            "\n",
            "validation sample batches:   0%|          | 0/9 [00:00<?, ?it/s]\u001b[A\n",
            "validation sample batches:  22%|██▏       | 2/9 [00:00<00:00, 19.65it/s]\u001b[A\n",
            "validation sample batches:  44%|████▍     | 4/9 [00:00<00:00, 19.00it/s]\u001b[A"
          ]
        },
        {
          "output_type": "stream",
          "name": "stdout",
          "text": [
            "Epoch 00650: reducing learning rate of group 0 to 4.8495e-05.\n"
          ]
        },
        {
          "output_type": "stream",
          "name": "stderr",
          "text": [
            "\n",
            "validation sample batches:  67%|██████▋   | 6/9 [00:00<00:00, 18.83it/s]\u001b[A\n",
            "validation sample batches: 100%|██████████| 9/9 [00:00<00:00, 19.32it/s]\n",
            "epochs:  73%|███████▎  | 73/100 [05:27<02:02,  4.52s/it]"
          ]
        },
        {
          "output_type": "stream",
          "name": "stdout",
          "text": [
            "Epoch train loss 1.1161958202719688\n",
            "Epoch val_loss 1.6378448009490967\n"
          ]
        },
        {
          "output_type": "stream",
          "name": "stderr",
          "text": [
            "\n",
            "train sample batches:   0%|          | 0/20 [00:00<?, ?it/s]\u001b[A\n",
            "train sample batches:   5%|▌         | 1/20 [00:00<00:03,  5.19it/s]\u001b[A\n",
            "train sample batches:  10%|█         | 2/20 [00:00<00:03,  4.97it/s]\u001b[A\n",
            "train sample batches:  15%|█▌        | 3/20 [00:00<00:03,  4.99it/s]\u001b[A\n",
            "train sample batches:  20%|██        | 4/20 [00:00<00:03,  5.05it/s]\u001b[A\n",
            "train sample batches:  25%|██▌       | 5/20 [00:00<00:02,  5.08it/s]\u001b[A\n",
            "train sample batches:  30%|███       | 6/20 [00:01<00:02,  5.08it/s]\u001b[A\n",
            "train sample batches:  35%|███▌      | 7/20 [00:01<00:02,  4.95it/s]\u001b[A\n",
            "train sample batches:  40%|████      | 8/20 [00:01<00:02,  4.95it/s]\u001b[A\n",
            "train sample batches:  45%|████▌     | 9/20 [00:01<00:02,  4.99it/s]\u001b[A\n",
            "train sample batches:  50%|█████     | 10/20 [00:01<00:01,  5.04it/s]\u001b[A\n",
            "train sample batches:  55%|█████▌    | 11/20 [00:02<00:01,  5.06it/s]\u001b[A\n",
            "train sample batches:  60%|██████    | 12/20 [00:02<00:01,  5.09it/s]\u001b[A\n",
            "train sample batches:  65%|██████▌   | 13/20 [00:02<00:01,  5.10it/s]\u001b[A\n",
            "train sample batches:  70%|███████   | 14/20 [00:02<00:01,  5.16it/s]\u001b[A\n",
            "train sample batches:  75%|███████▌  | 15/20 [00:02<00:00,  5.11it/s]\u001b[A\n",
            "train sample batches:  80%|████████  | 16/20 [00:03<00:00,  5.11it/s]\u001b[A\n",
            "train sample batches:  85%|████████▌ | 17/20 [00:03<00:00,  5.06it/s]\u001b[A\n",
            "train sample batches:  90%|█████████ | 18/20 [00:03<00:00,  4.85it/s]\u001b[A\n",
            "train sample batches:  95%|█████████▌| 19/20 [00:03<00:00,  4.87it/s]\u001b[A\n",
            "train sample batches: 100%|██████████| 20/20 [00:03<00:00,  5.02it/s]\n",
            "\n",
            "validation sample batches:   0%|          | 0/9 [00:00<?, ?it/s]\u001b[A\n",
            "validation sample batches:  22%|██▏       | 2/9 [00:00<00:00, 19.02it/s]\u001b[A\n",
            "validation sample batches:  56%|█████▌    | 5/9 [00:00<00:00, 22.75it/s]\u001b[A\n",
            "validation sample batches:  89%|████████▉ | 8/9 [00:00<00:00, 22.51it/s]\u001b[A"
          ]
        },
        {
          "output_type": "stream",
          "name": "stdout",
          "text": [
            "Epoch 00661: reducing learning rate of group 0 to 4.6070e-05.\n"
          ]
        },
        {
          "output_type": "stream",
          "name": "stderr",
          "text": [
            "validation sample batches: 100%|██████████| 9/9 [00:00<00:00, 21.95it/s]\n",
            "epochs:  74%|███████▍  | 74/100 [05:32<01:56,  4.50s/it]"
          ]
        },
        {
          "output_type": "stream",
          "name": "stdout",
          "text": [
            "Epoch train loss 1.0795494690537453\n",
            "Epoch val_loss 0.8946103453636169\n"
          ]
        },
        {
          "output_type": "stream",
          "name": "stderr",
          "text": [
            "\n",
            "train sample batches:   0%|          | 0/20 [00:00<?, ?it/s]\u001b[A\n",
            "train sample batches:   5%|▌         | 1/20 [00:00<00:03,  4.85it/s]\u001b[A\n",
            "train sample batches:  10%|█         | 2/20 [00:00<00:03,  5.02it/s]\u001b[A\n",
            "train sample batches:  15%|█▌        | 3/20 [00:00<00:03,  5.03it/s]\u001b[A\n",
            "train sample batches:  20%|██        | 4/20 [00:00<00:03,  5.09it/s]\u001b[A\n",
            "train sample batches:  25%|██▌       | 5/20 [00:00<00:02,  5.05it/s]\u001b[A\n",
            "train sample batches:  30%|███       | 6/20 [00:01<00:02,  4.89it/s]\u001b[A\n",
            "train sample batches:  35%|███▌      | 7/20 [00:01<00:02,  4.87it/s]\u001b[A\n",
            "train sample batches:  40%|████      | 8/20 [00:01<00:02,  4.91it/s]\u001b[A\n",
            "train sample batches:  45%|████▌     | 9/20 [00:01<00:02,  4.93it/s]\u001b[A\n",
            "train sample batches:  50%|█████     | 10/20 [00:02<00:02,  4.89it/s]\u001b[A\n",
            "train sample batches:  55%|█████▌    | 11/20 [00:02<00:01,  4.82it/s]\u001b[A\n",
            "train sample batches:  60%|██████    | 12/20 [00:02<00:01,  4.90it/s]\u001b[A\n",
            "train sample batches:  65%|██████▌   | 13/20 [00:02<00:01,  4.96it/s]\u001b[A\n",
            "train sample batches:  70%|███████   | 14/20 [00:02<00:01,  4.95it/s]\u001b[A\n",
            "train sample batches:  75%|███████▌  | 15/20 [00:03<00:01,  4.87it/s]\u001b[A\n",
            "train sample batches:  80%|████████  | 16/20 [00:03<00:00,  4.79it/s]\u001b[A\n",
            "train sample batches:  85%|████████▌ | 17/20 [00:03<00:00,  4.79it/s]\u001b[A\n",
            "train sample batches:  90%|█████████ | 18/20 [00:03<00:00,  4.88it/s]\u001b[A\n",
            "train sample batches:  95%|█████████▌| 19/20 [00:03<00:00,  4.88it/s]\u001b[A\n",
            "train sample batches: 100%|██████████| 20/20 [00:04<00:00,  4.91it/s]\n",
            "\n",
            "validation sample batches:   0%|          | 0/9 [00:00<?, ?it/s]\u001b[A\n",
            "validation sample batches:  33%|███▎      | 3/9 [00:00<00:00, 23.29it/s]\u001b[A\n",
            "validation sample batches:  67%|██████▋   | 6/9 [00:00<00:00, 22.29it/s]\u001b[A\n",
            "validation sample batches: 100%|██████████| 9/9 [00:00<00:00, 22.26it/s]\n",
            "epochs:  75%|███████▌  | 75/100 [05:36<01:52,  4.51s/it]"
          ]
        },
        {
          "output_type": "stream",
          "name": "stdout",
          "text": [
            "Epoch 00672: reducing learning rate of group 0 to 4.3766e-05.\n",
            "Epoch train loss 1.0921007469296455\n",
            "Epoch val_loss 1.0655336380004883\n"
          ]
        },
        {
          "output_type": "stream",
          "name": "stderr",
          "text": [
            "\n",
            "train sample batches:   0%|          | 0/20 [00:00<?, ?it/s]\u001b[A\n",
            "train sample batches:   5%|▌         | 1/20 [00:00<00:03,  5.46it/s]\u001b[A\n",
            "train sample batches:  10%|█         | 2/20 [00:00<00:03,  5.07it/s]\u001b[A\n",
            "train sample batches:  15%|█▌        | 3/20 [00:00<00:03,  4.93it/s]\u001b[A\n",
            "train sample batches:  20%|██        | 4/20 [00:00<00:03,  4.67it/s]\u001b[A\n",
            "train sample batches:  25%|██▌       | 5/20 [00:01<00:03,  4.79it/s]\u001b[A\n",
            "train sample batches:  30%|███       | 6/20 [00:01<00:02,  4.76it/s]\u001b[A\n",
            "train sample batches:  35%|███▌      | 7/20 [00:01<00:02,  4.83it/s]\u001b[A\n",
            "train sample batches:  40%|████      | 8/20 [00:01<00:02,  4.96it/s]\u001b[A\n",
            "train sample batches:  45%|████▌     | 9/20 [00:01<00:02,  4.83it/s]\u001b[A\n",
            "train sample batches:  50%|█████     | 10/20 [00:02<00:02,  4.92it/s]\u001b[A\n",
            "train sample batches:  55%|█████▌    | 11/20 [00:02<00:01,  4.91it/s]\u001b[A\n",
            "train sample batches:  60%|██████    | 12/20 [00:02<00:01,  4.93it/s]\u001b[A\n",
            "train sample batches:  65%|██████▌   | 13/20 [00:02<00:01,  4.96it/s]\u001b[A\n",
            "train sample batches:  70%|███████   | 14/20 [00:02<00:01,  4.93it/s]\u001b[A\n",
            "train sample batches:  75%|███████▌  | 15/20 [00:03<00:01,  4.99it/s]\u001b[A\n",
            "train sample batches:  80%|████████  | 16/20 [00:03<00:00,  4.97it/s]\u001b[A\n",
            "train sample batches:  85%|████████▌ | 17/20 [00:03<00:00,  5.02it/s]\u001b[A\n",
            "train sample batches:  90%|█████████ | 18/20 [00:03<00:00,  5.04it/s]\u001b[A\n",
            "train sample batches:  95%|█████████▌| 19/20 [00:03<00:00,  4.93it/s]\u001b[A\n",
            "train sample batches: 100%|██████████| 20/20 [00:04<00:00,  4.93it/s]\n",
            "\n",
            "validation sample batches:   0%|          | 0/9 [00:00<?, ?it/s]\u001b[A\n",
            "validation sample batches:  33%|███▎      | 3/9 [00:00<00:00, 21.99it/s]\u001b[A\n",
            "validation sample batches:  67%|██████▋   | 6/9 [00:00<00:00, 21.37it/s]\u001b[A\n",
            "validation sample batches: 100%|██████████| 9/9 [00:00<00:00, 21.47it/s]\n",
            "epochs:  76%|███████▌  | 76/100 [05:41<01:48,  4.52s/it]"
          ]
        },
        {
          "output_type": "stream",
          "name": "stdout",
          "text": [
            "Epoch 00683: reducing learning rate of group 0 to 4.1578e-05.\n",
            "Epoch train loss 1.036944104731083\n",
            "Epoch val_loss 1.266938328742981\n"
          ]
        },
        {
          "output_type": "stream",
          "name": "stderr",
          "text": [
            "\n",
            "train sample batches:   0%|          | 0/20 [00:00<?, ?it/s]\u001b[A\n",
            "train sample batches:   5%|▌         | 1/20 [00:00<00:04,  4.56it/s]\u001b[A\n",
            "train sample batches:  10%|█         | 2/20 [00:00<00:04,  4.40it/s]\u001b[A\n",
            "train sample batches:  15%|█▌        | 3/20 [00:00<00:03,  4.69it/s]\u001b[A\n",
            "train sample batches:  20%|██        | 4/20 [00:00<00:03,  4.80it/s]\u001b[A\n",
            "train sample batches:  25%|██▌       | 5/20 [00:01<00:03,  4.86it/s]\u001b[A\n",
            "train sample batches:  30%|███       | 6/20 [00:01<00:02,  4.89it/s]\u001b[A\n",
            "train sample batches:  35%|███▌      | 7/20 [00:01<00:02,  4.92it/s]\u001b[A\n",
            "train sample batches:  40%|████      | 8/20 [00:01<00:02,  4.96it/s]\u001b[A\n",
            "train sample batches:  45%|████▌     | 9/20 [00:01<00:02,  4.94it/s]\u001b[A\n",
            "train sample batches:  50%|█████     | 10/20 [00:02<00:02,  4.94it/s]\u001b[A\n",
            "train sample batches:  55%|█████▌    | 11/20 [00:02<00:01,  4.86it/s]\u001b[A\n",
            "train sample batches:  60%|██████    | 12/20 [00:02<00:01,  4.92it/s]\u001b[A\n",
            "train sample batches:  65%|██████▌   | 13/20 [00:02<00:01,  4.87it/s]\u001b[A\n",
            "train sample batches:  70%|███████   | 14/20 [00:02<00:01,  4.95it/s]\u001b[A\n",
            "train sample batches:  75%|███████▌  | 15/20 [00:03<00:01,  4.94it/s]\u001b[A\n",
            "train sample batches:  80%|████████  | 16/20 [00:03<00:00,  4.90it/s]\u001b[A\n",
            "train sample batches:  85%|████████▌ | 17/20 [00:03<00:00,  4.84it/s]\u001b[A\n",
            "train sample batches:  90%|█████████ | 18/20 [00:03<00:00,  4.88it/s]\u001b[A\n",
            "train sample batches:  95%|█████████▌| 19/20 [00:03<00:00,  4.94it/s]\u001b[A\n",
            "train sample batches: 100%|██████████| 20/20 [00:04<00:00,  4.89it/s]\n",
            "\n",
            "validation sample batches:   0%|          | 0/9 [00:00<?, ?it/s]\u001b[A\n",
            "validation sample batches:  33%|███▎      | 3/9 [00:00<00:00, 26.02it/s]\u001b[A\n",
            "validation sample batches:  67%|██████▋   | 6/9 [00:00<00:00, 23.12it/s]\u001b[A\n",
            "validation sample batches: 100%|██████████| 9/9 [00:00<00:00, 23.26it/s]\n",
            "epochs:  77%|███████▋  | 77/100 [05:45<01:44,  4.53s/it]"
          ]
        },
        {
          "output_type": "stream",
          "name": "stdout",
          "text": [
            "Epoch train loss 1.0623464077711104\n",
            "Epoch val_loss 0.44317784905433655\n"
          ]
        },
        {
          "output_type": "stream",
          "name": "stderr",
          "text": [
            "\n",
            "train sample batches:   0%|          | 0/20 [00:00<?, ?it/s]\u001b[A\n",
            "train sample batches:   5%|▌         | 1/20 [00:00<00:03,  4.90it/s]\u001b[A\n",
            "train sample batches:  10%|█         | 2/20 [00:00<00:03,  5.08it/s]\u001b[A\n",
            "train sample batches:  15%|█▌        | 3/20 [00:00<00:03,  5.08it/s]\u001b[A\n",
            "train sample batches:  20%|██        | 4/20 [00:00<00:03,  5.11it/s]\u001b[A\n",
            "train sample batches:  25%|██▌       | 5/20 [00:01<00:03,  4.96it/s]\u001b[A\n",
            "train sample batches:  30%|███       | 6/20 [00:01<00:02,  4.95it/s]\u001b[A\n",
            "train sample batches:  35%|███▌      | 7/20 [00:01<00:02,  4.97it/s]\u001b[A\n",
            "train sample batches:  40%|████      | 8/20 [00:01<00:02,  5.03it/s]\u001b[A\n",
            "train sample batches:  45%|████▌     | 9/20 [00:01<00:02,  5.02it/s]\u001b[A\n",
            "train sample batches:  50%|█████     | 10/20 [00:02<00:02,  4.90it/s]\u001b[A\n",
            "train sample batches:  55%|█████▌    | 11/20 [00:02<00:01,  4.91it/s]\u001b[A\n",
            "train sample batches:  60%|██████    | 12/20 [00:02<00:01,  4.98it/s]\u001b[A\n",
            "train sample batches:  65%|██████▌   | 13/20 [00:02<00:01,  4.97it/s]\u001b[A\n",
            "train sample batches:  70%|███████   | 14/20 [00:02<00:01,  4.99it/s]\u001b[A\n",
            "train sample batches:  75%|███████▌  | 15/20 [00:03<00:01,  4.92it/s]\u001b[A\n",
            "train sample batches:  80%|████████  | 16/20 [00:03<00:00,  4.97it/s]\u001b[A\n",
            "train sample batches:  85%|████████▌ | 17/20 [00:03<00:00,  5.00it/s]\u001b[A\n",
            "train sample batches:  90%|█████████ | 18/20 [00:03<00:00,  5.07it/s]\u001b[A\n",
            "train sample batches:  95%|█████████▌| 19/20 [00:03<00:00,  5.08it/s]\u001b[A\n",
            "train sample batches: 100%|██████████| 20/20 [00:04<00:00,  4.99it/s]\n",
            "\n",
            "validation sample batches:   0%|          | 0/9 [00:00<?, ?it/s]\u001b[A\n",
            "validation sample batches:  22%|██▏       | 2/9 [00:00<00:00, 19.37it/s]\u001b[A\n",
            "validation sample batches:  56%|█████▌    | 5/9 [00:00<00:00, 21.32it/s]\u001b[A"
          ]
        },
        {
          "output_type": "stream",
          "name": "stdout",
          "text": [
            "Epoch 00694: reducing learning rate of group 0 to 3.9499e-05.\n"
          ]
        },
        {
          "output_type": "stream",
          "name": "stderr",
          "text": [
            "\n",
            "validation sample batches: 100%|██████████| 9/9 [00:00<00:00, 21.40it/s]\n",
            "epochs:  78%|███████▊  | 78/100 [05:50<01:39,  4.51s/it]"
          ]
        },
        {
          "output_type": "stream",
          "name": "stdout",
          "text": [
            "Epoch train loss 1.0777450770139694\n",
            "Epoch val_loss 1.2478232383728027\n"
          ]
        },
        {
          "output_type": "stream",
          "name": "stderr",
          "text": [
            "\n",
            "train sample batches:   0%|          | 0/20 [00:00<?, ?it/s]\u001b[A\n",
            "train sample batches:   5%|▌         | 1/20 [00:00<00:03,  5.10it/s]\u001b[A\n",
            "train sample batches:  10%|█         | 2/20 [00:00<00:03,  4.97it/s]\u001b[A\n",
            "train sample batches:  15%|█▌        | 3/20 [00:00<00:03,  4.84it/s]\u001b[A\n",
            "train sample batches:  20%|██        | 4/20 [00:00<00:03,  4.95it/s]\u001b[A\n",
            "train sample batches:  25%|██▌       | 5/20 [00:01<00:03,  4.93it/s]\u001b[A\n",
            "train sample batches:  30%|███       | 6/20 [00:01<00:02,  4.92it/s]\u001b[A\n",
            "train sample batches:  35%|███▌      | 7/20 [00:01<00:02,  4.85it/s]\u001b[A\n",
            "train sample batches:  40%|████      | 8/20 [00:01<00:02,  4.77it/s]\u001b[A\n",
            "train sample batches:  45%|████▌     | 9/20 [00:01<00:02,  4.83it/s]\u001b[A\n",
            "train sample batches:  50%|█████     | 10/20 [00:02<00:02,  4.88it/s]\u001b[A\n",
            "train sample batches:  55%|█████▌    | 11/20 [00:02<00:01,  4.94it/s]\u001b[A\n",
            "train sample batches:  60%|██████    | 12/20 [00:02<00:01,  4.96it/s]\u001b[A\n",
            "train sample batches:  65%|██████▌   | 13/20 [00:02<00:01,  5.00it/s]\u001b[A\n",
            "train sample batches:  70%|███████   | 14/20 [00:02<00:01,  5.01it/s]\u001b[A\n",
            "train sample batches:  75%|███████▌  | 15/20 [00:03<00:01,  4.95it/s]\u001b[A\n",
            "train sample batches:  80%|████████  | 16/20 [00:03<00:00,  4.97it/s]\u001b[A\n",
            "train sample batches:  85%|████████▌ | 17/20 [00:03<00:00,  4.97it/s]\u001b[A\n",
            "train sample batches:  90%|█████████ | 18/20 [00:03<00:00,  4.95it/s]\u001b[A\n",
            "train sample batches:  95%|█████████▌| 19/20 [00:03<00:00,  5.01it/s]\u001b[A\n",
            "train sample batches: 100%|██████████| 20/20 [00:04<00:00,  4.95it/s]\n",
            "\n",
            "validation sample batches:   0%|          | 0/9 [00:00<?, ?it/s]\u001b[A\n",
            "validation sample batches:  33%|███▎      | 3/9 [00:00<00:00, 21.38it/s]\u001b[A\n",
            "validation sample batches:  67%|██████▋   | 6/9 [00:00<00:00, 21.35it/s]\u001b[A"
          ]
        },
        {
          "output_type": "stream",
          "name": "stdout",
          "text": [
            "Epoch 00705: reducing learning rate of group 0 to 3.7524e-05.\n"
          ]
        },
        {
          "output_type": "stream",
          "name": "stderr",
          "text": [
            "\n",
            "validation sample batches: 100%|██████████| 9/9 [00:00<00:00, 20.99it/s]\n",
            "epochs:  79%|███████▉  | 79/100 [05:54<01:34,  4.52s/it]"
          ]
        },
        {
          "output_type": "stream",
          "name": "stdout",
          "text": [
            "Epoch train loss 1.0419943943619727\n",
            "Epoch val_loss 0.7516381144523621\n"
          ]
        },
        {
          "output_type": "stream",
          "name": "stderr",
          "text": [
            "\n",
            "train sample batches:   0%|          | 0/20 [00:00<?, ?it/s]\u001b[A\n",
            "train sample batches:   5%|▌         | 1/20 [00:00<00:03,  4.84it/s]\u001b[A\n",
            "train sample batches:  10%|█         | 2/20 [00:00<00:03,  4.86it/s]\u001b[A\n",
            "train sample batches:  15%|█▌        | 3/20 [00:00<00:03,  4.87it/s]\u001b[A\n",
            "train sample batches:  20%|██        | 4/20 [00:00<00:03,  4.96it/s]\u001b[A\n",
            "train sample batches:  25%|██▌       | 5/20 [00:01<00:02,  5.01it/s]\u001b[A\n",
            "train sample batches:  30%|███       | 6/20 [00:01<00:02,  4.81it/s]\u001b[A\n",
            "train sample batches:  35%|███▌      | 7/20 [00:01<00:02,  4.83it/s]\u001b[A\n",
            "train sample batches:  40%|████      | 8/20 [00:01<00:02,  4.83it/s]\u001b[A\n",
            "train sample batches:  45%|████▌     | 9/20 [00:01<00:02,  4.86it/s]\u001b[A\n",
            "train sample batches:  50%|█████     | 10/20 [00:02<00:02,  4.82it/s]\u001b[A\n",
            "train sample batches:  55%|█████▌    | 11/20 [00:02<00:01,  4.81it/s]\u001b[A\n",
            "train sample batches:  60%|██████    | 12/20 [00:02<00:01,  4.82it/s]\u001b[A\n",
            "train sample batches:  65%|██████▌   | 13/20 [00:02<00:01,  4.85it/s]\u001b[A\n",
            "train sample batches:  70%|███████   | 14/20 [00:02<00:01,  4.86it/s]\u001b[A\n",
            "train sample batches:  75%|███████▌  | 15/20 [00:03<00:01,  4.92it/s]\u001b[A\n",
            "train sample batches:  80%|████████  | 16/20 [00:03<00:00,  4.88it/s]\u001b[A\n",
            "train sample batches:  85%|████████▌ | 17/20 [00:03<00:00,  4.95it/s]\u001b[A\n",
            "train sample batches:  90%|█████████ | 18/20 [00:03<00:00,  4.96it/s]\u001b[A\n",
            "train sample batches:  95%|█████████▌| 19/20 [00:03<00:00,  4.95it/s]\u001b[A\n",
            "train sample batches: 100%|██████████| 20/20 [00:04<00:00,  4.90it/s]\n",
            "\n",
            "validation sample batches:   0%|          | 0/9 [00:00<?, ?it/s]\u001b[A\n",
            "validation sample batches:  22%|██▏       | 2/9 [00:00<00:00, 18.10it/s]\u001b[A\n",
            "validation sample batches:  56%|█████▌    | 5/9 [00:00<00:00, 21.11it/s]\u001b[A\n",
            "validation sample batches: 100%|██████████| 9/9 [00:00<00:00, 21.11it/s]"
          ]
        },
        {
          "output_type": "stream",
          "name": "stdout",
          "text": [
            "Epoch 00716: reducing learning rate of group 0 to 3.5648e-05.\n",
            "Epoch train loss 1.0276890218257904\n",
            "Epoch val_loss 0.7295300960540771\n"
          ]
        },
        {
          "output_type": "stream",
          "name": "stderr",
          "text": [
            "\n",
            "epochs:  80%|████████  | 80/100 [05:59<01:30,  4.53s/it]\n",
            "train sample batches:   0%|          | 0/20 [00:00<?, ?it/s]\u001b[A\n",
            "train sample batches:   5%|▌         | 1/20 [00:00<00:03,  4.98it/s]\u001b[A\n",
            "train sample batches:  10%|█         | 2/20 [00:00<00:03,  4.91it/s]\u001b[A\n",
            "train sample batches:  15%|█▌        | 3/20 [00:00<00:03,  4.91it/s]\u001b[A\n",
            "train sample batches:  20%|██        | 4/20 [00:00<00:03,  4.90it/s]\u001b[A\n",
            "train sample batches:  25%|██▌       | 5/20 [00:01<00:03,  4.96it/s]\u001b[A\n",
            "train sample batches:  30%|███       | 6/20 [00:01<00:02,  4.90it/s]\u001b[A\n",
            "train sample batches:  35%|███▌      | 7/20 [00:01<00:02,  4.99it/s]\u001b[A\n",
            "train sample batches:  40%|████      | 8/20 [00:01<00:02,  5.03it/s]\u001b[A\n",
            "train sample batches:  45%|████▌     | 9/20 [00:01<00:02,  4.88it/s]\u001b[A\n",
            "train sample batches:  50%|█████     | 10/20 [00:02<00:02,  4.82it/s]\u001b[A\n",
            "train sample batches:  55%|█████▌    | 11/20 [00:02<00:01,  4.85it/s]\u001b[A\n",
            "train sample batches:  60%|██████    | 12/20 [00:02<00:01,  4.90it/s]\u001b[A\n",
            "train sample batches:  65%|██████▌   | 13/20 [00:02<00:01,  4.87it/s]\u001b[A\n",
            "train sample batches:  70%|███████   | 14/20 [00:02<00:01,  4.71it/s]\u001b[A\n",
            "train sample batches:  75%|███████▌  | 15/20 [00:03<00:01,  4.78it/s]\u001b[A\n",
            "train sample batches:  80%|████████  | 16/20 [00:03<00:00,  4.85it/s]\u001b[A\n",
            "train sample batches:  85%|████████▌ | 17/20 [00:03<00:00,  4.94it/s]\u001b[A\n",
            "train sample batches:  90%|█████████ | 18/20 [00:03<00:00,  5.01it/s]\u001b[A\n",
            "train sample batches:  95%|█████████▌| 19/20 [00:03<00:00,  5.00it/s]\u001b[A\n",
            "train sample batches: 100%|██████████| 20/20 [00:04<00:00,  4.91it/s]\n",
            "\n",
            "validation sample batches:   0%|          | 0/9 [00:00<?, ?it/s]\u001b[A\n",
            "validation sample batches:  33%|███▎      | 3/9 [00:00<00:00, 23.53it/s]\u001b[A\n",
            "validation sample batches:  67%|██████▋   | 6/9 [00:00<00:00, 22.77it/s]\u001b[A\n",
            "validation sample batches: 100%|██████████| 9/9 [00:00<00:00, 22.84it/s]\n",
            "epochs:  81%|████████  | 81/100 [06:04<01:26,  4.53s/it]"
          ]
        },
        {
          "output_type": "stream",
          "name": "stdout",
          "text": [
            "Epoch 00727: reducing learning rate of group 0 to 3.3866e-05.\n",
            "Epoch train loss 1.067244479060173\n",
            "Epoch val_loss 1.249401330947876\n"
          ]
        },
        {
          "output_type": "stream",
          "name": "stderr",
          "text": [
            "\n",
            "train sample batches:   0%|          | 0/20 [00:00<?, ?it/s]\u001b[A\n",
            "train sample batches:   5%|▌         | 1/20 [00:00<00:03,  4.80it/s]\u001b[A\n",
            "train sample batches:  10%|█         | 2/20 [00:00<00:03,  4.87it/s]\u001b[A\n",
            "train sample batches:  15%|█▌        | 3/20 [00:00<00:03,  4.94it/s]\u001b[A\n",
            "train sample batches:  20%|██        | 4/20 [00:00<00:03,  4.94it/s]\u001b[A\n",
            "train sample batches:  25%|██▌       | 5/20 [00:01<00:02,  5.07it/s]\u001b[A\n",
            "train sample batches:  30%|███       | 6/20 [00:01<00:02,  5.09it/s]\u001b[A\n",
            "train sample batches:  35%|███▌      | 7/20 [00:01<00:02,  5.05it/s]\u001b[A\n",
            "train sample batches:  40%|████      | 8/20 [00:01<00:02,  5.05it/s]\u001b[A\n",
            "train sample batches:  45%|████▌     | 9/20 [00:01<00:02,  5.01it/s]\u001b[A\n",
            "train sample batches:  50%|█████     | 10/20 [00:01<00:01,  5.03it/s]\u001b[A\n",
            "train sample batches:  55%|█████▌    | 11/20 [00:02<00:01,  5.01it/s]\u001b[A\n",
            "train sample batches:  60%|██████    | 12/20 [00:02<00:01,  5.02it/s]\u001b[A\n",
            "train sample batches:  65%|██████▌   | 13/20 [00:02<00:01,  4.88it/s]\u001b[A\n",
            "train sample batches:  70%|███████   | 14/20 [00:02<00:01,  4.98it/s]\u001b[A\n",
            "train sample batches:  75%|███████▌  | 15/20 [00:03<00:00,  5.01it/s]\u001b[A\n",
            "train sample batches:  80%|████████  | 16/20 [00:03<00:00,  4.91it/s]\u001b[A\n",
            "train sample batches:  85%|████████▌ | 17/20 [00:03<00:00,  4.85it/s]\u001b[A\n",
            "train sample batches:  90%|█████████ | 18/20 [00:03<00:00,  4.84it/s]\u001b[A\n",
            "train sample batches:  95%|█████████▌| 19/20 [00:03<00:00,  4.85it/s]\u001b[A\n",
            "train sample batches: 100%|██████████| 20/20 [00:04<00:00,  4.95it/s]\n",
            "\n",
            "validation sample batches:   0%|          | 0/9 [00:00<?, ?it/s]\u001b[A\n",
            "validation sample batches:  22%|██▏       | 2/9 [00:00<00:00, 16.02it/s]\u001b[A\n",
            "validation sample batches:  56%|█████▌    | 5/9 [00:00<00:00, 20.18it/s]\u001b[A\n",
            "validation sample batches: 100%|██████████| 9/9 [00:00<00:00, 19.47it/s]\n",
            "epochs:  82%|████████▏ | 82/100 [06:08<01:21,  4.53s/it]"
          ]
        },
        {
          "output_type": "stream",
          "name": "stdout",
          "text": [
            "Epoch 00738: reducing learning rate of group 0 to 3.2172e-05.\n",
            "Epoch train loss 1.0406330674886703\n",
            "Epoch val_loss 1.656723141670227\n"
          ]
        },
        {
          "output_type": "stream",
          "name": "stderr",
          "text": [
            "\n",
            "train sample batches:   0%|          | 0/20 [00:00<?, ?it/s]\u001b[A\n",
            "train sample batches:   5%|▌         | 1/20 [00:00<00:03,  4.91it/s]\u001b[A\n",
            "train sample batches:  10%|█         | 2/20 [00:00<00:03,  5.04it/s]\u001b[A\n",
            "train sample batches:  15%|█▌        | 3/20 [00:00<00:03,  4.98it/s]\u001b[A\n",
            "train sample batches:  20%|██        | 4/20 [00:00<00:03,  4.99it/s]\u001b[A\n",
            "train sample batches:  25%|██▌       | 5/20 [00:01<00:03,  4.98it/s]\u001b[A\n",
            "train sample batches:  30%|███       | 6/20 [00:01<00:02,  4.99it/s]\u001b[A\n",
            "train sample batches:  35%|███▌      | 7/20 [00:01<00:02,  4.90it/s]\u001b[A\n",
            "train sample batches:  40%|████      | 8/20 [00:01<00:02,  4.94it/s]\u001b[A\n",
            "train sample batches:  45%|████▌     | 9/20 [00:01<00:02,  4.96it/s]\u001b[A\n",
            "train sample batches:  50%|█████     | 10/20 [00:02<00:02,  4.87it/s]\u001b[A\n",
            "train sample batches:  55%|█████▌    | 11/20 [00:02<00:01,  4.88it/s]\u001b[A\n",
            "train sample batches:  60%|██████    | 12/20 [00:02<00:01,  4.94it/s]\u001b[A\n",
            "train sample batches:  65%|██████▌   | 13/20 [00:02<00:01,  4.96it/s]\u001b[A\n",
            "train sample batches:  70%|███████   | 14/20 [00:02<00:01,  5.01it/s]\u001b[A\n",
            "train sample batches:  75%|███████▌  | 15/20 [00:03<00:01,  4.89it/s]\u001b[A\n",
            "train sample batches:  80%|████████  | 16/20 [00:03<00:00,  4.88it/s]\u001b[A\n",
            "train sample batches:  85%|████████▌ | 17/20 [00:03<00:00,  4.98it/s]\u001b[A\n",
            "train sample batches:  90%|█████████ | 18/20 [00:03<00:00,  4.95it/s]\u001b[A\n",
            "train sample batches:  95%|█████████▌| 19/20 [00:03<00:00,  4.95it/s]\u001b[A\n",
            "train sample batches: 100%|██████████| 20/20 [00:04<00:00,  4.92it/s]\n",
            "\n",
            "validation sample batches:   0%|          | 0/9 [00:00<?, ?it/s]\u001b[A\n",
            "validation sample batches:  33%|███▎      | 3/9 [00:00<00:00, 25.05it/s]\u001b[A\n",
            "validation sample batches:  67%|██████▋   | 6/9 [00:00<00:00, 22.53it/s]\u001b[A\n",
            "validation sample batches: 100%|██████████| 9/9 [00:00<00:00, 22.29it/s]\n",
            "epochs:  83%|████████▎ | 83/100 [06:13<01:17,  4.53s/it]"
          ]
        },
        {
          "output_type": "stream",
          "name": "stdout",
          "text": [
            "Epoch train loss 1.0468320459127427\n",
            "Epoch val_loss 1.021939754486084\n"
          ]
        },
        {
          "output_type": "stream",
          "name": "stderr",
          "text": [
            "\n",
            "train sample batches:   0%|          | 0/20 [00:00<?, ?it/s]\u001b[A\n",
            "train sample batches:   5%|▌         | 1/20 [00:00<00:03,  4.85it/s]\u001b[A\n",
            "train sample batches:  10%|█         | 2/20 [00:00<00:03,  4.87it/s]\u001b[A\n",
            "train sample batches:  15%|█▌        | 3/20 [00:00<00:03,  4.73it/s]\u001b[A\n",
            "train sample batches:  20%|██        | 4/20 [00:00<00:03,  4.78it/s]\u001b[A\n",
            "train sample batches:  25%|██▌       | 5/20 [00:01<00:03,  4.86it/s]\u001b[A\n",
            "train sample batches:  30%|███       | 6/20 [00:01<00:02,  4.90it/s]\u001b[A\n",
            "train sample batches:  35%|███▌      | 7/20 [00:01<00:02,  4.89it/s]\u001b[A\n",
            "train sample batches:  40%|████      | 8/20 [00:01<00:02,  4.82it/s]\u001b[A\n",
            "train sample batches:  45%|████▌     | 9/20 [00:01<00:02,  4.81it/s]\u001b[A\n",
            "train sample batches:  50%|█████     | 10/20 [00:02<00:02,  4.81it/s]\u001b[A\n",
            "train sample batches:  55%|█████▌    | 11/20 [00:02<00:01,  4.86it/s]\u001b[A\n",
            "train sample batches:  60%|██████    | 12/20 [00:02<00:01,  4.86it/s]\u001b[A\n",
            "train sample batches:  65%|██████▌   | 13/20 [00:02<00:01,  4.76it/s]\u001b[A\n",
            "train sample batches:  70%|███████   | 14/20 [00:02<00:01,  4.81it/s]\u001b[A\n",
            "train sample batches:  75%|███████▌  | 15/20 [00:03<00:01,  4.91it/s]\u001b[A\n",
            "train sample batches:  80%|████████  | 16/20 [00:03<00:00,  4.97it/s]\u001b[A\n",
            "train sample batches:  85%|████████▌ | 17/20 [00:03<00:00,  4.92it/s]\u001b[A\n",
            "train sample batches:  90%|█████████ | 18/20 [00:03<00:00,  4.90it/s]\u001b[A\n",
            "train sample batches:  95%|█████████▌| 19/20 [00:03<00:00,  4.94it/s]\u001b[A\n",
            "train sample batches: 100%|██████████| 20/20 [00:04<00:00,  4.88it/s]\n",
            "\n",
            "validation sample batches:   0%|          | 0/9 [00:00<?, ?it/s]\u001b[A\n",
            "validation sample batches:  22%|██▏       | 2/9 [00:00<00:00, 19.88it/s]\u001b[A\n",
            "validation sample batches:  56%|█████▌    | 5/9 [00:00<00:00, 21.70it/s]\u001b[A"
          ]
        },
        {
          "output_type": "stream",
          "name": "stdout",
          "text": [
            "Epoch 00749: reducing learning rate of group 0 to 3.0564e-05.\n"
          ]
        },
        {
          "output_type": "stream",
          "name": "stderr",
          "text": [
            "\n",
            "validation sample batches: 100%|██████████| 9/9 [00:00<00:00, 20.33it/s]\n",
            "epochs:  84%|████████▍ | 84/100 [06:17<01:12,  4.55s/it]"
          ]
        },
        {
          "output_type": "stream",
          "name": "stdout",
          "text": [
            "Epoch train loss 1.0611868306994439\n",
            "Epoch val_loss 1.1528453826904297\n"
          ]
        },
        {
          "output_type": "stream",
          "name": "stderr",
          "text": [
            "\n",
            "train sample batches:   0%|          | 0/20 [00:00<?, ?it/s]\u001b[A\n",
            "train sample batches:   5%|▌         | 1/20 [00:00<00:03,  4.89it/s]\u001b[A\n",
            "train sample batches:  10%|█         | 2/20 [00:00<00:03,  4.83it/s]\u001b[A\n",
            "train sample batches:  15%|█▌        | 3/20 [00:00<00:03,  4.95it/s]\u001b[A\n",
            "train sample batches:  20%|██        | 4/20 [00:00<00:03,  5.06it/s]\u001b[A\n",
            "train sample batches:  25%|██▌       | 5/20 [00:01<00:02,  5.02it/s]\u001b[A\n",
            "train sample batches:  30%|███       | 6/20 [00:01<00:02,  5.02it/s]\u001b[A\n",
            "train sample batches:  35%|███▌      | 7/20 [00:01<00:02,  5.06it/s]\u001b[A\n",
            "train sample batches:  40%|████      | 8/20 [00:01<00:02,  5.14it/s]\u001b[A\n",
            "train sample batches:  45%|████▌     | 9/20 [00:01<00:02,  5.13it/s]\u001b[A\n",
            "train sample batches:  50%|█████     | 10/20 [00:01<00:01,  5.06it/s]\u001b[A\n",
            "train sample batches:  55%|█████▌    | 11/20 [00:02<00:01,  5.10it/s]\u001b[A\n",
            "train sample batches:  60%|██████    | 12/20 [00:02<00:01,  5.07it/s]\u001b[A\n",
            "train sample batches:  65%|██████▌   | 13/20 [00:02<00:01,  5.08it/s]\u001b[A\n",
            "train sample batches:  70%|███████   | 14/20 [00:02<00:01,  5.02it/s]\u001b[A\n",
            "train sample batches:  75%|███████▌  | 15/20 [00:02<00:00,  5.00it/s]\u001b[A\n",
            "train sample batches:  80%|████████  | 16/20 [00:03<00:00,  4.99it/s]\u001b[A\n",
            "train sample batches:  85%|████████▌ | 17/20 [00:03<00:00,  5.01it/s]\u001b[A\n",
            "train sample batches:  90%|█████████ | 18/20 [00:03<00:00,  5.04it/s]\u001b[A\n",
            "train sample batches:  95%|█████████▌| 19/20 [00:03<00:00,  5.07it/s]\u001b[A\n",
            "train sample batches: 100%|██████████| 20/20 [00:03<00:00,  5.03it/s]\n",
            "\n",
            "validation sample batches:   0%|          | 0/9 [00:00<?, ?it/s]\u001b[A\n",
            "validation sample batches:  22%|██▏       | 2/9 [00:00<00:00, 19.25it/s]\u001b[A\n",
            "validation sample batches:  44%|████▍     | 4/9 [00:00<00:00, 18.47it/s]\u001b[A\n",
            "validation sample batches:  67%|██████▋   | 6/9 [00:00<00:00, 19.09it/s]\u001b[A"
          ]
        },
        {
          "output_type": "stream",
          "name": "stdout",
          "text": [
            "Epoch 00760: reducing learning rate of group 0 to 2.9035e-05.\n"
          ]
        },
        {
          "output_type": "stream",
          "name": "stderr",
          "text": [
            "\n",
            "validation sample batches: 100%|██████████| 9/9 [00:00<00:00, 19.90it/s]\n",
            "epochs:  85%|████████▌ | 85/100 [06:22<01:07,  4.53s/it]"
          ]
        },
        {
          "output_type": "stream",
          "name": "stdout",
          "text": [
            "Epoch train loss 1.0288458101451396\n",
            "Epoch val_loss 0.9889273643493652\n"
          ]
        },
        {
          "output_type": "stream",
          "name": "stderr",
          "text": [
            "\n",
            "train sample batches:   0%|          | 0/20 [00:00<?, ?it/s]\u001b[A\n",
            "train sample batches:   5%|▌         | 1/20 [00:00<00:03,  4.91it/s]\u001b[A\n",
            "train sample batches:  10%|█         | 2/20 [00:00<00:03,  5.06it/s]\u001b[A\n",
            "train sample batches:  15%|█▌        | 3/20 [00:00<00:03,  4.97it/s]\u001b[A\n",
            "train sample batches:  20%|██        | 4/20 [00:00<00:03,  4.73it/s]\u001b[A\n",
            "train sample batches:  25%|██▌       | 5/20 [00:01<00:03,  4.85it/s]\u001b[A\n",
            "train sample batches:  30%|███       | 6/20 [00:01<00:02,  4.93it/s]\u001b[A\n",
            "train sample batches:  35%|███▌      | 7/20 [00:01<00:02,  4.98it/s]\u001b[A\n",
            "train sample batches:  40%|████      | 8/20 [00:01<00:02,  4.99it/s]\u001b[A\n",
            "train sample batches:  45%|████▌     | 9/20 [00:01<00:02,  4.99it/s]\u001b[A\n",
            "train sample batches:  50%|█████     | 10/20 [00:02<00:01,  5.01it/s]\u001b[A\n",
            "train sample batches:  55%|█████▌    | 11/20 [00:02<00:01,  5.02it/s]\u001b[A\n",
            "train sample batches:  60%|██████    | 12/20 [00:02<00:01,  4.93it/s]\u001b[A\n",
            "train sample batches:  65%|██████▌   | 13/20 [00:02<00:01,  4.92it/s]\u001b[A\n",
            "train sample batches:  70%|███████   | 14/20 [00:02<00:01,  4.89it/s]\u001b[A\n",
            "train sample batches:  75%|███████▌  | 15/20 [00:03<00:01,  4.96it/s]\u001b[A\n",
            "train sample batches:  80%|████████  | 16/20 [00:03<00:00,  4.99it/s]\u001b[A\n",
            "train sample batches:  85%|████████▌ | 17/20 [00:03<00:00,  4.94it/s]\u001b[A\n",
            "train sample batches:  90%|█████████ | 18/20 [00:03<00:00,  4.95it/s]\u001b[A\n",
            "train sample batches:  95%|█████████▌| 19/20 [00:03<00:00,  4.97it/s]\u001b[A\n",
            "train sample batches: 100%|██████████| 20/20 [00:04<00:00,  4.96it/s]\n",
            "\n",
            "validation sample batches:   0%|          | 0/9 [00:00<?, ?it/s]\u001b[A\n",
            "validation sample batches:  22%|██▏       | 2/9 [00:00<00:00, 18.45it/s]\u001b[A\n",
            "validation sample batches:  44%|████▍     | 4/9 [00:00<00:00, 19.18it/s]\u001b[A\n",
            "validation sample batches:  67%|██████▋   | 6/9 [00:00<00:00, 18.77it/s]\u001b[A\n",
            "validation sample batches: 100%|██████████| 9/9 [00:00<00:00, 20.13it/s]\n",
            "epochs:  86%|████████▌ | 86/100 [06:26<01:03,  4.53s/it]"
          ]
        },
        {
          "output_type": "stream",
          "name": "stdout",
          "text": [
            "Epoch 00771: reducing learning rate of group 0 to 2.7584e-05.\n",
            "Epoch train loss 1.062553060054779\n",
            "Epoch val_loss 0.9937680959701538\n"
          ]
        },
        {
          "output_type": "stream",
          "name": "stderr",
          "text": [
            "\n",
            "train sample batches:   0%|          | 0/20 [00:00<?, ?it/s]\u001b[A\n",
            "train sample batches:   5%|▌         | 1/20 [00:00<00:03,  4.86it/s]\u001b[A\n",
            "train sample batches:  10%|█         | 2/20 [00:00<00:03,  4.82it/s]\u001b[A\n",
            "train sample batches:  15%|█▌        | 3/20 [00:00<00:03,  4.86it/s]\u001b[A\n",
            "train sample batches:  20%|██        | 4/20 [00:00<00:03,  4.86it/s]\u001b[A\n",
            "train sample batches:  25%|██▌       | 5/20 [00:01<00:03,  4.83it/s]\u001b[A\n",
            "train sample batches:  30%|███       | 6/20 [00:01<00:02,  4.88it/s]\u001b[A\n",
            "train sample batches:  35%|███▌      | 7/20 [00:01<00:02,  4.84it/s]\u001b[A\n",
            "train sample batches:  40%|████      | 8/20 [00:01<00:02,  4.88it/s]\u001b[A\n",
            "train sample batches:  45%|████▌     | 9/20 [00:01<00:02,  4.90it/s]\u001b[A\n",
            "train sample batches:  50%|█████     | 10/20 [00:02<00:02,  4.91it/s]\u001b[A\n",
            "train sample batches:  55%|█████▌    | 11/20 [00:02<00:01,  4.91it/s]\u001b[A\n",
            "train sample batches:  60%|██████    | 12/20 [00:02<00:01,  4.86it/s]\u001b[A\n",
            "train sample batches:  65%|██████▌   | 13/20 [00:02<00:01,  4.88it/s]\u001b[A\n",
            "train sample batches:  70%|███████   | 14/20 [00:02<00:01,  4.88it/s]\u001b[A\n",
            "train sample batches:  75%|███████▌  | 15/20 [00:03<00:01,  4.82it/s]\u001b[A\n",
            "train sample batches:  80%|████████  | 16/20 [00:03<00:00,  4.88it/s]\u001b[A\n",
            "train sample batches:  85%|████████▌ | 17/20 [00:03<00:00,  4.87it/s]\u001b[A\n",
            "train sample batches:  90%|█████████ | 18/20 [00:03<00:00,  4.90it/s]\u001b[A\n",
            "train sample batches:  95%|█████████▌| 19/20 [00:03<00:00,  4.95it/s]\u001b[A\n",
            "train sample batches: 100%|██████████| 20/20 [00:04<00:00,  4.89it/s]\n",
            "\n",
            "validation sample batches:   0%|          | 0/9 [00:00<?, ?it/s]\u001b[A\n",
            "validation sample batches:  22%|██▏       | 2/9 [00:00<00:00, 17.26it/s]\u001b[A\n",
            "validation sample batches:  56%|█████▌    | 5/9 [00:00<00:00, 21.23it/s]\u001b[A\n",
            "validation sample batches: 100%|██████████| 9/9 [00:00<00:00, 20.19it/s]\n",
            "epochs:  87%|████████▋ | 87/100 [06:31<00:59,  4.55s/it]"
          ]
        },
        {
          "output_type": "stream",
          "name": "stdout",
          "text": [
            "Epoch 00782: reducing learning rate of group 0 to 2.6205e-05.\n",
            "Epoch train loss 1.0561324775218963\n",
            "Epoch val_loss 0.9362584948539734\n"
          ]
        },
        {
          "output_type": "stream",
          "name": "stderr",
          "text": [
            "\n",
            "train sample batches:   0%|          | 0/20 [00:00<?, ?it/s]\u001b[A\n",
            "train sample batches:   5%|▌         | 1/20 [00:00<00:03,  4.77it/s]\u001b[A\n",
            "train sample batches:  10%|█         | 2/20 [00:00<00:03,  4.84it/s]\u001b[A\n",
            "train sample batches:  15%|█▌        | 3/20 [00:00<00:03,  4.85it/s]\u001b[A\n",
            "train sample batches:  20%|██        | 4/20 [00:00<00:03,  4.86it/s]\u001b[A\n",
            "train sample batches:  25%|██▌       | 5/20 [00:01<00:03,  4.86it/s]\u001b[A\n",
            "train sample batches:  30%|███       | 6/20 [00:01<00:02,  4.81it/s]\u001b[A\n",
            "train sample batches:  35%|███▌      | 7/20 [00:01<00:02,  4.86it/s]\u001b[A\n",
            "train sample batches:  40%|████      | 8/20 [00:01<00:02,  4.91it/s]\u001b[A\n",
            "train sample batches:  45%|████▌     | 9/20 [00:01<00:02,  4.81it/s]\u001b[A\n",
            "train sample batches:  50%|█████     | 10/20 [00:02<00:02,  4.78it/s]\u001b[A\n",
            "train sample batches:  55%|█████▌    | 11/20 [00:02<00:01,  4.79it/s]\u001b[A\n",
            "train sample batches:  60%|██████    | 12/20 [00:02<00:01,  4.77it/s]\u001b[A\n",
            "train sample batches:  65%|██████▌   | 13/20 [00:02<00:01,  4.88it/s]\u001b[A\n",
            "train sample batches:  70%|███████   | 14/20 [00:02<00:01,  4.88it/s]\u001b[A\n",
            "train sample batches:  75%|███████▌  | 15/20 [00:03<00:01,  4.87it/s]\u001b[A\n",
            "train sample batches:  80%|████████  | 16/20 [00:03<00:00,  4.90it/s]\u001b[A\n",
            "train sample batches:  85%|████████▌ | 17/20 [00:03<00:00,  4.92it/s]\u001b[A\n",
            "train sample batches:  90%|█████████ | 18/20 [00:03<00:00,  4.93it/s]\u001b[A\n",
            "train sample batches:  95%|█████████▌| 19/20 [00:03<00:00,  4.95it/s]\u001b[A\n",
            "train sample batches: 100%|██████████| 20/20 [00:04<00:00,  4.86it/s]\n",
            "\n",
            "validation sample batches:   0%|          | 0/9 [00:00<?, ?it/s]\u001b[A\n",
            "validation sample batches:  33%|███▎      | 3/9 [00:00<00:00, 22.45it/s]\u001b[A\n",
            "validation sample batches:  67%|██████▋   | 6/9 [00:00<00:00, 21.06it/s]\u001b[A\n",
            "validation sample batches: 100%|██████████| 9/9 [00:00<00:00, 21.25it/s]\n",
            "epochs:  88%|████████▊ | 88/100 [06:35<00:54,  4.56s/it]"
          ]
        },
        {
          "output_type": "stream",
          "name": "stdout",
          "text": [
            "Epoch train loss 1.057311126589775\n",
            "Epoch val_loss 0.9916309714317322\n"
          ]
        },
        {
          "output_type": "stream",
          "name": "stderr",
          "text": [
            "\n",
            "train sample batches:   0%|          | 0/20 [00:00<?, ?it/s]\u001b[A\n",
            "train sample batches:   5%|▌         | 1/20 [00:00<00:03,  5.10it/s]\u001b[A\n",
            "train sample batches:  10%|█         | 2/20 [00:00<00:03,  4.95it/s]\u001b[A\n",
            "train sample batches:  15%|█▌        | 3/20 [00:00<00:03,  4.95it/s]\u001b[A\n",
            "train sample batches:  20%|██        | 4/20 [00:00<00:03,  4.87it/s]\u001b[A\n",
            "train sample batches:  25%|██▌       | 5/20 [00:01<00:03,  4.95it/s]\u001b[A\n",
            "train sample batches:  30%|███       | 6/20 [00:01<00:02,  5.00it/s]\u001b[A\n",
            "train sample batches:  35%|███▌      | 7/20 [00:01<00:02,  4.96it/s]\u001b[A\n",
            "train sample batches:  40%|████      | 8/20 [00:01<00:02,  5.01it/s]\u001b[A\n",
            "train sample batches:  45%|████▌     | 9/20 [00:01<00:02,  4.94it/s]\u001b[A\n",
            "train sample batches:  50%|█████     | 10/20 [00:02<00:02,  4.98it/s]\u001b[A\n",
            "train sample batches:  55%|█████▌    | 11/20 [00:02<00:01,  4.92it/s]\u001b[A\n",
            "train sample batches:  60%|██████    | 12/20 [00:02<00:01,  4.92it/s]\u001b[A\n",
            "train sample batches:  65%|██████▌   | 13/20 [00:02<00:01,  4.87it/s]\u001b[A\n",
            "train sample batches:  70%|███████   | 14/20 [00:02<00:01,  4.87it/s]\u001b[A\n",
            "train sample batches:  75%|███████▌  | 15/20 [00:03<00:01,  4.87it/s]\u001b[A\n",
            "train sample batches:  80%|████████  | 16/20 [00:03<00:00,  4.83it/s]\u001b[A\n",
            "train sample batches:  85%|████████▌ | 17/20 [00:03<00:00,  4.84it/s]\u001b[A\n",
            "train sample batches:  90%|█████████ | 18/20 [00:03<00:00,  4.80it/s]\u001b[A\n",
            "train sample batches:  95%|█████████▌| 19/20 [00:03<00:00,  4.87it/s]\u001b[A\n",
            "train sample batches: 100%|██████████| 20/20 [00:04<00:00,  4.91it/s]\n",
            "\n",
            "validation sample batches:   0%|          | 0/9 [00:00<?, ?it/s]\u001b[A\n",
            "validation sample batches:  22%|██▏       | 2/9 [00:00<00:00, 19.08it/s]\u001b[A\n",
            "validation sample batches:  56%|█████▌    | 5/9 [00:00<00:00, 22.75it/s]\u001b[A"
          ]
        },
        {
          "output_type": "stream",
          "name": "stdout",
          "text": [
            "Epoch 00793: reducing learning rate of group 0 to 2.4894e-05.\n"
          ]
        },
        {
          "output_type": "stream",
          "name": "stderr",
          "text": [
            "\n",
            "validation sample batches: 100%|██████████| 9/9 [00:00<00:00, 21.42it/s]\n",
            "epochs:  89%|████████▉ | 89/100 [06:40<00:50,  4.56s/it]"
          ]
        },
        {
          "output_type": "stream",
          "name": "stdout",
          "text": [
            "Epoch train loss 1.004412092268467\n",
            "Epoch val_loss 0.3563433587551117\n"
          ]
        },
        {
          "output_type": "stream",
          "name": "stderr",
          "text": [
            "\n",
            "train sample batches:   0%|          | 0/20 [00:00<?, ?it/s]\u001b[A\n",
            "train sample batches:   5%|▌         | 1/20 [00:00<00:03,  4.75it/s]\u001b[A\n",
            "train sample batches:  10%|█         | 2/20 [00:00<00:03,  5.01it/s]\u001b[A\n",
            "train sample batches:  15%|█▌        | 3/20 [00:00<00:03,  4.98it/s]\u001b[A\n",
            "train sample batches:  20%|██        | 4/20 [00:00<00:03,  4.98it/s]\u001b[A\n",
            "train sample batches:  25%|██▌       | 5/20 [00:01<00:03,  4.83it/s]\u001b[A\n",
            "train sample batches:  30%|███       | 6/20 [00:01<00:02,  4.80it/s]\u001b[A\n",
            "train sample batches:  35%|███▌      | 7/20 [00:01<00:02,  4.78it/s]\u001b[A\n",
            "train sample batches:  40%|████      | 8/20 [00:01<00:02,  4.87it/s]\u001b[A\n",
            "train sample batches:  45%|████▌     | 9/20 [00:01<00:02,  4.89it/s]\u001b[A\n",
            "train sample batches:  50%|█████     | 10/20 [00:02<00:02,  4.89it/s]\u001b[A\n",
            "train sample batches:  55%|█████▌    | 11/20 [00:02<00:01,  4.85it/s]\u001b[A\n",
            "train sample batches:  60%|██████    | 12/20 [00:02<00:01,  4.83it/s]\u001b[A\n",
            "train sample batches:  65%|██████▌   | 13/20 [00:02<00:01,  4.90it/s]\u001b[A\n",
            "train sample batches:  70%|███████   | 14/20 [00:02<00:01,  4.90it/s]\u001b[A\n",
            "train sample batches:  75%|███████▌  | 15/20 [00:03<00:01,  4.89it/s]\u001b[A\n",
            "train sample batches:  80%|████████  | 16/20 [00:03<00:00,  4.82it/s]\u001b[A\n",
            "train sample batches:  85%|████████▌ | 17/20 [00:03<00:00,  4.86it/s]\u001b[A\n",
            "train sample batches:  90%|█████████ | 18/20 [00:03<00:00,  4.92it/s]\u001b[A\n",
            "train sample batches:  95%|█████████▌| 19/20 [00:03<00:00,  4.98it/s]\u001b[A\n",
            "train sample batches: 100%|██████████| 20/20 [00:04<00:00,  4.89it/s]\n",
            "\n",
            "validation sample batches:   0%|          | 0/9 [00:00<?, ?it/s]\u001b[A\n",
            "validation sample batches:  33%|███▎      | 3/9 [00:00<00:00, 21.87it/s]\u001b[A\n",
            "validation sample batches:  67%|██████▋   | 6/9 [00:00<00:00, 22.61it/s]\u001b[A"
          ]
        },
        {
          "output_type": "stream",
          "name": "stdout",
          "text": [
            "Epoch 00804: reducing learning rate of group 0 to 2.3650e-05.\n"
          ]
        },
        {
          "output_type": "stream",
          "name": "stderr",
          "text": [
            "\n",
            "validation sample batches: 100%|██████████| 9/9 [00:00<00:00, 22.68it/s]\n",
            "epochs:  90%|█████████ | 90/100 [06:44<00:45,  4.55s/it]"
          ]
        },
        {
          "output_type": "stream",
          "name": "stdout",
          "text": [
            "Epoch train loss 1.0378356553614139\n",
            "Epoch val_loss 1.166054129600525\n"
          ]
        },
        {
          "output_type": "stream",
          "name": "stderr",
          "text": [
            "\n",
            "train sample batches:   0%|          | 0/20 [00:00<?, ?it/s]\u001b[A\n",
            "train sample batches:   5%|▌         | 1/20 [00:00<00:04,  4.73it/s]\u001b[A\n",
            "train sample batches:  10%|█         | 2/20 [00:00<00:03,  5.02it/s]\u001b[A\n",
            "train sample batches:  15%|█▌        | 3/20 [00:00<00:03,  5.05it/s]\u001b[A\n",
            "train sample batches:  20%|██        | 4/20 [00:00<00:03,  4.97it/s]\u001b[A\n",
            "train sample batches:  25%|██▌       | 5/20 [00:01<00:02,  5.04it/s]\u001b[A\n",
            "train sample batches:  30%|███       | 6/20 [00:01<00:02,  5.06it/s]\u001b[A\n",
            "train sample batches:  35%|███▌      | 7/20 [00:01<00:02,  5.12it/s]\u001b[A\n",
            "train sample batches:  40%|████      | 8/20 [00:01<00:02,  5.08it/s]\u001b[A\n",
            "train sample batches:  45%|████▌     | 9/20 [00:01<00:02,  4.99it/s]\u001b[A\n",
            "train sample batches:  50%|█████     | 10/20 [00:01<00:01,  5.01it/s]\u001b[A\n",
            "train sample batches:  55%|█████▌    | 11/20 [00:02<00:01,  5.07it/s]\u001b[A\n",
            "train sample batches:  60%|██████    | 12/20 [00:02<00:01,  5.08it/s]\u001b[A\n",
            "train sample batches:  65%|██████▌   | 13/20 [00:02<00:01,  5.03it/s]\u001b[A\n",
            "train sample batches:  70%|███████   | 14/20 [00:02<00:01,  4.94it/s]\u001b[A\n",
            "train sample batches:  75%|███████▌  | 15/20 [00:02<00:01,  4.96it/s]\u001b[A\n",
            "train sample batches:  80%|████████  | 16/20 [00:03<00:00,  4.98it/s]\u001b[A\n",
            "train sample batches:  85%|████████▌ | 17/20 [00:03<00:00,  5.05it/s]\u001b[A\n",
            "train sample batches:  90%|█████████ | 18/20 [00:03<00:00,  5.03it/s]\u001b[A\n",
            "train sample batches:  95%|█████████▌| 19/20 [00:03<00:00,  4.89it/s]\u001b[A\n",
            "train sample batches: 100%|██████████| 20/20 [00:03<00:00,  5.00it/s]\n",
            "\n",
            "validation sample batches:   0%|          | 0/9 [00:00<?, ?it/s]\u001b[A\n",
            "validation sample batches:  33%|███▎      | 3/9 [00:00<00:00, 25.53it/s]\u001b[A\n",
            "validation sample batches:  67%|██████▋   | 6/9 [00:00<00:00, 23.54it/s]\u001b[A\n",
            "validation sample batches: 100%|██████████| 9/9 [00:00<00:00, 22.70it/s]"
          ]
        },
        {
          "output_type": "stream",
          "name": "stdout",
          "text": [
            "Epoch 00815: reducing learning rate of group 0 to 2.2467e-05.\n",
            "Epoch train loss 1.0739496916532516\n",
            "Epoch val_loss 1.1743628978729248\n"
          ]
        },
        {
          "output_type": "stream",
          "name": "stderr",
          "text": [
            "\n",
            "epochs:  91%|█████████ | 91/100 [06:49<00:40,  4.52s/it]\n",
            "train sample batches:   0%|          | 0/20 [00:00<?, ?it/s]\u001b[A\n",
            "train sample batches:   5%|▌         | 1/20 [00:00<00:04,  4.67it/s]\u001b[A\n",
            "train sample batches:  10%|█         | 2/20 [00:00<00:03,  4.81it/s]\u001b[A\n",
            "train sample batches:  15%|█▌        | 3/20 [00:00<00:03,  4.92it/s]\u001b[A\n",
            "train sample batches:  20%|██        | 4/20 [00:00<00:03,  4.96it/s]\u001b[A\n",
            "train sample batches:  25%|██▌       | 5/20 [00:01<00:03,  4.96it/s]\u001b[A\n",
            "train sample batches:  30%|███       | 6/20 [00:01<00:02,  5.01it/s]\u001b[A\n",
            "train sample batches:  35%|███▌      | 7/20 [00:01<00:02,  4.87it/s]\u001b[A\n",
            "train sample batches:  40%|████      | 8/20 [00:01<00:02,  4.87it/s]\u001b[A\n",
            "train sample batches:  45%|████▌     | 9/20 [00:01<00:02,  4.96it/s]\u001b[A\n",
            "train sample batches:  50%|█████     | 10/20 [00:02<00:01,  5.04it/s]\u001b[A\n",
            "train sample batches:  55%|█████▌    | 11/20 [00:02<00:01,  5.03it/s]\u001b[A\n",
            "train sample batches:  60%|██████    | 12/20 [00:02<00:01,  4.92it/s]\u001b[A\n",
            "train sample batches:  65%|██████▌   | 13/20 [00:02<00:01,  4.98it/s]\u001b[A\n",
            "train sample batches:  70%|███████   | 14/20 [00:02<00:01,  5.04it/s]\u001b[A\n",
            "train sample batches:  75%|███████▌  | 15/20 [00:03<00:00,  5.05it/s]\u001b[A\n",
            "train sample batches:  80%|████████  | 16/20 [00:03<00:00,  5.07it/s]\u001b[A\n",
            "train sample batches:  85%|████████▌ | 17/20 [00:03<00:00,  5.02it/s]\u001b[A\n",
            "train sample batches:  90%|█████████ | 18/20 [00:03<00:00,  5.05it/s]\u001b[A\n",
            "train sample batches:  95%|█████████▌| 19/20 [00:03<00:00,  5.09it/s]\u001b[A\n",
            "train sample batches: 100%|██████████| 20/20 [00:04<00:00,  5.00it/s]\n",
            "\n",
            "validation sample batches:   0%|          | 0/9 [00:00<?, ?it/s]\u001b[A\n",
            "validation sample batches:  33%|███▎      | 3/9 [00:00<00:00, 22.84it/s]\u001b[A\n",
            "validation sample batches:  67%|██████▋   | 6/9 [00:00<00:00, 19.64it/s]\u001b[A\n",
            "validation sample batches: 100%|██████████| 9/9 [00:00<00:00, 19.42it/s]\n",
            "epochs:  92%|█████████▏| 92/100 [06:53<00:36,  4.52s/it]"
          ]
        },
        {
          "output_type": "stream",
          "name": "stdout",
          "text": [
            "Epoch 00826: reducing learning rate of group 0 to 2.1344e-05.\n",
            "Epoch train loss 1.0305358238518239\n",
            "Epoch val_loss 1.4048776626586914\n"
          ]
        },
        {
          "output_type": "stream",
          "name": "stderr",
          "text": [
            "\n",
            "train sample batches:   0%|          | 0/20 [00:00<?, ?it/s]\u001b[A\n",
            "train sample batches:   5%|▌         | 1/20 [00:00<00:03,  5.15it/s]\u001b[A\n",
            "train sample batches:  10%|█         | 2/20 [00:00<00:03,  4.97it/s]\u001b[A\n",
            "train sample batches:  15%|█▌        | 3/20 [00:00<00:03,  5.01it/s]\u001b[A\n",
            "train sample batches:  20%|██        | 4/20 [00:00<00:03,  4.90it/s]\u001b[A\n",
            "train sample batches:  25%|██▌       | 5/20 [00:01<00:03,  4.82it/s]\u001b[A\n",
            "train sample batches:  30%|███       | 6/20 [00:01<00:02,  4.90it/s]\u001b[A\n",
            "train sample batches:  35%|███▌      | 7/20 [00:01<00:02,  4.91it/s]\u001b[A\n",
            "train sample batches:  40%|████      | 8/20 [00:01<00:02,  4.97it/s]\u001b[A\n",
            "train sample batches:  45%|████▌     | 9/20 [00:01<00:02,  4.95it/s]\u001b[A\n",
            "train sample batches:  50%|█████     | 10/20 [00:02<00:02,  4.93it/s]\u001b[A\n",
            "train sample batches:  55%|█████▌    | 11/20 [00:02<00:01,  4.98it/s]\u001b[A\n",
            "train sample batches:  60%|██████    | 12/20 [00:02<00:01,  4.99it/s]\u001b[A\n",
            "train sample batches:  65%|██████▌   | 13/20 [00:02<00:01,  4.98it/s]\u001b[A\n",
            "train sample batches:  70%|███████   | 14/20 [00:02<00:01,  4.95it/s]\u001b[A\n",
            "train sample batches:  75%|███████▌  | 15/20 [00:03<00:01,  4.90it/s]\u001b[A\n",
            "train sample batches:  80%|████████  | 16/20 [00:03<00:00,  4.89it/s]\u001b[A\n",
            "train sample batches:  85%|████████▌ | 17/20 [00:03<00:00,  4.94it/s]\u001b[A\n",
            "train sample batches:  90%|█████████ | 18/20 [00:03<00:00,  4.96it/s]\u001b[A\n",
            "train sample batches:  95%|█████████▌| 19/20 [00:03<00:00,  4.89it/s]\u001b[A\n",
            "train sample batches: 100%|██████████| 20/20 [00:04<00:00,  4.93it/s]\n",
            "\n",
            "validation sample batches:   0%|          | 0/9 [00:00<?, ?it/s]\u001b[A\n",
            "validation sample batches:  22%|██▏       | 2/9 [00:00<00:00, 19.22it/s]\u001b[A\n",
            "validation sample batches:  56%|█████▌    | 5/9 [00:00<00:00, 21.04it/s]\u001b[A\n",
            "validation sample batches: 100%|██████████| 9/9 [00:00<00:00, 21.21it/s]\n",
            "epochs:  93%|█████████▎| 93/100 [06:58<00:31,  4.52s/it]"
          ]
        },
        {
          "output_type": "stream",
          "name": "stdout",
          "text": [
            "Epoch 00837: reducing learning rate of group 0 to 2.0277e-05.\n",
            "Epoch train loss 1.0537017703056335\n",
            "Epoch val_loss 1.0253788232803345\n"
          ]
        },
        {
          "output_type": "stream",
          "name": "stderr",
          "text": [
            "\n",
            "train sample batches:   0%|          | 0/20 [00:00<?, ?it/s]\u001b[A\n",
            "train sample batches:   5%|▌         | 1/20 [00:00<00:03,  5.03it/s]\u001b[A\n",
            "train sample batches:  10%|█         | 2/20 [00:00<00:03,  4.95it/s]\u001b[A\n",
            "train sample batches:  15%|█▌        | 3/20 [00:00<00:03,  4.77it/s]\u001b[A\n",
            "train sample batches:  20%|██        | 4/20 [00:00<00:03,  4.84it/s]\u001b[A\n",
            "train sample batches:  25%|██▌       | 5/20 [00:01<00:03,  4.95it/s]\u001b[A\n",
            "train sample batches:  30%|███       | 6/20 [00:01<00:02,  4.95it/s]\u001b[A\n",
            "train sample batches:  35%|███▌      | 7/20 [00:01<00:02,  4.91it/s]\u001b[A\n",
            "train sample batches:  40%|████      | 8/20 [00:01<00:02,  4.93it/s]\u001b[A\n",
            "train sample batches:  45%|████▌     | 9/20 [00:01<00:02,  4.98it/s]\u001b[A\n",
            "train sample batches:  50%|█████     | 10/20 [00:02<00:01,  5.00it/s]\u001b[A\n",
            "train sample batches:  55%|█████▌    | 11/20 [00:02<00:01,  4.99it/s]\u001b[A\n",
            "train sample batches:  60%|██████    | 12/20 [00:02<00:01,  5.00it/s]\u001b[A\n",
            "train sample batches:  65%|██████▌   | 13/20 [00:02<00:01,  4.98it/s]\u001b[A\n",
            "train sample batches:  70%|███████   | 14/20 [00:02<00:01,  5.00it/s]\u001b[A\n",
            "train sample batches:  75%|███████▌  | 15/20 [00:03<00:00,  5.06it/s]\u001b[A\n",
            "train sample batches:  80%|████████  | 16/20 [00:03<00:00,  4.99it/s]\u001b[A\n",
            "train sample batches:  85%|████████▌ | 17/20 [00:03<00:00,  5.06it/s]\u001b[A\n",
            "train sample batches:  90%|█████████ | 18/20 [00:03<00:00,  4.98it/s]\u001b[A\n",
            "train sample batches:  95%|█████████▌| 19/20 [00:03<00:00,  5.01it/s]\u001b[A\n",
            "train sample batches: 100%|██████████| 20/20 [00:04<00:00,  4.99it/s]\n",
            "\n",
            "validation sample batches:   0%|          | 0/9 [00:00<?, ?it/s]\u001b[A\n",
            "validation sample batches:  22%|██▏       | 2/9 [00:00<00:00, 16.75it/s]\u001b[A\n",
            "validation sample batches:  56%|█████▌    | 5/9 [00:00<00:00, 20.47it/s]\u001b[A\n",
            "validation sample batches: 100%|██████████| 9/9 [00:00<00:00, 20.30it/s]\n",
            "epochs:  94%|█████████▍| 94/100 [07:02<00:27,  4.52s/it]"
          ]
        },
        {
          "output_type": "stream",
          "name": "stdout",
          "text": [
            "Epoch train loss 1.0704651296138763\n",
            "Epoch val_loss 0.9827617406845093\n"
          ]
        },
        {
          "output_type": "stream",
          "name": "stderr",
          "text": [
            "\n",
            "train sample batches:   0%|          | 0/20 [00:00<?, ?it/s]\u001b[A\n",
            "train sample batches:   5%|▌         | 1/20 [00:00<00:04,  4.74it/s]\u001b[A\n",
            "train sample batches:  10%|█         | 2/20 [00:00<00:03,  4.81it/s]\u001b[A\n",
            "train sample batches:  15%|█▌        | 3/20 [00:00<00:03,  4.75it/s]\u001b[A\n",
            "train sample batches:  20%|██        | 4/20 [00:00<00:03,  4.90it/s]\u001b[A\n",
            "train sample batches:  25%|██▌       | 5/20 [00:01<00:03,  4.80it/s]\u001b[A\n",
            "train sample batches:  30%|███       | 6/20 [00:01<00:02,  4.78it/s]\u001b[A\n",
            "train sample batches:  35%|███▌      | 7/20 [00:01<00:02,  4.85it/s]\u001b[A\n",
            "train sample batches:  40%|████      | 8/20 [00:01<00:02,  4.94it/s]\u001b[A\n",
            "train sample batches:  45%|████▌     | 9/20 [00:01<00:02,  4.93it/s]\u001b[A\n",
            "train sample batches:  50%|█████     | 10/20 [00:02<00:02,  4.94it/s]\u001b[A\n",
            "train sample batches:  55%|█████▌    | 11/20 [00:02<00:01,  4.92it/s]\u001b[A\n",
            "train sample batches:  60%|██████    | 12/20 [00:02<00:01,  4.93it/s]\u001b[A\n",
            "train sample batches:  65%|██████▌   | 13/20 [00:02<00:01,  4.95it/s]\u001b[A\n",
            "train sample batches:  70%|███████   | 14/20 [00:02<00:01,  4.97it/s]\u001b[A\n",
            "train sample batches:  75%|███████▌  | 15/20 [00:03<00:00,  5.03it/s]\u001b[A\n",
            "train sample batches:  80%|████████  | 16/20 [00:03<00:00,  4.99it/s]\u001b[A\n",
            "train sample batches:  85%|████████▌ | 17/20 [00:03<00:00,  5.03it/s]\u001b[A\n",
            "train sample batches:  90%|█████████ | 18/20 [00:03<00:00,  4.94it/s]\u001b[A\n",
            "train sample batches:  95%|█████████▌| 19/20 [00:03<00:00,  4.96it/s]\u001b[A\n",
            "train sample batches: 100%|██████████| 20/20 [00:04<00:00,  4.93it/s]\n",
            "\n",
            "validation sample batches:   0%|          | 0/9 [00:00<?, ?it/s]\u001b[A\n",
            "validation sample batches:  33%|███▎      | 3/9 [00:00<00:00, 21.37it/s]\u001b[A\n",
            "validation sample batches:  67%|██████▋   | 6/9 [00:00<00:00, 20.93it/s]\u001b[A"
          ]
        },
        {
          "output_type": "stream",
          "name": "stdout",
          "text": [
            "Epoch 00848: reducing learning rate of group 0 to 2.0000e-05.\n"
          ]
        },
        {
          "output_type": "stream",
          "name": "stderr",
          "text": [
            "\n",
            "validation sample batches: 100%|██████████| 9/9 [00:00<00:00, 21.12it/s]\n",
            "epochs:  95%|█████████▌| 95/100 [07:07<00:22,  4.52s/it]"
          ]
        },
        {
          "output_type": "stream",
          "name": "stdout",
          "text": [
            "Epoch train loss 1.0693890154361725\n",
            "Epoch val_loss 0.7370433211326599\n"
          ]
        },
        {
          "output_type": "stream",
          "name": "stderr",
          "text": [
            "\n",
            "train sample batches:   0%|          | 0/20 [00:00<?, ?it/s]\u001b[A\n",
            "train sample batches:   5%|▌         | 1/20 [00:00<00:03,  4.97it/s]\u001b[A\n",
            "train sample batches:  10%|█         | 2/20 [00:00<00:03,  4.92it/s]\u001b[A\n",
            "train sample batches:  15%|█▌        | 3/20 [00:00<00:03,  4.96it/s]\u001b[A\n",
            "train sample batches:  20%|██        | 4/20 [00:00<00:03,  4.83it/s]\u001b[A\n",
            "train sample batches:  25%|██▌       | 5/20 [00:01<00:03,  4.92it/s]\u001b[A\n",
            "train sample batches:  30%|███       | 6/20 [00:01<00:02,  4.93it/s]\u001b[A\n",
            "train sample batches:  35%|███▌      | 7/20 [00:01<00:02,  4.91it/s]\u001b[A\n",
            "train sample batches:  40%|████      | 8/20 [00:01<00:02,  4.96it/s]\u001b[A\n",
            "train sample batches:  45%|████▌     | 9/20 [00:01<00:02,  4.91it/s]\u001b[A\n",
            "train sample batches:  50%|█████     | 10/20 [00:02<00:02,  4.98it/s]\u001b[A\n",
            "train sample batches:  55%|█████▌    | 11/20 [00:02<00:01,  5.02it/s]\u001b[A\n",
            "train sample batches:  60%|██████    | 12/20 [00:02<00:01,  5.02it/s]\u001b[A\n",
            "train sample batches:  65%|██████▌   | 13/20 [00:02<00:01,  4.94it/s]\u001b[A\n",
            "train sample batches:  70%|███████   | 14/20 [00:02<00:01,  4.90it/s]\u001b[A\n",
            "train sample batches:  75%|███████▌  | 15/20 [00:03<00:01,  4.92it/s]\u001b[A\n",
            "train sample batches:  80%|████████  | 16/20 [00:03<00:00,  4.96it/s]\u001b[A\n",
            "train sample batches:  85%|████████▌ | 17/20 [00:03<00:00,  4.97it/s]\u001b[A\n",
            "train sample batches:  90%|█████████ | 18/20 [00:03<00:00,  4.99it/s]\u001b[A\n",
            "train sample batches:  95%|█████████▌| 19/20 [00:03<00:00,  4.88it/s]\u001b[A\n",
            "train sample batches: 100%|██████████| 20/20 [00:04<00:00,  4.93it/s]\n",
            "\n",
            "validation sample batches:   0%|          | 0/9 [00:00<?, ?it/s]\u001b[A\n",
            "validation sample batches:  33%|███▎      | 3/9 [00:00<00:00, 25.77it/s]\u001b[A\n",
            "validation sample batches:  67%|██████▋   | 6/9 [00:00<00:00, 23.72it/s]\u001b[A\n",
            "validation sample batches: 100%|██████████| 9/9 [00:00<00:00, 23.75it/s]\n",
            "epochs:  96%|█████████▌| 96/100 [07:11<00:18,  4.51s/it]"
          ]
        },
        {
          "output_type": "stream",
          "name": "stdout",
          "text": [
            "Epoch train loss 1.05242730230093\n",
            "Epoch val_loss 1.3433866500854492\n"
          ]
        },
        {
          "output_type": "stream",
          "name": "stderr",
          "text": [
            "\n",
            "train sample batches:   0%|          | 0/20 [00:00<?, ?it/s]\u001b[A\n",
            "train sample batches:   5%|▌         | 1/20 [00:00<00:03,  4.82it/s]\u001b[A\n",
            "train sample batches:  10%|█         | 2/20 [00:00<00:03,  4.63it/s]\u001b[A\n",
            "train sample batches:  15%|█▌        | 3/20 [00:00<00:03,  4.79it/s]\u001b[A\n",
            "train sample batches:  20%|██        | 4/20 [00:00<00:03,  4.82it/s]\u001b[A\n",
            "train sample batches:  25%|██▌       | 5/20 [00:01<00:03,  4.84it/s]\u001b[A\n",
            "train sample batches:  30%|███       | 6/20 [00:01<00:02,  4.78it/s]\u001b[A\n",
            "train sample batches:  35%|███▌      | 7/20 [00:01<00:02,  4.69it/s]\u001b[A\n",
            "train sample batches:  40%|████      | 8/20 [00:01<00:02,  4.74it/s]\u001b[A\n",
            "train sample batches:  45%|████▌     | 9/20 [00:01<00:02,  4.74it/s]\u001b[A\n",
            "train sample batches:  50%|█████     | 10/20 [00:02<00:02,  4.83it/s]\u001b[A\n",
            "train sample batches:  55%|█████▌    | 11/20 [00:02<00:01,  4.77it/s]\u001b[A\n",
            "train sample batches:  60%|██████    | 12/20 [00:02<00:01,  4.76it/s]\u001b[A\n",
            "train sample batches:  65%|██████▌   | 13/20 [00:02<00:01,  4.84it/s]\u001b[A\n",
            "train sample batches:  70%|███████   | 14/20 [00:02<00:01,  4.94it/s]\u001b[A\n",
            "train sample batches:  75%|███████▌  | 15/20 [00:03<00:01,  4.97it/s]\u001b[A\n",
            "train sample batches:  80%|████████  | 16/20 [00:03<00:00,  4.94it/s]\u001b[A\n",
            "train sample batches:  85%|████████▌ | 17/20 [00:03<00:00,  4.94it/s]\u001b[A\n",
            "train sample batches:  90%|█████████ | 18/20 [00:03<00:00,  4.91it/s]\u001b[A\n",
            "train sample batches:  95%|█████████▌| 19/20 [00:03<00:00,  4.88it/s]\u001b[A\n",
            "train sample batches: 100%|██████████| 20/20 [00:04<00:00,  4.85it/s]\n",
            "\n",
            "validation sample batches:   0%|          | 0/9 [00:00<?, ?it/s]\u001b[A\n",
            "validation sample batches:  22%|██▏       | 2/9 [00:00<00:00, 17.91it/s]\u001b[A\n",
            "validation sample batches:  56%|█████▌    | 5/9 [00:00<00:00, 20.20it/s]\u001b[A\n",
            "validation sample batches: 100%|██████████| 9/9 [00:00<00:00, 19.04it/s]\n",
            "epochs:  97%|█████████▋| 97/100 [07:16<00:13,  4.55s/it]"
          ]
        },
        {
          "output_type": "stream",
          "name": "stdout",
          "text": [
            "Epoch train loss 1.0113895744085313\n",
            "Epoch val_loss 0.8889870643615723\n"
          ]
        },
        {
          "output_type": "stream",
          "name": "stderr",
          "text": [
            "\n",
            "train sample batches:   0%|          | 0/20 [00:00<?, ?it/s]\u001b[A\n",
            "train sample batches:   5%|▌         | 1/20 [00:00<00:03,  5.03it/s]\u001b[A\n",
            "train sample batches:  10%|█         | 2/20 [00:00<00:03,  4.95it/s]\u001b[A\n",
            "train sample batches:  15%|█▌        | 3/20 [00:00<00:03,  4.99it/s]\u001b[A\n",
            "train sample batches:  20%|██        | 4/20 [00:00<00:03,  4.95it/s]\u001b[A\n",
            "train sample batches:  25%|██▌       | 5/20 [00:01<00:03,  4.86it/s]\u001b[A\n",
            "train sample batches:  30%|███       | 6/20 [00:01<00:02,  4.98it/s]\u001b[A\n",
            "train sample batches:  35%|███▌      | 7/20 [00:01<00:02,  5.04it/s]\u001b[A\n",
            "train sample batches:  40%|████      | 8/20 [00:01<00:02,  4.97it/s]\u001b[A\n",
            "train sample batches:  45%|████▌     | 9/20 [00:01<00:02,  4.98it/s]\u001b[A\n",
            "train sample batches:  50%|█████     | 10/20 [00:02<00:02,  4.86it/s]\u001b[A\n",
            "train sample batches:  55%|█████▌    | 11/20 [00:02<00:01,  4.81it/s]\u001b[A\n",
            "train sample batches:  60%|██████    | 12/20 [00:02<00:01,  4.86it/s]\u001b[A\n",
            "train sample batches:  65%|██████▌   | 13/20 [00:02<00:01,  4.89it/s]\u001b[A\n",
            "train sample batches:  70%|███████   | 14/20 [00:02<00:01,  4.92it/s]\u001b[A\n",
            "train sample batches:  75%|███████▌  | 15/20 [00:03<00:01,  4.78it/s]\u001b[A\n",
            "train sample batches:  80%|████████  | 16/20 [00:03<00:00,  4.81it/s]\u001b[A\n",
            "train sample batches:  85%|████████▌ | 17/20 [00:03<00:00,  4.82it/s]\u001b[A\n",
            "train sample batches:  90%|█████████ | 18/20 [00:03<00:00,  4.84it/s]\u001b[A\n",
            "train sample batches:  95%|█████████▌| 19/20 [00:03<00:00,  4.91it/s]\u001b[A\n",
            "train sample batches: 100%|██████████| 20/20 [00:04<00:00,  4.90it/s]\n",
            "\n",
            "validation sample batches:   0%|          | 0/9 [00:00<?, ?it/s]\u001b[A\n",
            "validation sample batches:  22%|██▏       | 2/9 [00:00<00:00, 17.19it/s]\u001b[A\n",
            "validation sample batches:  56%|█████▌    | 5/9 [00:00<00:00, 20.12it/s]\u001b[A\n",
            "validation sample batches: 100%|██████████| 9/9 [00:00<00:00, 20.34it/s]\n",
            "epochs:  98%|█████████▊| 98/100 [07:21<00:09,  4.56s/it]"
          ]
        },
        {
          "output_type": "stream",
          "name": "stdout",
          "text": [
            "Epoch train loss 1.0284559085965157\n",
            "Epoch val_loss 0.8775264620780945\n"
          ]
        },
        {
          "output_type": "stream",
          "name": "stderr",
          "text": [
            "\n",
            "train sample batches:   0%|          | 0/20 [00:00<?, ?it/s]\u001b[A\n",
            "train sample batches:   5%|▌         | 1/20 [00:00<00:03,  4.90it/s]\u001b[A\n",
            "train sample batches:  10%|█         | 2/20 [00:00<00:03,  4.74it/s]\u001b[A\n",
            "train sample batches:  15%|█▌        | 3/20 [00:00<00:03,  4.91it/s]\u001b[A\n",
            "train sample batches:  20%|██        | 4/20 [00:00<00:03,  4.93it/s]\u001b[A\n",
            "train sample batches:  25%|██▌       | 5/20 [00:01<00:03,  4.93it/s]\u001b[A\n",
            "train sample batches:  30%|███       | 6/20 [00:01<00:02,  5.00it/s]\u001b[A\n",
            "train sample batches:  35%|███▌      | 7/20 [00:01<00:02,  4.96it/s]\u001b[A\n",
            "train sample batches:  40%|████      | 8/20 [00:01<00:02,  5.09it/s]\u001b[A\n",
            "train sample batches:  45%|████▌     | 9/20 [00:01<00:02,  4.98it/s]\u001b[A\n",
            "train sample batches:  50%|█████     | 10/20 [00:02<00:02,  4.94it/s]\u001b[A\n",
            "train sample batches:  55%|█████▌    | 11/20 [00:02<00:01,  4.96it/s]\u001b[A\n",
            "train sample batches:  60%|██████    | 12/20 [00:02<00:01,  4.83it/s]\u001b[A\n",
            "train sample batches:  65%|██████▌   | 13/20 [00:02<00:01,  4.83it/s]\u001b[A\n",
            "train sample batches:  70%|███████   | 14/20 [00:02<00:01,  4.85it/s]\u001b[A\n",
            "train sample batches:  75%|███████▌  | 15/20 [00:03<00:01,  4.93it/s]\u001b[A\n",
            "train sample batches:  80%|████████  | 16/20 [00:03<00:00,  4.83it/s]\u001b[A\n",
            "train sample batches:  85%|████████▌ | 17/20 [00:03<00:00,  4.70it/s]\u001b[A\n",
            "train sample batches:  90%|█████████ | 18/20 [00:03<00:00,  4.72it/s]\u001b[A\n",
            "train sample batches:  95%|█████████▌| 19/20 [00:03<00:00,  4.77it/s]\u001b[A\n",
            "train sample batches: 100%|██████████| 20/20 [00:04<00:00,  4.86it/s]\n",
            "\n",
            "validation sample batches:   0%|          | 0/9 [00:00<?, ?it/s]\u001b[A\n",
            "validation sample batches:  33%|███▎      | 3/9 [00:00<00:00, 21.58it/s]\u001b[A\n",
            "validation sample batches:  67%|██████▋   | 6/9 [00:00<00:00, 20.31it/s]\u001b[A\n",
            "validation sample batches: 100%|██████████| 9/9 [00:00<00:00, 20.21it/s]\n",
            "epochs:  99%|█████████▉| 99/100 [07:25<00:04,  4.58s/it]"
          ]
        },
        {
          "output_type": "stream",
          "name": "stdout",
          "text": [
            "Epoch train loss 0.9706522569060325\n",
            "Epoch val_loss 1.258777379989624\n"
          ]
        },
        {
          "output_type": "stream",
          "name": "stderr",
          "text": [
            "\n",
            "train sample batches:   0%|          | 0/20 [00:00<?, ?it/s]\u001b[A\n",
            "train sample batches:   5%|▌         | 1/20 [00:00<00:03,  4.78it/s]\u001b[A\n",
            "train sample batches:  10%|█         | 2/20 [00:00<00:03,  4.78it/s]\u001b[A\n",
            "train sample batches:  15%|█▌        | 3/20 [00:00<00:03,  4.95it/s]\u001b[A\n",
            "train sample batches:  20%|██        | 4/20 [00:00<00:03,  4.85it/s]\u001b[A\n",
            "train sample batches:  25%|██▌       | 5/20 [00:01<00:03,  4.80it/s]\u001b[A\n",
            "train sample batches:  30%|███       | 6/20 [00:01<00:02,  4.89it/s]\u001b[A\n",
            "train sample batches:  35%|███▌      | 7/20 [00:01<00:02,  4.83it/s]\u001b[A\n",
            "train sample batches:  40%|████      | 8/20 [00:01<00:02,  4.88it/s]\u001b[A\n",
            "train sample batches:  45%|████▌     | 9/20 [00:01<00:02,  4.80it/s]\u001b[A\n",
            "train sample batches:  50%|█████     | 10/20 [00:02<00:02,  4.76it/s]\u001b[A\n",
            "train sample batches:  55%|█████▌    | 11/20 [00:02<00:01,  4.85it/s]\u001b[A\n",
            "train sample batches:  60%|██████    | 12/20 [00:02<00:01,  4.83it/s]\u001b[A\n",
            "train sample batches:  65%|██████▌   | 13/20 [00:02<00:01,  4.91it/s]\u001b[A\n",
            "train sample batches:  70%|███████   | 14/20 [00:02<00:01,  4.92it/s]\u001b[A\n",
            "train sample batches:  75%|███████▌  | 15/20 [00:03<00:01,  4.80it/s]\u001b[A\n",
            "train sample batches:  80%|████████  | 16/20 [00:03<00:00,  4.82it/s]\u001b[A\n",
            "train sample batches:  85%|████████▌ | 17/20 [00:03<00:00,  4.88it/s]\u001b[A\n",
            "train sample batches:  90%|█████████ | 18/20 [00:03<00:00,  4.93it/s]\u001b[A\n",
            "train sample batches:  95%|█████████▌| 19/20 [00:03<00:00,  4.90it/s]\u001b[A\n",
            "train sample batches: 100%|██████████| 20/20 [00:04<00:00,  4.86it/s]\n",
            "\n",
            "validation sample batches:   0%|          | 0/9 [00:00<?, ?it/s]\u001b[A\n",
            "validation sample batches:  22%|██▏       | 2/9 [00:00<00:00, 17.86it/s]\u001b[A\n",
            "validation sample batches:  44%|████▍     | 4/9 [00:00<00:00, 18.59it/s]\u001b[A\n",
            "validation sample batches:  67%|██████▋   | 6/9 [00:00<00:00, 19.15it/s]\u001b[A\n",
            "validation sample batches: 100%|██████████| 9/9 [00:00<00:00, 19.83it/s]\n",
            "epochs: 100%|██████████| 100/100 [07:30<00:00,  4.50s/it]\n"
          ]
        },
        {
          "output_type": "stream",
          "name": "stdout",
          "text": [
            "Epoch train loss 1.0661132797598838\n",
            "Epoch val_loss 1.4939175844192505\n"
          ]
        },
        {
          "output_type": "display_data",
          "data": {
            "text/plain": [
              "<Figure size 720x360 with 1 Axes>"
            ],
            "image/png": "[encoded data removed]"
          },
          "metadata": {}
        }
      ]
    },
    {
      "cell_type": "markdown",
      "source": [
        "Result is worse then I expected. Final learning rate is bigger then without scheduler and model stoped to improving."
      ],
      "metadata": {
        "id": "3rqt4H-KQ9w-"
      }
    },
    {
      "cell_type": "markdown",
      "source": [
        "Let's look at the translation result and calculate metric. "
      ],
      "metadata": {
        "id": "1tLBNcb6TZrF"
      }
    },
    {
      "cell_type": "code",
      "source": [
        "#from torchtext.data.metrics import bleu_score "
      ],
      "metadata": {
        "id": "ygOeKulrqLW4"
      },
      "execution_count": null,
      "outputs": []
    },
    {
      "cell_type": "code",
      "source": [
        "from nltk.translate.bleu_score import sentence_bleu"
      ],
      "metadata": {
        "id": "DQXICRnxUWbA"
      },
      "execution_count": 25,
      "outputs": []
    },
    {
      "cell_type": "code",
      "execution_count": 26,
      "metadata": {
        "id": "hAQZOoUljTDe"
      },
      "outputs": [],
      "source": [
        "def evaluateRandomly(model, pairs, input_lang, output_lang, n=10):\n",
        "    for i in range(n):\n",
        "        outputs=[]\n",
        "        pair = random.choice(pairs)\n",
        "        print('>', pair[0])\n",
        "        print('=', pair[1])\n",
        "        \n",
        "        input_tensor = tensorFromSentence(input_lang, pair[0], config['MAX_LENGTH'])\n",
        "        input_len=torch.tensor([len(pair[0].split(' '))], dtype=torch.int64)\n",
        "        target_tensor=tensorFromSentence(output_lang, pair[1], config['MAX_LENGTH'])\n",
        "                \n",
        "        output_words, _ = model(input_tensor.reshape(1,20), input_len, target_tensor.reshape(1,20), evalute=True)    \n",
        "        \n",
        "        result=output_words.argmax(2).detach()\n",
        "        result=result.squeeze(0)\n",
        "        \n",
        "        for idx in range(result.shape[0]):\n",
        "            tok=train_output_lang.index2word[result[idx].item()]\n",
        "            if tok=='EOS':\n",
        "              break\n",
        "            outputs.append(tok) \n",
        "        #print(bleu_score(result.tolist(), target_tensor.tolist()))      \n",
        "        output_sentence = ' '.join(outputs)\n",
        "        print('<', output_sentence)\n",
        "        print('')\n",
        "        \n",
        "        print('Blue score of this sentence  - ', sentence_bleu(outputs, pair[1].split(' ')))\n",
        "        print('')\n",
        "        print('======================================')"
      ]
    },
    {
      "cell_type": "code",
      "source": [
        "evaluateRandomly(model, train_pairs, train_input_lang, train_output_lang, n=1)"
      ],
      "metadata": {
        "colab": {
          "base_uri": "https://localhost:8080/"
        },
        "id": "yNKOoRgjpNzY",
        "outputId": "1af163f1-92c6-4806-da81-60747caa7491"
      },
      "execution_count": 27,
      "outputs": [
        {
          "output_type": "stream",
          "name": "stdout",
          "text": [
            "> и боле же чьтите гость \n",
            "= особенно же почитаите гостя \n",
            "< особенно же почитаите гостя  \n",
            "\n",
            "Blue score of this sentence  -  0\n",
            "\n",
            "======================================\n"
          ]
        }
      ]
    },
    {
      "cell_type": "code",
      "source": [
        "evaluateRandomly(model, train_pairs, train_input_lang, train_output_lang)"
      ],
      "metadata": {
        "colab": {
          "base_uri": "https://localhost:8080/"
        },
        "id": "_vMKQHNfoxFL",
        "outputId": "479d0313-7717-4487-e0c2-b0f43cd0cd9a"
      },
      "execution_count": 28,
      "outputs": [
        {
          "output_type": "stream",
          "name": "stdout",
          "text": [
            "> и неправеднаго собрания\n",
            "= и неправедного общества \n",
            "< и неправедного общества                 \n",
            "\n",
            "Blue score of this sentence  -  0.7071067811865476\n",
            "\n",
            "======================================\n",
            "> югъ\n",
            "= ужин\n",
            "< ужин ужин\n",
            "\n",
            "Blue score of this sentence  -  0\n",
            "\n",
            "======================================\n",
            "> господи мои и всехъ человѣкъ хоудьшiи да на толико дѣло доволенъ боудоу\n",
            "= господь мои  и из всех людеи – самыи худшии  чтобы на такое великое дело быть способным \n",
            "< господь мои                  \n",
            "\n",
            "Blue score of this sentence  -  0.47897362544357464\n",
            "\n",
            "======================================\n",
            "> и неправеднаго собрания\n",
            "= и неправедного общества \n",
            "< и неправедного общества                 \n",
            "\n",
            "Blue score of this sentence  -  0.7071067811865476\n",
            "\n",
            "======================================\n",
            "> ѿ дѣтьства бо ѥго нѣсть кто имъ оyдарилъ \n",
            "= с детства его никто не бросил оземь \n",
            "< с детства его никто не бросил оземь  его\n",
            "\n",
            "Blue score of this sentence  -  0.5946035575013605\n",
            "\n",
            "======================================\n",
            "> и поносъ  и оукоризна сие съ любовию приимати \n",
            "= и поношение  и укоризну с любовью принимать \n",
            "< и поношение  и поношение  и поношение  и поношение  и поношение  и поношение  и поношение\n",
            "\n",
            "Blue score of this sentence  -  0.5773502691896257\n",
            "\n",
            "======================================\n",
            "> со всею князьею  но сами поидоша ѡ собѣ \n",
            "= со всеми князьями  но пошли сами по себе \n",
            "< со всеми князьями  но пошли   сами сами но\n",
            "\n",
            "Blue score of this sentence  -  0\n",
            "\n",
            "======================================\n",
            "> а ни ядиношьды имѣѧ крьщениѧ \n",
            "= не был ни разу крещен \n",
            "< не был ни разу крещен  крещен\n",
            "\n",
            "Blue score of this sentence  -  0\n",
            "\n",
            "======================================\n",
            "> и сѣдше думати съ дружиною \n",
            "= когда совещаться с дружинои \n",
            "< когда совещаться с дружинои  дружинои\n",
            "\n",
            "Blue score of this sentence  -  0.668740304976422\n",
            "\n",
            "======================================\n",
            "> лѧжеть на присолньи и дьржить доушю свою надъмѣтьсѧ \n",
            "= ляжет на самом солнце  и удерживает дыхание \n",
            "< ляжет на самом солнце  дыхание    дыхание\n",
            "\n",
            "Blue score of this sentence  -  0.5773502691896257\n",
            "\n",
            "======================================\n"
          ]
        },
        {
          "output_type": "stream",
          "name": "stderr",
          "text": [
            "/usr/local/lib/python3.7/dist-packages/nltk/translate/bleu_score.py:490: UserWarning: \n",
            "Corpus/Sentence contains 0 counts of 2-gram overlaps.\n",
            "BLEU scores might be undesirable; use SmoothingFunction().\n",
            "  warnings.warn(_msg)\n"
          ]
        }
      ]
    },
    {
      "cell_type": "code",
      "source": [
        "evaluateRandomly(model, test_pairs, test_input_lang, test_output_lang)"
      ],
      "metadata": {
        "colab": {
          "base_uri": "https://localhost:8080/"
        },
        "id": "88Z9agWGl3G2",
        "outputId": "acd12e2f-26ab-49ab-db77-5b20cea9a87b"
      },
      "execution_count": 29,
      "outputs": [
        {
          "output_type": "stream",
          "name": "stdout",
          "text": [
            "> брашномь\n",
            "= едои\n",
            "< ужин \n",
            "\n",
            "Blue score of this sentence  -  0\n",
            "\n",
            "======================================\n",
            "> конь на брани разоумѣетъ снѧгоу  дроугоу же въ печали добръ дроугъ пособитъ \n",
            "= сила коня познается в сражении  другу же в печали поможет добрыи друг \n",
            "< не не не не не не не не не не не не не не не не не не не не\n",
            "\n",
            "Blue score of this sentence  -  0\n",
            "\n",
            "======================================\n",
            "> или добръ\n",
            "= и богатого \n",
            "< верному другу на \n",
            "\n",
            "Blue score of this sentence  -  0\n",
            "\n",
            "======================================\n",
            "> или люди оправливати  или на ловъ ѣхати \n",
            "= или собираюсь творить суд между людеи  или ехать на охоту \n",
            "< и же       же   же \n",
            "\n",
            "Blue score of this sentence  -  0\n",
            "\n",
            "======================================\n",
            "> удолжися* остоя в городѣ и бѣ гладъ великъ\n",
            "= затянулась осада города\n",
            "< то   \n",
            "\n",
            "Blue score of this sentence  -  0\n",
            "\n",
            "======================================\n",
            "> лисица  егда боудеть голодна \n",
            "= лисица  если голодна \n",
            "< уродливыи     \n",
            "\n",
            "Blue score of this sentence  -  0\n",
            "\n",
            "======================================\n",
            "> плачющись подроуга своего и ктомоу не спрѧжетьсѧ сь имь николиже\n",
            "= плача по своему супругу  что больше не соединится с ним никогда \n",
            "< которого             \n",
            "\n",
            "Blue score of this sentence  -  0\n",
            "\n",
            "======================================\n",
            "> он же рече: кнѧже да искyсите мѧ· нѣтy ли быка велика и силна \n",
            "= он же сказал: князь  испытаите меня: нет ли быка большого и сильного \n",
            "< не в                  \n",
            "\n",
            "Blue score of this sentence  -  0\n",
            "\n",
            "======================================\n",
            "> оправдивъ животъ\n",
            "= я исправил жизнь свою\n",
            "< то еще он для                \n",
            "\n",
            "Blue score of this sentence  -  0.7071067811865476\n",
            "\n",
            "======================================\n",
            "> повѣда намъ отьць васиянъ \n",
            "= вот что рассказал нам отец вассиан \n",
            "< и когда  и же   \n",
            "\n",
            "Blue score of this sentence  -  0\n",
            "\n",
            "======================================\n"
          ]
        },
        {
          "output_type": "stream",
          "name": "stderr",
          "text": [
            "/usr/local/lib/python3.7/dist-packages/nltk/translate/bleu_score.py:490: UserWarning: \n",
            "Corpus/Sentence contains 0 counts of 2-gram overlaps.\n",
            "BLEU scores might be undesirable; use SmoothingFunction().\n",
            "  warnings.warn(_msg)\n"
          ]
        }
      ]
    },
    {
      "cell_type": "markdown",
      "source": [
        "Not good result. Let's try to use embeddings from Word2Vec model."
      ],
      "metadata": {
        "id": "F0jQYWYncPVZ"
      }
    },
    {
      "cell_type": "markdown",
      "source": [
        "First clean memory"
      ],
      "metadata": {
        "id": "X2do1qo9cdGM"
      }
    },
    {
      "cell_type": "code",
      "execution_count": 30,
      "metadata": {
        "colab": {
          "base_uri": "https://localhost:8080/"
        },
        "id": "nE1Z2e7Dy7zS",
        "outputId": "b8d87c44-f476-48c5-a46f-f8cb5b34a381"
      },
      "outputs": [
        {
          "output_type": "execute_result",
          "data": {
            "text/plain": [
              "219"
            ]
          },
          "metadata": {},
          "execution_count": 30
        }
      ],
      "source": [
        "import gc\n",
        "\n",
        "gc.collect()"
      ]
    },
    {
      "cell_type": "markdown",
      "source": [
        "Create word embadings using Word2Vec"
      ],
      "metadata": {
        "id": "BqRpRin3OsnG"
      }
    },
    {
      "cell_type": "code",
      "source": [
        "from gensim.models import Word2Vec"
      ],
      "metadata": {
        "id": "FpRp3C1iO_cD"
      },
      "execution_count": 31,
      "outputs": []
    },
    {
      "cell_type": "markdown",
      "source": [
        "collect all words from pairs"
      ],
      "metadata": {
        "id": "61ucivWERXgg"
      }
    },
    {
      "cell_type": "code",
      "source": [
        "def collect_all_words(pairs, source=True):\n",
        "  if source:\n",
        "    sent=[pair[0] for pair in pairs]\n",
        "  else:\n",
        "    sent=[pair[1] for pair in pairs]\n",
        "  all_words=  [[word for word in s.split(' ')] for s in sent]\n",
        "  return all_words\n",
        "all_src=  collect_all_words(train_pairs, source=True)\n",
        "all_trg=  collect_all_words(train_pairs, source=False)"
      ],
      "metadata": {
        "id": "mTf9kjsFPBRH"
      },
      "execution_count": 32,
      "outputs": []
    },
    {
      "cell_type": "markdown",
      "source": [
        "Create W2V models for source and target"
      ],
      "metadata": {
        "id": "9UHujfzeReci"
      }
    },
    {
      "cell_type": "code",
      "source": [
        "w2v_model_src = Word2Vec(\n",
        "    min_count=2,\n",
        "    window=2,\n",
        "    size=config['hidden_size'],\n",
        "    negative=10,\n",
        "    alpha=0.03,\n",
        "    min_alpha=0.0007,\n",
        "    sample=6e-5,\n",
        "    sg=1)\n",
        "w2v_model_trg = Word2Vec(\n",
        "    min_count=2,\n",
        "    window=2,\n",
        "    size=config['hidden_size'],\n",
        "    negative=10,\n",
        "    alpha=0.03,\n",
        "    min_alpha=0.0007,\n",
        "    sample=6e-5,\n",
        "    sg=1)"
      ],
      "metadata": {
        "id": "XzsbqJ6k4Zdg"
      },
      "execution_count": 33,
      "outputs": []
    },
    {
      "cell_type": "markdown",
      "source": [
        "Create vocabs for source and target"
      ],
      "metadata": {
        "id": "c7d-qFxpWg1y"
      }
    },
    {
      "cell_type": "code",
      "source": [
        "w2v_model_src.build_vocab(all_src)\n",
        "w2v_model_trg.build_vocab(all_trg)"
      ],
      "metadata": {
        "id": "Mi_5Eukc4fbn"
      },
      "execution_count": 34,
      "outputs": []
    },
    {
      "cell_type": "markdown",
      "source": [
        "Train models"
      ],
      "metadata": {
        "id": "7yhwF3dqWpop"
      }
    },
    {
      "cell_type": "code",
      "source": [
        "w2v_model_src.train(all_src, total_examples=w2v_model_src.corpus_count, epochs=30, report_delay=1)"
      ],
      "metadata": {
        "colab": {
          "base_uri": "https://localhost:8080/"
        },
        "id": "Zp1QE8sx4nRk",
        "outputId": "adc229ee-296c-4444-e7fb-d196bb61b4e3"
      },
      "execution_count": 35,
      "outputs": [
        {
          "output_type": "execute_result",
          "data": {
            "text/plain": [
              "(1252, 39180)"
            ]
          },
          "metadata": {},
          "execution_count": 35
        }
      ]
    },
    {
      "cell_type": "code",
      "source": [
        "w2v_model_trg.train(all_src, total_examples=w2v_model_trg.corpus_count, epochs=30, report_delay=1)"
      ],
      "metadata": {
        "colab": {
          "base_uri": "https://localhost:8080/"
        },
        "id": "F84ls9FjPIdq",
        "outputId": "52ec7917-584e-452e-f7e1-b8691c2c71a7"
      },
      "execution_count": 36,
      "outputs": [
        {
          "output_type": "execute_result",
          "data": {
            "text/plain": [
              "(532, 39180)"
            ]
          },
          "metadata": {},
          "execution_count": 36
        }
      ]
    },
    {
      "cell_type": "markdown",
      "source": [
        "Save memory"
      ],
      "metadata": {
        "id": "XwVXDv88XrwM"
      }
    },
    {
      "cell_type": "code",
      "source": [
        "w2v_model_src.init_sims(replace=True)\n",
        "w2v_model_trg.init_sims(replace=True)"
      ],
      "metadata": {
        "id": "u2r4nYrE4swo"
      },
      "execution_count": 37,
      "outputs": []
    },
    {
      "cell_type": "markdown",
      "source": [
        "Check numbers of words in vocabularies"
      ],
      "metadata": {
        "id": "iYmCCxXbRrv2"
      }
    },
    {
      "cell_type": "code",
      "execution_count": 38,
      "metadata": {
        "colab": {
          "base_uri": "https://localhost:8080/"
        },
        "id": "QZHQXmHVeEJA",
        "outputId": "3a1c16fa-fdb2-4b48-b7bd-f9a8fbc18fab"
      },
      "outputs": [
        {
          "output_type": "execute_result",
          "data": {
            "text/plain": [
              "(96, 113)"
            ]
          },
          "metadata": {},
          "execution_count": 38
        }
      ],
      "source": [
        "len(w2v_model_src.wv.vocab), len(w2v_model_trg.wv.vocab)"
      ]
    },
    {
      "cell_type": "markdown",
      "source": [
        "Create embaddings for the words in vocabularies and out of vocabularies"
      ],
      "metadata": {
        "id": "kED1g9bRSKJ3"
      }
    },
    {
      "cell_type": "code",
      "execution_count": 39,
      "metadata": {
        "id": "PON-IW0NfloP"
      },
      "outputs": [],
      "source": [
        "def get_weights(word2vec, vocab):\n",
        "  mean = word2vec.wv.vectors.mean(1).mean()\n",
        "  std = word2vec.wv.vectors.std(1).mean()\n",
        "  vec_size = word2vec.wv.vector_size\n",
        "  weights = torch.zeros((len(vocab)+2, vec_size))\n",
        "  for i, word in enumerate(vocab):\n",
        "    try:\n",
        "      weights[i] = torch.tensor(word2vec.wv[word])\n",
        "    except KeyError:\n",
        "        weights[i] = torch.randn(vec_size) * std + mean\n",
        "  weights[len(vocab)]  =torch.zeros(vec_size)  \n",
        "  weights[len(vocab)]  =torch.ones(vec_size)  \n",
        "  return   weights    "
      ]
    },
    {
      "cell_type": "code",
      "execution_count": 40,
      "metadata": {
        "id": "snQilI_LvYwT"
      },
      "outputs": [],
      "source": [
        "weights_src=get_weights(w2v_model_src, train_input_lang.word2index.keys())\n",
        "weights_trg=get_weights(w2v_model_trg, train_output_lang.word2index.keys())"
      ]
    },
    {
      "cell_type": "markdown",
      "source": [
        "Check shape of weights"
      ],
      "metadata": {
        "id": "GXG3UpuISwqW"
      }
    },
    {
      "cell_type": "code",
      "execution_count": 41,
      "metadata": {
        "colab": {
          "base_uri": "https://localhost:8080/"
        },
        "id": "NseeV2CCf3WJ",
        "outputId": "6881268e-777c-44f5-ddfd-5f4f1b3612e6"
      },
      "outputs": [
        {
          "output_type": "execute_result",
          "data": {
            "text/plain": [
              "(torch.Size([776, 256]), torch.Size([744, 256]))"
            ]
          },
          "metadata": {},
          "execution_count": 41
        }
      ],
      "source": [
        "weights_src.shape, weights_trg.shape"
      ]
    },
    {
      "cell_type": "markdown",
      "source": [
        "Create embaddings"
      ],
      "metadata": {
        "id": "jJTMd2_TS4GB"
      }
    },
    {
      "cell_type": "code",
      "execution_count": 42,
      "metadata": {
        "id": "8iyCPbfdscqL"
      },
      "outputs": [],
      "source": [
        "embedding_src = nn.Embedding.from_pretrained(weights_src)\n",
        "embedding_trg = nn.Embedding.from_pretrained(weights_trg)"
      ]
    },
    {
      "cell_type": "markdown",
      "source": [
        "Check embeddings shapes"
      ],
      "metadata": {
        "id": "H9wo2n1AS-3f"
      }
    },
    {
      "cell_type": "code",
      "execution_count": 43,
      "metadata": {
        "colab": {
          "base_uri": "https://localhost:8080/"
        },
        "id": "jk61ilGS1M8U",
        "outputId": "6aec6532-a83e-42a3-c620-81a112926022"
      },
      "outputs": [
        {
          "output_type": "execute_result",
          "data": {
            "text/plain": [
              "(Embedding(776, 256), Embedding(744, 256))"
            ]
          },
          "metadata": {},
          "execution_count": 43
        }
      ],
      "source": [
        "embedding_src, embedding_trg"
      ]
    },
    {
      "cell_type": "markdown",
      "source": [
        "I use these embeddings in model. Model needs some changes, to make model use given embeddings or create embeddings if not given."
      ],
      "metadata": {
        "id": "y7cKfshUcn7y"
      }
    },
    {
      "cell_type": "code",
      "source": [
        "#model with batches old rus emb W2v\n",
        "\n",
        "encoder1 = EncoderRNN(train_input_lang.n_words, config['hidden_size'], embedding_src)\n",
        "attn_decoder1 = AttnDecoderRNN(config['hidden_size'], train_output_lang.n_words, config['MAX_LENGTH'], dropout_p=0.1, embedding=embedding_trg)\n",
        "model=TONModel(encoder1, attn_decoder1, config['teacher_forcing_ratio']).to(device)\n",
        "\n",
        "optimizer = optim.Adam(model.parameters(), lr=config['lr'])\n",
        "scheduler = torch.optim.lr_scheduler.ReduceLROnPlateau(optimizer, mode='min',\\\n",
        "                            factor=0.95, threshold=0.1, min_lr=2e-5, verbose=True)\n",
        "criterion = nn.NLLLoss(ignore_index=0)\n",
        "train_modelIters(model, optimizer, train_loader, test_loader, criterion, config['num_epochs'], scheduler)"
      ],
      "metadata": {
        "colab": {
          "base_uri": "https://localhost:8080/",
          "height": 1000
        },
        "id": "quNTzKDAbXzc",
        "outputId": "906023f5-2a11-43e3-b6fb-798c82735a95"
      },
      "execution_count": 44,
      "outputs": [
        {
          "output_type": "stream",
          "name": "stderr",
          "text": [
            "epochs:   0%|          | 0/100 [00:00<?, ?it/s]\n",
            "train sample batches:   0%|          | 0/20 [00:00<?, ?it/s]\u001b[A\n",
            "train sample batches:   5%|▌         | 1/20 [00:00<00:03,  5.65it/s]\u001b[A\n",
            "train sample batches:  10%|█         | 2/20 [00:00<00:03,  5.59it/s]\u001b[A\n",
            "train sample batches:  15%|█▌        | 3/20 [00:00<00:02,  5.70it/s]\u001b[A\n",
            "train sample batches:  20%|██        | 4/20 [00:00<00:02,  5.60it/s]\u001b[A\n",
            "train sample batches:  25%|██▌       | 5/20 [00:00<00:02,  5.59it/s]\u001b[A\n",
            "train sample batches:  30%|███       | 6/20 [00:01<00:02,  5.49it/s]\u001b[A\n",
            "train sample batches:  35%|███▌      | 7/20 [00:01<00:02,  5.46it/s]\u001b[A\n",
            "train sample batches:  40%|████      | 8/20 [00:01<00:02,  5.45it/s]\u001b[A\n",
            "train sample batches:  45%|████▌     | 9/20 [00:01<00:02,  5.46it/s]\u001b[A\n",
            "train sample batches:  50%|█████     | 10/20 [00:01<00:01,  5.50it/s]\u001b[A\n",
            "train sample batches:  55%|█████▌    | 11/20 [00:02<00:01,  5.38it/s]\u001b[A\n",
            "train sample batches:  60%|██████    | 12/20 [00:02<00:01,  5.51it/s]\u001b[A\n",
            "train sample batches:  65%|██████▌   | 13/20 [00:02<00:01,  5.49it/s]\u001b[A\n",
            "train sample batches:  70%|███████   | 14/20 [00:02<00:01,  5.47it/s]\u001b[A\n",
            "train sample batches:  75%|███████▌  | 15/20 [00:02<00:00,  5.51it/s]\u001b[A\n",
            "train sample batches:  80%|████████  | 16/20 [00:02<00:00,  5.48it/s]\u001b[A\n",
            "train sample batches:  85%|████████▌ | 17/20 [00:03<00:00,  5.37it/s]\u001b[A\n",
            "train sample batches:  90%|█████████ | 18/20 [00:03<00:00,  5.48it/s]\u001b[A\n",
            "train sample batches:  95%|█████████▌| 19/20 [00:03<00:00,  5.52it/s]\u001b[A\n",
            "train sample batches: 100%|██████████| 20/20 [00:03<00:00,  5.50it/s]\n",
            "\n",
            "validation sample batches:   0%|          | 0/9 [00:00<?, ?it/s]\u001b[A\n",
            "validation sample batches:  33%|███▎      | 3/9 [00:00<00:00, 27.24it/s]\u001b[A\n",
            "validation sample batches:  67%|██████▋   | 6/9 [00:00<00:00, 23.68it/s]\u001b[A\n",
            "validation sample batches: 100%|██████████| 9/9 [00:00<00:00, 23.84it/s]\n",
            "epochs:   1%|          | 1/100 [00:04<06:42,  4.06s/it]"
          ]
        },
        {
          "output_type": "stream",
          "name": "stdout",
          "text": [
            "Epoch train loss 6.232850098609925\n",
            "Epoch val_loss 5.962906837463379\n"
          ]
        },
        {
          "output_type": "stream",
          "name": "stderr",
          "text": [
            "\n",
            "train sample batches:   0%|          | 0/20 [00:00<?, ?it/s]\u001b[A\n",
            "train sample batches:   5%|▌         | 1/20 [00:00<00:03,  5.94it/s]\u001b[A\n",
            "train sample batches:  10%|█         | 2/20 [00:00<00:03,  5.69it/s]\u001b[A\n",
            "train sample batches:  15%|█▌        | 3/20 [00:00<00:02,  5.73it/s]\u001b[A\n",
            "train sample batches:  20%|██        | 4/20 [00:00<00:02,  5.57it/s]\u001b[A\n",
            "train sample batches:  25%|██▌       | 5/20 [00:00<00:02,  5.40it/s]\u001b[A\n",
            "train sample batches:  30%|███       | 6/20 [00:01<00:02,  5.33it/s]\u001b[A\n",
            "train sample batches:  35%|███▌      | 7/20 [00:01<00:02,  5.38it/s]\u001b[A\n",
            "train sample batches:  40%|████      | 8/20 [00:01<00:02,  5.37it/s]\u001b[A\n",
            "train sample batches:  45%|████▌     | 9/20 [00:01<00:02,  5.44it/s]\u001b[A\n",
            "train sample batches:  50%|█████     | 10/20 [00:01<00:01,  5.41it/s]\u001b[A\n",
            "train sample batches:  55%|█████▌    | 11/20 [00:02<00:01,  5.39it/s]\u001b[A\n",
            "train sample batches:  60%|██████    | 12/20 [00:02<00:01,  5.29it/s]\u001b[A\n",
            "train sample batches:  65%|██████▌   | 13/20 [00:02<00:01,  5.34it/s]\u001b[A\n",
            "train sample batches:  70%|███████   | 14/20 [00:02<00:01,  5.41it/s]\u001b[A\n",
            "train sample batches:  75%|███████▌  | 15/20 [00:02<00:00,  5.46it/s]\u001b[A\n",
            "train sample batches:  80%|████████  | 16/20 [00:02<00:00,  5.45it/s]\u001b[A\n",
            "train sample batches:  85%|████████▌ | 17/20 [00:03<00:00,  5.41it/s]\u001b[A\n",
            "train sample batches:  90%|█████████ | 18/20 [00:03<00:00,  5.34it/s]\u001b[A\n",
            "train sample batches:  95%|█████████▌| 19/20 [00:03<00:00,  5.44it/s]\u001b[A\n",
            "train sample batches: 100%|██████████| 20/20 [00:03<00:00,  5.43it/s]\n",
            "\n",
            "validation sample batches:   0%|          | 0/9 [00:00<?, ?it/s]\u001b[A\n",
            "validation sample batches:  33%|███▎      | 3/9 [00:00<00:00, 24.38it/s]\u001b[A\n",
            "validation sample batches:  67%|██████▋   | 6/9 [00:00<00:00, 24.93it/s]\u001b[A"
          ]
        },
        {
          "output_type": "stream",
          "name": "stdout",
          "text": [
            "Epoch 00012: reducing learning rate of group 0 to 9.5000e-04.\n"
          ]
        },
        {
          "output_type": "stream",
          "name": "stderr",
          "text": [
            "\n",
            "validation sample batches: 100%|██████████| 9/9 [00:00<00:00, 23.98it/s]\n",
            "epochs:   2%|▏         | 2/100 [00:08<06:41,  4.10s/it]"
          ]
        },
        {
          "output_type": "stream",
          "name": "stdout",
          "text": [
            "Epoch train loss 5.665616917610168\n",
            "Epoch val_loss 5.912442684173584\n"
          ]
        },
        {
          "output_type": "stream",
          "name": "stderr",
          "text": [
            "\n",
            "train sample batches:   0%|          | 0/20 [00:00<?, ?it/s]\u001b[A\n",
            "train sample batches:   5%|▌         | 1/20 [00:00<00:03,  5.77it/s]\u001b[A\n",
            "train sample batches:  10%|█         | 2/20 [00:00<00:03,  5.59it/s]\u001b[A\n",
            "train sample batches:  15%|█▌        | 3/20 [00:00<00:03,  5.52it/s]\u001b[A\n",
            "train sample batches:  20%|██        | 4/20 [00:00<00:02,  5.54it/s]\u001b[A\n",
            "train sample batches:  25%|██▌       | 5/20 [00:00<00:02,  5.60it/s]\u001b[A\n",
            "train sample batches:  30%|███       | 6/20 [00:01<00:02,  5.54it/s]\u001b[A\n",
            "train sample batches:  35%|███▌      | 7/20 [00:01<00:02,  5.45it/s]\u001b[A\n",
            "train sample batches:  40%|████      | 8/20 [00:01<00:02,  5.47it/s]\u001b[A\n",
            "train sample batches:  45%|████▌     | 9/20 [00:01<00:02,  5.42it/s]\u001b[A\n",
            "train sample batches:  50%|█████     | 10/20 [00:01<00:01,  5.44it/s]\u001b[A\n",
            "train sample batches:  55%|█████▌    | 11/20 [00:02<00:01,  5.49it/s]\u001b[A\n",
            "train sample batches:  60%|██████    | 12/20 [00:02<00:01,  5.41it/s]\u001b[A\n",
            "train sample batches:  65%|██████▌   | 13/20 [00:02<00:01,  5.48it/s]\u001b[A\n",
            "train sample batches:  70%|███████   | 14/20 [00:02<00:01,  5.49it/s]\u001b[A\n",
            "train sample batches:  75%|███████▌  | 15/20 [00:02<00:00,  5.53it/s]\u001b[A\n",
            "train sample batches:  80%|████████  | 16/20 [00:02<00:00,  5.57it/s]\u001b[A\n",
            "train sample batches:  85%|████████▌ | 17/20 [00:03<00:00,  5.53it/s]\u001b[A\n",
            "train sample batches:  90%|█████████ | 18/20 [00:03<00:00,  5.60it/s]\u001b[A\n",
            "train sample batches:  95%|█████████▌| 19/20 [00:03<00:00,  5.58it/s]\u001b[A\n",
            "train sample batches: 100%|██████████| 20/20 [00:03<00:00,  5.52it/s]\n",
            "\n",
            "validation sample batches:   0%|          | 0/9 [00:00<?, ?it/s]\u001b[A\n",
            "validation sample batches:  33%|███▎      | 3/9 [00:00<00:00, 24.64it/s]\u001b[A\n",
            "validation sample batches:  67%|██████▋   | 6/9 [00:00<00:00, 23.22it/s]\u001b[A\n",
            "validation sample batches: 100%|██████████| 9/9 [00:00<00:00, 23.10it/s]\n",
            "epochs:   3%|▎         | 3/100 [00:12<06:35,  4.08s/it]"
          ]
        },
        {
          "output_type": "stream",
          "name": "stdout",
          "text": [
            "Epoch 00023: reducing learning rate of group 0 to 9.0250e-04.\n",
            "Epoch train loss 5.569531869888306\n",
            "Epoch val_loss 5.846585273742676\n"
          ]
        },
        {
          "output_type": "stream",
          "name": "stderr",
          "text": [
            "\n",
            "train sample batches:   0%|          | 0/20 [00:00<?, ?it/s]\u001b[A\n",
            "train sample batches:   5%|▌         | 1/20 [00:00<00:03,  5.77it/s]\u001b[A\n",
            "train sample batches:  10%|█         | 2/20 [00:00<00:03,  5.70it/s]\u001b[A\n",
            "train sample batches:  15%|█▌        | 3/20 [00:00<00:02,  5.74it/s]\u001b[A\n",
            "train sample batches:  20%|██        | 4/20 [00:00<00:02,  5.65it/s]\u001b[A\n",
            "train sample batches:  25%|██▌       | 5/20 [00:00<00:02,  5.74it/s]\u001b[A\n",
            "train sample batches:  30%|███       | 6/20 [00:01<00:02,  5.57it/s]\u001b[A\n",
            "train sample batches:  35%|███▌      | 7/20 [00:01<00:02,  5.60it/s]\u001b[A\n",
            "train sample batches:  40%|████      | 8/20 [00:01<00:02,  5.64it/s]\u001b[A\n",
            "train sample batches:  45%|████▌     | 9/20 [00:01<00:01,  5.60it/s]\u001b[A\n",
            "train sample batches:  50%|█████     | 10/20 [00:01<00:01,  5.54it/s]\u001b[A\n",
            "train sample batches:  55%|█████▌    | 11/20 [00:01<00:01,  5.55it/s]\u001b[A\n",
            "train sample batches:  60%|██████    | 12/20 [00:02<00:01,  5.51it/s]\u001b[A\n",
            "train sample batches:  65%|██████▌   | 13/20 [00:02<00:01,  5.56it/s]\u001b[A\n",
            "train sample batches:  70%|███████   | 14/20 [00:02<00:01,  5.45it/s]\u001b[A\n",
            "train sample batches:  75%|███████▌  | 15/20 [00:02<00:00,  5.48it/s]\u001b[A\n",
            "train sample batches:  80%|████████  | 16/20 [00:02<00:00,  5.51it/s]\u001b[A\n",
            "train sample batches:  85%|████████▌ | 17/20 [00:03<00:00,  5.54it/s]\u001b[A\n",
            "train sample batches:  90%|█████████ | 18/20 [00:03<00:00,  5.45it/s]\u001b[A\n",
            "train sample batches:  95%|█████████▌| 19/20 [00:03<00:00,  5.46it/s]\u001b[A\n",
            "train sample batches: 100%|██████████| 20/20 [00:03<00:00,  5.56it/s]\n",
            "\n",
            "validation sample batches:   0%|          | 0/9 [00:00<?, ?it/s]\u001b[A\n",
            "validation sample batches:  33%|███▎      | 3/9 [00:00<00:00, 24.18it/s]\u001b[A\n",
            "validation sample batches:  67%|██████▋   | 6/9 [00:00<00:00, 23.56it/s]\u001b[A\n",
            "validation sample batches: 100%|██████████| 9/9 [00:00<00:00, 23.22it/s]\n",
            "epochs:   4%|▍         | 4/100 [00:16<06:29,  4.06s/it]"
          ]
        },
        {
          "output_type": "stream",
          "name": "stdout",
          "text": [
            "Epoch 00034: reducing learning rate of group 0 to 8.5737e-04.\n",
            "Epoch train loss 5.492476534843445\n",
            "Epoch val_loss 5.6505126953125\n"
          ]
        },
        {
          "output_type": "stream",
          "name": "stderr",
          "text": [
            "\n",
            "train sample batches:   0%|          | 0/20 [00:00<?, ?it/s]\u001b[A\n",
            "train sample batches:   5%|▌         | 1/20 [00:00<00:03,  5.32it/s]\u001b[A\n",
            "train sample batches:  10%|█         | 2/20 [00:00<00:03,  5.61it/s]\u001b[A\n",
            "train sample batches:  15%|█▌        | 3/20 [00:00<00:03,  5.51it/s]\u001b[A\n",
            "train sample batches:  20%|██        | 4/20 [00:00<00:02,  5.60it/s]\u001b[A\n",
            "train sample batches:  25%|██▌       | 5/20 [00:00<00:02,  5.62it/s]\u001b[A\n",
            "train sample batches:  30%|███       | 6/20 [00:01<00:02,  5.68it/s]\u001b[A\n",
            "train sample batches:  35%|███▌      | 7/20 [00:01<00:02,  5.51it/s]\u001b[A\n",
            "train sample batches:  40%|████      | 8/20 [00:01<00:02,  5.49it/s]\u001b[A\n",
            "train sample batches:  45%|████▌     | 9/20 [00:01<00:01,  5.55it/s]\u001b[A\n",
            "train sample batches:  50%|█████     | 10/20 [00:01<00:01,  5.48it/s]\u001b[A\n",
            "train sample batches:  55%|█████▌    | 11/20 [00:01<00:01,  5.52it/s]\u001b[A\n",
            "train sample batches:  60%|██████    | 12/20 [00:02<00:01,  5.42it/s]\u001b[A\n",
            "train sample batches:  65%|██████▌   | 13/20 [00:02<00:01,  5.54it/s]\u001b[A\n",
            "train sample batches:  70%|███████   | 14/20 [00:02<00:01,  5.45it/s]\u001b[A\n",
            "train sample batches:  75%|███████▌  | 15/20 [00:02<00:00,  5.42it/s]\u001b[A\n",
            "train sample batches:  80%|████████  | 16/20 [00:02<00:00,  5.46it/s]\u001b[A\n",
            "train sample batches:  85%|████████▌ | 17/20 [00:03<00:00,  5.49it/s]\u001b[A\n",
            "train sample batches:  90%|█████████ | 18/20 [00:03<00:00,  5.53it/s]\u001b[A\n",
            "train sample batches:  95%|█████████▌| 19/20 [00:03<00:00,  5.41it/s]\u001b[A\n",
            "train sample batches: 100%|██████████| 20/20 [00:03<00:00,  5.50it/s]\n",
            "\n",
            "validation sample batches:   0%|          | 0/9 [00:00<?, ?it/s]\u001b[A\n",
            "validation sample batches:  33%|███▎      | 3/9 [00:00<00:00, 24.04it/s]\u001b[A\n",
            "validation sample batches:  67%|██████▋   | 6/9 [00:00<00:00, 23.29it/s]\u001b[A\n",
            "validation sample batches: 100%|██████████| 9/9 [00:00<00:00, 24.10it/s]\n",
            "epochs:   5%|▌         | 5/100 [00:20<06:25,  4.06s/it]"
          ]
        },
        {
          "output_type": "stream",
          "name": "stdout",
          "text": [
            "Epoch 00045: reducing learning rate of group 0 to 8.1451e-04.\n",
            "Epoch train loss 5.45218858718872\n",
            "Epoch val_loss 5.282711029052734\n"
          ]
        },
        {
          "output_type": "stream",
          "name": "stderr",
          "text": [
            "\n",
            "train sample batches:   0%|          | 0/20 [00:00<?, ?it/s]\u001b[A\n",
            "train sample batches:   5%|▌         | 1/20 [00:00<00:03,  5.49it/s]\u001b[A\n",
            "train sample batches:  10%|█         | 2/20 [00:00<00:03,  5.57it/s]\u001b[A\n",
            "train sample batches:  15%|█▌        | 3/20 [00:00<00:03,  5.67it/s]\u001b[A\n",
            "train sample batches:  20%|██        | 4/20 [00:00<00:02,  5.62it/s]\u001b[A\n",
            "train sample batches:  25%|██▌       | 5/20 [00:00<00:02,  5.72it/s]\u001b[A\n",
            "train sample batches:  30%|███       | 6/20 [00:01<00:02,  5.73it/s]\u001b[A\n",
            "train sample batches:  35%|███▌      | 7/20 [00:01<00:02,  5.65it/s]\u001b[A\n",
            "train sample batches:  40%|████      | 8/20 [00:01<00:02,  5.66it/s]\u001b[A\n",
            "train sample batches:  45%|████▌     | 9/20 [00:01<00:01,  5.68it/s]\u001b[A\n",
            "train sample batches:  50%|█████     | 10/20 [00:01<00:01,  5.67it/s]\u001b[A\n",
            "train sample batches:  55%|█████▌    | 11/20 [00:01<00:01,  5.68it/s]\u001b[A\n",
            "train sample batches:  60%|██████    | 12/20 [00:02<00:01,  5.66it/s]\u001b[A\n",
            "train sample batches:  65%|██████▌   | 13/20 [00:02<00:01,  5.53it/s]\u001b[A\n",
            "train sample batches:  70%|███████   | 14/20 [00:02<00:01,  5.50it/s]\u001b[A\n",
            "train sample batches:  75%|███████▌  | 15/20 [00:02<00:00,  5.54it/s]\u001b[A\n",
            "train sample batches:  80%|████████  | 16/20 [00:02<00:00,  5.56it/s]\u001b[A\n",
            "train sample batches:  85%|████████▌ | 17/20 [00:03<00:00,  5.65it/s]\u001b[A\n",
            "train sample batches:  90%|█████████ | 18/20 [00:03<00:00,  5.47it/s]\u001b[A\n",
            "train sample batches:  95%|█████████▌| 19/20 [00:03<00:00,  5.48it/s]\u001b[A\n",
            "train sample batches: 100%|██████████| 20/20 [00:03<00:00,  5.59it/s]\n",
            "\n",
            "validation sample batches:   0%|          | 0/9 [00:00<?, ?it/s]\u001b[A\n",
            "validation sample batches:  33%|███▎      | 3/9 [00:00<00:00, 23.46it/s]\u001b[A\n",
            "validation sample batches:  67%|██████▋   | 6/9 [00:00<00:00, 24.42it/s]\u001b[A\n",
            "validation sample batches: 100%|██████████| 9/9 [00:00<00:00, 24.22it/s]\n",
            "epochs:   6%|▌         | 6/100 [00:24<06:19,  4.04s/it]"
          ]
        },
        {
          "output_type": "stream",
          "name": "stdout",
          "text": [
            "Epoch train loss 5.38104784488678\n",
            "Epoch val_loss 5.898865222930908\n"
          ]
        },
        {
          "output_type": "stream",
          "name": "stderr",
          "text": [
            "\n",
            "train sample batches:   0%|          | 0/20 [00:00<?, ?it/s]\u001b[A\n",
            "train sample batches:   5%|▌         | 1/20 [00:00<00:03,  5.32it/s]\u001b[A\n",
            "train sample batches:  10%|█         | 2/20 [00:00<00:03,  5.27it/s]\u001b[A\n",
            "train sample batches:  15%|█▌        | 3/20 [00:00<00:03,  5.21it/s]\u001b[A\n",
            "train sample batches:  20%|██        | 4/20 [00:00<00:03,  5.24it/s]\u001b[A\n",
            "train sample batches:  25%|██▌       | 5/20 [00:00<00:02,  5.32it/s]\u001b[A\n",
            "train sample batches:  30%|███       | 6/20 [00:01<00:02,  5.41it/s]\u001b[A\n",
            "train sample batches:  35%|███▌      | 7/20 [00:01<00:02,  5.35it/s]\u001b[A\n",
            "train sample batches:  40%|████      | 8/20 [00:01<00:02,  5.37it/s]\u001b[A\n",
            "train sample batches:  45%|████▌     | 9/20 [00:01<00:02,  5.45it/s]\u001b[A\n",
            "train sample batches:  50%|█████     | 10/20 [00:01<00:01,  5.42it/s]\u001b[A\n",
            "train sample batches:  55%|█████▌    | 11/20 [00:02<00:01,  5.53it/s]\u001b[A\n",
            "train sample batches:  60%|██████    | 12/20 [00:02<00:01,  5.52it/s]\u001b[A\n",
            "train sample batches:  65%|██████▌   | 13/20 [00:02<00:01,  5.44it/s]\u001b[A\n",
            "train sample batches:  70%|███████   | 14/20 [00:02<00:01,  5.43it/s]\u001b[A\n",
            "train sample batches:  75%|███████▌  | 15/20 [00:02<00:00,  5.50it/s]\u001b[A\n",
            "train sample batches:  80%|████████  | 16/20 [00:02<00:00,  5.53it/s]\u001b[A\n",
            "train sample batches:  85%|████████▌ | 17/20 [00:03<00:00,  5.59it/s]\u001b[A\n",
            "train sample batches:  90%|█████████ | 18/20 [00:03<00:00,  5.56it/s]\u001b[A\n",
            "train sample batches:  95%|█████████▌| 19/20 [00:03<00:00,  5.44it/s]\u001b[A\n",
            "train sample batches: 100%|██████████| 20/20 [00:03<00:00,  5.45it/s]\n",
            "\n",
            "validation sample batches:   0%|          | 0/9 [00:00<?, ?it/s]\u001b[A\n",
            "validation sample batches:  33%|███▎      | 3/9 [00:00<00:00, 27.38it/s]\u001b[A\n",
            "validation sample batches:  67%|██████▋   | 6/9 [00:00<00:00, 25.95it/s]\u001b[A"
          ]
        },
        {
          "output_type": "stream",
          "name": "stdout",
          "text": [
            "Epoch 00056: reducing learning rate of group 0 to 7.7378e-04.\n"
          ]
        },
        {
          "output_type": "stream",
          "name": "stderr",
          "text": [
            "\n",
            "validation sample batches: 100%|██████████| 9/9 [00:00<00:00, 25.39it/s]\n",
            "epochs:   7%|▋         | 7/100 [00:28<06:16,  4.05s/it]"
          ]
        },
        {
          "output_type": "stream",
          "name": "stdout",
          "text": [
            "Epoch train loss 5.335405230522156\n",
            "Epoch val_loss 5.720124244689941\n"
          ]
        },
        {
          "output_type": "stream",
          "name": "stderr",
          "text": [
            "\n",
            "train sample batches:   0%|          | 0/20 [00:00<?, ?it/s]\u001b[A\n",
            "train sample batches:   5%|▌         | 1/20 [00:00<00:03,  5.65it/s]\u001b[A\n",
            "train sample batches:  10%|█         | 2/20 [00:00<00:03,  5.56it/s]\u001b[A\n",
            "train sample batches:  15%|█▌        | 3/20 [00:00<00:03,  5.39it/s]\u001b[A\n",
            "train sample batches:  20%|██        | 4/20 [00:00<00:02,  5.47it/s]\u001b[A\n",
            "train sample batches:  25%|██▌       | 5/20 [00:00<00:02,  5.45it/s]\u001b[A\n",
            "train sample batches:  30%|███       | 6/20 [00:01<00:02,  5.64it/s]\u001b[A\n",
            "train sample batches:  35%|███▌      | 7/20 [00:01<00:02,  5.60it/s]\u001b[A\n",
            "train sample batches:  40%|████      | 8/20 [00:01<00:02,  5.56it/s]\u001b[A\n",
            "train sample batches:  45%|████▌     | 9/20 [00:01<00:01,  5.57it/s]\u001b[A\n",
            "train sample batches:  50%|█████     | 10/20 [00:01<00:01,  5.55it/s]\u001b[A\n",
            "train sample batches:  55%|█████▌    | 11/20 [00:01<00:01,  5.59it/s]\u001b[A\n",
            "train sample batches:  60%|██████    | 12/20 [00:02<00:01,  5.53it/s]\u001b[A\n",
            "train sample batches:  65%|██████▌   | 13/20 [00:02<00:01,  5.50it/s]\u001b[A\n",
            "train sample batches:  70%|███████   | 14/20 [00:02<00:01,  5.52it/s]\u001b[A\n",
            "train sample batches:  75%|███████▌  | 15/20 [00:02<00:00,  5.59it/s]\u001b[A\n",
            "train sample batches:  80%|████████  | 16/20 [00:02<00:00,  5.62it/s]\u001b[A\n",
            "train sample batches:  85%|████████▌ | 17/20 [00:03<00:00,  5.54it/s]\u001b[A\n",
            "train sample batches:  90%|█████████ | 18/20 [00:03<00:00,  5.58it/s]\u001b[A\n",
            "train sample batches:  95%|█████████▌| 19/20 [00:03<00:00,  5.47it/s]\u001b[A\n",
            "train sample batches: 100%|██████████| 20/20 [00:03<00:00,  5.54it/s]\n",
            "\n",
            "validation sample batches:   0%|          | 0/9 [00:00<?, ?it/s]\u001b[A\n",
            "validation sample batches:  33%|███▎      | 3/9 [00:00<00:00, 25.56it/s]\u001b[A\n",
            "validation sample batches:  67%|██████▋   | 6/9 [00:00<00:00, 24.14it/s]\u001b[A"
          ]
        },
        {
          "output_type": "stream",
          "name": "stdout",
          "text": [
            "Epoch 00067: reducing learning rate of group 0 to 7.3509e-04.\n"
          ]
        },
        {
          "output_type": "stream",
          "name": "stderr",
          "text": [
            "\n",
            "validation sample batches: 100%|██████████| 9/9 [00:00<00:00, 23.55it/s]\n",
            "epochs:   8%|▊         | 8/100 [00:32<06:12,  4.05s/it]"
          ]
        },
        {
          "output_type": "stream",
          "name": "stdout",
          "text": [
            "Epoch train loss 5.251627850532532\n",
            "Epoch val_loss 5.4190497398376465\n"
          ]
        },
        {
          "output_type": "stream",
          "name": "stderr",
          "text": [
            "\n",
            "train sample batches:   0%|          | 0/20 [00:00<?, ?it/s]\u001b[A\n",
            "train sample batches:   5%|▌         | 1/20 [00:00<00:03,  5.68it/s]\u001b[A\n",
            "train sample batches:  10%|█         | 2/20 [00:00<00:03,  5.43it/s]\u001b[A\n",
            "train sample batches:  15%|█▌        | 3/20 [00:00<00:03,  5.56it/s]\u001b[A\n",
            "train sample batches:  20%|██        | 4/20 [00:00<00:02,  5.54it/s]\u001b[A\n",
            "train sample batches:  25%|██▌       | 5/20 [00:00<00:02,  5.59it/s]\u001b[A\n",
            "train sample batches:  30%|███       | 6/20 [00:01<00:02,  5.65it/s]\u001b[A\n",
            "train sample batches:  35%|███▌      | 7/20 [00:01<00:02,  5.54it/s]\u001b[A\n",
            "train sample batches:  40%|████      | 8/20 [00:01<00:02,  5.46it/s]\u001b[A\n",
            "train sample batches:  45%|████▌     | 9/20 [00:01<00:02,  5.48it/s]\u001b[A\n",
            "train sample batches:  50%|█████     | 10/20 [00:01<00:01,  5.49it/s]\u001b[A\n",
            "train sample batches:  55%|█████▌    | 11/20 [00:01<00:01,  5.45it/s]\u001b[A\n",
            "train sample batches:  60%|██████    | 12/20 [00:02<00:01,  5.47it/s]\u001b[A\n",
            "train sample batches:  65%|██████▌   | 13/20 [00:02<00:01,  5.50it/s]\u001b[A\n",
            "train sample batches:  70%|███████   | 14/20 [00:02<00:01,  5.40it/s]\u001b[A\n",
            "train sample batches:  75%|███████▌  | 15/20 [00:02<00:00,  5.48it/s]\u001b[A\n",
            "train sample batches:  80%|████████  | 16/20 [00:02<00:00,  5.46it/s]\u001b[A\n",
            "train sample batches:  85%|████████▌ | 17/20 [00:03<00:00,  5.52it/s]\u001b[A\n",
            "train sample batches:  90%|█████████ | 18/20 [00:03<00:00,  5.50it/s]\u001b[A\n",
            "train sample batches:  95%|█████████▌| 19/20 [00:03<00:00,  5.48it/s]\u001b[A\n",
            "train sample batches: 100%|██████████| 20/20 [00:03<00:00,  5.51it/s]\n",
            "\n",
            "validation sample batches:   0%|          | 0/9 [00:00<?, ?it/s]\u001b[A\n",
            "validation sample batches:  33%|███▎      | 3/9 [00:00<00:00, 25.41it/s]\u001b[A\n",
            "validation sample batches:  67%|██████▋   | 6/9 [00:00<00:00, 24.47it/s]\u001b[A\n",
            "validation sample batches: 100%|██████████| 9/9 [00:00<00:00, 23.85it/s]\n",
            "epochs:   9%|▉         | 9/100 [00:36<06:08,  4.05s/it]"
          ]
        },
        {
          "output_type": "stream",
          "name": "stdout",
          "text": [
            "Epoch 00078: reducing learning rate of group 0 to 6.9834e-04.\n",
            "Epoch train loss 5.173185968399048\n",
            "Epoch val_loss 5.399786949157715\n"
          ]
        },
        {
          "output_type": "stream",
          "name": "stderr",
          "text": [
            "\n",
            "train sample batches:   0%|          | 0/20 [00:00<?, ?it/s]\u001b[A\n",
            "train sample batches:   5%|▌         | 1/20 [00:00<00:03,  5.76it/s]\u001b[A\n",
            "train sample batches:  10%|█         | 2/20 [00:00<00:03,  5.51it/s]\u001b[A\n",
            "train sample batches:  15%|█▌        | 3/20 [00:00<00:03,  5.40it/s]\u001b[A\n",
            "train sample batches:  20%|██        | 4/20 [00:00<00:02,  5.57it/s]\u001b[A\n",
            "train sample batches:  25%|██▌       | 5/20 [00:00<00:02,  5.59it/s]\u001b[A\n",
            "train sample batches:  30%|███       | 6/20 [00:01<00:02,  5.58it/s]\u001b[A\n",
            "train sample batches:  35%|███▌      | 7/20 [00:01<00:02,  5.55it/s]\u001b[A\n",
            "train sample batches:  40%|████      | 8/20 [00:01<00:02,  5.38it/s]\u001b[A\n",
            "train sample batches:  45%|████▌     | 9/20 [00:01<00:02,  5.42it/s]\u001b[A\n",
            "train sample batches:  50%|█████     | 10/20 [00:01<00:01,  5.43it/s]\u001b[A\n",
            "train sample batches:  55%|█████▌    | 11/20 [00:02<00:01,  5.44it/s]\u001b[A\n",
            "train sample batches:  60%|██████    | 12/20 [00:02<00:01,  5.34it/s]\u001b[A\n",
            "train sample batches:  65%|██████▌   | 13/20 [00:02<00:01,  5.37it/s]\u001b[A\n",
            "train sample batches:  70%|███████   | 14/20 [00:02<00:01,  5.36it/s]\u001b[A\n",
            "train sample batches:  75%|███████▌  | 15/20 [00:02<00:00,  5.42it/s]\u001b[A\n",
            "train sample batches:  80%|████████  | 16/20 [00:03<00:01,  3.60it/s]\u001b[A\n",
            "train sample batches:  85%|████████▌ | 17/20 [00:03<00:00,  3.65it/s]\u001b[A\n",
            "train sample batches:  90%|█████████ | 18/20 [00:03<00:00,  4.09it/s]\u001b[A\n",
            "train sample batches:  95%|█████████▌| 19/20 [00:03<00:00,  4.43it/s]\u001b[A\n",
            "train sample batches: 100%|██████████| 20/20 [00:04<00:00,  4.54it/s]\n",
            "\n",
            "validation sample batches:   0%|          | 0/9 [00:00<?, ?it/s]\u001b[A\n",
            "validation sample batches:  22%|██▏       | 2/9 [00:00<00:00, 19.00it/s]\u001b[A\n",
            "validation sample batches:  56%|█████▌    | 5/9 [00:00<00:00, 22.32it/s]\u001b[A\n",
            "validation sample batches: 100%|██████████| 9/9 [00:00<00:00, 22.35it/s]\n",
            "epochs:  10%|█         | 10/100 [00:41<06:26,  4.30s/it]"
          ]
        },
        {
          "output_type": "stream",
          "name": "stdout",
          "text": [
            "Epoch 00089: reducing learning rate of group 0 to 6.6342e-04.\n",
            "Epoch train loss 5.115388298034668\n",
            "Epoch val_loss 5.278872013092041\n"
          ]
        },
        {
          "output_type": "stream",
          "name": "stderr",
          "text": [
            "\n",
            "train sample batches:   0%|          | 0/20 [00:00<?, ?it/s]\u001b[A\n",
            "train sample batches:   5%|▌         | 1/20 [00:00<00:07,  2.70it/s]\u001b[A\n",
            "train sample batches:  10%|█         | 2/20 [00:00<00:06,  2.69it/s]\u001b[A\n",
            "train sample batches:  15%|█▌        | 3/20 [00:00<00:04,  3.56it/s]\u001b[A\n",
            "train sample batches:  20%|██        | 4/20 [00:01<00:03,  4.18it/s]\u001b[A\n",
            "train sample batches:  25%|██▌       | 5/20 [00:01<00:03,  4.54it/s]\u001b[A\n",
            "train sample batches:  30%|███       | 6/20 [00:01<00:02,  4.81it/s]\u001b[A\n",
            "train sample batches:  35%|███▌      | 7/20 [00:01<00:02,  4.94it/s]\u001b[A\n",
            "train sample batches:  40%|████      | 8/20 [00:01<00:02,  5.09it/s]\u001b[A\n",
            "train sample batches:  45%|████▌     | 9/20 [00:02<00:02,  5.25it/s]\u001b[A\n",
            "train sample batches:  50%|█████     | 10/20 [00:02<00:01,  5.37it/s]\u001b[A\n",
            "train sample batches:  55%|█████▌    | 11/20 [00:02<00:01,  5.39it/s]\u001b[A\n",
            "train sample batches:  60%|██████    | 12/20 [00:02<00:01,  5.41it/s]\u001b[A\n",
            "train sample batches:  65%|██████▌   | 13/20 [00:02<00:01,  5.31it/s]\u001b[A\n",
            "train sample batches:  70%|███████   | 14/20 [00:02<00:01,  5.39it/s]\u001b[A\n",
            "train sample batches:  75%|███████▌  | 15/20 [00:03<00:00,  5.50it/s]\u001b[A\n",
            "train sample batches:  80%|████████  | 16/20 [00:03<00:00,  5.52it/s]\u001b[A\n",
            "train sample batches:  85%|████████▌ | 17/20 [00:03<00:00,  5.50it/s]\u001b[A\n",
            "train sample batches:  90%|█████████ | 18/20 [00:03<00:00,  5.54it/s]\u001b[A\n",
            "train sample batches:  95%|█████████▌| 19/20 [00:03<00:00,  5.49it/s]\u001b[A\n",
            "train sample batches: 100%|██████████| 20/20 [00:04<00:00,  4.97it/s]\n",
            "\n",
            "validation sample batches:   0%|          | 0/9 [00:00<?, ?it/s]\u001b[A\n",
            "validation sample batches:  33%|███▎      | 3/9 [00:00<00:00, 24.14it/s]\u001b[A\n",
            "validation sample batches:  67%|██████▋   | 6/9 [00:00<00:00, 22.01it/s]\u001b[A\n",
            "validation sample batches: 100%|██████████| 9/9 [00:00<00:00, 22.96it/s]\n",
            "epochs:  11%|█         | 11/100 [00:45<06:27,  4.35s/it]"
          ]
        },
        {
          "output_type": "stream",
          "name": "stdout",
          "text": [
            "Epoch train loss 4.993729043006897\n",
            "Epoch val_loss 5.272590160369873\n"
          ]
        },
        {
          "output_type": "stream",
          "name": "stderr",
          "text": [
            "\n",
            "train sample batches:   0%|          | 0/20 [00:00<?, ?it/s]\u001b[A\n",
            "train sample batches:   5%|▌         | 1/20 [00:00<00:03,  5.66it/s]\u001b[A\n",
            "train sample batches:  10%|█         | 2/20 [00:00<00:03,  5.31it/s]\u001b[A\n",
            "train sample batches:  15%|█▌        | 3/20 [00:00<00:03,  5.35it/s]\u001b[A\n",
            "train sample batches:  20%|██        | 4/20 [00:00<00:02,  5.53it/s]\u001b[A\n",
            "train sample batches:  25%|██▌       | 5/20 [00:00<00:02,  5.51it/s]\u001b[A\n",
            "train sample batches:  30%|███       | 6/20 [00:01<00:02,  5.50it/s]\u001b[A\n",
            "train sample batches:  35%|███▌      | 7/20 [00:01<00:02,  5.50it/s]\u001b[A\n",
            "train sample batches:  40%|████      | 8/20 [00:01<00:02,  5.45it/s]\u001b[A\n",
            "train sample batches:  45%|████▌     | 9/20 [00:01<00:01,  5.50it/s]\u001b[A\n",
            "train sample batches:  50%|█████     | 10/20 [00:01<00:01,  5.49it/s]\u001b[A\n",
            "train sample batches:  55%|█████▌    | 11/20 [00:02<00:01,  5.50it/s]\u001b[A\n",
            "train sample batches:  60%|██████    | 12/20 [00:02<00:01,  5.50it/s]\u001b[A\n",
            "train sample batches:  65%|██████▌   | 13/20 [00:02<00:01,  5.40it/s]\u001b[A\n",
            "train sample batches:  70%|███████   | 14/20 [00:02<00:01,  5.41it/s]\u001b[A\n",
            "train sample batches:  75%|███████▌  | 15/20 [00:02<00:00,  5.43it/s]\u001b[A\n",
            "train sample batches:  80%|████████  | 16/20 [00:02<00:00,  5.43it/s]\u001b[A\n",
            "train sample batches:  85%|████████▌ | 17/20 [00:03<00:00,  5.51it/s]\u001b[A\n",
            "train sample batches:  90%|█████████ | 18/20 [00:03<00:00,  5.51it/s]\u001b[A\n",
            "train sample batches:  95%|█████████▌| 19/20 [00:03<00:00,  5.48it/s]\u001b[A\n",
            "train sample batches: 100%|██████████| 20/20 [00:03<00:00,  5.47it/s]\n",
            "\n",
            "validation sample batches:   0%|          | 0/9 [00:00<?, ?it/s]\u001b[A\n",
            "validation sample batches:  33%|███▎      | 3/9 [00:00<00:00, 26.86it/s]\u001b[A"
          ]
        },
        {
          "output_type": "stream",
          "name": "stdout",
          "text": [
            "Epoch 00100: reducing learning rate of group 0 to 6.3025e-04.\n"
          ]
        },
        {
          "output_type": "stream",
          "name": "stderr",
          "text": [
            "\n",
            "validation sample batches:  67%|██████▋   | 6/9 [00:00<00:00, 23.18it/s]\u001b[A\n",
            "validation sample batches: 100%|██████████| 9/9 [00:00<00:00, 23.68it/s]\n",
            "epochs:  12%|█▏        | 12/100 [00:49<06:15,  4.27s/it]"
          ]
        },
        {
          "output_type": "stream",
          "name": "stdout",
          "text": [
            "Epoch train loss 4.913683295249939\n",
            "Epoch val_loss 4.786532878875732\n"
          ]
        },
        {
          "output_type": "stream",
          "name": "stderr",
          "text": [
            "\n",
            "train sample batches:   0%|          | 0/20 [00:00<?, ?it/s]\u001b[A\n",
            "train sample batches:   5%|▌         | 1/20 [00:00<00:03,  5.60it/s]\u001b[A\n",
            "train sample batches:  10%|█         | 2/20 [00:00<00:03,  5.32it/s]\u001b[A\n",
            "train sample batches:  15%|█▌        | 3/20 [00:00<00:03,  5.36it/s]\u001b[A\n",
            "train sample batches:  20%|██        | 4/20 [00:00<00:02,  5.54it/s]\u001b[A\n",
            "train sample batches:  25%|██▌       | 5/20 [00:00<00:02,  5.47it/s]\u001b[A\n",
            "train sample batches:  30%|███       | 6/20 [00:01<00:02,  5.55it/s]\u001b[A\n",
            "train sample batches:  35%|███▌      | 7/20 [00:01<00:02,  5.70it/s]\u001b[A\n",
            "train sample batches:  40%|████      | 8/20 [00:01<00:02,  5.65it/s]\u001b[A\n",
            "train sample batches:  45%|████▌     | 9/20 [00:01<00:01,  5.59it/s]\u001b[A\n",
            "train sample batches:  50%|█████     | 10/20 [00:01<00:01,  5.63it/s]\u001b[A\n",
            "train sample batches:  55%|█████▌    | 11/20 [00:01<00:01,  5.62it/s]\u001b[A\n",
            "train sample batches:  60%|██████    | 12/20 [00:02<00:01,  5.63it/s]\u001b[A\n",
            "train sample batches:  65%|██████▌   | 13/20 [00:02<00:01,  5.66it/s]\u001b[A\n",
            "train sample batches:  70%|███████   | 14/20 [00:02<00:01,  5.56it/s]\u001b[A\n",
            "train sample batches:  75%|███████▌  | 15/20 [00:02<00:00,  5.53it/s]\u001b[A\n",
            "train sample batches:  80%|████████  | 16/20 [00:02<00:00,  5.49it/s]\u001b[A\n",
            "train sample batches:  85%|████████▌ | 17/20 [00:03<00:00,  5.54it/s]\u001b[A\n",
            "train sample batches:  90%|█████████ | 18/20 [00:03<00:00,  5.58it/s]\u001b[A\n",
            "train sample batches:  95%|█████████▌| 19/20 [00:03<00:00,  5.46it/s]\u001b[A\n",
            "train sample batches: 100%|██████████| 20/20 [00:03<00:00,  5.55it/s]\n",
            "\n",
            "validation sample batches:   0%|          | 0/9 [00:00<?, ?it/s]\u001b[A\n",
            "validation sample batches:  33%|███▎      | 3/9 [00:00<00:00, 26.80it/s]\u001b[A\n",
            "validation sample batches:  67%|██████▋   | 6/9 [00:00<00:00, 23.68it/s]\u001b[A"
          ]
        },
        {
          "output_type": "stream",
          "name": "stdout",
          "text": [
            "Epoch 00111: reducing learning rate of group 0 to 5.9874e-04.\n"
          ]
        },
        {
          "output_type": "stream",
          "name": "stderr",
          "text": [
            "\n",
            "validation sample batches: 100%|██████████| 9/9 [00:00<00:00, 23.79it/s]\n",
            "epochs:  13%|█▎        | 13/100 [00:53<06:05,  4.20s/it]"
          ]
        },
        {
          "output_type": "stream",
          "name": "stdout",
          "text": [
            "Epoch train loss 4.809280490875244\n",
            "Epoch val_loss 4.946681499481201\n"
          ]
        },
        {
          "output_type": "stream",
          "name": "stderr",
          "text": [
            "\n",
            "train sample batches:   0%|          | 0/20 [00:00<?, ?it/s]\u001b[A\n",
            "train sample batches:   5%|▌         | 1/20 [00:00<00:03,  5.73it/s]\u001b[A\n",
            "train sample batches:  10%|█         | 2/20 [00:00<00:03,  5.46it/s]\u001b[A\n",
            "train sample batches:  15%|█▌        | 3/20 [00:00<00:03,  5.51it/s]\u001b[A\n",
            "train sample batches:  20%|██        | 4/20 [00:00<00:02,  5.63it/s]\u001b[A\n",
            "train sample batches:  25%|██▌       | 5/20 [00:00<00:02,  5.40it/s]\u001b[A\n",
            "train sample batches:  30%|███       | 6/20 [00:01<00:02,  5.43it/s]\u001b[A\n",
            "train sample batches:  35%|███▌      | 7/20 [00:01<00:02,  5.57it/s]\u001b[A\n",
            "train sample batches:  40%|████      | 8/20 [00:01<00:02,  5.40it/s]\u001b[A\n",
            "train sample batches:  45%|████▌     | 9/20 [00:01<00:02,  5.47it/s]\u001b[A\n",
            "train sample batches:  50%|█████     | 10/20 [00:01<00:01,  5.48it/s]\u001b[A\n",
            "train sample batches:  55%|█████▌    | 11/20 [00:02<00:01,  5.45it/s]\u001b[A\n",
            "train sample batches:  60%|██████    | 12/20 [00:02<00:01,  5.49it/s]\u001b[A\n",
            "train sample batches:  65%|██████▌   | 13/20 [00:02<00:01,  5.54it/s]\u001b[A\n",
            "train sample batches:  70%|███████   | 14/20 [00:02<00:01,  5.54it/s]\u001b[A\n",
            "train sample batches:  75%|███████▌  | 15/20 [00:02<00:00,  5.61it/s]\u001b[A\n",
            "train sample batches:  80%|████████  | 16/20 [00:02<00:00,  5.51it/s]\u001b[A\n",
            "train sample batches:  85%|████████▌ | 17/20 [00:03<00:00,  5.52it/s]\u001b[A\n",
            "train sample batches:  90%|█████████ | 18/20 [00:03<00:00,  5.56it/s]\u001b[A\n",
            "train sample batches:  95%|█████████▌| 19/20 [00:03<00:00,  5.59it/s]\u001b[A\n",
            "train sample batches: 100%|██████████| 20/20 [00:03<00:00,  5.52it/s]\n",
            "\n",
            "validation sample batches:   0%|          | 0/9 [00:00<?, ?it/s]\u001b[A\n",
            "validation sample batches:  33%|███▎      | 3/9 [00:00<00:00, 23.48it/s]\u001b[A\n",
            "validation sample batches:  67%|██████▋   | 6/9 [00:00<00:00, 22.56it/s]\u001b[A\n",
            "validation sample batches: 100%|██████████| 9/9 [00:00<00:00, 22.20it/s]"
          ]
        },
        {
          "output_type": "stream",
          "name": "stdout",
          "text": [
            "Epoch 00122: reducing learning rate of group 0 to 5.6880e-04.\n",
            "Epoch train loss 4.766475343704224\n",
            "Epoch val_loss 4.974249839782715\n"
          ]
        },
        {
          "output_type": "stream",
          "name": "stderr",
          "text": [
            "\n",
            "epochs:  14%|█▍        | 14/100 [00:58<05:58,  4.16s/it]\n",
            "train sample batches:   0%|          | 0/20 [00:00<?, ?it/s]\u001b[A\n",
            "train sample batches:   5%|▌         | 1/20 [00:00<00:03,  5.87it/s]\u001b[A\n",
            "train sample batches:  10%|█         | 2/20 [00:00<00:03,  5.71it/s]\u001b[A\n",
            "train sample batches:  15%|█▌        | 3/20 [00:00<00:03,  5.57it/s]\u001b[A\n",
            "train sample batches:  20%|██        | 4/20 [00:00<00:02,  5.54it/s]\u001b[A\n",
            "train sample batches:  25%|██▌       | 5/20 [00:00<00:02,  5.52it/s]\u001b[A\n",
            "train sample batches:  30%|███       | 6/20 [00:01<00:02,  5.56it/s]\u001b[A\n",
            "train sample batches:  35%|███▌      | 7/20 [00:01<00:02,  5.52it/s]\u001b[A\n",
            "train sample batches:  40%|████      | 8/20 [00:01<00:02,  5.64it/s]\u001b[A\n",
            "train sample batches:  45%|████▌     | 9/20 [00:01<00:01,  5.56it/s]\u001b[A\n",
            "train sample batches:  50%|█████     | 10/20 [00:01<00:01,  5.52it/s]\u001b[A\n",
            "train sample batches:  55%|█████▌    | 11/20 [00:01<00:01,  5.57it/s]\u001b[A\n",
            "train sample batches:  60%|██████    | 12/20 [00:02<00:01,  5.56it/s]\u001b[A\n",
            "train sample batches:  65%|██████▌   | 13/20 [00:02<00:01,  5.52it/s]\u001b[A\n",
            "train sample batches:  70%|███████   | 14/20 [00:02<00:01,  5.51it/s]\u001b[A\n",
            "train sample batches:  75%|███████▌  | 15/20 [00:02<00:00,  5.53it/s]\u001b[A\n",
            "train sample batches:  80%|████████  | 16/20 [00:02<00:00,  5.60it/s]\u001b[A\n",
            "train sample batches:  85%|████████▌ | 17/20 [00:03<00:00,  5.65it/s]\u001b[A\n",
            "train sample batches:  90%|█████████ | 18/20 [00:03<00:00,  5.59it/s]\u001b[A\n",
            "train sample batches:  95%|█████████▌| 19/20 [00:03<00:00,  5.61it/s]\u001b[A\n",
            "train sample batches: 100%|██████████| 20/20 [00:03<00:00,  5.57it/s]\n",
            "\n",
            "validation sample batches:   0%|          | 0/9 [00:00<?, ?it/s]\u001b[A\n",
            "validation sample batches:  33%|███▎      | 3/9 [00:00<00:00, 27.24it/s]\u001b[A\n",
            "validation sample batches:  67%|██████▋   | 6/9 [00:00<00:00, 24.14it/s]\u001b[A\n",
            "validation sample batches: 100%|██████████| 9/9 [00:00<00:00, 23.79it/s]\n",
            "epochs:  15%|█▌        | 15/100 [01:02<05:50,  4.12s/it]"
          ]
        },
        {
          "output_type": "stream",
          "name": "stdout",
          "text": [
            "Epoch 00133: reducing learning rate of group 0 to 5.4036e-04.\n",
            "Epoch train loss 4.648500680923462\n",
            "Epoch val_loss 4.515028953552246\n"
          ]
        },
        {
          "output_type": "stream",
          "name": "stderr",
          "text": [
            "\n",
            "train sample batches:   0%|          | 0/20 [00:00<?, ?it/s]\u001b[A\n",
            "train sample batches:   5%|▌         | 1/20 [00:00<00:03,  6.06it/s]\u001b[A\n",
            "train sample batches:  10%|█         | 2/20 [00:00<00:03,  5.87it/s]\u001b[A\n",
            "train sample batches:  15%|█▌        | 3/20 [00:00<00:02,  5.71it/s]\u001b[A\n",
            "train sample batches:  20%|██        | 4/20 [00:00<00:02,  5.73it/s]\u001b[A\n",
            "train sample batches:  25%|██▌       | 5/20 [00:00<00:02,  5.68it/s]\u001b[A\n",
            "train sample batches:  30%|███       | 6/20 [00:01<00:02,  5.64it/s]\u001b[A\n",
            "train sample batches:  35%|███▌      | 7/20 [00:01<00:02,  5.75it/s]\u001b[A\n",
            "train sample batches:  40%|████      | 8/20 [00:01<00:02,  5.74it/s]\u001b[A\n",
            "train sample batches:  45%|████▌     | 9/20 [00:01<00:01,  5.62it/s]\u001b[A\n",
            "train sample batches:  50%|█████     | 10/20 [00:01<00:01,  5.54it/s]\u001b[A\n",
            "train sample batches:  55%|█████▌    | 11/20 [00:01<00:01,  5.53it/s]\u001b[A\n",
            "train sample batches:  60%|██████    | 12/20 [00:02<00:01,  5.54it/s]\u001b[A\n",
            "train sample batches:  65%|██████▌   | 13/20 [00:02<00:01,  5.54it/s]\u001b[A\n",
            "train sample batches:  70%|███████   | 14/20 [00:02<00:01,  5.53it/s]\u001b[A\n",
            "train sample batches:  75%|███████▌  | 15/20 [00:02<00:00,  5.40it/s]\u001b[A\n",
            "train sample batches:  80%|████████  | 16/20 [00:02<00:00,  5.50it/s]\u001b[A\n",
            "train sample batches:  85%|████████▌ | 17/20 [00:03<00:00,  5.50it/s]\u001b[A\n",
            "train sample batches:  90%|█████████ | 18/20 [00:03<00:00,  5.52it/s]\u001b[A\n",
            "train sample batches:  95%|█████████▌| 19/20 [00:03<00:00,  5.47it/s]\u001b[A\n",
            "train sample batches: 100%|██████████| 20/20 [00:03<00:00,  5.56it/s]\n",
            "\n",
            "validation sample batches:   0%|          | 0/9 [00:00<?, ?it/s]\u001b[A\n",
            "validation sample batches:  33%|███▎      | 3/9 [00:00<00:00, 24.70it/s]\u001b[A\n",
            "validation sample batches:  67%|██████▋   | 6/9 [00:00<00:00, 23.19it/s]\u001b[A\n",
            "validation sample batches: 100%|██████████| 9/9 [00:00<00:00, 22.98it/s]\n",
            "epochs:  16%|█▌        | 16/100 [01:06<05:43,  4.09s/it]"
          ]
        },
        {
          "output_type": "stream",
          "name": "stdout",
          "text": [
            "Epoch 00144: reducing learning rate of group 0 to 5.1334e-04.\n",
            "Epoch train loss 4.5421709537506105\n",
            "Epoch val_loss 4.40587043762207\n"
          ]
        },
        {
          "output_type": "stream",
          "name": "stderr",
          "text": [
            "\n",
            "train sample batches:   0%|          | 0/20 [00:00<?, ?it/s]\u001b[A\n",
            "train sample batches:   5%|▌         | 1/20 [00:00<00:03,  5.68it/s]\u001b[A\n",
            "train sample batches:  10%|█         | 2/20 [00:00<00:03,  5.56it/s]\u001b[A\n",
            "train sample batches:  15%|█▌        | 3/20 [00:00<00:03,  5.48it/s]\u001b[A\n",
            "train sample batches:  20%|██        | 4/20 [00:00<00:02,  5.51it/s]\u001b[A\n",
            "train sample batches:  25%|██▌       | 5/20 [00:00<00:02,  5.53it/s]\u001b[A\n",
            "train sample batches:  30%|███       | 6/20 [00:01<00:02,  5.58it/s]\u001b[A\n",
            "train sample batches:  35%|███▌      | 7/20 [00:01<00:02,  5.55it/s]\u001b[A\n",
            "train sample batches:  40%|████      | 8/20 [00:01<00:02,  5.58it/s]\u001b[A\n",
            "train sample batches:  45%|████▌     | 9/20 [00:01<00:02,  5.48it/s]\u001b[A\n",
            "train sample batches:  50%|█████     | 10/20 [00:01<00:01,  5.49it/s]\u001b[A\n",
            "train sample batches:  55%|█████▌    | 11/20 [00:01<00:01,  5.54it/s]\u001b[A\n",
            "train sample batches:  60%|██████    | 12/20 [00:02<00:01,  5.50it/s]\u001b[A\n",
            "train sample batches:  65%|██████▌   | 13/20 [00:02<00:01,  5.45it/s]\u001b[A\n",
            "train sample batches:  70%|███████   | 14/20 [00:02<00:01,  5.48it/s]\u001b[A\n",
            "train sample batches:  75%|███████▌  | 15/20 [00:02<00:00,  5.33it/s]\u001b[A\n",
            "train sample batches:  80%|████████  | 16/20 [00:02<00:00,  5.37it/s]\u001b[A\n",
            "train sample batches:  85%|████████▌ | 17/20 [00:03<00:00,  5.45it/s]\u001b[A\n",
            "train sample batches:  90%|█████████ | 18/20 [00:03<00:00,  5.49it/s]\u001b[A\n",
            "train sample batches:  95%|█████████▌| 19/20 [00:03<00:00,  5.51it/s]\u001b[A\n",
            "train sample batches: 100%|██████████| 20/20 [00:03<00:00,  5.48it/s]\n",
            "\n",
            "validation sample batches:   0%|          | 0/9 [00:00<?, ?it/s]\u001b[A\n",
            "validation sample batches:  33%|███▎      | 3/9 [00:00<00:00, 26.42it/s]\u001b[A\n",
            "validation sample batches:  67%|██████▋   | 6/9 [00:00<00:00, 23.66it/s]\u001b[A\n",
            "validation sample batches: 100%|██████████| 9/9 [00:00<00:00, 23.48it/s]\n",
            "epochs:  17%|█▋        | 17/100 [01:10<05:39,  4.09s/it]"
          ]
        },
        {
          "output_type": "stream",
          "name": "stdout",
          "text": [
            "Epoch train loss 4.420194339752197\n",
            "Epoch val_loss 4.3192830085754395\n"
          ]
        },
        {
          "output_type": "stream",
          "name": "stderr",
          "text": [
            "\n",
            "train sample batches:   0%|          | 0/20 [00:00<?, ?it/s]\u001b[A\n",
            "train sample batches:   5%|▌         | 1/20 [00:00<00:03,  5.57it/s]\u001b[A\n",
            "train sample batches:  10%|█         | 2/20 [00:00<00:03,  5.45it/s]\u001b[A\n",
            "train sample batches:  15%|█▌        | 3/20 [00:00<00:03,  5.55it/s]\u001b[A\n",
            "train sample batches:  20%|██        | 4/20 [00:00<00:02,  5.42it/s]\u001b[A\n",
            "train sample batches:  25%|██▌       | 5/20 [00:00<00:02,  5.46it/s]\u001b[A\n",
            "train sample batches:  30%|███       | 6/20 [00:01<00:02,  5.54it/s]\u001b[A\n",
            "train sample batches:  35%|███▌      | 7/20 [00:01<00:02,  5.57it/s]\u001b[A\n",
            "train sample batches:  40%|████      | 8/20 [00:01<00:02,  5.64it/s]\u001b[A\n",
            "train sample batches:  45%|████▌     | 9/20 [00:01<00:01,  5.53it/s]\u001b[A\n",
            "train sample batches:  50%|█████     | 10/20 [00:01<00:01,  5.46it/s]\u001b[A\n",
            "train sample batches:  55%|█████▌    | 11/20 [00:02<00:01,  5.44it/s]\u001b[A\n",
            "train sample batches:  60%|██████    | 12/20 [00:02<00:01,  5.41it/s]\u001b[A\n",
            "train sample batches:  65%|██████▌   | 13/20 [00:02<00:01,  5.49it/s]\u001b[A\n",
            "train sample batches:  70%|███████   | 14/20 [00:02<00:01,  5.51it/s]\u001b[A\n",
            "train sample batches:  75%|███████▌  | 15/20 [00:02<00:00,  5.38it/s]\u001b[A\n",
            "train sample batches:  80%|████████  | 16/20 [00:02<00:00,  5.41it/s]\u001b[A\n",
            "train sample batches:  85%|████████▌ | 17/20 [00:03<00:00,  5.41it/s]\u001b[A\n",
            "train sample batches:  90%|█████████ | 18/20 [00:03<00:00,  5.49it/s]\u001b[A\n",
            "train sample batches:  95%|█████████▌| 19/20 [00:03<00:00,  5.54it/s]\u001b[A\n",
            "train sample batches: 100%|██████████| 20/20 [00:03<00:00,  5.49it/s]\n",
            "\n",
            "validation sample batches:   0%|          | 0/9 [00:00<?, ?it/s]\u001b[A\n",
            "validation sample batches:  33%|███▎      | 3/9 [00:00<00:00, 22.76it/s]\u001b[A\n",
            "validation sample batches:  67%|██████▋   | 6/9 [00:00<00:00, 22.73it/s]\u001b[A"
          ]
        },
        {
          "output_type": "stream",
          "name": "stdout",
          "text": [
            "Epoch 00155: reducing learning rate of group 0 to 4.8767e-04.\n"
          ]
        },
        {
          "output_type": "stream",
          "name": "stderr",
          "text": [
            "\n",
            "validation sample batches: 100%|██████████| 9/9 [00:00<00:00, 21.76it/s]\n",
            "epochs:  18%|█▊        | 18/100 [01:14<05:35,  4.09s/it]"
          ]
        },
        {
          "output_type": "stream",
          "name": "stdout",
          "text": [
            "Epoch train loss 4.302596271038055\n",
            "Epoch val_loss 4.548624515533447\n"
          ]
        },
        {
          "output_type": "stream",
          "name": "stderr",
          "text": [
            "\n",
            "train sample batches:   0%|          | 0/20 [00:00<?, ?it/s]\u001b[A\n",
            "train sample batches:   5%|▌         | 1/20 [00:00<00:03,  5.56it/s]\u001b[A\n",
            "train sample batches:  10%|█         | 2/20 [00:00<00:03,  5.57it/s]\u001b[A\n",
            "train sample batches:  15%|█▌        | 3/20 [00:00<00:03,  5.53it/s]\u001b[A\n",
            "train sample batches:  20%|██        | 4/20 [00:00<00:02,  5.39it/s]\u001b[A\n",
            "train sample batches:  25%|██▌       | 5/20 [00:00<00:02,  5.45it/s]\u001b[A\n",
            "train sample batches:  30%|███       | 6/20 [00:01<00:02,  5.41it/s]\u001b[A\n",
            "train sample batches:  35%|███▌      | 7/20 [00:01<00:02,  5.45it/s]\u001b[A\n",
            "train sample batches:  40%|████      | 8/20 [00:01<00:02,  5.38it/s]\u001b[A\n",
            "train sample batches:  45%|████▌     | 9/20 [00:01<00:02,  5.29it/s]\u001b[A\n",
            "train sample batches:  50%|█████     | 10/20 [00:01<00:01,  5.38it/s]\u001b[A\n",
            "train sample batches:  55%|█████▌    | 11/20 [00:02<00:01,  5.52it/s]\u001b[A\n",
            "train sample batches:  60%|██████    | 12/20 [00:02<00:01,  5.51it/s]\u001b[A\n",
            "train sample batches:  65%|██████▌   | 13/20 [00:02<00:01,  5.53it/s]\u001b[A\n",
            "train sample batches:  70%|███████   | 14/20 [00:02<00:01,  5.55it/s]\u001b[A\n",
            "train sample batches:  75%|███████▌  | 15/20 [00:02<00:00,  5.46it/s]\u001b[A\n",
            "train sample batches:  80%|████████  | 16/20 [00:02<00:00,  5.48it/s]\u001b[A\n",
            "train sample batches:  85%|████████▌ | 17/20 [00:03<00:00,  5.55it/s]\u001b[A\n",
            "train sample batches:  90%|█████████ | 18/20 [00:03<00:00,  5.53it/s]\u001b[A\n",
            "train sample batches:  95%|█████████▌| 19/20 [00:03<00:00,  5.50it/s]\u001b[A\n",
            "train sample batches: 100%|██████████| 20/20 [00:03<00:00,  5.47it/s]\n",
            "\n",
            "validation sample batches:   0%|          | 0/9 [00:00<?, ?it/s]\u001b[A\n",
            "validation sample batches:  33%|███▎      | 3/9 [00:00<00:00, 21.01it/s]\u001b[A\n",
            "validation sample batches:  67%|██████▋   | 6/9 [00:00<00:00, 21.95it/s]\u001b[A"
          ]
        },
        {
          "output_type": "stream",
          "name": "stdout",
          "text": [
            "Epoch 00166: reducing learning rate of group 0 to 4.6329e-04.\n"
          ]
        },
        {
          "output_type": "stream",
          "name": "stderr",
          "text": [
            "\n",
            "validation sample batches: 100%|██████████| 9/9 [00:00<00:00, 21.78it/s]\n",
            "epochs:  19%|█▉        | 19/100 [01:18<05:32,  4.10s/it]"
          ]
        },
        {
          "output_type": "stream",
          "name": "stdout",
          "text": [
            "Epoch train loss 4.22540693283081\n",
            "Epoch val_loss 4.153163433074951\n"
          ]
        },
        {
          "output_type": "stream",
          "name": "stderr",
          "text": [
            "\n",
            "train sample batches:   0%|          | 0/20 [00:00<?, ?it/s]\u001b[A\n",
            "train sample batches:   5%|▌         | 1/20 [00:00<00:03,  5.94it/s]\u001b[A\n",
            "train sample batches:  10%|█         | 2/20 [00:00<00:03,  5.66it/s]\u001b[A\n",
            "train sample batches:  15%|█▌        | 3/20 [00:00<00:03,  5.53it/s]\u001b[A\n",
            "train sample batches:  20%|██        | 4/20 [00:00<00:02,  5.59it/s]\u001b[A\n",
            "train sample batches:  25%|██▌       | 5/20 [00:00<00:02,  5.54it/s]\u001b[A\n",
            "train sample batches:  30%|███       | 6/20 [00:01<00:02,  5.51it/s]\u001b[A\n",
            "train sample batches:  35%|███▌      | 7/20 [00:01<00:02,  5.45it/s]\u001b[A\n",
            "train sample batches:  40%|████      | 8/20 [00:01<00:02,  5.49it/s]\u001b[A\n",
            "train sample batches:  45%|████▌     | 9/20 [00:01<00:02,  5.39it/s]\u001b[A\n",
            "train sample batches:  50%|█████     | 10/20 [00:01<00:01,  5.44it/s]\u001b[A\n",
            "train sample batches:  55%|█████▌    | 11/20 [00:02<00:01,  5.46it/s]\u001b[A\n",
            "train sample batches:  60%|██████    | 12/20 [00:02<00:01,  5.48it/s]\u001b[A\n",
            "train sample batches:  65%|██████▌   | 13/20 [00:02<00:01,  5.53it/s]\u001b[A\n",
            "train sample batches:  70%|███████   | 14/20 [00:02<00:01,  5.53it/s]\u001b[A\n",
            "train sample batches:  75%|███████▌  | 15/20 [00:02<00:00,  5.54it/s]\u001b[A\n",
            "train sample batches:  80%|████████  | 16/20 [00:02<00:00,  5.53it/s]\u001b[A\n",
            "train sample batches:  85%|████████▌ | 17/20 [00:03<00:00,  5.53it/s]\u001b[A\n",
            "train sample batches:  90%|█████████ | 18/20 [00:03<00:00,  5.51it/s]\u001b[A\n",
            "train sample batches:  95%|█████████▌| 19/20 [00:03<00:00,  5.44it/s]\u001b[A\n",
            "train sample batches: 100%|██████████| 20/20 [00:03<00:00,  5.49it/s]\n",
            "\n",
            "validation sample batches:   0%|          | 0/9 [00:00<?, ?it/s]\u001b[A\n",
            "validation sample batches:  33%|███▎      | 3/9 [00:00<00:00, 22.66it/s]\u001b[A\n",
            "validation sample batches:  67%|██████▋   | 6/9 [00:00<00:00, 23.62it/s]\u001b[A\n",
            "validation sample batches: 100%|██████████| 9/9 [00:00<00:00, 23.25it/s]\n",
            "epochs:  20%|██        | 20/100 [01:22<05:27,  4.10s/it]"
          ]
        },
        {
          "output_type": "stream",
          "name": "stdout",
          "text": [
            "Epoch 00177: reducing learning rate of group 0 to 4.4013e-04.\n",
            "Epoch train loss 4.136101710796356\n",
            "Epoch val_loss 4.4221882820129395\n"
          ]
        },
        {
          "output_type": "stream",
          "name": "stderr",
          "text": [
            "\n",
            "train sample batches:   0%|          | 0/20 [00:00<?, ?it/s]\u001b[A\n",
            "train sample batches:   5%|▌         | 1/20 [00:00<00:03,  5.55it/s]\u001b[A\n",
            "train sample batches:  10%|█         | 2/20 [00:00<00:03,  5.36it/s]\u001b[A\n",
            "train sample batches:  15%|█▌        | 3/20 [00:00<00:03,  5.49it/s]\u001b[A\n",
            "train sample batches:  20%|██        | 4/20 [00:00<00:02,  5.53it/s]\u001b[A\n",
            "train sample batches:  25%|██▌       | 5/20 [00:00<00:02,  5.63it/s]\u001b[A\n",
            "train sample batches:  30%|███       | 6/20 [00:01<00:02,  5.65it/s]\u001b[A\n",
            "train sample batches:  35%|███▌      | 7/20 [00:01<00:02,  5.58it/s]\u001b[A\n",
            "train sample batches:  40%|████      | 8/20 [00:01<00:02,  5.54it/s]\u001b[A\n",
            "train sample batches:  45%|████▌     | 9/20 [00:01<00:02,  5.31it/s]\u001b[A\n",
            "train sample batches:  50%|█████     | 10/20 [00:01<00:01,  5.33it/s]\u001b[A\n",
            "train sample batches:  55%|█████▌    | 11/20 [00:02<00:01,  5.38it/s]\u001b[A\n",
            "train sample batches:  60%|██████    | 12/20 [00:02<00:01,  5.43it/s]\u001b[A\n",
            "train sample batches:  65%|██████▌   | 13/20 [00:02<00:01,  5.38it/s]\u001b[A\n",
            "train sample batches:  70%|███████   | 14/20 [00:02<00:01,  5.41it/s]\u001b[A\n",
            "train sample batches:  75%|███████▌  | 15/20 [00:02<00:00,  5.34it/s]\u001b[A\n",
            "train sample batches:  80%|████████  | 16/20 [00:02<00:00,  5.42it/s]\u001b[A\n",
            "train sample batches:  85%|████████▌ | 17/20 [00:03<00:00,  5.45it/s]\u001b[A\n",
            "train sample batches:  90%|█████████ | 18/20 [00:03<00:00,  5.48it/s]\u001b[A\n",
            "train sample batches:  95%|█████████▌| 19/20 [00:03<00:00,  5.48it/s]\u001b[A\n",
            "train sample batches: 100%|██████████| 20/20 [00:03<00:00,  5.47it/s]\n",
            "\n",
            "validation sample batches:   0%|          | 0/9 [00:00<?, ?it/s]\u001b[A\n",
            "validation sample batches:  33%|███▎      | 3/9 [00:00<00:00, 25.23it/s]\u001b[A\n",
            "validation sample batches:  67%|██████▋   | 6/9 [00:00<00:00, 23.83it/s]\u001b[A\n",
            "validation sample batches: 100%|██████████| 9/9 [00:00<00:00, 24.25it/s]\n",
            "epochs:  21%|██        | 21/100 [01:26<05:23,  4.09s/it]"
          ]
        },
        {
          "output_type": "stream",
          "name": "stdout",
          "text": [
            "Epoch 00188: reducing learning rate of group 0 to 4.1812e-04.\n",
            "Epoch train loss 4.060520136356354\n",
            "Epoch val_loss 3.8945796489715576\n"
          ]
        },
        {
          "output_type": "stream",
          "name": "stderr",
          "text": [
            "\n",
            "train sample batches:   0%|          | 0/20 [00:00<?, ?it/s]\u001b[A\n",
            "train sample batches:   5%|▌         | 1/20 [00:00<00:03,  5.49it/s]\u001b[A\n",
            "train sample batches:  10%|█         | 2/20 [00:00<00:03,  5.57it/s]\u001b[A\n",
            "train sample batches:  15%|█▌        | 3/20 [00:00<00:03,  5.39it/s]\u001b[A\n",
            "train sample batches:  20%|██        | 4/20 [00:00<00:03,  5.31it/s]\u001b[A\n",
            "train sample batches:  25%|██▌       | 5/20 [00:00<00:02,  5.46it/s]\u001b[A\n",
            "train sample batches:  30%|███       | 6/20 [00:01<00:02,  5.54it/s]\u001b[A\n",
            "train sample batches:  35%|███▌      | 7/20 [00:01<00:02,  5.49it/s]\u001b[A\n",
            "train sample batches:  40%|████      | 8/20 [00:01<00:02,  5.51it/s]\u001b[A\n",
            "train sample batches:  45%|████▌     | 9/20 [00:01<00:01,  5.51it/s]\u001b[A\n",
            "train sample batches:  50%|█████     | 10/20 [00:01<00:01,  5.45it/s]\u001b[A\n",
            "train sample batches:  55%|█████▌    | 11/20 [00:02<00:01,  5.48it/s]\u001b[A\n",
            "train sample batches:  60%|██████    | 12/20 [00:02<00:01,  5.57it/s]\u001b[A\n",
            "train sample batches:  65%|██████▌   | 13/20 [00:02<00:01,  5.47it/s]\u001b[A\n",
            "train sample batches:  70%|███████   | 14/20 [00:02<00:01,  5.47it/s]\u001b[A\n",
            "train sample batches:  75%|███████▌  | 15/20 [00:02<00:00,  5.39it/s]\u001b[A\n",
            "train sample batches:  80%|████████  | 16/20 [00:02<00:00,  5.43it/s]\u001b[A\n",
            "train sample batches:  85%|████████▌ | 17/20 [00:03<00:00,  5.46it/s]\u001b[A\n",
            "train sample batches:  90%|█████████ | 18/20 [00:03<00:00,  5.50it/s]\u001b[A\n",
            "train sample batches:  95%|█████████▌| 19/20 [00:03<00:00,  5.54it/s]\u001b[A\n",
            "train sample batches: 100%|██████████| 20/20 [00:03<00:00,  5.48it/s]\n",
            "\n",
            "validation sample batches:   0%|          | 0/9 [00:00<?, ?it/s]\u001b[A\n",
            "validation sample batches:  33%|███▎      | 3/9 [00:00<00:00, 22.85it/s]\u001b[A\n",
            "validation sample batches:  67%|██████▋   | 6/9 [00:00<00:00, 22.86it/s]\u001b[A\n",
            "validation sample batches: 100%|██████████| 9/9 [00:00<00:00, 22.42it/s]\n",
            "epochs:  22%|██▏       | 22/100 [01:30<05:19,  4.10s/it]"
          ]
        },
        {
          "output_type": "stream",
          "name": "stdout",
          "text": [
            "Epoch train loss 3.953496813774109\n",
            "Epoch val_loss 4.000975608825684\n"
          ]
        },
        {
          "output_type": "stream",
          "name": "stderr",
          "text": [
            "\n",
            "train sample batches:   0%|          | 0/20 [00:00<?, ?it/s]\u001b[A\n",
            "train sample batches:   5%|▌         | 1/20 [00:00<00:03,  5.49it/s]\u001b[A\n",
            "train sample batches:  10%|█         | 2/20 [00:00<00:03,  5.69it/s]\u001b[A\n",
            "train sample batches:  15%|█▌        | 3/20 [00:00<00:03,  5.66it/s]\u001b[A\n",
            "train sample batches:  20%|██        | 4/20 [00:00<00:02,  5.47it/s]\u001b[A\n",
            "train sample batches:  25%|██▌       | 5/20 [00:00<00:02,  5.51it/s]\u001b[A\n",
            "train sample batches:  30%|███       | 6/20 [00:01<00:02,  5.56it/s]\u001b[A\n",
            "train sample batches:  35%|███▌      | 7/20 [00:01<00:02,  5.48it/s]\u001b[A\n",
            "train sample batches:  40%|████      | 8/20 [00:01<00:02,  5.61it/s]\u001b[A\n",
            "train sample batches:  45%|████▌     | 9/20 [00:01<00:01,  5.55it/s]\u001b[A\n",
            "train sample batches:  50%|█████     | 10/20 [00:01<00:01,  5.46it/s]\u001b[A\n",
            "train sample batches:  55%|█████▌    | 11/20 [00:01<00:01,  5.51it/s]\u001b[A\n",
            "train sample batches:  60%|██████    | 12/20 [00:02<00:01,  5.53it/s]\u001b[A\n",
            "train sample batches:  65%|██████▌   | 13/20 [00:02<00:01,  5.51it/s]\u001b[A\n",
            "train sample batches:  70%|███████   | 14/20 [00:02<00:01,  5.55it/s]\u001b[A\n",
            "train sample batches:  75%|███████▌  | 15/20 [00:02<00:00,  5.46it/s]\u001b[A\n",
            "train sample batches:  80%|████████  | 16/20 [00:02<00:00,  5.45it/s]\u001b[A\n",
            "train sample batches:  85%|████████▌ | 17/20 [00:03<00:00,  5.40it/s]\u001b[A\n",
            "train sample batches:  90%|█████████ | 18/20 [00:03<00:00,  5.40it/s]\u001b[A\n",
            "train sample batches:  95%|█████████▌| 19/20 [00:03<00:00,  5.41it/s]\u001b[A\n",
            "train sample batches: 100%|██████████| 20/20 [00:03<00:00,  5.50it/s]\n",
            "\n",
            "validation sample batches:   0%|          | 0/9 [00:00<?, ?it/s]\u001b[A\n",
            "validation sample batches:  33%|███▎      | 3/9 [00:00<00:00, 27.20it/s]\u001b[A\n",
            "validation sample batches:  67%|██████▋   | 6/9 [00:00<00:00, 25.20it/s]\u001b[A"
          ]
        },
        {
          "output_type": "stream",
          "name": "stdout",
          "text": [
            "Epoch 00199: reducing learning rate of group 0 to 3.9721e-04.\n"
          ]
        },
        {
          "output_type": "stream",
          "name": "stderr",
          "text": [
            "\n",
            "validation sample batches: 100%|██████████| 9/9 [00:00<00:00, 23.87it/s]\n",
            "epochs:  23%|██▎       | 23/100 [01:34<05:14,  4.09s/it]"
          ]
        },
        {
          "output_type": "stream",
          "name": "stdout",
          "text": [
            "Epoch train loss 3.9187121868133543\n",
            "Epoch val_loss 3.7571964263916016\n"
          ]
        },
        {
          "output_type": "stream",
          "name": "stderr",
          "text": [
            "\n",
            "train sample batches:   0%|          | 0/20 [00:00<?, ?it/s]\u001b[A\n",
            "train sample batches:   5%|▌         | 1/20 [00:00<00:03,  5.58it/s]\u001b[A\n",
            "train sample batches:  10%|█         | 2/20 [00:00<00:03,  5.47it/s]\u001b[A\n",
            "train sample batches:  15%|█▌        | 3/20 [00:00<00:03,  5.52it/s]\u001b[A\n",
            "train sample batches:  20%|██        | 4/20 [00:00<00:02,  5.52it/s]\u001b[A\n",
            "train sample batches:  25%|██▌       | 5/20 [00:00<00:02,  5.52it/s]\u001b[A\n",
            "train sample batches:  30%|███       | 6/20 [00:01<00:02,  5.49it/s]\u001b[A\n",
            "train sample batches:  35%|███▌      | 7/20 [00:01<00:02,  5.45it/s]\u001b[A\n",
            "train sample batches:  40%|████      | 8/20 [00:01<00:02,  5.48it/s]\u001b[A\n",
            "train sample batches:  45%|████▌     | 9/20 [00:01<00:02,  5.39it/s]\u001b[A\n",
            "train sample batches:  50%|█████     | 10/20 [00:01<00:01,  5.31it/s]\u001b[A\n",
            "train sample batches:  55%|█████▌    | 11/20 [00:02<00:01,  5.33it/s]\u001b[A\n",
            "train sample batches:  60%|██████    | 12/20 [00:02<00:01,  5.36it/s]\u001b[A\n",
            "train sample batches:  65%|██████▌   | 13/20 [00:02<00:01,  5.35it/s]\u001b[A\n",
            "train sample batches:  70%|███████   | 14/20 [00:02<00:01,  5.51it/s]\u001b[A\n",
            "train sample batches:  75%|███████▌  | 15/20 [00:02<00:00,  5.40it/s]\u001b[A\n",
            "train sample batches:  80%|████████  | 16/20 [00:02<00:00,  5.42it/s]\u001b[A\n",
            "train sample batches:  85%|████████▌ | 17/20 [00:03<00:00,  5.40it/s]\u001b[A\n",
            "train sample batches:  90%|█████████ | 18/20 [00:03<00:00,  5.42it/s]\u001b[A\n",
            "train sample batches:  95%|█████████▌| 19/20 [00:03<00:00,  5.38it/s]\u001b[A\n",
            "train sample batches: 100%|██████████| 20/20 [00:03<00:00,  5.43it/s]\n",
            "\n",
            "validation sample batches:   0%|          | 0/9 [00:00<?, ?it/s]\u001b[A\n",
            "validation sample batches:  22%|██▏       | 2/9 [00:00<00:00, 17.79it/s]\u001b[A\n",
            "validation sample batches:  44%|████▍     | 4/9 [00:00<00:00, 18.95it/s]\u001b[A\n",
            "validation sample batches:  67%|██████▋   | 6/9 [00:00<00:00, 19.35it/s]\u001b[A"
          ]
        },
        {
          "output_type": "stream",
          "name": "stdout",
          "text": [
            "Epoch 00210: reducing learning rate of group 0 to 3.7735e-04.\n"
          ]
        },
        {
          "output_type": "stream",
          "name": "stderr",
          "text": [
            "\n",
            "validation sample batches: 100%|██████████| 9/9 [00:00<00:00, 19.29it/s]\n",
            "epochs:  24%|██▍       | 24/100 [01:38<05:12,  4.12s/it]"
          ]
        },
        {
          "output_type": "stream",
          "name": "stdout",
          "text": [
            "Epoch train loss 3.878494346141815\n",
            "Epoch val_loss 4.0346999168396\n"
          ]
        },
        {
          "output_type": "stream",
          "name": "stderr",
          "text": [
            "\n",
            "train sample batches:   0%|          | 0/20 [00:00<?, ?it/s]\u001b[A\n",
            "train sample batches:   5%|▌         | 1/20 [00:00<00:03,  5.47it/s]\u001b[A\n",
            "train sample batches:  10%|█         | 2/20 [00:00<00:03,  5.38it/s]\u001b[A\n",
            "train sample batches:  15%|█▌        | 3/20 [00:00<00:03,  5.27it/s]\u001b[A\n",
            "train sample batches:  20%|██        | 4/20 [00:00<00:03,  5.30it/s]\u001b[A\n",
            "train sample batches:  25%|██▌       | 5/20 [00:00<00:02,  5.39it/s]\u001b[A\n",
            "train sample batches:  30%|███       | 6/20 [00:01<00:02,  5.35it/s]\u001b[A\n",
            "train sample batches:  35%|███▌      | 7/20 [00:01<00:02,  5.34it/s]\u001b[A\n",
            "train sample batches:  40%|████      | 8/20 [00:01<00:02,  5.41it/s]\u001b[A\n",
            "train sample batches:  45%|████▌     | 9/20 [00:01<00:02,  5.28it/s]\u001b[A\n",
            "train sample batches:  50%|█████     | 10/20 [00:01<00:01,  5.25it/s]\u001b[A\n",
            "train sample batches:  55%|█████▌    | 11/20 [00:02<00:01,  5.35it/s]\u001b[A\n",
            "train sample batches:  60%|██████    | 12/20 [00:02<00:01,  5.43it/s]\u001b[A\n",
            "train sample batches:  65%|██████▌   | 13/20 [00:02<00:01,  5.48it/s]\u001b[A\n",
            "train sample batches:  70%|███████   | 14/20 [00:02<00:01,  5.52it/s]\u001b[A\n",
            "train sample batches:  75%|███████▌  | 15/20 [00:02<00:00,  5.41it/s]\u001b[A\n",
            "train sample batches:  80%|████████  | 16/20 [00:02<00:00,  5.39it/s]\u001b[A\n",
            "train sample batches:  85%|████████▌ | 17/20 [00:03<00:00,  5.42it/s]\u001b[A\n",
            "train sample batches:  90%|█████████ | 18/20 [00:03<00:00,  5.45it/s]\u001b[A\n",
            "train sample batches:  95%|█████████▌| 19/20 [00:03<00:00,  5.44it/s]\u001b[A\n",
            "train sample batches: 100%|██████████| 20/20 [00:03<00:00,  5.40it/s]\n",
            "\n",
            "validation sample batches:   0%|          | 0/9 [00:00<?, ?it/s]\u001b[A\n",
            "validation sample batches:  33%|███▎      | 3/9 [00:00<00:00, 23.69it/s]\u001b[A\n",
            "validation sample batches:  67%|██████▋   | 6/9 [00:00<00:00, 23.86it/s]\u001b[A\n",
            "validation sample batches: 100%|██████████| 9/9 [00:00<00:00, 23.46it/s]\n",
            "epochs:  25%|██▌       | 25/100 [01:43<05:09,  4.13s/it]"
          ]
        },
        {
          "output_type": "stream",
          "name": "stdout",
          "text": [
            "Epoch 00221: reducing learning rate of group 0 to 3.5849e-04.\n",
            "Epoch train loss 3.775399994850159\n",
            "Epoch val_loss 3.6999869346618652\n"
          ]
        },
        {
          "output_type": "stream",
          "name": "stderr",
          "text": [
            "\n",
            "train sample batches:   0%|          | 0/20 [00:00<?, ?it/s]\u001b[A\n",
            "train sample batches:   5%|▌         | 1/20 [00:00<00:03,  5.52it/s]\u001b[A\n",
            "train sample batches:  10%|█         | 2/20 [00:00<00:03,  5.49it/s]\u001b[A\n",
            "train sample batches:  15%|█▌        | 3/20 [00:00<00:03,  5.38it/s]\u001b[A\n",
            "train sample batches:  20%|██        | 4/20 [00:00<00:02,  5.38it/s]\u001b[A\n",
            "train sample batches:  25%|██▌       | 5/20 [00:00<00:02,  5.39it/s]\u001b[A\n",
            "train sample batches:  30%|███       | 6/20 [00:01<00:02,  5.46it/s]\u001b[A\n",
            "train sample batches:  35%|███▌      | 7/20 [00:01<00:02,  5.30it/s]\u001b[A\n",
            "train sample batches:  40%|████      | 8/20 [00:01<00:02,  5.36it/s]\u001b[A\n",
            "train sample batches:  45%|████▌     | 9/20 [00:01<00:02,  5.21it/s]\u001b[A\n",
            "train sample batches:  50%|█████     | 10/20 [00:01<00:01,  5.21it/s]\u001b[A\n",
            "train sample batches:  55%|█████▌    | 11/20 [00:02<00:01,  5.30it/s]\u001b[A\n",
            "train sample batches:  60%|██████    | 12/20 [00:02<00:01,  5.37it/s]\u001b[A\n",
            "train sample batches:  65%|██████▌   | 13/20 [00:02<00:01,  5.33it/s]\u001b[A\n",
            "train sample batches:  70%|███████   | 14/20 [00:02<00:01,  5.23it/s]\u001b[A\n",
            "train sample batches:  75%|███████▌  | 15/20 [00:02<00:00,  5.29it/s]\u001b[A\n",
            "train sample batches:  80%|████████  | 16/20 [00:03<00:00,  5.27it/s]\u001b[A\n",
            "train sample batches:  85%|████████▌ | 17/20 [00:03<00:00,  5.31it/s]\u001b[A\n",
            "train sample batches:  90%|█████████ | 18/20 [00:03<00:00,  5.32it/s]\u001b[A\n",
            "train sample batches:  95%|█████████▌| 19/20 [00:03<00:00,  5.36it/s]\u001b[A\n",
            "train sample batches: 100%|██████████| 20/20 [00:03<00:00,  5.32it/s]\n",
            "\n",
            "validation sample batches:   0%|          | 0/9 [00:00<?, ?it/s]\u001b[A\n",
            "validation sample batches:  22%|██▏       | 2/9 [00:00<00:00, 19.18it/s]\u001b[A\n",
            "validation sample batches:  56%|█████▌    | 5/9 [00:00<00:00, 21.38it/s]\u001b[A\n",
            "validation sample batches: 100%|██████████| 9/9 [00:00<00:00, 21.18it/s]\n",
            "epochs:  26%|██▌       | 26/100 [01:47<05:07,  4.16s/it]"
          ]
        },
        {
          "output_type": "stream",
          "name": "stdout",
          "text": [
            "Epoch 00232: reducing learning rate of group 0 to 3.4056e-04.\n",
            "Epoch train loss 3.705232226848602\n",
            "Epoch val_loss 3.853238582611084\n"
          ]
        },
        {
          "output_type": "stream",
          "name": "stderr",
          "text": [
            "\n",
            "train sample batches:   0%|          | 0/20 [00:00<?, ?it/s]\u001b[A\n",
            "train sample batches:   5%|▌         | 1/20 [00:00<00:03,  5.50it/s]\u001b[A\n",
            "train sample batches:  10%|█         | 2/20 [00:00<00:03,  5.57it/s]\u001b[A\n",
            "train sample batches:  15%|█▌        | 3/20 [00:00<00:03,  5.29it/s]\u001b[A\n",
            "train sample batches:  20%|██        | 4/20 [00:00<00:03,  5.33it/s]\u001b[A\n",
            "train sample batches:  25%|██▌       | 5/20 [00:00<00:02,  5.31it/s]\u001b[A\n",
            "train sample batches:  30%|███       | 6/20 [00:01<00:02,  5.35it/s]\u001b[A\n",
            "train sample batches:  35%|███▌      | 7/20 [00:01<00:02,  5.30it/s]\u001b[A\n",
            "train sample batches:  40%|████      | 8/20 [00:01<00:02,  5.21it/s]\u001b[A\n",
            "train sample batches:  45%|████▌     | 9/20 [00:01<00:02,  5.27it/s]\u001b[A\n",
            "train sample batches:  50%|█████     | 10/20 [00:01<00:01,  5.31it/s]\u001b[A\n",
            "train sample batches:  55%|█████▌    | 11/20 [00:02<00:01,  5.36it/s]\u001b[A\n",
            "train sample batches:  60%|██████    | 12/20 [00:02<00:01,  5.42it/s]\u001b[A\n",
            "train sample batches:  65%|██████▌   | 13/20 [00:02<00:01,  5.45it/s]\u001b[A\n",
            "train sample batches:  70%|███████   | 14/20 [00:02<00:01,  5.37it/s]\u001b[A\n",
            "train sample batches:  75%|███████▌  | 15/20 [00:02<00:00,  5.37it/s]\u001b[A\n",
            "train sample batches:  80%|████████  | 16/20 [00:02<00:00,  5.38it/s]\u001b[A\n",
            "train sample batches:  85%|████████▌ | 17/20 [00:03<00:00,  5.37it/s]\u001b[A\n",
            "train sample batches:  90%|█████████ | 18/20 [00:03<00:00,  5.42it/s]\u001b[A\n",
            "train sample batches:  95%|█████████▌| 19/20 [00:03<00:00,  5.38it/s]\u001b[A\n",
            "train sample batches: 100%|██████████| 20/20 [00:03<00:00,  5.37it/s]\n",
            "\n",
            "validation sample batches:   0%|          | 0/9 [00:00<?, ?it/s]\u001b[A\n",
            "validation sample batches:  33%|███▎      | 3/9 [00:00<00:00, 25.37it/s]\u001b[A\n",
            "validation sample batches:  67%|██████▋   | 6/9 [00:00<00:00, 23.67it/s]\u001b[A\n",
            "validation sample batches: 100%|██████████| 9/9 [00:00<00:00, 23.68it/s]\n",
            "epochs:  27%|██▋       | 27/100 [01:51<05:03,  4.16s/it]"
          ]
        },
        {
          "output_type": "stream",
          "name": "stdout",
          "text": [
            "Epoch 00243: reducing learning rate of group 0 to 3.2353e-04.\n",
            "Epoch train loss 3.622113275527954\n",
            "Epoch val_loss 3.645966053009033\n"
          ]
        },
        {
          "output_type": "stream",
          "name": "stderr",
          "text": [
            "\n",
            "train sample batches:   0%|          | 0/20 [00:00<?, ?it/s]\u001b[A\n",
            "train sample batches:   5%|▌         | 1/20 [00:00<00:03,  5.78it/s]\u001b[A\n",
            "train sample batches:  10%|█         | 2/20 [00:00<00:03,  5.29it/s]\u001b[A\n",
            "train sample batches:  15%|█▌        | 3/20 [00:00<00:03,  5.45it/s]\u001b[A\n",
            "train sample batches:  20%|██        | 4/20 [00:00<00:02,  5.56it/s]\u001b[A\n",
            "train sample batches:  25%|██▌       | 5/20 [00:00<00:02,  5.49it/s]\u001b[A\n",
            "train sample batches:  30%|███       | 6/20 [00:01<00:02,  5.49it/s]\u001b[A\n",
            "train sample batches:  35%|███▌      | 7/20 [00:01<00:02,  5.50it/s]\u001b[A\n",
            "train sample batches:  40%|████      | 8/20 [00:01<00:02,  5.44it/s]\u001b[A\n",
            "train sample batches:  45%|████▌     | 9/20 [00:01<00:02,  5.45it/s]\u001b[A\n",
            "train sample batches:  50%|█████     | 10/20 [00:01<00:01,  5.42it/s]\u001b[A\n",
            "train sample batches:  55%|█████▌    | 11/20 [00:02<00:01,  5.48it/s]\u001b[A\n",
            "train sample batches:  60%|██████    | 12/20 [00:02<00:01,  5.48it/s]\u001b[A\n",
            "train sample batches:  65%|██████▌   | 13/20 [00:02<00:01,  5.47it/s]\u001b[A\n",
            "train sample batches:  70%|███████   | 14/20 [00:02<00:01,  5.45it/s]\u001b[A\n",
            "train sample batches:  75%|███████▌  | 15/20 [00:02<00:00,  5.53it/s]\u001b[A\n",
            "train sample batches:  80%|████████  | 16/20 [00:02<00:00,  5.54it/s]\u001b[A\n",
            "train sample batches:  85%|████████▌ | 17/20 [00:03<00:00,  5.59it/s]\u001b[A\n",
            "train sample batches:  90%|█████████ | 18/20 [00:03<00:00,  5.56it/s]\u001b[A\n",
            "train sample batches:  95%|█████████▌| 19/20 [00:03<00:00,  5.38it/s]\u001b[A\n",
            "train sample batches: 100%|██████████| 20/20 [00:03<00:00,  5.47it/s]\n",
            "\n",
            "validation sample batches:   0%|          | 0/9 [00:00<?, ?it/s]\u001b[A\n",
            "validation sample batches:  33%|███▎      | 3/9 [00:00<00:00, 22.42it/s]\u001b[A\n",
            "validation sample batches:  67%|██████▋   | 6/9 [00:00<00:00, 21.16it/s]\u001b[A\n",
            "validation sample batches: 100%|██████████| 9/9 [00:00<00:00, 22.15it/s]\n",
            "epochs:  28%|██▊       | 28/100 [01:55<04:58,  4.15s/it]"
          ]
        },
        {
          "output_type": "stream",
          "name": "stdout",
          "text": [
            "Epoch train loss 3.5592219710350035\n",
            "Epoch val_loss 3.7541942596435547\n"
          ]
        },
        {
          "output_type": "stream",
          "name": "stderr",
          "text": [
            "\n",
            "train sample batches:   0%|          | 0/20 [00:00<?, ?it/s]\u001b[A\n",
            "train sample batches:   5%|▌         | 1/20 [00:00<00:03,  5.35it/s]\u001b[A\n",
            "train sample batches:  10%|█         | 2/20 [00:00<00:03,  5.31it/s]\u001b[A\n",
            "train sample batches:  15%|█▌        | 3/20 [00:00<00:03,  5.50it/s]\u001b[A\n",
            "train sample batches:  20%|██        | 4/20 [00:00<00:02,  5.49it/s]\u001b[A\n",
            "train sample batches:  25%|██▌       | 5/20 [00:00<00:02,  5.52it/s]\u001b[A\n",
            "train sample batches:  30%|███       | 6/20 [00:01<00:02,  5.55it/s]\u001b[A\n",
            "train sample batches:  35%|███▌      | 7/20 [00:01<00:02,  5.49it/s]\u001b[A\n",
            "train sample batches:  40%|████      | 8/20 [00:01<00:02,  5.43it/s]\u001b[A\n",
            "train sample batches:  45%|████▌     | 9/20 [00:01<00:02,  5.43it/s]\u001b[A\n",
            "train sample batches:  50%|█████     | 10/20 [00:01<00:01,  5.49it/s]\u001b[A\n",
            "train sample batches:  55%|█████▌    | 11/20 [00:02<00:01,  5.55it/s]\u001b[A\n",
            "train sample batches:  60%|██████    | 12/20 [00:02<00:01,  5.42it/s]\u001b[A\n",
            "train sample batches:  65%|██████▌   | 13/20 [00:02<00:01,  5.45it/s]\u001b[A\n",
            "train sample batches:  70%|███████   | 14/20 [00:02<00:01,  5.52it/s]\u001b[A\n",
            "train sample batches:  75%|███████▌  | 15/20 [00:02<00:00,  5.51it/s]\u001b[A\n",
            "train sample batches:  80%|████████  | 16/20 [00:02<00:00,  5.57it/s]\u001b[A\n",
            "train sample batches:  85%|████████▌ | 17/20 [00:03<00:00,  5.66it/s]\u001b[A\n",
            "train sample batches:  90%|█████████ | 18/20 [00:03<00:00,  5.61it/s]\u001b[A\n",
            "train sample batches:  95%|█████████▌| 19/20 [00:03<00:00,  5.53it/s]\u001b[A\n",
            "train sample batches: 100%|██████████| 20/20 [00:03<00:00,  5.53it/s]\n",
            "\n",
            "validation sample batches:   0%|          | 0/9 [00:00<?, ?it/s]\u001b[A\n",
            "validation sample batches:  22%|██▏       | 2/9 [00:00<00:00, 19.10it/s]\u001b[A\n",
            "validation sample batches:  56%|█████▌    | 5/9 [00:00<00:00, 23.14it/s]\u001b[A"
          ]
        },
        {
          "output_type": "stream",
          "name": "stdout",
          "text": [
            "Epoch 00254: reducing learning rate of group 0 to 3.0736e-04.\n"
          ]
        },
        {
          "output_type": "stream",
          "name": "stderr",
          "text": [
            "\n",
            "validation sample batches: 100%|██████████| 9/9 [00:00<00:00, 22.06it/s]\n",
            "epochs:  29%|██▉       | 29/100 [01:59<04:52,  4.12s/it]"
          ]
        },
        {
          "output_type": "stream",
          "name": "stdout",
          "text": [
            "Epoch train loss 3.484741997718811\n",
            "Epoch val_loss 2.9165210723876953\n"
          ]
        },
        {
          "output_type": "stream",
          "name": "stderr",
          "text": [
            "\n",
            "train sample batches:   0%|          | 0/20 [00:00<?, ?it/s]\u001b[A\n",
            "train sample batches:   5%|▌         | 1/20 [00:00<00:03,  5.62it/s]\u001b[A\n",
            "train sample batches:  10%|█         | 2/20 [00:00<00:03,  5.68it/s]\u001b[A\n",
            "train sample batches:  15%|█▌        | 3/20 [00:00<00:03,  5.60it/s]\u001b[A\n",
            "train sample batches:  20%|██        | 4/20 [00:00<00:02,  5.60it/s]\u001b[A\n",
            "train sample batches:  25%|██▌       | 5/20 [00:00<00:02,  5.60it/s]\u001b[A\n",
            "train sample batches:  30%|███       | 6/20 [00:01<00:02,  5.56it/s]\u001b[A\n",
            "train sample batches:  35%|███▌      | 7/20 [00:01<00:02,  5.46it/s]\u001b[A\n",
            "train sample batches:  40%|████      | 8/20 [00:01<00:02,  5.44it/s]\u001b[A\n",
            "train sample batches:  45%|████▌     | 9/20 [00:01<00:02,  5.48it/s]\u001b[A\n",
            "train sample batches:  50%|█████     | 10/20 [00:01<00:01,  5.44it/s]\u001b[A\n",
            "train sample batches:  55%|█████▌    | 11/20 [00:01<00:01,  5.49it/s]\u001b[A\n",
            "train sample batches:  60%|██████    | 12/20 [00:02<00:01,  5.45it/s]\u001b[A\n",
            "train sample batches:  65%|██████▌   | 13/20 [00:02<00:01,  5.46it/s]\u001b[A\n",
            "train sample batches:  70%|███████   | 14/20 [00:02<00:01,  5.39it/s]\u001b[A\n",
            "train sample batches:  75%|███████▌  | 15/20 [00:02<00:00,  5.41it/s]\u001b[A\n",
            "train sample batches:  80%|████████  | 16/20 [00:02<00:00,  5.43it/s]\u001b[A\n",
            "train sample batches:  85%|████████▌ | 17/20 [00:03<00:00,  5.41it/s]\u001b[A\n",
            "train sample batches:  90%|█████████ | 18/20 [00:03<00:00,  5.53it/s]\u001b[A\n",
            "train sample batches:  95%|█████████▌| 19/20 [00:03<00:00,  5.44it/s]\u001b[A\n",
            "train sample batches: 100%|██████████| 20/20 [00:03<00:00,  5.47it/s]\n",
            "\n",
            "validation sample batches:   0%|          | 0/9 [00:00<?, ?it/s]\u001b[A\n",
            "validation sample batches:  33%|███▎      | 3/9 [00:00<00:00, 24.98it/s]\u001b[A\n",
            "validation sample batches:  67%|██████▋   | 6/9 [00:00<00:00, 23.64it/s]\u001b[A\n",
            "validation sample batches: 100%|██████████| 9/9 [00:00<00:00, 24.52it/s]\u001b[A"
          ]
        },
        {
          "output_type": "stream",
          "name": "stdout",
          "text": [
            "Epoch 00265: reducing learning rate of group 0 to 2.9199e-04.\n"
          ]
        },
        {
          "output_type": "stream",
          "name": "stderr",
          "text": [
            "validation sample batches: 100%|██████████| 9/9 [00:00<00:00, 23.93it/s]\n",
            "epochs:  30%|███       | 30/100 [02:03<04:47,  4.11s/it]"
          ]
        },
        {
          "output_type": "stream",
          "name": "stdout",
          "text": [
            "Epoch train loss 3.434755635261536\n",
            "Epoch val_loss 3.5134775638580322\n"
          ]
        },
        {
          "output_type": "stream",
          "name": "stderr",
          "text": [
            "\n",
            "train sample batches:   0%|          | 0/20 [00:00<?, ?it/s]\u001b[A\n",
            "train sample batches:   5%|▌         | 1/20 [00:00<00:03,  5.59it/s]\u001b[A\n",
            "train sample batches:  10%|█         | 2/20 [00:00<00:03,  5.66it/s]\u001b[A\n",
            "train sample batches:  15%|█▌        | 3/20 [00:00<00:03,  5.37it/s]\u001b[A\n",
            "train sample batches:  20%|██        | 4/20 [00:00<00:02,  5.44it/s]\u001b[A\n",
            "train sample batches:  25%|██▌       | 5/20 [00:00<00:02,  5.46it/s]\u001b[A\n",
            "train sample batches:  30%|███       | 6/20 [00:01<00:02,  5.43it/s]\u001b[A\n",
            "train sample batches:  35%|███▌      | 7/20 [00:01<00:02,  5.51it/s]\u001b[A\n",
            "train sample batches:  40%|████      | 8/20 [00:01<00:02,  5.49it/s]\u001b[A\n",
            "train sample batches:  45%|████▌     | 9/20 [00:01<00:02,  5.46it/s]\u001b[A\n",
            "train sample batches:  50%|█████     | 10/20 [00:01<00:01,  5.46it/s]\u001b[A\n",
            "train sample batches:  55%|█████▌    | 11/20 [00:02<00:01,  5.44it/s]\u001b[A\n",
            "train sample batches:  60%|██████    | 12/20 [00:02<00:01,  5.39it/s]\u001b[A\n",
            "train sample batches:  65%|██████▌   | 13/20 [00:02<00:01,  5.34it/s]\u001b[A\n",
            "train sample batches:  70%|███████   | 14/20 [00:02<00:01,  5.26it/s]\u001b[A\n",
            "train sample batches:  75%|███████▌  | 15/20 [00:02<00:00,  5.30it/s]\u001b[A\n",
            "train sample batches:  80%|████████  | 16/20 [00:02<00:00,  5.31it/s]\u001b[A\n",
            "train sample batches:  85%|████████▌ | 17/20 [00:03<00:00,  5.33it/s]\u001b[A\n",
            "train sample batches:  90%|█████████ | 18/20 [00:03<00:00,  5.27it/s]\u001b[A\n",
            "train sample batches:  95%|█████████▌| 19/20 [00:03<00:00,  5.31it/s]\u001b[A\n",
            "train sample batches: 100%|██████████| 20/20 [00:03<00:00,  5.39it/s]\n",
            "\n",
            "validation sample batches:   0%|          | 0/9 [00:00<?, ?it/s]\u001b[A\n",
            "validation sample batches:  33%|███▎      | 3/9 [00:00<00:00, 22.49it/s]\u001b[A\n",
            "validation sample batches:  67%|██████▋   | 6/9 [00:00<00:00, 22.22it/s]\u001b[A\n",
            "validation sample batches: 100%|██████████| 9/9 [00:00<00:00, 23.12it/s]\n",
            "epochs:  31%|███       | 31/100 [02:07<04:44,  4.12s/it]"
          ]
        },
        {
          "output_type": "stream",
          "name": "stdout",
          "text": [
            "Epoch 00276: reducing learning rate of group 0 to 2.7739e-04.\n",
            "Epoch train loss 3.390606713294983\n",
            "Epoch val_loss 3.441859483718872\n"
          ]
        },
        {
          "output_type": "stream",
          "name": "stderr",
          "text": [
            "\n",
            "train sample batches:   0%|          | 0/20 [00:00<?, ?it/s]\u001b[A\n",
            "train sample batches:   5%|▌         | 1/20 [00:00<00:03,  5.56it/s]\u001b[A\n",
            "train sample batches:  10%|█         | 2/20 [00:00<00:03,  5.46it/s]\u001b[A\n",
            "train sample batches:  15%|█▌        | 3/20 [00:00<00:03,  5.43it/s]\u001b[A\n",
            "train sample batches:  20%|██        | 4/20 [00:00<00:02,  5.51it/s]\u001b[A\n",
            "train sample batches:  25%|██▌       | 5/20 [00:00<00:02,  5.43it/s]\u001b[A\n",
            "train sample batches:  30%|███       | 6/20 [00:01<00:02,  5.46it/s]\u001b[A\n",
            "train sample batches:  35%|███▌      | 7/20 [00:01<00:02,  5.50it/s]\u001b[A\n",
            "train sample batches:  40%|████      | 8/20 [00:01<00:02,  5.46it/s]\u001b[A\n",
            "train sample batches:  45%|████▌     | 9/20 [00:01<00:01,  5.57it/s]\u001b[A\n",
            "train sample batches:  50%|█████     | 10/20 [00:01<00:01,  5.57it/s]\u001b[A\n",
            "train sample batches:  55%|█████▌    | 11/20 [00:01<00:01,  5.57it/s]\u001b[A\n",
            "train sample batches:  60%|██████    | 12/20 [00:02<00:01,  5.57it/s]\u001b[A\n",
            "train sample batches:  65%|██████▌   | 13/20 [00:02<00:01,  5.68it/s]\u001b[A\n",
            "train sample batches:  70%|███████   | 14/20 [00:02<00:01,  5.54it/s]\u001b[A\n",
            "train sample batches:  75%|███████▌  | 15/20 [00:02<00:00,  5.51it/s]\u001b[A\n",
            "train sample batches:  80%|████████  | 16/20 [00:02<00:00,  5.51it/s]\u001b[A\n",
            "train sample batches:  85%|████████▌ | 17/20 [00:03<00:00,  5.45it/s]\u001b[A\n",
            "train sample batches:  90%|█████████ | 18/20 [00:03<00:00,  5.50it/s]\u001b[A\n",
            "train sample batches:  95%|█████████▌| 19/20 [00:03<00:00,  5.41it/s]\u001b[A\n",
            "train sample batches: 100%|██████████| 20/20 [00:03<00:00,  5.51it/s]\n",
            "\n",
            "validation sample batches:   0%|          | 0/9 [00:00<?, ?it/s]\u001b[A\n",
            "validation sample batches:  33%|███▎      | 3/9 [00:00<00:00, 24.94it/s]\u001b[A\n",
            "validation sample batches:  67%|██████▋   | 6/9 [00:00<00:00, 22.76it/s]\u001b[A\n",
            "validation sample batches: 100%|██████████| 9/9 [00:00<00:00, 22.77it/s]\n",
            "epochs:  32%|███▏      | 32/100 [02:11<04:39,  4.11s/it]"
          ]
        },
        {
          "output_type": "stream",
          "name": "stdout",
          "text": [
            "Epoch 00287: reducing learning rate of group 0 to 2.6352e-04.\n",
            "Epoch train loss 3.376949203014374\n",
            "Epoch val_loss 3.348623514175415\n"
          ]
        },
        {
          "output_type": "stream",
          "name": "stderr",
          "text": [
            "\n",
            "train sample batches:   0%|          | 0/20 [00:00<?, ?it/s]\u001b[A\n",
            "train sample batches:   5%|▌         | 1/20 [00:00<00:03,  5.59it/s]\u001b[A\n",
            "train sample batches:  10%|█         | 2/20 [00:00<00:03,  5.64it/s]\u001b[A\n",
            "train sample batches:  15%|█▌        | 3/20 [00:00<00:02,  5.67it/s]\u001b[A\n",
            "train sample batches:  20%|██        | 4/20 [00:00<00:02,  5.70it/s]\u001b[A\n",
            "train sample batches:  25%|██▌       | 5/20 [00:00<00:02,  5.70it/s]\u001b[A\n",
            "train sample batches:  30%|███       | 6/20 [00:01<00:02,  5.55it/s]\u001b[A\n",
            "train sample batches:  35%|███▌      | 7/20 [00:01<00:02,  5.61it/s]\u001b[A\n",
            "train sample batches:  40%|████      | 8/20 [00:01<00:02,  5.48it/s]\u001b[A\n",
            "train sample batches:  45%|████▌     | 9/20 [00:01<00:01,  5.56it/s]\u001b[A\n",
            "train sample batches:  50%|█████     | 10/20 [00:01<00:01,  5.59it/s]\u001b[A\n",
            "train sample batches:  55%|█████▌    | 11/20 [00:01<00:01,  5.59it/s]\u001b[A\n",
            "train sample batches:  60%|██████    | 12/20 [00:02<00:01,  5.57it/s]\u001b[A\n",
            "train sample batches:  65%|██████▌   | 13/20 [00:02<00:01,  5.46it/s]\u001b[A\n",
            "train sample batches:  70%|███████   | 14/20 [00:02<00:01,  5.45it/s]\u001b[A\n",
            "train sample batches:  75%|███████▌  | 15/20 [00:02<00:00,  5.52it/s]\u001b[A\n",
            "train sample batches:  80%|████████  | 16/20 [00:02<00:00,  5.50it/s]\u001b[A\n",
            "train sample batches:  85%|████████▌ | 17/20 [00:03<00:00,  5.47it/s]\u001b[A\n",
            "train sample batches:  90%|█████████ | 18/20 [00:03<00:00,  5.54it/s]\u001b[A\n",
            "train sample batches:  95%|█████████▌| 19/20 [00:03<00:00,  5.61it/s]\u001b[A\n",
            "train sample batches: 100%|██████████| 20/20 [00:03<00:00,  5.55it/s]\n",
            "\n",
            "validation sample batches:   0%|          | 0/9 [00:00<?, ?it/s]\u001b[A\n",
            "validation sample batches:  33%|███▎      | 3/9 [00:00<00:00, 21.45it/s]\u001b[A\n",
            "validation sample batches:  67%|██████▋   | 6/9 [00:00<00:00, 21.95it/s]\u001b[A\n",
            "validation sample batches: 100%|██████████| 9/9 [00:00<00:00, 21.91it/s]\n",
            "epochs:  33%|███▎      | 33/100 [02:16<04:34,  4.10s/it]"
          ]
        },
        {
          "output_type": "stream",
          "name": "stdout",
          "text": [
            "Epoch train loss 3.2920586228370667\n",
            "Epoch val_loss 3.5605297088623047\n"
          ]
        },
        {
          "output_type": "stream",
          "name": "stderr",
          "text": [
            "\n",
            "train sample batches:   0%|          | 0/20 [00:00<?, ?it/s]\u001b[A\n",
            "train sample batches:   5%|▌         | 1/20 [00:00<00:03,  5.70it/s]\u001b[A\n",
            "train sample batches:  10%|█         | 2/20 [00:00<00:03,  5.60it/s]\u001b[A\n",
            "train sample batches:  15%|█▌        | 3/20 [00:00<00:03,  5.47it/s]\u001b[A\n",
            "train sample batches:  20%|██        | 4/20 [00:00<00:02,  5.52it/s]\u001b[A\n",
            "train sample batches:  25%|██▌       | 5/20 [00:00<00:02,  5.62it/s]\u001b[A\n",
            "train sample batches:  30%|███       | 6/20 [00:01<00:02,  5.60it/s]\u001b[A\n",
            "train sample batches:  35%|███▌      | 7/20 [00:01<00:02,  5.57it/s]\u001b[A\n",
            "train sample batches:  40%|████      | 8/20 [00:01<00:02,  5.47it/s]\u001b[A\n",
            "train sample batches:  45%|████▌     | 9/20 [00:01<00:01,  5.61it/s]\u001b[A\n",
            "train sample batches:  50%|█████     | 10/20 [00:01<00:01,  5.54it/s]\u001b[A\n",
            "train sample batches:  55%|█████▌    | 11/20 [00:01<00:01,  5.58it/s]\u001b[A\n",
            "train sample batches:  60%|██████    | 12/20 [00:02<00:01,  5.54it/s]\u001b[A\n",
            "train sample batches:  65%|██████▌   | 13/20 [00:02<00:01,  5.58it/s]\u001b[A\n",
            "train sample batches:  70%|███████   | 14/20 [00:02<00:01,  5.44it/s]\u001b[A\n",
            "train sample batches:  75%|███████▌  | 15/20 [00:02<00:00,  5.50it/s]\u001b[A\n",
            "train sample batches:  80%|████████  | 16/20 [00:02<00:00,  5.49it/s]\u001b[A\n",
            "train sample batches:  85%|████████▌ | 17/20 [00:03<00:00,  5.43it/s]\u001b[A\n",
            "train sample batches:  90%|█████████ | 18/20 [00:03<00:00,  5.39it/s]\u001b[A\n",
            "train sample batches:  95%|█████████▌| 19/20 [00:03<00:00,  5.40it/s]\u001b[A\n",
            "train sample batches: 100%|██████████| 20/20 [00:03<00:00,  5.48it/s]\n",
            "\n",
            "validation sample batches:   0%|          | 0/9 [00:00<?, ?it/s]\u001b[A\n",
            "validation sample batches:  22%|██▏       | 2/9 [00:00<00:00, 18.51it/s]\u001b[A\n",
            "validation sample batches:  56%|█████▌    | 5/9 [00:00<00:00, 21.15it/s]\u001b[A"
          ]
        },
        {
          "output_type": "stream",
          "name": "stdout",
          "text": [
            "Epoch 00298: reducing learning rate of group 0 to 2.5034e-04.\n"
          ]
        },
        {
          "output_type": "stream",
          "name": "stderr",
          "text": [
            "\n",
            "validation sample batches: 100%|██████████| 9/9 [00:00<00:00, 21.97it/s]\n",
            "epochs:  34%|███▍      | 34/100 [02:20<04:30,  4.10s/it]"
          ]
        },
        {
          "output_type": "stream",
          "name": "stdout",
          "text": [
            "Epoch train loss 3.2566317319869995\n",
            "Epoch val_loss 3.5251107215881348\n"
          ]
        },
        {
          "output_type": "stream",
          "name": "stderr",
          "text": [
            "\n",
            "train sample batches:   0%|          | 0/20 [00:00<?, ?it/s]\u001b[A\n",
            "train sample batches:   5%|▌         | 1/20 [00:00<00:03,  5.42it/s]\u001b[A\n",
            "train sample batches:  10%|█         | 2/20 [00:00<00:03,  5.53it/s]\u001b[A\n",
            "train sample batches:  15%|█▌        | 3/20 [00:00<00:03,  5.31it/s]\u001b[A\n",
            "train sample batches:  20%|██        | 4/20 [00:00<00:02,  5.37it/s]\u001b[A\n",
            "train sample batches:  25%|██▌       | 5/20 [00:00<00:02,  5.37it/s]\u001b[A\n",
            "train sample batches:  30%|███       | 6/20 [00:01<00:02,  5.42it/s]\u001b[A\n",
            "train sample batches:  35%|███▌      | 7/20 [00:01<00:02,  5.45it/s]\u001b[A\n",
            "train sample batches:  40%|████      | 8/20 [00:01<00:02,  5.30it/s]\u001b[A\n",
            "train sample batches:  45%|████▌     | 9/20 [00:01<00:02,  5.33it/s]\u001b[A\n",
            "train sample batches:  50%|█████     | 10/20 [00:01<00:01,  5.40it/s]\u001b[A\n",
            "train sample batches:  55%|█████▌    | 11/20 [00:02<00:01,  5.38it/s]\u001b[A\n",
            "train sample batches:  60%|██████    | 12/20 [00:02<00:01,  5.40it/s]\u001b[A\n",
            "train sample batches:  65%|██████▌   | 13/20 [00:02<00:01,  5.37it/s]\u001b[A\n",
            "train sample batches:  70%|███████   | 14/20 [00:02<00:01,  5.27it/s]\u001b[A\n",
            "train sample batches:  75%|███████▌  | 15/20 [00:02<00:00,  5.32it/s]\u001b[A\n",
            "train sample batches:  80%|████████  | 16/20 [00:02<00:00,  5.37it/s]\u001b[A\n",
            "train sample batches:  85%|████████▌ | 17/20 [00:03<00:00,  5.36it/s]\u001b[A\n",
            "train sample batches:  90%|█████████ | 18/20 [00:03<00:00,  5.36it/s]\u001b[A\n",
            "train sample batches:  95%|█████████▌| 19/20 [00:03<00:00,  5.25it/s]\u001b[A\n",
            "train sample batches: 100%|██████████| 20/20 [00:03<00:00,  5.35it/s]\n",
            "\n",
            "validation sample batches:   0%|          | 0/9 [00:00<?, ?it/s]\u001b[A\n",
            "validation sample batches:  22%|██▏       | 2/9 [00:00<00:00, 18.95it/s]\u001b[A\n",
            "validation sample batches:  44%|████▍     | 4/9 [00:00<00:00, 18.66it/s]\u001b[A\n",
            "validation sample batches:  67%|██████▋   | 6/9 [00:00<00:00, 19.22it/s]\u001b[A"
          ]
        },
        {
          "output_type": "stream",
          "name": "stdout",
          "text": [
            "Epoch 00309: reducing learning rate of group 0 to 2.3783e-04.\n"
          ]
        },
        {
          "output_type": "stream",
          "name": "stderr",
          "text": [
            "\n",
            "validation sample batches: 100%|██████████| 9/9 [00:00<00:00, 19.13it/s]\n",
            "epochs:  35%|███▌      | 35/100 [02:24<04:29,  4.15s/it]"
          ]
        },
        {
          "output_type": "stream",
          "name": "stdout",
          "text": [
            "Epoch train loss 3.204924237728119\n",
            "Epoch val_loss 3.0412817001342773\n"
          ]
        },
        {
          "output_type": "stream",
          "name": "stderr",
          "text": [
            "\n",
            "train sample batches:   0%|          | 0/20 [00:00<?, ?it/s]\u001b[A\n",
            "train sample batches:   5%|▌         | 1/20 [00:00<00:03,  5.39it/s]\u001b[A\n",
            "train sample batches:  10%|█         | 2/20 [00:00<00:03,  5.27it/s]\u001b[A\n",
            "train sample batches:  15%|█▌        | 3/20 [00:00<00:03,  5.37it/s]\u001b[A\n",
            "train sample batches:  20%|██        | 4/20 [00:00<00:02,  5.39it/s]\u001b[A\n",
            "train sample batches:  25%|██▌       | 5/20 [00:00<00:02,  5.43it/s]\u001b[A\n",
            "train sample batches:  30%|███       | 6/20 [00:01<00:02,  5.39it/s]\u001b[A\n",
            "train sample batches:  35%|███▌      | 7/20 [00:01<00:02,  5.36it/s]\u001b[A\n",
            "train sample batches:  40%|████      | 8/20 [00:01<00:02,  5.34it/s]\u001b[A\n",
            "train sample batches:  45%|████▌     | 9/20 [00:01<00:02,  5.38it/s]\u001b[A\n",
            "train sample batches:  50%|█████     | 10/20 [00:01<00:01,  5.46it/s]\u001b[A\n",
            "train sample batches:  55%|█████▌    | 11/20 [00:02<00:01,  5.46it/s]\u001b[A\n",
            "train sample batches:  60%|██████    | 12/20 [00:02<00:01,  5.44it/s]\u001b[A\n",
            "train sample batches:  65%|██████▌   | 13/20 [00:02<00:01,  5.33it/s]\u001b[A\n",
            "train sample batches:  70%|███████   | 14/20 [00:02<00:01,  5.35it/s]\u001b[A\n",
            "train sample batches:  75%|███████▌  | 15/20 [00:02<00:00,  5.39it/s]\u001b[A\n",
            "train sample batches:  80%|████████  | 16/20 [00:02<00:00,  5.47it/s]\u001b[A\n",
            "train sample batches:  85%|████████▌ | 17/20 [00:03<00:00,  5.48it/s]\u001b[A\n",
            "train sample batches:  90%|█████████ | 18/20 [00:03<00:00,  5.40it/s]\u001b[A\n",
            "train sample batches:  95%|█████████▌| 19/20 [00:03<00:00,  5.45it/s]\u001b[A\n",
            "train sample batches: 100%|██████████| 20/20 [00:03<00:00,  5.41it/s]\n",
            "\n",
            "validation sample batches:   0%|          | 0/9 [00:00<?, ?it/s]\u001b[A\n",
            "validation sample batches:  44%|████▍     | 4/9 [00:00<00:00, 30.58it/s]\u001b[A\n",
            "validation sample batches: 100%|██████████| 9/9 [00:00<00:00, 25.59it/s]\n",
            "epochs:  36%|███▌      | 36/100 [02:28<04:24,  4.13s/it]"
          ]
        },
        {
          "output_type": "stream",
          "name": "stdout",
          "text": [
            "Epoch 00320: reducing learning rate of group 0 to 2.2594e-04.\n",
            "Epoch train loss 3.167936050891876\n",
            "Epoch val_loss 3.332160711288452\n"
          ]
        },
        {
          "output_type": "stream",
          "name": "stderr",
          "text": [
            "\n",
            "train sample batches:   0%|          | 0/20 [00:00<?, ?it/s]\u001b[A\n",
            "train sample batches:   5%|▌         | 1/20 [00:00<00:03,  5.45it/s]\u001b[A\n",
            "train sample batches:  10%|█         | 2/20 [00:00<00:03,  5.24it/s]\u001b[A\n",
            "train sample batches:  15%|█▌        | 3/20 [00:00<00:03,  5.35it/s]\u001b[A\n",
            "train sample batches:  20%|██        | 4/20 [00:00<00:02,  5.47it/s]\u001b[A\n",
            "train sample batches:  25%|██▌       | 5/20 [00:00<00:02,  5.47it/s]\u001b[A\n",
            "train sample batches:  30%|███       | 6/20 [00:01<00:02,  5.57it/s]\u001b[A\n",
            "train sample batches:  35%|███▌      | 7/20 [00:01<00:02,  5.56it/s]\u001b[A\n",
            "train sample batches:  40%|████      | 8/20 [00:01<00:02,  5.60it/s]\u001b[A\n",
            "train sample batches:  45%|████▌     | 9/20 [00:01<00:01,  5.54it/s]\u001b[A\n",
            "train sample batches:  50%|█████     | 10/20 [00:01<00:01,  5.62it/s]\u001b[A\n",
            "train sample batches:  55%|█████▌    | 11/20 [00:01<00:01,  5.61it/s]\u001b[A\n",
            "train sample batches:  60%|██████    | 12/20 [00:02<00:01,  5.56it/s]\u001b[A\n",
            "train sample batches:  65%|██████▌   | 13/20 [00:02<00:01,  5.41it/s]\u001b[A\n",
            "train sample batches:  70%|███████   | 14/20 [00:02<00:01,  5.45it/s]\u001b[A\n",
            "train sample batches:  75%|███████▌  | 15/20 [00:02<00:00,  5.52it/s]\u001b[A\n",
            "train sample batches:  80%|████████  | 16/20 [00:02<00:00,  5.56it/s]\u001b[A\n",
            "train sample batches:  85%|████████▌ | 17/20 [00:03<00:00,  5.50it/s]\u001b[A\n",
            "train sample batches:  90%|█████████ | 18/20 [00:03<00:00,  5.53it/s]\u001b[A\n",
            "train sample batches:  95%|█████████▌| 19/20 [00:03<00:00,  5.46it/s]\u001b[A\n",
            "train sample batches: 100%|██████████| 20/20 [00:03<00:00,  5.50it/s]\n",
            "\n",
            "validation sample batches:   0%|          | 0/9 [00:00<?, ?it/s]\u001b[A\n",
            "validation sample batches:  33%|███▎      | 3/9 [00:00<00:00, 27.51it/s]\u001b[A\n",
            "validation sample batches:  67%|██████▋   | 6/9 [00:00<00:00, 24.06it/s]\u001b[A\n",
            "validation sample batches: 100%|██████████| 9/9 [00:00<00:00, 24.83it/s]\n",
            "epochs:  37%|███▋      | 37/100 [02:32<04:18,  4.11s/it]"
          ]
        },
        {
          "output_type": "stream",
          "name": "stdout",
          "text": [
            "Epoch 00331: reducing learning rate of group 0 to 2.1464e-04.\n",
            "Epoch train loss 3.131254553794861\n",
            "Epoch val_loss 2.9169065952301025\n"
          ]
        },
        {
          "output_type": "stream",
          "name": "stderr",
          "text": [
            "\n",
            "train sample batches:   0%|          | 0/20 [00:00<?, ?it/s]\u001b[A\n",
            "train sample batches:   5%|▌         | 1/20 [00:00<00:03,  5.54it/s]\u001b[A\n",
            "train sample batches:  10%|█         | 2/20 [00:00<00:03,  5.44it/s]\u001b[A\n",
            "train sample batches:  15%|█▌        | 3/20 [00:00<00:03,  5.53it/s]\u001b[A\n",
            "train sample batches:  20%|██        | 4/20 [00:00<00:02,  5.52it/s]\u001b[A\n",
            "train sample batches:  25%|██▌       | 5/20 [00:00<00:02,  5.53it/s]\u001b[A\n",
            "train sample batches:  30%|███       | 6/20 [00:01<00:02,  5.58it/s]\u001b[A\n",
            "train sample batches:  35%|███▌      | 7/20 [00:01<00:02,  5.53it/s]\u001b[A\n",
            "train sample batches:  40%|████      | 8/20 [00:01<00:02,  5.45it/s]\u001b[A\n",
            "train sample batches:  45%|████▌     | 9/20 [00:01<00:01,  5.50it/s]\u001b[A\n",
            "train sample batches:  50%|█████     | 10/20 [00:01<00:01,  5.55it/s]\u001b[A\n",
            "train sample batches:  55%|█████▌    | 11/20 [00:01<00:01,  5.53it/s]\u001b[A\n",
            "train sample batches:  60%|██████    | 12/20 [00:02<00:01,  5.53it/s]\u001b[A\n",
            "train sample batches:  65%|██████▌   | 13/20 [00:02<00:01,  5.40it/s]\u001b[A\n",
            "train sample batches:  70%|███████   | 14/20 [00:02<00:01,  5.43it/s]\u001b[A\n",
            "train sample batches:  75%|███████▌  | 15/20 [00:02<00:00,  5.46it/s]\u001b[A\n",
            "train sample batches:  80%|████████  | 16/20 [00:02<00:00,  5.55it/s]\u001b[A\n",
            "train sample batches:  85%|████████▌ | 17/20 [00:03<00:00,  5.56it/s]\u001b[A\n",
            "train sample batches:  90%|█████████ | 18/20 [00:03<00:00,  5.55it/s]\u001b[A\n",
            "train sample batches:  95%|█████████▌| 19/20 [00:03<00:00,  5.49it/s]\u001b[A\n",
            "train sample batches: 100%|██████████| 20/20 [00:03<00:00,  5.50it/s]\n",
            "\n",
            "validation sample batches:   0%|          | 0/9 [00:00<?, ?it/s]\u001b[A\n",
            "validation sample batches:  33%|███▎      | 3/9 [00:00<00:00, 22.96it/s]\u001b[A\n",
            "validation sample batches:  67%|██████▋   | 6/9 [00:00<00:00, 22.71it/s]\u001b[A\n",
            "validation sample batches: 100%|██████████| 9/9 [00:00<00:00, 22.71it/s]\n",
            "epochs:  38%|███▊      | 38/100 [02:36<04:14,  4.10s/it]"
          ]
        },
        {
          "output_type": "stream",
          "name": "stdout",
          "text": [
            "Epoch 00342: reducing learning rate of group 0 to 2.0391e-04.\n",
            "Epoch train loss 3.079673111438751\n",
            "Epoch val_loss 3.056800603866577\n"
          ]
        },
        {
          "output_type": "stream",
          "name": "stderr",
          "text": [
            "\n",
            "train sample batches:   0%|          | 0/20 [00:00<?, ?it/s]\u001b[A\n",
            "train sample batches:   5%|▌         | 1/20 [00:00<00:03,  5.41it/s]\u001b[A\n",
            "train sample batches:  10%|█         | 2/20 [00:00<00:03,  5.40it/s]\u001b[A\n",
            "train sample batches:  15%|█▌        | 3/20 [00:00<00:03,  5.46it/s]\u001b[A\n",
            "train sample batches:  20%|██        | 4/20 [00:00<00:02,  5.56it/s]\u001b[A\n",
            "train sample batches:  25%|██▌       | 5/20 [00:00<00:02,  5.44it/s]\u001b[A\n",
            "train sample batches:  30%|███       | 6/20 [00:01<00:02,  5.41it/s]\u001b[A\n",
            "train sample batches:  35%|███▌      | 7/20 [00:01<00:02,  5.45it/s]\u001b[A\n",
            "train sample batches:  40%|████      | 8/20 [00:01<00:02,  5.40it/s]\u001b[A\n",
            "train sample batches:  45%|████▌     | 9/20 [00:01<00:02,  5.44it/s]\u001b[A\n",
            "train sample batches:  50%|█████     | 10/20 [00:01<00:01,  5.41it/s]\u001b[A\n",
            "train sample batches:  55%|█████▌    | 11/20 [00:02<00:01,  5.40it/s]\u001b[A\n",
            "train sample batches:  60%|██████    | 12/20 [00:02<00:01,  5.43it/s]\u001b[A\n",
            "train sample batches:  65%|██████▌   | 13/20 [00:02<00:01,  5.28it/s]\u001b[A\n",
            "train sample batches:  70%|███████   | 14/20 [00:02<00:01,  5.34it/s]\u001b[A\n",
            "train sample batches:  75%|███████▌  | 15/20 [00:02<00:00,  5.45it/s]\u001b[A\n",
            "train sample batches:  80%|████████  | 16/20 [00:02<00:00,  5.49it/s]\u001b[A\n",
            "train sample batches:  85%|████████▌ | 17/20 [00:03<00:00,  5.46it/s]\u001b[A\n",
            "train sample batches:  90%|█████████ | 18/20 [00:03<00:00,  5.45it/s]\u001b[A\n",
            "train sample batches:  95%|█████████▌| 19/20 [00:03<00:00,  5.44it/s]\u001b[A\n",
            "train sample batches: 100%|██████████| 20/20 [00:03<00:00,  5.43it/s]\n",
            "\n",
            "validation sample batches:   0%|          | 0/9 [00:00<?, ?it/s]\u001b[A\n",
            "validation sample batches:  33%|███▎      | 3/9 [00:00<00:00, 25.74it/s]\u001b[A\n",
            "validation sample batches:  67%|██████▋   | 6/9 [00:00<00:00, 23.57it/s]\u001b[A\n",
            "validation sample batches: 100%|██████████| 9/9 [00:00<00:00, 23.31it/s]\n",
            "epochs:  39%|███▉      | 39/100 [02:40<04:10,  4.10s/it]"
          ]
        },
        {
          "output_type": "stream",
          "name": "stdout",
          "text": [
            "Epoch train loss 3.047115170955658\n",
            "Epoch val_loss 2.9281935691833496\n"
          ]
        },
        {
          "output_type": "stream",
          "name": "stderr",
          "text": [
            "\n",
            "train sample batches:   0%|          | 0/20 [00:00<?, ?it/s]\u001b[A\n",
            "train sample batches:   5%|▌         | 1/20 [00:00<00:03,  5.23it/s]\u001b[A\n",
            "train sample batches:  10%|█         | 2/20 [00:00<00:03,  5.10it/s]\u001b[A\n",
            "train sample batches:  15%|█▌        | 3/20 [00:00<00:03,  5.31it/s]\u001b[A\n",
            "train sample batches:  20%|██        | 4/20 [00:00<00:02,  5.50it/s]\u001b[A\n",
            "train sample batches:  25%|██▌       | 5/20 [00:00<00:02,  5.62it/s]\u001b[A\n",
            "train sample batches:  30%|███       | 6/20 [00:01<00:02,  5.53it/s]\u001b[A\n",
            "train sample batches:  35%|███▌      | 7/20 [00:01<00:02,  5.55it/s]\u001b[A\n",
            "train sample batches:  40%|████      | 8/20 [00:01<00:02,  5.53it/s]\u001b[A\n",
            "train sample batches:  45%|████▌     | 9/20 [00:01<00:01,  5.55it/s]\u001b[A\n",
            "train sample batches:  50%|█████     | 10/20 [00:01<00:01,  5.60it/s]\u001b[A\n",
            "train sample batches:  55%|█████▌    | 11/20 [00:01<00:01,  5.60it/s]\u001b[A\n",
            "train sample batches:  60%|██████    | 12/20 [00:02<00:01,  5.55it/s]\u001b[A\n",
            "train sample batches:  65%|██████▌   | 13/20 [00:02<00:01,  5.37it/s]\u001b[A\n",
            "train sample batches:  70%|███████   | 14/20 [00:02<00:01,  5.40it/s]\u001b[A\n",
            "train sample batches:  75%|███████▌  | 15/20 [00:02<00:00,  5.36it/s]\u001b[A\n",
            "train sample batches:  80%|████████  | 16/20 [00:02<00:00,  5.44it/s]\u001b[A\n",
            "train sample batches:  85%|████████▌ | 17/20 [00:03<00:00,  5.49it/s]\u001b[A\n",
            "train sample batches:  90%|█████████ | 18/20 [00:03<00:00,  5.51it/s]\u001b[A\n",
            "train sample batches:  95%|█████████▌| 19/20 [00:03<00:00,  5.51it/s]\u001b[A\n",
            "train sample batches: 100%|██████████| 20/20 [00:03<00:00,  5.48it/s]\n",
            "\n",
            "validation sample batches:   0%|          | 0/9 [00:00<?, ?it/s]\u001b[A\n",
            "validation sample batches:  22%|██▏       | 2/9 [00:00<00:00, 18.95it/s]\u001b[A\n",
            "validation sample batches:  56%|█████▌    | 5/9 [00:00<00:00, 21.59it/s]\u001b[A"
          ]
        },
        {
          "output_type": "stream",
          "name": "stdout",
          "text": [
            "Epoch 00353: reducing learning rate of group 0 to 1.9371e-04.\n"
          ]
        },
        {
          "output_type": "stream",
          "name": "stderr",
          "text": [
            "\n",
            "validation sample batches: 100%|██████████| 9/9 [00:00<00:00, 21.16it/s]\n",
            "epochs:  40%|████      | 40/100 [02:44<04:06,  4.11s/it]"
          ]
        },
        {
          "output_type": "stream",
          "name": "stdout",
          "text": [
            "Epoch train loss 3.003963661193848\n",
            "Epoch val_loss 2.947458267211914\n"
          ]
        },
        {
          "output_type": "stream",
          "name": "stderr",
          "text": [
            "\n",
            "train sample batches:   0%|          | 0/20 [00:00<?, ?it/s]\u001b[A\n",
            "train sample batches:   5%|▌         | 1/20 [00:00<00:03,  5.36it/s]\u001b[A\n",
            "train sample batches:  10%|█         | 2/20 [00:00<00:03,  5.11it/s]\u001b[A\n",
            "train sample batches:  15%|█▌        | 3/20 [00:00<00:03,  5.07it/s]\u001b[A\n",
            "train sample batches:  20%|██        | 4/20 [00:00<00:03,  5.12it/s]\u001b[A\n",
            "train sample batches:  25%|██▌       | 5/20 [00:00<00:02,  5.24it/s]\u001b[A\n",
            "train sample batches:  30%|███       | 6/20 [00:01<00:02,  5.26it/s]\u001b[A\n",
            "train sample batches:  35%|███▌      | 7/20 [00:01<00:02,  5.17it/s]\u001b[A\n",
            "train sample batches:  40%|████      | 8/20 [00:01<00:02,  5.30it/s]\u001b[A\n",
            "train sample batches:  45%|████▌     | 9/20 [00:01<00:02,  5.32it/s]\u001b[A\n",
            "train sample batches:  50%|█████     | 10/20 [00:01<00:01,  5.45it/s]\u001b[A\n",
            "train sample batches:  55%|█████▌    | 11/20 [00:02<00:01,  5.55it/s]\u001b[A\n",
            "train sample batches:  60%|██████    | 12/20 [00:02<00:01,  5.48it/s]\u001b[A\n",
            "train sample batches:  65%|██████▌   | 13/20 [00:02<00:01,  5.42it/s]\u001b[A\n",
            "train sample batches:  70%|███████   | 14/20 [00:02<00:01,  5.36it/s]\u001b[A\n",
            "train sample batches:  75%|███████▌  | 15/20 [00:02<00:00,  5.41it/s]\u001b[A\n",
            "train sample batches:  80%|████████  | 16/20 [00:02<00:00,  5.48it/s]\u001b[A\n",
            "train sample batches:  85%|████████▌ | 17/20 [00:03<00:00,  5.50it/s]\u001b[A\n",
            "train sample batches:  90%|█████████ | 18/20 [00:03<00:00,  5.46it/s]\u001b[A\n",
            "train sample batches:  95%|█████████▌| 19/20 [00:03<00:00,  5.44it/s]\u001b[A\n",
            "train sample batches: 100%|██████████| 20/20 [00:03<00:00,  5.38it/s]\n",
            "\n",
            "validation sample batches:   0%|          | 0/9 [00:00<?, ?it/s]\u001b[A\n",
            "validation sample batches:  33%|███▎      | 3/9 [00:00<00:00, 26.12it/s]\u001b[A\n",
            "validation sample batches:  67%|██████▋   | 6/9 [00:00<00:00, 23.58it/s]\u001b[A\n",
            "validation sample batches: 100%|██████████| 9/9 [00:00<00:00, 24.64it/s]"
          ]
        },
        {
          "output_type": "stream",
          "name": "stdout",
          "text": [
            "Epoch 00364: reducing learning rate of group 0 to 1.8403e-04.\n"
          ]
        },
        {
          "output_type": "stream",
          "name": "stderr",
          "text": [
            "validation sample batches: 100%|██████████| 9/9 [00:00<00:00, 23.83it/s]\n",
            "epochs:  41%|████      | 41/100 [02:48<04:02,  4.12s/it]"
          ]
        },
        {
          "output_type": "stream",
          "name": "stdout",
          "text": [
            "Epoch train loss 2.9966299533843994\n",
            "Epoch val_loss 3.110564947128296\n"
          ]
        },
        {
          "output_type": "stream",
          "name": "stderr",
          "text": [
            "\n",
            "train sample batches:   0%|          | 0/20 [00:00<?, ?it/s]\u001b[A\n",
            "train sample batches:   5%|▌         | 1/20 [00:00<00:03,  5.41it/s]\u001b[A\n",
            "train sample batches:  10%|█         | 2/20 [00:00<00:03,  5.39it/s]\u001b[A\n",
            "train sample batches:  15%|█▌        | 3/20 [00:00<00:03,  5.36it/s]\u001b[A\n",
            "train sample batches:  20%|██        | 4/20 [00:00<00:02,  5.39it/s]\u001b[A\n",
            "train sample batches:  25%|██▌       | 5/20 [00:00<00:02,  5.36it/s]\u001b[A\n",
            "train sample batches:  30%|███       | 6/20 [00:01<00:02,  5.39it/s]\u001b[A\n",
            "train sample batches:  35%|███▌      | 7/20 [00:01<00:02,  5.21it/s]\u001b[A\n",
            "train sample batches:  40%|████      | 8/20 [00:01<00:02,  5.30it/s]\u001b[A\n",
            "train sample batches:  45%|████▌     | 9/20 [00:01<00:02,  5.34it/s]\u001b[A\n",
            "train sample batches:  50%|█████     | 10/20 [00:01<00:01,  5.47it/s]\u001b[A\n",
            "train sample batches:  55%|█████▌    | 11/20 [00:02<00:01,  5.51it/s]\u001b[A\n",
            "train sample batches:  60%|██████    | 12/20 [00:02<00:01,  5.54it/s]\u001b[A\n",
            "train sample batches:  65%|██████▌   | 13/20 [00:02<00:01,  5.36it/s]\u001b[A\n",
            "train sample batches:  70%|███████   | 14/20 [00:02<00:01,  5.32it/s]\u001b[A\n",
            "train sample batches:  75%|███████▌  | 15/20 [00:02<00:00,  5.41it/s]\u001b[A\n",
            "train sample batches:  80%|████████  | 16/20 [00:02<00:00,  5.38it/s]\u001b[A\n",
            "train sample batches:  85%|████████▌ | 17/20 [00:03<00:00,  5.33it/s]\u001b[A\n",
            "train sample batches:  90%|█████████ | 18/20 [00:03<00:00,  5.30it/s]\u001b[A\n",
            "train sample batches:  95%|█████████▌| 19/20 [00:03<00:00,  5.35it/s]\u001b[A\n",
            "train sample batches: 100%|██████████| 20/20 [00:03<00:00,  5.35it/s]\n",
            "\n",
            "validation sample batches:   0%|          | 0/9 [00:00<?, ?it/s]\u001b[A\n",
            "validation sample batches:  33%|███▎      | 3/9 [00:00<00:00, 27.89it/s]\u001b[A\n",
            "validation sample batches:  67%|██████▋   | 6/9 [00:00<00:00, 24.56it/s]\u001b[A\n",
            "validation sample batches: 100%|██████████| 9/9 [00:00<00:00, 24.00it/s]\n",
            "epochs:  42%|████▏     | 42/100 [02:53<03:59,  4.13s/it]"
          ]
        },
        {
          "output_type": "stream",
          "name": "stdout",
          "text": [
            "Epoch 00375: reducing learning rate of group 0 to 1.7482e-04.\n",
            "Epoch train loss 2.9723557114601133\n",
            "Epoch val_loss 3.051964044570923\n"
          ]
        },
        {
          "output_type": "stream",
          "name": "stderr",
          "text": [
            "\n",
            "train sample batches:   0%|          | 0/20 [00:00<?, ?it/s]\u001b[A\n",
            "train sample batches:   5%|▌         | 1/20 [00:00<00:03,  5.46it/s]\u001b[A\n",
            "train sample batches:  10%|█         | 2/20 [00:00<00:03,  5.31it/s]\u001b[A\n",
            "train sample batches:  15%|█▌        | 3/20 [00:00<00:03,  5.30it/s]\u001b[A\n",
            "train sample batches:  20%|██        | 4/20 [00:00<00:03,  5.30it/s]\u001b[A\n",
            "train sample batches:  25%|██▌       | 5/20 [00:00<00:02,  5.42it/s]\u001b[A\n",
            "train sample batches:  30%|███       | 6/20 [00:01<00:02,  5.42it/s]\u001b[A\n",
            "train sample batches:  35%|███▌      | 7/20 [00:01<00:02,  5.32it/s]\u001b[A\n",
            "train sample batches:  40%|████      | 8/20 [00:01<00:02,  5.36it/s]\u001b[A\n",
            "train sample batches:  45%|████▌     | 9/20 [00:01<00:02,  5.38it/s]\u001b[A\n",
            "train sample batches:  50%|█████     | 10/20 [00:01<00:01,  5.41it/s]\u001b[A\n",
            "train sample batches:  55%|█████▌    | 11/20 [00:02<00:01,  5.40it/s]\u001b[A\n",
            "train sample batches:  60%|██████    | 12/20 [00:02<00:01,  5.49it/s]\u001b[A\n",
            "train sample batches:  65%|██████▌   | 13/20 [00:02<00:01,  5.36it/s]\u001b[A\n",
            "train sample batches:  70%|███████   | 14/20 [00:02<00:01,  5.38it/s]\u001b[A\n",
            "train sample batches:  75%|███████▌  | 15/20 [00:02<00:00,  5.51it/s]\u001b[A\n",
            "train sample batches:  80%|████████  | 16/20 [00:02<00:00,  5.55it/s]\u001b[A\n",
            "train sample batches:  85%|████████▌ | 17/20 [00:03<00:00,  5.57it/s]\u001b[A\n",
            "train sample batches:  90%|█████████ | 18/20 [00:03<00:00,  5.53it/s]\u001b[A\n",
            "train sample batches:  95%|█████████▌| 19/20 [00:03<00:00,  5.50it/s]\u001b[A\n",
            "train sample batches: 100%|██████████| 20/20 [00:03<00:00,  5.44it/s]\n",
            "\n",
            "validation sample batches:   0%|          | 0/9 [00:00<?, ?it/s]\u001b[A\n",
            "validation sample batches:  22%|██▏       | 2/9 [00:00<00:00, 17.14it/s]\u001b[A\n",
            "validation sample batches:  56%|█████▌    | 5/9 [00:00<00:00, 20.68it/s]\u001b[A\n",
            "validation sample batches: 100%|██████████| 9/9 [00:00<00:00, 21.38it/s]\n",
            "epochs:  43%|████▎     | 43/100 [02:57<03:55,  4.14s/it]"
          ]
        },
        {
          "output_type": "stream",
          "name": "stdout",
          "text": [
            "Epoch 00386: reducing learning rate of group 0 to 1.6608e-04.\n",
            "Epoch train loss 2.935178017616272\n",
            "Epoch val_loss 2.632939338684082\n"
          ]
        },
        {
          "output_type": "stream",
          "name": "stderr",
          "text": [
            "\n",
            "train sample batches:   0%|          | 0/20 [00:00<?, ?it/s]\u001b[A\n",
            "train sample batches:   5%|▌         | 1/20 [00:00<00:03,  5.46it/s]\u001b[A\n",
            "train sample batches:  10%|█         | 2/20 [00:00<00:03,  5.50it/s]\u001b[A\n",
            "train sample batches:  15%|█▌        | 3/20 [00:00<00:03,  5.60it/s]\u001b[A\n",
            "train sample batches:  20%|██        | 4/20 [00:00<00:02,  5.71it/s]\u001b[A\n",
            "train sample batches:  25%|██▌       | 5/20 [00:00<00:02,  5.61it/s]\u001b[A\n",
            "train sample batches:  30%|███       | 6/20 [00:01<00:02,  5.60it/s]\u001b[A\n",
            "train sample batches:  35%|███▌      | 7/20 [00:01<00:02,  5.46it/s]\u001b[A\n",
            "train sample batches:  40%|████      | 8/20 [00:01<00:02,  5.50it/s]\u001b[A\n",
            "train sample batches:  45%|████▌     | 9/20 [00:01<00:02,  5.47it/s]\u001b[A\n",
            "train sample batches:  50%|█████     | 10/20 [00:01<00:01,  5.52it/s]\u001b[A\n",
            "train sample batches:  55%|█████▌    | 11/20 [00:01<00:01,  5.55it/s]\u001b[A\n",
            "train sample batches:  60%|██████    | 12/20 [00:02<00:01,  5.58it/s]\u001b[A\n",
            "train sample batches:  65%|██████▌   | 13/20 [00:02<00:01,  5.57it/s]\u001b[A\n",
            "train sample batches:  70%|███████   | 14/20 [00:02<00:01,  5.63it/s]\u001b[A\n",
            "train sample batches:  75%|███████▌  | 15/20 [00:02<00:00,  5.67it/s]\u001b[A\n",
            "train sample batches:  80%|████████  | 16/20 [00:02<00:00,  5.56it/s]\u001b[A\n",
            "train sample batches:  85%|████████▌ | 17/20 [00:03<00:00,  5.48it/s]\u001b[A\n",
            "train sample batches:  90%|█████████ | 18/20 [00:03<00:00,  5.46it/s]\u001b[A\n",
            "train sample batches:  95%|█████████▌| 19/20 [00:03<00:00,  5.48it/s]\u001b[A\n",
            "train sample batches: 100%|██████████| 20/20 [00:03<00:00,  5.54it/s]\n",
            "\n",
            "validation sample batches:   0%|          | 0/9 [00:00<?, ?it/s]\u001b[A\n",
            "validation sample batches:  33%|███▎      | 3/9 [00:00<00:00, 29.89it/s]\u001b[A\n",
            "validation sample batches:  67%|██████▋   | 6/9 [00:00<00:00, 24.73it/s]\u001b[A\n",
            "validation sample batches: 100%|██████████| 9/9 [00:00<00:00, 24.58it/s]\n",
            "epochs:  44%|████▍     | 44/100 [03:01<03:49,  4.10s/it]"
          ]
        },
        {
          "output_type": "stream",
          "name": "stdout",
          "text": [
            "Epoch train loss 2.9137918829917906\n",
            "Epoch val_loss 2.8969757556915283\n"
          ]
        },
        {
          "output_type": "stream",
          "name": "stderr",
          "text": [
            "\n",
            "train sample batches:   0%|          | 0/20 [00:00<?, ?it/s]\u001b[A\n",
            "train sample batches:   5%|▌         | 1/20 [00:00<00:03,  5.68it/s]\u001b[A\n",
            "train sample batches:  10%|█         | 2/20 [00:00<00:03,  5.30it/s]\u001b[A\n",
            "train sample batches:  15%|█▌        | 3/20 [00:00<00:03,  5.47it/s]\u001b[A\n",
            "train sample batches:  20%|██        | 4/20 [00:00<00:02,  5.39it/s]\u001b[A\n",
            "train sample batches:  25%|██▌       | 5/20 [00:00<00:02,  5.50it/s]\u001b[A\n",
            "train sample batches:  30%|███       | 6/20 [00:01<00:02,  5.47it/s]\u001b[A\n",
            "train sample batches:  35%|███▌      | 7/20 [00:01<00:02,  5.30it/s]\u001b[A\n",
            "train sample batches:  40%|████      | 8/20 [00:01<00:02,  5.38it/s]\u001b[A\n",
            "train sample batches:  45%|████▌     | 9/20 [00:01<00:02,  5.37it/s]\u001b[A\n",
            "train sample batches:  50%|█████     | 10/20 [00:01<00:01,  5.40it/s]\u001b[A\n",
            "train sample batches:  55%|█████▌    | 11/20 [00:02<00:01,  5.42it/s]\u001b[A\n",
            "train sample batches:  60%|██████    | 12/20 [00:02<00:01,  5.44it/s]\u001b[A\n",
            "train sample batches:  65%|██████▌   | 13/20 [00:02<00:01,  5.40it/s]\u001b[A\n",
            "train sample batches:  70%|███████   | 14/20 [00:02<00:01,  5.49it/s]\u001b[A\n",
            "train sample batches:  75%|███████▌  | 15/20 [00:02<00:00,  5.49it/s]\u001b[A\n",
            "train sample batches:  80%|████████  | 16/20 [00:02<00:00,  5.48it/s]\u001b[A\n",
            "train sample batches:  85%|████████▌ | 17/20 [00:03<00:00,  5.47it/s]\u001b[A\n",
            "train sample batches:  90%|█████████ | 18/20 [00:03<00:00,  5.42it/s]\u001b[A\n",
            "train sample batches:  95%|█████████▌| 19/20 [00:03<00:00,  5.41it/s]\u001b[A\n",
            "train sample batches: 100%|██████████| 20/20 [00:03<00:00,  5.43it/s]\n",
            "\n",
            "validation sample batches:   0%|          | 0/9 [00:00<?, ?it/s]\u001b[A\n",
            "validation sample batches:  33%|███▎      | 3/9 [00:00<00:00, 28.63it/s]\u001b[A\n"
          ]
        },
        {
          "output_type": "stream",
          "name": "stdout",
          "text": [
            "Epoch 00397: reducing learning rate of group 0 to 1.5778e-04.\n"
          ]
        },
        {
          "output_type": "stream",
          "name": "stderr",
          "text": [
            "validation sample batches:  67%|██████▋   | 6/9 [00:00<00:00, 24.32it/s]\u001b[A\n",
            "validation sample batches: 100%|██████████| 9/9 [00:00<00:00, 24.67it/s]\n",
            "epochs:  45%|████▌     | 45/100 [03:05<03:45,  4.10s/it]"
          ]
        },
        {
          "output_type": "stream",
          "name": "stdout",
          "text": [
            "Epoch train loss 2.896098053455353\n",
            "Epoch val_loss 2.8974039554595947\n"
          ]
        },
        {
          "output_type": "stream",
          "name": "stderr",
          "text": [
            "\n",
            "train sample batches:   0%|          | 0/20 [00:00<?, ?it/s]\u001b[A\n",
            "train sample batches:   5%|▌         | 1/20 [00:00<00:03,  5.63it/s]\u001b[A\n",
            "train sample batches:  10%|█         | 2/20 [00:00<00:03,  5.37it/s]\u001b[A\n",
            "train sample batches:  15%|█▌        | 3/20 [00:00<00:03,  5.49it/s]\u001b[A\n",
            "train sample batches:  20%|██        | 4/20 [00:00<00:02,  5.44it/s]\u001b[A\n",
            "train sample batches:  25%|██▌       | 5/20 [00:00<00:02,  5.50it/s]\u001b[A\n",
            "train sample batches:  30%|███       | 6/20 [00:01<00:02,  5.53it/s]\u001b[A\n",
            "train sample batches:  35%|███▌      | 7/20 [00:01<00:02,  5.36it/s]\u001b[A\n",
            "train sample batches:  40%|████      | 8/20 [00:01<00:02,  5.41it/s]\u001b[A\n",
            "train sample batches:  45%|████▌     | 9/20 [00:01<00:02,  5.49it/s]\u001b[A\n",
            "train sample batches:  50%|█████     | 10/20 [00:01<00:01,  5.45it/s]\u001b[A\n",
            "train sample batches:  55%|█████▌    | 11/20 [00:02<00:01,  5.41it/s]\u001b[A\n",
            "train sample batches:  60%|██████    | 12/20 [00:02<00:01,  5.39it/s]\u001b[A\n",
            "train sample batches:  65%|██████▌   | 13/20 [00:02<00:01,  5.26it/s]\u001b[A\n",
            "train sample batches:  70%|███████   | 14/20 [00:02<00:01,  5.26it/s]\u001b[A\n",
            "train sample batches:  75%|███████▌  | 15/20 [00:02<00:00,  5.40it/s]\u001b[A\n",
            "train sample batches:  80%|████████  | 16/20 [00:02<00:00,  5.41it/s]\u001b[A\n",
            "train sample batches:  85%|████████▌ | 17/20 [00:03<00:00,  5.42it/s]\u001b[A\n",
            "train sample batches:  90%|█████████ | 18/20 [00:03<00:00,  5.35it/s]\u001b[A\n",
            "train sample batches:  95%|█████████▌| 19/20 [00:03<00:00,  5.38it/s]\u001b[A\n",
            "train sample batches: 100%|██████████| 20/20 [00:03<00:00,  5.42it/s]\n",
            "\n",
            "validation sample batches:   0%|          | 0/9 [00:00<?, ?it/s]\u001b[A\n",
            "validation sample batches:  22%|██▏       | 2/9 [00:00<00:00, 19.85it/s]\u001b[A\n",
            "validation sample batches:  56%|█████▌    | 5/9 [00:00<00:00, 21.56it/s]\u001b[A"
          ]
        },
        {
          "output_type": "stream",
          "name": "stdout",
          "text": [
            "Epoch 00408: reducing learning rate of group 0 to 1.4989e-04.\n"
          ]
        },
        {
          "output_type": "stream",
          "name": "stderr",
          "text": [
            "\n",
            "validation sample batches: 100%|██████████| 9/9 [00:00<00:00, 21.04it/s]\n",
            "epochs:  46%|████▌     | 46/100 [03:09<03:42,  4.13s/it]"
          ]
        },
        {
          "output_type": "stream",
          "name": "stdout",
          "text": [
            "Epoch train loss 2.869272220134735\n",
            "Epoch val_loss 2.996436357498169\n"
          ]
        },
        {
          "output_type": "stream",
          "name": "stderr",
          "text": [
            "\n",
            "train sample batches:   0%|          | 0/20 [00:00<?, ?it/s]\u001b[A\n",
            "train sample batches:   5%|▌         | 1/20 [00:00<00:03,  4.95it/s]\u001b[A\n",
            "train sample batches:  10%|█         | 2/20 [00:00<00:03,  5.15it/s]\u001b[A\n",
            "train sample batches:  15%|█▌        | 3/20 [00:00<00:03,  5.28it/s]\u001b[A\n",
            "train sample batches:  20%|██        | 4/20 [00:00<00:03,  5.28it/s]\u001b[A\n",
            "train sample batches:  25%|██▌       | 5/20 [00:00<00:02,  5.40it/s]\u001b[A\n",
            "train sample batches:  30%|███       | 6/20 [00:01<00:02,  5.42it/s]\u001b[A\n",
            "train sample batches:  35%|███▌      | 7/20 [00:01<00:02,  5.26it/s]\u001b[A\n",
            "train sample batches:  40%|████      | 8/20 [00:01<00:02,  5.30it/s]\u001b[A\n",
            "train sample batches:  45%|████▌     | 9/20 [00:01<00:02,  5.33it/s]\u001b[A\n",
            "train sample batches:  50%|█████     | 10/20 [00:01<00:01,  5.41it/s]\u001b[A\n",
            "train sample batches:  55%|█████▌    | 11/20 [00:02<00:01,  5.44it/s]\u001b[A\n",
            "train sample batches:  60%|██████    | 12/20 [00:02<00:01,  5.35it/s]\u001b[A\n",
            "train sample batches:  65%|██████▌   | 13/20 [00:02<00:01,  5.42it/s]\u001b[A\n",
            "train sample batches:  70%|███████   | 14/20 [00:02<00:01,  5.52it/s]\u001b[A\n",
            "train sample batches:  75%|███████▌  | 15/20 [00:02<00:00,  5.48it/s]\u001b[A\n",
            "train sample batches:  80%|████████  | 16/20 [00:02<00:00,  5.57it/s]\u001b[A\n",
            "train sample batches:  85%|████████▌ | 17/20 [00:03<00:00,  5.54it/s]\u001b[A\n",
            "train sample batches:  90%|█████████ | 18/20 [00:03<00:00,  5.33it/s]\u001b[A\n",
            "train sample batches:  95%|█████████▌| 19/20 [00:03<00:00,  5.38it/s]\u001b[A\n",
            "train sample batches: 100%|██████████| 20/20 [00:03<00:00,  5.39it/s]\n",
            "\n",
            "validation sample batches:   0%|          | 0/9 [00:00<?, ?it/s]\u001b[A\n",
            "validation sample batches:  33%|███▎      | 3/9 [00:00<00:00, 24.77it/s]\u001b[A\n",
            "validation sample batches:  67%|██████▋   | 6/9 [00:00<00:00, 22.97it/s]\u001b[A\n",
            "validation sample batches: 100%|██████████| 9/9 [00:00<00:00, 22.73it/s]"
          ]
        },
        {
          "output_type": "stream",
          "name": "stdout",
          "text": [
            "Epoch 00419: reducing learning rate of group 0 to 1.4240e-04.\n",
            "Epoch train loss 2.844003963470459\n",
            "Epoch val_loss 2.600771427154541\n"
          ]
        },
        {
          "output_type": "stream",
          "name": "stderr",
          "text": [
            "\n",
            "epochs:  47%|████▋     | 47/100 [03:13<03:39,  4.14s/it]\n",
            "train sample batches:   0%|          | 0/20 [00:00<?, ?it/s]\u001b[A\n",
            "train sample batches:   5%|▌         | 1/20 [00:00<00:03,  5.38it/s]\u001b[A\n",
            "train sample batches:  10%|█         | 2/20 [00:00<00:03,  5.40it/s]\u001b[A\n",
            "train sample batches:  15%|█▌        | 3/20 [00:00<00:03,  5.52it/s]\u001b[A\n",
            "train sample batches:  20%|██        | 4/20 [00:00<00:02,  5.42it/s]\u001b[A\n",
            "train sample batches:  25%|██▌       | 5/20 [00:00<00:02,  5.44it/s]\u001b[A\n",
            "train sample batches:  30%|███       | 6/20 [00:01<00:02,  5.37it/s]\u001b[A\n",
            "train sample batches:  35%|███▌      | 7/20 [00:01<00:02,  5.42it/s]\u001b[A\n",
            "train sample batches:  40%|████      | 8/20 [00:01<00:02,  5.47it/s]\u001b[A\n",
            "train sample batches:  45%|████▌     | 9/20 [00:01<00:01,  5.57it/s]\u001b[A\n",
            "train sample batches:  50%|█████     | 10/20 [00:01<00:01,  5.56it/s]\u001b[A\n",
            "train sample batches:  55%|█████▌    | 11/20 [00:02<00:01,  5.58it/s]\u001b[A\n",
            "train sample batches:  60%|██████    | 12/20 [00:02<00:01,  5.47it/s]\u001b[A\n",
            "train sample batches:  65%|██████▌   | 13/20 [00:02<00:01,  5.48it/s]\u001b[A\n",
            "train sample batches:  70%|███████   | 14/20 [00:02<00:01,  5.51it/s]\u001b[A\n",
            "train sample batches:  75%|███████▌  | 15/20 [00:02<00:00,  5.56it/s]\u001b[A\n",
            "train sample batches:  80%|████████  | 16/20 [00:02<00:00,  5.57it/s]\u001b[A\n",
            "train sample batches:  85%|████████▌ | 17/20 [00:03<00:00,  5.48it/s]\u001b[A\n",
            "train sample batches:  90%|█████████ | 18/20 [00:03<00:00,  5.36it/s]\u001b[A\n",
            "train sample batches:  95%|█████████▌| 19/20 [00:03<00:00,  5.31it/s]\u001b[A\n",
            "train sample batches: 100%|██████████| 20/20 [00:03<00:00,  5.44it/s]\n",
            "\n",
            "validation sample batches:   0%|          | 0/9 [00:00<?, ?it/s]\u001b[A\n",
            "validation sample batches:  22%|██▏       | 2/9 [00:00<00:00, 18.58it/s]\u001b[A\n",
            "validation sample batches:  56%|█████▌    | 5/9 [00:00<00:00, 20.12it/s]\u001b[A\n",
            "validation sample batches: 100%|██████████| 9/9 [00:00<00:00, 20.63it/s]\n",
            "epochs:  48%|████▊     | 48/100 [03:17<03:35,  4.15s/it]"
          ]
        },
        {
          "output_type": "stream",
          "name": "stdout",
          "text": [
            "Epoch 00430: reducing learning rate of group 0 to 1.3528e-04.\n",
            "Epoch train loss 2.8314059257507322\n",
            "Epoch val_loss 3.040600538253784\n"
          ]
        },
        {
          "output_type": "stream",
          "name": "stderr",
          "text": [
            "\n",
            "train sample batches:   0%|          | 0/20 [00:00<?, ?it/s]\u001b[A\n",
            "train sample batches:   5%|▌         | 1/20 [00:00<00:03,  5.29it/s]\u001b[A\n",
            "train sample batches:  10%|█         | 2/20 [00:00<00:03,  5.56it/s]\u001b[A\n",
            "train sample batches:  15%|█▌        | 3/20 [00:00<00:03,  5.62it/s]\u001b[A\n",
            "train sample batches:  20%|██        | 4/20 [00:00<00:02,  5.65it/s]\u001b[A\n",
            "train sample batches:  25%|██▌       | 5/20 [00:00<00:02,  5.50it/s]\u001b[A\n",
            "train sample batches:  30%|███       | 6/20 [00:01<00:02,  5.49it/s]\u001b[A\n",
            "train sample batches:  35%|███▌      | 7/20 [00:01<00:02,  5.42it/s]\u001b[A\n",
            "train sample batches:  40%|████      | 8/20 [00:01<00:02,  5.41it/s]\u001b[A\n",
            "train sample batches:  45%|████▌     | 9/20 [00:01<00:01,  5.50it/s]\u001b[A\n",
            "train sample batches:  50%|█████     | 10/20 [00:01<00:01,  5.49it/s]\u001b[A\n",
            "train sample batches:  55%|█████▌    | 11/20 [00:02<00:01,  5.45it/s]\u001b[A\n",
            "train sample batches:  60%|██████    | 12/20 [00:02<00:01,  5.38it/s]\u001b[A\n",
            "train sample batches:  65%|██████▌   | 13/20 [00:02<00:01,  5.32it/s]\u001b[A\n",
            "train sample batches:  70%|███████   | 14/20 [00:02<00:01,  5.39it/s]\u001b[A\n",
            "train sample batches:  75%|███████▌  | 15/20 [00:02<00:00,  5.36it/s]\u001b[A\n",
            "train sample batches:  80%|████████  | 16/20 [00:02<00:00,  5.53it/s]\u001b[A\n",
            "train sample batches:  85%|████████▌ | 17/20 [00:03<00:00,  5.42it/s]\u001b[A\n",
            "train sample batches:  90%|█████████ | 18/20 [00:03<00:00,  5.32it/s]\u001b[A\n",
            "train sample batches:  95%|█████████▌| 19/20 [00:03<00:00,  5.36it/s]\u001b[A\n",
            "train sample batches: 100%|██████████| 20/20 [00:03<00:00,  5.43it/s]\n",
            "\n",
            "validation sample batches:   0%|          | 0/9 [00:00<?, ?it/s]\u001b[A\n",
            "validation sample batches:  33%|███▎      | 3/9 [00:00<00:00, 24.20it/s]\u001b[A\n",
            "validation sample batches:  67%|██████▋   | 6/9 [00:00<00:00, 22.57it/s]\u001b[A\n",
            "validation sample batches: 100%|██████████| 9/9 [00:00<00:00, 22.73it/s]\n",
            "epochs:  49%|████▉     | 49/100 [03:22<03:31,  4.14s/it]"
          ]
        },
        {
          "output_type": "stream",
          "name": "stdout",
          "text": [
            "Epoch 00441: reducing learning rate of group 0 to 1.2851e-04.\n",
            "Epoch train loss 2.8082655549049376\n",
            "Epoch val_loss 2.702169418334961\n"
          ]
        },
        {
          "output_type": "stream",
          "name": "stderr",
          "text": [
            "\n",
            "train sample batches:   0%|          | 0/20 [00:00<?, ?it/s]\u001b[A\n",
            "train sample batches:   5%|▌         | 1/20 [00:00<00:03,  5.16it/s]\u001b[A\n",
            "train sample batches:  10%|█         | 2/20 [00:00<00:03,  5.48it/s]\u001b[A\n",
            "train sample batches:  15%|█▌        | 3/20 [00:00<00:03,  5.51it/s]\u001b[A\n",
            "train sample batches:  20%|██        | 4/20 [00:00<00:02,  5.42it/s]\u001b[A\n",
            "train sample batches:  25%|██▌       | 5/20 [00:00<00:02,  5.39it/s]\u001b[A\n",
            "train sample batches:  30%|███       | 6/20 [00:01<00:02,  5.37it/s]\u001b[A\n",
            "train sample batches:  35%|███▌      | 7/20 [00:01<00:02,  5.34it/s]\u001b[A\n",
            "train sample batches:  40%|████      | 8/20 [00:01<00:02,  5.26it/s]\u001b[A\n",
            "train sample batches:  45%|████▌     | 9/20 [00:01<00:02,  5.32it/s]\u001b[A\n",
            "train sample batches:  50%|█████     | 10/20 [00:01<00:01,  5.32it/s]\u001b[A\n",
            "train sample batches:  55%|█████▌    | 11/20 [00:02<00:01,  5.30it/s]\u001b[A\n",
            "train sample batches:  60%|██████    | 12/20 [00:02<00:01,  5.24it/s]\u001b[A\n",
            "train sample batches:  65%|██████▌   | 13/20 [00:02<00:01,  5.22it/s]\u001b[A\n",
            "train sample batches:  70%|███████   | 14/20 [00:02<00:01,  5.24it/s]\u001b[A\n",
            "train sample batches:  75%|███████▌  | 15/20 [00:02<00:00,  5.24it/s]\u001b[A\n",
            "train sample batches:  80%|████████  | 16/20 [00:03<00:00,  5.29it/s]\u001b[A\n",
            "train sample batches:  85%|████████▌ | 17/20 [00:03<00:00,  5.31it/s]\u001b[A\n",
            "train sample batches:  90%|█████████ | 18/20 [00:03<00:00,  5.33it/s]\u001b[A\n",
            "train sample batches:  95%|█████████▌| 19/20 [00:03<00:00,  5.36it/s]\u001b[A\n",
            "train sample batches: 100%|██████████| 20/20 [00:03<00:00,  5.32it/s]\n",
            "\n",
            "validation sample batches:   0%|          | 0/9 [00:00<?, ?it/s]\u001b[A\n",
            "validation sample batches:  33%|███▎      | 3/9 [00:00<00:00, 22.54it/s]\u001b[A\n",
            "validation sample batches:  67%|██████▋   | 6/9 [00:00<00:00, 22.41it/s]\u001b[A\n",
            "validation sample batches: 100%|██████████| 9/9 [00:00<00:00, 22.23it/s]\n",
            "epochs:  50%|█████     | 50/100 [03:26<03:28,  4.16s/it]"
          ]
        },
        {
          "output_type": "stream",
          "name": "stdout",
          "text": [
            "Epoch train loss 2.7753475427627565\n",
            "Epoch val_loss 2.78666615486145\n"
          ]
        },
        {
          "output_type": "stream",
          "name": "stderr",
          "text": [
            "\n",
            "train sample batches:   0%|          | 0/20 [00:00<?, ?it/s]\u001b[A\n",
            "train sample batches:   5%|▌         | 1/20 [00:00<00:03,  5.17it/s]\u001b[A\n",
            "train sample batches:  10%|█         | 2/20 [00:00<00:03,  5.40it/s]\u001b[A\n",
            "train sample batches:  15%|█▌        | 3/20 [00:00<00:03,  5.41it/s]\u001b[A\n",
            "train sample batches:  20%|██        | 4/20 [00:00<00:02,  5.36it/s]\u001b[A\n",
            "train sample batches:  25%|██▌       | 5/20 [00:00<00:02,  5.39it/s]\u001b[A\n",
            "train sample batches:  30%|███       | 6/20 [00:01<00:02,  5.25it/s]\u001b[A\n",
            "train sample batches:  35%|███▌      | 7/20 [00:01<00:02,  5.30it/s]\u001b[A\n",
            "train sample batches:  40%|████      | 8/20 [00:01<00:02,  5.33it/s]\u001b[A\n",
            "train sample batches:  45%|████▌     | 9/20 [00:01<00:02,  5.25it/s]\u001b[A\n",
            "train sample batches:  50%|█████     | 10/20 [00:01<00:01,  5.31it/s]\u001b[A\n",
            "train sample batches:  55%|█████▌    | 11/20 [00:02<00:01,  5.26it/s]\u001b[A\n",
            "train sample batches:  60%|██████    | 12/20 [00:02<00:01,  5.31it/s]\u001b[A\n",
            "train sample batches:  65%|██████▌   | 13/20 [00:02<00:01,  5.31it/s]\u001b[A\n",
            "train sample batches:  70%|███████   | 14/20 [00:02<00:01,  5.22it/s]\u001b[A\n",
            "train sample batches:  75%|███████▌  | 15/20 [00:02<00:00,  5.27it/s]\u001b[A\n",
            "train sample batches:  80%|████████  | 16/20 [00:03<00:00,  5.22it/s]\u001b[A\n",
            "train sample batches:  85%|████████▌ | 17/20 [00:03<00:00,  5.23it/s]\u001b[A\n",
            "train sample batches:  90%|█████████ | 18/20 [00:03<00:00,  5.25it/s]\u001b[A\n",
            "train sample batches:  95%|█████████▌| 19/20 [00:03<00:00,  5.31it/s]\u001b[A\n",
            "train sample batches: 100%|██████████| 20/20 [00:03<00:00,  5.29it/s]\n",
            "\n",
            "validation sample batches:   0%|          | 0/9 [00:00<?, ?it/s]\u001b[A\n",
            "validation sample batches:  33%|███▎      | 3/9 [00:00<00:00, 25.16it/s]\u001b[A\n",
            "validation sample batches:  67%|██████▋   | 6/9 [00:00<00:00, 21.51it/s]\u001b[A"
          ]
        },
        {
          "output_type": "stream",
          "name": "stdout",
          "text": [
            "Epoch 00452: reducing learning rate of group 0 to 1.2209e-04.\n"
          ]
        },
        {
          "output_type": "stream",
          "name": "stderr",
          "text": [
            "\n",
            "validation sample batches: 100%|██████████| 9/9 [00:00<00:00, 22.05it/s]\n",
            "epochs:  51%|█████     | 51/100 [03:30<03:25,  4.19s/it]"
          ]
        },
        {
          "output_type": "stream",
          "name": "stdout",
          "text": [
            "Epoch train loss 2.7718210577964784\n",
            "Epoch val_loss 2.861717462539673\n"
          ]
        },
        {
          "output_type": "stream",
          "name": "stderr",
          "text": [
            "\n",
            "train sample batches:   0%|          | 0/20 [00:00<?, ?it/s]\u001b[A\n",
            "train sample batches:   5%|▌         | 1/20 [00:00<00:03,  5.61it/s]\u001b[A\n",
            "train sample batches:  10%|█         | 2/20 [00:00<00:03,  5.54it/s]\u001b[A\n",
            "train sample batches:  15%|█▌        | 3/20 [00:00<00:03,  5.57it/s]\u001b[A\n",
            "train sample batches:  20%|██        | 4/20 [00:00<00:02,  5.47it/s]\u001b[A\n",
            "train sample batches:  25%|██▌       | 5/20 [00:00<00:02,  5.36it/s]\u001b[A\n",
            "train sample batches:  30%|███       | 6/20 [00:01<00:02,  5.37it/s]\u001b[A\n",
            "train sample batches:  35%|███▌      | 7/20 [00:01<00:02,  5.35it/s]\u001b[A\n",
            "train sample batches:  40%|████      | 8/20 [00:01<00:02,  5.28it/s]\u001b[A\n",
            "train sample batches:  45%|████▌     | 9/20 [00:01<00:02,  5.32it/s]\u001b[A\n",
            "train sample batches:  50%|█████     | 10/20 [00:01<00:01,  5.34it/s]\u001b[A\n",
            "train sample batches:  55%|█████▌    | 11/20 [00:02<00:01,  5.39it/s]\u001b[A\n",
            "train sample batches:  60%|██████    | 12/20 [00:02<00:01,  5.48it/s]\u001b[A\n",
            "train sample batches:  65%|██████▌   | 13/20 [00:02<00:01,  5.54it/s]\u001b[A\n",
            "train sample batches:  70%|███████   | 14/20 [00:02<00:01,  5.64it/s]\u001b[A\n",
            "train sample batches:  75%|███████▌  | 15/20 [00:02<00:00,  5.60it/s]\u001b[A\n",
            "train sample batches:  80%|████████  | 16/20 [00:02<00:00,  5.46it/s]\u001b[A\n",
            "train sample batches:  85%|████████▌ | 17/20 [00:03<00:00,  5.42it/s]\u001b[A\n",
            "train sample batches:  90%|█████████ | 18/20 [00:03<00:00,  5.39it/s]\u001b[A\n",
            "train sample batches:  95%|█████████▌| 19/20 [00:03<00:00,  5.44it/s]\u001b[A\n",
            "train sample batches: 100%|██████████| 20/20 [00:03<00:00,  5.44it/s]\n",
            "\n",
            "validation sample batches:   0%|          | 0/9 [00:00<?, ?it/s]\u001b[A\n",
            "validation sample batches:  33%|███▎      | 3/9 [00:00<00:00, 24.20it/s]\u001b[A\n",
            "validation sample batches:  67%|██████▋   | 6/9 [00:00<00:00, 22.24it/s]\u001b[A\n",
            "validation sample batches: 100%|██████████| 9/9 [00:00<00:00, 23.78it/s]"
          ]
        },
        {
          "output_type": "stream",
          "name": "stdout",
          "text": [
            "Epoch 00463: reducing learning rate of group 0 to 1.1598e-04.\n"
          ]
        },
        {
          "output_type": "stream",
          "name": "stderr",
          "text": [
            "validation sample batches: 100%|██████████| 9/9 [00:00<00:00, 23.11it/s]\n",
            "epochs:  52%|█████▏    | 52/100 [03:34<03:20,  4.17s/it]"
          ]
        },
        {
          "output_type": "stream",
          "name": "stdout",
          "text": [
            "Epoch train loss 2.761623215675354\n",
            "Epoch val_loss 2.757037401199341\n"
          ]
        },
        {
          "output_type": "stream",
          "name": "stderr",
          "text": [
            "\n",
            "train sample batches:   0%|          | 0/20 [00:00<?, ?it/s]\u001b[A\n",
            "train sample batches:   5%|▌         | 1/20 [00:00<00:03,  5.36it/s]\u001b[A\n",
            "train sample batches:  10%|█         | 2/20 [00:00<00:03,  5.46it/s]\u001b[A\n",
            "train sample batches:  15%|█▌        | 3/20 [00:00<00:03,  5.43it/s]\u001b[A\n",
            "train sample batches:  20%|██        | 4/20 [00:00<00:02,  5.41it/s]\u001b[A\n",
            "train sample batches:  25%|██▌       | 5/20 [00:00<00:02,  5.32it/s]\u001b[A\n",
            "train sample batches:  30%|███       | 6/20 [00:01<00:02,  5.35it/s]\u001b[A\n",
            "train sample batches:  35%|███▌      | 7/20 [00:01<00:02,  5.24it/s]\u001b[A\n",
            "train sample batches:  40%|████      | 8/20 [00:01<00:02,  5.27it/s]\u001b[A\n",
            "train sample batches:  45%|████▌     | 9/20 [00:01<00:02,  5.29it/s]\u001b[A\n",
            "train sample batches:  50%|█████     | 10/20 [00:01<00:01,  5.22it/s]\u001b[A\n",
            "train sample batches:  55%|█████▌    | 11/20 [00:02<00:01,  5.15it/s]\u001b[A\n",
            "train sample batches:  60%|██████    | 12/20 [00:02<00:01,  5.16it/s]\u001b[A\n",
            "train sample batches:  65%|██████▌   | 13/20 [00:02<00:01,  5.20it/s]\u001b[A\n",
            "train sample batches:  70%|███████   | 14/20 [00:02<00:01,  5.26it/s]\u001b[A\n",
            "train sample batches:  75%|███████▌  | 15/20 [00:02<00:00,  5.30it/s]\u001b[A\n",
            "train sample batches:  80%|████████  | 16/20 [00:03<00:00,  5.31it/s]\u001b[A\n",
            "train sample batches:  85%|████████▌ | 17/20 [00:03<00:00,  5.23it/s]\u001b[A\n",
            "train sample batches:  90%|█████████ | 18/20 [00:03<00:00,  5.22it/s]\u001b[A\n",
            "train sample batches:  95%|█████████▌| 19/20 [00:03<00:00,  5.27it/s]\u001b[A\n",
            "train sample batches: 100%|██████████| 20/20 [00:03<00:00,  5.27it/s]\n",
            "\n",
            "validation sample batches:   0%|          | 0/9 [00:00<?, ?it/s]\u001b[A\n",
            "validation sample batches:  33%|███▎      | 3/9 [00:00<00:00, 24.76it/s]\u001b[A\n",
            "validation sample batches:  67%|██████▋   | 6/9 [00:00<00:00, 22.09it/s]\u001b[A\n",
            "validation sample batches: 100%|██████████| 9/9 [00:00<00:00, 22.01it/s]\n",
            "epochs:  53%|█████▎    | 53/100 [03:38<03:17,  4.20s/it]"
          ]
        },
        {
          "output_type": "stream",
          "name": "stdout",
          "text": [
            "Epoch 00474: reducing learning rate of group 0 to 1.1018e-04.\n",
            "Epoch train loss 2.754259943962097\n",
            "Epoch val_loss 2.6137046813964844\n"
          ]
        },
        {
          "output_type": "stream",
          "name": "stderr",
          "text": [
            "\n",
            "train sample batches:   0%|          | 0/20 [00:00<?, ?it/s]\u001b[A\n",
            "train sample batches:   5%|▌         | 1/20 [00:00<00:03,  5.13it/s]\u001b[A\n",
            "train sample batches:  10%|█         | 2/20 [00:00<00:03,  5.37it/s]\u001b[A\n",
            "train sample batches:  15%|█▌        | 3/20 [00:00<00:03,  5.44it/s]\u001b[A\n",
            "train sample batches:  20%|██        | 4/20 [00:00<00:02,  5.38it/s]\u001b[A\n",
            "train sample batches:  25%|██▌       | 5/20 [00:00<00:02,  5.45it/s]\u001b[A\n",
            "train sample batches:  30%|███       | 6/20 [00:01<00:02,  5.43it/s]\u001b[A\n",
            "train sample batches:  35%|███▌      | 7/20 [00:01<00:02,  5.41it/s]\u001b[A\n",
            "train sample batches:  40%|████      | 8/20 [00:01<00:02,  5.38it/s]\u001b[A\n",
            "train sample batches:  45%|████▌     | 9/20 [00:01<00:02,  5.29it/s]\u001b[A\n",
            "train sample batches:  50%|█████     | 10/20 [00:01<00:01,  5.32it/s]\u001b[A\n",
            "train sample batches:  55%|█████▌    | 11/20 [00:02<00:01,  5.38it/s]\u001b[A\n",
            "train sample batches:  60%|██████    | 12/20 [00:02<00:01,  5.44it/s]\u001b[A\n",
            "train sample batches:  65%|██████▌   | 13/20 [00:02<00:01,  5.37it/s]\u001b[A\n",
            "train sample batches:  70%|███████   | 14/20 [00:02<00:01,  5.38it/s]\u001b[A\n",
            "train sample batches:  75%|███████▌  | 15/20 [00:02<00:00,  5.33it/s]\u001b[A\n",
            "train sample batches:  80%|████████  | 16/20 [00:02<00:00,  5.29it/s]\u001b[A\n",
            "train sample batches:  85%|████████▌ | 17/20 [00:03<00:00,  5.34it/s]\u001b[A\n",
            "train sample batches:  90%|█████████ | 18/20 [00:03<00:00,  5.45it/s]\u001b[A\n",
            "train sample batches:  95%|█████████▌| 19/20 [00:03<00:00,  5.39it/s]\u001b[A\n",
            "train sample batches: 100%|██████████| 20/20 [00:03<00:00,  5.37it/s]\n",
            "\n",
            "validation sample batches:   0%|          | 0/9 [00:00<?, ?it/s]\u001b[A\n",
            "validation sample batches:  33%|███▎      | 3/9 [00:00<00:00, 23.64it/s]\u001b[A\n",
            "validation sample batches:  67%|██████▋   | 6/9 [00:00<00:00, 22.35it/s]\u001b[A\n",
            "validation sample batches: 100%|██████████| 9/9 [00:00<00:00, 22.98it/s]\n",
            "epochs:  54%|█████▍    | 54/100 [03:43<03:12,  4.19s/it]"
          ]
        },
        {
          "output_type": "stream",
          "name": "stdout",
          "text": [
            "Epoch 00485: reducing learning rate of group 0 to 1.0467e-04.\n",
            "Epoch train loss 2.741040349006653\n",
            "Epoch val_loss 2.7938790321350098\n"
          ]
        },
        {
          "output_type": "stream",
          "name": "stderr",
          "text": [
            "\n",
            "train sample batches:   0%|          | 0/20 [00:00<?, ?it/s]\u001b[A\n",
            "train sample batches:   5%|▌         | 1/20 [00:00<00:03,  5.15it/s]\u001b[A\n",
            "train sample batches:  10%|█         | 2/20 [00:00<00:03,  5.20it/s]\u001b[A\n",
            "train sample batches:  15%|█▌        | 3/20 [00:00<00:03,  5.29it/s]\u001b[A\n",
            "train sample batches:  20%|██        | 4/20 [00:00<00:03,  5.27it/s]\u001b[A\n",
            "train sample batches:  25%|██▌       | 5/20 [00:00<00:02,  5.25it/s]\u001b[A\n",
            "train sample batches:  30%|███       | 6/20 [00:01<00:02,  5.29it/s]\u001b[A\n",
            "train sample batches:  35%|███▌      | 7/20 [00:01<00:02,  5.32it/s]\u001b[A\n",
            "train sample batches:  40%|████      | 8/20 [00:01<00:02,  5.26it/s]\u001b[A\n",
            "train sample batches:  45%|████▌     | 9/20 [00:01<00:02,  5.16it/s]\u001b[A\n",
            "train sample batches:  50%|█████     | 10/20 [00:01<00:01,  5.13it/s]\u001b[A\n",
            "train sample batches:  55%|█████▌    | 11/20 [00:02<00:01,  5.13it/s]\u001b[A\n",
            "train sample batches:  60%|██████    | 12/20 [00:02<00:01,  5.18it/s]\u001b[A\n",
            "train sample batches:  65%|██████▌   | 13/20 [00:02<00:01,  5.18it/s]\u001b[A\n",
            "train sample batches:  70%|███████   | 14/20 [00:02<00:01,  5.13it/s]\u001b[A\n",
            "train sample batches:  75%|███████▌  | 15/20 [00:02<00:00,  5.07it/s]\u001b[A\n",
            "train sample batches:  80%|████████  | 16/20 [00:03<00:00,  5.17it/s]\u001b[A\n",
            "train sample batches:  85%|████████▌ | 17/20 [00:03<00:00,  5.14it/s]\u001b[A\n",
            "train sample batches:  90%|█████████ | 18/20 [00:03<00:00,  5.18it/s]\u001b[A\n",
            "train sample batches:  95%|█████████▌| 19/20 [00:03<00:00,  5.22it/s]\u001b[A\n",
            "train sample batches: 100%|██████████| 20/20 [00:03<00:00,  5.20it/s]\n",
            "\n",
            "validation sample batches:   0%|          | 0/9 [00:00<?, ?it/s]\u001b[A\n",
            "validation sample batches:  33%|███▎      | 3/9 [00:00<00:00, 22.24it/s]\u001b[A\n",
            "validation sample batches:  67%|██████▋   | 6/9 [00:00<00:00, 21.46it/s]\u001b[A\n",
            "validation sample batches: 100%|██████████| 9/9 [00:00<00:00, 22.14it/s]\n",
            "epochs:  55%|█████▌    | 55/100 [03:47<03:10,  4.22s/it]"
          ]
        },
        {
          "output_type": "stream",
          "name": "stdout",
          "text": [
            "Epoch train loss 2.7235012888908385\n",
            "Epoch val_loss 2.6291298866271973\n"
          ]
        },
        {
          "output_type": "stream",
          "name": "stderr",
          "text": [
            "\n",
            "train sample batches:   0%|          | 0/20 [00:00<?, ?it/s]\u001b[A\n",
            "train sample batches:   5%|▌         | 1/20 [00:00<00:03,  5.37it/s]\u001b[A\n",
            "train sample batches:  10%|█         | 2/20 [00:00<00:03,  5.22it/s]\u001b[A\n",
            "train sample batches:  15%|█▌        | 3/20 [00:00<00:03,  5.15it/s]\u001b[A\n",
            "train sample batches:  20%|██        | 4/20 [00:00<00:03,  5.00it/s]\u001b[A\n",
            "train sample batches:  25%|██▌       | 5/20 [00:00<00:02,  5.12it/s]\u001b[A\n",
            "train sample batches:  30%|███       | 6/20 [00:01<00:02,  5.09it/s]\u001b[A\n",
            "train sample batches:  35%|███▌      | 7/20 [00:01<00:02,  5.13it/s]\u001b[A\n",
            "train sample batches:  40%|████      | 8/20 [00:01<00:02,  5.12it/s]\u001b[A\n",
            "train sample batches:  45%|████▌     | 9/20 [00:01<00:02,  5.31it/s]\u001b[A\n",
            "train sample batches:  50%|█████     | 10/20 [00:01<00:01,  5.28it/s]\u001b[A\n",
            "train sample batches:  55%|█████▌    | 11/20 [00:02<00:01,  5.27it/s]\u001b[A\n",
            "train sample batches:  60%|██████    | 12/20 [00:02<00:01,  5.30it/s]\u001b[A\n",
            "train sample batches:  65%|██████▌   | 13/20 [00:02<00:01,  5.32it/s]\u001b[A\n",
            "train sample batches:  70%|███████   | 14/20 [00:02<00:01,  5.28it/s]\u001b[A\n",
            "train sample batches:  75%|███████▌  | 15/20 [00:02<00:00,  5.26it/s]\u001b[A\n",
            "train sample batches:  80%|████████  | 16/20 [00:03<00:00,  5.34it/s]\u001b[A\n",
            "train sample batches:  85%|████████▌ | 17/20 [00:03<00:00,  5.37it/s]\u001b[A\n",
            "train sample batches:  90%|█████████ | 18/20 [00:03<00:00,  5.34it/s]\u001b[A\n",
            "train sample batches:  95%|█████████▌| 19/20 [00:03<00:00,  5.37it/s]\u001b[A\n",
            "train sample batches: 100%|██████████| 20/20 [00:03<00:00,  5.27it/s]\n",
            "\n",
            "validation sample batches:   0%|          | 0/9 [00:00<?, ?it/s]\u001b[A\n",
            "validation sample batches:  33%|███▎      | 3/9 [00:00<00:00, 24.51it/s]\u001b[A"
          ]
        },
        {
          "output_type": "stream",
          "name": "stdout",
          "text": [
            "Epoch 00496: reducing learning rate of group 0 to 9.9440e-05.\n"
          ]
        },
        {
          "output_type": "stream",
          "name": "stderr",
          "text": [
            "\n",
            "validation sample batches:  67%|██████▋   | 6/9 [00:00<00:00, 23.45it/s]\u001b[A\n",
            "validation sample batches: 100%|██████████| 9/9 [00:00<00:00, 23.92it/s]\n",
            "epochs:  56%|█████▌    | 56/100 [03:51<03:05,  4.23s/it]"
          ]
        },
        {
          "output_type": "stream",
          "name": "stdout",
          "text": [
            "Epoch train loss 2.734105980396271\n",
            "Epoch val_loss 2.637543201446533\n"
          ]
        },
        {
          "output_type": "stream",
          "name": "stderr",
          "text": [
            "\n",
            "train sample batches:   0%|          | 0/20 [00:00<?, ?it/s]\u001b[A\n",
            "train sample batches:   5%|▌         | 1/20 [00:00<00:03,  5.63it/s]\u001b[A\n",
            "train sample batches:  10%|█         | 2/20 [00:00<00:03,  5.44it/s]\u001b[A\n",
            "train sample batches:  15%|█▌        | 3/20 [00:00<00:03,  5.44it/s]\u001b[A\n",
            "train sample batches:  20%|██        | 4/20 [00:00<00:02,  5.38it/s]\u001b[A\n",
            "train sample batches:  25%|██▌       | 5/20 [00:00<00:02,  5.31it/s]\u001b[A\n",
            "train sample batches:  30%|███       | 6/20 [00:01<00:02,  5.31it/s]\u001b[A\n",
            "train sample batches:  35%|███▌      | 7/20 [00:01<00:02,  5.32it/s]\u001b[A\n",
            "train sample batches:  40%|████      | 8/20 [00:01<00:02,  5.26it/s]\u001b[A\n",
            "train sample batches:  45%|████▌     | 9/20 [00:01<00:02,  5.26it/s]\u001b[A\n",
            "train sample batches:  50%|█████     | 10/20 [00:01<00:01,  5.25it/s]\u001b[A\n",
            "train sample batches:  55%|█████▌    | 11/20 [00:02<00:01,  5.25it/s]\u001b[A\n",
            "train sample batches:  60%|██████    | 12/20 [00:02<00:01,  5.31it/s]\u001b[A\n",
            "train sample batches:  65%|██████▌   | 13/20 [00:02<00:01,  5.25it/s]\u001b[A\n",
            "train sample batches:  70%|███████   | 14/20 [00:02<00:01,  5.26it/s]\u001b[A\n",
            "train sample batches:  75%|███████▌  | 15/20 [00:02<00:00,  5.30it/s]\u001b[A\n",
            "train sample batches:  80%|████████  | 16/20 [00:03<00:00,  5.27it/s]\u001b[A\n",
            "train sample batches:  85%|████████▌ | 17/20 [00:03<00:00,  5.22it/s]\u001b[A\n",
            "train sample batches:  90%|█████████ | 18/20 [00:03<00:00,  5.26it/s]\u001b[A\n",
            "train sample batches:  95%|█████████▌| 19/20 [00:03<00:00,  5.29it/s]\u001b[A\n",
            "train sample batches: 100%|██████████| 20/20 [00:03<00:00,  5.30it/s]\n",
            "\n",
            "validation sample batches:   0%|          | 0/9 [00:00<?, ?it/s]\u001b[A\n",
            "validation sample batches:  33%|███▎      | 3/9 [00:00<00:00, 22.11it/s]\u001b[A\n",
            "validation sample batches:  67%|██████▋   | 6/9 [00:00<00:00, 22.18it/s]\u001b[A"
          ]
        },
        {
          "output_type": "stream",
          "name": "stdout",
          "text": [
            "Epoch 00507: reducing learning rate of group 0 to 9.4468e-05.\n"
          ]
        },
        {
          "output_type": "stream",
          "name": "stderr",
          "text": [
            "\n",
            "validation sample batches: 100%|██████████| 9/9 [00:00<00:00, 21.83it/s]\n",
            "epochs:  57%|█████▋    | 57/100 [03:55<03:01,  4.23s/it]"
          ]
        },
        {
          "output_type": "stream",
          "name": "stdout",
          "text": [
            "Epoch train loss 2.7226072669029238\n",
            "Epoch val_loss 2.5968616008758545\n"
          ]
        },
        {
          "output_type": "stream",
          "name": "stderr",
          "text": [
            "\n",
            "train sample batches:   0%|          | 0/20 [00:00<?, ?it/s]\u001b[A\n",
            "train sample batches:   5%|▌         | 1/20 [00:00<00:03,  5.25it/s]\u001b[A\n",
            "train sample batches:  10%|█         | 2/20 [00:00<00:03,  5.48it/s]\u001b[A\n",
            "train sample batches:  15%|█▌        | 3/20 [00:00<00:03,  5.37it/s]\u001b[A\n",
            "train sample batches:  20%|██        | 4/20 [00:00<00:02,  5.42it/s]\u001b[A\n",
            "train sample batches:  25%|██▌       | 5/20 [00:00<00:02,  5.44it/s]\u001b[A\n",
            "train sample batches:  30%|███       | 6/20 [00:01<00:02,  5.45it/s]\u001b[A\n",
            "train sample batches:  35%|███▌      | 7/20 [00:01<00:02,  5.38it/s]\u001b[A\n",
            "train sample batches:  40%|████      | 8/20 [00:01<00:02,  5.43it/s]\u001b[A\n",
            "train sample batches:  45%|████▌     | 9/20 [00:01<00:02,  5.50it/s]\u001b[A\n",
            "train sample batches:  50%|█████     | 10/20 [00:01<00:01,  5.42it/s]\u001b[A\n",
            "train sample batches:  55%|█████▌    | 11/20 [00:02<00:01,  5.31it/s]\u001b[A\n",
            "train sample batches:  60%|██████    | 12/20 [00:02<00:01,  5.22it/s]\u001b[A\n",
            "train sample batches:  65%|██████▌   | 13/20 [00:02<00:01,  5.10it/s]\u001b[A\n",
            "train sample batches:  70%|███████   | 14/20 [00:02<00:01,  5.08it/s]\u001b[A\n",
            "train sample batches:  75%|███████▌  | 15/20 [00:02<00:00,  5.08it/s]\u001b[A\n",
            "train sample batches:  80%|████████  | 16/20 [00:03<00:00,  5.16it/s]\u001b[A\n",
            "train sample batches:  85%|████████▌ | 17/20 [00:03<00:00,  5.27it/s]\u001b[A\n",
            "train sample batches:  90%|█████████ | 18/20 [00:03<00:00,  5.25it/s]\u001b[A\n",
            "train sample batches:  95%|█████████▌| 19/20 [00:03<00:00,  5.29it/s]\u001b[A\n",
            "train sample batches: 100%|██████████| 20/20 [00:03<00:00,  5.31it/s]\n",
            "\n",
            "validation sample batches:   0%|          | 0/9 [00:00<?, ?it/s]\u001b[A\n",
            "validation sample batches:  33%|███▎      | 3/9 [00:00<00:00, 25.07it/s]\u001b[A\n",
            "validation sample batches:  67%|██████▋   | 6/9 [00:00<00:00, 23.73it/s]\u001b[A\n",
            "validation sample batches: 100%|██████████| 9/9 [00:00<00:00, 22.95it/s]"
          ]
        },
        {
          "output_type": "stream",
          "name": "stdout",
          "text": [
            "Epoch 00518: reducing learning rate of group 0 to 8.9745e-05.\n",
            "Epoch train loss 2.697519338130951\n",
            "Epoch val_loss 2.8607447147369385\n"
          ]
        },
        {
          "output_type": "stream",
          "name": "stderr",
          "text": [
            "\n",
            "epochs:  58%|█████▊    | 58/100 [04:00<02:57,  4.23s/it]\n",
            "train sample batches:   0%|          | 0/20 [00:00<?, ?it/s]\u001b[A\n",
            "train sample batches:   5%|▌         | 1/20 [00:00<00:03,  4.96it/s]\u001b[A\n",
            "train sample batches:  10%|█         | 2/20 [00:00<00:03,  5.11it/s]\u001b[A\n",
            "train sample batches:  15%|█▌        | 3/20 [00:00<00:03,  5.17it/s]\u001b[A\n",
            "train sample batches:  20%|██        | 4/20 [00:00<00:03,  5.18it/s]\u001b[A\n",
            "train sample batches:  25%|██▌       | 5/20 [00:00<00:02,  5.25it/s]\u001b[A\n",
            "train sample batches:  30%|███       | 6/20 [00:01<00:02,  5.20it/s]\u001b[A\n",
            "train sample batches:  35%|███▌      | 7/20 [00:01<00:02,  5.17it/s]\u001b[A\n",
            "train sample batches:  40%|████      | 8/20 [00:01<00:02,  5.16it/s]\u001b[A\n",
            "train sample batches:  45%|████▌     | 9/20 [00:01<00:02,  5.21it/s]\u001b[A\n",
            "train sample batches:  50%|█████     | 10/20 [00:01<00:01,  5.25it/s]\u001b[A\n",
            "train sample batches:  55%|█████▌    | 11/20 [00:02<00:01,  5.27it/s]\u001b[A\n",
            "train sample batches:  60%|██████    | 12/20 [00:02<00:01,  5.16it/s]\u001b[A\n",
            "train sample batches:  65%|██████▌   | 13/20 [00:02<00:01,  5.20it/s]\u001b[A\n",
            "train sample batches:  70%|███████   | 14/20 [00:02<00:01,  5.22it/s]\u001b[A\n",
            "train sample batches:  75%|███████▌  | 15/20 [00:02<00:00,  5.21it/s]\u001b[A\n",
            "train sample batches:  80%|████████  | 16/20 [00:03<00:00,  5.31it/s]\u001b[A\n",
            "train sample batches:  85%|████████▌ | 17/20 [00:03<00:00,  5.15it/s]\u001b[A\n",
            "train sample batches:  90%|█████████ | 18/20 [00:03<00:00,  5.16it/s]\u001b[A\n",
            "train sample batches:  95%|█████████▌| 19/20 [00:03<00:00,  5.14it/s]\u001b[A\n",
            "train sample batches: 100%|██████████| 20/20 [00:03<00:00,  5.19it/s]\n",
            "\n",
            "validation sample batches:   0%|          | 0/9 [00:00<?, ?it/s]\u001b[A\n",
            "validation sample batches:  33%|███▎      | 3/9 [00:00<00:00, 22.87it/s]\u001b[A\n",
            "validation sample batches:  67%|██████▋   | 6/9 [00:00<00:00, 22.15it/s]\u001b[A\n",
            "validation sample batches: 100%|██████████| 9/9 [00:00<00:00, 22.08it/s]\n",
            "epochs:  59%|█████▉    | 59/100 [04:04<02:54,  4.25s/it]"
          ]
        },
        {
          "output_type": "stream",
          "name": "stdout",
          "text": [
            "Epoch 00529: reducing learning rate of group 0 to 8.5258e-05.\n",
            "Epoch train loss 2.6983991384506227\n",
            "Epoch val_loss 2.697030544281006\n"
          ]
        },
        {
          "output_type": "stream",
          "name": "stderr",
          "text": [
            "\n",
            "train sample batches:   0%|          | 0/20 [00:00<?, ?it/s]\u001b[A\n",
            "train sample batches:   5%|▌         | 1/20 [00:00<00:03,  5.25it/s]\u001b[A\n",
            "train sample batches:  10%|█         | 2/20 [00:00<00:03,  5.18it/s]\u001b[A\n",
            "train sample batches:  15%|█▌        | 3/20 [00:00<00:03,  5.19it/s]\u001b[A\n",
            "train sample batches:  20%|██        | 4/20 [00:00<00:03,  5.30it/s]\u001b[A\n",
            "train sample batches:  25%|██▌       | 5/20 [00:00<00:02,  5.20it/s]\u001b[A\n",
            "train sample batches:  30%|███       | 6/20 [00:01<00:02,  5.28it/s]\u001b[A\n",
            "train sample batches:  35%|███▌      | 7/20 [00:01<00:02,  5.31it/s]\u001b[A\n",
            "train sample batches:  40%|████      | 8/20 [00:01<00:02,  5.33it/s]\u001b[A\n",
            "train sample batches:  45%|████▌     | 9/20 [00:01<00:02,  5.31it/s]\u001b[A\n",
            "train sample batches:  50%|█████     | 10/20 [00:01<00:01,  5.34it/s]\u001b[A\n",
            "train sample batches:  55%|█████▌    | 11/20 [00:02<00:01,  5.28it/s]\u001b[A\n",
            "train sample batches:  60%|██████    | 12/20 [00:02<00:01,  5.37it/s]\u001b[A\n",
            "train sample batches:  65%|██████▌   | 13/20 [00:02<00:01,  5.40it/s]\u001b[A\n",
            "train sample batches:  70%|███████   | 14/20 [00:02<00:01,  5.42it/s]\u001b[A\n",
            "train sample batches:  75%|███████▌  | 15/20 [00:02<00:00,  5.33it/s]\u001b[A\n",
            "train sample batches:  80%|████████  | 16/20 [00:03<00:00,  5.31it/s]\u001b[A\n",
            "train sample batches:  85%|████████▌ | 17/20 [00:03<00:00,  5.32it/s]\u001b[A\n",
            "train sample batches:  90%|█████████ | 18/20 [00:03<00:00,  5.35it/s]\u001b[A\n",
            "train sample batches:  95%|█████████▌| 19/20 [00:03<00:00,  5.29it/s]\u001b[A\n",
            "train sample batches: 100%|██████████| 20/20 [00:03<00:00,  5.29it/s]\n",
            "\n",
            "validation sample batches:   0%|          | 0/9 [00:00<?, ?it/s]\u001b[A\n",
            "validation sample batches:  33%|███▎      | 3/9 [00:00<00:00, 21.28it/s]\u001b[A\n",
            "validation sample batches:  67%|██████▋   | 6/9 [00:00<00:00, 20.89it/s]\u001b[A\n",
            "validation sample batches: 100%|██████████| 9/9 [00:00<00:00, 21.52it/s]\n",
            "epochs:  60%|██████    | 60/100 [04:08<02:50,  4.25s/it]"
          ]
        },
        {
          "output_type": "stream",
          "name": "stdout",
          "text": [
            "Epoch 00540: reducing learning rate of group 0 to 8.0995e-05.\n",
            "Epoch train loss 2.6815011262893678\n",
            "Epoch val_loss 2.941131830215454\n"
          ]
        },
        {
          "output_type": "stream",
          "name": "stderr",
          "text": [
            "\n",
            "train sample batches:   0%|          | 0/20 [00:00<?, ?it/s]\u001b[A\n",
            "train sample batches:   5%|▌         | 1/20 [00:00<00:03,  5.17it/s]\u001b[A\n",
            "train sample batches:  10%|█         | 2/20 [00:00<00:03,  5.15it/s]\u001b[A\n",
            "train sample batches:  15%|█▌        | 3/20 [00:00<00:03,  5.22it/s]\u001b[A\n",
            "train sample batches:  20%|██        | 4/20 [00:00<00:03,  5.17it/s]\u001b[A\n",
            "train sample batches:  25%|██▌       | 5/20 [00:00<00:02,  5.21it/s]\u001b[A\n",
            "train sample batches:  30%|███       | 6/20 [00:01<00:02,  5.29it/s]\u001b[A\n",
            "train sample batches:  35%|███▌      | 7/20 [00:01<00:02,  5.29it/s]\u001b[A\n",
            "train sample batches:  40%|████      | 8/20 [00:01<00:02,  5.35it/s]\u001b[A\n",
            "train sample batches:  45%|████▌     | 9/20 [00:01<00:02,  5.36it/s]\u001b[A\n",
            "train sample batches:  50%|█████     | 10/20 [00:01<00:01,  5.30it/s]\u001b[A\n",
            "train sample batches:  55%|█████▌    | 11/20 [00:02<00:01,  5.28it/s]\u001b[A\n",
            "train sample batches:  60%|██████    | 12/20 [00:02<00:01,  5.31it/s]\u001b[A\n",
            "train sample batches:  65%|██████▌   | 13/20 [00:02<00:01,  5.31it/s]\u001b[A\n",
            "train sample batches:  70%|███████   | 14/20 [00:02<00:01,  5.32it/s]\u001b[A\n",
            "train sample batches:  75%|███████▌  | 15/20 [00:02<00:00,  5.36it/s]\u001b[A\n",
            "train sample batches:  80%|████████  | 16/20 [00:03<00:00,  5.40it/s]\u001b[A\n",
            "train sample batches:  85%|████████▌ | 17/20 [00:03<00:00,  5.50it/s]\u001b[A\n",
            "train sample batches:  90%|█████████ | 18/20 [00:03<00:00,  5.47it/s]\u001b[A\n",
            "train sample batches:  95%|█████████▌| 19/20 [00:03<00:00,  5.47it/s]\u001b[A\n",
            "train sample batches: 100%|██████████| 20/20 [00:03<00:00,  5.36it/s]\n",
            "\n",
            "validation sample batches:   0%|          | 0/9 [00:00<?, ?it/s]\u001b[A\n",
            "validation sample batches:  22%|██▏       | 2/9 [00:00<00:00, 18.40it/s]\u001b[A\n",
            "validation sample batches:  56%|█████▌    | 5/9 [00:00<00:00, 21.49it/s]\u001b[A\n",
            "validation sample batches: 100%|██████████| 9/9 [00:00<00:00, 20.97it/s]\n",
            "epochs:  61%|██████    | 61/100 [04:12<02:45,  4.24s/it]"
          ]
        },
        {
          "output_type": "stream",
          "name": "stdout",
          "text": [
            "Epoch train loss 2.674751031398773\n",
            "Epoch val_loss 2.9237306118011475\n"
          ]
        },
        {
          "output_type": "stream",
          "name": "stderr",
          "text": [
            "\n",
            "train sample batches:   0%|          | 0/20 [00:00<?, ?it/s]\u001b[A\n",
            "train sample batches:   5%|▌         | 1/20 [00:00<00:03,  5.37it/s]\u001b[A\n",
            "train sample batches:  10%|█         | 2/20 [00:00<00:03,  5.23it/s]\u001b[A\n",
            "train sample batches:  15%|█▌        | 3/20 [00:00<00:03,  5.22it/s]\u001b[A\n",
            "train sample batches:  20%|██        | 4/20 [00:00<00:03,  5.22it/s]\u001b[A\n",
            "train sample batches:  25%|██▌       | 5/20 [00:00<00:02,  5.37it/s]\u001b[A\n",
            "train sample batches:  30%|███       | 6/20 [00:01<00:02,  5.41it/s]\u001b[A\n",
            "train sample batches:  35%|███▌      | 7/20 [00:01<00:02,  5.40it/s]\u001b[A\n",
            "train sample batches:  40%|████      | 8/20 [00:01<00:02,  5.41it/s]\u001b[A\n",
            "train sample batches:  45%|████▌     | 9/20 [00:01<00:01,  5.52it/s]\u001b[A\n",
            "train sample batches:  50%|█████     | 10/20 [00:01<00:01,  5.31it/s]\u001b[A\n",
            "train sample batches:  55%|█████▌    | 11/20 [00:02<00:01,  5.38it/s]\u001b[A\n",
            "train sample batches:  60%|██████    | 12/20 [00:02<00:01,  5.35it/s]\u001b[A\n",
            "train sample batches:  65%|██████▌   | 13/20 [00:02<00:01,  5.33it/s]\u001b[A\n",
            "train sample batches:  70%|███████   | 14/20 [00:02<00:01,  5.36it/s]\u001b[A\n",
            "train sample batches:  75%|███████▌  | 15/20 [00:02<00:00,  5.31it/s]\u001b[A\n",
            "train sample batches:  80%|████████  | 16/20 [00:02<00:00,  5.29it/s]\u001b[A\n",
            "train sample batches:  85%|████████▌ | 17/20 [00:03<00:00,  5.31it/s]\u001b[A\n",
            "train sample batches:  90%|█████████ | 18/20 [00:03<00:00,  5.37it/s]\u001b[A\n",
            "train sample batches:  95%|█████████▌| 19/20 [00:03<00:00,  5.35it/s]\u001b[A\n",
            "train sample batches: 100%|██████████| 20/20 [00:03<00:00,  5.34it/s]\n",
            "\n",
            "validation sample batches:   0%|          | 0/9 [00:00<?, ?it/s]\u001b[A\n",
            "validation sample batches:  22%|██▏       | 2/9 [00:00<00:00, 19.15it/s]\u001b[A\n",
            "validation sample batches:  56%|█████▌    | 5/9 [00:00<00:00, 21.59it/s]\u001b[A"
          ]
        },
        {
          "output_type": "stream",
          "name": "stdout",
          "text": [
            "Epoch 00551: reducing learning rate of group 0 to 7.6945e-05.\n"
          ]
        },
        {
          "output_type": "stream",
          "name": "stderr",
          "text": [
            "\n",
            "validation sample batches: 100%|██████████| 9/9 [00:00<00:00, 21.31it/s]\n",
            "epochs:  62%|██████▏   | 62/100 [04:17<02:40,  4.24s/it]"
          ]
        },
        {
          "output_type": "stream",
          "name": "stdout",
          "text": [
            "Epoch train loss 2.6589189171791077\n",
            "Epoch val_loss 2.85327410697937\n"
          ]
        },
        {
          "output_type": "stream",
          "name": "stderr",
          "text": [
            "\n",
            "train sample batches:   0%|          | 0/20 [00:00<?, ?it/s]\u001b[A\n",
            "train sample batches:   5%|▌         | 1/20 [00:00<00:03,  5.22it/s]\u001b[A\n",
            "train sample batches:  10%|█         | 2/20 [00:00<00:03,  5.13it/s]\u001b[A\n",
            "train sample batches:  15%|█▌        | 3/20 [00:00<00:03,  5.12it/s]\u001b[A\n",
            "train sample batches:  20%|██        | 4/20 [00:00<00:03,  5.05it/s]\u001b[A\n",
            "train sample batches:  25%|██▌       | 5/20 [00:00<00:02,  5.17it/s]\u001b[A\n",
            "train sample batches:  30%|███       | 6/20 [00:01<00:02,  5.24it/s]\u001b[A\n",
            "train sample batches:  35%|███▌      | 7/20 [00:01<00:02,  5.25it/s]\u001b[A\n",
            "train sample batches:  40%|████      | 8/20 [00:01<00:02,  5.27it/s]\u001b[A\n",
            "train sample batches:  45%|████▌     | 9/20 [00:01<00:02,  5.17it/s]\u001b[A\n",
            "train sample batches:  50%|█████     | 10/20 [00:01<00:01,  5.20it/s]\u001b[A\n",
            "train sample batches:  55%|█████▌    | 11/20 [00:02<00:01,  5.22it/s]\u001b[A\n",
            "train sample batches:  60%|██████    | 12/20 [00:02<00:01,  5.30it/s]\u001b[A\n",
            "train sample batches:  65%|██████▌   | 13/20 [00:02<00:01,  5.31it/s]\u001b[A\n",
            "train sample batches:  70%|███████   | 14/20 [00:02<00:01,  5.22it/s]\u001b[A\n",
            "train sample batches:  75%|███████▌  | 15/20 [00:02<00:00,  5.17it/s]\u001b[A\n",
            "train sample batches:  80%|████████  | 16/20 [00:03<00:00,  5.19it/s]\u001b[A\n",
            "train sample batches:  85%|████████▌ | 17/20 [00:03<00:00,  5.29it/s]\u001b[A\n",
            "train sample batches:  90%|█████████ | 18/20 [00:03<00:00,  5.39it/s]\u001b[A\n",
            "train sample batches:  95%|█████████▌| 19/20 [00:03<00:00,  5.43it/s]\u001b[A\n",
            "train sample batches: 100%|██████████| 20/20 [00:03<00:00,  5.25it/s]\n",
            "\n",
            "validation sample batches:   0%|          | 0/9 [00:00<?, ?it/s]\u001b[A\n",
            "validation sample batches:  33%|███▎      | 3/9 [00:00<00:00, 23.04it/s]\u001b[A\n",
            "validation sample batches:  67%|██████▋   | 6/9 [00:00<00:00, 22.69it/s]\u001b[A"
          ]
        },
        {
          "output_type": "stream",
          "name": "stdout",
          "text": [
            "Epoch 00562: reducing learning rate of group 0 to 7.3098e-05.\n"
          ]
        },
        {
          "output_type": "stream",
          "name": "stderr",
          "text": [
            "\n",
            "validation sample batches: 100%|██████████| 9/9 [00:00<00:00, 22.81it/s]\n",
            "epochs:  63%|██████▎   | 63/100 [04:21<02:36,  4.24s/it]"
          ]
        },
        {
          "output_type": "stream",
          "name": "stdout",
          "text": [
            "Epoch train loss 2.651942718029022\n",
            "Epoch val_loss 2.4138095378875732\n"
          ]
        },
        {
          "output_type": "stream",
          "name": "stderr",
          "text": [
            "\n",
            "train sample batches:   0%|          | 0/20 [00:00<?, ?it/s]\u001b[A\n",
            "train sample batches:   5%|▌         | 1/20 [00:00<00:03,  5.37it/s]\u001b[A\n",
            "train sample batches:  10%|█         | 2/20 [00:00<00:03,  5.43it/s]\u001b[A\n",
            "train sample batches:  15%|█▌        | 3/20 [00:00<00:03,  5.28it/s]\u001b[A\n",
            "train sample batches:  20%|██        | 4/20 [00:00<00:03,  5.30it/s]\u001b[A\n",
            "train sample batches:  25%|██▌       | 5/20 [00:00<00:02,  5.34it/s]\u001b[A\n",
            "train sample batches:  30%|███       | 6/20 [00:01<00:02,  5.32it/s]\u001b[A\n",
            "train sample batches:  35%|███▌      | 7/20 [00:01<00:02,  5.28it/s]\u001b[A\n",
            "train sample batches:  40%|████      | 8/20 [00:01<00:02,  5.22it/s]\u001b[A\n",
            "train sample batches:  45%|████▌     | 9/20 [00:01<00:02,  5.23it/s]\u001b[A\n",
            "train sample batches:  50%|█████     | 10/20 [00:01<00:01,  5.27it/s]\u001b[A\n",
            "train sample batches:  55%|█████▌    | 11/20 [00:02<00:01,  5.23it/s]\u001b[A\n",
            "train sample batches:  60%|██████    | 12/20 [00:02<00:01,  5.29it/s]\u001b[A\n",
            "train sample batches:  65%|██████▌   | 13/20 [00:02<00:01,  5.33it/s]\u001b[A\n",
            "train sample batches:  70%|███████   | 14/20 [00:02<00:01,  5.25it/s]\u001b[A\n",
            "train sample batches:  75%|███████▌  | 15/20 [00:02<00:00,  5.29it/s]\u001b[A\n",
            "train sample batches:  80%|████████  | 16/20 [00:03<00:00,  5.25it/s]\u001b[A\n",
            "train sample batches:  85%|████████▌ | 17/20 [00:03<00:00,  5.31it/s]\u001b[A\n",
            "train sample batches:  90%|█████████ | 18/20 [00:03<00:00,  5.28it/s]\u001b[A\n",
            "train sample batches:  95%|█████████▌| 19/20 [00:03<00:00,  5.21it/s]\u001b[A\n",
            "train sample batches: 100%|██████████| 20/20 [00:03<00:00,  5.28it/s]\n",
            "\n",
            "validation sample batches:   0%|          | 0/9 [00:00<?, ?it/s]\u001b[A\n",
            "validation sample batches:  33%|███▎      | 3/9 [00:00<00:00, 22.87it/s]\u001b[A\n",
            "validation sample batches:  67%|██████▋   | 6/9 [00:00<00:00, 22.46it/s]\u001b[A\n",
            "validation sample batches: 100%|██████████| 9/9 [00:00<00:00, 22.15it/s]\n",
            "epochs:  64%|██████▍   | 64/100 [04:25<02:32,  4.25s/it]"
          ]
        },
        {
          "output_type": "stream",
          "name": "stdout",
          "text": [
            "Epoch 00573: reducing learning rate of group 0 to 6.9443e-05.\n",
            "Epoch train loss 2.647328329086304\n",
            "Epoch val_loss 2.714447259902954\n"
          ]
        },
        {
          "output_type": "stream",
          "name": "stderr",
          "text": [
            "\n",
            "train sample batches:   0%|          | 0/20 [00:00<?, ?it/s]\u001b[A\n",
            "train sample batches:   5%|▌         | 1/20 [00:00<00:03,  5.26it/s]\u001b[A\n",
            "train sample batches:  10%|█         | 2/20 [00:00<00:03,  5.23it/s]\u001b[A\n",
            "train sample batches:  15%|█▌        | 3/20 [00:00<00:03,  5.22it/s]\u001b[A\n",
            "train sample batches:  20%|██        | 4/20 [00:00<00:03,  5.26it/s]\u001b[A\n",
            "train sample batches:  25%|██▌       | 5/20 [00:00<00:02,  5.26it/s]\u001b[A\n",
            "train sample batches:  30%|███       | 6/20 [00:01<00:02,  5.25it/s]\u001b[A\n",
            "train sample batches:  35%|███▌      | 7/20 [00:01<00:02,  5.28it/s]\u001b[A\n",
            "train sample batches:  40%|████      | 8/20 [00:01<00:02,  5.32it/s]\u001b[A\n",
            "train sample batches:  45%|████▌     | 9/20 [00:01<00:02,  5.30it/s]\u001b[A\n",
            "train sample batches:  50%|█████     | 10/20 [00:01<00:01,  5.36it/s]\u001b[A\n",
            "train sample batches:  55%|█████▌    | 11/20 [00:02<00:01,  5.33it/s]\u001b[A\n",
            "train sample batches:  60%|██████    | 12/20 [00:02<00:01,  5.33it/s]\u001b[A\n",
            "train sample batches:  65%|██████▌   | 13/20 [00:02<00:01,  5.29it/s]\u001b[A\n",
            "train sample batches:  70%|███████   | 14/20 [00:02<00:01,  5.28it/s]\u001b[A\n",
            "train sample batches:  75%|███████▌  | 15/20 [00:02<00:00,  5.25it/s]\u001b[A\n",
            "train sample batches:  80%|████████  | 16/20 [00:03<00:00,  5.30it/s]\u001b[A\n",
            "train sample batches:  85%|████████▌ | 17/20 [00:03<00:00,  5.28it/s]\u001b[A\n",
            "train sample batches:  90%|█████████ | 18/20 [00:03<00:00,  5.09it/s]\u001b[A\n",
            "train sample batches:  95%|█████████▌| 19/20 [00:03<00:00,  5.16it/s]\u001b[A\n",
            "train sample batches: 100%|██████████| 20/20 [00:03<00:00,  5.25it/s]\n",
            "\n",
            "validation sample batches:   0%|          | 0/9 [00:00<?, ?it/s]\u001b[A\n",
            "validation sample batches:  33%|███▎      | 3/9 [00:00<00:00, 25.14it/s]\u001b[A\n",
            "validation sample batches:  67%|██████▋   | 6/9 [00:00<00:00, 23.51it/s]\u001b[A\n",
            "validation sample batches: 100%|██████████| 9/9 [00:00<00:00, 22.39it/s]\n",
            "epochs:  65%|██████▌   | 65/100 [04:29<02:28,  4.25s/it]"
          ]
        },
        {
          "output_type": "stream",
          "name": "stdout",
          "text": [
            "Epoch 00584: reducing learning rate of group 0 to 6.5971e-05.\n",
            "Epoch train loss 2.639644134044647\n",
            "Epoch val_loss 2.5814194679260254\n"
          ]
        },
        {
          "output_type": "stream",
          "name": "stderr",
          "text": [
            "\n",
            "train sample batches:   0%|          | 0/20 [00:00<?, ?it/s]\u001b[A\n",
            "train sample batches:   5%|▌         | 1/20 [00:00<00:03,  5.10it/s]\u001b[A\n",
            "train sample batches:  10%|█         | 2/20 [00:00<00:03,  5.31it/s]\u001b[A\n",
            "train sample batches:  15%|█▌        | 3/20 [00:00<00:03,  5.28it/s]\u001b[A\n",
            "train sample batches:  20%|██        | 4/20 [00:00<00:03,  5.31it/s]\u001b[A\n",
            "train sample batches:  25%|██▌       | 5/20 [00:00<00:02,  5.32it/s]\u001b[A\n",
            "train sample batches:  30%|███       | 6/20 [00:01<00:02,  5.40it/s]\u001b[A\n",
            "train sample batches:  35%|███▌      | 7/20 [00:01<00:02,  5.28it/s]\u001b[A\n",
            "train sample batches:  40%|████      | 8/20 [00:01<00:02,  5.33it/s]\u001b[A\n",
            "train sample batches:  45%|████▌     | 9/20 [00:01<00:02,  5.37it/s]\u001b[A\n",
            "train sample batches:  50%|█████     | 10/20 [00:01<00:01,  5.31it/s]\u001b[A\n",
            "train sample batches:  55%|█████▌    | 11/20 [00:02<00:01,  5.33it/s]\u001b[A\n",
            "train sample batches:  60%|██████    | 12/20 [00:02<00:01,  5.35it/s]\u001b[A\n",
            "train sample batches:  65%|██████▌   | 13/20 [00:02<00:01,  5.36it/s]\u001b[A\n",
            "train sample batches:  70%|███████   | 14/20 [00:02<00:01,  5.38it/s]\u001b[A\n",
            "train sample batches:  75%|███████▌  | 15/20 [00:02<00:00,  5.37it/s]\u001b[A\n",
            "train sample batches:  80%|████████  | 16/20 [00:03<00:00,  5.29it/s]\u001b[A\n",
            "train sample batches:  85%|████████▌ | 17/20 [00:03<00:00,  5.27it/s]\u001b[A\n",
            "train sample batches:  90%|█████████ | 18/20 [00:03<00:00,  5.15it/s]\u001b[A\n",
            "train sample batches:  95%|█████████▌| 19/20 [00:03<00:00,  5.12it/s]\u001b[A\n",
            "train sample batches: 100%|██████████| 20/20 [00:03<00:00,  5.27it/s]\n",
            "\n",
            "validation sample batches:   0%|          | 0/9 [00:00<?, ?it/s]\u001b[A\n",
            "validation sample batches:  33%|███▎      | 3/9 [00:00<00:00, 21.25it/s]\u001b[A\n",
            "validation sample batches:  67%|██████▋   | 6/9 [00:00<00:00, 20.62it/s]\u001b[A\n",
            "validation sample batches: 100%|██████████| 9/9 [00:00<00:00, 21.74it/s]\n",
            "epochs:  66%|██████▌   | 66/100 [04:34<02:24,  4.25s/it]"
          ]
        },
        {
          "output_type": "stream",
          "name": "stdout",
          "text": [
            "Epoch train loss 2.6238223791122435\n",
            "Epoch val_loss 2.5558083057403564\n"
          ]
        },
        {
          "output_type": "stream",
          "name": "stderr",
          "text": [
            "\n",
            "train sample batches:   0%|          | 0/20 [00:00<?, ?it/s]\u001b[A\n",
            "train sample batches:   5%|▌         | 1/20 [00:00<00:03,  5.11it/s]\u001b[A\n",
            "train sample batches:  10%|█         | 2/20 [00:00<00:03,  5.16it/s]\u001b[A\n",
            "train sample batches:  15%|█▌        | 3/20 [00:00<00:03,  5.15it/s]\u001b[A\n",
            "train sample batches:  20%|██        | 4/20 [00:00<00:03,  5.14it/s]\u001b[A\n",
            "train sample batches:  25%|██▌       | 5/20 [00:00<00:02,  5.17it/s]\u001b[A\n",
            "train sample batches:  30%|███       | 6/20 [00:01<00:02,  5.04it/s]\u001b[A\n",
            "train sample batches:  35%|███▌      | 7/20 [00:01<00:02,  5.03it/s]\u001b[A\n",
            "train sample batches:  40%|████      | 8/20 [00:01<00:02,  5.11it/s]\u001b[A\n",
            "train sample batches:  45%|████▌     | 9/20 [00:01<00:02,  5.16it/s]\u001b[A\n",
            "train sample batches:  50%|█████     | 10/20 [00:01<00:01,  5.22it/s]\u001b[A\n",
            "train sample batches:  55%|█████▌    | 11/20 [00:02<00:01,  5.24it/s]\u001b[A\n",
            "train sample batches:  60%|██████    | 12/20 [00:02<00:01,  5.21it/s]\u001b[A\n",
            "train sample batches:  65%|██████▌   | 13/20 [00:02<00:01,  5.28it/s]\u001b[A\n",
            "train sample batches:  70%|███████   | 14/20 [00:02<00:01,  5.25it/s]\u001b[A\n",
            "train sample batches:  75%|███████▌  | 15/20 [00:02<00:00,  5.29it/s]\u001b[A\n",
            "train sample batches:  80%|████████  | 16/20 [00:03<00:00,  5.14it/s]\u001b[A\n",
            "train sample batches:  85%|████████▌ | 17/20 [00:03<00:00,  5.19it/s]\u001b[A\n",
            "train sample batches:  90%|█████████ | 18/20 [00:03<00:00,  5.13it/s]\u001b[A\n",
            "train sample batches:  95%|█████████▌| 19/20 [00:03<00:00,  5.13it/s]\u001b[A\n",
            "train sample batches: 100%|██████████| 20/20 [00:03<00:00,  5.16it/s]\n",
            "\n",
            "validation sample batches:   0%|          | 0/9 [00:00<?, ?it/s]\u001b[A\n",
            "validation sample batches:  22%|██▏       | 2/9 [00:00<00:00, 17.32it/s]\u001b[A\n",
            "validation sample batches:  56%|█████▌    | 5/9 [00:00<00:00, 20.07it/s]\u001b[A"
          ]
        },
        {
          "output_type": "stream",
          "name": "stdout",
          "text": [
            "Epoch 00595: reducing learning rate of group 0 to 6.2672e-05.\n"
          ]
        },
        {
          "output_type": "stream",
          "name": "stderr",
          "text": [
            "\n",
            "validation sample batches: 100%|██████████| 9/9 [00:00<00:00, 19.96it/s]\n",
            "epochs:  67%|██████▋   | 67/100 [04:38<02:21,  4.29s/it]"
          ]
        },
        {
          "output_type": "stream",
          "name": "stdout",
          "text": [
            "Epoch train loss 2.6284104108810427\n",
            "Epoch val_loss 2.5317928791046143\n"
          ]
        },
        {
          "output_type": "stream",
          "name": "stderr",
          "text": [
            "\n",
            "train sample batches:   0%|          | 0/20 [00:00<?, ?it/s]\u001b[A\n",
            "train sample batches:   5%|▌         | 1/20 [00:00<00:03,  5.06it/s]\u001b[A\n",
            "train sample batches:  10%|█         | 2/20 [00:00<00:03,  5.02it/s]\u001b[A\n",
            "train sample batches:  15%|█▌        | 3/20 [00:00<00:03,  5.11it/s]\u001b[A\n",
            "train sample batches:  20%|██        | 4/20 [00:00<00:03,  5.17it/s]\u001b[A\n",
            "train sample batches:  25%|██▌       | 5/20 [00:00<00:02,  5.13it/s]\u001b[A\n",
            "train sample batches:  30%|███       | 6/20 [00:01<00:02,  5.15it/s]\u001b[A\n",
            "train sample batches:  35%|███▌      | 7/20 [00:01<00:02,  5.11it/s]\u001b[A\n",
            "train sample batches:  40%|████      | 8/20 [00:01<00:02,  5.18it/s]\u001b[A\n",
            "train sample batches:  45%|████▌     | 9/20 [00:01<00:02,  5.17it/s]\u001b[A\n",
            "train sample batches:  50%|█████     | 10/20 [00:01<00:01,  5.13it/s]\u001b[A\n",
            "train sample batches:  55%|█████▌    | 11/20 [00:02<00:01,  5.11it/s]\u001b[A\n",
            "train sample batches:  60%|██████    | 12/20 [00:02<00:01,  5.13it/s]\u001b[A\n",
            "train sample batches:  65%|██████▌   | 13/20 [00:02<00:01,  5.08it/s]\u001b[A\n",
            "train sample batches:  70%|███████   | 14/20 [00:02<00:01,  5.13it/s]\u001b[A\n",
            "train sample batches:  75%|███████▌  | 15/20 [00:02<00:00,  5.14it/s]\u001b[A\n",
            "train sample batches:  80%|████████  | 16/20 [00:03<00:00,  5.22it/s]\u001b[A\n",
            "train sample batches:  85%|████████▌ | 17/20 [00:03<00:00,  5.24it/s]\u001b[A\n",
            "train sample batches:  90%|█████████ | 18/20 [00:03<00:00,  5.20it/s]\u001b[A\n",
            "train sample batches:  95%|█████████▌| 19/20 [00:03<00:00,  5.15it/s]\u001b[A\n",
            "train sample batches: 100%|██████████| 20/20 [00:03<00:00,  5.14it/s]\n",
            "\n",
            "validation sample batches:   0%|          | 0/9 [00:00<?, ?it/s]\u001b[A\n",
            "validation sample batches:  33%|███▎      | 3/9 [00:00<00:00, 23.17it/s]\u001b[A\n",
            "validation sample batches:  67%|██████▋   | 6/9 [00:00<00:00, 22.04it/s]\u001b[A"
          ]
        },
        {
          "output_type": "stream",
          "name": "stdout",
          "text": [
            "Epoch 00606: reducing learning rate of group 0 to 5.9539e-05.\n"
          ]
        },
        {
          "output_type": "stream",
          "name": "stderr",
          "text": [
            "\n",
            "validation sample batches: 100%|██████████| 9/9 [00:00<00:00, 21.37it/s]\n",
            "epochs:  68%|██████▊   | 68/100 [04:42<02:17,  4.31s/it]"
          ]
        },
        {
          "output_type": "stream",
          "name": "stdout",
          "text": [
            "Epoch train loss 2.6027975201606752\n",
            "Epoch val_loss 2.1652722358703613\n"
          ]
        },
        {
          "output_type": "stream",
          "name": "stderr",
          "text": [
            "\n",
            "train sample batches:   0%|          | 0/20 [00:00<?, ?it/s]\u001b[A\n",
            "train sample batches:   5%|▌         | 1/20 [00:00<00:03,  4.82it/s]\u001b[A\n",
            "train sample batches:  10%|█         | 2/20 [00:00<00:03,  4.96it/s]\u001b[A\n",
            "train sample batches:  15%|█▌        | 3/20 [00:00<00:03,  4.92it/s]\u001b[A\n",
            "train sample batches:  20%|██        | 4/20 [00:00<00:03,  5.02it/s]\u001b[A\n",
            "train sample batches:  25%|██▌       | 5/20 [00:01<00:03,  4.99it/s]\u001b[A\n",
            "train sample batches:  30%|███       | 6/20 [00:01<00:02,  5.00it/s]\u001b[A\n",
            "train sample batches:  35%|███▌      | 7/20 [00:01<00:02,  5.13it/s]\u001b[A\n",
            "train sample batches:  40%|████      | 8/20 [00:01<00:02,  5.10it/s]\u001b[A\n",
            "train sample batches:  45%|████▌     | 9/20 [00:01<00:02,  5.04it/s]\u001b[A\n",
            "train sample batches:  50%|█████     | 10/20 [00:02<00:02,  4.97it/s]\u001b[A\n",
            "train sample batches:  55%|█████▌    | 11/20 [00:02<00:01,  4.99it/s]\u001b[A\n",
            "train sample batches:  60%|██████    | 12/20 [00:02<00:01,  5.04it/s]\u001b[A\n",
            "train sample batches:  65%|██████▌   | 13/20 [00:02<00:01,  5.02it/s]\u001b[A\n",
            "train sample batches:  70%|███████   | 14/20 [00:02<00:01,  4.96it/s]\u001b[A\n",
            "train sample batches:  75%|███████▌  | 15/20 [00:03<00:01,  4.98it/s]\u001b[A\n",
            "train sample batches:  80%|████████  | 16/20 [00:03<00:00,  5.02it/s]\u001b[A\n",
            "train sample batches:  85%|████████▌ | 17/20 [00:03<00:00,  5.03it/s]\u001b[A\n",
            "train sample batches:  90%|█████████ | 18/20 [00:03<00:00,  5.00it/s]\u001b[A\n",
            "train sample batches:  95%|█████████▌| 19/20 [00:03<00:00,  5.10it/s]\u001b[A\n",
            "train sample batches: 100%|██████████| 20/20 [00:03<00:00,  5.02it/s]\n",
            "\n",
            "validation sample batches:   0%|          | 0/9 [00:00<?, ?it/s]\u001b[A\n",
            "validation sample batches:  33%|███▎      | 3/9 [00:00<00:00, 23.97it/s]\u001b[A\n",
            "validation sample batches:  67%|██████▋   | 6/9 [00:00<00:00, 23.25it/s]\u001b[A\n",
            "validation sample batches: 100%|██████████| 9/9 [00:00<00:00, 22.34it/s]"
          ]
        },
        {
          "output_type": "stream",
          "name": "stdout",
          "text": [
            "Epoch 00617: reducing learning rate of group 0 to 5.6562e-05.\n",
            "Epoch train loss 2.608799362182617\n",
            "Epoch val_loss 2.5975818634033203\n"
          ]
        },
        {
          "output_type": "stream",
          "name": "stderr",
          "text": [
            "\n",
            "epochs:  69%|██████▉   | 69/100 [04:47<02:14,  4.35s/it]\n",
            "train sample batches:   0%|          | 0/20 [00:00<?, ?it/s]\u001b[A\n",
            "train sample batches:   5%|▌         | 1/20 [00:00<00:03,  4.77it/s]\u001b[A\n",
            "train sample batches:  10%|█         | 2/20 [00:00<00:03,  5.06it/s]\u001b[A\n",
            "train sample batches:  15%|█▌        | 3/20 [00:00<00:03,  4.98it/s]\u001b[A\n",
            "train sample batches:  20%|██        | 4/20 [00:00<00:03,  5.05it/s]\u001b[A\n",
            "train sample batches:  25%|██▌       | 5/20 [00:00<00:02,  5.13it/s]\u001b[A\n",
            "train sample batches:  30%|███       | 6/20 [00:01<00:02,  5.13it/s]\u001b[A\n",
            "train sample batches:  35%|███▌      | 7/20 [00:01<00:02,  5.09it/s]\u001b[A\n",
            "train sample batches:  40%|████      | 8/20 [00:01<00:02,  5.15it/s]\u001b[A\n",
            "train sample batches:  45%|████▌     | 9/20 [00:01<00:02,  5.14it/s]\u001b[A\n",
            "train sample batches:  50%|█████     | 10/20 [00:01<00:01,  5.18it/s]\u001b[A\n",
            "train sample batches:  55%|█████▌    | 11/20 [00:02<00:01,  5.26it/s]\u001b[A\n",
            "train sample batches:  60%|██████    | 12/20 [00:02<00:01,  5.13it/s]\u001b[A\n",
            "train sample batches:  65%|██████▌   | 13/20 [00:02<00:01,  5.16it/s]\u001b[A\n",
            "train sample batches:  70%|███████   | 14/20 [00:02<00:01,  5.17it/s]\u001b[A\n",
            "train sample batches:  75%|███████▌  | 15/20 [00:02<00:00,  5.15it/s]\u001b[A\n",
            "train sample batches:  80%|████████  | 16/20 [00:03<00:00,  5.16it/s]\u001b[A\n",
            "train sample batches:  85%|████████▌ | 17/20 [00:03<00:00,  5.14it/s]\u001b[A\n",
            "train sample batches:  90%|█████████ | 18/20 [00:03<00:00,  5.17it/s]\u001b[A\n",
            "train sample batches:  95%|█████████▌| 19/20 [00:03<00:00,  5.19it/s]\u001b[A\n",
            "train sample batches: 100%|██████████| 20/20 [00:03<00:00,  5.15it/s]\n",
            "\n",
            "validation sample batches:   0%|          | 0/9 [00:00<?, ?it/s]\u001b[A\n",
            "validation sample batches:  22%|██▏       | 2/9 [00:00<00:00, 17.44it/s]\u001b[A\n",
            "validation sample batches:  56%|█████▌    | 5/9 [00:00<00:00, 19.97it/s]\u001b[A\n",
            "validation sample batches: 100%|██████████| 9/9 [00:00<00:00, 19.65it/s]\n",
            "epochs:  70%|███████   | 70/100 [04:51<02:10,  4.36s/it]"
          ]
        },
        {
          "output_type": "stream",
          "name": "stdout",
          "text": [
            "Epoch 00628: reducing learning rate of group 0 to 5.3734e-05.\n",
            "Epoch train loss 2.5968507170677184\n",
            "Epoch val_loss 2.7502200603485107\n"
          ]
        },
        {
          "output_type": "stream",
          "name": "stderr",
          "text": [
            "\n",
            "train sample batches:   0%|          | 0/20 [00:00<?, ?it/s]\u001b[A\n",
            "train sample batches:   5%|▌         | 1/20 [00:00<00:03,  5.35it/s]\u001b[A\n",
            "train sample batches:  10%|█         | 2/20 [00:00<00:03,  5.32it/s]\u001b[A\n",
            "train sample batches:  15%|█▌        | 3/20 [00:00<00:03,  5.29it/s]\u001b[A\n",
            "train sample batches:  20%|██        | 4/20 [00:00<00:03,  5.28it/s]\u001b[A\n",
            "train sample batches:  25%|██▌       | 5/20 [00:00<00:02,  5.29it/s]\u001b[A\n",
            "train sample batches:  30%|███       | 6/20 [00:01<00:02,  5.28it/s]\u001b[A\n",
            "train sample batches:  35%|███▌      | 7/20 [00:01<00:02,  5.29it/s]\u001b[A\n",
            "train sample batches:  40%|████      | 8/20 [00:01<00:02,  5.32it/s]\u001b[A\n",
            "train sample batches:  45%|████▌     | 9/20 [00:01<00:02,  5.31it/s]\u001b[A\n",
            "train sample batches:  50%|█████     | 10/20 [00:01<00:01,  5.25it/s]\u001b[A\n",
            "train sample batches:  55%|█████▌    | 11/20 [00:02<00:01,  5.12it/s]\u001b[A\n",
            "train sample batches:  60%|██████    | 12/20 [00:02<00:01,  5.16it/s]\u001b[A\n",
            "train sample batches:  65%|██████▌   | 13/20 [00:02<00:01,  5.19it/s]\u001b[A\n",
            "train sample batches:  70%|███████   | 14/20 [00:02<00:01,  5.05it/s]\u001b[A\n",
            "train sample batches:  75%|███████▌  | 15/20 [00:02<00:00,  5.12it/s]\u001b[A\n",
            "train sample batches:  80%|████████  | 16/20 [00:03<00:00,  5.13it/s]\u001b[A\n",
            "train sample batches:  85%|████████▌ | 17/20 [00:03<00:00,  5.17it/s]\u001b[A\n",
            "train sample batches:  90%|█████████ | 18/20 [00:03<00:00,  5.21it/s]\u001b[A\n",
            "train sample batches:  95%|█████████▌| 19/20 [00:03<00:00,  5.17it/s]\u001b[A\n",
            "train sample batches: 100%|██████████| 20/20 [00:03<00:00,  5.21it/s]\n",
            "\n",
            "validation sample batches:   0%|          | 0/9 [00:00<?, ?it/s]\u001b[A\n",
            "validation sample batches:  22%|██▏       | 2/9 [00:00<00:00, 17.67it/s]\u001b[A\n",
            "validation sample batches:  44%|████▍     | 4/9 [00:00<00:00, 18.43it/s]\u001b[A\n",
            "validation sample batches:  67%|██████▋   | 6/9 [00:00<00:00, 18.93it/s]\u001b[A\n",
            "validation sample batches: 100%|██████████| 9/9 [00:00<00:00, 18.97it/s]\n",
            "epochs:  71%|███████   | 71/100 [04:56<02:06,  4.36s/it]"
          ]
        },
        {
          "output_type": "stream",
          "name": "stdout",
          "text": [
            "Epoch 00639: reducing learning rate of group 0 to 5.1047e-05.\n",
            "Epoch train loss 2.5969340085983275\n",
            "Epoch val_loss 3.0798773765563965\n"
          ]
        },
        {
          "output_type": "stream",
          "name": "stderr",
          "text": [
            "\n",
            "train sample batches:   0%|          | 0/20 [00:00<?, ?it/s]\u001b[A\n",
            "train sample batches:   5%|▌         | 1/20 [00:00<00:03,  5.30it/s]\u001b[A\n",
            "train sample batches:  10%|█         | 2/20 [00:00<00:03,  5.39it/s]\u001b[A\n",
            "train sample batches:  15%|█▌        | 3/20 [00:00<00:03,  5.42it/s]\u001b[A\n",
            "train sample batches:  20%|██        | 4/20 [00:00<00:03,  5.33it/s]\u001b[A\n",
            "train sample batches:  25%|██▌       | 5/20 [00:00<00:02,  5.34it/s]\u001b[A\n",
            "train sample batches:  30%|███       | 6/20 [00:01<00:02,  5.30it/s]\u001b[A\n",
            "train sample batches:  35%|███▌      | 7/20 [00:01<00:02,  5.25it/s]\u001b[A\n",
            "train sample batches:  40%|████      | 8/20 [00:01<00:02,  5.25it/s]\u001b[A\n",
            "train sample batches:  45%|████▌     | 9/20 [00:01<00:02,  5.20it/s]\u001b[A\n",
            "train sample batches:  50%|█████     | 10/20 [00:01<00:01,  5.24it/s]\u001b[A\n",
            "train sample batches:  55%|█████▌    | 11/20 [00:02<00:01,  5.19it/s]\u001b[A\n",
            "train sample batches:  60%|██████    | 12/20 [00:02<00:01,  5.18it/s]\u001b[A\n",
            "train sample batches:  65%|██████▌   | 13/20 [00:02<00:01,  5.24it/s]\u001b[A\n",
            "train sample batches:  70%|███████   | 14/20 [00:02<00:01,  5.24it/s]\u001b[A\n",
            "train sample batches:  75%|███████▌  | 15/20 [00:02<00:00,  5.21it/s]\u001b[A\n",
            "train sample batches:  80%|████████  | 16/20 [00:03<00:00,  5.25it/s]\u001b[A\n",
            "train sample batches:  85%|████████▌ | 17/20 [00:03<00:00,  5.22it/s]\u001b[A\n",
            "train sample batches:  90%|█████████ | 18/20 [00:03<00:00,  5.14it/s]\u001b[A\n",
            "train sample batches:  95%|█████████▌| 19/20 [00:03<00:00,  5.23it/s]\u001b[A\n",
            "train sample batches: 100%|██████████| 20/20 [00:03<00:00,  5.23it/s]\n",
            "\n",
            "validation sample batches:   0%|          | 0/9 [00:00<?, ?it/s]\u001b[A\n",
            "validation sample batches:  33%|███▎      | 3/9 [00:00<00:00, 22.81it/s]\u001b[A\n",
            "validation sample batches:  67%|██████▋   | 6/9 [00:00<00:00, 22.35it/s]\u001b[A\n",
            "validation sample batches: 100%|██████████| 9/9 [00:00<00:00, 22.64it/s]\n",
            "epochs:  72%|███████▏  | 72/100 [05:00<02:01,  4.33s/it]"
          ]
        },
        {
          "output_type": "stream",
          "name": "stdout",
          "text": [
            "Epoch train loss 2.5778783798217773\n",
            "Epoch val_loss 2.4500229358673096\n"
          ]
        },
        {
          "output_type": "stream",
          "name": "stderr",
          "text": [
            "\n",
            "train sample batches:   0%|          | 0/20 [00:00<?, ?it/s]\u001b[A\n",
            "train sample batches:   5%|▌         | 1/20 [00:00<00:03,  5.22it/s]\u001b[A\n",
            "train sample batches:  10%|█         | 2/20 [00:00<00:03,  5.23it/s]\u001b[A\n",
            "train sample batches:  15%|█▌        | 3/20 [00:00<00:03,  5.18it/s]\u001b[A\n",
            "train sample batches:  20%|██        | 4/20 [00:00<00:03,  5.28it/s]\u001b[A\n",
            "train sample batches:  25%|██▌       | 5/20 [00:00<00:02,  5.25it/s]\u001b[A\n",
            "train sample batches:  30%|███       | 6/20 [00:01<00:02,  5.23it/s]\u001b[A\n",
            "train sample batches:  35%|███▌      | 7/20 [00:01<00:02,  5.29it/s]\u001b[A\n",
            "train sample batches:  40%|████      | 8/20 [00:01<00:02,  5.22it/s]\u001b[A\n",
            "train sample batches:  45%|████▌     | 9/20 [00:01<00:02,  5.16it/s]\u001b[A\n",
            "train sample batches:  50%|█████     | 10/20 [00:01<00:01,  5.18it/s]\u001b[A\n",
            "train sample batches:  55%|█████▌    | 11/20 [00:02<00:01,  5.27it/s]\u001b[A\n",
            "train sample batches:  60%|██████    | 12/20 [00:02<00:01,  5.26it/s]\u001b[A\n",
            "train sample batches:  65%|██████▌   | 13/20 [00:02<00:01,  5.27it/s]\u001b[A\n",
            "train sample batches:  70%|███████   | 14/20 [00:02<00:01,  5.18it/s]\u001b[A\n",
            "train sample batches:  75%|███████▌  | 15/20 [00:02<00:00,  5.25it/s]\u001b[A\n",
            "train sample batches:  80%|████████  | 16/20 [00:03<00:00,  5.20it/s]\u001b[A\n",
            "train sample batches:  85%|████████▌ | 17/20 [00:03<00:00,  5.23it/s]\u001b[A\n",
            "train sample batches:  90%|█████████ | 18/20 [00:03<00:00,  5.22it/s]\u001b[A\n",
            "train sample batches:  95%|█████████▌| 19/20 [00:03<00:00,  5.21it/s]\u001b[A\n",
            "train sample batches: 100%|██████████| 20/20 [00:03<00:00,  5.23it/s]\n",
            "\n",
            "validation sample batches:   0%|          | 0/9 [00:00<?, ?it/s]\u001b[A\n",
            "validation sample batches:  33%|███▎      | 3/9 [00:00<00:00, 22.69it/s]\u001b[A\n",
            "validation sample batches:  67%|██████▋   | 6/9 [00:00<00:00, 21.42it/s]\u001b[A"
          ]
        },
        {
          "output_type": "stream",
          "name": "stdout",
          "text": [
            "Epoch 00650: reducing learning rate of group 0 to 4.8495e-05.\n"
          ]
        },
        {
          "output_type": "stream",
          "name": "stderr",
          "text": [
            "\n",
            "validation sample batches: 100%|██████████| 9/9 [00:00<00:00, 21.75it/s]\n",
            "epochs:  73%|███████▎  | 73/100 [05:04<01:56,  4.32s/it]"
          ]
        },
        {
          "output_type": "stream",
          "name": "stdout",
          "text": [
            "Epoch train loss 2.566171872615814\n",
            "Epoch val_loss 2.2404189109802246\n"
          ]
        },
        {
          "output_type": "stream",
          "name": "stderr",
          "text": [
            "\n",
            "train sample batches:   0%|          | 0/20 [00:00<?, ?it/s]\u001b[A\n",
            "train sample batches:   5%|▌         | 1/20 [00:00<00:03,  4.79it/s]\u001b[A\n",
            "train sample batches:  10%|█         | 2/20 [00:00<00:03,  4.84it/s]\u001b[A\n",
            "train sample batches:  15%|█▌        | 3/20 [00:00<00:03,  5.05it/s]\u001b[A\n",
            "train sample batches:  20%|██        | 4/20 [00:00<00:03,  5.11it/s]\u001b[A\n",
            "train sample batches:  25%|██▌       | 5/20 [00:00<00:02,  5.12it/s]\u001b[A\n",
            "train sample batches:  30%|███       | 6/20 [00:01<00:02,  5.16it/s]\u001b[A\n",
            "train sample batches:  35%|███▌      | 7/20 [00:01<00:02,  5.01it/s]\u001b[A\n",
            "train sample batches:  40%|████      | 8/20 [00:01<00:02,  5.16it/s]\u001b[A\n",
            "train sample batches:  45%|████▌     | 9/20 [00:01<00:02,  5.21it/s]\u001b[A\n",
            "train sample batches:  50%|█████     | 10/20 [00:01<00:01,  5.26it/s]\u001b[A\n",
            "train sample batches:  55%|█████▌    | 11/20 [00:02<00:01,  5.23it/s]\u001b[A\n",
            "train sample batches:  60%|██████    | 12/20 [00:02<00:01,  5.21it/s]\u001b[A\n",
            "train sample batches:  65%|██████▌   | 13/20 [00:02<00:01,  5.05it/s]\u001b[A\n",
            "train sample batches:  70%|███████   | 14/20 [00:02<00:01,  5.07it/s]\u001b[A\n",
            "train sample batches:  75%|███████▌  | 15/20 [00:02<00:00,  5.22it/s]\u001b[A\n",
            "train sample batches:  80%|████████  | 16/20 [00:03<00:00,  5.23it/s]\u001b[A\n",
            "train sample batches:  85%|████████▌ | 17/20 [00:03<00:00,  5.24it/s]\u001b[A\n",
            "train sample batches:  90%|█████████ | 18/20 [00:03<00:00,  5.25it/s]\u001b[A\n",
            "train sample batches:  95%|█████████▌| 19/20 [00:03<00:00,  5.23it/s]\u001b[A\n",
            "train sample batches: 100%|██████████| 20/20 [00:03<00:00,  5.16it/s]\n",
            "\n",
            "validation sample batches:   0%|          | 0/9 [00:00<?, ?it/s]\u001b[A\n",
            "validation sample batches:  33%|███▎      | 3/9 [00:00<00:00, 25.10it/s]\u001b[A\n",
            "validation sample batches:  67%|██████▋   | 6/9 [00:00<00:00, 21.32it/s]\u001b[A"
          ]
        },
        {
          "output_type": "stream",
          "name": "stdout",
          "text": [
            "Epoch 00661: reducing learning rate of group 0 to 4.6070e-05.\n"
          ]
        },
        {
          "output_type": "stream",
          "name": "stderr",
          "text": [
            "\n",
            "validation sample batches: 100%|██████████| 9/9 [00:00<00:00, 22.00it/s]\n",
            "epochs:  74%|███████▍  | 74/100 [05:08<01:52,  4.33s/it]"
          ]
        },
        {
          "output_type": "stream",
          "name": "stdout",
          "text": [
            "Epoch train loss 2.5741878271102907\n",
            "Epoch val_loss 2.6794381141662598\n"
          ]
        },
        {
          "output_type": "stream",
          "name": "stderr",
          "text": [
            "\n",
            "train sample batches:   0%|          | 0/20 [00:00<?, ?it/s]\u001b[A\n",
            "train sample batches:   5%|▌         | 1/20 [00:00<00:03,  4.88it/s]\u001b[A\n",
            "train sample batches:  10%|█         | 2/20 [00:00<00:03,  5.08it/s]\u001b[A\n",
            "train sample batches:  15%|█▌        | 3/20 [00:00<00:03,  5.18it/s]\u001b[A\n",
            "train sample batches:  20%|██        | 4/20 [00:00<00:03,  5.25it/s]\u001b[A\n",
            "train sample batches:  25%|██▌       | 5/20 [00:00<00:02,  5.29it/s]\u001b[A\n",
            "train sample batches:  30%|███       | 6/20 [00:01<00:02,  5.19it/s]\u001b[A\n",
            "train sample batches:  35%|███▌      | 7/20 [00:01<00:02,  5.31it/s]\u001b[A\n",
            "train sample batches:  40%|████      | 8/20 [00:01<00:02,  5.32it/s]\u001b[A\n",
            "train sample batches:  45%|████▌     | 9/20 [00:01<00:02,  5.33it/s]\u001b[A\n",
            "train sample batches:  50%|█████     | 10/20 [00:01<00:01,  5.36it/s]\u001b[A\n",
            "train sample batches:  55%|█████▌    | 11/20 [00:02<00:01,  5.30it/s]\u001b[A\n",
            "train sample batches:  60%|██████    | 12/20 [00:02<00:01,  5.23it/s]\u001b[A\n",
            "train sample batches:  65%|██████▌   | 13/20 [00:02<00:01,  5.22it/s]\u001b[A\n",
            "train sample batches:  70%|███████   | 14/20 [00:02<00:01,  5.23it/s]\u001b[A\n",
            "train sample batches:  75%|███████▌  | 15/20 [00:02<00:00,  5.34it/s]\u001b[A\n",
            "train sample batches:  80%|████████  | 16/20 [00:03<00:00,  5.28it/s]\u001b[A\n",
            "train sample batches:  85%|████████▌ | 17/20 [00:03<00:00,  5.22it/s]\u001b[A\n",
            "train sample batches:  90%|█████████ | 18/20 [00:03<00:00,  5.24it/s]\u001b[A\n",
            "train sample batches:  95%|█████████▌| 19/20 [00:03<00:00,  5.17it/s]\u001b[A\n",
            "train sample batches: 100%|██████████| 20/20 [00:03<00:00,  5.23it/s]\n",
            "\n",
            "validation sample batches:   0%|          | 0/9 [00:00<?, ?it/s]\u001b[A\n",
            "validation sample batches:  33%|███▎      | 3/9 [00:00<00:00, 27.05it/s]\u001b[A\n",
            "validation sample batches:  67%|██████▋   | 6/9 [00:00<00:00, 23.14it/s]\u001b[A\n",
            "validation sample batches: 100%|██████████| 9/9 [00:00<00:00, 22.83it/s]\n",
            "epochs:  75%|███████▌  | 75/100 [05:13<01:47,  4.32s/it]"
          ]
        },
        {
          "output_type": "stream",
          "name": "stdout",
          "text": [
            "Epoch 00672: reducing learning rate of group 0 to 4.3766e-05.\n",
            "Epoch train loss 2.5693230867385863\n",
            "Epoch val_loss 2.7364792823791504\n"
          ]
        },
        {
          "output_type": "stream",
          "name": "stderr",
          "text": [
            "\n",
            "train sample batches:   0%|          | 0/20 [00:00<?, ?it/s]\u001b[A\n",
            "train sample batches:   5%|▌         | 1/20 [00:00<00:03,  5.07it/s]\u001b[A\n",
            "train sample batches:  10%|█         | 2/20 [00:00<00:03,  5.03it/s]\u001b[A\n",
            "train sample batches:  15%|█▌        | 3/20 [00:00<00:03,  5.18it/s]\u001b[A\n",
            "train sample batches:  20%|██        | 4/20 [00:00<00:03,  5.20it/s]\u001b[A\n",
            "train sample batches:  25%|██▌       | 5/20 [00:00<00:03,  5.00it/s]\u001b[A\n",
            "train sample batches:  30%|███       | 6/20 [00:01<00:02,  5.15it/s]\u001b[A\n",
            "train sample batches:  35%|███▌      | 7/20 [00:01<00:02,  5.17it/s]\u001b[A\n",
            "train sample batches:  40%|████      | 8/20 [00:01<00:02,  5.06it/s]\u001b[A\n",
            "train sample batches:  45%|████▌     | 9/20 [00:01<00:02,  5.13it/s]\u001b[A\n",
            "train sample batches:  50%|█████     | 10/20 [00:01<00:01,  5.06it/s]\u001b[A\n",
            "train sample batches:  55%|█████▌    | 11/20 [00:02<00:01,  5.08it/s]\u001b[A\n",
            "train sample batches:  60%|██████    | 12/20 [00:02<00:01,  5.04it/s]\u001b[A\n",
            "train sample batches:  65%|██████▌   | 13/20 [00:02<00:01,  5.10it/s]\u001b[A\n",
            "train sample batches:  70%|███████   | 14/20 [00:02<00:01,  5.12it/s]\u001b[A\n",
            "train sample batches:  75%|███████▌  | 15/20 [00:02<00:00,  5.21it/s]\u001b[A\n",
            "train sample batches:  80%|████████  | 16/20 [00:03<00:00,  5.12it/s]\u001b[A\n",
            "train sample batches:  85%|████████▌ | 17/20 [00:03<00:00,  5.18it/s]\u001b[A\n",
            "train sample batches:  90%|█████████ | 18/20 [00:03<00:00,  5.20it/s]\u001b[A\n",
            "train sample batches:  95%|█████████▌| 19/20 [00:03<00:00,  5.28it/s]\u001b[A\n",
            "train sample batches: 100%|██████████| 20/20 [00:03<00:00,  5.16it/s]\n",
            "\n",
            "validation sample batches:   0%|          | 0/9 [00:00<?, ?it/s]\u001b[A\n",
            "validation sample batches:  33%|███▎      | 3/9 [00:00<00:00, 19.36it/s]\u001b[A\n",
            "validation sample batches:  67%|██████▋   | 6/9 [00:00<00:00, 20.87it/s]\u001b[A\n",
            "validation sample batches: 100%|██████████| 9/9 [00:00<00:00, 21.04it/s]\n",
            "epochs:  76%|███████▌  | 76/100 [05:17<01:43,  4.33s/it]"
          ]
        },
        {
          "output_type": "stream",
          "name": "stdout",
          "text": [
            "Epoch 00683: reducing learning rate of group 0 to 4.1578e-05.\n",
            "Epoch train loss 2.5558081746101378\n",
            "Epoch val_loss 2.6182613372802734\n"
          ]
        },
        {
          "output_type": "stream",
          "name": "stderr",
          "text": [
            "\n",
            "train sample batches:   0%|          | 0/20 [00:00<?, ?it/s]\u001b[A\n",
            "train sample batches:   5%|▌         | 1/20 [00:00<00:03,  4.98it/s]\u001b[A\n",
            "train sample batches:  10%|█         | 2/20 [00:00<00:03,  5.14it/s]\u001b[A\n",
            "train sample batches:  15%|█▌        | 3/20 [00:00<00:03,  5.29it/s]\u001b[A\n",
            "train sample batches:  20%|██        | 4/20 [00:00<00:03,  5.31it/s]\u001b[A\n",
            "train sample batches:  25%|██▌       | 5/20 [00:00<00:02,  5.32it/s]\u001b[A\n",
            "train sample batches:  30%|███       | 6/20 [00:01<00:02,  5.29it/s]\u001b[A\n",
            "train sample batches:  35%|███▌      | 7/20 [00:01<00:02,  5.36it/s]\u001b[A\n",
            "train sample batches:  40%|████      | 8/20 [00:01<00:02,  5.29it/s]\u001b[A\n",
            "train sample batches:  45%|████▌     | 9/20 [00:01<00:02,  5.18it/s]\u001b[A\n",
            "train sample batches:  50%|█████     | 10/20 [00:01<00:01,  5.21it/s]\u001b[A\n",
            "train sample batches:  55%|█████▌    | 11/20 [00:02<00:01,  5.27it/s]\u001b[A\n",
            "train sample batches:  60%|██████    | 12/20 [00:02<00:01,  5.22it/s]\u001b[A\n",
            "train sample batches:  65%|██████▌   | 13/20 [00:02<00:01,  5.21it/s]\u001b[A\n",
            "train sample batches:  70%|███████   | 14/20 [00:02<00:01,  5.18it/s]\u001b[A\n",
            "train sample batches:  75%|███████▌  | 15/20 [00:02<00:00,  5.08it/s]\u001b[A\n",
            "train sample batches:  80%|████████  | 16/20 [00:03<00:00,  5.09it/s]\u001b[A\n",
            "train sample batches:  85%|████████▌ | 17/20 [00:03<00:00,  5.08it/s]\u001b[A\n",
            "train sample batches:  90%|█████████ | 18/20 [00:03<00:00,  5.17it/s]\u001b[A\n",
            "train sample batches:  95%|█████████▌| 19/20 [00:03<00:00,  5.19it/s]\u001b[A\n",
            "train sample batches: 100%|██████████| 20/20 [00:03<00:00,  5.20it/s]\n",
            "\n",
            "validation sample batches:   0%|          | 0/9 [00:00<?, ?it/s]\u001b[A\n",
            "validation sample batches:  22%|██▏       | 2/9 [00:00<00:00, 17.31it/s]\u001b[A\n",
            "validation sample batches:  56%|█████▌    | 5/9 [00:00<00:00, 21.78it/s]\u001b[A\n",
            "validation sample batches: 100%|██████████| 9/9 [00:00<00:00, 21.15it/s]\n",
            "epochs:  77%|███████▋  | 77/100 [05:21<01:39,  4.32s/it]"
          ]
        },
        {
          "output_type": "stream",
          "name": "stdout",
          "text": [
            "Epoch train loss 2.5401906728744508\n",
            "Epoch val_loss 2.6203455924987793\n"
          ]
        },
        {
          "output_type": "stream",
          "name": "stderr",
          "text": [
            "\n",
            "train sample batches:   0%|          | 0/20 [00:00<?, ?it/s]\u001b[A\n",
            "train sample batches:   5%|▌         | 1/20 [00:00<00:03,  5.24it/s]\u001b[A\n",
            "train sample batches:  10%|█         | 2/20 [00:00<00:03,  5.19it/s]\u001b[A\n",
            "train sample batches:  15%|█▌        | 3/20 [00:00<00:03,  5.04it/s]\u001b[A\n",
            "train sample batches:  20%|██        | 4/20 [00:00<00:03,  5.14it/s]\u001b[A\n",
            "train sample batches:  25%|██▌       | 5/20 [00:00<00:02,  5.13it/s]\u001b[A\n",
            "train sample batches:  30%|███       | 6/20 [00:01<00:02,  5.06it/s]\u001b[A\n",
            "train sample batches:  35%|███▌      | 7/20 [00:01<00:02,  5.07it/s]\u001b[A\n",
            "train sample batches:  40%|████      | 8/20 [00:01<00:02,  5.02it/s]\u001b[A\n",
            "train sample batches:  45%|████▌     | 9/20 [00:01<00:02,  5.04it/s]\u001b[A\n",
            "train sample batches:  50%|█████     | 10/20 [00:01<00:01,  5.03it/s]\u001b[A\n",
            "train sample batches:  55%|█████▌    | 11/20 [00:02<00:01,  5.12it/s]\u001b[A\n",
            "train sample batches:  60%|██████    | 12/20 [00:02<00:01,  5.12it/s]\u001b[A\n",
            "train sample batches:  65%|██████▌   | 13/20 [00:02<00:01,  5.02it/s]\u001b[A\n",
            "train sample batches:  70%|███████   | 14/20 [00:02<00:01,  5.06it/s]\u001b[A\n",
            "train sample batches:  75%|███████▌  | 15/20 [00:02<00:00,  5.04it/s]\u001b[A\n",
            "train sample batches:  80%|████████  | 16/20 [00:03<00:00,  5.09it/s]\u001b[A\n",
            "train sample batches:  85%|████████▌ | 17/20 [00:03<00:00,  5.12it/s]\u001b[A\n",
            "train sample batches:  90%|█████████ | 18/20 [00:03<00:00,  4.92it/s]\u001b[A\n",
            "train sample batches:  95%|█████████▌| 19/20 [00:03<00:00,  5.02it/s]\u001b[A\n",
            "train sample batches: 100%|██████████| 20/20 [00:03<00:00,  5.05it/s]\n",
            "\n",
            "validation sample batches:   0%|          | 0/9 [00:00<?, ?it/s]\u001b[A\n",
            "validation sample batches:  33%|███▎      | 3/9 [00:00<00:00, 26.75it/s]\u001b[A"
          ]
        },
        {
          "output_type": "stream",
          "name": "stdout",
          "text": [
            "Epoch 00694: reducing learning rate of group 0 to 3.9499e-05.\n"
          ]
        },
        {
          "output_type": "stream",
          "name": "stderr",
          "text": [
            "\n",
            "validation sample batches:  67%|██████▋   | 6/9 [00:00<00:00, 22.18it/s]\u001b[A\n",
            "validation sample batches: 100%|██████████| 9/9 [00:00<00:00, 21.88it/s]\n",
            "epochs:  78%|███████▊  | 78/100 [05:26<01:35,  4.35s/it]"
          ]
        },
        {
          "output_type": "stream",
          "name": "stdout",
          "text": [
            "Epoch train loss 2.5437305331230164\n",
            "Epoch val_loss 2.6271634101867676\n"
          ]
        },
        {
          "output_type": "stream",
          "name": "stderr",
          "text": [
            "\n",
            "train sample batches:   0%|          | 0/20 [00:00<?, ?it/s]\u001b[A\n",
            "train sample batches:   5%|▌         | 1/20 [00:00<00:03,  4.80it/s]\u001b[A\n",
            "train sample batches:  10%|█         | 2/20 [00:00<00:03,  4.98it/s]\u001b[A\n",
            "train sample batches:  15%|█▌        | 3/20 [00:00<00:03,  5.02it/s]\u001b[A\n",
            "train sample batches:  20%|██        | 4/20 [00:00<00:03,  4.94it/s]\u001b[A\n",
            "train sample batches:  25%|██▌       | 5/20 [00:01<00:02,  5.02it/s]\u001b[A\n",
            "train sample batches:  30%|███       | 6/20 [00:01<00:02,  4.98it/s]\u001b[A\n",
            "train sample batches:  35%|███▌      | 7/20 [00:01<00:02,  5.01it/s]\u001b[A\n",
            "train sample batches:  40%|████      | 8/20 [00:01<00:02,  5.01it/s]\u001b[A\n",
            "train sample batches:  45%|████▌     | 9/20 [00:01<00:02,  5.00it/s]\u001b[A\n",
            "train sample batches:  50%|█████     | 10/20 [00:02<00:02,  5.00it/s]\u001b[A\n",
            "train sample batches:  55%|█████▌    | 11/20 [00:02<00:01,  5.00it/s]\u001b[A\n",
            "train sample batches:  60%|██████    | 12/20 [00:02<00:01,  5.00it/s]\u001b[A\n",
            "train sample batches:  65%|██████▌   | 13/20 [00:02<00:01,  5.06it/s]\u001b[A\n",
            "train sample batches:  70%|███████   | 14/20 [00:02<00:01,  5.14it/s]\u001b[A\n",
            "train sample batches:  75%|███████▌  | 15/20 [00:02<00:00,  5.14it/s]\u001b[A\n",
            "train sample batches:  80%|████████  | 16/20 [00:03<00:00,  5.17it/s]\u001b[A\n",
            "train sample batches:  85%|████████▌ | 17/20 [00:03<00:00,  5.17it/s]\u001b[A\n",
            "train sample batches:  90%|█████████ | 18/20 [00:03<00:00,  5.21it/s]\u001b[A\n",
            "train sample batches:  95%|█████████▌| 19/20 [00:03<00:00,  5.28it/s]\u001b[A\n",
            "train sample batches: 100%|██████████| 20/20 [00:03<00:00,  5.09it/s]\n",
            "\n",
            "validation sample batches:   0%|          | 0/9 [00:00<?, ?it/s]\u001b[A\n",
            "validation sample batches:  22%|██▏       | 2/9 [00:00<00:00, 19.41it/s]\u001b[A\n",
            "validation sample batches:  44%|████▍     | 4/9 [00:00<00:00, 19.06it/s]\u001b[A\n",
            "validation sample batches:  67%|██████▋   | 6/9 [00:00<00:00, 18.66it/s]\u001b[A"
          ]
        },
        {
          "output_type": "stream",
          "name": "stdout",
          "text": [
            "Epoch 00705: reducing learning rate of group 0 to 3.7524e-05.\n"
          ]
        },
        {
          "output_type": "stream",
          "name": "stderr",
          "text": [
            "\n",
            "validation sample batches: 100%|██████████| 9/9 [00:00<00:00, 18.84it/s]\n",
            "epochs:  79%|███████▉  | 79/100 [05:30<01:32,  4.39s/it]"
          ]
        },
        {
          "output_type": "stream",
          "name": "stdout",
          "text": [
            "Epoch train loss 2.546686387062073\n",
            "Epoch val_loss 2.7006564140319824\n"
          ]
        },
        {
          "output_type": "stream",
          "name": "stderr",
          "text": [
            "\n",
            "train sample batches:   0%|          | 0/20 [00:00<?, ?it/s]\u001b[A\n",
            "train sample batches:   5%|▌         | 1/20 [00:00<00:03,  5.23it/s]\u001b[A\n",
            "train sample batches:  10%|█         | 2/20 [00:00<00:03,  5.30it/s]\u001b[A\n",
            "train sample batches:  15%|█▌        | 3/20 [00:00<00:03,  5.23it/s]\u001b[A\n",
            "train sample batches:  20%|██        | 4/20 [00:00<00:03,  5.20it/s]\u001b[A\n",
            "train sample batches:  25%|██▌       | 5/20 [00:00<00:02,  5.07it/s]\u001b[A\n",
            "train sample batches:  30%|███       | 6/20 [00:01<00:02,  5.21it/s]\u001b[A\n",
            "train sample batches:  35%|███▌      | 7/20 [00:01<00:02,  5.23it/s]\u001b[A\n",
            "train sample batches:  40%|████      | 8/20 [00:01<00:02,  5.21it/s]\u001b[A\n",
            "train sample batches:  45%|████▌     | 9/20 [00:01<00:02,  5.27it/s]\u001b[A\n",
            "train sample batches:  50%|█████     | 10/20 [00:01<00:01,  5.25it/s]\u001b[A\n",
            "train sample batches:  55%|█████▌    | 11/20 [00:02<00:01,  5.19it/s]\u001b[A\n",
            "train sample batches:  60%|██████    | 12/20 [00:02<00:01,  5.19it/s]\u001b[A\n",
            "train sample batches:  65%|██████▌   | 13/20 [00:02<00:01,  5.15it/s]\u001b[A\n",
            "train sample batches:  70%|███████   | 14/20 [00:02<00:01,  5.15it/s]\u001b[A\n",
            "train sample batches:  75%|███████▌  | 15/20 [00:02<00:00,  5.05it/s]\u001b[A\n",
            "train sample batches:  80%|████████  | 16/20 [00:03<00:00,  5.14it/s]\u001b[A\n",
            "train sample batches:  85%|████████▌ | 17/20 [00:03<00:00,  5.23it/s]\u001b[A\n",
            "train sample batches:  90%|█████████ | 18/20 [00:03<00:00,  5.32it/s]\u001b[A\n",
            "train sample batches:  95%|█████████▌| 19/20 [00:03<00:00,  5.27it/s]\u001b[A\n",
            "train sample batches: 100%|██████████| 20/20 [00:03<00:00,  5.22it/s]\n",
            "\n",
            "validation sample batches:   0%|          | 0/9 [00:00<?, ?it/s]\u001b[A\n",
            "validation sample batches:  22%|██▏       | 2/9 [00:00<00:00, 17.52it/s]\u001b[A\n",
            "validation sample batches:  44%|████▍     | 4/9 [00:00<00:00, 17.97it/s]\u001b[A\n",
            "validation sample batches:  67%|██████▋   | 6/9 [00:00<00:00, 18.10it/s]\u001b[A\n",
            "validation sample batches:  89%|████████▉ | 8/9 [00:00<00:00, 18.44it/s]\u001b[A"
          ]
        },
        {
          "output_type": "stream",
          "name": "stdout",
          "text": [
            "Epoch 00716: reducing learning rate of group 0 to 3.5648e-05.\n"
          ]
        },
        {
          "output_type": "stream",
          "name": "stderr",
          "text": [
            "validation sample batches: 100%|██████████| 9/9 [00:00<00:00, 17.96it/s]\n",
            "epochs:  80%|████████  | 80/100 [05:35<01:27,  4.39s/it]"
          ]
        },
        {
          "output_type": "stream",
          "name": "stdout",
          "text": [
            "Epoch train loss 2.538490724563599\n",
            "Epoch val_loss 2.635861396789551\n"
          ]
        },
        {
          "output_type": "stream",
          "name": "stderr",
          "text": [
            "\n",
            "train sample batches:   0%|          | 0/20 [00:00<?, ?it/s]\u001b[A\n",
            "train sample batches:   5%|▌         | 1/20 [00:00<00:04,  4.53it/s]\u001b[A\n",
            "train sample batches:  10%|█         | 2/20 [00:00<00:03,  4.61it/s]\u001b[A\n",
            "train sample batches:  15%|█▌        | 3/20 [00:00<00:03,  4.38it/s]\u001b[A\n",
            "train sample batches:  20%|██        | 4/20 [00:00<00:03,  4.61it/s]\u001b[A\n",
            "train sample batches:  25%|██▌       | 5/20 [00:01<00:03,  4.71it/s]\u001b[A\n",
            "train sample batches:  30%|███       | 6/20 [00:01<00:02,  4.75it/s]\u001b[A\n",
            "train sample batches:  35%|███▌      | 7/20 [00:01<00:02,  4.83it/s]\u001b[A\n",
            "train sample batches:  40%|████      | 8/20 [00:01<00:02,  4.79it/s]\u001b[A\n",
            "train sample batches:  45%|████▌     | 9/20 [00:01<00:02,  4.87it/s]\u001b[A\n",
            "train sample batches:  50%|█████     | 10/20 [00:02<00:02,  4.97it/s]\u001b[A\n",
            "train sample batches:  55%|█████▌    | 11/20 [00:02<00:01,  4.99it/s]\u001b[A\n",
            "train sample batches:  60%|██████    | 12/20 [00:02<00:01,  4.94it/s]\u001b[A\n",
            "train sample batches:  65%|██████▌   | 13/20 [00:02<00:01,  4.94it/s]\u001b[A\n",
            "train sample batches:  70%|███████   | 14/20 [00:02<00:01,  5.03it/s]\u001b[A\n",
            "train sample batches:  75%|███████▌  | 15/20 [00:03<00:00,  5.06it/s]\u001b[A\n",
            "train sample batches:  80%|████████  | 16/20 [00:03<00:00,  5.12it/s]\u001b[A\n",
            "train sample batches:  85%|████████▌ | 17/20 [00:03<00:00,  5.14it/s]\u001b[A\n",
            "train sample batches:  90%|█████████ | 18/20 [00:03<00:00,  5.03it/s]\u001b[A\n",
            "train sample batches:  95%|█████████▌| 19/20 [00:03<00:00,  4.95it/s]\u001b[A\n",
            "train sample batches: 100%|██████████| 20/20 [00:04<00:00,  4.91it/s]\n",
            "\n",
            "validation sample batches:   0%|          | 0/9 [00:00<?, ?it/s]\u001b[A\n",
            "validation sample batches:  22%|██▏       | 2/9 [00:00<00:00, 17.06it/s]\u001b[A\n",
            "validation sample batches:  56%|█████▌    | 5/9 [00:00<00:00, 19.84it/s]\u001b[A\n",
            "validation sample batches: 100%|██████████| 9/9 [00:00<00:00, 19.98it/s]\n",
            "epochs:  81%|████████  | 81/100 [05:39<01:24,  4.44s/it]"
          ]
        },
        {
          "output_type": "stream",
          "name": "stdout",
          "text": [
            "Epoch 00727: reducing learning rate of group 0 to 3.3866e-05.\n",
            "Epoch train loss 2.5342486023902895\n",
            "Epoch val_loss 2.319331645965576\n"
          ]
        },
        {
          "output_type": "stream",
          "name": "stderr",
          "text": [
            "\n",
            "train sample batches:   0%|          | 0/20 [00:00<?, ?it/s]\u001b[A\n",
            "train sample batches:   5%|▌         | 1/20 [00:00<00:03,  5.11it/s]\u001b[A\n",
            "train sample batches:  10%|█         | 2/20 [00:00<00:03,  5.14it/s]\u001b[A\n",
            "train sample batches:  15%|█▌        | 3/20 [00:00<00:03,  5.11it/s]\u001b[A\n",
            "train sample batches:  20%|██        | 4/20 [00:00<00:03,  5.15it/s]\u001b[A\n",
            "train sample batches:  25%|██▌       | 5/20 [00:00<00:02,  5.08it/s]\u001b[A\n",
            "train sample batches:  30%|███       | 6/20 [00:01<00:02,  5.07it/s]\u001b[A\n",
            "train sample batches:  35%|███▌      | 7/20 [00:01<00:02,  5.14it/s]\u001b[A\n",
            "train sample batches:  40%|████      | 8/20 [00:01<00:02,  5.11it/s]\u001b[A\n",
            "train sample batches:  45%|████▌     | 9/20 [00:01<00:02,  5.11it/s]\u001b[A\n",
            "train sample batches:  50%|█████     | 10/20 [00:01<00:01,  5.10it/s]\u001b[A\n",
            "train sample batches:  55%|█████▌    | 11/20 [00:02<00:01,  4.99it/s]\u001b[A\n",
            "train sample batches:  60%|██████    | 12/20 [00:02<00:01,  5.02it/s]\u001b[A\n",
            "train sample batches:  65%|██████▌   | 13/20 [00:02<00:01,  4.98it/s]\u001b[A\n",
            "train sample batches:  70%|███████   | 14/20 [00:02<00:01,  5.02it/s]\u001b[A\n",
            "train sample batches:  75%|███████▌  | 15/20 [00:02<00:00,  5.05it/s]\u001b[A\n",
            "train sample batches:  80%|████████  | 16/20 [00:03<00:00,  5.08it/s]\u001b[A\n",
            "train sample batches:  85%|████████▌ | 17/20 [00:03<00:00,  5.00it/s]\u001b[A\n",
            "train sample batches:  90%|█████████ | 18/20 [00:03<00:00,  5.03it/s]\u001b[A\n",
            "train sample batches:  95%|█████████▌| 19/20 [00:03<00:00,  5.08it/s]\u001b[A\n",
            "train sample batches: 100%|██████████| 20/20 [00:03<00:00,  5.06it/s]\n",
            "\n",
            "validation sample batches:   0%|          | 0/9 [00:00<?, ?it/s]\u001b[A\n",
            "validation sample batches:  22%|██▏       | 2/9 [00:00<00:00, 17.28it/s]\u001b[A\n",
            "validation sample batches:  44%|████▍     | 4/9 [00:00<00:00, 17.89it/s]\u001b[A\n",
            "validation sample batches:  67%|██████▋   | 6/9 [00:00<00:00, 18.36it/s]\u001b[A\n",
            "validation sample batches: 100%|██████████| 9/9 [00:00<00:00, 19.16it/s]\n",
            "epochs:  82%|████████▏ | 82/100 [05:44<01:20,  4.45s/it]"
          ]
        },
        {
          "output_type": "stream",
          "name": "stdout",
          "text": [
            "Epoch 00738: reducing learning rate of group 0 to 3.2172e-05.\n",
            "Epoch train loss 2.533374071121216\n",
            "Epoch val_loss 2.434891700744629\n"
          ]
        },
        {
          "output_type": "stream",
          "name": "stderr",
          "text": [
            "\n",
            "train sample batches:   0%|          | 0/20 [00:00<?, ?it/s]\u001b[A\n",
            "train sample batches:   5%|▌         | 1/20 [00:00<00:03,  4.92it/s]\u001b[A\n",
            "train sample batches:  10%|█         | 2/20 [00:00<00:03,  5.01it/s]\u001b[A\n",
            "train sample batches:  15%|█▌        | 3/20 [00:00<00:03,  5.03it/s]\u001b[A\n",
            "train sample batches:  20%|██        | 4/20 [00:00<00:03,  4.81it/s]\u001b[A\n",
            "train sample batches:  25%|██▌       | 5/20 [00:01<00:03,  4.84it/s]\u001b[A\n",
            "train sample batches:  30%|███       | 6/20 [00:01<00:02,  4.94it/s]\u001b[A\n",
            "train sample batches:  35%|███▌      | 7/20 [00:01<00:02,  4.94it/s]\u001b[A\n",
            "train sample batches:  40%|████      | 8/20 [00:01<00:02,  4.92it/s]\u001b[A\n",
            "train sample batches:  45%|████▌     | 9/20 [00:01<00:02,  4.82it/s]\u001b[A\n",
            "train sample batches:  50%|█████     | 10/20 [00:02<00:02,  4.88it/s]\u001b[A\n",
            "train sample batches:  55%|█████▌    | 11/20 [00:02<00:01,  4.88it/s]\u001b[A\n",
            "train sample batches:  60%|██████    | 12/20 [00:02<00:01,  4.89it/s]\u001b[A\n",
            "train sample batches:  65%|██████▌   | 13/20 [00:02<00:01,  4.88it/s]\u001b[A\n",
            "train sample batches:  70%|███████   | 14/20 [00:02<00:01,  4.85it/s]\u001b[A\n",
            "train sample batches:  75%|███████▌  | 15/20 [00:03<00:01,  4.83it/s]\u001b[A\n",
            "train sample batches:  80%|████████  | 16/20 [00:03<00:00,  4.86it/s]\u001b[A\n",
            "train sample batches:  85%|████████▌ | 17/20 [00:03<00:00,  5.01it/s]\u001b[A\n",
            "train sample batches:  90%|█████████ | 18/20 [00:03<00:00,  4.95it/s]\u001b[A\n",
            "train sample batches:  95%|█████████▌| 19/20 [00:03<00:00,  4.88it/s]\u001b[A\n",
            "train sample batches: 100%|██████████| 20/20 [00:04<00:00,  4.91it/s]\n",
            "\n",
            "validation sample batches:   0%|          | 0/9 [00:00<?, ?it/s]\u001b[A\n",
            "validation sample batches:  22%|██▏       | 2/9 [00:00<00:00, 18.60it/s]\u001b[A\n",
            "validation sample batches:  56%|█████▌    | 5/9 [00:00<00:00, 20.61it/s]\u001b[A\n",
            "validation sample batches: 100%|██████████| 9/9 [00:00<00:00, 20.09it/s]\n",
            "epochs:  83%|████████▎ | 83/100 [05:48<01:16,  4.49s/it]"
          ]
        },
        {
          "output_type": "stream",
          "name": "stdout",
          "text": [
            "Epoch train loss 2.532711851596832\n",
            "Epoch val_loss 2.3553361892700195\n"
          ]
        },
        {
          "output_type": "stream",
          "name": "stderr",
          "text": [
            "\n",
            "train sample batches:   0%|          | 0/20 [00:00<?, ?it/s]\u001b[A\n",
            "train sample batches:   5%|▌         | 1/20 [00:00<00:03,  4.97it/s]\u001b[A\n",
            "train sample batches:  10%|█         | 2/20 [00:00<00:03,  4.87it/s]\u001b[A\n",
            "train sample batches:  15%|█▌        | 3/20 [00:00<00:03,  5.01it/s]\u001b[A\n",
            "train sample batches:  20%|██        | 4/20 [00:00<00:03,  5.04it/s]\u001b[A\n",
            "train sample batches:  25%|██▌       | 5/20 [00:00<00:02,  5.09it/s]\u001b[A\n",
            "train sample batches:  30%|███       | 6/20 [00:01<00:02,  5.16it/s]\u001b[A\n",
            "train sample batches:  35%|███▌      | 7/20 [00:01<00:02,  4.99it/s]\u001b[A\n",
            "train sample batches:  40%|████      | 8/20 [00:01<00:02,  4.95it/s]\u001b[A\n",
            "train sample batches:  45%|████▌     | 9/20 [00:01<00:02,  4.97it/s]\u001b[A\n",
            "train sample batches:  50%|█████     | 10/20 [00:02<00:02,  4.95it/s]\u001b[A\n",
            "train sample batches:  55%|█████▌    | 11/20 [00:02<00:01,  4.98it/s]\u001b[A\n",
            "train sample batches:  60%|██████    | 12/20 [00:02<00:01,  4.98it/s]\u001b[A\n",
            "train sample batches:  65%|██████▌   | 13/20 [00:02<00:01,  5.01it/s]\u001b[A\n",
            "train sample batches:  70%|███████   | 14/20 [00:02<00:01,  5.01it/s]\u001b[A\n",
            "train sample batches:  75%|███████▌  | 15/20 [00:03<00:01,  4.94it/s]\u001b[A\n",
            "train sample batches:  80%|████████  | 16/20 [00:03<00:00,  4.96it/s]\u001b[A\n",
            "train sample batches:  85%|████████▌ | 17/20 [00:03<00:00,  4.89it/s]\u001b[A\n",
            "train sample batches:  90%|█████████ | 18/20 [00:03<00:00,  4.86it/s]\u001b[A\n",
            "train sample batches:  95%|█████████▌| 19/20 [00:03<00:00,  4.81it/s]\u001b[A\n",
            "train sample batches: 100%|██████████| 20/20 [00:04<00:00,  4.95it/s]\n",
            "\n",
            "validation sample batches:   0%|          | 0/9 [00:00<?, ?it/s]\u001b[A\n",
            "validation sample batches:  22%|██▏       | 2/9 [00:00<00:00, 17.46it/s]\u001b[A\n",
            "validation sample batches:  44%|████▍     | 4/9 [00:00<00:00, 17.97it/s]\u001b[A"
          ]
        },
        {
          "output_type": "stream",
          "name": "stdout",
          "text": [
            "Epoch 00749: reducing learning rate of group 0 to 3.0564e-05.\n"
          ]
        },
        {
          "output_type": "stream",
          "name": "stderr",
          "text": [
            "\n",
            "validation sample batches:  67%|██████▋   | 6/9 [00:00<00:00, 17.27it/s]\u001b[A\n",
            "validation sample batches: 100%|██████████| 9/9 [00:00<00:00, 18.98it/s]\n",
            "epochs:  84%|████████▍ | 84/100 [05:53<01:12,  4.52s/it]"
          ]
        },
        {
          "output_type": "stream",
          "name": "stdout",
          "text": [
            "Epoch train loss 2.5188261032104493\n",
            "Epoch val_loss 2.449437141418457\n"
          ]
        },
        {
          "output_type": "stream",
          "name": "stderr",
          "text": [
            "\n",
            "train sample batches:   0%|          | 0/20 [00:00<?, ?it/s]\u001b[A\n",
            "train sample batches:   5%|▌         | 1/20 [00:00<00:03,  4.88it/s]\u001b[A\n",
            "train sample batches:  10%|█         | 2/20 [00:00<00:03,  4.82it/s]\u001b[A\n",
            "train sample batches:  15%|█▌        | 3/20 [00:00<00:03,  4.95it/s]\u001b[A\n",
            "train sample batches:  20%|██        | 4/20 [00:00<00:03,  5.10it/s]\u001b[A\n",
            "train sample batches:  25%|██▌       | 5/20 [00:01<00:02,  5.02it/s]\u001b[A\n",
            "train sample batches:  30%|███       | 6/20 [00:01<00:02,  4.98it/s]\u001b[A\n",
            "train sample batches:  35%|███▌      | 7/20 [00:01<00:02,  5.00it/s]\u001b[A\n",
            "train sample batches:  40%|████      | 8/20 [00:01<00:02,  5.06it/s]\u001b[A\n",
            "train sample batches:  45%|████▌     | 9/20 [00:01<00:02,  5.07it/s]\u001b[A\n",
            "train sample batches:  50%|█████     | 10/20 [00:01<00:01,  5.04it/s]\u001b[A\n",
            "train sample batches:  55%|█████▌    | 11/20 [00:02<00:01,  5.03it/s]\u001b[A\n",
            "train sample batches:  60%|██████    | 12/20 [00:02<00:01,  4.97it/s]\u001b[A\n",
            "train sample batches:  65%|██████▌   | 13/20 [00:02<00:01,  4.98it/s]\u001b[A\n",
            "train sample batches:  70%|███████   | 14/20 [00:02<00:01,  4.99it/s]\u001b[A\n",
            "train sample batches:  75%|███████▌  | 15/20 [00:03<00:01,  4.80it/s]\u001b[A\n",
            "train sample batches:  80%|████████  | 16/20 [00:03<00:00,  4.84it/s]\u001b[A\n",
            "train sample batches:  85%|████████▌ | 17/20 [00:03<00:00,  4.82it/s]\u001b[A\n",
            "train sample batches:  90%|█████████ | 18/20 [00:03<00:00,  4.91it/s]\u001b[A\n",
            "train sample batches:  95%|█████████▌| 19/20 [00:03<00:00,  4.96it/s]\u001b[A\n",
            "train sample batches: 100%|██████████| 20/20 [00:04<00:00,  4.96it/s]\n",
            "\n",
            "validation sample batches:   0%|          | 0/9 [00:00<?, ?it/s]\u001b[A\n",
            "validation sample batches:  22%|██▏       | 2/9 [00:00<00:00, 17.85it/s]\u001b[A\n",
            "validation sample batches:  56%|█████▌    | 5/9 [00:00<00:00, 20.40it/s]\u001b[A\n",
            "validation sample batches:  89%|████████▉ | 8/9 [00:00<00:00, 20.20it/s]\u001b[A"
          ]
        },
        {
          "output_type": "stream",
          "name": "stdout",
          "text": [
            "Epoch 00760: reducing learning rate of group 0 to 2.9035e-05.\n"
          ]
        },
        {
          "output_type": "stream",
          "name": "stderr",
          "text": [
            "validation sample batches: 100%|██████████| 9/9 [00:00<00:00, 19.73it/s]\n",
            "epochs:  85%|████████▌ | 85/100 [05:57<01:07,  4.53s/it]"
          ]
        },
        {
          "output_type": "stream",
          "name": "stdout",
          "text": [
            "Epoch train loss 2.518622076511383\n",
            "Epoch val_loss 2.5887763500213623\n"
          ]
        },
        {
          "output_type": "stream",
          "name": "stderr",
          "text": [
            "\n",
            "train sample batches:   0%|          | 0/20 [00:00<?, ?it/s]\u001b[A\n",
            "train sample batches:   5%|▌         | 1/20 [00:00<00:03,  5.19it/s]\u001b[A\n",
            "train sample batches:  10%|█         | 2/20 [00:00<00:03,  5.29it/s]\u001b[A\n",
            "train sample batches:  15%|█▌        | 3/20 [00:00<00:03,  5.03it/s]\u001b[A\n",
            "train sample batches:  20%|██        | 4/20 [00:00<00:03,  5.02it/s]\u001b[A\n",
            "train sample batches:  25%|██▌       | 5/20 [00:00<00:03,  4.99it/s]\u001b[A\n",
            "train sample batches:  30%|███       | 6/20 [00:01<00:02,  5.00it/s]\u001b[A\n",
            "train sample batches:  35%|███▌      | 7/20 [00:01<00:02,  5.09it/s]\u001b[A\n",
            "train sample batches:  40%|████      | 8/20 [00:01<00:02,  5.07it/s]\u001b[A\n",
            "train sample batches:  45%|████▌     | 9/20 [00:01<00:02,  4.99it/s]\u001b[A\n",
            "train sample batches:  50%|█████     | 10/20 [00:01<00:01,  5.07it/s]\u001b[A\n",
            "train sample batches:  55%|█████▌    | 11/20 [00:02<00:01,  5.08it/s]\u001b[A\n",
            "train sample batches:  60%|██████    | 12/20 [00:02<00:01,  5.07it/s]\u001b[A\n",
            "train sample batches:  65%|██████▌   | 13/20 [00:02<00:01,  5.10it/s]\u001b[A\n",
            "train sample batches:  70%|███████   | 14/20 [00:02<00:01,  5.05it/s]\u001b[A\n",
            "train sample batches:  75%|███████▌  | 15/20 [00:02<00:00,  5.05it/s]\u001b[A\n",
            "train sample batches:  80%|████████  | 16/20 [00:03<00:00,  5.10it/s]\u001b[A\n",
            "train sample batches:  85%|████████▌ | 17/20 [00:03<00:00,  5.12it/s]\u001b[A\n",
            "train sample batches:  90%|█████████ | 18/20 [00:03<00:00,  5.07it/s]\u001b[A\n",
            "train sample batches:  95%|█████████▌| 19/20 [00:03<00:00,  5.06it/s]\u001b[A\n",
            "train sample batches: 100%|██████████| 20/20 [00:03<00:00,  5.07it/s]\n",
            "\n",
            "validation sample batches:   0%|          | 0/9 [00:00<?, ?it/s]\u001b[A\n",
            "validation sample batches:  33%|███▎      | 3/9 [00:00<00:00, 20.55it/s]\u001b[A\n",
            "validation sample batches:  67%|██████▋   | 6/9 [00:00<00:00, 21.04it/s]\u001b[A\n",
            "validation sample batches: 100%|██████████| 9/9 [00:00<00:00, 20.91it/s]\n",
            "epochs:  86%|████████▌ | 86/100 [06:02<01:02,  4.50s/it]"
          ]
        },
        {
          "output_type": "stream",
          "name": "stdout",
          "text": [
            "Epoch 00771: reducing learning rate of group 0 to 2.7584e-05.\n",
            "Epoch train loss 2.5211593747138976\n",
            "Epoch val_loss 2.487093687057495\n"
          ]
        },
        {
          "output_type": "stream",
          "name": "stderr",
          "text": [
            "\n",
            "train sample batches:   0%|          | 0/20 [00:00<?, ?it/s]\u001b[A\n",
            "train sample batches:   5%|▌         | 1/20 [00:00<00:03,  5.21it/s]\u001b[A\n",
            "train sample batches:  10%|█         | 2/20 [00:00<00:03,  4.95it/s]\u001b[A\n",
            "train sample batches:  15%|█▌        | 3/20 [00:00<00:03,  4.99it/s]\u001b[A\n",
            "train sample batches:  20%|██        | 4/20 [00:00<00:03,  5.11it/s]\u001b[A\n",
            "train sample batches:  25%|██▌       | 5/20 [00:00<00:02,  5.13it/s]\u001b[A\n",
            "train sample batches:  30%|███       | 6/20 [00:01<00:02,  5.09it/s]\u001b[A\n",
            "train sample batches:  35%|███▌      | 7/20 [00:01<00:02,  5.00it/s]\u001b[A\n",
            "train sample batches:  40%|████      | 8/20 [00:01<00:02,  5.00it/s]\u001b[A\n",
            "train sample batches:  45%|████▌     | 9/20 [00:01<00:02,  5.03it/s]\u001b[A\n",
            "train sample batches:  50%|█████     | 10/20 [00:01<00:02,  5.00it/s]\u001b[A\n",
            "train sample batches:  55%|█████▌    | 11/20 [00:02<00:01,  5.11it/s]\u001b[A\n",
            "train sample batches:  60%|██████    | 12/20 [00:02<00:01,  5.01it/s]\u001b[A\n",
            "train sample batches:  65%|██████▌   | 13/20 [00:02<00:01,  5.07it/s]\u001b[A\n",
            "train sample batches:  70%|███████   | 14/20 [00:02<00:01,  5.07it/s]\u001b[A\n",
            "train sample batches:  75%|███████▌  | 15/20 [00:02<00:00,  5.08it/s]\u001b[A\n",
            "train sample batches:  80%|████████  | 16/20 [00:03<00:00,  5.15it/s]\u001b[A\n",
            "train sample batches:  85%|████████▌ | 17/20 [00:03<00:00,  5.07it/s]\u001b[A\n",
            "train sample batches:  90%|█████████ | 18/20 [00:03<00:00,  5.08it/s]\u001b[A\n",
            "train sample batches:  95%|█████████▌| 19/20 [00:03<00:00,  5.17it/s]\u001b[A\n",
            "train sample batches: 100%|██████████| 20/20 [00:03<00:00,  5.09it/s]\n",
            "\n",
            "validation sample batches:   0%|          | 0/9 [00:00<?, ?it/s]\u001b[A\n",
            "validation sample batches:  33%|███▎      | 3/9 [00:00<00:00, 20.64it/s]\u001b[A\n",
            "validation sample batches:  67%|██████▋   | 6/9 [00:00<00:00, 19.59it/s]\u001b[A\n",
            "validation sample batches: 100%|██████████| 9/9 [00:00<00:00, 20.05it/s]\n",
            "epochs:  87%|████████▋ | 87/100 [06:06<00:58,  4.48s/it]"
          ]
        },
        {
          "output_type": "stream",
          "name": "stdout",
          "text": [
            "Epoch 00782: reducing learning rate of group 0 to 2.6205e-05.\n",
            "Epoch train loss 2.4975530385971068\n",
            "Epoch val_loss 2.343498945236206\n"
          ]
        },
        {
          "output_type": "stream",
          "name": "stderr",
          "text": [
            "\n",
            "train sample batches:   0%|          | 0/20 [00:00<?, ?it/s]\u001b[A\n",
            "train sample batches:   5%|▌         | 1/20 [00:00<00:03,  4.91it/s]\u001b[A\n",
            "train sample batches:  10%|█         | 2/20 [00:00<00:03,  5.15it/s]\u001b[A\n",
            "train sample batches:  15%|█▌        | 3/20 [00:00<00:03,  5.15it/s]\u001b[A\n",
            "train sample batches:  20%|██        | 4/20 [00:00<00:03,  5.14it/s]\u001b[A\n",
            "train sample batches:  25%|██▌       | 5/20 [00:00<00:02,  5.03it/s]\u001b[A\n",
            "train sample batches:  30%|███       | 6/20 [00:01<00:02,  5.03it/s]\u001b[A\n",
            "train sample batches:  35%|███▌      | 7/20 [00:01<00:02,  5.05it/s]\u001b[A\n",
            "train sample batches:  40%|████      | 8/20 [00:01<00:02,  5.00it/s]\u001b[A\n",
            "train sample batches:  45%|████▌     | 9/20 [00:01<00:02,  5.05it/s]\u001b[A\n",
            "train sample batches:  50%|█████     | 10/20 [00:01<00:02,  4.99it/s]\u001b[A\n",
            "train sample batches:  55%|█████▌    | 11/20 [00:02<00:01,  4.98it/s]\u001b[A\n",
            "train sample batches:  60%|██████    | 12/20 [00:02<00:01,  4.96it/s]\u001b[A\n",
            "train sample batches:  65%|██████▌   | 13/20 [00:02<00:01,  5.02it/s]\u001b[A\n",
            "train sample batches:  70%|███████   | 14/20 [00:02<00:01,  4.97it/s]\u001b[A\n",
            "train sample batches:  75%|███████▌  | 15/20 [00:02<00:00,  5.04it/s]\u001b[A\n",
            "train sample batches:  80%|████████  | 16/20 [00:03<00:00,  5.00it/s]\u001b[A\n",
            "train sample batches:  85%|████████▌ | 17/20 [00:03<00:00,  5.02it/s]\u001b[A\n",
            "train sample batches:  90%|█████████ | 18/20 [00:03<00:00,  5.07it/s]\u001b[A\n",
            "train sample batches:  95%|█████████▌| 19/20 [00:03<00:00,  5.10it/s]\u001b[A\n",
            "train sample batches: 100%|██████████| 20/20 [00:03<00:00,  5.03it/s]\n",
            "\n",
            "validation sample batches:   0%|          | 0/9 [00:00<?, ?it/s]\u001b[A\n",
            "validation sample batches:  22%|██▏       | 2/9 [00:00<00:00, 18.08it/s]\u001b[A\n",
            "validation sample batches:  44%|████▍     | 4/9 [00:00<00:00, 19.07it/s]\u001b[A\n",
            "validation sample batches: 100%|██████████| 9/9 [00:00<00:00, 20.29it/s]\n",
            "epochs:  88%|████████▊ | 88/100 [06:11<00:53,  4.47s/it]"
          ]
        },
        {
          "output_type": "stream",
          "name": "stdout",
          "text": [
            "Epoch train loss 2.518382358551025\n",
            "Epoch val_loss 2.4106903076171875\n"
          ]
        },
        {
          "output_type": "stream",
          "name": "stderr",
          "text": [
            "\n",
            "train sample batches:   0%|          | 0/20 [00:00<?, ?it/s]\u001b[A\n",
            "train sample batches:   5%|▌         | 1/20 [00:00<00:03,  5.27it/s]\u001b[A\n",
            "train sample batches:  10%|█         | 2/20 [00:00<00:03,  5.24it/s]\u001b[A\n",
            "train sample batches:  15%|█▌        | 3/20 [00:00<00:03,  5.28it/s]\u001b[A\n",
            "train sample batches:  20%|██        | 4/20 [00:00<00:03,  5.15it/s]\u001b[A\n",
            "train sample batches:  25%|██▌       | 5/20 [00:00<00:02,  5.20it/s]\u001b[A\n",
            "train sample batches:  30%|███       | 6/20 [00:01<00:02,  5.23it/s]\u001b[A\n",
            "train sample batches:  35%|███▌      | 7/20 [00:01<00:02,  5.22it/s]\u001b[A\n",
            "train sample batches:  40%|████      | 8/20 [00:01<00:02,  5.10it/s]\u001b[A\n",
            "train sample batches:  45%|████▌     | 9/20 [00:01<00:02,  4.99it/s]\u001b[A\n",
            "train sample batches:  50%|█████     | 10/20 [00:01<00:02,  4.97it/s]\u001b[A\n",
            "train sample batches:  55%|█████▌    | 11/20 [00:02<00:01,  4.97it/s]\u001b[A\n",
            "train sample batches:  60%|██████    | 12/20 [00:02<00:01,  4.95it/s]\u001b[A\n",
            "train sample batches:  65%|██████▌   | 13/20 [00:02<00:01,  4.97it/s]\u001b[A\n",
            "train sample batches:  70%|███████   | 14/20 [00:02<00:01,  4.90it/s]\u001b[A\n",
            "train sample batches:  75%|███████▌  | 15/20 [00:02<00:01,  4.97it/s]\u001b[A\n",
            "train sample batches:  80%|████████  | 16/20 [00:03<00:00,  4.98it/s]\u001b[A\n",
            "train sample batches:  85%|████████▌ | 17/20 [00:03<00:00,  4.99it/s]\u001b[A\n",
            "train sample batches:  90%|█████████ | 18/20 [00:03<00:00,  4.89it/s]\u001b[A\n",
            "train sample batches:  95%|█████████▌| 19/20 [00:03<00:00,  4.84it/s]\u001b[A\n",
            "train sample batches: 100%|██████████| 20/20 [00:04<00:00,  5.00it/s]\n",
            "\n",
            "validation sample batches:   0%|          | 0/9 [00:00<?, ?it/s]\u001b[A\n",
            "validation sample batches:  22%|██▏       | 2/9 [00:00<00:00, 17.22it/s]\u001b[A\n",
            "validation sample batches:  44%|████▍     | 4/9 [00:00<00:00, 17.76it/s]\u001b[A"
          ]
        },
        {
          "output_type": "stream",
          "name": "stdout",
          "text": [
            "Epoch 00793: reducing learning rate of group 0 to 2.4894e-05.\n"
          ]
        },
        {
          "output_type": "stream",
          "name": "stderr",
          "text": [
            "\n",
            "validation sample batches:  67%|██████▋   | 6/9 [00:00<00:00, 17.78it/s]\u001b[A\n",
            "validation sample batches: 100%|██████████| 9/9 [00:00<00:00, 17.84it/s]\n",
            "epochs:  89%|████████▉ | 89/100 [06:15<00:49,  4.50s/it]"
          ]
        },
        {
          "output_type": "stream",
          "name": "stdout",
          "text": [
            "Epoch train loss 2.509967625141144\n",
            "Epoch val_loss 2.5507068634033203\n"
          ]
        },
        {
          "output_type": "stream",
          "name": "stderr",
          "text": [
            "\n",
            "train sample batches:   0%|          | 0/20 [00:00<?, ?it/s]\u001b[A\n",
            "train sample batches:   5%|▌         | 1/20 [00:00<00:03,  4.94it/s]\u001b[A\n",
            "train sample batches:  10%|█         | 2/20 [00:00<00:03,  5.06it/s]\u001b[A\n",
            "train sample batches:  15%|█▌        | 3/20 [00:00<00:03,  5.04it/s]\u001b[A\n",
            "train sample batches:  20%|██        | 4/20 [00:00<00:03,  4.92it/s]\u001b[A\n",
            "train sample batches:  25%|██▌       | 5/20 [00:01<00:03,  4.87it/s]\u001b[A\n",
            "train sample batches:  30%|███       | 6/20 [00:01<00:03,  4.58it/s]\u001b[A\n",
            "train sample batches:  35%|███▌      | 7/20 [00:01<00:02,  4.59it/s]\u001b[A\n",
            "train sample batches:  40%|████      | 8/20 [00:01<00:02,  4.60it/s]\u001b[A\n",
            "train sample batches:  45%|████▌     | 9/20 [00:01<00:02,  4.63it/s]\u001b[A\n",
            "train sample batches:  50%|█████     | 10/20 [00:02<00:02,  4.64it/s]\u001b[A\n",
            "train sample batches:  55%|█████▌    | 11/20 [00:02<00:01,  4.65it/s]\u001b[A\n",
            "train sample batches:  60%|██████    | 12/20 [00:02<00:01,  4.70it/s]\u001b[A\n",
            "train sample batches:  65%|██████▌   | 13/20 [00:02<00:01,  4.74it/s]\u001b[A\n",
            "train sample batches:  70%|███████   | 14/20 [00:02<00:01,  4.81it/s]\u001b[A\n",
            "train sample batches:  75%|███████▌  | 15/20 [00:03<00:01,  4.88it/s]\u001b[A\n",
            "train sample batches:  80%|████████  | 16/20 [00:03<00:00,  4.92it/s]\u001b[A\n",
            "train sample batches:  85%|████████▌ | 17/20 [00:03<00:00,  4.97it/s]\u001b[A\n",
            "train sample batches:  90%|█████████ | 18/20 [00:03<00:00,  5.02it/s]\u001b[A\n",
            "train sample batches:  95%|█████████▌| 19/20 [00:03<00:00,  5.01it/s]\u001b[A\n",
            "train sample batches: 100%|██████████| 20/20 [00:04<00:00,  4.84it/s]\n",
            "\n",
            "validation sample batches:   0%|          | 0/9 [00:00<?, ?it/s]\u001b[A\n",
            "validation sample batches:  22%|██▏       | 2/9 [00:00<00:00, 18.95it/s]\u001b[A\n",
            "validation sample batches:  44%|████▍     | 4/9 [00:00<00:00, 19.40it/s]\u001b[A\n",
            "validation sample batches:  67%|██████▋   | 6/9 [00:00<00:00, 18.78it/s]\u001b[A"
          ]
        },
        {
          "output_type": "stream",
          "name": "stdout",
          "text": [
            "Epoch 00804: reducing learning rate of group 0 to 2.3650e-05.\n"
          ]
        },
        {
          "output_type": "stream",
          "name": "stderr",
          "text": [
            "\n",
            "validation sample batches: 100%|██████████| 9/9 [00:00<00:00, 18.43it/s]\n",
            "epochs:  90%|█████████ | 90/100 [06:20<00:45,  4.55s/it]"
          ]
        },
        {
          "output_type": "stream",
          "name": "stdout",
          "text": [
            "Epoch train loss 2.5168174386024473\n",
            "Epoch val_loss 2.3212392330169678\n"
          ]
        },
        {
          "output_type": "stream",
          "name": "stderr",
          "text": [
            "\n",
            "train sample batches:   0%|          | 0/20 [00:00<?, ?it/s]\u001b[A\n",
            "train sample batches:   5%|▌         | 1/20 [00:00<00:03,  4.93it/s]\u001b[A\n",
            "train sample batches:  10%|█         | 2/20 [00:00<00:03,  5.00it/s]\u001b[A\n",
            "train sample batches:  15%|█▌        | 3/20 [00:00<00:03,  5.17it/s]\u001b[A\n",
            "train sample batches:  20%|██        | 4/20 [00:00<00:03,  5.03it/s]\u001b[A\n",
            "train sample batches:  25%|██▌       | 5/20 [00:00<00:02,  5.07it/s]\u001b[A\n",
            "train sample batches:  30%|███       | 6/20 [00:01<00:02,  5.10it/s]\u001b[A\n",
            "train sample batches:  35%|███▌      | 7/20 [00:01<00:02,  5.13it/s]\u001b[A\n",
            "train sample batches:  40%|████      | 8/20 [00:01<00:02,  5.09it/s]\u001b[A\n",
            "train sample batches:  45%|████▌     | 9/20 [00:01<00:02,  5.07it/s]\u001b[A\n",
            "train sample batches:  50%|█████     | 10/20 [00:01<00:01,  5.05it/s]\u001b[A\n",
            "train sample batches:  55%|█████▌    | 11/20 [00:02<00:01,  5.01it/s]\u001b[A\n",
            "train sample batches:  60%|██████    | 12/20 [00:02<00:01,  5.01it/s]\u001b[A\n",
            "train sample batches:  65%|██████▌   | 13/20 [00:02<00:01,  4.99it/s]\u001b[A\n",
            "train sample batches:  70%|███████   | 14/20 [00:02<00:01,  4.89it/s]\u001b[A\n",
            "train sample batches:  75%|███████▌  | 15/20 [00:02<00:01,  4.90it/s]\u001b[A\n",
            "train sample batches:  80%|████████  | 16/20 [00:03<00:00,  4.97it/s]\u001b[A\n",
            "train sample batches:  85%|████████▌ | 17/20 [00:03<00:00,  4.94it/s]\u001b[A\n",
            "train sample batches:  90%|█████████ | 18/20 [00:03<00:00,  4.80it/s]\u001b[A\n",
            "train sample batches:  95%|█████████▌| 19/20 [00:03<00:00,  4.71it/s]\u001b[A\n",
            "train sample batches: 100%|██████████| 20/20 [00:04<00:00,  4.94it/s]\n",
            "\n",
            "validation sample batches:   0%|          | 0/9 [00:00<?, ?it/s]\u001b[A\n",
            "validation sample batches:  33%|███▎      | 3/9 [00:00<00:00, 22.95it/s]\u001b[A\n",
            "validation sample batches:  67%|██████▋   | 6/9 [00:00<00:00, 19.62it/s]\u001b[A\n",
            "validation sample batches:  89%|████████▉ | 8/9 [00:00<00:00, 18.85it/s]\u001b[A"
          ]
        },
        {
          "output_type": "stream",
          "name": "stdout",
          "text": [
            "Epoch 00815: reducing learning rate of group 0 to 2.2467e-05.\n"
          ]
        },
        {
          "output_type": "stream",
          "name": "stderr",
          "text": [
            "validation sample batches: 100%|██████████| 9/9 [00:00<00:00, 19.30it/s]\n",
            "epochs:  91%|█████████ | 91/100 [06:25<00:40,  4.55s/it]"
          ]
        },
        {
          "output_type": "stream",
          "name": "stdout",
          "text": [
            "Epoch train loss 2.5038936018943785\n",
            "Epoch val_loss 2.701245069503784\n"
          ]
        },
        {
          "output_type": "stream",
          "name": "stderr",
          "text": [
            "\n",
            "train sample batches:   0%|          | 0/20 [00:00<?, ?it/s]\u001b[A\n",
            "train sample batches:   5%|▌         | 1/20 [00:00<00:04,  4.67it/s]\u001b[A\n",
            "train sample batches:  10%|█         | 2/20 [00:00<00:03,  4.85it/s]\u001b[A\n",
            "train sample batches:  15%|█▌        | 3/20 [00:00<00:03,  4.85it/s]\u001b[A\n",
            "train sample batches:  20%|██        | 4/20 [00:00<00:03,  4.74it/s]\u001b[A\n",
            "train sample batches:  25%|██▌       | 5/20 [00:01<00:03,  4.78it/s]\u001b[A\n",
            "train sample batches:  30%|███       | 6/20 [00:01<00:02,  4.85it/s]\u001b[A\n",
            "train sample batches:  35%|███▌      | 7/20 [00:01<00:02,  4.87it/s]\u001b[A\n",
            "train sample batches:  40%|████      | 8/20 [00:01<00:02,  4.90it/s]\u001b[A\n",
            "train sample batches:  45%|████▌     | 9/20 [00:01<00:02,  4.92it/s]\u001b[A\n",
            "train sample batches:  50%|█████     | 10/20 [00:02<00:02,  4.96it/s]\u001b[A\n",
            "train sample batches:  55%|█████▌    | 11/20 [00:02<00:01,  4.76it/s]\u001b[A\n",
            "train sample batches:  60%|██████    | 12/20 [00:02<00:01,  4.77it/s]\u001b[A\n",
            "train sample batches:  65%|██████▌   | 13/20 [00:02<00:01,  4.75it/s]\u001b[A\n",
            "train sample batches:  70%|███████   | 14/20 [00:02<00:01,  4.74it/s]\u001b[A\n",
            "train sample batches:  75%|███████▌  | 15/20 [00:03<00:01,  4.77it/s]\u001b[A\n",
            "train sample batches:  80%|████████  | 16/20 [00:03<00:00,  4.71it/s]\u001b[A\n",
            "train sample batches:  85%|████████▌ | 17/20 [00:03<00:00,  4.85it/s]\u001b[A\n",
            "train sample batches:  90%|█████████ | 18/20 [00:03<00:00,  4.89it/s]\u001b[A\n",
            "train sample batches:  95%|█████████▌| 19/20 [00:03<00:00,  4.85it/s]\u001b[A\n",
            "train sample batches: 100%|██████████| 20/20 [00:04<00:00,  4.83it/s]\n",
            "\n",
            "validation sample batches:   0%|          | 0/9 [00:00<?, ?it/s]\u001b[A\n",
            "validation sample batches:  33%|███▎      | 3/9 [00:00<00:00, 20.82it/s]\u001b[A\n",
            "validation sample batches:  67%|██████▋   | 6/9 [00:00<00:00, 19.46it/s]\u001b[A\n",
            "validation sample batches: 100%|██████████| 9/9 [00:00<00:00, 19.27it/s]\n",
            "epochs:  92%|█████████▏| 92/100 [06:29<00:36,  4.59s/it]"
          ]
        },
        {
          "output_type": "stream",
          "name": "stdout",
          "text": [
            "Epoch 00826: reducing learning rate of group 0 to 2.1344e-05.\n",
            "Epoch train loss 2.503690314292908\n",
            "Epoch val_loss 2.4858553409576416\n"
          ]
        },
        {
          "output_type": "stream",
          "name": "stderr",
          "text": [
            "\n",
            "train sample batches:   0%|          | 0/20 [00:00<?, ?it/s]\u001b[A\n",
            "train sample batches:   5%|▌         | 1/20 [00:00<00:03,  4.88it/s]\u001b[A\n",
            "train sample batches:  10%|█         | 2/20 [00:00<00:03,  4.87it/s]\u001b[A\n",
            "train sample batches:  15%|█▌        | 3/20 [00:00<00:03,  4.95it/s]\u001b[A\n",
            "train sample batches:  20%|██        | 4/20 [00:00<00:03,  4.87it/s]\u001b[A\n",
            "train sample batches:  25%|██▌       | 5/20 [00:01<00:03,  4.85it/s]\u001b[A\n",
            "train sample batches:  30%|███       | 6/20 [00:01<00:02,  4.91it/s]\u001b[A\n",
            "train sample batches:  35%|███▌      | 7/20 [00:01<00:02,  4.99it/s]\u001b[A\n",
            "train sample batches:  40%|████      | 8/20 [00:01<00:02,  4.97it/s]\u001b[A\n",
            "train sample batches:  45%|████▌     | 9/20 [00:01<00:02,  4.90it/s]\u001b[A\n",
            "train sample batches:  50%|█████     | 10/20 [00:02<00:02,  4.97it/s]\u001b[A\n",
            "train sample batches:  55%|█████▌    | 11/20 [00:02<00:01,  4.99it/s]\u001b[A\n",
            "train sample batches:  60%|██████    | 12/20 [00:02<00:01,  5.00it/s]\u001b[A\n",
            "train sample batches:  65%|██████▌   | 13/20 [00:02<00:01,  5.05it/s]\u001b[A\n",
            "train sample batches:  70%|███████   | 14/20 [00:02<00:01,  4.99it/s]\u001b[A\n",
            "train sample batches:  75%|███████▌  | 15/20 [00:03<00:01,  4.98it/s]\u001b[A\n",
            "train sample batches:  80%|████████  | 16/20 [00:03<00:00,  5.00it/s]\u001b[A\n",
            "train sample batches:  85%|████████▌ | 17/20 [00:03<00:00,  5.05it/s]\u001b[A\n",
            "train sample batches:  90%|█████████ | 18/20 [00:03<00:00,  5.08it/s]\u001b[A\n",
            "train sample batches:  95%|█████████▌| 19/20 [00:03<00:00,  4.96it/s]\u001b[A\n",
            "train sample batches: 100%|██████████| 20/20 [00:04<00:00,  4.96it/s]\n",
            "\n",
            "validation sample batches:   0%|          | 0/9 [00:00<?, ?it/s]\u001b[A\n",
            "validation sample batches:  33%|███▎      | 3/9 [00:00<00:00, 21.91it/s]\u001b[A\n",
            "validation sample batches:  67%|██████▋   | 6/9 [00:00<00:00, 20.35it/s]\u001b[A\n",
            "validation sample batches: 100%|██████████| 9/9 [00:00<00:00, 19.98it/s]\n",
            "epochs:  93%|█████████▎| 93/100 [06:34<00:32,  4.58s/it]"
          ]
        },
        {
          "output_type": "stream",
          "name": "stdout",
          "text": [
            "Epoch 00837: reducing learning rate of group 0 to 2.0277e-05.\n",
            "Epoch train loss 2.4903087615966797\n",
            "Epoch val_loss 2.5672311782836914\n"
          ]
        },
        {
          "output_type": "stream",
          "name": "stderr",
          "text": [
            "\n",
            "train sample batches:   0%|          | 0/20 [00:00<?, ?it/s]\u001b[A\n",
            "train sample batches:   5%|▌         | 1/20 [00:00<00:04,  4.74it/s]\u001b[A\n",
            "train sample batches:  10%|█         | 2/20 [00:00<00:03,  4.72it/s]\u001b[A\n",
            "train sample batches:  15%|█▌        | 3/20 [00:00<00:03,  4.82it/s]\u001b[A\n",
            "train sample batches:  20%|██        | 4/20 [00:00<00:03,  4.86it/s]\u001b[A\n",
            "train sample batches:  25%|██▌       | 5/20 [00:01<00:03,  4.87it/s]\u001b[A\n",
            "train sample batches:  30%|███       | 6/20 [00:01<00:02,  4.83it/s]\u001b[A\n",
            "train sample batches:  35%|███▌      | 7/20 [00:01<00:02,  4.75it/s]\u001b[A\n",
            "train sample batches:  40%|████      | 8/20 [00:01<00:02,  4.75it/s]\u001b[A\n",
            "train sample batches:  45%|████▌     | 9/20 [00:01<00:02,  4.79it/s]\u001b[A\n",
            "train sample batches:  50%|█████     | 10/20 [00:02<00:02,  4.79it/s]\u001b[A\n",
            "train sample batches:  55%|█████▌    | 11/20 [00:02<00:01,  4.71it/s]\u001b[A\n",
            "train sample batches:  60%|██████    | 12/20 [00:02<00:01,  4.69it/s]\u001b[A\n",
            "train sample batches:  65%|██████▌   | 13/20 [00:02<00:01,  4.74it/s]\u001b[A\n",
            "train sample batches:  70%|███████   | 14/20 [00:02<00:01,  4.81it/s]\u001b[A\n",
            "train sample batches:  75%|███████▌  | 15/20 [00:03<00:01,  4.74it/s]\u001b[A\n",
            "train sample batches:  80%|████████  | 16/20 [00:03<00:00,  4.64it/s]\u001b[A\n",
            "train sample batches:  85%|████████▌ | 17/20 [00:03<00:00,  4.70it/s]\u001b[A\n",
            "train sample batches:  90%|█████████ | 18/20 [00:03<00:00,  4.75it/s]\u001b[A\n",
            "train sample batches:  95%|█████████▌| 19/20 [00:03<00:00,  4.76it/s]\u001b[A\n",
            "train sample batches: 100%|██████████| 20/20 [00:04<00:00,  4.76it/s]\n",
            "\n",
            "validation sample batches:   0%|          | 0/9 [00:00<?, ?it/s]\u001b[A\n",
            "validation sample batches:  22%|██▏       | 2/9 [00:00<00:00, 17.03it/s]\u001b[A\n",
            "validation sample batches:  44%|████▍     | 4/9 [00:00<00:00, 18.49it/s]\u001b[A\n",
            "validation sample batches:  67%|██████▋   | 6/9 [00:00<00:00, 17.90it/s]\u001b[A\n",
            "validation sample batches: 100%|██████████| 9/9 [00:00<00:00, 17.93it/s]\n",
            "epochs:  94%|█████████▍| 94/100 [06:38<00:27,  4.63s/it]"
          ]
        },
        {
          "output_type": "stream",
          "name": "stdout",
          "text": [
            "Epoch train loss 2.5216463923454286\n",
            "Epoch val_loss 2.3047845363616943\n"
          ]
        },
        {
          "output_type": "stream",
          "name": "stderr",
          "text": [
            "\n",
            "train sample batches:   0%|          | 0/20 [00:00<?, ?it/s]\u001b[A\n",
            "train sample batches:   5%|▌         | 1/20 [00:00<00:03,  5.03it/s]\u001b[A\n",
            "train sample batches:  10%|█         | 2/20 [00:00<00:03,  4.72it/s]\u001b[A\n",
            "train sample batches:  15%|█▌        | 3/20 [00:00<00:03,  4.66it/s]\u001b[A\n",
            "train sample batches:  20%|██        | 4/20 [00:00<00:03,  4.81it/s]\u001b[A\n",
            "train sample batches:  25%|██▌       | 5/20 [00:01<00:03,  4.90it/s]\u001b[A\n",
            "train sample batches:  30%|███       | 6/20 [00:01<00:02,  4.97it/s]\u001b[A\n",
            "train sample batches:  35%|███▌      | 7/20 [00:01<00:02,  4.96it/s]\u001b[A\n",
            "train sample batches:  40%|████      | 8/20 [00:01<00:02,  4.96it/s]\u001b[A\n",
            "train sample batches:  45%|████▌     | 9/20 [00:01<00:02,  4.81it/s]\u001b[A\n",
            "train sample batches:  50%|█████     | 10/20 [00:02<00:02,  4.82it/s]\u001b[A\n",
            "train sample batches:  55%|█████▌    | 11/20 [00:02<00:01,  4.92it/s]\u001b[A\n",
            "train sample batches:  60%|██████    | 12/20 [00:02<00:01,  4.92it/s]\u001b[A\n",
            "train sample batches:  65%|██████▌   | 13/20 [00:02<00:01,  4.95it/s]\u001b[A\n",
            "train sample batches:  70%|███████   | 14/20 [00:02<00:01,  4.88it/s]\u001b[A\n",
            "train sample batches:  75%|███████▌  | 15/20 [00:03<00:01,  4.83it/s]\u001b[A\n",
            "train sample batches:  80%|████████  | 16/20 [00:03<00:00,  4.91it/s]\u001b[A\n",
            "train sample batches:  85%|████████▌ | 17/20 [00:03<00:00,  4.90it/s]\u001b[A\n",
            "train sample batches:  90%|█████████ | 18/20 [00:03<00:00,  4.83it/s]\u001b[A\n",
            "train sample batches:  95%|█████████▌| 19/20 [00:03<00:00,  4.81it/s]\u001b[A\n",
            "train sample batches: 100%|██████████| 20/20 [00:04<00:00,  4.87it/s]\n",
            "\n",
            "validation sample batches:   0%|          | 0/9 [00:00<?, ?it/s]\u001b[A\n",
            "validation sample batches:  33%|███▎      | 3/9 [00:00<00:00, 21.08it/s]\u001b[A\n",
            "validation sample batches:  67%|██████▋   | 6/9 [00:00<00:00, 20.61it/s]\u001b[A"
          ]
        },
        {
          "output_type": "stream",
          "name": "stdout",
          "text": [
            "Epoch 00848: reducing learning rate of group 0 to 2.0000e-05.\n"
          ]
        },
        {
          "output_type": "stream",
          "name": "stderr",
          "text": [
            "\n",
            "validation sample batches: 100%|██████████| 9/9 [00:00<00:00, 20.45it/s]\n",
            "epochs:  95%|█████████▌| 95/100 [06:43<00:23,  4.62s/it]"
          ]
        },
        {
          "output_type": "stream",
          "name": "stdout",
          "text": [
            "Epoch train loss 2.4918086767196654\n",
            "Epoch val_loss 2.5774614810943604\n"
          ]
        },
        {
          "output_type": "stream",
          "name": "stderr",
          "text": [
            "\n",
            "train sample batches:   0%|          | 0/20 [00:00<?, ?it/s]\u001b[A\n",
            "train sample batches:   5%|▌         | 1/20 [00:00<00:04,  4.68it/s]\u001b[A\n",
            "train sample batches:  10%|█         | 2/20 [00:00<00:03,  4.76it/s]\u001b[A\n",
            "train sample batches:  15%|█▌        | 3/20 [00:00<00:03,  4.87it/s]\u001b[A\n",
            "train sample batches:  20%|██        | 4/20 [00:00<00:03,  4.87it/s]\u001b[A\n",
            "train sample batches:  25%|██▌       | 5/20 [00:01<00:03,  4.84it/s]\u001b[A\n",
            "train sample batches:  30%|███       | 6/20 [00:01<00:02,  4.80it/s]\u001b[A\n",
            "train sample batches:  35%|███▌      | 7/20 [00:01<00:02,  4.81it/s]\u001b[A\n",
            "train sample batches:  40%|████      | 8/20 [00:01<00:02,  4.88it/s]\u001b[A\n",
            "train sample batches:  45%|████▌     | 9/20 [00:01<00:02,  4.87it/s]\u001b[A\n",
            "train sample batches:  50%|█████     | 10/20 [00:02<00:02,  4.74it/s]\u001b[A\n",
            "train sample batches:  55%|█████▌    | 11/20 [00:02<00:01,  4.76it/s]\u001b[A\n",
            "train sample batches:  60%|██████    | 12/20 [00:02<00:01,  4.77it/s]\u001b[A\n",
            "train sample batches:  65%|██████▌   | 13/20 [00:02<00:01,  4.79it/s]\u001b[A\n",
            "train sample batches:  70%|███████   | 14/20 [00:02<00:01,  4.77it/s]\u001b[A\n",
            "train sample batches:  75%|███████▌  | 15/20 [00:03<00:01,  4.73it/s]\u001b[A\n",
            "train sample batches:  80%|████████  | 16/20 [00:03<00:00,  4.77it/s]\u001b[A\n",
            "train sample batches:  85%|████████▌ | 17/20 [00:03<00:00,  4.78it/s]\u001b[A\n",
            "train sample batches:  90%|█████████ | 18/20 [00:03<00:00,  4.84it/s]\u001b[A\n",
            "train sample batches:  95%|█████████▌| 19/20 [00:03<00:00,  4.85it/s]\u001b[A\n",
            "train sample batches: 100%|██████████| 20/20 [00:04<00:00,  4.81it/s]\n",
            "\n",
            "validation sample batches:   0%|          | 0/9 [00:00<?, ?it/s]\u001b[A\n",
            "validation sample batches:  22%|██▏       | 2/9 [00:00<00:00, 15.29it/s]\u001b[A\n",
            "validation sample batches:  56%|█████▌    | 5/9 [00:00<00:00, 18.77it/s]\u001b[A\n",
            "validation sample batches: 100%|██████████| 9/9 [00:00<00:00, 19.36it/s]\n",
            "epochs:  96%|█████████▌| 96/100 [06:48<00:18,  4.64s/it]"
          ]
        },
        {
          "output_type": "stream",
          "name": "stdout",
          "text": [
            "Epoch train loss 2.5079629898071287\n",
            "Epoch val_loss 2.4038920402526855\n"
          ]
        },
        {
          "output_type": "stream",
          "name": "stderr",
          "text": [
            "\n",
            "train sample batches:   0%|          | 0/20 [00:00<?, ?it/s]\u001b[A\n",
            "train sample batches:   5%|▌         | 1/20 [00:00<00:04,  4.71it/s]\u001b[A\n",
            "train sample batches:  10%|█         | 2/20 [00:00<00:03,  4.71it/s]\u001b[A\n",
            "train sample batches:  15%|█▌        | 3/20 [00:00<00:03,  4.64it/s]\u001b[A\n",
            "train sample batches:  20%|██        | 4/20 [00:00<00:03,  4.82it/s]\u001b[A\n",
            "train sample batches:  25%|██▌       | 5/20 [00:01<00:03,  4.82it/s]\u001b[A\n",
            "train sample batches:  30%|███       | 6/20 [00:01<00:02,  4.87it/s]\u001b[A\n",
            "train sample batches:  35%|███▌      | 7/20 [00:01<00:02,  4.92it/s]\u001b[A\n",
            "train sample batches:  40%|████      | 8/20 [00:01<00:02,  4.85it/s]\u001b[A\n",
            "train sample batches:  45%|████▌     | 9/20 [00:01<00:02,  4.87it/s]\u001b[A\n",
            "train sample batches:  50%|█████     | 10/20 [00:02<00:02,  4.92it/s]\u001b[A\n",
            "train sample batches:  55%|█████▌    | 11/20 [00:02<00:01,  4.90it/s]\u001b[A\n",
            "train sample batches:  60%|██████    | 12/20 [00:02<00:01,  4.94it/s]\u001b[A\n",
            "train sample batches:  65%|██████▌   | 13/20 [00:02<00:01,  4.92it/s]\u001b[A\n",
            "train sample batches:  70%|███████   | 14/20 [00:02<00:01,  5.02it/s]\u001b[A\n",
            "train sample batches:  75%|███████▌  | 15/20 [00:03<00:00,  5.05it/s]\u001b[A\n",
            "train sample batches:  80%|████████  | 16/20 [00:03<00:00,  5.08it/s]\u001b[A\n",
            "train sample batches:  85%|████████▌ | 17/20 [00:03<00:00,  5.10it/s]\u001b[A\n",
            "train sample batches:  90%|█████████ | 18/20 [00:03<00:00,  5.08it/s]\u001b[A\n",
            "train sample batches:  95%|█████████▌| 19/20 [00:03<00:00,  4.97it/s]\u001b[A\n",
            "train sample batches: 100%|██████████| 20/20 [00:04<00:00,  4.93it/s]\n",
            "\n",
            "validation sample batches:   0%|          | 0/9 [00:00<?, ?it/s]\u001b[A\n",
            "validation sample batches:  22%|██▏       | 2/9 [00:00<00:00, 19.98it/s]\u001b[A\n",
            "validation sample batches:  56%|█████▌    | 5/9 [00:00<00:00, 22.52it/s]\u001b[A\n",
            "validation sample batches: 100%|██████████| 9/9 [00:00<00:00, 20.48it/s]\n",
            "epochs:  97%|█████████▋| 97/100 [06:52<00:13,  4.62s/it]"
          ]
        },
        {
          "output_type": "stream",
          "name": "stdout",
          "text": [
            "Epoch train loss 2.5076592206954955\n",
            "Epoch val_loss 2.6170294284820557\n"
          ]
        },
        {
          "output_type": "stream",
          "name": "stderr",
          "text": [
            "\n",
            "train sample batches:   0%|          | 0/20 [00:00<?, ?it/s]\u001b[A\n",
            "train sample batches:   5%|▌         | 1/20 [00:00<00:04,  4.68it/s]\u001b[A\n",
            "train sample batches:  10%|█         | 2/20 [00:00<00:03,  4.88it/s]\u001b[A\n",
            "train sample batches:  15%|█▌        | 3/20 [00:00<00:03,  5.05it/s]\u001b[A\n",
            "train sample batches:  20%|██        | 4/20 [00:00<00:03,  5.00it/s]\u001b[A\n",
            "train sample batches:  25%|██▌       | 5/20 [00:01<00:02,  5.04it/s]\u001b[A\n",
            "train sample batches:  30%|███       | 6/20 [00:01<00:02,  4.97it/s]\u001b[A\n",
            "train sample batches:  35%|███▌      | 7/20 [00:01<00:02,  4.93it/s]\u001b[A\n",
            "train sample batches:  40%|████      | 8/20 [00:01<00:02,  4.95it/s]\u001b[A\n",
            "train sample batches:  45%|████▌     | 9/20 [00:01<00:02,  5.00it/s]\u001b[A\n",
            "train sample batches:  50%|█████     | 10/20 [00:02<00:02,  4.98it/s]\u001b[A\n",
            "train sample batches:  55%|█████▌    | 11/20 [00:02<00:01,  5.04it/s]\u001b[A\n",
            "train sample batches:  60%|██████    | 12/20 [00:02<00:01,  5.06it/s]\u001b[A\n",
            "train sample batches:  65%|██████▌   | 13/20 [00:02<00:01,  5.14it/s]\u001b[A\n",
            "train sample batches:  70%|███████   | 14/20 [00:02<00:01,  5.13it/s]\u001b[A\n",
            "train sample batches:  75%|███████▌  | 15/20 [00:02<00:00,  5.02it/s]\u001b[A\n",
            "train sample batches:  80%|████████  | 16/20 [00:03<00:00,  5.00it/s]\u001b[A\n",
            "train sample batches:  85%|████████▌ | 17/20 [00:03<00:00,  5.02it/s]\u001b[A\n",
            "train sample batches:  90%|█████████ | 18/20 [00:03<00:00,  4.98it/s]\u001b[A\n",
            "train sample batches:  95%|█████████▌| 19/20 [00:03<00:00,  4.98it/s]\u001b[A\n",
            "train sample batches: 100%|██████████| 20/20 [00:04<00:00,  5.00it/s]\n",
            "\n",
            "validation sample batches:   0%|          | 0/9 [00:00<?, ?it/s]\u001b[A\n",
            "validation sample batches:  22%|██▏       | 2/9 [00:00<00:00, 18.63it/s]\u001b[A\n",
            "validation sample batches:  56%|█████▌    | 5/9 [00:00<00:00, 20.98it/s]\u001b[A\n",
            "validation sample batches: 100%|██████████| 9/9 [00:00<00:00, 19.44it/s]\n",
            "epochs:  98%|█████████▊| 98/100 [06:57<00:09,  4.58s/it]"
          ]
        },
        {
          "output_type": "stream",
          "name": "stdout",
          "text": [
            "Epoch train loss 2.488806903362274\n",
            "Epoch val_loss 2.577265977859497\n"
          ]
        },
        {
          "output_type": "stream",
          "name": "stderr",
          "text": [
            "\n",
            "train sample batches:   0%|          | 0/20 [00:00<?, ?it/s]\u001b[A\n",
            "train sample batches:   5%|▌         | 1/20 [00:00<00:03,  5.12it/s]\u001b[A\n",
            "train sample batches:  10%|█         | 2/20 [00:00<00:03,  4.86it/s]\u001b[A\n",
            "train sample batches:  15%|█▌        | 3/20 [00:00<00:03,  4.92it/s]\u001b[A\n",
            "train sample batches:  20%|██        | 4/20 [00:00<00:03,  4.74it/s]\u001b[A\n",
            "train sample batches:  25%|██▌       | 5/20 [00:01<00:03,  4.80it/s]\u001b[A\n",
            "train sample batches:  30%|███       | 6/20 [00:01<00:02,  4.90it/s]\u001b[A\n",
            "train sample batches:  35%|███▌      | 7/20 [00:01<00:02,  4.88it/s]\u001b[A\n",
            "train sample batches:  40%|████      | 8/20 [00:01<00:02,  4.90it/s]\u001b[A\n",
            "train sample batches:  45%|████▌     | 9/20 [00:01<00:02,  5.01it/s]\u001b[A\n",
            "train sample batches:  50%|█████     | 10/20 [00:02<00:01,  5.01it/s]\u001b[A\n",
            "train sample batches:  55%|█████▌    | 11/20 [00:02<00:01,  5.10it/s]\u001b[A\n",
            "train sample batches:  60%|██████    | 12/20 [00:02<00:01,  5.14it/s]\u001b[A\n",
            "train sample batches:  65%|██████▌   | 13/20 [00:02<00:01,  5.12it/s]\u001b[A\n",
            "train sample batches:  70%|███████   | 14/20 [00:02<00:01,  5.10it/s]\u001b[A\n",
            "train sample batches:  75%|███████▌  | 15/20 [00:03<00:00,  5.06it/s]\u001b[A\n",
            "train sample batches:  80%|████████  | 16/20 [00:03<00:00,  5.10it/s]\u001b[A\n",
            "train sample batches:  85%|████████▌ | 17/20 [00:03<00:00,  5.02it/s]\u001b[A\n",
            "train sample batches:  90%|█████████ | 18/20 [00:03<00:00,  5.04it/s]\u001b[A\n",
            "train sample batches:  95%|█████████▌| 19/20 [00:03<00:00,  5.05it/s]\u001b[A\n",
            "train sample batches: 100%|██████████| 20/20 [00:03<00:00,  5.00it/s]\n",
            "\n",
            "validation sample batches:   0%|          | 0/9 [00:00<?, ?it/s]\u001b[A\n",
            "validation sample batches:  22%|██▏       | 2/9 [00:00<00:00, 18.71it/s]\u001b[A\n",
            "validation sample batches:  44%|████▍     | 4/9 [00:00<00:00, 19.08it/s]\u001b[A\n",
            "validation sample batches:  67%|██████▋   | 6/9 [00:00<00:00, 18.73it/s]\u001b[A\n",
            "validation sample batches: 100%|██████████| 9/9 [00:00<00:00, 18.81it/s]\n",
            "epochs:  99%|█████████▉| 99/100 [07:01<00:04,  4.57s/it]"
          ]
        },
        {
          "output_type": "stream",
          "name": "stdout",
          "text": [
            "Epoch train loss 2.4970734834671022\n",
            "Epoch val_loss 2.629248857498169\n"
          ]
        },
        {
          "output_type": "stream",
          "name": "stderr",
          "text": [
            "\n",
            "train sample batches:   0%|          | 0/20 [00:00<?, ?it/s]\u001b[A\n",
            "train sample batches:   5%|▌         | 1/20 [00:00<00:03,  5.16it/s]\u001b[A\n",
            "train sample batches:  10%|█         | 2/20 [00:00<00:03,  5.17it/s]\u001b[A\n",
            "train sample batches:  15%|█▌        | 3/20 [00:00<00:03,  5.06it/s]\u001b[A\n",
            "train sample batches:  20%|██        | 4/20 [00:00<00:03,  5.09it/s]\u001b[A\n",
            "train sample batches:  25%|██▌       | 5/20 [00:00<00:02,  5.09it/s]\u001b[A\n",
            "train sample batches:  30%|███       | 6/20 [00:01<00:02,  5.00it/s]\u001b[A\n",
            "train sample batches:  35%|███▌      | 7/20 [00:01<00:02,  5.03it/s]\u001b[A\n",
            "train sample batches:  40%|████      | 8/20 [00:01<00:02,  4.95it/s]\u001b[A\n",
            "train sample batches:  45%|████▌     | 9/20 [00:01<00:02,  4.87it/s]\u001b[A\n",
            "train sample batches:  50%|█████     | 10/20 [00:02<00:02,  4.88it/s]\u001b[A\n",
            "train sample batches:  55%|█████▌    | 11/20 [00:02<00:01,  4.87it/s]\u001b[A\n",
            "train sample batches:  60%|██████    | 12/20 [00:02<00:01,  4.94it/s]\u001b[A\n",
            "train sample batches:  65%|██████▌   | 13/20 [00:02<00:01,  4.95it/s]\u001b[A\n",
            "train sample batches:  70%|███████   | 14/20 [00:02<00:01,  4.96it/s]\u001b[A\n",
            "train sample batches:  75%|███████▌  | 15/20 [00:03<00:01,  4.99it/s]\u001b[A\n",
            "train sample batches:  80%|████████  | 16/20 [00:03<00:00,  5.06it/s]\u001b[A\n",
            "train sample batches:  85%|████████▌ | 17/20 [00:03<00:00,  5.02it/s]\u001b[A\n",
            "train sample batches:  90%|█████████ | 18/20 [00:03<00:00,  5.03it/s]\u001b[A\n",
            "train sample batches:  95%|█████████▌| 19/20 [00:03<00:00,  5.03it/s]\u001b[A\n",
            "train sample batches: 100%|██████████| 20/20 [00:04<00:00,  4.99it/s]\n",
            "\n",
            "validation sample batches:   0%|          | 0/9 [00:00<?, ?it/s]\u001b[A\n",
            "validation sample batches:  33%|███▎      | 3/9 [00:00<00:00, 22.83it/s]\u001b[A\n",
            "validation sample batches:  67%|██████▋   | 6/9 [00:00<00:00, 21.24it/s]\u001b[A\n",
            "validation sample batches: 100%|██████████| 9/9 [00:00<00:00, 21.61it/s]\n",
            "epochs: 100%|██████████| 100/100 [07:06<00:00,  4.26s/it]\n"
          ]
        },
        {
          "output_type": "stream",
          "name": "stdout",
          "text": [
            "Epoch train loss 2.4828266978263853\n",
            "Epoch val_loss 2.701979637145996\n"
          ]
        },
        {
          "output_type": "display_data",
          "data": {
            "text/plain": [
              "<Figure size 720x360 with 1 Axes>"
            ],
            "image/png": "[encoded data removed]"
          },
          "metadata": {}
        }
      ]
    },
    {
      "cell_type": "markdown",
      "source": [
        "Results is worser then with out embeddings. Let's change loss function."
      ],
      "metadata": {
        "id": "62zJFfALeKLM"
      }
    },
    {
      "cell_type": "code",
      "source": [
        "model_1=torch.load('/content/best_model.pt')"
      ],
      "metadata": {
        "id": "mRfYhP4uk-pS"
      },
      "execution_count": 46,
      "outputs": []
    },
    {
      "cell_type": "code",
      "source": [
        "evaluateRandomly(model, train_pairs, train_input_lang, train_output_lang, n=10)"
      ],
      "metadata": {
        "colab": {
          "base_uri": "https://localhost:8080/"
        },
        "id": "Z7Tq0bS9Zx3N",
        "outputId": "2c2dffe9-df8f-4dcf-9e9e-682597c70b16"
      },
      "execution_count": 48,
      "outputs": [
        {
          "output_type": "stream",
          "name": "stdout",
          "text": [
            "> мyжь книжьнъ  а пьянчивъ не можеть направитисѧ на истиннy спасениа \n",
            "= человек ученыи  но пьяница  не может направить себя на путь спасения \n",
            "< человек ученыи                  \n",
            "\n",
            "Blue score of this sentence  -  0\n",
            "\n",
            "======================================\n",
            "> аще то сѧ обое мьнитъ въ человѣцѣ  то яко очи обѣ въ тѣлѣ свершено имyще глядѧть \n",
            "= если же и то и другое есть в человеке  то это словно два глаза в теле  глядящие зорко \n",
            "< то и и же и же и и и и  и и и и и и и  и\n",
            "\n",
            "Blue score of this sentence  -  0.4671379777282001\n",
            "\n",
            "======================================\n",
            "> азъ же двигъсѧ и обрѣтохъ себе здрава \n",
            "= же пошевелился и почувствовал себя здоровым \n",
            "< и пошевелился                  \n",
            "\n",
            "Blue score of this sentence  -  0.34718201116725705\n",
            "\n",
            "======================================\n",
            "> рече паки: достоить инокy  въ общемъ житии живyщy  ѥдино брашно оставляти и глаголати: сие часть христа моего \n",
            "= и еще он сказал: иноку  живущему в общежительном   следует часть пищи оставлять и говорить: это часть христа моего \n",
            "< и еще               еще   \n",
            "\n",
            "Blue score of this sentence  -  0.46173663094410267\n",
            "\n",
            "======================================\n",
            "> волокитою оуморитъ \n",
            "= томит волокитои \n",
            "< иди                   \n",
            "\n",
            "Blue score of this sentence  -  0\n",
            "\n",
            "======================================\n",
            "> разгнѣвал сѧ на мѧ преторже черевие рyкама \n",
            "= он разгневался на меня и разодрал кожу руками \n",
            "< и     разгневался    \n",
            "\n",
            "Blue score of this sentence  -  0.46230595512422085\n",
            "\n",
            "======================================\n",
            "> възложи на ноӡѣ ѥго желѣӡа \n",
            "= она возложила на его ноги кандалы\n",
            "< она возложила                  \n",
            "\n",
            "Blue score of this sentence  -  0\n",
            "\n",
            "======================================\n",
            "> оумножишасѧ и области \n",
            "= умножились и области \n",
            "< и  и  \n",
            "\n",
            "Blue score of this sentence  -  0.7071067811865476\n",
            "\n",
            "======================================\n",
            "> оумножишасѧ и области \n",
            "= умножились и области \n",
            "< и  и  \n",
            "\n",
            "Blue score of this sentence  -  0.7071067811865476\n",
            "\n",
            "======================================\n",
            "> мужа мудра в хитрости своеи  арха именемъ  в хитрости древодѣлнои со многимъ разсуждениемъ бывающа\n",
            "= человека мудрого в своем ремесле  по имени арх  в мастерстве столярном весьма искусного\n",
            "< человека мудрого мудрого в в мудрого  мудрого мудрого мудрого  в в мудрого мудрого мудрого\n",
            "\n",
            "Blue score of this sentence  -  0.5081327481546147\n",
            "\n",
            "======================================\n"
          ]
        },
        {
          "output_type": "stream",
          "name": "stderr",
          "text": [
            "/usr/local/lib/python3.7/dist-packages/nltk/translate/bleu_score.py:490: UserWarning: \n",
            "Corpus/Sentence contains 0 counts of 2-gram overlaps.\n",
            "BLEU scores might be undesirable; use SmoothingFunction().\n",
            "  warnings.warn(_msg)\n"
          ]
        }
      ]
    },
    {
      "cell_type": "markdown",
      "source": [
        "Not bad for train data. Let's look at test data."
      ],
      "metadata": {
        "id": "beT3dB_yaDKk"
      }
    },
    {
      "cell_type": "code",
      "source": [
        "evaluateRandomly(model, test_pairs, test_input_lang, test_output_lang, n=5)"
      ],
      "metadata": {
        "colab": {
          "base_uri": "https://localhost:8080/"
        },
        "id": "ugo2De92abRj",
        "outputId": "5603b740-1ab4-49a1-f9f0-dc42e9dc683a"
      },
      "execution_count": 50,
      "outputs": [
        {
          "output_type": "stream",
          "name": "stdout",
          "text": [
            "> плѣненыя же дyшею оплѣнити къ благочестию \n",
            "= плененных душои вернуть к благочестию \n",
            "< а                   \n",
            "\n",
            "Blue score of this sentence  -  0\n",
            "\n",
            "======================================\n",
            "> или добръ\n",
            "= и богатого \n",
            "< ужин   я\n",
            "\n",
            "Blue score of this sentence  -  0.5444460596606694\n",
            "\n",
            "======================================\n",
            "> дъва рождениѣ соуть \n",
            "= то это два рождения \n",
            "< однажды храбрость храбрость храбрость храбрость гораздо\n",
            "\n",
            "Blue score of this sentence  -  0\n",
            "\n",
            "======================================\n",
            "> съ многою ӡълобою вьсѧ испровращающа \n",
            "= со многои злобои все ниспровергающего \n",
            "< и же                  \n",
            "\n",
            "Blue score of this sentence  -  0\n",
            "\n",
            "======================================\n",
            "> и мнози отъ нихъ крестишасѧ  тогда и отьца пафнyтия дѣдъ крестисѧ и нареченъ бысть мартинъ \n",
            "= и многие из них крестились  тогда и дед отца пафнутия крестился и был назван мартыном\n",
            "< но этого этого этого этого этого этого этого этого этого этого этого этого этого этого этого этого\n",
            "\n",
            "Blue score of this sentence  -  0\n",
            "\n",
            "======================================\n"
          ]
        },
        {
          "output_type": "stream",
          "name": "stderr",
          "text": [
            "/usr/local/lib/python3.7/dist-packages/nltk/translate/bleu_score.py:490: UserWarning: \n",
            "Corpus/Sentence contains 0 counts of 2-gram overlaps.\n",
            "BLEU scores might be undesirable; use SmoothingFunction().\n",
            "  warnings.warn(_msg)\n"
          ]
        }
      ]
    },
    {
      "cell_type": "code",
      "source": [
        "def evaluate(model, pairs, input_lang=train_input_lang, output_lang=train_output_lang):\n",
        "    outputs=[]        \n",
        "    input_tensor = tensorFromSentence(input_lang, pairs[0], config['MAX_LENGTH'])\n",
        "    input_len=torch.tensor([len(pairs[0].split(' '))], dtype=torch.int64)\n",
        "    target_tensor=tensorFromSentence(output_lang, pairs[1], config['MAX_LENGTH'])\n",
        "                \n",
        "    output_words, attention = model(input_tensor.reshape(1,20), input_len, target_tensor.reshape(1,20), evalute=True)    \n",
        "        \n",
        "    result=output_words.argmax(2).detach()\n",
        "    result=result.squeeze(0)\n",
        "        \n",
        "    for idx in range(result.shape[0]):\n",
        "        tok=train_output_lang.index2word[result[idx].item()]\n",
        "        if tok=='EOS':\n",
        "          break\n",
        "        outputs.append(tok) \n",
        "             \n",
        "        output_sentence = ' '.join(outputs)\n",
        "    return    outputs,  attention"
      ],
      "metadata": {
        "id": "cIEFm55wrmNM"
      },
      "execution_count": 51,
      "outputs": []
    },
    {
      "cell_type": "code",
      "execution_count": 73,
      "metadata": {
        "id": "QbV7QLd6N4G3"
      },
      "outputs": [],
      "source": [
        "def display_attention(sentence, translation, attention):\n",
        "    \n",
        "    fig = plt.figure(figsize=(10,10))\n",
        "    ax = fig.add_subplot(111)\n",
        "    \n",
        "    attention = attention.squeeze().cpu().detach()\n",
        "    a=torch.zeros(len(attention), len(attention))\n",
        "    for idx in range(len(attention)):\n",
        "      a[idx,idx]=attention[idx]\n",
        "    cax = ax.matshow(a.numpy(), cmap='bone')\n",
        "   \n",
        "    ax.tick_params(labelsize=15)\n",
        "    \n",
        "    x_ticks = [''] + ['<sos>'] + [t.lower() for t in sentence] + ['<eos>']\n",
        "    y_ticks = [''] + translation\n",
        "    \n",
        "    ax.set_xticklabels(x_ticks, rotation=90)\n",
        "    ax.set_yticklabels(y_ticks)\n",
        "\n",
        "    ax.xaxis.set_major_locator(ticker.MultipleLocator(1))\n",
        "    ax.yaxis.set_major_locator(ticker.MultipleLocator(1))\n",
        "\n",
        "    plt.show()\n",
        "    plt.close()\n",
        "\n",
        "def evaluateAndShowAttention(input_sentence):\n",
        "    output_words, attentions = evaluate(model, input_sentence)\n",
        "    print('input =', input_sentence[0])\n",
        "    print('output =', ' '.join(output_words))\n",
        "    attentions=attentions.detach()\n",
        "    \n",
        "    display_attention(input_sentence[0].split(' '), output_words, attentions)\n",
        "\n"
      ]
    },
    {
      "cell_type": "code",
      "execution_count": 80,
      "metadata": {
        "colab": {
          "base_uri": "https://localhost:8080/",
          "height": 723
        },
        "outputId": "d4bd8d24-ab7b-495d-fa8e-64b675a5f89d",
        "id": "uyEjWiKb8WUQ"
      },
      "outputs": [
        {
          "output_type": "stream",
          "name": "stdout",
          "text": [
            "input = и та чьсть бyдетъ съ великимъ беӡчьстиемъ и со оукоризною \n",
            "output = та стыдом бесчестием бесчестием стыдом бесчестием честь честь бесчестием\n"
          ]
        },
        {
          "output_type": "display_data",
          "data": {
            "text/plain": [
              "<Figure size 720x720 with 1 Axes>"
            ],
            "image/png": "[encoded data removed]"
          },
          "metadata": {}
        }
      ],
      "source": [
        "evaluateAndShowAttention(random.choice(train_pairs))\n",
        "\n"
      ]
    }
  ],
  "metadata": {
    "colab": {
      "collapsed_sections": [],
      "name": "Seq2Seq_translation_final_scheduler.ipynb",
      "provenance": [],
      "mount_file_id": "1efGp1ZjWvTic1KF_Cj_GzvjgjVneTJom",
      "authorship_tag": "ABX9TyN89f1nWNNDuywgNKjVKyBV",
      "include_colab_link": true
    },
    "kernelspec": {
      "display_name": "Python 3",
      "name": "python3"
    },
    "language_info": {
      "name": "python"
    }
  },
  "nbformat": 4,
  "nbformat_minor": 0
}