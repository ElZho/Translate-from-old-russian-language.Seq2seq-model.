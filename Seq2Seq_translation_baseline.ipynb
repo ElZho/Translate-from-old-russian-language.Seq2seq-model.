{
  "nbformat": 4,
  "nbformat_minor": 0,
  "metadata": {
    "colab": {
      "name": "Seq2Seq_translation_baseline",
      "provenance": [],
      "collapsed_sections": [],
      "authorship_tag": "ABX9TyNaKiU+atCKSSEIYoj3+Q0P",
      "include_colab_link": true
    },
    "kernelspec": {
      "name": "python3",
      "display_name": "Python 3"
    },
    "language_info": {
      "name": "python"
    },
    "accelerator": "GPU"
  },
  "cells": [
    {
      "cell_type": "markdown",
      "metadata": {
        "id": "view-in-github",
        "colab_type": "text"
      },
      "source": [
        "<a href=\"https://colab.research.google.com/github/ElZho/Translate-from-old-russian-language.Seq2seq-model./blob/main/Seq2Seq_translation_baseline.ipynb\" target=\"_parent\"><img src=\"https://colab.research.google.com/assets/colab-badge.svg\" alt=\"Open In Colab\"/></a>"
      ]
    },
    {
      "cell_type": "code",
      "execution_count": 1,
      "metadata": {
        "id": "0ThiWY2o0k5y"
      },
      "outputs": [],
      "source": [
        "import pandas as pd\n",
        "import numpy as np\n",
        "from sklearn.model_selection import train_test_split\n"
      ]
    },
    {
      "cell_type": "code",
      "source": [
        "import torch\n",
        "import torch.nn as nn\n",
        "import torch.nn.functional as F\n",
        "from torch import optim"
      ],
      "metadata": {
        "id": "cl7BtUEv2XaW"
      },
      "execution_count": 2,
      "outputs": []
    },
    {
      "cell_type": "code",
      "source": [
        "import unicodedata\n",
        "import string\n",
        "import re\n",
        "import random"
      ],
      "metadata": {
        "id": "zsWNWcfyEWeQ"
      },
      "execution_count": 3,
      "outputs": []
    },
    {
      "cell_type": "code",
      "source": [
        "import time\n",
        "import math"
      ],
      "metadata": {
        "id": "Q0lwO5gfRM3y"
      },
      "execution_count": 4,
      "outputs": []
    },
    {
      "cell_type": "code",
      "source": [
        "import matplotlib.pyplot as plt\n",
        "import matplotlib.ticker as ticker"
      ],
      "metadata": {
        "id": "MAq23M1-RU7B"
      },
      "execution_count": 5,
      "outputs": []
    },
    {
      "cell_type": "code",
      "source": [
        "import os\n",
        "from pathlib import Path\n",
        "import sys"
      ],
      "metadata": {
        "id": "qXrbdmpyvfC8"
      },
      "execution_count": 6,
      "outputs": []
    },
    {
      "cell_type": "code",
      "source": [
        "from google.colab import drive\n",
        "drive.mount('/content/drive')\n",
        "!cp -r ./drive/My\\ Drive/NLP_translation/* . "
      ],
      "metadata": {
        "colab": {
          "base_uri": "https://localhost:8080/"
        },
        "id": "hQjYrEzxTocU",
        "outputId": "c88cf858-b6a4-4629-8344-e661f4e0ac5e"
      },
      "execution_count": 46,
      "outputs": [
        {
          "output_type": "stream",
          "name": "stdout",
          "text": [
            "Drive already mounted at /content/drive; to attempt to forcibly remount, call drive.mount(\"/content/drive\", force_remount=True).\n"
          ]
        }
      ]
    },
    {
      "cell_type": "code",
      "source": [
        "from preprocessing_baseline import prepareData, readLangs, tensorsFromPair, tensorFromSentence"
      ],
      "metadata": {
        "id": "dEX_XE03u2n9"
      },
      "execution_count": 7,
      "outputs": []
    },
    {
      "cell_type": "code",
      "source": [
        "MAX_LENGTH=25\n",
        "SOS_token = 0\n",
        "EOS_token = 1"
      ],
      "metadata": {
        "id": "lVDwtCEjOo1X"
      },
      "execution_count": 8,
      "outputs": []
    },
    {
      "cell_type": "code",
      "source": [
        "from model_baseline import EncoderRNN, AttnDecoderRNN"
      ],
      "metadata": {
        "id": "WFimDmpSUrlM"
      },
      "execution_count": 9,
      "outputs": []
    },
    {
      "cell_type": "code",
      "source": [
        "device = torch.device(\"cuda\" if torch.cuda.is_available() else \"cpu\")"
      ],
      "metadata": {
        "id": "Xmq0wDMDQa6d"
      },
      "execution_count": 10,
      "outputs": []
    },
    {
      "cell_type": "code",
      "source": [
        "path='./old_slav.txt'"
      ],
      "metadata": {
        "id": "0yq8YnJqSikA"
      },
      "execution_count": 13,
      "outputs": []
    },
    {
      "cell_type": "markdown",
      "source": [
        "Upload data and make preprocessing"
      ],
      "metadata": {
        "id": "D2RyJ7SIbx12"
      }
    },
    {
      "cell_type": "code",
      "source": [
        "train_input_lang, train_output_lang, train_pairs, test_input_lang,\\\n",
        "           test_output_lang, test_pairs = prepareData('old_rus', 'new_rus', path, MAX_LENGTH, True)\n",
        "print(random.choice(train_pairs))"
      ],
      "metadata": {
        "id": "8cDNNUxySMEU",
        "colab": {
          "base_uri": "https://localhost:8080/"
        },
        "outputId": "74d54488-a6b5-4d1d-94f7-b50c0e313d55"
      },
      "execution_count": 47,
      "outputs": [
        {
          "output_type": "stream",
          "name": "stdout",
          "text": [
            "Reading lines...\n",
            "Read 159 sentence pairs train\n",
            "Read 69 sentence pairs test\n",
            "Trimmed to 159 sentence train pairs\n",
            "Trimmed to 69 sentence test pairs\n",
            "Counting words...\n",
            "Counted words train:\n",
            "old_rus 767\n",
            "new_rus 728\n",
            "Counted words test:\n",
            "old_rus 369\n",
            "new_rus 347\n",
            "['повѣда намъ отьць васиянъ ', 'вот что рассказал нам отец вассиан ']\n"
          ]
        }
      ]
    },
    {
      "cell_type": "markdown",
      "source": [
        "Check len train pair"
      ],
      "metadata": {
        "id": "XsIJOuwwb9gj"
      }
    },
    {
      "cell_type": "code",
      "source": [
        "len_train=([len(pair[0].split(' ')), len(pair[1].split(' '))] for pair in train_pairs)\n",
        "max(len_train)"
      ],
      "metadata": {
        "colab": {
          "base_uri": "https://localhost:8080/"
        },
        "id": "yPwxTZ7NMMUp",
        "outputId": "a3768904-af57-465b-f1a1-60d6cfb22c8a"
      },
      "execution_count": 60,
      "outputs": [
        {
          "output_type": "execute_result",
          "data": {
            "text/plain": [
              "[24, 24]"
            ]
          },
          "metadata": {},
          "execution_count": 60
        }
      ]
    },
    {
      "cell_type": "markdown",
      "source": [
        "Check len test pair"
      ],
      "metadata": {
        "id": "zG8XcezKcLmZ"
      }
    },
    {
      "cell_type": "code",
      "source": [
        "len_test=([len(pair[0].split(' ')), len(pair[1].split(' '))] for pair in test_pairs)\n",
        "max(len_test)"
      ],
      "metadata": {
        "colab": {
          "base_uri": "https://localhost:8080/"
        },
        "id": "9DUlTgYSYIti",
        "outputId": "bed91e1b-d89d-4180-968f-7c4517917864"
      },
      "execution_count": 59,
      "outputs": [
        {
          "output_type": "execute_result",
          "data": {
            "text/plain": [
              "[24, 25]"
            ]
          },
          "metadata": {},
          "execution_count": 59
        }
      ]
    },
    {
      "cell_type": "markdown",
      "source": [
        "Let's make a length of sentences analysis."
      ],
      "metadata": {
        "id": "xADI2AlDclew"
      }
    },
    {
      "cell_type": "code",
      "source": [
        "def len_pair(pair):\n",
        "  len_0=len(pair[0].split(' '))\n",
        "  len_1=len(pair[1].split(' '))\n",
        "  return len_0, len_1\n",
        "len_train_old=[] \n",
        "len_train_new=[] \n",
        "for pair in train_pairs:  \n",
        "  old, new=len_pair(pair)\n",
        "  len_train_old.append(old)\n",
        "  len_train_new.append(new)"
      ],
      "metadata": {
        "id": "zNx-I_xxt_qr"
      },
      "execution_count": 16,
      "outputs": []
    },
    {
      "cell_type": "code",
      "source": [
        "fig, ax = plt.subplots()\n",
        "ax.hist(len_train_old, bins=[5, 10, 15, 20, 25], linewidth=0.5, edgecolor=\"white\")\n",
        "plt.title('Length of source sentence.');\n",
        "\n"
      ],
      "metadata": {
        "colab": {
          "base_uri": "https://localhost:8080/",
          "height": 281
        },
        "id": "Rt6cPjG9s9gX",
        "outputId": "c01f198b-b3b7-40ff-e232-46c60e5cb8ab"
      },
      "execution_count": 61,
      "outputs": [
        {
          "output_type": "display_data",
          "data": {
            "text/plain": [
              "<Figure size 432x288 with 1 Axes>"
            ],
            "image/png": "[encoded data removed]"
          },
          "metadata": {
            "needs_background": "light"
          }
        }
      ]
    },
    {
      "cell_type": "code",
      "source": [
        "fig, ax = plt.subplots()\n",
        "ax.hist(len_train_new, bins=[5, 10, 15, 20, 25], linewidth=0.5, edgecolor=\"white\")\n",
        "plt.title('Length of target sentence.');"
      ],
      "metadata": {
        "colab": {
          "base_uri": "https://localhost:8080/",
          "height": 281
        },
        "id": "qZjhiS500POb",
        "outputId": "608d7a8b-79ad-443d-9788-435144af5ce9"
      },
      "execution_count": 62,
      "outputs": [
        {
          "output_type": "display_data",
          "data": {
            "text/plain": [
              "<Figure size 432x288 with 1 Axes>"
            ],
            "image/png": "[encoded data removed]"
          },
          "metadata": {
            "needs_background": "light"
          }
        }
      ]
    },
    {
      "cell_type": "markdown",
      "source": [
        "Train with teacher_forcing"
      ],
      "metadata": {
        "id": "6K1o56zmddWF"
      }
    },
    {
      "cell_type": "code",
      "source": [
        "#Set teacher_forcing_ratio. \n",
        "teacher_forcing_ratio = 0.5 #that mean, that 50% decoder imputs going to be real target sentence.\n",
        "\n",
        "#Create a train loop\n",
        "def train(input_tensor, target_tensor, encoder, decoder, encoder_optimizer, decoder_optimizer, criterion, max_length=MAX_LENGTH):\n",
        "\n",
        "    encoder_hidden = encoder.initHidden()#create encoder hidden layer\n",
        "    #reset to zero optimizers\n",
        "    encoder_optimizer.zero_grad()\n",
        "    decoder_optimizer.zero_grad()\n",
        "    #set length of input and target. The sentence were not padded, so the length will be different each time\n",
        "    input_length = input_tensor.size(0)\n",
        "    target_length = target_tensor.size(0)\n",
        "    \n",
        "\n",
        "    encoder_outputs = torch.zeros(max_length, encoder.hidden_size, device=device) #tensor, where we will keep encoder outputs\n",
        "\n",
        "    loss = 0 #reset loss to zero\n",
        "    # encoder loop\n",
        "    for ei in range(input_length):\n",
        "        \n",
        "        encoder_output, encoder_hidden = encoder(\n",
        "            input_tensor[ei], encoder_hidden)\n",
        "        encoder_outputs[ei] = encoder_output[0, 0]\n",
        "    \n",
        "    decoder_input = torch.tensor([[SOS_token]], device=device)#create decoder input for first loop   \n",
        "    \n",
        "    decoder_hidden = encoder_hidden #pass encoder hidden layer to decoder\n",
        "\n",
        "    use_teacher_forcing = True if random.random() < teacher_forcing_ratio else False #randomly choose to use teacher forcing or use decoder output as next input\n",
        "    #teacher forcing decoder loop\n",
        "    if use_teacher_forcing:\n",
        "        # Teacher forcing: Feed the target as the next input\n",
        "        for di in range(target_length):\n",
        "            \n",
        "            decoder_output, decoder_hidden, decoder_attention = decoder(\n",
        "                decoder_input, decoder_hidden, encoder_outputs)            \n",
        "            loss += criterion(decoder_output, target_tensor[di]) #calculate loss\n",
        "            decoder_input = target_tensor[di]  # Teacher forcing\n",
        "           \n",
        "    # decoder loop without teacher forcing\n",
        "    else:\n",
        "        # Without teacher forcing: use its own predictions as the next input\n",
        "        for di in range(target_length):\n",
        "            \n",
        "            decoder_output, decoder_hidden, decoder_attention = decoder(\n",
        "                decoder_input, decoder_hidden, encoder_outputs)\n",
        "            topv, topi = decoder_output.topk(1) #take max value and its index\n",
        "            decoder_input = topi.squeeze().detach()  # detach from history as input\n",
        "            \n",
        "            loss += criterion(decoder_output, target_tensor[di]) #calculate loss\n",
        "            \n",
        "            if decoder_input.item() == EOS_token: #cheak if end of sentence\n",
        "                break\n",
        "\n",
        "    loss.backward()\n",
        "\n",
        "    encoder_optimizer.step()\n",
        "    decoder_optimizer.step()\n",
        "\n",
        "    return loss.item() / target_length, encoder_hidden #pass encoder hidden layer to validation"
      ],
      "metadata": {
        "id": "XeULw0sr9gpi"
      },
      "execution_count": 12,
      "outputs": []
    },
    {
      "cell_type": "markdown",
      "source": [
        "Validation loop."
      ],
      "metadata": {
        "id": "kuinUjc3gXiW"
      }
    },
    {
      "cell_type": "code",
      "source": [
        "def valid(input_tensor, target_tensor, encoder, decoder, encoder_hidden, criterion, max_length=MAX_LENGTH):\n",
        "    #encoder_hidden = encoder.initHidden()\n",
        "\n",
        "    input_length = input_tensor.size(0)\n",
        "    target_length = target_tensor.size(0)\n",
        "    \n",
        "    with torch.no_grad(): # no backpropagation\n",
        "      encoder_outputs = torch.zeros(max_length, encoder.hidden_size, device=device)\n",
        "      loss = 0 #reset loss to zero\n",
        "      # encoder loop\n",
        "      for ei in range(input_length):\n",
        "          \n",
        "          encoder_output, encoder_hidden = encoder(\n",
        "              input_tensor[ei], encoder_hidden)\n",
        "          encoder_outputs[ei] = encoder_output[0, 0]\n",
        "\n",
        "          decoder_input = torch.tensor([[SOS_token]], device=device) #create decoder input for first loop  \n",
        "          decoder_hidden = encoder_hidden #pass encoder hidden layer to decoder\n",
        "    \n",
        "      # there is no teacher forcing in validation loop\n",
        "      for di in range(target_length):\n",
        "           \n",
        "          decoder_output, decoder_hidden, decoder_attention = decoder(\n",
        "                decoder_input, decoder_hidden, encoder_outputs)\n",
        "          topv, topi = decoder_output.topk(1) #take max value and its index\n",
        "          decoder_input = topi.squeeze().detach()  # detach from history as input\n",
        "          \n",
        "          loss += criterion(decoder_output, target_tensor[di]) #calculate loss\n",
        "          \n",
        "          if decoder_input.item() == EOS_token:\n",
        "              break\n",
        "\n",
        "    \n",
        "    return loss.item() / target_length"
      ],
      "metadata": {
        "id": "RQhcR1-3jT72"
      },
      "execution_count": 13,
      "outputs": []
    },
    {
      "cell_type": "markdown",
      "source": [
        "Make a function to calculate time"
      ],
      "metadata": {
        "id": "mowT8R1chkwi"
      }
    },
    {
      "cell_type": "code",
      "source": [
        "def asMinutes(s):\n",
        "    m = math.floor(s / 60)\n",
        "    s -= m * 60\n",
        "    return '%dm %ds' % (m, s)\n",
        "\n",
        "\n",
        "def timeSince(since, percent):\n",
        "    now = time.time()\n",
        "    s = now - since\n",
        "    es = s / (percent)\n",
        "    rs = es - s\n",
        "    return '%s (- %s)' % (asMinutes(s), asMinutes(rs))"
      ],
      "metadata": {
        "id": "Ln5eJ8TX929w"
      },
      "execution_count": 14,
      "outputs": []
    },
    {
      "cell_type": "markdown",
      "source": [
        "Training without validation"
      ],
      "metadata": {
        "id": "KnyPA-c4htxC"
      }
    },
    {
      "cell_type": "code",
      "source": [
        "def trainIters(encoder, decoder, n_iters, print_every=1000, plot_every=100, learning_rate=0.01):\n",
        "    start = time.time()\n",
        "    plot_losses = []\n",
        "    print_loss_total = 0  # Reset every print_every\n",
        "    plot_loss_total = 0  # Reset every plot_every\n",
        "\n",
        "    encoder_optimizer = optim.SGD(encoder.parameters(), lr=learning_rate)\n",
        "    decoder_optimizer = optim.SGD(decoder.parameters(), lr=learning_rate)\n",
        "    training_pairs = [tensorsFromPair(random.choice(train_pairs), train_input_lang, train_output_lang)\n",
        "                      for i in range(n_iters)]\n",
        "    criterion = nn.NLLLoss()\n",
        "\n",
        "    for iter in range(1, n_iters + 1):\n",
        "        training_pair = training_pairs[iter - 1]\n",
        "        input_tensor = training_pair[0]\n",
        "        target_tensor = training_pair[1]\n",
        "        \n",
        "        loss, _ = train(input_tensor, target_tensor, encoder,\n",
        "                     decoder, encoder_optimizer, decoder_optimizer, criterion)\n",
        "        print_loss_total += loss\n",
        "        plot_loss_total += loss\n",
        "\n",
        "        if iter % print_every == 0:\n",
        "            print_loss_avg = print_loss_total / print_every\n",
        "            print_loss_total = 0\n",
        "            print('%s (%d %d%%) %.4f' % (timeSince(start, iter / n_iters),\n",
        "                                         iter, iter / n_iters * 100, print_loss_avg))\n",
        "\n",
        "        if iter % plot_every == 0:\n",
        "            plot_loss_avg = plot_loss_total / plot_every\n",
        "            plot_losses.append(plot_loss_avg)\n",
        "            plot_loss_total = 0\n",
        "\n",
        "    showPlot(plot_losses)\n",
        "    return "
      ],
      "metadata": {
        "id": "VIdtpm4g99UA"
      },
      "execution_count": 15,
      "outputs": []
    },
    {
      "cell_type": "markdown",
      "source": [
        "Traning with validation"
      ],
      "metadata": {
        "id": "hzk0V58nh23x"
      }
    },
    {
      "cell_type": "code",
      "source": [
        "def trainIters_val(encoder, decoder, n_iters, print_every=1000, plot_every=100, learning_rate=0.01):\n",
        "    start = time.time()\n",
        "\n",
        "    encoder_optimizer = optim.SGD(encoder.parameters(), lr=learning_rate)\n",
        "    decoder_optimizer = optim.SGD(decoder.parameters(), lr=learning_rate)\n",
        "\n",
        "    criterion = nn.NLLLoss()\n",
        "\n",
        "\n",
        "    for epoch in range(15):\n",
        "      training_pairs = [tensorsFromPair(random.choice(train_pairs), train_input_lang, train_output_lang)\n",
        "                        for i in range(5000)]\n",
        "\n",
        "      plot_losses = []\n",
        "      val_losses = []\n",
        "      print_loss_total = 0  # Reset every print_every\n",
        "      plot_loss_total = 0  # Reset every plot_every\n",
        "      print_val_loss_total = 0  # Reset every print_every\n",
        "      plot_val_loss_total = 0                  \n",
        "      \n",
        "\n",
        "      for iter in range(5000):\n",
        "          training_pair = training_pairs[iter - 1]\n",
        "          input_tensor = training_pair[0]\n",
        "          target_tensor = training_pair[1]\n",
        "          \n",
        "          loss, encoder_hidden = train(input_tensor, target_tensor, encoder,\n",
        "                      decoder, encoder_optimizer, decoder_optimizer, criterion)\n",
        "          print_loss_total += loss\n",
        "          plot_loss_total += loss\n",
        "\n",
        "      testing_pairs = [tensorsFromPair(random.choice(test_pairs), test_input_lang, test_output_lang)\n",
        "                        for i in range(1000)]\n",
        "\n",
        "      for iter in range(1000):\n",
        "          testing_pair = testing_pairs[iter - 1]\n",
        "          input_tensor = testing_pair[0]\n",
        "          target_tensor = testing_pair[1]\n",
        "          \n",
        "          val_loss = valid(input_tensor, target_tensor, encoder,\n",
        "                      decoder, encoder_hidden, criterion)\n",
        "          print_val_loss_total += val_loss  # Reset every print_every\n",
        "          plot_val_loss_total += val_loss\n",
        "                             \n",
        "      print_loss_avg = print_loss_total / 5000\n",
        "      print_val_loss_avg = print_val_loss_total / 1000\n",
        "      print('%s (%d %d%%) %.4f %.4f' % (timeSince(start, (epoch+1)/15),\n",
        "                                          epoch+1, (epoch+1)/15 * 100, print_loss_avg, print_val_loss_avg))\n",
        "      \n",
        "    return "
      ],
      "metadata": {
        "id": "0cFlzkoQgeJz"
      },
      "execution_count": 15,
      "outputs": []
    },
    {
      "cell_type": "markdown",
      "source": [
        "Create function to plot losses"
      ],
      "metadata": {
        "id": "jFwJRjvLh7X-"
      }
    },
    {
      "cell_type": "code",
      "source": [
        "def showPlot(points):\n",
        "    plt.figure()\n",
        "    fig, ax = plt.subplots()\n",
        "    # this locator puts ticks at regular intervals\n",
        "    loc = ticker.MultipleLocator(base=0.2)\n",
        "    ax.yaxis.set_major_locator(loc)\n",
        "    plt.plot(points);"
      ],
      "metadata": {
        "id": "_ALeHpCu-Ku9"
      },
      "execution_count": 16,
      "outputs": []
    },
    {
      "cell_type": "markdown",
      "source": [
        "Create prediction function"
      ],
      "metadata": {
        "id": "ZXxTKmJMiR-O"
      }
    },
    {
      "cell_type": "code",
      "source": [
        "def evaluate(encoder, decoder, sentence, max_length=MAX_LENGTH):\n",
        "    with torch.no_grad():\n",
        "        input_tensor = tensorFromSentence(test_input_lang, sentence)\n",
        "        input_length = input_tensor.size()[0]\n",
        "        encoder_hidden = encoder.initHidden()\n",
        "\n",
        "        encoder_outputs = torch.zeros(max_length, encoder.hidden_size, device=device)\n",
        "\n",
        "        for ei in range(input_length):\n",
        "            encoder_output, encoder_hidden = encoder(input_tensor[ei],\n",
        "                                                     encoder_hidden)\n",
        "            encoder_outputs[ei] += encoder_output[0, 0]\n",
        "\n",
        "        decoder_input = torch.tensor([[SOS_token]], device=device)  # SOS\n",
        "\n",
        "        decoder_hidden = encoder_hidden\n",
        "\n",
        "        decoded_words = []\n",
        "        decoder_attentions = torch.zeros(max_length, max_length)\n",
        "\n",
        "        for di in range(max_length):\n",
        "            decoder_output, decoder_hidden, decoder_attention = decoder(\n",
        "                decoder_input, decoder_hidden, encoder_outputs)\n",
        "            decoder_attentions[di] = decoder_attention.data\n",
        "            topv, topi = decoder_output.data.topk(1)\n",
        "            if topi.item() == EOS_token:\n",
        "                decoded_words.append('<EOS>')\n",
        "                break\n",
        "            else:\n",
        "                decoded_words.append(test_output_lang.index2word[topi.item()])\n",
        "\n",
        "            decoder_input = topi.squeeze().detach()\n",
        "\n",
        "        return decoded_words, decoder_attentions[:di + 1]"
      ],
      "metadata": {
        "id": "0aPjZEZs-OmN"
      },
      "execution_count": 17,
      "outputs": []
    },
    {
      "cell_type": "markdown",
      "source": [
        "Create randomly prediction "
      ],
      "metadata": {
        "id": "74ufhA5viYoG"
      }
    },
    {
      "cell_type": "code",
      "source": [
        "def evaluateRandomly(encoder, decoder, pairs, n=10):\n",
        "    for i in range(n):\n",
        "        pair = random.choice(pairs)\n",
        "        print('>', pair[0])\n",
        "        print('=', pair[1])\n",
        "        output_words, attentions = evaluate(encoder, decoder, pair[0])\n",
        "        output_sentence = ' '.join(output_words)\n",
        "        print('<', output_sentence)\n",
        "        print('')"
      ],
      "metadata": {
        "id": "f1CtPDbG-Ri9"
      },
      "execution_count": 18,
      "outputs": []
    },
    {
      "cell_type": "markdown",
      "source": [
        "Let's train model"
      ],
      "metadata": {
        "id": "Ayc5M35KinE-"
      }
    },
    {
      "cell_type": "code",
      "source": [
        "hidden_size = 256\n",
        "encoder1 = EncoderRNN(train_input_lang.n_words, hidden_size).to(device)\n",
        "attn_decoder1 = AttnDecoderRNN(hidden_size, train_output_lang.n_words, dropout_p=0.1, MAX_LENGTH=25).to(device)\n",
        "\n",
        "trainIters(encoder1, attn_decoder1, 7500, print_every=500)"
      ],
      "metadata": {
        "colab": {
          "base_uri": "https://localhost:8080/",
          "height": 546
        },
        "id": "n6N-UV08imMI",
        "outputId": "da7f6a3d-c786-4fca-a0b1-627e8bfc96a2"
      },
      "execution_count": 74,
      "outputs": [
        {
          "output_type": "stream",
          "name": "stdout",
          "text": [
            "0m 7s (- 1m 43s) (500 6%) 3.8930\n",
            "0m 14s (- 1m 35s) (1000 13%) 3.8735\n",
            "0m 22s (- 1m 28s) (1500 20%) 3.6272\n",
            "0m 30s (- 1m 23s) (2000 26%) 3.1925\n",
            "0m 38s (- 1m 16s) (2500 33%) 2.5861\n",
            "0m 46s (- 1m 10s) (3000 40%) 1.9779\n",
            "0m 55s (- 1m 3s) (3500 46%) 1.1919\n",
            "1m 4s (- 0m 56s) (4000 53%) 0.6829\n",
            "1m 13s (- 0m 48s) (4500 60%) 0.3483\n",
            "1m 21s (- 0m 40s) (5000 66%) 0.1738\n",
            "1m 30s (- 0m 32s) (5500 73%) 0.1140\n",
            "1m 39s (- 0m 24s) (6000 80%) 0.0717\n",
            "1m 48s (- 0m 16s) (6500 86%) 0.0459\n",
            "1m 58s (- 0m 8s) (7000 93%) 0.0375\n",
            "2m 7s (- 0m 0s) (7500 100%) 0.0313\n"
          ]
        },
        {
          "output_type": "display_data",
          "data": {
            "text/plain": [
              "<Figure size 432x288 with 0 Axes>"
            ]
          },
          "metadata": {}
        },
        {
          "output_type": "display_data",
          "data": {
            "text/plain": [
              "<Figure size 432x288 with 1 Axes>"
            ],
            "image/png": "[encoded data removed]"
          },
          "metadata": {
            "needs_background": "light"
          }
        }
      ]
    },
    {
      "cell_type": "markdown",
      "source": [
        "It is good result. Let's check translation."
      ],
      "metadata": {
        "id": "FD8uW3NdkKS7"
      }
    },
    {
      "cell_type": "code",
      "source": [
        "evaluateRandomly(encoder1, attn_decoder1, pairs=test_pairs, n=5)"
      ],
      "metadata": {
        "colab": {
          "base_uri": "https://localhost:8080/"
        },
        "id": "KPQ51EE0oFc_",
        "outputId": "84f2a353-d5db-4379-e6fe-64ddf45f45a6"
      },
      "execution_count": 119,
      "outputs": [
        {
          "output_type": "stream",
          "name": "stdout",
          "text": [
            "> рече паки: аще которыи брать совершитъ довлѣясѧ трапезною пищею \n",
            "= и еще он сказал: если некии брат удовольствуется трапезнои пищеи \n",
            "< применяют вырезания и прижигания  чтобы <EOS>\n",
            "\n",
            "> и въ ӡълое времѧ нихто емy не поможетъ \n",
            "= и в лихое время никто ему не поможет \n",
            "< веру властителями чтобы свои по тех чтобы <EOS>\n",
            "\n",
            "> егда же оубиенъ бысть безбожныи батыи секирою богоданною отъ оугорьскаго краля владислава \n",
            "= когда же безбожныи батыи был убит богоданнои секирои венгерского короля владислава \n",
            "< растерзающии пелеи сведущии поняв что чтобы <EOS>\n",
            "\n",
            "> или люди оправливати  или на ловъ ѣхати \n",
            "= или собираюсь творить суд между людеи  или ехать на охоту \n",
            "< многие обнажают души услышав это сведущии от чтобы <EOS>\n",
            "\n",
            "> то падетьсѧ  тако и мyдрyѧ \n",
            "= то рухнет  как и тот  кто мудрствует \n",
            "< веру зорко умножились области чтобы суд верныи друг <EOS>\n",
            "\n"
          ]
        }
      ]
    },
    {
      "cell_type": "markdown",
      "source": [
        "Tranclation is far from original.\n",
        "Let's make traning with validation."
      ],
      "metadata": {
        "id": "iG_ffvg_kzOa"
      }
    },
    {
      "cell_type": "code",
      "source": [
        "hidden_size = 256\n",
        "encoder1 = EncoderRNN(train_input_lang.n_words, hidden_size).to(device)\n",
        "attn_decoder1 = AttnDecoderRNN(hidden_size, train_output_lang.n_words, dropout_p=0.1, MAX_LENGTH=25).to(device)\n",
        "\n",
        "trainIters_val(encoder1, attn_decoder1, 7500, print_every=500)"
      ],
      "metadata": {
        "colab": {
          "base_uri": "https://localhost:8080/"
        },
        "id": "0yzEjN9GlP07",
        "outputId": "946f05d1-3ac4-44d5-9f32-2a3655e29f98"
      },
      "execution_count": 88,
      "outputs": [
        {
          "output_type": "stream",
          "name": "stdout",
          "text": [
            "1m 27s (- 20m 29s) (1 6%) 2.2089 6.7004\n",
            "3m 3s (- 19m 54s) (2 13%) 0.0370 6.9512\n",
            "4m 39s (- 18m 39s) (3 20%) 0.0118 7.4307\n",
            "6m 16s (- 17m 15s) (4 26%) 0.0071 7.4153\n",
            "7m 53s (- 15m 46s) (5 33%) 0.0051 7.6714\n",
            "9m 31s (- 14m 16s) (6 40%) 0.0040 8.0668\n",
            "11m 9s (- 12m 44s) (7 46%) 0.0033 8.1329\n",
            "12m 48s (- 11m 12s) (8 53%) 0.0028 8.3115\n",
            "14m 25s (- 9m 37s) (9 60%) 0.0024 8.3545\n",
            "16m 2s (- 8m 1s) (10 66%) 0.0021 8.4968\n",
            "17m 37s (- 6m 24s) (11 73%) 0.0019 8.7336\n",
            "19m 13s (- 4m 48s) (12 80%) 0.0017 8.5439\n",
            "20m 51s (- 3m 12s) (13 86%) 0.0015 8.4467\n",
            "22m 27s (- 1m 36s) (14 93%) 0.0014 8.7386\n",
            "24m 3s (- 0m 0s) (15 100%) 0.0013 8.5406\n"
          ]
        }
      ]
    },
    {
      "cell_type": "markdown",
      "source": [
        "Model has decreasing loss for train sentences and increasing for test. That mean that model just learn train data and not improve translation."
      ],
      "metadata": {
        "id": "R84CqaGMs1BP"
      }
    },
    {
      "cell_type": "markdown",
      "source": [
        "Let's check translation results."
      ],
      "metadata": {
        "id": "IkzGPYZ9wmhv"
      }
    },
    {
      "cell_type": "code",
      "source": [
        "evaluateRandomly(encoder1, attn_decoder1, pairs=test_pairs, n=5)"
      ],
      "metadata": {
        "colab": {
          "base_uri": "https://localhost:8080/"
        },
        "id": "qpmb3rhds86e",
        "outputId": "41bfff88-5d28-4d84-fc9b-040e99006ba2"
      },
      "execution_count": 99,
      "outputs": [
        {
          "output_type": "stream",
          "name": "stdout",
          "text": [
            "> и съсѣщи главy невидимомy ӡмиеви \n",
            "= и отсечь главу невидимому змию \n",
            "< применяют вырезания и прижигания  чтобы <EOS>\n",
            "\n",
            "> а вьсемъ людемъ пророкъ показасѧ \n",
            "= а всем людям явился пророком \n",
            "< применяют вырезания и прижигания  чтобы <EOS>\n",
            "\n",
            "> аще къто не оумѣѧ кънигъ мyдрyеть \n",
            "= если некто  не разумея книг  мудрствует \n",
            "< применяют вырезания и прижигания  чтобы <EOS>\n",
            "\n",
            "> пътицамъ бо того ради крилѣ данѣ  да сѣтеи человѣческихъ иӡбѣжатъ  а человѣкомъ къниги  яже вьсю неприяӡненy льсть обнажають \n",
            "= птицам для того даны два крыла  чтобы избежать человеческих сетеи  а людям – книги  которые обнажают весь дьявольскии обман\n",
            "< применяют вырезания и прижигания  чтобы <EOS>\n",
            "\n",
            "> аще кто не раӡсyдѧ собѧ и не смѣтѧ своего житья и промысла  и добытка \n",
            "= если кто-то  не рассудив своего положения и не рассчитав своего образа жизни  ремесла и доходов \n",
            "< применяют вырезания и прижигания  чтобы <EOS>\n",
            "\n"
          ]
        }
      ]
    },
    {
      "cell_type": "markdown",
      "source": [
        "Look at attention. Choose 4 sentence to look."
      ],
      "metadata": {
        "id": "CVny0Ooi1HJn"
      }
    },
    {
      "cell_type": "code",
      "source": [
        "def showAttention(input_sentence, output_words, attentions):\n",
        "    # Set up figure with colorbar\n",
        "    fig = plt.figure(figsize=(10,10))\n",
        "    ax = fig.add_subplot(111)\n",
        "    cax = ax.matshow(attentions.numpy(), cmap='bone')\n",
        "    fig.colorbar(cax)\n",
        "\n",
        "    # Set up axes\n",
        "    ax.set_xticklabels([''] + input_sentence.split(' ') +\n",
        "                       ['<EOS>'], rotation=90)\n",
        "    ax.set_yticklabels([''] + output_words)\n",
        "\n",
        "    # Show label at every tick\n",
        "    ax.xaxis.set_major_locator(ticker.MultipleLocator(1))\n",
        "    ax.yaxis.set_major_locator(ticker.MultipleLocator(1))\n",
        "\n",
        "    plt.show()\n",
        "\n",
        "\n",
        "def evaluateAndShowAttention(input_sentence):\n",
        "    output_words, attentions = evaluate(\n",
        "        encoder1, attn_decoder1, input_sentence)\n",
        "    print('input =', input_sentence)\n",
        "    print('output =', ' '.join(output_words))\n",
        "    showAttention(input_sentence, output_words, attentions)\n",
        "\n",
        "evaluateAndShowAttention(test_pairs[35][0])\n",
        "evaluateAndShowAttention(test_pairs[9][0])\n",
        "evaluateAndShowAttention(test_pairs[15][0])\n",
        "evaluateAndShowAttention(test_pairs[50][0])"
      ],
      "metadata": {
        "colab": {
          "base_uri": "https://localhost:8080/",
          "height": 1000
        },
        "id": "QbV7QLd6N4G3",
        "outputId": "10b6658f-9590-4a12-97a8-4548b58727a3"
      },
      "execution_count": null,
      "outputs": [
        {
          "output_type": "stream",
          "name": "stdout",
          "text": [
            "input = господи  ты кто ѥси \n",
            "output = применяют вырезания и прижигания  чтобы <EOS>\n"
          ]
        },
        {
          "output_type": "display_data",
          "data": {
            "text/plain": [
              "<Figure size 720x720 with 2 Axes>"
            ],
            "image/png": "[encoded data removed]"
          },
          "metadata": {
            "needs_background": "light"
          }
        },
        {
          "output_type": "stream",
          "name": "stdout",
          "text": [
            "input = и въ ӡълое времѧ нихто емy не поможетъ \n",
            "output = применяют чтобы <EOS>\n"
          ]
        },
        {
          "output_type": "display_data",
          "data": {
            "text/plain": [
              "<Figure size 720x720 with 2 Axes>"
            ],
            "image/png": "[encoded data removed]"
          },
          "metadata": {
            "needs_background": "light"
          }
        },
        {
          "output_type": "stream",
          "name": "stdout",
          "text": [
            "input = онъ же рече: отче  азъ много времѧ болѣзнию одержимъ и всегда молѧсѧ и призываѧ мyченика никитy \n",
            "output = применяют вырезания и прижигания  чтобы <EOS>\n"
          ]
        },
        {
          "output_type": "display_data",
          "data": {
            "text/plain": [
              "<Figure size 720x720 with 2 Axes>"
            ],
            "image/png": "[encoded data removed]"
          },
          "metadata": {
            "needs_background": "light"
          }
        },
        {
          "output_type": "stream",
          "name": "stdout",
          "text": [
            "input = аще кто не раӡсyдѧ собѧ и не смѣтѧ своего житья и промысла  и добытка \n",
            "output = применяют вырезания и прижигания  чтобы <EOS>\n"
          ]
        },
        {
          "output_type": "display_data",
          "data": {
            "text/plain": [
              "<Figure size 720x720 with 2 Axes>"
            ],
            "image/png": "[encoded data removed]"
          },
          "metadata": {
            "needs_background": "light"
          }
        }
      ]
    },
    {
      "cell_type": "markdown",
      "source": [
        "There is no matches. Perhaps that is becouse the attention look at decoder inputs not at encoder outputs."
      ],
      "metadata": {
        "id": "_N7GG83p1gIs"
      }
    },
    {
      "cell_type": "markdown",
      "source": [
        "Let's try english-russian corpus."
      ],
      "metadata": {
        "id": "AycLrHowwzZD"
      }
    },
    {
      "cell_type": "code",
      "source": [
        "#rus-eng\n",
        "path='./rus.txt'"
      ],
      "metadata": {
        "id": "_8awGoIlcqeq"
      },
      "execution_count": 19,
      "outputs": []
    },
    {
      "cell_type": "code",
      "source": [
        "MAX_LENGTH=45"
      ],
      "metadata": {
        "id": "iozdSTHRzmt1"
      },
      "execution_count": 20,
      "outputs": []
    },
    {
      "cell_type": "markdown",
      "source": [
        "Upload data and make preprocessing"
      ],
      "metadata": {
        "id": "1WRWenLSxsFa"
      }
    },
    {
      "cell_type": "code",
      "source": [
        "train_input_lang, train_output_lang, train_pairs, test_input_lang,\\\n",
        "           test_output_lang, test_pairs = prepareData('eng', 'rus', path, MAX_LENGTH=MAX_LENGTH, reverse=True)\n",
        "print(random.choice(train_pairs))"
      ],
      "metadata": {
        "colab": {
          "base_uri": "https://localhost:8080/"
        },
        "outputId": "51ad19ca-6d09-439a-c68e-f029c0533017",
        "id": "QNUbm7mqxsFh"
      },
      "execution_count": 21,
      "outputs": [
        {
          "output_type": "stream",
          "name": "stdout",
          "text": [
            "Reading lines...\n",
            "Read 308153 sentence pairs train\n",
            "Read 132066 sentence pairs test\n",
            "Trimmed to 308149 sentence train pairs\n",
            "Trimmed to 132066 sentence test pairs\n",
            "Counting words...\n",
            "Counted words train:\n",
            "eng 16380\n",
            "rus 49826\n",
            "Counted words test:\n",
            "eng 12265\n",
            "rus 34308\n",
            "[\"tom didn't answer his phone \", 'том не снимал трубку ', 'cc-by 2 0 (france) attribution: tatoeba org #4529805 (ck) & #4724724 (marafon)']\n"
          ]
        }
      ]
    },
    {
      "cell_type": "markdown",
      "source": [
        "Check len train pair"
      ],
      "metadata": {
        "id": "Wn47fBvrxsFh"
      }
    },
    {
      "cell_type": "code",
      "source": [
        "len_train=([len(pair[0].split(' ')), len(pair[1].split(' '))] for pair in train_pairs)\n",
        "max(len_train)"
      ],
      "metadata": {
        "colab": {
          "base_uri": "https://localhost:8080/"
        },
        "outputId": "aafd5f7a-a9f7-4b7d-d74b-b8af855476c5",
        "id": "qeck98tsxsFh"
      },
      "execution_count": 22,
      "outputs": [
        {
          "output_type": "execute_result",
          "data": {
            "text/plain": [
              "[40, 39]"
            ]
          },
          "metadata": {},
          "execution_count": 22
        }
      ]
    },
    {
      "cell_type": "markdown",
      "source": [
        "Check len test pair"
      ],
      "metadata": {
        "id": "hm7qTR2YxsFh"
      }
    },
    {
      "cell_type": "code",
      "source": [
        "len_test=([len(pair[0].split(' ')), len(pair[1].split(' '))] for pair in test_pairs)\n",
        "max(len_test)"
      ],
      "metadata": {
        "colab": {
          "base_uri": "https://localhost:8080/"
        },
        "outputId": "1b0c9fcf-7f38-4c74-9c21-dce09d1744bc",
        "id": "i1cxHYtTxsFi"
      },
      "execution_count": 156,
      "outputs": [
        {
          "output_type": "execute_result",
          "data": {
            "text/plain": [
              "[43, 39]"
            ]
          },
          "metadata": {},
          "execution_count": 156
        }
      ]
    },
    {
      "cell_type": "code",
      "source": [
        "fig, ax = plt.subplots()\n",
        "ax.hist(len_train_old, bins=[5, 10, 15, 20, 25, 45, 60, 100], linewidth=0.5, edgecolor=\"white\")\n",
        "plt.title('Length of source sentence.');\n",
        "\n"
      ],
      "metadata": {
        "colab": {
          "base_uri": "https://localhost:8080/",
          "height": 281
        },
        "outputId": "b0e3b5c0-4203-4234-be53-cfc683cff875",
        "id": "LUWmk_mfyRj0"
      },
      "execution_count": 158,
      "outputs": [
        {
          "output_type": "display_data",
          "data": {
            "text/plain": [
              "<Figure size 432x288 with 1 Axes>"
            ],
            "image/png": "[encoded data removed]"
          },
          "metadata": {
            "needs_background": "light"
          }
        }
      ]
    },
    {
      "cell_type": "code",
      "source": [
        "big_pair=[pair[0] for pair in train_pairs if len(pair[1].split(' '))>45]\n",
        "len(big_pair)"
      ],
      "metadata": {
        "colab": {
          "base_uri": "https://localhost:8080/"
        },
        "id": "yQUJqzXKyuzb",
        "outputId": "ab7bb26b-aacd-436c-caef-859fd03b4419"
      },
      "execution_count": 23,
      "outputs": [
        {
          "output_type": "execute_result",
          "data": {
            "text/plain": [
              "0"
            ]
          },
          "metadata": {},
          "execution_count": 23
        }
      ]
    },
    {
      "cell_type": "markdown",
      "source": [
        "Let's change max length of sentence to 45 and reapit preprocessing"
      ],
      "metadata": {
        "id": "3vh4ZJmizLWK"
      }
    },
    {
      "cell_type": "code",
      "source": [
        "hidden_size = 256\n",
        "encoder1 = EncoderRNN(train_input_lang.n_words, hidden_size).to(device)\n",
        "attn_decoder1 = AttnDecoderRNN(hidden_size, train_output_lang.n_words, dropout_p=0.1, MAX_LENGTH=MAX_LENGTH).to(device)\n",
        "\n",
        "trainIters_val(encoder1, attn_decoder1, 7500, print_every=500)"
      ],
      "metadata": {
        "colab": {
          "base_uri": "https://localhost:8080/"
        },
        "id": "gafbtwSazeBF",
        "outputId": "18e408a7-2bd3-4c93-ef53-3d0baf168d3e"
      },
      "execution_count": 24,
      "outputs": [
        {
          "output_type": "stream",
          "name": "stdout",
          "text": [
            "2m 16s (- 31m 44s) (1 6%) 5.1796 7.0689\n",
            "4m 38s (- 30m 7s) (2 13%) 4.6480 8.2221\n",
            "7m 2s (- 28m 9s) (3 20%) 4.3938 8.0905\n",
            "9m 26s (- 25m 58s) (4 26%) 4.1396 8.2674\n",
            "11m 52s (- 23m 44s) (5 33%) 4.0003 8.2369\n",
            "14m 18s (- 21m 27s) (6 40%) 3.8658 8.7212\n",
            "16m 43s (- 19m 7s) (7 46%) 3.7327 8.4464\n",
            "19m 9s (- 16m 46s) (8 53%) 3.6601 8.5623\n",
            "21m 35s (- 14m 23s) (9 60%) 3.6016 8.4552\n",
            "24m 2s (- 12m 1s) (10 66%) 3.5171 8.6874\n",
            "26m 27s (- 9m 37s) (11 73%) 3.4805 7.5791\n",
            "28m 53s (- 7m 13s) (12 80%) 3.4394 8.5536\n",
            "31m 21s (- 4m 49s) (13 86%) 3.3537 8.3827\n",
            "33m 48s (- 2m 24s) (14 93%) 3.2950 8.9219\n",
            "36m 14s (- 0m 0s) (15 100%) 3.2788 9.2126\n"
          ]
        }
      ]
    },
    {
      "cell_type": "markdown",
      "source": [
        "The same situation as in smaller corpus 'old_slav'. Train loss is decreasing while validation loss is increasing."
      ],
      "metadata": {
        "id": "eU6drRoOJ3fR"
      }
    },
    {
      "cell_type": "code",
      "source": [
        "evaluateRandomly(encoder1, attn_decoder1, train_pairs)"
      ],
      "metadata": {
        "colab": {
          "base_uri": "https://localhost:8080/"
        },
        "id": "qJQp-D9kKkL2",
        "outputId": "196554e5-9b1a-4ede-eee5-7e4e680143ef"
      },
      "execution_count": 26,
      "outputs": [
        {
          "output_type": "stream",
          "name": "stdout",
          "text": [
            "> do you like rice \n",
            "= ты любишь рис \n",
            "< кто кто не не не <EOS>\n",
            "\n",
            "> tom said the soup was too hot \n",
            "= том сказал  что суп был слишком горячим \n",
            "< хорошее делается не не не не не не не <EOS>\n",
            "\n",
            "> he had three sons \n",
            "= у него было трое сыновеи \n",
            "< кто кто кто не не <EOS>\n",
            "\n",
            "> will you introduce me to her \n",
            "= ты меня с неи познакомишь \n",
            "< на не не не не не не <EOS>\n",
            "\n",
            "> it's 3:30 \n",
            "= сеичас полчетвертого \n",
            "< голову выиграю не <EOS>\n",
            "\n",
            "> nobody knows how i feel \n",
            "= никто не знает  как я себя чувствую \n",
            "< делаешь неимоверно не не <EOS>\n",
            "\n",
            "> just be careful with that \n",
            "= просто будьте с этим осторожны \n",
            "< поесть послал фотографию не не <EOS>\n",
            "\n",
            "> you're in danger \n",
            "= ты в опасности \n",
            "< избежал не не не не <EOS>\n",
            "\n",
            "> i want him to solve the problem \n",
            "= я хочу  чтобы он решил эту проблему \n",
            "< смог петь не не не не не <EOS>\n",
            "\n",
            "> didn't i tell you not to do that anymore \n",
            "= разве я не говорила тебе больше не делать этого \n",
            "< среди не смог не не твои не не не не <EOS>\n",
            "\n"
          ]
        }
      ]
    },
    {
      "cell_type": "code",
      "source": [
        "evaluateRandomly(encoder1, attn_decoder1, test_pairs)"
      ],
      "metadata": {
        "colab": {
          "base_uri": "https://localhost:8080/"
        },
        "id": "BM5OGnN2Kelb",
        "outputId": "8912faef-595e-4736-cd4d-954a678a8b4d"
      },
      "execution_count": 25,
      "outputs": [
        {
          "output_type": "stream",
          "name": "stdout",
          "text": [
            "> please speak louder \n",
            "= говори громче  пожалуиста \n",
            "< избежал не не не <EOS>\n",
            "\n",
            "> she put her knitting aside and stood up \n",
            "= она отложила вязание и встала \n",
            "< узнать кто жди пошел не не не не не <EOS>\n",
            "\n",
            "> you can't kill us all \n",
            "= ты не можешь убить нас всех \n",
            "< ворота не не тому тому не <EOS>\n",
            "\n",
            "> tom remained silent all day \n",
            "= том молчал весь день \n",
            "< поверил тому тому тому не <EOS>\n",
            "\n",
            "> we have exams right after summer vacation \n",
            "= сразу после летних каникул у нас экзамены \n",
            "< избежал не не не не не не <EOS>\n",
            "\n",
            "> we're out of salt \n",
            "= у нас соль кончилась \n",
            "< выстрелом другои другои не не <EOS>\n",
            "\n",
            "> i think you're too picky \n",
            "= по-моему  вы слишком придирчивы \n",
            "< смог полагаю не не не не <EOS>\n",
            "\n",
            "> what station is it \n",
            "= что это за станция \n",
            "< дипломатична дипломатична дипломатична не не <EOS>\n",
            "\n",
            "> some unexpected difficulties have arisen \n",
            "= возникли непредвиденные трудности \n",
            "< узнать кто не не не не <EOS>\n",
            "\n",
            "> tom needs clothes \n",
            "= тому нужна одежда \n",
            "< через не не не <EOS>\n",
            "\n"
          ]
        }
      ]
    },
    {
      "cell_type": "code",
      "source": [
        "#attention\n",
        "\n",
        "evaluateAndShowAttention(test_pairs[135][0])"
      ],
      "metadata": {
        "colab": {
          "base_uri": "https://localhost:8080/",
          "height": 620
        },
        "id": "zIFVa-2_Oqeq",
        "outputId": "6b5cf51d-5cbd-421b-dc1c-a1f2ce15b63f"
      },
      "execution_count": 28,
      "outputs": [
        {
          "output_type": "stream",
          "name": "stdout",
          "text": [
            "input = my mother cut my hair too short \n",
            "output = швы швы не не не не не не не <EOS>\n"
          ]
        },
        {
          "output_type": "display_data",
          "data": {
            "text/plain": [
              "<Figure size 720x720 with 2 Axes>"
            ],
            "image/png": "[encoded data removed]"
          },
          "metadata": {
            "needs_background": "light"
          }
        }
      ]
    }
  ]
}