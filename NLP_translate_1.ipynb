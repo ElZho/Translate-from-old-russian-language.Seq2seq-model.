{
  "nbformat": 4,
  "nbformat_minor": 0,
  "metadata": {
    "colab": {
      "name": "NLP_translate-1",
      "provenance": [],
      "collapsed_sections": [],
      "authorship_tag": "ABX9TyNEimVOTPBToOrAmHAy04rx",
      "include_colab_link": true
    },
    "kernelspec": {
      "name": "python3",
      "display_name": "Python 3"
    },
    "language_info": {
      "name": "python"
    },
    "accelerator": "GPU"
  },
  "cells": [
    {
      "cell_type": "markdown",
      "metadata": {
        "id": "view-in-github",
        "colab_type": "text"
      },
      "source": [
        "<a href=\"https://colab.research.google.com/github/ElZho/Translate-from-old-russian-language.Seq2seq-model./blob/main/NLP_translate_1.ipynb\" target=\"_parent\"><img src=\"https://colab.research.google.com/assets/colab-badge.svg\" alt=\"Open In Colab\"/></a>"
      ]
    },
    {
      "cell_type": "markdown",
      "source": [
        "Baseline - [Pytorch tutorial](https://pytorch.org/tutorials/intermediate/seq2seq_translation_tutorial)"
      ],
      "metadata": {
        "id": "zYeqq_GlcIrN"
      }
    },
    {
      "cell_type": "code",
      "execution_count": 1,
      "metadata": {
        "id": "0ThiWY2o0k5y"
      },
      "outputs": [],
      "source": [
        "import pandas as pd\n",
        "import numpy as np\n",
        "from sklearn.model_selection import train_test_split\n"
      ]
    },
    {
      "cell_type": "code",
      "source": [
        "import torch\n",
        "import torch.nn as nn\n",
        "import torch.nn.functional as F\n",
        "from torch import optim\n",
        "import tqdm\n",
        "from tqdm import tqdm"
      ],
      "metadata": {
        "id": "cl7BtUEv2XaW"
      },
      "execution_count": 2,
      "outputs": []
    },
    {
      "cell_type": "code",
      "source": [
        "import unicodedata\n",
        "import string\n",
        "import re\n",
        "import random\n",
        "import itertools"
      ],
      "metadata": {
        "id": "zsWNWcfyEWeQ"
      },
      "execution_count": 3,
      "outputs": []
    },
    {
      "cell_type": "code",
      "source": [
        "import time\n",
        "import math\n",
        "from collections import defaultdict"
      ],
      "metadata": {
        "id": "Q0lwO5gfRM3y"
      },
      "execution_count": 4,
      "outputs": []
    },
    {
      "cell_type": "code",
      "source": [
        "import matplotlib.pyplot as plt\n",
        "# plt.switch_backend('agg')\n",
        "import matplotlib.ticker as ticker\n",
        "import seaborn as sns"
      ],
      "metadata": {
        "id": "MAq23M1-RU7B"
      },
      "execution_count": 5,
      "outputs": []
    },
    {
      "cell_type": "code",
      "source": [
        "import os\n",
        "from pathlib import Path\n",
        "import sys"
      ],
      "metadata": {
        "id": "qXrbdmpyvfC8"
      },
      "execution_count": 6,
      "outputs": []
    },
    {
      "cell_type": "code",
      "source": [
        "from google.colab import drive\n",
        "drive.mount('/content/drive')\n",
        "!cp -r ./drive/My\\ Drive/NLP_translation/* . "
      ],
      "metadata": {
        "id": "hQjYrEzxTocU",
        "colab": {
          "base_uri": "https://localhost:8080/"
        },
        "outputId": "0eb417da-8c26-4847-fffa-3ceadc23d53b"
      },
      "execution_count": 7,
      "outputs": [
        {
          "output_type": "stream",
          "name": "stdout",
          "text": [
            "Drive already mounted at /content/drive; to attempt to forcibly remount, call drive.mount(\"/content/drive\", force_remount=True).\n"
          ]
        }
      ]
    },
    {
      "cell_type": "code",
      "source": [
        "from preprocessing import prepareData, readLangs, tensorsFromPair, tensorFromSentence"
      ],
      "metadata": {
        "id": "dEX_XE03u2n9"
      },
      "execution_count": 8,
      "outputs": []
    },
    {
      "cell_type": "code",
      "source": [
        "config = {  \n",
        "    'path'  :'/content/drive/MyDrive/NLP_translation/old_slav.txt',\n",
        "    # 'path':'/content/rus.txt',\n",
        "    'MAX_LENGTH':60,\n",
        "    'reverse':True,\n",
        "    \n",
        "    'batch_size':16, # for short datasets use batch_size - 8, for big dataset - 256\n",
        "\n",
        "    'teacher_forcing_ratio': 0.5,\n",
        "    'hidden_size':256,\n",
        "    'num_epochs':6,\n",
        "    \n",
        "    'lr': 0.01\n",
        "}"
      ],
      "metadata": {
        "id": "xrN7tCq8S5z4"
      },
      "execution_count": 9,
      "outputs": []
    },
    {
      "cell_type": "code",
      "source": [
        "from model import EncoderRNN, AttnDecoderRNN, TONModel"
      ],
      "metadata": {
        "id": "C766angNLtAr"
      },
      "execution_count": 10,
      "outputs": []
    },
    {
      "cell_type": "code",
      "source": [
        "device = torch.device(\"cuda\" if torch.cuda.is_available() else \"cpu\")"
      ],
      "metadata": {
        "id": "Xmq0wDMDQa6d"
      },
      "execution_count": 11,
      "outputs": []
    },
    {
      "cell_type": "markdown",
      "source": [
        "Upload and prepere data. Check length of the sentence, drop longer sentence then max length. Tokenize. Pad the sentence, which then max length."
      ],
      "metadata": {
        "id": "mva8x-s37nHW"
      }
    },
    {
      "cell_type": "code",
      "source": [
        "train_input_lang, train_output_lang, train_pairs, test_input_lang,\\\n",
        "           test_output_lang, test_pairs = prepareData('old_rus', 'new_rus', config['path'], config['MAX_LENGTH'], config['reverse'])\n",
        "print(random.choice(train_pairs))"
      ],
      "metadata": {
        "id": "8cDNNUxySMEU",
        "colab": {
          "base_uri": "https://localhost:8080/"
        },
        "outputId": "23b0b3ad-eb76-43af-e423-d6bb660a28a2"
      },
      "execution_count": 12,
      "outputs": [
        {
          "output_type": "stream",
          "name": "stdout",
          "text": [
            "Reading lines...\n"
          ]
        },
        {
          "output_type": "stream",
          "name": "stderr",
          "text": [
            "100%|██████████| 208/208 [00:00<00:00, 20130.96it/s]\n",
            "100%|██████████| 208/208 [00:00<00:00, 570952.38it/s]"
          ]
        },
        {
          "output_type": "stream",
          "name": "stdout",
          "text": [
            "Read 144 sentence pairs train\n",
            "Read 62 sentence pairs test\n",
            "Trimmed to 144 sentence train pairs\n",
            "Trimmed to 62 sentence test pairs\n",
            "Counting words...\n",
            "Counted words train:\n",
            "old_rus 735\n",
            "new_rus 708\n",
            "Counted words test:\n",
            "old_rus 399\n",
            "new_rus 381\n",
            "['отъ чина бо почиваеть и звѣрь  и пътици и человѣци', 'ибо по этому установленью отдыхают и зверь  и птицы  и люди']\n"
          ]
        },
        {
          "output_type": "stream",
          "name": "stderr",
          "text": [
            "\n"
          ]
        }
      ]
    },
    {
      "cell_type": "markdown",
      "source": [
        "Look at the data. Max lenght of train dataset."
      ],
      "metadata": {
        "id": "txu4rtjr8YTx"
      }
    },
    {
      "cell_type": "code",
      "source": [
        "len_train=([len(pair[0]), len(pair[1])] for pair in train_pairs)\n",
        "max(len_train)"
      ],
      "metadata": {
        "colab": {
          "base_uri": "https://localhost:8080/"
        },
        "id": "yPwxTZ7NMMUp",
        "outputId": "7ab0031d-8198-4173-c477-ea7e753bd380"
      },
      "execution_count": null,
      "outputs": [
        {
          "output_type": "execute_result",
          "data": {
            "text/plain": [
              "[197, 210]"
            ]
          },
          "metadata": {},
          "execution_count": 14
        }
      ]
    },
    {
      "cell_type": "markdown",
      "source": [
        "Max lenght of test dataset."
      ],
      "metadata": {
        "id": "MYIpyrs4-WtM"
      }
    },
    {
      "cell_type": "code",
      "source": [
        "max([len(pair[0]), len(pair[1])] for pair in test_pairs)"
      ],
      "metadata": {
        "colab": {
          "base_uri": "https://localhost:8080/"
        },
        "outputId": "0c3d64a5-d022-4e0d-8732-ce50c8e63893",
        "id": "pPq-p3_V-OpQ"
      },
      "execution_count": 39,
      "outputs": [
        {
          "output_type": "execute_result",
          "data": {
            "text/plain": [
              "[203, 190]"
            ]
          },
          "metadata": {},
          "execution_count": 39
        }
      ]
    },
    {
      "cell_type": "markdown",
      "source": [
        "Calculation of the length of the sentence."
      ],
      "metadata": {
        "id": "XQf-0Thp9Kzh"
      }
    },
    {
      "cell_type": "code",
      "source": [
        "def len_pair(pair):\n",
        "  len_0=len(pair[0])\n",
        "  len_1=len(pair[1])\n",
        "  return len_0, len_1\n",
        "len_train_old=[] \n",
        "len_train_new=[] \n",
        "for pair in train_pairs:  \n",
        "  old, new=len_pair(pair)\n",
        "  len_train_old.append(old)\n",
        "  len_train_new.append(new)"
      ],
      "metadata": {
        "id": "zNx-I_xxt_qr"
      },
      "execution_count": null,
      "outputs": []
    },
    {
      "cell_type": "markdown",
      "source": [
        "Look at the sentence, which is longer then 150 symbols."
      ],
      "metadata": {
        "id": "YC544TnV9YIV"
      }
    },
    {
      "cell_type": "code",
      "source": [
        "big_pair=[pair[1] for pair in train_pairs if len(pair[1])>150]\n",
        "big_pair"
      ],
      "metadata": {
        "colab": {
          "base_uri": "https://localhost:8080/"
        },
        "id": "suQOTMwJzKlz",
        "outputId": "edb5ed44-9c25-4e03-8614-53fc4c7cdc35"
      },
      "execution_count": null,
      "outputs": [
        {
          "output_type": "execute_result",
          "data": {
            "text/plain": [
              "['вот что рассказал своим ученикам отец пафнутии  услышав это от тех  кого батыи поставил властителями по русским городам и кто называется на языке тех народов баскаками ',\n",
              " 'и вот в тот город пришли странники  увидев их  обрадовавшись  юноша  побежав  поклонился им  с любовью приветствовал их и спросил их  откуда они и куда идут ',\n",
              " 'однажды  когда я стоял в москве в соборнои церкви честного успения владычицы нашеи богородицы  я увидел некоего человека  которыи усердно молился великомученику никите и пытался узнать  где находится его икона ',\n",
              " 'горлица – птица  любящая своего супруга  и если погибнет один из них   уходит другои в пустыню и садится на засохшем дереве  плача по своему супругу  что больше не соединится с ним никогда ',\n",
              " 'сын  непослушныи отцу или матери  которыи гневит отца и досаждает матери  считающии себя праведным перед богом  но он хуже язычника  сообщник нечестивых ']"
            ]
          },
          "metadata": {},
          "execution_count": 16
        }
      ]
    },
    {
      "cell_type": "markdown",
      "source": [
        ""
      ],
      "metadata": {
        "id": "U7rh3125-B8L"
      }
    },
    {
      "cell_type": "markdown",
      "source": [
        ""
      ],
      "metadata": {
        "id": "2qNwZIyT9_71"
      }
    },
    {
      "cell_type": "code",
      "source": [
        "fig, ax = plt.subplots()\n",
        "ax.hist(len_train_old, bins=[1.1, 2.1, 3.1, 5, 30, 56, 100], linewidth=0.5, edgecolor=\"white\")\n",
        "plt.title('Length the old slavinic sentence');\n",
        "\n"
      ],
      "metadata": {
        "colab": {
          "base_uri": "https://localhost:8080/",
          "height": 281
        },
        "id": "Rt6cPjG9s9gX",
        "outputId": "6b931e30-02c0-4d7e-9715-0127457e4edb"
      },
      "execution_count": 37,
      "outputs": [
        {
          "output_type": "display_data",
          "data": {
            "text/plain": [
              "<Figure size 432x288 with 1 Axes>"
            ],
            "image/png": "[encoded data removed]"
          },
          "metadata": {}
        }
      ]
    },
    {
      "cell_type": "code",
      "source": [
        "fig, ax = plt.subplots()\n",
        "ax.hist(len_train_new, bins=[1.1, 2.1, 3.1, 5, 30, 56, 100], linewidth=0.5, edgecolor=\"white\")\n",
        "plt.title('Length the russian sentence');"
      ],
      "metadata": {
        "colab": {
          "base_uri": "https://localhost:8080/",
          "height": 281
        },
        "id": "qZjhiS500POb",
        "outputId": "e2382135-cda9-49e3-c76c-342b39979931"
      },
      "execution_count": 38,
      "outputs": [
        {
          "output_type": "display_data",
          "data": {
            "text/plain": [
              "<Figure size 432x288 with 1 Axes>"
            ],
            "image/png": "[encoded data removed]"
          },
          "metadata": {}
        }
      ]
    },
    {
      "cell_type": "markdown",
      "source": [
        "Prepare train and test loader."
      ],
      "metadata": {
        "id": "_aMDalpI-mOc"
      }
    },
    {
      "cell_type": "code",
      "source": [
        "training_pairs = [tensorsFromPair(train_pair, train_input_lang, train_output_lang, MAX_LENGTH=config['MAX_LENGTH'])\n",
        "                      for train_pair in tqdm(train_pairs)]"
      ],
      "metadata": {
        "id": "5tmRdZ9ykKb-",
        "colab": {
          "base_uri": "https://localhost:8080/"
        },
        "outputId": "14004738-5296-4773-eefb-9788ef1c781f"
      },
      "execution_count": 13,
      "outputs": [
        {
          "output_type": "stream",
          "name": "stderr",
          "text": [
            "100%|██████████| 144/144 [00:02<00:00, 52.67it/s]\n"
          ]
        }
      ]
    },
    {
      "cell_type": "code",
      "source": [
        "testing_pairs = [tensorsFromPair(test_pair, test_input_lang, test_output_lang, MAX_LENGTH=config['MAX_LENGTH'])\n",
        "                      for test_pair in tqdm(test_pairs)]"
      ],
      "metadata": {
        "id": "tYoWpdvzvSc7",
        "colab": {
          "base_uri": "https://localhost:8080/"
        },
        "outputId": "64e53111-0fb0-470d-832f-5b45e886ae62"
      },
      "execution_count": 14,
      "outputs": [
        {
          "output_type": "stream",
          "name": "stderr",
          "text": [
            "100%|██████████| 62/62 [00:00<00:00, 10730.66it/s]\n"
          ]
        }
      ]
    },
    {
      "cell_type": "code",
      "source": [
        "train_loader = torch.utils.data.DataLoader(training_pairs, batch_size=config['batch_size'], shuffle=True)"
      ],
      "metadata": {
        "id": "cXrJuTEAlbc3"
      },
      "execution_count": 15,
      "outputs": []
    },
    {
      "cell_type": "code",
      "source": [
        "test_loader = torch.utils.data.DataLoader(testing_pairs, batch_size=config['batch_size'], shuffle=True)"
      ],
      "metadata": {
        "id": "j82uT7aP4Ok-"
      },
      "execution_count": 16,
      "outputs": []
    },
    {
      "cell_type": "markdown",
      "source": [
        "Helper function."
      ],
      "metadata": {
        "id": "O5kcPfH7-17F"
      }
    },
    {
      "cell_type": "code",
      "source": [
        "def asMinutes(s):\n",
        "    m = math.floor(s / 60)\n",
        "    s -= m * 60\n",
        "    return '%dm %ds' % (m, s)\n",
        "\n",
        "\n",
        "def timeSince(since, percent):\n",
        "    now = time.time()\n",
        "    s = now - since\n",
        "    es = s / (percent)\n",
        "    rs = es - s\n",
        "    return '%s (- %s)' % (asMinutes(s), asMinutes(rs))"
      ],
      "metadata": {
        "id": "uGdO8K7k-kNy"
      },
      "execution_count": 17,
      "outputs": []
    },
    {
      "cell_type": "code",
      "source": [
        "def plot_learning_curves(history):\n",
        "    sns.set_style(style='whitegrid')\n",
        "    fig = plt.figure(figsize=(10,5))\n",
        "\n",
        "    # plt.subplot(1,3,1)\n",
        "    plt.title('Лосс', fontsize=15)\n",
        "    plt.plot(history['loss']['train'], label='train')\n",
        "    plt.plot(history['loss']['val'], label='val')\n",
        "    plt.xlabel('эпоха', fontsize=15)\n",
        "    plt.legend()\n",
        "    plt.show()"
      ],
      "metadata": {
        "id": "NhFn9U_GJd2K"
      },
      "execution_count": 18,
      "outputs": []
    },
    {
      "cell_type": "markdown",
      "source": [
        "Train function."
      ],
      "metadata": {
        "id": "ySC5Ztep_Cbo"
      }
    },
    {
      "cell_type": "code",
      "source": [
        "#model with data loader\n",
        "def train_modelIters(model, optimizer, loader, test_loader, num_epochs=6):\n",
        "    start = time.time()\n",
        "    itog_losses = []\n",
        "    \n",
        "    history = defaultdict(lambda: defaultdict(list))\n",
        "    \n",
        "      \n",
        "    criterion = nn.NLLLoss()\n",
        "    for epoch in tqdm(range(num_epochs), desc='epochs'):\n",
        "      model.train(True)\n",
        "      \n",
        "      plot_losses = []\n",
        "      \n",
        "      plot_loss_total = 0\n",
        "\n",
        "      val_losses = []\n",
        "      val_loss_total = 0  \n",
        "      \n",
        "      #train loop\n",
        "      for batch in tqdm(loader, desc='train sample batches'):\n",
        "          \n",
        "          input_tensor = batch[0].to(device)\n",
        "          target_tensor = batch[1].to(device)\n",
        "\n",
        "          \n",
        "          decoder_outputs = model(input_tensor[:,:,0], target_tensor[:,:,0])\n",
        "          target_tensor = target_tensor.view(-1)\n",
        "          output_dim = decoder_outputs.shape[-1]  \n",
        "          decoder_outputs=decoder_outputs.view(-1, output_dim)  \n",
        "          \n",
        "          loss = criterion(decoder_outputs, target_tensor)   \n",
        "          \n",
        "          loss.backward(retain_graph=True)    \n",
        "          optimizer.step()\n",
        "          optimizer.zero_grad()\n",
        "          optimizer.zero_grad()\n",
        "          \n",
        "          plot_loss_total += loss.item()\n",
        "\n",
        "      \n",
        "      plot_loss_avg = plot_loss_total /  len(loader)\n",
        "      history['loss']['train'].append(plot_loss_avg)\n",
        "      \n",
        "      #val loop\n",
        "      model.train(False)\n",
        "      \n",
        "      for batch in tqdm(test_loader, desc='validation sample batches'):\n",
        "        \n",
        "        input_tensor = batch[0].to(device)\n",
        "        target_tensor = batch[1].to(device)\n",
        "        \n",
        "        with torch.no_grad():\n",
        "\n",
        "          decoder_outputs = model(input_tensor[:,:,0], target_tensor[:,:,0],\n",
        "                                  evalute=True)\n",
        "\n",
        "          target_tensor = target_tensor.view(-1)\n",
        "          output_dim = decoder_outputs.shape[-1]  \n",
        "          \n",
        "          decoder_outputs=decoder_outputs.view(-1, output_dim)    \n",
        "\n",
        "          val_loss = criterion(decoder_outputs, target_tensor)\n",
        "          \n",
        "          val_loss_total+= loss.item()\n",
        "      #print losses\n",
        "      val_loss_avg = val_loss_total / len(test_loader)    \n",
        "      history['loss']['val'].append(val_loss_avg)\n",
        "      print('Epoch train loss', plot_loss_avg, end='\\n')\n",
        "      print('Epoch val_loss', val_loss_avg, end='\\n')\n",
        "\n",
        "    #plot losses\n",
        "    plot_learning_curves(history)\n",
        "    return"
      ],
      "metadata": {
        "id": "z71gRnS-ll7D"
      },
      "execution_count": 19,
      "outputs": []
    },
    {
      "cell_type": "markdown",
      "source": [
        "Train model"
      ],
      "metadata": {
        "id": "2HSgEB-WNbRA"
      }
    },
    {
      "cell_type": "code",
      "source": [
        "encoder1 = EncoderRNN(train_input_lang.n_words, config['hidden_size'])\n",
        "attn_decoder1 = AttnDecoderRNN(config['hidden_size'], train_output_lang.n_words, config['MAX_LENGTH'], dropout_p=0.1)\n",
        "model=TONModel(encoder1, attn_decoder1, config['teacher_forcing_ratio']).to(device)\n",
        "\n",
        "optimizer = optim.SGD(model.parameters(), lr=config['lr'])\n",
        "\n",
        "train_modelIters(model, optimizer, train_loader, test_loader, config['num_epochs'])"
      ],
      "metadata": {
        "colab": {
          "base_uri": "https://localhost:8080/",
          "height": 1000
        },
        "id": "xtPIcurnNS58",
        "outputId": "f2918cb5-bb20-495b-dfbc-30a89b55541d"
      },
      "execution_count": 20,
      "outputs": [
        {
          "output_type": "stream",
          "name": "stderr",
          "text": [
            "epochs:   0%|          | 0/6 [00:00<?, ?it/s]\n",
            "train sample batches:   0%|          | 0/9 [00:00<?, ?it/s]\u001b[A\n",
            "train sample batches:  22%|██▏       | 2/9 [00:00<00:00, 12.68it/s]\u001b[A\n",
            "train sample batches:  44%|████▍     | 4/9 [00:00<00:00, 12.82it/s]\u001b[A\n",
            "train sample batches:  67%|██████▋   | 6/9 [00:00<00:00, 12.33it/s]\u001b[A\n",
            "train sample batches: 100%|██████████| 9/9 [00:00<00:00, 12.50it/s]\n",
            "\n",
            "validation sample batches:   0%|          | 0/4 [00:00<?, ?it/s]\u001b[A\n",
            "validation sample batches: 100%|██████████| 4/4 [00:00<00:00, 36.34it/s]\n",
            "epochs:  17%|█▋        | 1/6 [00:00<00:04,  1.17it/s]"
          ]
        },
        {
          "output_type": "stream",
          "name": "stdout",
          "text": [
            "Epoch train loss 5.2938136259714765\n",
            "Epoch val_loss 3.902599573135376\n"
          ]
        },
        {
          "output_type": "stream",
          "name": "stderr",
          "text": [
            "\n",
            "train sample batches:   0%|          | 0/9 [00:00<?, ?it/s]\u001b[A\n",
            "train sample batches:  22%|██▏       | 2/9 [00:00<00:00, 12.49it/s]\u001b[A\n",
            "train sample batches:  44%|████▍     | 4/9 [00:00<00:00, 12.84it/s]\u001b[A\n",
            "train sample batches:  67%|██████▋   | 6/9 [00:00<00:00, 12.86it/s]\u001b[A\n",
            "train sample batches: 100%|██████████| 9/9 [00:00<00:00, 12.60it/s]\n",
            "\n",
            "validation sample batches:   0%|          | 0/4 [00:00<?, ?it/s]\u001b[A\n",
            "validation sample batches: 100%|██████████| 4/4 [00:00<00:00, 34.92it/s]\n",
            "epochs:  33%|███▎      | 2/6 [00:01<00:03,  1.18it/s]"
          ]
        },
        {
          "output_type": "stream",
          "name": "stdout",
          "text": [
            "Epoch train loss 2.1991949213875666\n",
            "Epoch val_loss 1.7156134843826294\n"
          ]
        },
        {
          "output_type": "stream",
          "name": "stderr",
          "text": [
            "\n",
            "train sample batches:   0%|          | 0/9 [00:00<?, ?it/s]\u001b[A\n",
            "train sample batches:  22%|██▏       | 2/9 [00:00<00:00, 12.82it/s]\u001b[A\n",
            "train sample batches:  44%|████▍     | 4/9 [00:00<00:00, 12.73it/s]\u001b[A\n",
            "train sample batches:  67%|██████▋   | 6/9 [00:00<00:00, 12.57it/s]\u001b[A\n",
            "train sample batches: 100%|██████████| 9/9 [00:00<00:00, 12.48it/s]\n",
            "\n",
            "validation sample batches:   0%|          | 0/4 [00:00<?, ?it/s]\u001b[A\n",
            "validation sample batches: 100%|██████████| 4/4 [00:00<00:00, 34.26it/s]\n",
            "epochs:  50%|█████     | 3/6 [00:02<00:02,  1.17it/s]"
          ]
        },
        {
          "output_type": "stream",
          "name": "stdout",
          "text": [
            "Epoch train loss 1.4379188219706218\n",
            "Epoch val_loss 1.5484825372695923\n"
          ]
        },
        {
          "output_type": "stream",
          "name": "stderr",
          "text": [
            "\n",
            "train sample batches:   0%|          | 0/9 [00:00<?, ?it/s]\u001b[A\n",
            "train sample batches:  22%|██▏       | 2/9 [00:00<00:00, 12.85it/s]\u001b[A\n",
            "train sample batches:  44%|████▍     | 4/9 [00:00<00:00, 12.63it/s]\u001b[A\n",
            "train sample batches:  67%|██████▋   | 6/9 [00:00<00:00, 12.46it/s]\u001b[A\n",
            "train sample batches: 100%|██████████| 9/9 [00:00<00:00, 12.65it/s]\n",
            "\n",
            "validation sample batches:   0%|          | 0/4 [00:00<?, ?it/s]\u001b[A\n",
            "validation sample batches: 100%|██████████| 4/4 [00:00<00:00, 37.05it/s]\n",
            "epochs:  67%|██████▋   | 4/6 [00:03<00:01,  1.18it/s]"
          ]
        },
        {
          "output_type": "stream",
          "name": "stdout",
          "text": [
            "Epoch train loss 1.4205320411258273\n",
            "Epoch val_loss 1.1046478748321533\n"
          ]
        },
        {
          "output_type": "stream",
          "name": "stderr",
          "text": [
            "\n",
            "train sample batches:   0%|          | 0/9 [00:00<?, ?it/s]\u001b[A\n",
            "train sample batches:  22%|██▏       | 2/9 [00:00<00:00, 12.30it/s]\u001b[A\n",
            "train sample batches:  44%|████▍     | 4/9 [00:00<00:00, 12.33it/s]\u001b[A\n",
            "train sample batches:  67%|██████▋   | 6/9 [00:00<00:00, 12.50it/s]\u001b[A\n",
            "train sample batches: 100%|██████████| 9/9 [00:00<00:00, 12.52it/s]\n",
            "\n",
            "validation sample batches:   0%|          | 0/4 [00:00<?, ?it/s]\u001b[A\n",
            "validation sample batches: 100%|██████████| 4/4 [00:00<00:00, 35.06it/s]\n",
            "epochs:  83%|████████▎ | 5/6 [00:04<00:00,  1.17it/s]"
          ]
        },
        {
          "output_type": "stream",
          "name": "stdout",
          "text": [
            "Epoch train loss 1.4145083294974432\n",
            "Epoch val_loss 1.403796911239624\n"
          ]
        },
        {
          "output_type": "stream",
          "name": "stderr",
          "text": [
            "\n",
            "train sample batches:   0%|          | 0/9 [00:00<?, ?it/s]\u001b[A\n",
            "train sample batches:  22%|██▏       | 2/9 [00:00<00:00, 12.94it/s]\u001b[A\n",
            "train sample batches:  44%|████▍     | 4/9 [00:00<00:00, 12.49it/s]\u001b[A\n",
            "train sample batches:  67%|██████▋   | 6/9 [00:00<00:00, 12.48it/s]\u001b[A\n",
            "train sample batches: 100%|██████████| 9/9 [00:00<00:00, 12.37it/s]\n",
            "\n",
            "validation sample batches:   0%|          | 0/4 [00:00<?, ?it/s]\u001b[A\n",
            "validation sample batches: 100%|██████████| 4/4 [00:00<00:00, 37.50it/s]\n",
            "epochs: 100%|██████████| 6/6 [00:05<00:00,  1.17it/s]\n"
          ]
        },
        {
          "output_type": "stream",
          "name": "stdout",
          "text": [
            "Epoch train loss 1.4094111522038777\n",
            "Epoch val_loss 1.6871730089187622\n"
          ]
        },
        {
          "output_type": "display_data",
          "data": {
            "text/plain": [
              "<Figure size 720x360 with 1 Axes>"
            ],
            "image/png": "[encoded data removed]"
          },
          "metadata": {}
        }
      ]
    },
    {
      "cell_type": "markdown",
      "source": [
        "Look at the model"
      ],
      "metadata": {
        "id": "nVIn_gx4AZCX"
      }
    },
    {
      "cell_type": "code",
      "source": [
        "model"
      ],
      "metadata": {
        "colab": {
          "base_uri": "https://localhost:8080/"
        },
        "outputId": "669e9de6-c257-41bd-e737-74274ce62396",
        "id": "Gjh4_liaAVv6"
      },
      "execution_count": 42,
      "outputs": [
        {
          "output_type": "execute_result",
          "data": {
            "text/plain": [
              "TONModel(\n",
              "  (encoder): EncoderRNN(\n",
              "    (embedding): Embedding(775, 256)\n",
              "    (gru): GRU(256, 256, batch_first=True)\n",
              "  )\n",
              "  (decoder): AttnDecoderRNN(\n",
              "    (embedding): Embedding(727, 256)\n",
              "    (attn): Linear(in_features=512, out_features=60, bias=True)\n",
              "    (attn_combine): Linear(in_features=512, out_features=256, bias=True)\n",
              "    (dropout): Dropout(p=0.1, inplace=False)\n",
              "    (gru): GRU(256, 256, batch_first=True)\n",
              "    (out): Linear(in_features=256, out_features=727, bias=True)\n",
              "  )\n",
              ")"
            ]
          },
          "metadata": {},
          "execution_count": 42
        }
      ]
    }
  ]
}